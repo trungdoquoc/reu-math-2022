{
  "cells": [
    {
      "cell_type": "markdown",
      "metadata": {
        "id": "MpofWgGancyb"
      },
      "source": [
        "The input of the NN is 1D. "
      ]
    },
    {
      "cell_type": "code",
      "execution_count": 1,
      "metadata": {
        "id": "e-NAhHF3ncye"
      },
      "outputs": [],
      "source": [
        "import numpy as np\n",
        "import copy\n",
        "import torch\n",
        "import torch.nn as nn\n",
        "import math\n",
        "from torch.autograd import Variable\n",
        "import matplotlib.pyplot as plt\n",
        "\n",
        "def quad_fn(a, b, c, x):\n",
        "    return a*x**2 + b*x + c\n",
        "\n",
        "def x_square(x: torch.tensor) -> torch.Tensor:\n",
        "    return x**2\n",
        "\n",
        "# DEFINE GIVEN FUNCTION V(x): ax^2 + bx + c\n",
        "given_fn = x_square"
      ]
    },
    {
      "cell_type": "code",
      "execution_count": null,
      "metadata": {
        "id": "SOtFslmCncyg"
      },
      "outputs": [],
      "source": [
        "# CUSTOM LOSS FUNCTION:\n",
        "# def EpsilonLoss(nn.Module):\n",
        "\n",
        "def epsilon_Loss(v_x, model_u, lower_bound, upper_bound, n_points):\n",
        "    \"\"\"\n",
        "    GOAL: Epsilon function evaluated at u using discretized estimation\n",
        "    minimizing Epsilon(u) = \n",
        "    \n",
        "    ARGS: \n",
        "    n_points (int): number of discretized points on the interval [-L, L]\n",
        "    e.g.: -(L)|---|---|---|---|(L) interval has n_points = 5\n",
        "\n",
        "    v_x (torch.Tensor): function instance\n",
        "    model_u (torch.Tensor): model output\n",
        "    \"\"\"\n",
        "    total = 0\n",
        "    discrete_points = np.linspace(lower_bound, upper_bound, n_points)\n",
        "    h = discrete_points[1] - discrete_points[0]\n",
        "    for i in discrete_points:\n",
        "        x_i = torch.tensor([i], requires_grad=True, dtype=torch.float)\n",
        "        u_xi = model_u(x_i)\n",
        "\n",
        "        u_prime = model_u.u_prime_2(x_i)\n",
        "        \n",
        "        v_xi = v_x.forward(x_i)\n",
        "        t = torch.abs(torch.square(u_prime)) + v_xi*(u_xi**2)\n",
        "        total += t\n",
        "    return 0.5*h*total\n",
        "\n",
        "def epsilon_Loss_penalty(v_x, model_u, lambda_pen,\n",
        "                         lower_bound, upper_bound, n_points):\n",
        "    \"\"\"\n",
        "    \n",
        "    \"\"\"\n",
        "    eps_sum = 0\n",
        "    pen = 0\n",
        "\n",
        "    discrete_points = np.linspace(lower_bound, upper_bound, n_points)\n",
        "    h = discrete_points[1] - discrete_points[0]\n",
        "    for i in discrete_points:\n",
        "        x_i = torch.tensor([i], requires_grad=True, dtype=torch.float)\n",
        "        u_prime = model_u.u_prime_2(x_i)\n",
        "        \n",
        "        u_xi = model_u(x_i)\n",
        "        v_xi = v_x.forward(i)\n",
        "\n",
        "        t = torch.abs(torch.square(u_prime)) + v_xi*torch.square(u_xi)\n",
        "        eps_sum += t\n",
        "    epsilon_fn = 0.5*h*eps_sum\n",
        "    \n",
        "    temp = 0\n",
        "    for i in discrete_points:\n",
        "        x_i = torch.tensor([i], requires_grad=True, dtype=torch.float)\n",
        "        temp += torch.square(model_u(x_i))\n",
        "    \n",
        "    pen = lambda_pen * torch.square((h * temp-1))\n",
        "    return epsilon_fn + pen \n",
        "\n",
        "# NORMALIZE MODEL u(x) OUTPUT:\n",
        "def normalize_u(model_u, lower_bound, upper_bound, n_points):\n",
        "    \"\"\"\n",
        "    Normalize model.output weight by: \n",
        "    model.output *= c\n",
        "    where,\n",
        "    scalar c = 1/denom\n",
        "    \"\"\"\n",
        "    discrete_points = np.linspace(lower_bound, upper_bound, n_points)\n",
        "    h = discrete_points[1] - discrete_points[0]\n",
        "    s = 0\n",
        "    for i in discrete_points:\n",
        "        x_i = torch.tensor([i], requires_grad=True, dtype=torch.float)\n",
        "        s += model_u(x_i)**2\n",
        "    denom = math.sqrt(h) * torch.sqrt(s)\n",
        "    return 1/denom"
      ]
    },
    {
      "cell_type": "code",
      "execution_count": null,
      "metadata": {
        "id": "06QWhlkpQ5Eh"
      },
      "outputs": [],
      "source": [
        "# CREATING MODEL CLASS\n",
        "class Nonlinear(nn.Module):\n",
        "    def __init__(self, n):\n",
        "        # One hidden layer with n nodes\n",
        "        super().__init__()\n",
        "        self.hidden = nn.Linear(1, n)\n",
        "        self.output = nn.Linear(n, 1)\n",
        "        \n",
        "        self.sigmoid = nn.Sigmoid()\n",
        "        self.tanh = nn.Tanh()\n",
        "        self.target_fn = given_fn\n",
        "\n",
        "    def forward(self, x, use_tanh_fn = False):\n",
        "        if use_tanh_fn == True:\n",
        "            x = self.hidden(x)\n",
        "            x = self.tanh(x)\n",
        "            x = self.output(x)\n",
        "        else:\n",
        "            x = self.hidden(x)\n",
        "            x = self.sigmoid(x)\n",
        "            x = self.output(x)\n",
        "        return x\n",
        "\n",
        "    def normalize_model(self, lower_bound, upper_bound, n_points):\n",
        "        \"\"\"\n",
        "        GOAL: Normalize the output weight layer\n",
        "        \"\"\"\n",
        "        print(\"Before normalization: \")\n",
        "        print(self.output.weight.data)\n",
        "        print(self.output.bias.data)\n",
        "        \n",
        "        c = normalize_u(self, lower_bound, upper_bound, n_points)\n",
        "        self.output.weight.data.copy_(c.item() * self.output.weight.data)\n",
        "        self.output.bias.data.copy_(c.item() * self.output.bias.data)\n",
        "\n",
        "        print(\"After normalization: \")\n",
        "        print(self.output.weight.data)\n",
        "        print(self.output.bias.data)\n",
        "        print(\"c value = \" + str(c))\n",
        "\n",
        "        return \n",
        "\n",
        "    def u_prime_2(self, input):\n",
        "        i_tensor = torch.tensor([input.item()], requires_grad=True, dtype=torch.float)\n",
        "        clone_model = copy.deepcopy(self)\n",
        "        res = clone_model(i_tensor)\n",
        "        res.backward()\n",
        "        \n",
        "        val = 0\n",
        "        val += i_tensor.grad\n",
        "\n",
        "        del i_tensor\n",
        "        del clone_model\n",
        "        \n",
        "        return val\n",
        "\n",
        "    def u_prime(self, input):\n",
        "        \"\"\"\n",
        "        NN with 1 hidden node layer is of the form:\n",
        "        u(x) = SUM_i_to_N(a_i * sigmoid(w.x + b))\n",
        "\n",
        "        where\n",
        "        a_i is the corresponding weight of self.output layerq\n",
        "        w is self.hidden.weight vector\n",
        "        b is self.hidden.bias vector\n",
        "        sigmoid(w.x + b) is the sigmoid-activated hidden vector\n",
        "\n",
        "        Formula of u'(x) (for 1 hidden layer NN):\n",
        "        u'(x) = SUM_i_to_N(w_i*a_i*sigmoid'(w_i*x+b))\n",
        "        Note: sigmoid'(w_i*x +b) = sigmoid(w_i*x+b)*(1-sigmoid(w_i*x+b))\n",
        "        \"\"\"\n",
        "        a_i = self.output.weight.data\n",
        "        w_i = torch.transpose(self.hidden.weight.data, 0, 1)\n",
        "        wi_ai = w_i * a_i\n",
        "\n",
        "        hid_layer = self.hidden(input)\n",
        "        hid_layer_T = torch.reshape(hid_layer, (list(hid_layer.shape)[0], 1))\n",
        "        m = hid_layer_T * (1-hid_layer_T)\n",
        "\n",
        "        return wi_ai @ m\n",
        "    \n",
        "# TRANING MODEL\n",
        "    def train_network_with_penalty(self, num_epochs, v_x, optimizer, lambda_pen,\n",
        "                                    lower_bound, upper_bound, n_points):\n",
        "        # For plotting loss value over epochs:\n",
        "        x_epochs = []\n",
        "        y_loss = []\n",
        "        y_loss_pen = []\n",
        "\n",
        "        # stopping criterion:\n",
        "        stop_counter = 0\n",
        "\n",
        "        for epoch in range(num_epochs):\n",
        "            optimizer.zero_grad()\n",
        "            loss_pen = epsilon_Loss_penalty(v_x, self, lambda_pen,\n",
        "                                        lower_bound, upper_bound, n_points)\n",
        "            loss = epsilon_Loss(v_x, self,\n",
        "                                lower_bound, upper_bound, n_points)\n",
        "            \n",
        "            y_loss_pen.append(loss_pen.detach().numpy().item())\n",
        "            y_loss.append(loss.detach().numpy().item())\n",
        "            x_epochs.append(epoch)\n",
        "\n",
        "            #check if need to stop training:\n",
        "            if epoch > 0 and stop_counter >= 5:\n",
        "\n",
        "                #Normalize model before return\n",
        "                self.normalize_model(lower_bound, upper_bound, n_points)\n",
        "\n",
        "                print(\"LOSS VALUE WITH LAMBDA PENALTY = \" \n",
        "                      + str(epsilon_Loss_penalty(v_x, self, lambda_pen,\n",
        "                                                 lower_bound, upper_bound, n_points)))\n",
        "                print(\"LOSS VALUE  = \" \n",
        "                      + str(epsilon_Loss(v_x, self, lower_bound, upper_bound, n_points)))\n",
        "                \n",
        "                break\n",
        "            elif epoch > 0 and stop_counter < 5:\n",
        "                if torch.abs(y_loss_pen[epoch-1]-loss_pen) <= 1e-5:\n",
        "                    stop_counter += 1\n",
        "                else:\n",
        "                    stop_counter = 0\n",
        "            else:\n",
        "                print(\"Uncatched case\")\n",
        "\n",
        "            print('epoch {}, loss with penalty {}'.format(epoch, loss_pen.item()))\n",
        "            loss_pen.backward()\n",
        "            optimizer.step()\n",
        "\n",
        "        return (x_epochs, y_loss_pen, y_loss)\n",
        "\n",
        "    def train_network(self, num_epochs, v_x, optimizer,\n",
        "                                    lower_bound, upper_bound, n_points):\n",
        "        # For plotting loss value over epochs:\n",
        "        x_epochs = []\n",
        "        y_loss = []\n",
        "        \n",
        "        # stopping criterion:\n",
        "        stop_counter = 0\n",
        "\n",
        "        for epoch in range(num_epochs):\n",
        "\n",
        "            if epoch > 0 and epoch % 50 == 0:\n",
        "                c = normalize_u(self, lower_bound, upper_bound, n_points)\n",
        "                print(\"Pre normalize: \")\n",
        "                print(self.output.weight.data)\n",
        "                print(self.output.bias.data)\n",
        "                print(\"After normalize: \")\n",
        "                \n",
        "                self.normalize_model(lower_bound, upper_bound, n_points)\n",
        "                \n",
        "                print(self.output.weight.data)\n",
        "                print(self.output.bias.data)\n",
        "                print(\"c value = \" + str(c))\n",
        "            optimizer.zero_grad()\n",
        "            loss = epsilon_Loss(v_x, self,\n",
        "                                lower_bound, upper_bound, n_points)\n",
        "            y_loss.append(loss.detach().numpy().item())\n",
        "            x_epochs.append(epoch)\n",
        "            #check if need to stop training:\n",
        "            if epoch > 0 and stop_counter >= 5:\n",
        "                print(\"LOSS VALUE = \" \n",
        "                      + str(epsilon_Loss(v_x, self, lower_bound, upper_bound, n_points)))\n",
        "                break\n",
        "            elif epoch > 0 and stop_counter < 5:\n",
        "                if torch.abs(y_loss[epoch-1]-loss) <= 1e-5:\n",
        "                    stop_counter += 1\n",
        "                else:\n",
        "                    stop_counter = 0\n",
        "\n",
        "            print('epoch {}, loss {}'.format(epoch, loss.item()))\n",
        "            loss.backward()\n",
        "            optimizer.step()\n",
        "\n",
        "        return (x_epochs, y_loss)\n",
        "        "
      ]
    },
    {
      "cell_type": "code",
      "execution_count": 2,
      "metadata": {
        "id": "hbBxk8_fncyl",
        "outputId": "b25ffde6-c1d7-4402-fde9-4d4cb3ee0f63",
        "colab": {
          "base_uri": "https://localhost:8080/",
          "height": 236
        }
      },
      "outputs": [
        {
          "output_type": "error",
          "ename": "NameError",
          "evalue": "ignored",
          "traceback": [
            "\u001b[0;31m---------------------------------------------------------------------------\u001b[0m",
            "\u001b[0;31mNameError\u001b[0m                                 Traceback (most recent call last)",
            "\u001b[0;32m<ipython-input-2-1c127951878d>\u001b[0m in \u001b[0;36m<module>\u001b[0;34m()\u001b[0m\n\u001b[1;32m      5\u001b[0m \u001b[0;34m\u001b[0m\u001b[0m\n\u001b[1;32m      6\u001b[0m \u001b[0;31m#INIT MODEL\u001b[0m\u001b[0;34m\u001b[0m\u001b[0;34m\u001b[0m\u001b[0;34m\u001b[0m\u001b[0m\n\u001b[0;32m----> 7\u001b[0;31m \u001b[0mmodel\u001b[0m \u001b[0;34m=\u001b[0m \u001b[0mNonlinear\u001b[0m\u001b[0;34m(\u001b[0m\u001b[0;36m20\u001b[0m\u001b[0;34m)\u001b[0m\u001b[0;34m\u001b[0m\u001b[0;34m\u001b[0m\u001b[0m\n\u001b[0m\u001b[1;32m      8\u001b[0m \u001b[0;32mif\u001b[0m \u001b[0mtorch\u001b[0m\u001b[0;34m.\u001b[0m\u001b[0mcuda\u001b[0m\u001b[0;34m.\u001b[0m\u001b[0mis_available\u001b[0m\u001b[0;34m(\u001b[0m\u001b[0;34m)\u001b[0m\u001b[0;34m:\u001b[0m\u001b[0;34m\u001b[0m\u001b[0;34m\u001b[0m\u001b[0m\n\u001b[1;32m      9\u001b[0m     \u001b[0mmodel\u001b[0m\u001b[0;34m.\u001b[0m\u001b[0mcuda\u001b[0m\u001b[0;34m(\u001b[0m\u001b[0;34m)\u001b[0m\u001b[0;34m\u001b[0m\u001b[0;34m\u001b[0m\u001b[0m\n",
            "\u001b[0;31mNameError\u001b[0m: name 'Nonlinear' is not defined"
          ]
        }
      ],
      "source": [
        "# DEFINE HYPER-PARAMETERS\n",
        "batch_size = 50\n",
        "learningRate = 0.05\n",
        "num_epochs = 2000\n",
        "\n",
        "#INIT MODEL\n",
        "model = Nonlinear(20)\n",
        "if torch.cuda.is_available():\n",
        "    model.cuda()\n",
        "\n",
        "# INIT OPTIMIZER CLASS\n",
        "# Adam:\n",
        "adam_optimizer = torch.optim.Adam(model.parameters(), \n",
        "                                    lr=learningRate, \n",
        "                                    betas=(0.9, 0.999), \n",
        "                                    eps=1e-08, \n",
        "                                    weight_decay=0, \n",
        "                                    amsgrad=False)"
      ]
    },
    {
      "cell_type": "code",
      "execution_count": 3,
      "metadata": {
        "colab": {
          "base_uri": "https://localhost:8080/"
        },
        "id": "EstQ_ILqQeOt",
        "outputId": "6a054e21-5a38-4756-8ccb-ca074eb6de59"
      },
      "outputs": [
        {
          "output_type": "stream",
          "name": "stdout",
          "text": [
            "(1000, 1) (1000, 1)\n"
          ]
        }
      ],
      "source": [
        "INPUT_SIZE = 1\n",
        "OUTPUT_SIZE = 1\n",
        "\n",
        "LAMBDA_PEN = 100\n",
        "LOWER_BOUND = -6\n",
        "UPPER_BOUND = 6\n",
        "N_POINTS = 1000\n",
        "\n",
        "# CREATING DATASET:\n",
        "x_values = [i for i in np.linspace(LOWER_BOUND, UPPER_BOUND, N_POINTS)]\n",
        "y_values = [given_fn(i) for i in x_values]\n",
        "\n",
        "x_train = np.array(x_values, dtype=np.float32).reshape(-1, 1)\n",
        "y_train = np.array(y_values, dtype=np.float32).reshape(-1, 1)\n",
        "\n",
        "print(x_train.shape, y_train.shape)"
      ]
    },
    {
      "cell_type": "code",
      "execution_count": null,
      "metadata": {
        "id": "-0I3uihu39vf"
      },
      "outputs": [],
      "source": [
        "model_2 = Nonlinear(20)\n",
        "adam_optimizer_2 = torch.optim.Adam(model_2.parameters(), \n",
        "                                    lr=learningRate, \n",
        "                                    betas=(0.9, 0.999), \n",
        "                                    eps=1e-08, \n",
        "                                    weight_decay=0, \n",
        "                                    amsgrad=False)\n"
      ]
    },
    {
      "cell_type": "code",
      "execution_count": 4,
      "metadata": {
        "id": "sjtOBhyZLspO"
      },
      "outputs": [],
      "source": [
        "# PLOT DATA\n",
        "def plot_figure(x_val, y_val, x_test=None, predicted=None):\n",
        "    plt.clf()\n",
        "    plt.figure(figsize=(8, 6), dpi=80)\n",
        "    plt.plot(x_val, y_val, '--', label='True data', alpha=0.5)\n",
        "    if predicted != None:\n",
        "        plt.plot(x_test, predicted, '--', label='Predictions', alpha=0.5)\n",
        "    plt.legend(loc='best')\n",
        "    plt.show()"
      ]
    },
    {
      "cell_type": "code",
      "execution_count": null,
      "metadata": {
        "colab": {
          "base_uri": "https://localhost:8080/"
        },
        "id": "jrXELb9XQRWk",
        "outputId": "86081822-01d3-47b6-d322-2ecbe6e51c16"
      },
      "outputs": [
        {
          "output_type": "stream",
          "name": "stdout",
          "text": [
            "Mounted at /content/gdrive\n"
          ]
        }
      ],
      "source": [
        "from google.colab import drive\n",
        "drive.mount('/content/gdrive')"
      ]
    },
    {
      "cell_type": "code",
      "execution_count": null,
      "metadata": {
        "id": "1dJT6QtaQn_k"
      },
      "outputs": [],
      "source": [
        "#SAVE MODEL TO DRIVE\n",
        "model_save_name = 'latest_model.pt'\n",
        "path = F\"/content/gdrive/My Drive/{model_save_name}\" \n",
        "torch.save(model.state_dict(), path)"
      ]
    },
    {
      "cell_type": "code",
      "execution_count": null,
      "metadata": {
        "id": "OM_PKa9WRBGk",
        "outputId": "be55f720-ce35-4f27-88d4-16ae0cf22931",
        "colab": {
          "base_uri": "https://localhost:8080/"
        }
      },
      "outputs": [
        {
          "output_type": "execute_result",
          "data": {
            "text/plain": [
              "<All keys matched successfully>"
            ]
          },
          "metadata": {},
          "execution_count": 47
        }
      ],
      "source": [
        "#LOAD MODEL FROM DRIVE\n",
        "model_save_name = 'latest_model.pt'\n",
        "path = F\"/content/gdrive/My Drive/{model_save_name}\"\n",
        "model.load_state_dict(torch.load(path))"
      ]
    },
    {
      "cell_type": "code",
      "execution_count": null,
      "metadata": {
        "id": "p7j57wogg0DM"
      },
      "outputs": [],
      "source": [
        "graph_val_pen = model.train_network_with_penalty(num_epochs, given_fn, adam_optimizer, LAMBDA_PEN, LOWER_BOUND, UPPER_BOUND, N_POINTS)"
      ]
    },
    {
      "cell_type": "code",
      "execution_count": null,
      "metadata": {
        "id": "WZbaJ3MsB08r"
      },
      "outputs": [],
      "source": [
        "graph_val = model_2.train_network(num_epochs, given_fn, adam_optimizer_2, LOWER_BOUND, UPPER_BOUND, N_POINTS)"
      ]
    },
    {
      "cell_type": "code",
      "execution_count": null,
      "metadata": {
        "id": "Hl5KH2lsp642"
      },
      "outputs": [],
      "source": [
        "### Model result using epsilon loss function with penalty\n",
        "print(\"Penalty lambda value = \" + str(LAMBDA_PEN))\n",
        "print(\"Interval is [{lb}, {ub}], with N_POINTS = {npoint}\".format(lb=LOWER_BOUND, \n",
        "                                                              ub=UPPER_BOUND,\n",
        "                                                              npoint=N_POINTS))\n",
        "print(\"\\n\")\n",
        "\n",
        "# Plot 1: The epsilon_loss with lambda penalty:\n",
        "print(\"Plot 1: The epsilon_loss_with_penalty along the training epochs:\")\n",
        "x_epochs = graph_val_pen[0]\n",
        "plot_figure(x_epochs, graph_val_pen[1])\n",
        "\n",
        "print(\"\\n\")\n",
        "# Plot 2: The epsilon_loss value when using train with penalty:\n",
        "print(\"Plot 2: The epsilon_loss value along the training epochs:\")\n",
        "\n",
        "plot_figure(x_epochs, graph_val_pen[2])\n",
        "print(\"\\n\")\n",
        "\n",
        "# plot_figure(x_values, model_output)"
      ]
    },
    {
      "cell_type": "code",
      "source": [
        "# Plot 3: the model's output with input from the interval [LOWER_BOUND, UPPER_BOUND]:\n",
        "print(\"Plot 3: the model's output with input from the interval: \")\n",
        "x_vals = [torch.tensor([i], requires_grad=True, dtype=torch.float) for i in x_train]\n",
        "\n",
        "model_output = []\n",
        "for i in x_vals:\n",
        "    model_output.append(model(i).detach().numpy().item())\n",
        "\n",
        "plot_figure(x_values, model_output)"
      ],
      "metadata": {
        "id": "xN_h2WC-sPr_",
        "outputId": "59863eef-c950-406f-cc13-5f97447375da",
        "colab": {
          "base_uri": "https://localhost:8080/",
          "height": 501
        }
      },
      "execution_count": null,
      "outputs": [
        {
          "output_type": "stream",
          "name": "stdout",
          "text": [
            "Plot 3: the model's output with input from the interval: \n"
          ]
        },
        {
          "output_type": "stream",
          "name": "stderr",
          "text": [
            "/usr/local/lib/python3.7/dist-packages/ipykernel_launcher.py:3: UserWarning: Creating a tensor from a list of numpy.ndarrays is extremely slow. Please consider converting the list to a single numpy.ndarray with numpy.array() before converting to a tensor. (Triggered internally at  ../torch/csrc/utils/tensor_new.cpp:201.)\n",
            "  This is separate from the ipykernel package so we can avoid doing imports until\n"
          ]
        },
        {
          "output_type": "display_data",
          "data": {
            "text/plain": [
              "<Figure size 432x288 with 0 Axes>"
            ]
          },
          "metadata": {}
        },
        {
          "output_type": "display_data",
          "data": {
            "text/plain": [
              "<Figure size 640x480 with 1 Axes>"
            ],
            "image/png": "[encoded data removed]"
          },
          "metadata": {
            "needs_background": "light"
          }
        }
      ]
    },
    {
      "cell_type": "code",
      "execution_count": null,
      "metadata": {
        "colab": {
          "base_uri": "https://localhost:8080/"
        },
        "id": "RNuH20ZXPS-4",
        "outputId": "68267824-4d7b-4772-acb2-7fbadeb8ed73"
      },
      "outputs": [
        {
          "data": {
            "text/plain": [
              "tensor([23.2552], grad_fn=<MulBackward0>)"
            ]
          },
          "execution_count": 51,
          "metadata": {},
          "output_type": "execute_result"
        }
      ],
      "source": [
        "epsilon_Loss(given_fn, model, -6, 6, 1001)"
      ]
    },
    {
      "cell_type": "code",
      "execution_count": null,
      "metadata": {
        "colab": {
          "base_uri": "https://localhost:8080/",
          "height": 430
        },
        "id": "jd2I0gRqHO8Z",
        "outputId": "28b2760d-4f17-40ca-e5f7-39f4cf98251d"
      },
      "outputs": [
        {
          "data": {
            "text/plain": [
              "<Figure size 432x288 with 0 Axes>"
            ]
          },
          "metadata": {},
          "output_type": "display_data"
        },
        {
          "data": {
            "image/png": "[encoded data removed]",
            "text/plain": [
              "<Figure size 640x480 with 1 Axes>"
            ]
          },
          "metadata": {
            "needs_background": "light"
          },
          "output_type": "display_data"
        }
      ],
      "source": [
        "diff = [None for i in range(len(graph_val_pen[2]))]\n",
        "for i in range(len(graph_val_pen[2])):\n",
        "    diff[i] = abs(graph_val_pen[2][i]-graph_val_pen[1][i])\n",
        "\n",
        "plot_figure(x_epochs[400:], diff[400:])"
      ]
    },
    {
      "cell_type": "code",
      "execution_count": null,
      "metadata": {
        "colab": {
          "base_uri": "https://localhost:8080/",
          "height": 430
        },
        "id": "yOAl63W0qaq_",
        "outputId": "0966c5cc-146b-4f15-d330-522a5eafc1e6"
      },
      "outputs": [
        {
          "data": {
            "text/plain": [
              "<Figure size 432x288 with 0 Axes>"
            ]
          },
          "metadata": {},
          "output_type": "display_data"
        },
        {
          "data": {
            "image/png": "[encoded data removed]",
            "text/plain": [
              "<Figure size 640x480 with 1 Axes>"
            ]
          },
          "metadata": {
            "needs_background": "light"
          },
          "output_type": "display_data"
        }
      ],
      "source": [
        "plot_figure(x_train, y_train)"
      ]
    },
    {
      "cell_type": "code",
      "execution_count": null,
      "metadata": {
        "id": "el6VL83Qddfj"
      },
      "outputs": [],
      "source": [
        ""
      ]
    },
    {
      "cell_type": "markdown",
      "metadata": {
        "id": "VPn9pDNlm88W"
      },
      "source": [
        "# HOW TO TRAIN THE NN MODEL:\n",
        "1. Reset adam_optimizer: \n",
        "```adam_opt.zero_grad()```\n",
        "2. Calculate loss\n",
        "3. Update the optimizer: \n",
        "```adam_opt.step()```\n",
        "\n",
        "\n",
        "        weight = weight - lr * gradient\n",
        "\n",
        "-> use lr and gradient to \"improve\" weight layer. \n",
        "\n",
        "Explanation:\n",
        "```adam_opt.step()```: Update the model's parameters \n"
      ]
    },
    {
      "cell_type": "markdown",
      "metadata": {
        "id": "ZyuNXuz-iLBZ"
      },
      "source": [
        "https://neptune.ai/blog/pytorch-loss-functions\n",
        "https://stackoverflow.com/questions/53980031/pytorch-custom-loss-function\n",
        "https://stackoverflow.com/questions/65947284/loss-with-custom-backward-function-in-pytorch-exploding-loss-in-simple-mse-exa\n",
        "https://www.youtube.com/watch?v=ma2KXWblllc"
      ]
    },
    {
      "cell_type": "code",
      "source": [
        "finite_diff_method(LOWER_BOUND, UPPER_BOUND, N_POINTS, given_fn)"
      ],
      "metadata": {
        "id": "Q9c2QZrKFaPu",
        "outputId": "05c9c414-5496-450d-a3e0-0c52c1b9dc0e",
        "colab": {
          "base_uri": "https://localhost:8080/"
        }
      },
      "execution_count": null,
      "outputs": [
        {
          "output_type": "execute_result",
          "data": {
            "text/plain": [
              "(array([0.999991]),\n",
              " array([-1.51713800e-09, -3.04192274e-09, -4.58197678e-09, ...,\n",
              "        -4.58198910e-09, -3.04193106e-09, -1.51714438e-09]))"
            ]
          },
          "metadata": {},
          "execution_count": 26
        }
      ]
    },
    {
      "cell_type": "code",
      "execution_count": null,
      "metadata": {
        "id": "RidKLfl7rrQ6",
        "outputId": "8b89434a-071a-4085-ff3f-bd413b5f2bd5",
        "colab": {
          "base_uri": "https://localhost:8080/"
        }
      },
      "outputs": [
        {
          "name": "stdout",
          "output_type": "stream",
          "text": [
            "enter lower limit of the domain: -6\n",
            "enter upper limit of the domain: 6\n",
            "enter number of grid points: 1001\n"
          ]
        }
      ],
      "source": [
        "a = float(input('enter lower limit of the domain: '))\n",
        "b = float(input('enter upper limit of the domain: '))\n",
        "N = int(input('enter number of grid points: '))"
      ]
    },
    {
      "cell_type": "markdown",
      "metadata": {
        "id": "aGwkRNGurrQ7"
      },
      "source": [
        "We have the linear system Ax = λx\n",
        "\n",
        "Then decompose A into H + V, A = H+V"
      ]
    },
    {
      "cell_type": "code",
      "execution_count": null,
      "metadata": {
        "id": "kThI-s5hrrQ7"
      },
      "outputs": [],
      "source": [
        "x = np.linspace(a,b,N)\n",
        "h = x[1]-x[0]\n",
        "c = np.sqrt(1/h)\n",
        "\n",
        "H = np.zeros((N,N))\n",
        "# Question: Why H has dimension (N-2) x (N-2)?\n",
        "V = np.zeros((N,N))\n",
        "\n"
      ]
    },
    {
      "cell_type": "code",
      "execution_count": null,
      "metadata": {
        "id": "yTXjeslArrQ8"
      },
      "outputs": [],
      "source": [
        "for i in range (N):\n",
        "    for j in range (N):\n",
        "        if i == j:\n",
        "            H[i][j] = -2\n",
        "        elif abs(i-j) == 1:\n",
        "            H[i][j] = 1\n",
        "print(H)\n",
        "\n",
        "for i in range (N):\n",
        "    for j in range (N):\n",
        "        if i == j:\n",
        "            V[i][j] = given_fn(x[i])\n",
        "print(V) "
      ]
    },
    {
      "cell_type": "code",
      "execution_count": null,
      "metadata": {
        "id": "stu8Bz1mrrQ9"
      },
      "outputs": [],
      "source": [
        "A = -H/(h**2) + V\n",
        "print(A)"
      ]
    },
    {
      "cell_type": "code",
      "execution_count": null,
      "metadata": {
        "id": "KY8sH_CtrrQ9"
      },
      "outputs": [],
      "source": [
        "# Normalize eig_vec by computing L2 normeig_vec"
      ]
    },
    {
      "cell_type": "code",
      "execution_count": null,
      "metadata": {
        "id": "pNgAd9K9rrQ9"
      },
      "outputs": [],
      "source": [
        "eig_val, eig_vec = np.linalg.eig(A)\n",
        "sorted_id_eig_val = np.argsort(eig_val)\n",
        "# Get the indices that would sort eig_val\n",
        "z = sorted_id_eig_val[0:1] # Bc. eig_val first 4 value is in ascending order, \n",
        "# eig_val[z] will return sorted first [T] value of eigenvalues.\n",
        "energies = eig_val[z]/eig_val[z][0]\n",
        "\n",
        "ground_state = c * eig_vec[:,z[0]]"
      ]
    },
    {
      "cell_type": "code",
      "source": [
        "eig_val[z]"
      ],
      "metadata": {
        "id": "G0NxOxI7DfGf",
        "outputId": "be4541e2-085d-41e4-cfdc-66f8d155a3ba",
        "colab": {
          "base_uri": "https://localhost:8080/"
        }
      },
      "execution_count": null,
      "outputs": [
        {
          "output_type": "execute_result",
          "data": {
            "text/plain": [
              "array([0.999991])"
            ]
          },
          "metadata": {},
          "execution_count": 16
        }
      ]
    },
    {
      "cell_type": "code",
      "execution_count": null,
      "metadata": {
        "id": "F9qLmPqYrrQ-",
        "outputId": "59d84c87-1833-4da6-aefd-a70973c06d65",
        "colab": {
          "base_uri": "https://localhost:8080/",
          "height": 627
        }
      },
      "outputs": [
        {
          "output_type": "display_data",
          "data": {
            "text/plain": [
              "<Figure size 864x720 with 1 Axes>"
            ],
            "image/png": "[encoded data removed]"
          },
          "metadata": {
            "needs_background": "light"
          }
        }
      ],
      "source": [
        "plt.figure(figsize=(12,10))\n",
        "for i in range(len(z)):\n",
        "    y = []\n",
        "    y = np.append(y, (-1) * -ground_state)\n",
        "\n",
        "#     print(y)\n",
        "#     y = np.append(y,0)\n",
        "#     print(y)\n",
        "#     print(y)\n",
        "#     y = np.insert(y,0,0)\n",
        "#     print(y)\n",
        "    plt.plot(x,y,lw=3, label=\"{} \".format(i))\n",
        "    plt.xlabel('x', size=14)\n",
        "    plt.ylabel('$\\psi$(x)',size=14)\n",
        "plt.plot(x_values, model_output)\n",
        "plt.legend()\n",
        "plt.title('normalized wavefunctions for a harmonic oscillator using finite difference method',size=14)\n",
        "plt.show()"
      ]
    },
    {
      "cell_type": "code",
      "execution_count": 5,
      "metadata": {
        "id": "M0PS0efCiJCp"
      },
      "outputs": [],
      "source": [
        "def finite_diff_method(lower_bound, upper_bound, N_discrete_pts, given_fn):\n",
        "    discrete_points = np.linspace(lower_bound, upper_bound, N_discrete_pts)\n",
        "    h = x[1]-x[0]\n",
        "    c = np.sqrt(1/h)\n",
        "\n",
        "    H = np.zeros((N,N))\n",
        "    # Question: Why H has dimension (N-2) x (N-2)?\n",
        "    V = np.zeros((N,N))\n",
        "\n",
        "    for i in range (N):\n",
        "        for j in range (N):\n",
        "            if i == j:\n",
        "                H[i][j] = -2\n",
        "            elif abs(i-j) == 1:\n",
        "                H[i][j] = 1\n",
        "    for i in range (N):\n",
        "        for j in range (N):\n",
        "            if i == j:\n",
        "                V[i][j] = given_fn(x[i])\n",
        "\n",
        "    eig_val, eig_vec = np.linalg.eig(A)\n",
        "    sorted_id_eig_val = np.argsort(eig_val)\n",
        "    # Get the indices that would sort eig_val\n",
        "    z = sorted_id_eig_val[0:1] # Bc. eig_val first 4 value is in ascending order, \n",
        "    # eig_val[z] will return sorted first [T] value of eigenvalues.\n",
        "    energies = eig_val[z]/eig_val[z][0]\n",
        "\n",
        "    ground_state = c * eig_vec[:,z[0]]\n",
        "\n",
        "    return (eig_val[z], ground_state)"
      ]
    },
    {
      "cell_type": "code",
      "source": [
        "def plot_finite_diff_sol(eig_val, ground_state):\n",
        "    plt.figure(figsize=(12,10))\n",
        "    for i in range(len(eig_val)):\n",
        "        y = []\n",
        "        y = np.append(y, (-1) * -ground_state)\n",
        "\n",
        "        plt.plot(x,y,lw=3, label=\"{} \".format(i))\n",
        "        plt.xlabel('x', size=14)\n",
        "        plt.ylabel('$\\psi$(x)',size=14)\n",
        "    # plt.plot(x_values, model_output)\n",
        "    plt.legend()\n",
        "    plt.title('normalized wavefunctions for a harmonic oscillator using finite difference method',size=14)\n",
        "    plt.show()\n",
        "    return"
      ],
      "metadata": {
        "id": "3_uFs6BwJEqa"
      },
      "execution_count": 6,
      "outputs": []
    },
    {
      "cell_type": "code",
      "source": [
        "class Potential_Function:\n",
        "    def __init__(self, N_points, L_endpoint, alpha, c_0 = 0):\n",
        "        self.N_points = N_points\n",
        "        self.L_endpoint = L_endpoint\n",
        "        \n",
        "        self.alpha = alpha\n",
        "        self.c_0 = c_0\n",
        "\n",
        "    def forward(self, x):\n",
        "        \"\"\"\n",
        "        ARGS:\n",
        "        \"\"\"\n",
        "        f_value = 0\n",
        "        summation = 0\n",
        "\n",
        "        #Iterative method:\n",
        "        for i in range(1, self.N_points):\n",
        "            t_i = np.random.normal(loc=0, scale=1.0)\n",
        "            c_i = (math.pi/(i * self.L_endpoint))**self.alpha\n",
        "            cos_val = np.cos((i * self.L_endpoint * x)/math.pi)\n",
        "            summation += t_i * c_i * cos_val\n",
        "\n",
        "        f_value += summation\n",
        "        f_value += self.c_0\n",
        "\n",
        "        return f_value"
      ],
      "metadata": {
        "id": "Xd-UKkAUFkXu"
      },
      "execution_count": 7,
      "outputs": []
    },
    {
      "cell_type": "code",
      "source": [
        "t_f = Potential_Function(20, UPPER_BOUND, 3, 10)\n",
        "res = []\n",
        "for x_i in np.linspace(LOWER_BOUND, UPPER_BOUND, 100):\n",
        "    res.append(t_f.forward(x_i))"
      ],
      "metadata": {
        "id": "045reg5XqqxT"
      },
      "execution_count": null,
      "outputs": []
    },
    {
      "cell_type": "code",
      "source": [
        "min(res)"
      ],
      "metadata": {
        "id": "mm8erO2WHrPF",
        "outputId": "e412565f-22bb-42d7-9294-7c576785e5d3",
        "colab": {
          "base_uri": "https://localhost:8080/"
        }
      },
      "execution_count": null,
      "outputs": [
        {
          "output_type": "execute_result",
          "data": {
            "text/plain": [
              "9.696046892687715"
            ]
          },
          "metadata": {},
          "execution_count": 69
        }
      ]
    },
    {
      "cell_type": "code",
      "source": [
        "p_f_res = model.train_network_with_penalty(num_epochs, t_f, adam_optimizer, LAMBDA_PEN, LOWER_BOUND, UPPER_BOUND, N_POINTS)"
      ],
      "metadata": {
        "id": "x-Pu1uVsIF-G",
        "outputId": "49e145c8-ae25-4c31-cf38-b9273d91a941",
        "colab": {
          "base_uri": "https://localhost:8080/",
          "height": 664
        }
      },
      "execution_count": null,
      "outputs": [
        {
          "output_type": "error",
          "ename": "RuntimeError",
          "evalue": "ignored",
          "traceback": [
            "\u001b[0;31m---------------------------------------------------------------------------\u001b[0m",
            "\u001b[0;31mRuntimeError\u001b[0m                              Traceback (most recent call last)",
            "\u001b[0;32m<ipython-input-70-9640dfc55a26>\u001b[0m in \u001b[0;36m<module>\u001b[0;34m()\u001b[0m\n\u001b[0;32m----> 1\u001b[0;31m \u001b[0mp_f_res\u001b[0m \u001b[0;34m=\u001b[0m \u001b[0mmodel\u001b[0m\u001b[0;34m.\u001b[0m\u001b[0mtrain_network_with_penalty\u001b[0m\u001b[0;34m(\u001b[0m\u001b[0mnum_epochs\u001b[0m\u001b[0;34m,\u001b[0m \u001b[0mt_f\u001b[0m\u001b[0;34m,\u001b[0m \u001b[0madam_optimizer\u001b[0m\u001b[0;34m,\u001b[0m \u001b[0mLAMBDA_PEN\u001b[0m\u001b[0;34m,\u001b[0m \u001b[0mLOWER_BOUND\u001b[0m\u001b[0;34m,\u001b[0m \u001b[0mUPPER_BOUND\u001b[0m\u001b[0;34m,\u001b[0m \u001b[0mN_POINTS\u001b[0m\u001b[0;34m)\u001b[0m\u001b[0;34m\u001b[0m\u001b[0;34m\u001b[0m\u001b[0m\n\u001b[0m",
            "\u001b[0;32m<ipython-input-64-1f85b7768c5c>\u001b[0m in \u001b[0;36mtrain_network_with_penalty\u001b[0;34m(self, num_epochs, v_x, optimizer, lambda_pen, lower_bound, upper_bound, n_points)\u001b[0m\n\u001b[1;32m     96\u001b[0m                                         lower_bound, upper_bound, n_points)\n\u001b[1;32m     97\u001b[0m             loss = epsilon_Loss(v_x, self,\n\u001b[0;32m---> 98\u001b[0;31m                                 lower_bound, upper_bound, n_points)\n\u001b[0m\u001b[1;32m     99\u001b[0m \u001b[0;34m\u001b[0m\u001b[0m\n\u001b[1;32m    100\u001b[0m             \u001b[0my_loss_pen\u001b[0m\u001b[0;34m.\u001b[0m\u001b[0mappend\u001b[0m\u001b[0;34m(\u001b[0m\u001b[0mloss_pen\u001b[0m\u001b[0;34m.\u001b[0m\u001b[0mdetach\u001b[0m\u001b[0;34m(\u001b[0m\u001b[0;34m)\u001b[0m\u001b[0;34m.\u001b[0m\u001b[0mnumpy\u001b[0m\u001b[0;34m(\u001b[0m\u001b[0;34m)\u001b[0m\u001b[0;34m.\u001b[0m\u001b[0mitem\u001b[0m\u001b[0;34m(\u001b[0m\u001b[0;34m)\u001b[0m\u001b[0;34m)\u001b[0m\u001b[0;34m\u001b[0m\u001b[0;34m\u001b[0m\u001b[0m\n",
            "\u001b[0;32m<ipython-input-63-a77d81b7d24f>\u001b[0m in \u001b[0;36mepsilon_Loss\u001b[0;34m(v_x, model_u, lower_bound, upper_bound, n_points)\u001b[0m\n\u001b[1;32m     23\u001b[0m         \u001b[0mu_prime\u001b[0m \u001b[0;34m=\u001b[0m \u001b[0mmodel_u\u001b[0m\u001b[0;34m.\u001b[0m\u001b[0mu_prime_2\u001b[0m\u001b[0;34m(\u001b[0m\u001b[0mx_i\u001b[0m\u001b[0;34m)\u001b[0m\u001b[0;34m\u001b[0m\u001b[0;34m\u001b[0m\u001b[0m\n\u001b[1;32m     24\u001b[0m \u001b[0;34m\u001b[0m\u001b[0m\n\u001b[0;32m---> 25\u001b[0;31m         \u001b[0mv_xi\u001b[0m \u001b[0;34m=\u001b[0m \u001b[0mv_x\u001b[0m\u001b[0;34m.\u001b[0m\u001b[0mforward\u001b[0m\u001b[0;34m(\u001b[0m\u001b[0mx_i\u001b[0m\u001b[0;34m)\u001b[0m\u001b[0;34m\u001b[0m\u001b[0;34m\u001b[0m\u001b[0m\n\u001b[0m\u001b[1;32m     26\u001b[0m         \u001b[0mt\u001b[0m \u001b[0;34m=\u001b[0m \u001b[0mtorch\u001b[0m\u001b[0;34m.\u001b[0m\u001b[0mabs\u001b[0m\u001b[0;34m(\u001b[0m\u001b[0mtorch\u001b[0m\u001b[0;34m.\u001b[0m\u001b[0msquare\u001b[0m\u001b[0;34m(\u001b[0m\u001b[0mu_prime\u001b[0m\u001b[0;34m)\u001b[0m\u001b[0;34m)\u001b[0m \u001b[0;34m+\u001b[0m \u001b[0mv_xi\u001b[0m\u001b[0;34m*\u001b[0m\u001b[0;34m(\u001b[0m\u001b[0mu_xi\u001b[0m\u001b[0;34m**\u001b[0m\u001b[0;36m2\u001b[0m\u001b[0;34m)\u001b[0m\u001b[0;34m\u001b[0m\u001b[0;34m\u001b[0m\u001b[0m\n\u001b[1;32m     27\u001b[0m         \u001b[0mtotal\u001b[0m \u001b[0;34m+=\u001b[0m \u001b[0mt\u001b[0m\u001b[0;34m\u001b[0m\u001b[0;34m\u001b[0m\u001b[0m\n",
            "\u001b[0;32m<ipython-input-67-b315022dbe47>\u001b[0m in \u001b[0;36mforward\u001b[0;34m(self, x)\u001b[0m\n\u001b[1;32m     18\u001b[0m             \u001b[0mt_i\u001b[0m \u001b[0;34m=\u001b[0m \u001b[0mnp\u001b[0m\u001b[0;34m.\u001b[0m\u001b[0mrandom\u001b[0m\u001b[0;34m.\u001b[0m\u001b[0mnormal\u001b[0m\u001b[0;34m(\u001b[0m\u001b[0mloc\u001b[0m\u001b[0;34m=\u001b[0m\u001b[0;36m0\u001b[0m\u001b[0;34m,\u001b[0m \u001b[0mscale\u001b[0m\u001b[0;34m=\u001b[0m\u001b[0;36m1.0\u001b[0m\u001b[0;34m)\u001b[0m\u001b[0;34m\u001b[0m\u001b[0;34m\u001b[0m\u001b[0m\n\u001b[1;32m     19\u001b[0m             \u001b[0mc_i\u001b[0m \u001b[0;34m=\u001b[0m \u001b[0;34m(\u001b[0m\u001b[0mmath\u001b[0m\u001b[0;34m.\u001b[0m\u001b[0mpi\u001b[0m\u001b[0;34m/\u001b[0m\u001b[0;34m(\u001b[0m\u001b[0mi\u001b[0m \u001b[0;34m*\u001b[0m \u001b[0mself\u001b[0m\u001b[0;34m.\u001b[0m\u001b[0mL_endpoint\u001b[0m\u001b[0;34m)\u001b[0m\u001b[0;34m)\u001b[0m\u001b[0;34m**\u001b[0m\u001b[0mself\u001b[0m\u001b[0;34m.\u001b[0m\u001b[0malpha\u001b[0m\u001b[0;34m\u001b[0m\u001b[0;34m\u001b[0m\u001b[0m\n\u001b[0;32m---> 20\u001b[0;31m             \u001b[0mcos_val\u001b[0m \u001b[0;34m=\u001b[0m \u001b[0mnp\u001b[0m\u001b[0;34m.\u001b[0m\u001b[0mcos\u001b[0m\u001b[0;34m(\u001b[0m\u001b[0;34m(\u001b[0m\u001b[0mi\u001b[0m \u001b[0;34m*\u001b[0m \u001b[0mself\u001b[0m\u001b[0;34m.\u001b[0m\u001b[0mL_endpoint\u001b[0m \u001b[0;34m*\u001b[0m \u001b[0mx\u001b[0m\u001b[0;34m)\u001b[0m\u001b[0;34m/\u001b[0m\u001b[0mmath\u001b[0m\u001b[0;34m.\u001b[0m\u001b[0mpi\u001b[0m\u001b[0;34m)\u001b[0m\u001b[0;34m\u001b[0m\u001b[0;34m\u001b[0m\u001b[0m\n\u001b[0m\u001b[1;32m     21\u001b[0m             \u001b[0msummation\u001b[0m \u001b[0;34m+=\u001b[0m \u001b[0mt_i\u001b[0m \u001b[0;34m*\u001b[0m \u001b[0mc_i\u001b[0m \u001b[0;34m*\u001b[0m \u001b[0mcos_val\u001b[0m\u001b[0;34m\u001b[0m\u001b[0;34m\u001b[0m\u001b[0m\n\u001b[1;32m     22\u001b[0m \u001b[0;34m\u001b[0m\u001b[0m\n",
            "\u001b[0;32m/usr/local/lib/python3.7/dist-packages/torch/_tensor.py\u001b[0m in \u001b[0;36m__array__\u001b[0;34m(self, dtype)\u001b[0m\n\u001b[1;32m    755\u001b[0m             \u001b[0;32mreturn\u001b[0m \u001b[0mhandle_torch_function\u001b[0m\u001b[0;34m(\u001b[0m\u001b[0mTensor\u001b[0m\u001b[0;34m.\u001b[0m\u001b[0m__array__\u001b[0m\u001b[0;34m,\u001b[0m \u001b[0;34m(\u001b[0m\u001b[0mself\u001b[0m\u001b[0;34m,\u001b[0m\u001b[0;34m)\u001b[0m\u001b[0;34m,\u001b[0m \u001b[0mself\u001b[0m\u001b[0;34m,\u001b[0m \u001b[0mdtype\u001b[0m\u001b[0;34m=\u001b[0m\u001b[0mdtype\u001b[0m\u001b[0;34m)\u001b[0m\u001b[0;34m\u001b[0m\u001b[0;34m\u001b[0m\u001b[0m\n\u001b[1;32m    756\u001b[0m         \u001b[0;32mif\u001b[0m \u001b[0mdtype\u001b[0m \u001b[0;32mis\u001b[0m \u001b[0;32mNone\u001b[0m\u001b[0;34m:\u001b[0m\u001b[0;34m\u001b[0m\u001b[0;34m\u001b[0m\u001b[0m\n\u001b[0;32m--> 757\u001b[0;31m             \u001b[0;32mreturn\u001b[0m \u001b[0mself\u001b[0m\u001b[0;34m.\u001b[0m\u001b[0mnumpy\u001b[0m\u001b[0;34m(\u001b[0m\u001b[0;34m)\u001b[0m\u001b[0;34m\u001b[0m\u001b[0;34m\u001b[0m\u001b[0m\n\u001b[0m\u001b[1;32m    758\u001b[0m         \u001b[0;32melse\u001b[0m\u001b[0;34m:\u001b[0m\u001b[0;34m\u001b[0m\u001b[0;34m\u001b[0m\u001b[0m\n\u001b[1;32m    759\u001b[0m             \u001b[0;32mreturn\u001b[0m \u001b[0mself\u001b[0m\u001b[0;34m.\u001b[0m\u001b[0mnumpy\u001b[0m\u001b[0;34m(\u001b[0m\u001b[0;34m)\u001b[0m\u001b[0;34m.\u001b[0m\u001b[0mastype\u001b[0m\u001b[0;34m(\u001b[0m\u001b[0mdtype\u001b[0m\u001b[0;34m,\u001b[0m \u001b[0mcopy\u001b[0m\u001b[0;34m=\u001b[0m\u001b[0;32mFalse\u001b[0m\u001b[0;34m)\u001b[0m\u001b[0;34m\u001b[0m\u001b[0;34m\u001b[0m\u001b[0m\n",
            "\u001b[0;31mRuntimeError\u001b[0m: Can't call numpy() on Tensor that requires grad. Use tensor.detach().numpy() instead."
          ]
        }
      ]
    },
    {
      "cell_type": "markdown",
      "source": [
        "Dear professor, can you help me check if I implement the function correctly:\n",
        "potential_function_V(N_points, L_endpoint, alpha, input_X, c_0 = 0)\n",
        "\n",
        "PARAMS:\n",
        "    c_0 := large random value, will set value later\n",
        "    input_X := input value X\n",
        "\n",
        "\n",
        "V(x) = c_0 + SUM from i to N_points ((t_i + c_i + cos(i * L_endpoint * X)/pi)\n",
        "where,\n",
        "\n",
        "t_i = np.random.normal(mean=0, std=1)\n",
        "c_i = (pi/i*L)^alpha\n"
      ],
      "metadata": {
        "id": "zqXlCAeHjZO5"
      }
    },
    {
      "cell_type": "code",
      "source": [
        ""
      ],
      "metadata": {
        "id": "ihkqpWpaucxs"
      },
      "execution_count": null,
      "outputs": []
    },
    {
      "cell_type": "code",
      "source": [
        "var = np.random.normal(loc=0, size=(2, ))"
      ],
      "metadata": {
        "id": "aZKelw8xuuXM"
      },
      "execution_count": null,
      "outputs": []
    },
    {
      "cell_type": "code",
      "source": [
        "np.random.normal()"
      ],
      "metadata": {
        "id": "22S_j-uUaUoa",
        "outputId": "ba6d464e-8159-47b3-d270-fde317d244c3",
        "colab": {
          "base_uri": "https://localhost:8080/"
        }
      },
      "execution_count": null,
      "outputs": [
        {
          "output_type": "execute_result",
          "data": {
            "text/plain": [
              "-0.06526707942659112"
            ]
          },
          "metadata": {},
          "execution_count": 24
        }
      ]
    },
    {
      "cell_type": "code",
      "source": [
        ""
      ],
      "metadata": {
        "id": "BQatVXeZaYbg"
      },
      "execution_count": null,
      "outputs": []
    }
  ],
  "metadata": {
    "colab": {
      "name": "PyTorch_.ipynb",
      "provenance": []
    },
    "kernelspec": {
      "display_name": "Python 3",
      "language": "python",
      "name": "python3"
    },
    "language_info": {
      "codemirror_mode": {
        "name": "ipython",
        "version": 3
      },
      "file_extension": ".py",
      "mimetype": "text/x-python",
      "name": "python",
      "nbconvert_exporter": "python",
      "pygments_lexer": "ipython3",
      "version": "3.7.7"
    },
    "vscode": {
      "interpreter": {
        "hash": "8c21580189d9a9d7f1e3fef63ff70de58083dda94aa35d8ed937f03fa405217e"
      }
    }
  },
  "nbformat": 4,
  "nbformat_minor": 0
}