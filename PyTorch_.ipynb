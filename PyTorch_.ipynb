{
  "cells": [
    {
      "cell_type": "markdown",
      "metadata": {
        "id": "MpofWgGancyb"
      },
      "source": [
        "The input of the NN is 1D. "
      ]
    },
    {
      "cell_type": "code",
      "execution_count": 1,
      "metadata": {
        "id": "e-NAhHF3ncye"
      },
      "outputs": [],
      "source": [
        "import numpy as np\n",
        "import copy\n",
        "import torch\n",
        "import torch.nn as nn\n",
        "import math\n",
        "from torch.autograd import Variable\n",
        "from torch.nn.functional import normalize\n",
        "from sklearn.model_selection import train_test_split\n",
        "from torch.nn.functional import normalize\n",
        "import matplotlib.pyplot as plt\n",
        "\n",
        "def quad_fn(a, b, c, x):\n",
        "    return a*x**2 + b*x + c\n",
        "\n",
        "def x_square(x: torch.tensor) -> torch.Tensor:\n",
        "    return x**2\n",
        "\n",
        "# DEFINE GIVEN FUNCTION V(x): ax^2 + bx + c\n",
        "given_fn = x_square"
      ]
    },
    {
      "cell_type": "code",
      "execution_count": 11,
      "metadata": {
        "id": "SOtFslmCncyg"
      },
      "outputs": [],
      "source": [
        "# CUSTOM LOSS FUNCTION:\n",
        "# def EpsilonLoss(nn.Module):\n",
        "\n",
        "def epsilon_Loss(v_x, model_u, lower_bound, upper_bound, n_points):\n",
        "    \"\"\"\n",
        "    GOAL: Epsilon function evaluated at u using discretized estimation\n",
        "    minimizing Epsilon(u) = \n",
        "    \n",
        "    ARGS: \n",
        "    n_points (int): number of discretized points on the interval [-L, L]\n",
        "    e.g.: -(L)|---|---|---|---|(L) interval has n_points = 5\n",
        "\n",
        "    v_x (torch.Tensor): function instance\n",
        "    model_u (torch.Tensor): model output\n",
        "    \"\"\"\n",
        "    sum = 0\n",
        "    discrete_points = np.linspace(lower_bound, upper_bound, n_points)\n",
        "    h = discrete_points[1] - discrete_points[0]\n",
        "    for i in discrete_points:\n",
        "        x_i = torch.tensor([i], requires_grad=True, dtype=torch.float)\n",
        "        u_xi = model_u(x_i)\n",
        "\n",
        "        u_prime = model_u.u_prime_2(x_i)\n",
        "        \n",
        "        v_xi = v_x(x_i)\n",
        "        t = torch.square(u_prime) + v_xi*(u_xi**2)\n",
        "        sum += t\n",
        "    return 0.5*h*sum\n",
        "\n",
        "def epsilon_Loss_penalty(v_x, model_u, lambda_pen,\n",
        "                         lower_bound, upper_bound, n_points):\n",
        "    \"\"\"\n",
        "    \n",
        "    \"\"\"\n",
        "    sum = 0\n",
        "    pen = 0\n",
        "\n",
        "    discrete_points = np.linspace(lower_bound, upper_bound, n_points)\n",
        "    h = discrete_points[1] - discrete_points[0]\n",
        "    for i in discrete_points:\n",
        "        x_i = torch.tensor([i], requires_grad=True, dtype=torch.float)\n",
        "        u_xi = model_u(x_i)\n",
        "\n",
        "        u_prime = model_u.u_prime_2(x_i)\n",
        "        \n",
        "        v_xi = v_x(x_i)\n",
        "        t = torch.square(u_prime) + v_xi*(u_xi**2)\n",
        "        sum += t\n",
        "    epsilon_fn = 0.5*h*sum\n",
        "    \n",
        "    temp = 0\n",
        "    for i in discrete_points:\n",
        "        x_i = torch.tensor([i], requires_grad=True, dtype=torch.float)\n",
        "        temp += torch.square(model_u(x_i))\n",
        "    \n",
        "    pen = lambda_pen * torch.square((temp*h-1))\n",
        "    return epsilon_fn + pen \n",
        "\n",
        "# NORMALIZE MODEL u(x) OUTPUT:\n",
        "def normalize_u(model_u, lower_bound, upper_bound, n_points):\n",
        "    \"\"\"\n",
        "    Normalize model.output weight by: \n",
        "    model.output *= c\n",
        "    where,\n",
        "    scalar c = 1/denom\n",
        "    \"\"\"\n",
        "    discrete_points = np.linspace(lower_bound, upper_bound, n_points)\n",
        "    h = discrete_points[1] - discrete_points[0]\n",
        "    s = 0\n",
        "    for i in discrete_points:\n",
        "        x_i = torch.tensor([i], requires_grad=True, dtype=torch.float)\n",
        "        s += model_u(x_i)**2\n",
        "    denom = math.sqrt(h) * torch.sqrt(s)\n",
        "    return 1/denom"
      ]
    },
    {
      "cell_type": "code",
      "execution_count": 12,
      "metadata": {
        "id": "06QWhlkpQ5Eh"
      },
      "outputs": [],
      "source": [
        "# CREATING MODEL CLASS\n",
        "class Nonlinear(nn.Module):\n",
        "    def __init__(self, n):\n",
        "        # One hidden layer with n nodes\n",
        "        super().__init__()\n",
        "        self.hidden = nn.Linear(1, n)\n",
        "        self.output = nn.Linear(n, 1)\n",
        "        \n",
        "        self.sigmoid = nn.Sigmoid()\n",
        "        self.tanh = nn.Tanh()\n",
        "        self.target_fn = given_fn\n",
        "\n",
        "    def forward(self, x, use_tanh_fn = False, activation_on_output = False):\n",
        "        if use_tanh_fn == True:\n",
        "            x = self.hidden(x)\n",
        "            x = self.tanh(x)\n",
        "            x = self.output(x)\n",
        "            \n",
        "        else:\n",
        "            x = self.hidden(x)\n",
        "            x = self.sigmoid(x)\n",
        "            x = self.output(x)\n",
        "            \n",
        "        if activation_on_output == False:\n",
        "            return x\n",
        "        else:\n",
        "            if use_tanh_fn == True:\n",
        "                return self.tanh(x)\n",
        "            else:       \n",
        "                return self.sigmoid(x)\n",
        "        # output is a linear combination of the hidden layers because \n",
        "        # we perform regression ???\n",
        "        return x\n",
        "\n",
        "    def u_prime_2(self, input):\n",
        "        i_tensor = torch.tensor([input.item()], requires_grad=True, dtype=torch.float)\n",
        "        clone_model = copy.deepcopy(self)\n",
        "        res = clone_model(i_tensor)\n",
        "        res.backward()\n",
        "        del clone_model\n",
        "        \n",
        "        return i_tensor.grad\n",
        "\n",
        "    def u_prime(self, input):\n",
        "        \"\"\"\n",
        "        NN with 1 hidden node layer is of the form:\n",
        "        u(x) = SUM_i_to_N(a_i * sigmoid(w.x + b))\n",
        "\n",
        "        where\n",
        "        a_i is the corresponding weight of self.output layerq\n",
        "        w is self.hidden.weight vector\n",
        "        b is self.hidden.bias vector\n",
        "        sigmoid(w.x + b) is the sigmoid-activated hidden vector\n",
        "\n",
        "        Formula of u'(x) (for 1 hidden layer NN):\n",
        "        u'(x) = SUM_i_to_N(w_i*a_i*sigmoid'(w_i*x+b))\n",
        "        Note: sigmoid'(w_i*x +b) = sigmoid(w_i*x+b)*(1-sigmoid(w_i*x+b))\n",
        "        \"\"\"\n",
        "        a_i = self.output.weight.data\n",
        "        w_i = torch.transpose(self.hidden.weight.data, 0, 1)\n",
        "        wi_ai = w_i * a_i\n",
        "\n",
        "        hid_layer = self.hidden(input)\n",
        "        hid_layer_T = torch.reshape(hid_layer, (list(hid_layer.shape)[0], 1))\n",
        "        m = hid_layer_T * (1-hid_layer_T)\n",
        "\n",
        "        return wi_ai @ m\n",
        "    \n",
        "# TRANING MODEL\n",
        "    def train_network_with_penalty(self, num_epochs, v_x, optimizer, lambda_pen,\n",
        "                                    lower_bound, upper_bound, n_points):\n",
        "        # For plotting loss value over epochs:\n",
        "        x_epochs = []\n",
        "        y_loss = []\n",
        "        y_loss_pen = []\n",
        "\n",
        "        # stopping criterion:\n",
        "        stop_counter = 0\n",
        "\n",
        "        for epoch in range(num_epochs):\n",
        "            optimizer.zero_grad()\n",
        "            loss_pen = epsilon_Loss_penalty(v_x, self, lambda_pen,\n",
        "                                        lower_bound, upper_bound, n_points)\n",
        "            loss = epsilon_Loss(v_x, self,\n",
        "                                lower_bound, upper_bound, n_points)\n",
        "            y_loss_pen.append(loss_pen)\n",
        "            y_loss.append(loss)\n",
        "            x_epochs.append(epoch)\n",
        "            #check if need to stop training:\n",
        "            if epoch > 0 and stop_counter >= 5:\n",
        "                c = normalize_u(self, lower_bound, upper_bound, n_points)\n",
        "                self.output.weight.data.copy_(c.item() * self.output.weight.data)\n",
        "                self.output.bias.data.copy_(c.item() * self.output.bias.data)\n",
        "                print(\"c value = \" + str(c))\n",
        "                print(\"LOSS VALUE WITH LAMBDA PENALTY = \" \n",
        "                      + str(epsilon_Loss_penalty(v_x, self, lambda_pen,\n",
        "                                                 lower_bound, upper_bound, n_points)))\n",
        "                print(\"LOSS VALUE  = \" \n",
        "                      + str(epsilon_Loss(v_x, self, lower_bound, upper_bound, n_points)))\n",
        "                break\n",
        "            elif epoch > 0 and stop_counter < 5:\n",
        "                if torch.abs(y_loss_pen[epoch-1]-loss_pen) <= 1e-5:\n",
        "                    stop_counter += 1\n",
        "                else:\n",
        "                    stop_counter = 0\n",
        "\n",
        "            print('epoch {}, loss with penalty {}'.format(epoch, loss_pen.item()))\n",
        "            loss_pen.backward()\n",
        "            optimizer.step()\n",
        "\n",
        "        return (x_epochs, y_loss_pen, y_loss)\n",
        "\n",
        "    def train_network(self, num_epochs, v_x, optimizer,\n",
        "                                    lower_bound, upper_bound, n_points):\n",
        "        # For plotting loss value over epochs:\n",
        "        x_epochs = []\n",
        "        y_loss = []\n",
        "        \n",
        "        # stopping criterion:\n",
        "        stop_counter = 0\n",
        "\n",
        "        for epoch in range(num_epochs):\n",
        "\n",
        "            if epoch > 0 and epoch % 50 == 0:\n",
        "                c = normalize_u(self, lower_bound, upper_bound, n_points)\n",
        "                print(\"Pre normalize: \")\n",
        "                print(self.output.weight.data)\n",
        "                print(self.output.bias.data)\n",
        "                print(\"After normalize: \")\n",
        "                self.output.weight.data.copy_(c.item() * self.output.weight.data)\n",
        "                self.output.bias.data.copy_(c.item() * self.output.bias.data)\n",
        "                print(self.output.weight.data)\n",
        "                print(self.output.bias.data)\n",
        "                print(\"c value = \" + str(c))\n",
        "            optimizer.zero_grad()\n",
        "            loss = epsilon_Loss(v_x, self,\n",
        "                                lower_bound, upper_bound, n_points)\n",
        "            y_loss.append(loss)\n",
        "            x_epochs.append(epoch)\n",
        "            #check if need to stop training:\n",
        "            if epoch > 0 and stop_counter >= 5:\n",
        "                print(\"LOSS VALUE = \" \n",
        "                      + str(epsilon_Loss(v_x, self, lower_bound, upper_bound, n_points)))\n",
        "                break\n",
        "            elif epoch > 0 and stop_counter < 5:\n",
        "                if torch.abs(y_loss[epoch-1]-loss) <= 1e-5:\n",
        "                    stop_counter += 1\n",
        "                else:\n",
        "                    stop_counter = 0\n",
        "\n",
        "            print('epoch {}, loss {}'.format(epoch, loss.item()))\n",
        "            loss.backward()\n",
        "            optimizer.step()\n",
        "\n",
        "        return (x_epochs, y_loss)\n",
        "        "
      ]
    },
    {
      "cell_type": "code",
      "execution_count": 13,
      "metadata": {
        "id": "hbBxk8_fncyl"
      },
      "outputs": [],
      "source": [
        "# DEFINE HYPER-PARAMETERS\n",
        "batch_size = 50\n",
        "learningRate = 0.05\n",
        "num_epochs = 2000\n",
        "\n",
        "#INIT MODEL\n",
        "model = Nonlinear(20)\n",
        "if torch.cuda.is_available():\n",
        "    model.cuda()\n",
        "\n",
        "# INIT OPTIMIZER CLASS\n",
        "# What is an optimizer: \n",
        "# SGD:\n",
        "# SGD_optimizer = torch.optim.SGD(model.parameters(), lr=learningRate)\n",
        "# Adam:\n",
        "adam_optimizer = torch.optim.Adam(model.parameters(), \n",
        "                                    lr=learningRate, \n",
        "                                    betas=(0.9, 0.999), \n",
        "                                    eps=1e-08, \n",
        "                                    weight_decay=0, \n",
        "                                    amsgrad=False)\n",
        "\n",
        "# INIT LOSS FUNCTION: MSE\n",
        "# criterion = epsilon_Loss"
      ]
    },
    {
      "cell_type": "code",
      "execution_count": 14,
      "metadata": {
        "colab": {
          "base_uri": "https://localhost:8080/"
        },
        "id": "EstQ_ILqQeOt",
        "outputId": "e06ebb7e-7f33-491c-eb43-5f5866e638e2"
      },
      "outputs": [
        {
          "output_type": "stream",
          "name": "stdout",
          "text": [
            "(1001, 1) (1001, 1)\n"
          ]
        }
      ],
      "source": [
        "INPUT_SIZE = 1\n",
        "OUTPUT_SIZE = 1\n",
        "\n",
        "LAMBDA_PEN = 100\n",
        "LOWER_BOUND = -6\n",
        "UPPER_BOUND = 6\n",
        "N_POINTS = 1001\n",
        "\n",
        "# CREATING DATASET:\n",
        "x_values = [i for i in np.linspace(LOWER_BOUND, UPPER_BOUND, N_POINTS)]\n",
        "y_values = [given_fn(i) for i in x_values]\n",
        "\n",
        "x_train = np.array(x_values, dtype=np.float32).reshape(-1, 1)\n",
        "y_train = np.array(y_values, dtype=np.float32).reshape(-1, 1)\n",
        "\n",
        "print(x_train.shape, y_train.shape)"
      ]
    },
    {
      "cell_type": "code",
      "execution_count": 15,
      "metadata": {
        "id": "sjtOBhyZLspO"
      },
      "outputs": [],
      "source": [
        "# PLOT DATA\n",
        "def plot_figure(x_val, y_val, x_test=None, predicted=None):\n",
        "    plt.clf()\n",
        "    plt.figure(figsize=(8, 6), dpi=80)\n",
        "    plt.plot(x_val, y_val, '--', label='True data', alpha=0.5)\n",
        "    if predicted != None:\n",
        "        plt.plot(x_test, predicted, '--', label='Predictions', alpha=0.5)\n",
        "    plt.legend(loc='best')\n",
        "    plt.show()"
      ]
    },
    {
      "cell_type": "code",
      "execution_count": null,
      "metadata": {
        "id": "WZbaJ3MsB08r"
      },
      "outputs": [],
      "source": [
        "graph_val = model.train_network(num_epochs, given_fn, adam_optimizer, LOWER_BOUND, UPPER_BOUND, N_POINTS)"
      ]
    },
    {
      "cell_type": "code",
      "execution_count": null,
      "metadata": {
        "id": "p7j57wogg0DM",
        "outputId": "bb0d0012-ca36-4b01-e947-c4a44e450646",
        "colab": {
          "base_uri": "https://localhost:8080/"
        }
      },
      "outputs": [
        {
          "output_type": "stream",
          "name": "stdout",
          "text": [
            "epoch 0, loss with penalty 9.647342681884766\n",
            "epoch 1, loss with penalty 90.59369659423828\n",
            "epoch 2, loss with penalty 425.99896240234375\n",
            "epoch 3, loss with penalty 24.627201080322266\n",
            "epoch 4, loss with penalty 93.7223129272461\n",
            "epoch 5, loss with penalty 18.85395050048828\n",
            "epoch 6, loss with penalty 138.9794921875\n",
            "epoch 7, loss with penalty 230.26632690429688\n",
            "epoch 8, loss with penalty 19.96843910217285\n",
            "epoch 9, loss with penalty 26.743410110473633\n",
            "epoch 10, loss with penalty 73.35962677001953\n",
            "epoch 11, loss with penalty 94.17388153076172\n",
            "epoch 12, loss with penalty 96.2022933959961\n",
            "epoch 13, loss with penalty 85.66179656982422\n",
            "epoch 14, loss with penalty 62.660404205322266\n",
            "epoch 15, loss with penalty 29.269311904907227\n",
            "epoch 16, loss with penalty 7.011239051818848\n",
            "epoch 17, loss with penalty 35.36226272583008\n",
            "epoch 18, loss with penalty 69.90795135498047\n",
            "epoch 19, loss with penalty 36.845245361328125\n",
            "epoch 20, loss with penalty 8.0997953414917\n",
            "epoch 21, loss with penalty 13.781377792358398\n",
            "epoch 22, loss with penalty 27.997432708740234\n",
            "epoch 23, loss with penalty 36.236114501953125\n",
            "epoch 24, loss with penalty 36.602359771728516\n",
            "epoch 25, loss with penalty 30.594314575195312\n",
            "epoch 26, loss with penalty 20.760223388671875\n",
            "epoch 27, loss with penalty 11.412094116210938\n",
            "epoch 28, loss with penalty 8.319734573364258\n",
            "epoch 29, loss with penalty 14.006969451904297\n",
            "epoch 30, loss with penalty 21.812702178955078\n",
            "epoch 31, loss with penalty 21.960712432861328\n",
            "epoch 32, loss with penalty 15.120908737182617\n",
            "epoch 33, loss with penalty 9.38556957244873\n",
            "epoch 34, loss with penalty 8.6851224899292\n",
            "epoch 35, loss with penalty 11.260845184326172\n",
            "epoch 36, loss with penalty 14.021612167358398\n",
            "epoch 37, loss with penalty 15.099077224731445\n",
            "epoch 38, loss with penalty 14.12392807006836\n",
            "epoch 39, loss with penalty 11.825133323669434\n",
            "epoch 40, loss with penalty 9.569223403930664\n",
            "epoch 41, loss with penalty 8.693614959716797\n",
            "epoch 42, loss with penalty 9.594250679016113\n",
            "epoch 43, loss with penalty 11.23884105682373\n",
            "epoch 44, loss with penalty 11.98897933959961\n",
            "epoch 45, loss with penalty 11.195292472839355\n",
            "epoch 46, loss with penalty 9.702980995178223\n",
            "epoch 47, loss with penalty 8.760313987731934\n",
            "epoch 48, loss with penalty 8.847047805786133\n",
            "epoch 49, loss with penalty 9.556485176086426\n",
            "epoch 50, loss with penalty 10.182046890258789\n",
            "epoch 51, loss with penalty 10.260537147521973\n",
            "epoch 52, loss with penalty 9.77756404876709\n",
            "epoch 53, loss with penalty 9.086869239807129\n",
            "epoch 54, loss with penalty 8.649730682373047\n",
            "epoch 55, loss with penalty 8.709443092346191\n",
            "epoch 56, loss with penalty 9.102577209472656\n",
            "epoch 57, loss with penalty 9.404275894165039\n",
            "epoch 58, loss with penalty 9.323221206665039\n",
            "epoch 59, loss with penalty 8.950591087341309\n",
            "epoch 60, loss with penalty 8.611797332763672\n",
            "epoch 61, loss with penalty 8.532894134521484\n",
            "epoch 62, loss with penalty 8.679405212402344\n",
            "epoch 63, loss with penalty 8.852245330810547\n",
            "epoch 64, loss with penalty 8.877820014953613\n",
            "epoch 65, loss with penalty 8.728296279907227\n",
            "epoch 66, loss with penalty 8.515497207641602\n",
            "epoch 67, loss with penalty 8.38825511932373\n",
            "epoch 68, loss with penalty 8.40953254699707\n",
            "epoch 69, loss with penalty 8.50855541229248\n",
            "epoch 70, loss with penalty 8.553455352783203\n",
            "epoch 71, loss with penalty 8.478959083557129\n",
            "epoch 72, loss with penalty 8.3384428024292\n",
            "epoch 73, loss with penalty 8.23417854309082\n",
            "epoch 74, loss with penalty 8.214077949523926\n",
            "epoch 75, loss with penalty 8.240367889404297\n",
            "epoch 76, loss with penalty 8.241241455078125\n",
            "epoch 77, loss with penalty 8.180276870727539\n",
            "epoch 78, loss with penalty 8.083191871643066\n",
            "epoch 79, loss with penalty 8.006950378417969\n",
            "epoch 80, loss with penalty 7.982684135437012\n",
            "epoch 81, loss with penalty 7.986114501953125\n",
            "epoch 82, loss with penalty 7.965748310089111\n",
            "epoch 83, loss with penalty 7.899284839630127\n",
            "epoch 84, loss with penalty 7.814029693603516\n",
            "epoch 85, loss with penalty 7.750279426574707\n",
            "epoch 86, loss with penalty 7.7161865234375\n",
            "epoch 87, loss with penalty 7.685309410095215\n",
            "epoch 88, loss with penalty 7.631870746612549\n",
            "epoch 89, loss with penalty 7.559807777404785\n",
            "epoch 90, loss with penalty 7.495301723480225\n",
            "epoch 91, loss with penalty 7.453625202178955\n",
            "epoch 92, loss with penalty 7.420144557952881\n",
            "epoch 93, loss with penalty 7.37014102935791\n",
            "epoch 94, loss with penalty 7.301478862762451\n",
            "epoch 95, loss with penalty 7.234918594360352\n",
            "epoch 96, loss with penalty 7.183984279632568\n",
            "epoch 97, loss with penalty 7.138951778411865\n",
            "epoch 98, loss with penalty 7.084522724151611\n",
            "epoch 99, loss with penalty 7.02260160446167\n",
            "epoch 100, loss with penalty 6.967829704284668\n",
            "epoch 101, loss with penalty 6.92433500289917\n",
            "epoch 102, loss with penalty 6.87954568862915\n",
            "epoch 103, loss with penalty 6.824594497680664\n",
            "epoch 104, loss with penalty 6.767872333526611\n",
            "epoch 105, loss with penalty 6.719785213470459\n",
            "epoch 106, loss with penalty 6.676574230194092\n",
            "epoch 107, loss with penalty 6.629305362701416\n",
            "epoch 108, loss with penalty 6.580041885375977\n",
            "epoch 109, loss with penalty 6.536910533905029\n",
            "epoch 110, loss with penalty 6.49875020980835\n",
            "epoch 111, loss with penalty 6.457592010498047\n",
            "epoch 112, loss with penalty 6.413508415222168\n",
            "epoch 113, loss with penalty 6.373502254486084\n",
            "epoch 114, loss with penalty 6.338005065917969\n",
            "epoch 115, loss with penalty 6.30162239074707\n",
            "epoch 116, loss with penalty 6.264465808868408\n",
            "epoch 117, loss with penalty 6.231101989746094\n",
            "epoch 118, loss with penalty 6.20067834854126\n",
            "epoch 119, loss with penalty 6.1688432693481445\n",
            "epoch 120, loss with penalty 6.136733531951904\n",
            "epoch 121, loss with penalty 6.107905387878418\n",
            "epoch 122, loss with penalty 6.080882549285889\n",
            "epoch 123, loss with penalty 6.053236484527588\n",
            "epoch 124, loss with penalty 6.026759624481201\n",
            "epoch 125, loss with penalty 6.002861022949219\n",
            "epoch 126, loss with penalty 5.979320526123047\n",
            "epoch 127, loss with penalty 5.955334663391113\n",
            "epoch 128, loss with penalty 5.932973861694336\n",
            "epoch 129, loss with penalty 5.91219425201416\n",
            "epoch 130, loss with penalty 5.8913774490356445\n",
            "epoch 131, loss with penalty 5.8711090087890625\n",
            "epoch 132, loss with penalty 5.852406978607178\n",
            "epoch 133, loss with penalty 5.8341145515441895\n",
            "epoch 134, loss with penalty 5.815725803375244\n",
            "epoch 135, loss with penalty 5.798333168029785\n",
            "epoch 136, loss with penalty 5.781824588775635\n",
            "epoch 137, loss with penalty 5.765317440032959\n",
            "epoch 138, loss with penalty 5.74929666519165\n",
            "epoch 139, loss with penalty 5.734135150909424\n",
            "epoch 140, loss with penalty 5.719094753265381\n",
            "epoch 141, loss with penalty 5.704172611236572\n",
            "epoch 142, loss with penalty 5.689903736114502\n",
            "epoch 143, loss with penalty 5.675960540771484\n",
            "epoch 144, loss with penalty 5.662038803100586\n",
            "epoch 145, loss with penalty 5.648536205291748\n",
            "epoch 146, loss with penalty 5.635378360748291\n",
            "epoch 147, loss with penalty 5.6222100257873535\n",
            "epoch 148, loss with penalty 5.609252452850342\n",
            "epoch 149, loss with penalty 5.596625804901123\n",
            "epoch 150, loss with penalty 5.584023475646973\n",
            "epoch 151, loss with penalty 5.571523666381836\n",
            "epoch 152, loss with penalty 5.559284210205078\n",
            "epoch 153, loss with penalty 5.547073841094971\n",
            "epoch 154, loss with penalty 5.534890174865723\n",
            "epoch 155, loss with penalty 5.522886276245117\n",
            "epoch 156, loss with penalty 5.510939598083496\n",
            "epoch 157, loss with penalty 5.4989705085754395\n",
            "epoch 158, loss with penalty 5.487129211425781\n",
            "epoch 159, loss with penalty 5.475334644317627\n",
            "epoch 160, loss with penalty 5.463508129119873\n",
            "epoch 161, loss with penalty 5.451744079589844\n",
            "epoch 162, loss with penalty 5.440011978149414\n",
            "epoch 163, loss with penalty 5.428256988525391\n",
            "epoch 164, loss with penalty 5.416538715362549\n",
            "epoch 165, loss with penalty 5.404825210571289\n",
            "epoch 166, loss with penalty 5.39308500289917\n",
            "epoch 167, loss with penalty 5.381340503692627\n",
            "epoch 168, loss with penalty 5.369618892669678\n",
            "epoch 169, loss with penalty 5.357862949371338\n",
            "epoch 170, loss with penalty 5.3460869789123535\n",
            "epoch 171, loss with penalty 5.334295749664307\n",
            "epoch 172, loss with penalty 5.322484970092773\n",
            "epoch 173, loss with penalty 5.310649394989014\n",
            "epoch 174, loss with penalty 5.29879903793335\n",
            "epoch 175, loss with penalty 5.2869133949279785\n",
            "epoch 176, loss with penalty 5.274999141693115\n",
            "epoch 177, loss with penalty 5.263064384460449\n",
            "epoch 178, loss with penalty 5.251094341278076\n",
            "epoch 179, loss with penalty 5.239081382751465\n",
            "epoch 180, loss with penalty 5.227055549621582\n",
            "epoch 181, loss with penalty 5.214999675750732\n",
            "epoch 182, loss with penalty 5.202897071838379\n",
            "epoch 183, loss with penalty 5.190764427185059\n",
            "epoch 184, loss with penalty 5.178590297698975\n",
            "epoch 185, loss with penalty 5.166396141052246\n",
            "epoch 186, loss with penalty 5.15415096282959\n",
            "epoch 187, loss with penalty 5.141882419586182\n",
            "epoch 188, loss with penalty 5.129571914672852\n",
            "epoch 189, loss with penalty 5.117219924926758\n",
            "epoch 190, loss with penalty 5.104831218719482\n",
            "epoch 191, loss with penalty 5.0924153327941895\n",
            "epoch 192, loss with penalty 5.079956531524658\n",
            "epoch 193, loss with penalty 5.067463397979736\n",
            "epoch 194, loss with penalty 5.0549211502075195\n",
            "epoch 195, loss with penalty 5.042352199554443\n",
            "epoch 196, loss with penalty 5.029738426208496\n",
            "epoch 197, loss with penalty 5.017096519470215\n",
            "epoch 198, loss with penalty 5.004404544830322\n",
            "epoch 199, loss with penalty 4.991667747497559\n",
            "epoch 200, loss with penalty 4.978906154632568\n",
            "epoch 201, loss with penalty 4.966091156005859\n",
            "epoch 202, loss with penalty 4.953250408172607\n",
            "epoch 203, loss with penalty 4.940364360809326\n",
            "epoch 204, loss with penalty 4.927436828613281\n",
            "epoch 205, loss with penalty 4.914471626281738\n",
            "epoch 206, loss with penalty 4.9014573097229\n",
            "epoch 207, loss with penalty 4.888405799865723\n",
            "epoch 208, loss with penalty 4.875314235687256\n",
            "epoch 209, loss with penalty 4.862181186676025\n",
            "epoch 210, loss with penalty 4.849015712738037\n",
            "epoch 211, loss with penalty 4.83579158782959\n",
            "epoch 212, loss with penalty 4.822540283203125\n",
            "epoch 213, loss with penalty 4.809239387512207\n",
            "epoch 214, loss with penalty 4.795894622802734\n",
            "epoch 215, loss with penalty 4.78251838684082\n",
            "epoch 216, loss with penalty 4.769087791442871\n",
            "epoch 217, loss with penalty 4.755616664886475\n",
            "epoch 218, loss with penalty 4.742100238800049\n",
            "epoch 219, loss with penalty 4.728548049926758\n",
            "epoch 220, loss with penalty 4.714944839477539\n",
            "epoch 221, loss with penalty 4.701307773590088\n",
            "epoch 222, loss with penalty 4.687616348266602\n",
            "epoch 223, loss with penalty 4.673886775970459\n",
            "epoch 224, loss with penalty 4.6601080894470215\n",
            "epoch 225, loss with penalty 4.6462812423706055\n",
            "epoch 226, loss with penalty 4.632416725158691\n",
            "epoch 227, loss with penalty 4.6185078620910645\n",
            "epoch 228, loss with penalty 4.604555130004883\n",
            "epoch 229, loss with penalty 4.590548038482666\n",
            "epoch 230, loss with penalty 4.576516628265381\n",
            "epoch 231, loss with penalty 4.562421798706055\n",
            "epoch 232, loss with penalty 4.548288345336914\n",
            "epoch 233, loss with penalty 4.534102439880371\n",
            "epoch 234, loss with penalty 4.519868850708008\n",
            "epoch 235, loss with penalty 4.505594253540039\n",
            "epoch 236, loss with penalty 4.491272449493408\n",
            "epoch 237, loss with penalty 4.476912498474121\n",
            "epoch 238, loss with penalty 4.462491512298584\n",
            "epoch 239, loss with penalty 4.448036193847656\n",
            "epoch 240, loss with penalty 4.433525085449219\n",
            "epoch 241, loss with penalty 4.418981552124023\n",
            "epoch 242, loss with penalty 4.404382228851318\n",
            "epoch 243, loss with penalty 4.389730453491211\n",
            "epoch 244, loss with penalty 4.375041961669922\n",
            "epoch 245, loss with penalty 4.360300540924072\n",
            "epoch 246, loss with penalty 4.345514297485352\n",
            "epoch 247, loss with penalty 4.330677509307861\n",
            "epoch 248, loss with penalty 4.315799713134766\n",
            "epoch 249, loss with penalty 4.300867557525635\n",
            "epoch 250, loss with penalty 4.285892486572266\n",
            "epoch 251, loss with penalty 4.270872592926025\n",
            "epoch 252, loss with penalty 4.2558064460754395\n",
            "epoch 253, loss with penalty 4.240687847137451\n",
            "epoch 254, loss with penalty 4.225528240203857\n",
            "epoch 255, loss with penalty 4.210314750671387\n",
            "epoch 256, loss with penalty 4.1950602531433105\n",
            "epoch 257, loss with penalty 4.179757118225098\n",
            "epoch 258, loss with penalty 4.164402484893799\n",
            "epoch 259, loss with penalty 4.14901065826416\n",
            "epoch 260, loss with penalty 4.133556842803955\n",
            "epoch 261, loss with penalty 4.118074417114258\n",
            "epoch 262, loss with penalty 4.1025309562683105\n",
            "epoch 263, loss with penalty 4.086946487426758\n",
            "epoch 264, loss with penalty 4.07131814956665\n",
            "epoch 265, loss with penalty 4.055648326873779\n",
            "epoch 266, loss with penalty 4.039925575256348\n",
            "epoch 267, loss with penalty 4.024148941040039\n",
            "epoch 268, loss with penalty 4.008337020874023\n",
            "epoch 269, loss with penalty 3.9924824237823486\n",
            "epoch 270, loss with penalty 3.9765682220458984\n",
            "epoch 271, loss with penalty 3.9606218338012695\n",
            "epoch 272, loss with penalty 3.9446229934692383\n",
            "epoch 273, loss with penalty 3.928584575653076\n",
            "epoch 274, loss with penalty 3.9124953746795654\n",
            "epoch 275, loss with penalty 3.8963663578033447\n",
            "epoch 276, loss with penalty 3.8801941871643066\n",
            "epoch 277, loss with penalty 3.8639729022979736\n",
            "epoch 278, loss with penalty 3.8477115631103516\n",
            "epoch 279, loss with penalty 3.831402063369751\n",
            "epoch 280, loss with penalty 3.815053939819336\n",
            "epoch 281, loss with penalty 3.798661231994629\n",
            "epoch 282, loss with penalty 3.782227039337158\n",
            "epoch 283, loss with penalty 3.7657482624053955\n",
            "epoch 284, loss with penalty 3.7492361068725586\n",
            "epoch 285, loss with penalty 3.7326748371124268\n",
            "epoch 286, loss with penalty 3.716067314147949\n",
            "epoch 287, loss with penalty 3.6994287967681885\n",
            "epoch 288, loss with penalty 3.682744026184082\n",
            "epoch 289, loss with penalty 3.6660165786743164\n",
            "epoch 290, loss with penalty 3.649252414703369\n",
            "epoch 291, loss with penalty 3.632451295852661\n",
            "epoch 292, loss with penalty 3.6156177520751953\n",
            "epoch 293, loss with penalty 3.5987260341644287\n",
            "epoch 294, loss with penalty 3.5818169116973877\n",
            "epoch 295, loss with penalty 3.5648622512817383\n",
            "epoch 296, loss with penalty 3.547866106033325\n",
            "epoch 297, loss with penalty 3.530836582183838\n",
            "epoch 298, loss with penalty 3.5137767791748047\n",
            "epoch 299, loss with penalty 3.496675491333008\n",
            "epoch 300, loss with penalty 3.479531764984131\n",
            "epoch 301, loss with penalty 3.4623661041259766\n",
            "epoch 302, loss with penalty 3.445167303085327\n",
            "epoch 303, loss with penalty 3.4279322624206543\n",
            "epoch 304, loss with penalty 3.410658597946167\n",
            "epoch 305, loss with penalty 3.3933587074279785\n",
            "epoch 306, loss with penalty 3.3760292530059814\n",
            "epoch 307, loss with penalty 3.3586666584014893\n",
            "epoch 308, loss with penalty 3.3412671089172363\n",
            "epoch 309, loss with penalty 3.323845148086548\n",
            "epoch 310, loss with penalty 3.3063998222351074\n",
            "epoch 311, loss with penalty 3.288917064666748\n",
            "epoch 312, loss with penalty 3.2714099884033203\n",
            "epoch 313, loss with penalty 3.253875494003296\n",
            "epoch 314, loss with penalty 3.2363200187683105\n",
            "epoch 315, loss with penalty 3.218736410140991\n",
            "epoch 316, loss with penalty 3.2011358737945557\n",
            "epoch 317, loss with penalty 3.183494806289673\n",
            "epoch 318, loss with penalty 3.165841817855835\n",
            "epoch 319, loss with penalty 3.1481683254241943\n",
            "epoch 320, loss with penalty 3.1304726600646973\n",
            "epoch 321, loss with penalty 3.112755060195923\n",
            "epoch 322, loss with penalty 3.095017433166504\n",
            "epoch 323, loss with penalty 3.077265501022339\n",
            "epoch 324, loss with penalty 3.059497594833374\n",
            "epoch 325, loss with penalty 3.041708469390869\n",
            "epoch 326, loss with penalty 3.023905038833618\n",
            "epoch 327, loss with penalty 3.00608229637146\n",
            "epoch 328, loss with penalty 2.9882590770721436\n",
            "epoch 329, loss with penalty 2.9704134464263916\n",
            "epoch 330, loss with penalty 2.952562093734741\n",
            "epoch 331, loss with penalty 2.934701681137085\n",
            "epoch 332, loss with penalty 2.916822671890259\n",
            "epoch 333, loss with penalty 2.8989405632019043\n",
            "epoch 334, loss with penalty 2.881058931350708\n",
            "epoch 335, loss with penalty 2.8631632328033447\n",
            "epoch 336, loss with penalty 2.8452625274658203\n",
            "epoch 337, loss with penalty 2.8273704051971436\n",
            "epoch 338, loss with penalty 2.809460401535034\n",
            "epoch 339, loss with penalty 2.7915539741516113\n",
            "epoch 340, loss with penalty 2.7736473083496094\n",
            "epoch 341, loss with penalty 2.755743980407715\n",
            "epoch 342, loss with penalty 2.737841844558716\n",
            "epoch 343, loss with penalty 2.7199487686157227\n",
            "epoch 344, loss with penalty 2.7020511627197266\n",
            "epoch 345, loss with penalty 2.684162139892578\n",
            "epoch 346, loss with penalty 2.666281223297119\n",
            "epoch 347, loss with penalty 2.6484227180480957\n",
            "epoch 348, loss with penalty 2.6305630207061768\n",
            "epoch 349, loss with penalty 2.6127171516418457\n",
            "epoch 350, loss with penalty 2.5948827266693115\n",
            "epoch 351, loss with penalty 2.5770654678344727\n",
            "epoch 352, loss with penalty 2.5592644214630127\n",
            "epoch 353, loss with penalty 2.5414788722991943\n",
            "epoch 354, loss with penalty 2.5237221717834473\n",
            "epoch 355, loss with penalty 2.5059757232666016\n",
            "epoch 356, loss with penalty 2.488252639770508\n",
            "epoch 357, loss with penalty 2.470559597015381\n",
            "epoch 358, loss with penalty 2.4528839588165283\n",
            "epoch 359, loss with penalty 2.435243606567383\n",
            "epoch 360, loss with penalty 2.4176247119903564\n",
            "epoch 361, loss with penalty 2.4000463485717773\n",
            "epoch 362, loss with penalty 2.3824939727783203\n",
            "epoch 363, loss with penalty 2.3649730682373047\n",
            "epoch 364, loss with penalty 2.3474807739257812\n",
            "epoch 365, loss with penalty 2.3300414085388184\n",
            "epoch 366, loss with penalty 2.3126296997070312\n",
            "epoch 367, loss with penalty 2.2952613830566406\n",
            "epoch 368, loss with penalty 2.277935028076172\n",
            "epoch 369, loss with penalty 2.2606570720672607\n",
            "epoch 370, loss with penalty 2.243417263031006\n",
            "epoch 371, loss with penalty 2.2262282371520996\n",
            "epoch 372, loss with penalty 2.2090818881988525\n",
            "epoch 373, loss with penalty 2.1919939517974854\n",
            "epoch 374, loss with penalty 2.174957752227783\n",
            "epoch 375, loss with penalty 2.157973051071167\n",
            "epoch 376, loss with penalty 2.141047716140747\n",
            "epoch 377, loss with penalty 2.124183177947998\n",
            "epoch 378, loss with penalty 2.1073756217956543\n",
            "epoch 379, loss with penalty 2.090622663497925\n",
            "epoch 380, loss with penalty 2.073945999145508\n",
            "epoch 381, loss with penalty 2.0573227405548096\n",
            "epoch 382, loss with penalty 2.040773868560791\n",
            "epoch 383, loss with penalty 2.0242927074432373\n",
            "epoch 384, loss with penalty 2.0078811645507812\n",
            "epoch 385, loss with penalty 1.9915471076965332\n",
            "epoch 386, loss with penalty 1.9752817153930664\n",
            "epoch 387, loss with penalty 1.9590972661972046\n",
            "epoch 388, loss with penalty 1.9429939985275269\n",
            "epoch 389, loss with penalty 1.926966905593872\n",
            "epoch 390, loss with penalty 1.9110221862792969\n",
            "epoch 391, loss with penalty 1.8951637744903564\n",
            "epoch 392, loss with penalty 1.8793883323669434\n",
            "epoch 393, loss with penalty 1.8636999130249023\n",
            "epoch 394, loss with penalty 1.8480961322784424\n",
            "epoch 395, loss with penalty 1.8325937986373901\n",
            "epoch 396, loss with penalty 1.8171823024749756\n",
            "epoch 397, loss with penalty 1.8018666505813599\n",
            "epoch 398, loss with penalty 1.7866486310958862\n",
            "epoch 399, loss with penalty 1.771527647972107\n"
          ]
        }
      ],
      "source": [
        "graph_val_pen = model.train_network_with_penalty(num_epochs, given_fn, adam_optimizer, LAMBDA_PEN, LOWER_BOUND, UPPER_BOUND, N_POINTS)"
      ]
    },
    {
      "cell_type": "code",
      "source": [
        "### Model result in using epsilon loss function\n",
        "graph_val_pen[1]"
      ],
      "metadata": {
        "id": "IS2VVI2Dt0RN"
      },
      "execution_count": null,
      "outputs": []
    },
    {
      "cell_type": "markdown",
      "source": [
        ""
      ],
      "metadata": {
        "id": "dH28_8PR0B45"
      }
    },
    {
      "cell_type": "code",
      "source": [
        "y1"
      ],
      "metadata": {
        "id": "DOh6dYNo3Wvr",
        "outputId": "2c9cd540-b127-401c-a031-be3bf76f3a74",
        "colab": {
          "base_uri": "https://localhost:8080/"
        }
      },
      "execution_count": 19,
      "outputs": [
        {
          "output_type": "execute_result",
          "data": {
            "text/plain": [
              "[31.92391586303711,\n",
              " 13.091510772705078,\n",
              " 11.899110794067383,\n",
              " 45.63481140136719,\n",
              " 80.02897644042969,\n",
              " 32.62456512451172,\n",
              " 30.58072280883789,\n",
              " 66.39368438720703,\n",
              " 83.5660400390625,\n",
              " 57.03245544433594,\n",
              " 41.6145133972168,\n",
              " 56.32545471191406,\n",
              " 86.68791198730469,\n",
              " 95.68932342529297,\n",
              " 78.63284301757812,\n",
              " 67.85655975341797,\n",
              " 77.12966918945312,\n",
              " 94.6656723022461,\n",
              " 98.17948913574219,\n",
              " 85.2182846069336,\n",
              " 75.08535766601562,\n",
              " 79.06875610351562,\n",
              " 91.55237579345703,\n",
              " 98.66497802734375,\n",
              " 95.22628784179688,\n",
              " 90.0196304321289,\n",
              " 91.00301361083984,\n",
              " 96.09512329101562,\n",
              " 98.2394790649414,\n",
              " 95.56375885009766,\n",
              " 93.01067352294922,\n",
              " 94.27967834472656,\n",
              " 97.27581787109375,\n",
              " 98.00084686279297,\n",
              " 96.5340805053711,\n",
              " 96.23817443847656,\n",
              " 98.18525695800781,\n",
              " 99.7813949584961,\n",
              " 98.93148040771484,\n",
              " 97.16925811767578,\n",
              " 97.13621520996094,\n",
              " 98.81655883789062,\n",
              " 99.92640686035156,\n",
              " 99.34441375732422,\n",
              " 98.45124053955078,\n",
              " 98.67125701904297,\n",
              " 99.45045471191406,\n",
              " 99.52542114257812,\n",
              " 98.99097442626953,\n",
              " 98.88996887207031,\n",
              " 99.41356658935547,\n",
              " 99.75872039794922,\n",
              " 99.5688705444336,\n",
              " 99.41585540771484,\n",
              " 99.6780014038086,\n",
              " 99.89449310302734,\n",
              " 99.6389389038086,\n",
              " 99.29804992675781,\n",
              " 99.41961669921875,\n",
              " 99.82420349121094,\n",
              " 99.95695495605469,\n",
              " 99.78005981445312,\n",
              " 99.71115112304688,\n",
              " 99.863037109375,\n",
              " 99.93336486816406,\n",
              " 99.79866027832031,\n",
              " 99.70138549804688,\n",
              " 99.791748046875,\n",
              " 99.9090347290039,\n",
              " 99.91535949707031,\n",
              " 99.90017700195312,\n",
              " 99.94017028808594,\n",
              " 99.9476089477539,\n",
              " 99.87557983398438,\n",
              " 99.8338851928711,\n",
              " 99.89080810546875,\n",
              " 99.95579528808594,\n",
              " 99.95159149169922,\n",
              " 99.93196105957031,\n",
              " 99.94820404052734,\n",
              " 99.95437622070312,\n",
              " 99.91876220703125,\n",
              " 99.89512634277344,\n",
              " 99.92073059082031,\n",
              " 99.95503234863281,\n",
              " 99.96282958984375,\n",
              " 99.96210479736328,\n",
              " 99.96282196044922,\n",
              " 99.9460678100586,\n",
              " 99.92015075683594,\n",
              " 99.9200668334961,\n",
              " 99.94537353515625,\n",
              " 99.96275329589844,\n",
              " 99.96371459960938,\n",
              " 99.96409606933594,\n",
              " 99.96224212646484,\n",
              " 99.94782257080078,\n",
              " 99.9336929321289,\n",
              " 99.93791961669922,\n",
              " 99.95333099365234,\n",
              " 99.96317291259766,\n",
              " 99.9655532836914,\n",
              " 99.96368408203125,\n",
              " 99.95590209960938,\n",
              " 99.9465560913086,\n",
              " 99.94580078125,\n",
              " 99.95345306396484,\n",
              " 99.96026611328125,\n",
              " 99.96263122558594,\n",
              " 99.9621810913086,\n",
              " 99.9582290649414,\n",
              " 99.95213317871094,\n",
              " 99.95025634765625,\n",
              " 99.95487976074219,\n",
              " 99.96073913574219,\n",
              " 99.96338653564453,\n",
              " 99.9625244140625,\n",
              " 99.95880889892578,\n",
              " 99.95426177978516,\n",
              " 99.95301055908203,\n",
              " 99.95633697509766,\n",
              " 99.96087646484375,\n",
              " 99.96339416503906,\n",
              " 99.9632797241211,\n",
              " 99.96077728271484,\n",
              " 99.95732116699219,\n",
              " 99.95594024658203,\n",
              " 99.95796203613281,\n",
              " 99.9613037109375,\n",
              " 99.96343231201172,\n",
              " 99.96349334716797]"
            ]
          },
          "metadata": {},
          "execution_count": 19
        }
      ]
    },
    {
      "cell_type": "code",
      "source": [
        "### Model result using epsilon loss function with penalty\n",
        "print(\"Penalty lambda value = \" + str(LAMBDA_PEN))\n",
        "print(\"Interval is [{lb}, {ub}], with N_POINTS = {np}\".format(lb=LOWER_BOUND, \n",
        "                                                              ub=UPPER_BOUND,\n",
        "                                                              np=N_POINTS))\n",
        "print(\"\\n\")\n",
        "# Plot 1: The epsilon_loss with lambda penalty:\n",
        "print(\"Plot 1: The epsilon_loss_with_penalty along the training epochs:\")\n",
        "x_epochs = graph_val_pen[0]\n",
        "y1 = [i.detach().numpy().item() for i in graph_val_pen[1]]\n",
        "plot_figure(x_epochs, y1)\n",
        "print(\"\\n\")\n",
        "# Plot 2: The epsilon_loss value when using train with penalty:\n",
        "print(\"Plot 2: The epsilon_loss value along the training epochs:\")\n",
        "y2 = [i.detach().numpy().item() for i in graph_val_pen[2]]\n",
        "plot_figure(x_epochs, y2)\n",
        "print(\"\\n\")\n",
        "\n",
        "# plot_figure(x_values, model_output)\n",
        "# Plot 3: the model's output with input from the interval [LOWER_BOUND, UPPER_BOUND]:\n",
        "print(\"Plot 3: the model's output with input from the interval: \")\n",
        "x_vals = [torch.tensor([i], requires_grad=True, dtype=torch.float) for i in x_train]\n",
        "\n",
        "model_output = []\n",
        "for i in x_vals:\n",
        "    model_output.append(model(i).detach().numpy().item())\n",
        "\n",
        "plot_figure(x_values, model_output)"
      ],
      "metadata": {
        "id": "Hl5KH2lsp642",
        "outputId": "112f5055-0986-4444-df0b-2331283bdfc0",
        "colab": {
          "base_uri": "https://localhost:8080/",
          "height": 1000
        }
      },
      "execution_count": 18,
      "outputs": [
        {
          "output_type": "stream",
          "name": "stdout",
          "text": [
            "Penalty lambda value = 100\n",
            "Interval is [-6, 6], with N_POINTS = 1001\n",
            "\n",
            "\n",
            "Plot 1: The epsilon_loss_with_penalty along the training epochs:\n"
          ]
        },
        {
          "output_type": "display_data",
          "data": {
            "text/plain": [
              "<Figure size 432x288 with 0 Axes>"
            ]
          },
          "metadata": {}
        },
        {
          "output_type": "display_data",
          "data": {
            "text/plain": [
              "<Figure size 640x480 with 1 Axes>"
            ],
            "image/png": "[encoded data removed]"
          },
          "metadata": {
            "needs_background": "light"
          }
        },
        {
          "output_type": "stream",
          "name": "stdout",
          "text": [
            "\n",
            "\n",
            "Plot 2: The epsilon_loss value along the training epochs:\n"
          ]
        },
        {
          "output_type": "display_data",
          "data": {
            "text/plain": [
              "<Figure size 432x288 with 0 Axes>"
            ]
          },
          "metadata": {}
        },
        {
          "output_type": "display_data",
          "data": {
            "text/plain": [
              "<Figure size 640x480 with 1 Axes>"
            ],
            "image/png": "[encoded data removed]"
          },
          "metadata": {
            "needs_background": "light"
          }
        },
        {
          "output_type": "stream",
          "name": "stdout",
          "text": [
            "\n",
            "\n",
            "Plot 3: the model's output with input from the interval: \n"
          ]
        },
        {
          "output_type": "display_data",
          "data": {
            "text/plain": [
              "<Figure size 432x288 with 0 Axes>"
            ]
          },
          "metadata": {}
        },
        {
          "output_type": "display_data",
          "data": {
            "text/plain": [
              "<Figure size 640x480 with 1 Axes>"
            ],
            "image/png": "[encoded data removed]"
          },
          "metadata": {
            "needs_background": "light"
          }
        }
      ]
    },
    {
      "cell_type": "code",
      "execution_count": null,
      "metadata": {
        "colab": {
          "base_uri": "https://localhost:8080/",
          "height": 430
        },
        "id": "jd2I0gRqHO8Z",
        "outputId": "15978184-99da-4f52-d206-d0deff5669aa"
      },
      "outputs": [
        {
          "data": {
            "text/plain": [
              "<Figure size 432x288 with 0 Axes>"
            ]
          },
          "metadata": {},
          "output_type": "display_data"
        },
        {
          "data": {
            "image/png": "[encoded data removed]",
            "text/plain": [
              "<Figure size 640x480 with 1 Axes>"
            ]
          },
          "metadata": {
            "needs_background": "light"
          },
          "output_type": "display_data"
        }
      ],
      "source": [
        "plot_figure(graph_val[0][150:], loss_val[150:])"
      ]
    },
    {
      "cell_type": "markdown",
      "metadata": {
        "id": "3GZ9S2gz-JM1"
      },
      "source": [
        "Dear professor, here's my current progress:\n",
        "1. I implement epsilon_Loss_penalty function. Now, the training process will iterate until it counts 5 consecutive times the loss difference between the current loss values with its previous loss < 1e-5. \n",
        "\n",
        "    Then, it finds the normalization constant c and apply to model.output weight layer and its bias. Then the algorithm updates the normalized output weight layer for the model. \n",
        "\n",
        "    The result: the training process only takes < 300 epochs to converge to a loss value of 78.7160. This occurs consistently after several re-runs. The problem: the constant c is 1 from my normalization function. I'm looking for a normalization from the PyTorch library to use instead. Please let me know if I can use this function for the normalization part: [PyTorch normalization function](https://pytorch.org/docs/stable/generated/torch.nn.functional.normalize.html)\n"
      ]
    },
    {
      "cell_type": "code",
      "execution_count": null,
      "metadata": {
        "colab": {
          "base_uri": "https://localhost:8080/",
          "height": 430
        },
        "id": "yOAl63W0qaq_",
        "outputId": "0966c5cc-146b-4f15-d330-522a5eafc1e6"
      },
      "outputs": [
        {
          "data": {
            "text/plain": [
              "<Figure size 432x288 with 0 Axes>"
            ]
          },
          "metadata": {},
          "output_type": "display_data"
        },
        {
          "data": {
            "image/png": "[encoded data removed]",
            "text/plain": [
              "<Figure size 640x480 with 1 Axes>"
            ]
          },
          "metadata": {
            "needs_background": "light"
          },
          "output_type": "display_data"
        }
      ],
      "source": [
        "plot_figure(x_train, y_train)"
      ]
    },
    {
      "cell_type": "code",
      "execution_count": null,
      "metadata": {
        "id": "el6VL83Qddfj"
      },
      "outputs": [],
      "source": [
        ""
      ]
    },
    {
      "cell_type": "markdown",
      "metadata": {
        "id": "VPn9pDNlm88W"
      },
      "source": [
        "# HOW TO TRAIN THE NN MODEL:\n",
        "1. Reset adam_optimizer: \n",
        "```adam_opt.zero_grad()```\n",
        "2. Calculate loss\n",
        "3. Update the optimizer: \n",
        "```adam_opt.step()```\n",
        "\n",
        "\n",
        "        weight = weight - lr * gradient\n",
        "\n",
        "-> use lr and gradient to \"improve\" weight layer. \n",
        "\n",
        "Explanation:\n",
        "```adam_opt.step()```: Update the model's parameters \n"
      ]
    },
    {
      "cell_type": "code",
      "execution_count": null,
      "metadata": {
        "id": "0VfCCteSFrC8"
      },
      "outputs": [],
      "source": [
        "model_p = Nonlinear_2(4)\n",
        "adam_opt = torch.optim.Adam(model_p.parameters(), \n",
        "                                    lr=learningRate, \n",
        "                                    betas=(0.9, 0.999), \n",
        "                                    eps=1e-08, \n",
        "                                    weight_decay=0, \n",
        "                                    amsgrad=False)"
      ]
    },
    {
      "cell_type": "code",
      "execution_count": null,
      "metadata": {
        "colab": {
          "base_uri": "https://localhost:8080/"
        },
        "id": "MUjHqCmkNRzB",
        "outputId": "a8eba8cf-5f24-45cf-f588-85f437d798fc"
      },
      "outputs": [
        {
          "name": "stdout",
          "output_type": "stream",
          "text": [
            "tensor([-0.5799], grad_fn=<AddBackward0>)\n"
          ]
        }
      ],
      "source": [
        "x_i = torch.tensor([-2.5], requires_grad=True, dtype=torch.float)\n",
        "u_xi = model_p(x_i)\n",
        "print(u_xi)\n",
        "u_xi.backward()\n",
        "u_prime = x_i.grad"
      ]
    },
    {
      "cell_type": "code",
      "execution_count": null,
      "metadata": {
        "colab": {
          "base_uri": "https://localhost:8080/"
        },
        "id": "0A2qd2M1OXQ5",
        "outputId": "224f75ed-733d-4edc-f3ad-3d78dac7f66a"
      },
      "outputs": [
        {
          "name": "stdout",
          "output_type": "stream",
          "text": [
            "- Hidden layers: \n",
            "Parameter containing:\n",
            "tensor([[-0.4363],\n",
            "        [-0.2556],\n",
            "        [ 0.6323],\n",
            "        [-0.8666]], requires_grad=True)\n",
            "\n",
            "\n",
            "- Hidden layers gradients (derivative of Loss w.r.t model params): \n",
            "None\n",
            "Parameter containing:\n",
            "tensor([ 0.9463, -0.8034, -0.8181,  0.5812], requires_grad=True)\n",
            "\n",
            "\n",
            "Output layers: \n",
            "Parameter containing:\n",
            "tensor([[-0.3294, -0.3360,  0.0453, -0.0283]], requires_grad=True)\n",
            "None\n",
            "Parameter containing:\n",
            "tensor([0.4850], requires_grad=True)\n"
          ]
        }
      ],
      "source": [
        "# Access the model's parameters:\n",
        "# Model's hidden layer weight and bias\n",
        "print(\"- Hidden layers: \")\n",
        "print(model_p.hidden.weight)\n",
        "print(\"\\n\")\n",
        "\n",
        "print(\"- Hidden layers gradients (derivative of Loss w.r.t model params): \")\n",
        "print(model_p.hidden.weight.grad)\n",
        "print(model_p.hidden.bias)\n",
        "print(\"\\n\")\n",
        "\n",
        "# Model's output layer weight and bias\n",
        "print(\"Output layers: \")\n",
        "print(model_p.output.weight)\n",
        "print(model_p.hidden.weight.grad)\n",
        "print(model_p.output.bias)\n",
        "\n",
        "# model.zero_grad()\n",
        "\n",
        "i, o = (x_train[0], y_train[0])\n",
        "i = Variable(torch.from_numpy(i))\n",
        "o = Variable(torch.from_numpy(o))\n"
      ]
    },
    {
      "cell_type": "code",
      "execution_count": null,
      "metadata": {
        "colab": {
          "base_uri": "https://localhost:8080/"
        },
        "id": "BA_91qCHWhjs",
        "outputId": "20a262ba-f9a2-4cf1-b0c4-110596eb2f63"
      },
      "outputs": [
        {
          "name": "stdout",
          "output_type": "stream",
          "text": [
            "- Hidden layers: \n",
            "Parameter containing:\n",
            "tensor([[-0.4363],\n",
            "        [-0.2556],\n",
            "        [ 0.6323],\n",
            "        [-0.8666]], requires_grad=True)\n",
            "\n",
            "\n",
            "- Hidden layers gradients (derivative of Loss w.r.t model params): \n",
            "None\n",
            "Parameter containing:\n",
            "tensor([ 0.9463, -0.8034, -0.8181,  0.5812], requires_grad=True)\n",
            "\n",
            "\n",
            "Output layers: \n",
            "Parameter containing:\n",
            "tensor([[-0.3294, -0.3360,  0.0453, -0.0283]], requires_grad=True)\n",
            "None\n",
            "Parameter containing:\n",
            "tensor([0.4850], requires_grad=True)\n"
          ]
        }
      ],
      "source": [
        "print(\"- Hidden layers: \")\n",
        "print(model_p.hidden.weight)\n",
        "print(\"\\n\")\n",
        "\n",
        "print(\"- Hidden layers gradients (derivative of Loss w.r.t model params): \")\n",
        "print(model_p.hidden.weight.grad)\n",
        "print(model_p.hidden.bias)\n",
        "print(\"\\n\")\n",
        "\n",
        "# Model's output layer weight and bias\n",
        "print(\"Output layers: \")\n",
        "print(model_p.output.weight)\n",
        "print(model_p.hidden.weight.grad)\n",
        "print(model_p.output.bias)\n",
        "\n",
        "# model.zero_grad()\n",
        "\n",
        "i, o = (x_train[0], y_train[0])\n",
        "i = Variable(torch.from_numpy(i))\n",
        "o = Variable(torch.from_numpy(o))"
      ]
    },
    {
      "cell_type": "code",
      "execution_count": null,
      "metadata": {
        "colab": {
          "base_uri": "https://localhost:8080/"
        },
        "id": "6jQeEbaMHkeA",
        "outputId": "32d5985d-7d0f-4048-c555-7ef3785149ca"
      },
      "outputs": [
        {
          "data": {
            "text/plain": [
              "tensor([0., 0., 0.])"
            ]
          },
          "execution_count": 54,
          "metadata": {},
          "output_type": "execute_result"
        }
      ],
      "source": [
        "x.grad.zero_()"
      ]
    },
    {
      "cell_type": "code",
      "execution_count": null,
      "metadata": {
        "colab": {
          "base_uri": "https://localhost:8080/"
        },
        "id": "zkmedTJ6J1Hr",
        "outputId": "01a83e6e-280c-4a72-d9c4-bff991258866"
      },
      "outputs": [
        {
          "name": "stdout",
          "output_type": "stream",
          "text": [
            "tensor([True, True])\n",
            "tensor([True, True])\n"
          ]
        }
      ],
      "source": [
        "a = torch.tensor([2., 3.], requires_grad=True)\n",
        "b = torch.tensor([6., 4.], requires_grad=True)\n",
        "\n",
        "t = 3*a**3 - b**2\n",
        "\n",
        "external_grad = torch.tensor([1., 1.])\n",
        "t.backward(gradient=external_grad)\n",
        "\n",
        "print(9*a**2 == a.grad)\n",
        "print(-2*b == b.grad)"
      ]
    },
    {
      "cell_type": "markdown",
      "metadata": {
        "id": "ZyuNXuz-iLBZ"
      },
      "source": [
        "https://neptune.ai/blog/pytorch-loss-functions\n",
        "https://stackoverflow.com/questions/53980031/pytorch-custom-loss-function\n",
        "https://stackoverflow.com/questions/65947284/loss-with-custom-backward-function-in-pytorch-exploding-loss-in-simple-mse-exa\n",
        "https://www.youtube.com/watch?v=ma2KXWblllc"
      ]
    },
    {
      "cell_type": "code",
      "execution_count": null,
      "metadata": {
        "id": "M0PS0efCiJCp"
      },
      "outputs": [],
      "source": [
        ""
      ]
    }
  ],
  "metadata": {
    "colab": {
      "name": "PyTorch_.ipynb",
      "provenance": []
    },
    "kernelspec": {
      "display_name": "Python 3",
      "language": "python",
      "name": "python3"
    },
    "language_info": {
      "codemirror_mode": {
        "name": "ipython",
        "version": 3
      },
      "file_extension": ".py",
      "mimetype": "text/x-python",
      "name": "python",
      "nbconvert_exporter": "python",
      "pygments_lexer": "ipython3",
      "version": "3.7.7"
    },
    "vscode": {
      "interpreter": {
        "hash": "8c21580189d9a9d7f1e3fef63ff70de58083dda94aa35d8ed937f03fa405217e"
      }
    }
  },
  "nbformat": 4,
  "nbformat_minor": 0
}