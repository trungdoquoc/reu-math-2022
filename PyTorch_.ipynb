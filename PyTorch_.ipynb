{
  "cells": [
    {
      "cell_type": "markdown",
      "metadata": {
        "id": "MpofWgGancyb"
      },
      "source": [
        "The input of the NN is 1D. "
      ]
    },
    {
      "cell_type": "code",
      "execution_count": 1,
      "metadata": {
        "id": "e-NAhHF3ncye"
      },
      "outputs": [],
      "source": [
        "import numpy as np\n",
        "import copy\n",
        "import torch\n",
        "import torch.nn as nn\n",
        "import math\n",
        "from torch.autograd import Variable\n",
        "from sklearn.model_selection import train_test_split\n",
        "import matplotlib.pyplot as plt\n",
        "\n",
        "INPUT_SIZE = 1\n",
        "OUTPUT_SIZE = 1\n",
        "\n",
        "LOWER_BOUND = -10\n",
        "UPPER_BOUND = 10\n",
        "N_POINTS = 200\n",
        "\n",
        "\n",
        "def quad_fn(a, b, c, x):\n",
        "\treturn a*x**2 + b*x + c\n",
        "\n",
        "def x_square(x: torch.tensor) -> torch.Tensor:\n",
        "\treturn x**2\n",
        "\n",
        "# DEFINE GIVEN FUNCTION V(x): ax^2 + bx + c\n",
        "given_fn = x_square"
      ]
    },
    {
      "cell_type": "code",
      "execution_count": 2,
      "metadata": {
        "id": "EstQ_ILqQeOt",
        "outputId": "ccbcff69-d87b-4610-9801-d49ae734cc57",
        "colab": {
          "base_uri": "https://localhost:8080/"
        }
      },
      "outputs": [
        {
          "output_type": "stream",
          "name": "stdout",
          "text": [
            "(200, 1) (200, 1)\n"
          ]
        }
      ],
      "source": [
        "# CREATING DATASET:\n",
        "x_values = [i for i in np.linspace(LOWER_BOUND, UPPER_BOUND, N_POINTS)]\n",
        "y_values = [given_fn(i) for i in x_values]\n",
        "\n",
        "x_train = np.array(x_values, dtype=np.float32).reshape(-1, 1)\n",
        "y_train = np.array(y_values, dtype=np.float32).reshape(-1, 1)\n",
        "\n",
        "print(x_train.shape, y_train.shape)"
      ]
    },
    {
      "cell_type": "code",
      "execution_count": 7,
      "metadata": {
        "id": "SOtFslmCncyg"
      },
      "outputs": [],
      "source": [
        "# CUSTOM LOSS FUNCTION:\n",
        "# def EpsilonLoss(nn.Module):\n",
        "\n",
        "def epsilon_Loss(v_x, model_u, lower_bound, upper_bound, n_points):\n",
        "    \"\"\"\n",
        "    GOAL: Epsilon function evaluated at u using discretized estimation\n",
        "    minimizing Epsilon(u) = \n",
        "    \n",
        "    ARGS: \n",
        "    n_points (int): number of discretized points on the interval [-L, L]\n",
        "    e.g.: -(L)|---|---|---|---|(L) interval has n_points = 5\n",
        "\n",
        "    v_x (torch.Tensor): function instance\n",
        "    model_u (torch.Tensor): model output\n",
        "    \"\"\"\n",
        "    sum = 0\n",
        "    discrete_points = np.linspace(lower_bound, upper_bound, n_points)\n",
        "    for i in discrete_points:\n",
        "        x_i = torch.tensor([i], requires_grad=True, dtype=torch.float)\n",
        "        u_xi = model_u(x_i)\n",
        "\n",
        "        # u_xi.backward()\n",
        "        # u_prime = x_i.grad\n",
        "        \n",
        "        u_prime = model_u.u_prime(x_i)\n",
        "        \n",
        "        v_xi = v_x(x_i)\n",
        "        t = torch.abs(u_prime)**2 + v_xi*(u_xi**2)\n",
        "        sum += t\n",
        "        # print(\"x_i = \" + str(x_i))\n",
        "        # print(\"u_xi = \" + str(u_xi))\n",
        "        # print(\"u_prime = \" + str(u_prime))\n",
        "        # print(\"v_xi = \" + str(v_xi))\n",
        "        # print(t)\n",
        "        # print('-----')\n",
        "    return 0.5*sum\n",
        "\n",
        "# NORMALIZE MODEL u(x) OUTPUT:\n",
        "def normalize_u(model_u, lower_bound, upper_bound, n_points):\n",
        "    \"\"\"\n",
        "    Normalize model.output weight by: \n",
        "    model.output *= c\n",
        "    where,\n",
        "    scalar c = 1/denom\n",
        "    \"\"\"\n",
        "    discrete_points = np.linspace(lower_bound, upper_bound, n_points)\n",
        "    h = discrete_points[1] - discrete_points[0]\n",
        "    s = 0\n",
        "    for i in discrete_points:\n",
        "        x_i = torch.tensor([i], requires_grad=True, dtype=torch.float)\n",
        "        t = model_u(x_i)**2\n",
        "        s += t\n",
        "    denom = math.sqrt(h) * torch.sqrt(s)\n",
        "    return 1/denom"
      ]
    },
    {
      "cell_type": "code",
      "execution_count": 12,
      "metadata": {
        "id": "06QWhlkpQ5Eh"
      },
      "outputs": [],
      "source": [
        "# CREATING MODEL CLASS\n",
        "class Nonlinear(nn.Module):\n",
        "    def __init__(self, n):\n",
        "        # One hidden layer with n nodes\n",
        "        super().__init__()\n",
        "        self.hidden = nn.Linear(1, n)\n",
        "        self.output = nn.Linear(n, 1)\n",
        "        \n",
        "        self.sigmoid = nn.Sigmoid()\n",
        "        self.tanh = nn.Tanh()\n",
        "        self.target_fn = given_fn\n",
        "\n",
        "    def forward(self, x, use_tanh_fn = False, activation_on_output = False):\n",
        "        if use_tanh_fn == True:\n",
        "            x = self.hidden(x)\n",
        "            x = self.tanh(x)\n",
        "            x = self.output(x)\n",
        "            \n",
        "        else:\n",
        "            x = self.hidden(x)\n",
        "            x = self.sigmoid(x)\n",
        "            x = self.output(x)\n",
        "            \n",
        "        if activation_on_output == False:\n",
        "            return x\n",
        "        else:\n",
        "            if use_tanh_fn == True:\n",
        "                return self.tanh(x)\n",
        "            else:       \n",
        "                return self.sigmoid(x)\n",
        "        # output is a linear combination of the hidden layers because \n",
        "        # we perform regression ???\n",
        "        return x\n",
        "\n",
        "    def u_prime(self, input):\n",
        "        \"\"\"\n",
        "        NN with 1 hidden node layer is of the form:\n",
        "        u(x) = SUM_i_to_N(a_i * sigmoid(w.x + b))\n",
        "\n",
        "        where\n",
        "        a_i is the corresponding weight of self.output layerq\n",
        "        w is self.hidden.weight vector\n",
        "        b is self.hidden.bias vector\n",
        "        sigmoid(w.x + b) is the sigmoid-activated hidden vector\n",
        "\n",
        "        Formula of u'(x) (for 1 hidden layer NN):\n",
        "        u'(x) = SUM_i_to_N(w_i*a_i*sigmoid'(w_i*x+b))\n",
        "        Note: sigmoid'(w_i*x +b) = sigmoid(w_i*x+b)*(1-sigmoid(w_i*x+b))\n",
        "        \"\"\"\n",
        "        a_i = self.output.weight.data\n",
        "        w_i = torch.transpose(self.hidden.weight.data, 0, 1)\n",
        "        wi_ai = w_i * a_i\n",
        "\n",
        "        hid_layer = self.hidden(input)\n",
        "        hid_layer_T = torch.reshape(hid_layer, (list(hid_layer.shape)[0], 1))\n",
        "        m = hid_layer_T * (1-hid_layer_T)\n",
        "\n",
        "        return wi_ai @ m\n",
        "    \n",
        "# TRANING MODEL\n",
        "    def train_network(self, num_epochs, v_x, optimizer, \n",
        "                      LOWER_BOUND, UPPER_BOUND, N_POINTS):\n",
        "        # For plotting loss value over epochs:\n",
        "        x_epochs = [i for i in range(num_epochs)]\n",
        "        y_loss = []\n",
        "        for epoch in range(num_epochs):\n",
        "            if epoch % 50 == 0:\n",
        "                # normalize model.ouput.weight\n",
        "                # TODO: Do I need to normalize the bias?\n",
        "                c = normalize_u(self, LOWER_BOUND, UPPER_BOUND, N_POINTS)\n",
        "                self.output.weight.data.copy_(c.item() * self.output.weight.data)\n",
        "\n",
        "            for (input, output) in (zip(x_train, y_train)):\n",
        "                # if torch.cuda.is_available():\n",
        "                #     input = Variable(torch.from_numpy(input).cuda())\n",
        "                #     output = Variable(torch.from_numpy(output).cuda())\n",
        "                # else:\n",
        "                input = Variable(torch.from_numpy(input))\n",
        "                output = Variable(torch.from_numpy(output))\n",
        "\n",
        "                optimizer.zero_grad()\n",
        "                loss = epsilon_Loss(v_x, self, LOWER_BOUND, \n",
        "                                    UPPER_BOUND, N_POINTS)\n",
        "                # print(model.hidden.weight.grad)\n",
        "                loss.backward()\n",
        "                # loss.backward()\n",
        "                # print(loss.data)\n",
        "                # print(type(loss))\n",
        "                # TODO: calculate the derivative(loss) w.r.t the model's parameters\n",
        "                # TODO: use adam optimizer to update the parameters\n",
        "                adam_optimizer.step()\n",
        "            loss = epsilon_Loss(given_fn, model, LOWER_BOUND, \n",
        "                                    UPPER_BOUND, N_POINTS)\n",
        "            y_loss.append(loss)\n",
        "            print('epoch {}, loss {}'.format(epoch, loss.item()))\n",
        "\n",
        "        return (x_epochs, y_loss)"
      ]
    },
    {
      "cell_type": "code",
      "source": [
        ""
      ],
      "metadata": {
        "id": "r_Y6gCLiLo5Y",
        "outputId": "0f3c4a52-f591-42ba-92fc-cbae6ec32231",
        "colab": {
          "base_uri": "https://localhost:8080/"
        }
      },
      "execution_count": 39,
      "outputs": [
        {
          "output_type": "execute_result",
          "data": {
            "text/plain": [
              "<bound method Module.cuda of Nonlinear(\n",
              "  (hidden): Linear(in_features=1, out_features=5, bias=True)\n",
              "  (output): Linear(in_features=5, out_features=1, bias=True)\n",
              "  (sigmoid): Sigmoid()\n",
              "  (tanh): Tanh()\n",
              ")>"
            ]
          },
          "metadata": {},
          "execution_count": 39
        }
      ]
    },
    {
      "cell_type": "code",
      "execution_count": 29,
      "metadata": {
        "id": "hbBxk8_fncyl"
      },
      "outputs": [],
      "source": [
        "# DEFINE HYPER-PARAMETERS\n",
        "batch_size = 50\n",
        "learningRate = 0.05\n",
        "num_epochs = 1000\n",
        "# num_epochs = int(num_iters/(len(x_train)/batch_size))\n",
        "\n",
        "#INIT PARAMETERS: \n",
        "# v_x = given_fn\n",
        "l_b = -10\n",
        "u_b = 10\n",
        "n_points = 5\n",
        "\n",
        "#INIT MODEL\n",
        "model = Nonlinear(5)\n",
        "if torch.cuda.is_available():\n",
        "    model.cuda()\n",
        "\n",
        "# INIT OPTIMIZER CLASS\n",
        "# What is an optimizer: \n",
        "# SGD:\n",
        "# SGD_optimizer = torch.optim.SGD(model.parameters(), lr=learningRate)\n",
        "# Adam:\n",
        "adam_optimizer = torch.optim.Adam(model.parameters(), \n",
        "                                    lr=learningRate, \n",
        "                                    betas=(0.9, 0.999), \n",
        "                                    eps=1e-08, \n",
        "                                    weight_decay=0, \n",
        "                                    amsgrad=False)\n",
        "\n",
        "# INIT LOSS FUNCTION: MSE\n",
        "# criterion = epsilon_Loss"
      ]
    },
    {
      "cell_type": "code",
      "source": [
        "graph_val = model.train_network(num_epochs, given_fn, adam_optimizer, LOWER_BOUND, UPPER_BOUND, N_POINTS)"
      ],
      "metadata": {
        "id": "WZbaJ3MsB08r",
        "outputId": "d408636c-7414-4b59-93cf-3cf5c1ce32cb",
        "colab": {
          "base_uri": "https://localhost:8080/"
        }
      },
      "execution_count": null,
      "outputs": [
        {
          "output_type": "stream",
          "name": "stdout",
          "text": [
            "epoch 0, loss 366.4354248046875\n",
            "epoch 1, loss 176.8972930908203\n",
            "epoch 2, loss 105.49504852294922\n",
            "epoch 3, loss 80.48761749267578\n",
            "epoch 4, loss 71.78555297851562\n",
            "epoch 5, loss 67.88192749023438\n",
            "epoch 6, loss 64.92372131347656\n",
            "epoch 7, loss 61.9002685546875\n",
            "epoch 8, loss 58.66411209106445\n",
            "epoch 9, loss 55.26643371582031\n",
            "epoch 10, loss 51.75843048095703\n"
          ]
        }
      ]
    },
    {
      "cell_type": "code",
      "source": [
        "loss_val = [0.1817954182624817, 0.05032005533576012, 0.011522994376718998, 0.002926675835624337, 0.001283779856748879, 0.0009413482039235532, 0.0008131795912049711, 0.000722082972060889, 0.0006411740323528647, 0.0005663186311721802, 0.000497222354169935, 0.000633180548902601, 0.0003815441741608083, 0.00041009296546690166, 0.00027364707784727216, 0.00025978381745517254, 0.27622777223587036, 0.0001702941517578438, 0.01936458609998226, 0.00012408044131007046, 0.004012296907603741, 9.834294178290293e-05, 0.00016300356946885586, 8.257748413598165e-05, 0.00010627388837747276, 0.0006671213777735829, 8.665369387017563e-05, 0.32811009883880615, 5.265657455311157e-05, 0.005848045460879803, 5.156049519428052e-05, 0.007710508070886135, 0.00013975596812088042, 0.0013823237968608737, 0.000212768922210671, 0.0001788920199032873, 7.175825157901272e-05, 9.072926332009956e-05, 2.53463077545166, 1.0930462849501055e-05]"
      ],
      "metadata": {
        "id": "w6YopEIrKkJY"
      },
      "execution_count": 33,
      "outputs": []
    },
    {
      "cell_type": "code",
      "source": [
        "Dear professor, here is the plot for . For now I only "
      ],
      "metadata": {
        "id": "zkbD3fXRLGBI",
        "outputId": "7dfa28bb-5379-4069-a4be-cf3dc88e551d",
        "colab": {
          "base_uri": "https://localhost:8080/"
        }
      },
      "execution_count": 35,
      "outputs": [
        {
          "output_type": "execute_result",
          "data": {
            "text/plain": [
              "40"
            ]
          },
          "metadata": {},
          "execution_count": 35
        }
      ]
    },
    {
      "cell_type": "code",
      "source": [
        "loss_val = [i.detach().numpy().item() for i in graph_val[1]]"
      ],
      "metadata": {
        "id": "XBYQKdIYHYOY"
      },
      "execution_count": 31,
      "outputs": []
    },
    {
      "cell_type": "code",
      "source": [
        "loss_val"
      ],
      "metadata": {
        "id": "fKZP39qEHj_Z",
        "outputId": "7e932255-337e-431a-b7cb-2b8997aba1d1",
        "colab": {
          "base_uri": "https://localhost:8080/"
        }
      },
      "execution_count": 32,
      "outputs": [
        {
          "output_type": "execute_result",
          "data": {
            "text/plain": [
              "[0.0653328225016594,\n",
              " 0.058631569147109985,\n",
              " 0.041199956089258194,\n",
              " 0.02013426274061203,\n",
              " 0.006599788554012775,\n",
              " 0.002496907487511635,\n",
              " 0.0021015144884586334,\n",
              " 0.0018891587387770414,\n",
              " 0.001976498868316412,\n",
              " 0.012490830384194851]"
            ]
          },
          "metadata": {},
          "execution_count": 32
        }
      ]
    },
    {
      "cell_type": "code",
      "source": [
        "plot_figure([i for i in range(len(loss_val))], loss_val)"
      ],
      "metadata": {
        "id": "jd2I0gRqHO8Z",
        "outputId": "7bfadfbf-2fa3-4ac0-876a-61575a761f7c",
        "colab": {
          "base_uri": "https://localhost:8080/",
          "height": 430
        }
      },
      "execution_count": 36,
      "outputs": [
        {
          "output_type": "display_data",
          "data": {
            "text/plain": [
              "<Figure size 432x288 with 0 Axes>"
            ]
          },
          "metadata": {}
        },
        {
          "output_type": "display_data",
          "data": {
            "text/plain": [
              "<Figure size 640x480 with 1 Axes>"
            ],
            "image/png": "[encoded data removed]"
          },
          "metadata": {
            "needs_background": "light"
          }
        }
      ]
    },
    {
      "cell_type": "code",
      "source": [
        "v_x = given_fn\n",
        "l_b = -10\n",
        "u_b = 10\n",
        "n_points = 200\n",
        "model_u = Nonlinear(20)\n",
        "\n",
        "res = epsilon_Loss(given_fn, model_u, l_b, u_b, n_points)\n",
        "print(res)"
      ],
      "metadata": {
        "id": "cCkoJj5T_zJp",
        "outputId": "3e9c3ed2-6155-4032-d183-d635d1285ff1",
        "colab": {
          "base_uri": "https://localhost:8080/"
        }
      },
      "execution_count": 24,
      "outputs": [
        {
          "output_type": "stream",
          "name": "stdout",
          "text": [
            "tensor([[642.3246]], grad_fn=<MulBackward0>)\n"
          ]
        }
      ]
    },
    {
      "cell_type": "code",
      "source": [
        ""
      ],
      "metadata": {
        "id": "6LvtISYK8FUi",
        "outputId": "4c246612-ab4c-48ae-b9ee-0418513326c8",
        "colab": {
          "base_uri": "https://localhost:8080/"
        }
      },
      "execution_count": 41,
      "outputs": [
        {
          "output_type": "execute_result",
          "data": {
            "text/plain": [
              "tensor([[642.3246]], grad_fn=<MulBackward0>)"
            ]
          },
          "metadata": {},
          "execution_count": 41
        }
      ]
    },
    {
      "cell_type": "code",
      "source": [
        "w = model_u.output.weight.data\n",
        "c = normalize_u(model_u, LOWER_BOUND, UPPER_BOUND, N_POINTS)\n",
        "print(w)\n"
      ],
      "metadata": {
        "id": "f3H_OYsD3Ris",
        "outputId": "2f57d2dc-1a04-40d3-c00a-4d963360b105",
        "colab": {
          "base_uri": "https://localhost:8080/"
        }
      },
      "execution_count": 38,
      "outputs": [
        {
          "output_type": "stream",
          "name": "stdout",
          "text": [
            "tensor([[ 0.1041,  0.0962, -0.1771,  0.0874,  0.1113, -0.2226, -0.1965, -0.0349,\n",
            "         -0.1274, -0.0800, -0.1009, -0.0265,  0.1447, -0.1653, -0.0199,  0.1231,\n",
            "         -0.1137, -0.0332,  0.1343, -0.2128]])\n",
            "tensor([[ 0.0539,  0.0498, -0.0917,  0.0452,  0.0576, -0.1152, -0.1017, -0.0180,\n",
            "         -0.0659, -0.0414, -0.0522, -0.0137,  0.0749, -0.0855, -0.0103,  0.0637,\n",
            "         -0.0589, -0.0172,  0.0695, -0.1101]])\n"
          ]
        }
      ]
    },
    {
      "cell_type": "code",
      "source": [
        "model_u.output.weight.data.copy_(c.item() * w)\n",
        "print(model_u.output.weight.data)\n",
        "#= model_u.output.weight * c.item()"
      ],
      "metadata": {
        "id": "1UZQFTMv48md",
        "outputId": "5491fa81-deee-465c-ca24-3bd104b7e8bf",
        "colab": {
          "base_uri": "https://localhost:8080/"
        }
      },
      "execution_count": 51,
      "outputs": [
        {
          "output_type": "stream",
          "name": "stdout",
          "text": [
            "tensor([[ 0.0539,  0.0498, -0.0917,  0.0452,  0.0576, -0.1152, -0.1017, -0.0180,\n",
            "         -0.0659, -0.0414, -0.0522, -0.0137,  0.0749, -0.0855, -0.0103,  0.0637,\n",
            "         -0.0589, -0.0172,  0.0695, -0.1101]])\n"
          ]
        }
      ]
    },
    {
      "cell_type": "code",
      "source": [
        "model_u.output.weight.data"
      ],
      "metadata": {
        "id": "1S4oHY3zAek7",
        "outputId": "722cad77-2e93-4063-823e-220240245b5b",
        "colab": {
          "base_uri": "https://localhost:8080/"
        }
      },
      "execution_count": 52,
      "outputs": [
        {
          "output_type": "execute_result",
          "data": {
            "text/plain": [
              "tensor([[ 0.0539,  0.0498, -0.0917,  0.0452,  0.0576, -0.1152, -0.1017, -0.0180,\n",
              "         -0.0659, -0.0414, -0.0522, -0.0137,  0.0749, -0.0855, -0.0103,  0.0637,\n",
              "         -0.0589, -0.0172,  0.0695, -0.1101]])"
            ]
          },
          "metadata": {},
          "execution_count": 52
        }
      ]
    },
    {
      "cell_type": "code",
      "execution_count": null,
      "metadata": {
        "id": "j6dekwy_ncyl",
        "outputId": "906bac5c-4024-4fcc-953c-99187704bafa",
        "colab": {
          "base_uri": "https://localhost:8080/",
          "height": 381
        }
      },
      "outputs": [
        {
          "output_type": "error",
          "ename": "TypeError",
          "evalue": "ignored",
          "traceback": [
            "\u001b[0;31m---------------------------------------------------------------------------\u001b[0m",
            "\u001b[0;31mTypeError\u001b[0m                                 Traceback (most recent call last)",
            "\u001b[0;32m<ipython-input-86-f12cb4c8bd04>\u001b[0m in \u001b[0;36m<module>\u001b[0;34m()\u001b[0m\n\u001b[1;32m     20\u001b[0m \u001b[0;34m\u001b[0m\u001b[0m\n\u001b[1;32m     21\u001b[0m         \u001b[0madam_optimizer\u001b[0m\u001b[0;34m.\u001b[0m\u001b[0mzero_grad\u001b[0m\u001b[0;34m(\u001b[0m\u001b[0;34m)\u001b[0m\u001b[0;34m\u001b[0m\u001b[0;34m\u001b[0m\u001b[0m\n\u001b[0;32m---> 22\u001b[0;31m         \u001b[0mloss\u001b[0m \u001b[0;34m=\u001b[0m \u001b[0mepsilon_Loss\u001b[0m\u001b[0;34m(\u001b[0m\u001b[0mgiven_fn\u001b[0m\u001b[0;34m,\u001b[0m \u001b[0mmodel\u001b[0m\u001b[0;34m,\u001b[0m \u001b[0mLOWER_BOUND\u001b[0m\u001b[0;34m,\u001b[0m \u001b[0mUPPER_BOUND\u001b[0m\u001b[0;34m,\u001b[0m \u001b[0mN_POINTS\u001b[0m\u001b[0;34m)\u001b[0m\u001b[0;34m\u001b[0m\u001b[0;34m\u001b[0m\u001b[0m\n\u001b[0m\u001b[1;32m     23\u001b[0m         \u001b[0;31m# print(model.hidden.weight.grad)\u001b[0m\u001b[0;34m\u001b[0m\u001b[0;34m\u001b[0m\u001b[0;34m\u001b[0m\u001b[0m\n\u001b[1;32m     24\u001b[0m         \u001b[0mloss\u001b[0m\u001b[0;34m.\u001b[0m\u001b[0mbackward\u001b[0m\u001b[0;34m(\u001b[0m\u001b[0;34m)\u001b[0m\u001b[0;34m\u001b[0m\u001b[0;34m\u001b[0m\u001b[0m\n",
            "\u001b[0;32m<ipython-input-80-c1e88f9d35a1>\u001b[0m in \u001b[0;36mepsilon_Loss\u001b[0;34m(v_x, model_u, lower_bound, upper_bound, n_points)\u001b[0m\n\u001b[1;32m     23\u001b[0m \u001b[0;34m\u001b[0m\u001b[0m\n\u001b[1;32m     24\u001b[0m         \u001b[0mu_prime\u001b[0m \u001b[0;34m=\u001b[0m \u001b[0mx_i\u001b[0m\u001b[0;34m.\u001b[0m\u001b[0mgrad\u001b[0m\u001b[0;34m\u001b[0m\u001b[0;34m\u001b[0m\u001b[0m\n\u001b[0;32m---> 25\u001b[0;31m         \u001b[0mu_prime_2\u001b[0m \u001b[0;34m=\u001b[0m \u001b[0mmodel_u\u001b[0m\u001b[0;34m.\u001b[0m\u001b[0mu_prime\u001b[0m\u001b[0;34m(\u001b[0m\u001b[0mi\u001b[0m\u001b[0;34m)\u001b[0m\u001b[0;34m\u001b[0m\u001b[0;34m\u001b[0m\u001b[0m\n\u001b[0m\u001b[1;32m     26\u001b[0m         \u001b[0mprint\u001b[0m\u001b[0;34m(\u001b[0m\u001b[0mu_prime\u001b[0m\u001b[0;34m,\u001b[0m \u001b[0mu_prime_2\u001b[0m\u001b[0;34m)\u001b[0m\u001b[0;34m\u001b[0m\u001b[0;34m\u001b[0m\u001b[0m\n\u001b[1;32m     27\u001b[0m \u001b[0;34m\u001b[0m\u001b[0m\n",
            "\u001b[0;32m<ipython-input-81-8c5cc755c418>\u001b[0m in \u001b[0;36mu_prime\u001b[0;34m(self, input)\u001b[0m\n\u001b[1;32m     51\u001b[0m         \u001b[0mwi_ai\u001b[0m \u001b[0;34m=\u001b[0m \u001b[0mw_i\u001b[0m \u001b[0;34m*\u001b[0m \u001b[0ma_i\u001b[0m\u001b[0;34m\u001b[0m\u001b[0;34m\u001b[0m\u001b[0m\n\u001b[1;32m     52\u001b[0m \u001b[0;34m\u001b[0m\u001b[0m\n\u001b[0;32m---> 53\u001b[0;31m         \u001b[0mhid_layer\u001b[0m \u001b[0;34m=\u001b[0m \u001b[0mmodel_u\u001b[0m\u001b[0;34m.\u001b[0m\u001b[0mhidden\u001b[0m\u001b[0;34m(\u001b[0m\u001b[0minput\u001b[0m\u001b[0;34m)\u001b[0m\u001b[0;34m\u001b[0m\u001b[0;34m\u001b[0m\u001b[0m\n\u001b[0m\u001b[1;32m     54\u001b[0m         \u001b[0mhid_layer_T\u001b[0m \u001b[0;34m=\u001b[0m \u001b[0mtorch\u001b[0m\u001b[0;34m.\u001b[0m\u001b[0mreshape\u001b[0m\u001b[0;34m(\u001b[0m\u001b[0mhid_layer\u001b[0m\u001b[0;34m,\u001b[0m \u001b[0;34m(\u001b[0m\u001b[0mlist\u001b[0m\u001b[0;34m(\u001b[0m\u001b[0mhid_layer\u001b[0m\u001b[0;34m.\u001b[0m\u001b[0mshape\u001b[0m\u001b[0;34m)\u001b[0m\u001b[0;34m[\u001b[0m\u001b[0;36m0\u001b[0m\u001b[0;34m]\u001b[0m\u001b[0;34m,\u001b[0m \u001b[0;36m1\u001b[0m\u001b[0;34m)\u001b[0m\u001b[0;34m)\u001b[0m\u001b[0;34m\u001b[0m\u001b[0;34m\u001b[0m\u001b[0m\n\u001b[1;32m     55\u001b[0m         \u001b[0mm\u001b[0m \u001b[0;34m=\u001b[0m \u001b[0mhid_layer_T\u001b[0m \u001b[0;34m*\u001b[0m \u001b[0;34m(\u001b[0m\u001b[0;36m1\u001b[0m\u001b[0;34m-\u001b[0m\u001b[0mhid_layer_T\u001b[0m\u001b[0;34m)\u001b[0m\u001b[0;34m\u001b[0m\u001b[0;34m\u001b[0m\u001b[0m\n",
            "\u001b[0;32m/usr/local/lib/python3.7/dist-packages/torch/nn/modules/module.py\u001b[0m in \u001b[0;36m_call_impl\u001b[0;34m(self, *input, **kwargs)\u001b[0m\n\u001b[1;32m   1108\u001b[0m         if not (self._backward_hooks or self._forward_hooks or self._forward_pre_hooks or _global_backward_hooks\n\u001b[1;32m   1109\u001b[0m                 or _global_forward_hooks or _global_forward_pre_hooks):\n\u001b[0;32m-> 1110\u001b[0;31m             \u001b[0;32mreturn\u001b[0m \u001b[0mforward_call\u001b[0m\u001b[0;34m(\u001b[0m\u001b[0;34m*\u001b[0m\u001b[0minput\u001b[0m\u001b[0;34m,\u001b[0m \u001b[0;34m**\u001b[0m\u001b[0mkwargs\u001b[0m\u001b[0;34m)\u001b[0m\u001b[0;34m\u001b[0m\u001b[0;34m\u001b[0m\u001b[0m\n\u001b[0m\u001b[1;32m   1111\u001b[0m         \u001b[0;31m# Do not call functions when jit is used\u001b[0m\u001b[0;34m\u001b[0m\u001b[0;34m\u001b[0m\u001b[0;34m\u001b[0m\u001b[0m\n\u001b[1;32m   1112\u001b[0m         \u001b[0mfull_backward_hooks\u001b[0m\u001b[0;34m,\u001b[0m \u001b[0mnon_full_backward_hooks\u001b[0m \u001b[0;34m=\u001b[0m \u001b[0;34m[\u001b[0m\u001b[0;34m]\u001b[0m\u001b[0;34m,\u001b[0m \u001b[0;34m[\u001b[0m\u001b[0;34m]\u001b[0m\u001b[0;34m\u001b[0m\u001b[0;34m\u001b[0m\u001b[0m\n",
            "\u001b[0;32m/usr/local/lib/python3.7/dist-packages/torch/nn/modules/linear.py\u001b[0m in \u001b[0;36mforward\u001b[0;34m(self, input)\u001b[0m\n\u001b[1;32m    101\u001b[0m \u001b[0;34m\u001b[0m\u001b[0m\n\u001b[1;32m    102\u001b[0m     \u001b[0;32mdef\u001b[0m \u001b[0mforward\u001b[0m\u001b[0;34m(\u001b[0m\u001b[0mself\u001b[0m\u001b[0;34m,\u001b[0m \u001b[0minput\u001b[0m\u001b[0;34m:\u001b[0m \u001b[0mTensor\u001b[0m\u001b[0;34m)\u001b[0m \u001b[0;34m->\u001b[0m \u001b[0mTensor\u001b[0m\u001b[0;34m:\u001b[0m\u001b[0;34m\u001b[0m\u001b[0;34m\u001b[0m\u001b[0m\n\u001b[0;32m--> 103\u001b[0;31m         \u001b[0;32mreturn\u001b[0m \u001b[0mF\u001b[0m\u001b[0;34m.\u001b[0m\u001b[0mlinear\u001b[0m\u001b[0;34m(\u001b[0m\u001b[0minput\u001b[0m\u001b[0;34m,\u001b[0m \u001b[0mself\u001b[0m\u001b[0;34m.\u001b[0m\u001b[0mweight\u001b[0m\u001b[0;34m,\u001b[0m \u001b[0mself\u001b[0m\u001b[0;34m.\u001b[0m\u001b[0mbias\u001b[0m\u001b[0;34m)\u001b[0m\u001b[0;34m\u001b[0m\u001b[0;34m\u001b[0m\u001b[0m\n\u001b[0m\u001b[1;32m    104\u001b[0m \u001b[0;34m\u001b[0m\u001b[0m\n\u001b[1;32m    105\u001b[0m     \u001b[0;32mdef\u001b[0m \u001b[0mextra_repr\u001b[0m\u001b[0;34m(\u001b[0m\u001b[0mself\u001b[0m\u001b[0;34m)\u001b[0m \u001b[0;34m->\u001b[0m \u001b[0mstr\u001b[0m\u001b[0;34m:\u001b[0m\u001b[0;34m\u001b[0m\u001b[0;34m\u001b[0m\u001b[0m\n",
            "\u001b[0;31mTypeError\u001b[0m: linear(): argument 'input' (position 1) must be Tensor, not numpy.float64"
          ]
        }
      ],
      "source": [
        ""
      ]
    },
    {
      "cell_type": "code",
      "execution_count": 18,
      "metadata": {
        "id": "sjtOBhyZLspO"
      },
      "outputs": [],
      "source": [
        "# PLOT DATA\n",
        "def plot_figure(x_train, y_train, x_test=None, predicted=None):\n",
        "    plt.clf()\n",
        "    plt.figure(figsize=(8, 6), dpi=80)\n",
        "    plt.plot(x_train, y_train, 'go', label='True data', alpha=0.5)\n",
        "    if predicted != None:\n",
        "        plt.plot(x_test, predicted, '--', label='Predictions', alpha=0.5)\n",
        "    plt.legend(loc='best')\n",
        "    plt.show()"
      ]
    },
    {
      "cell_type": "code",
      "source": [
        "plot_figure(x_train, y_train)"
      ],
      "metadata": {
        "id": "yOAl63W0qaq_",
        "outputId": "270473f0-e4e2-48b8-88af-be4bd72bf19b",
        "colab": {
          "base_uri": "https://localhost:8080/",
          "height": 430
        }
      },
      "execution_count": 10,
      "outputs": [
        {
          "output_type": "display_data",
          "data": {
            "text/plain": [
              "<Figure size 432x288 with 0 Axes>"
            ]
          },
          "metadata": {}
        },
        {
          "output_type": "display_data",
          "data": {
            "text/plain": [
              "<Figure size 640x480 with 1 Axes>"
            ],
            "image/png": "[encoded data removed]"
          },
          "metadata": {
            "needs_background": "light"
          }
        }
      ]
    },
    {
      "cell_type": "code",
      "source": [
        ""
      ],
      "metadata": {
        "id": "el6VL83Qddfj"
      },
      "execution_count": null,
      "outputs": []
    },
    {
      "cell_type": "markdown",
      "source": [
        "# HOW TO TRAIN THE NN MODEL:\n",
        "1. Reset adam_optimizer: \n",
        "```adam_opt.zero_grad()```\n",
        "2. Calculate loss\n",
        "3. Update the optimizer: \n",
        "```adam_opt.step()```\n",
        "\n",
        "\n",
        "        weight = weight - lr * gradient\n",
        "\n",
        "-> use lr and gradient to \"improve\" weight layer. \n",
        "\n",
        "Explanation:\n",
        "```adam_opt.step()```: Update the model's parameters \n"
      ],
      "metadata": {
        "id": "VPn9pDNlm88W"
      }
    },
    {
      "cell_type": "code",
      "source": [
        "model_p = Nonlinear_2(4)\n",
        "adam_opt = torch.optim.Adam(model_p.parameters(), \n",
        "                                    lr=learningRate, \n",
        "                                    betas=(0.9, 0.999), \n",
        "                                    eps=1e-08, \n",
        "                                    weight_decay=0, \n",
        "                                    amsgrad=False)"
      ],
      "metadata": {
        "id": "0VfCCteSFrC8"
      },
      "execution_count": null,
      "outputs": []
    },
    {
      "cell_type": "code",
      "source": [
        "x_i = torch.tensor([-2.5], requires_grad=True, dtype=torch.float)\n",
        "u_xi = model_p(x_i)\n",
        "print(u_xi)\n",
        "u_xi.backward()\n",
        "u_prime = x_i.grad"
      ],
      "metadata": {
        "id": "MUjHqCmkNRzB",
        "outputId": "a8eba8cf-5f24-45cf-f588-85f437d798fc",
        "colab": {
          "base_uri": "https://localhost:8080/"
        }
      },
      "execution_count": null,
      "outputs": [
        {
          "output_type": "stream",
          "name": "stdout",
          "text": [
            "tensor([-0.5799], grad_fn=<AddBackward0>)\n"
          ]
        }
      ]
    },
    {
      "cell_type": "code",
      "source": [
        "# Access the model's parameters:\n",
        "# Model's hidden layer weight and bias\n",
        "print(\"- Hidden layers: \")\n",
        "print(model_p.hidden.weight)\n",
        "print(\"\\n\")\n",
        "\n",
        "print(\"- Hidden layers gradients (derivative of Loss w.r.t model params): \")\n",
        "print(model_p.hidden.weight.grad)\n",
        "print(model_p.hidden.bias)\n",
        "print(\"\\n\")\n",
        "\n",
        "# Model's output layer weight and bias\n",
        "print(\"Output layers: \")\n",
        "print(model_p.output.weight)\n",
        "print(model_p.hidden.weight.grad)\n",
        "print(model_p.output.bias)\n",
        "\n",
        "# model.zero_grad()\n",
        "\n",
        "i, o = (x_train[0], y_train[0])\n",
        "i = Variable(torch.from_numpy(i))\n",
        "o = Variable(torch.from_numpy(o))\n"
      ],
      "metadata": {
        "id": "0A2qd2M1OXQ5",
        "outputId": "224f75ed-733d-4edc-f3ad-3d78dac7f66a",
        "colab": {
          "base_uri": "https://localhost:8080/"
        }
      },
      "execution_count": null,
      "outputs": [
        {
          "output_type": "stream",
          "name": "stdout",
          "text": [
            "- Hidden layers: \n",
            "Parameter containing:\n",
            "tensor([[-0.4363],\n",
            "        [-0.2556],\n",
            "        [ 0.6323],\n",
            "        [-0.8666]], requires_grad=True)\n",
            "\n",
            "\n",
            "- Hidden layers gradients (derivative of Loss w.r.t model params): \n",
            "None\n",
            "Parameter containing:\n",
            "tensor([ 0.9463, -0.8034, -0.8181,  0.5812], requires_grad=True)\n",
            "\n",
            "\n",
            "Output layers: \n",
            "Parameter containing:\n",
            "tensor([[-0.3294, -0.3360,  0.0453, -0.0283]], requires_grad=True)\n",
            "None\n",
            "Parameter containing:\n",
            "tensor([0.4850], requires_grad=True)\n"
          ]
        }
      ]
    },
    {
      "cell_type": "code",
      "source": [
        "import copy\n",
        "\n",
        "model_pp = copy.deepcopy(model_p)\n",
        "print(model_pp.hidden)\n",
        "loss = epsilon_Loss(given_fn, model_pp, LOWER_BOUND, UPPER_BOUND, N_POINTS)\n",
        "loss.backward()"
      ],
      "metadata": {
        "id": "YI4vusv8w_40",
        "outputId": "9797e6a2-cd0f-49fd-db59-c2fda0e16171",
        "colab": {
          "base_uri": "https://localhost:8080/",
          "height": 409
        }
      },
      "execution_count": null,
      "outputs": [
        {
          "output_type": "stream",
          "name": "stdout",
          "text": [
            "Linear(in_features=1, out_features=4, bias=True)\n"
          ]
        },
        {
          "output_type": "error",
          "ename": "RuntimeError",
          "evalue": "ignored",
          "traceback": [
            "\u001b[0;31m---------------------------------------------------------------------------\u001b[0m",
            "\u001b[0;31mRuntimeError\u001b[0m                              Traceback (most recent call last)",
            "\u001b[0;32m<ipython-input-148-d51b9355ea65>\u001b[0m in \u001b[0;36m<module>\u001b[0;34m()\u001b[0m\n\u001b[1;32m      4\u001b[0m \u001b[0mprint\u001b[0m\u001b[0;34m(\u001b[0m\u001b[0mmodel_pp\u001b[0m\u001b[0;34m.\u001b[0m\u001b[0mhidden\u001b[0m\u001b[0;34m)\u001b[0m\u001b[0;34m\u001b[0m\u001b[0;34m\u001b[0m\u001b[0m\n\u001b[1;32m      5\u001b[0m \u001b[0mloss\u001b[0m \u001b[0;34m=\u001b[0m \u001b[0mepsilon_Loss\u001b[0m\u001b[0;34m(\u001b[0m\u001b[0mgiven_fn\u001b[0m\u001b[0;34m,\u001b[0m \u001b[0mmodel_pp\u001b[0m\u001b[0;34m,\u001b[0m \u001b[0mLOWER_BOUND\u001b[0m\u001b[0;34m,\u001b[0m \u001b[0mUPPER_BOUND\u001b[0m\u001b[0;34m,\u001b[0m \u001b[0mN_POINTS\u001b[0m\u001b[0;34m)\u001b[0m\u001b[0;34m\u001b[0m\u001b[0;34m\u001b[0m\u001b[0m\n\u001b[0;32m----> 6\u001b[0;31m \u001b[0mloss\u001b[0m\u001b[0;34m.\u001b[0m\u001b[0mbackward\u001b[0m\u001b[0;34m(\u001b[0m\u001b[0;34m)\u001b[0m\u001b[0;34m\u001b[0m\u001b[0;34m\u001b[0m\u001b[0m\n\u001b[0m",
            "\u001b[0;32m/usr/local/lib/python3.7/dist-packages/torch/_tensor.py\u001b[0m in \u001b[0;36mbackward\u001b[0;34m(self, gradient, retain_graph, create_graph, inputs)\u001b[0m\n\u001b[1;32m    361\u001b[0m                 \u001b[0mcreate_graph\u001b[0m\u001b[0;34m=\u001b[0m\u001b[0mcreate_graph\u001b[0m\u001b[0;34m,\u001b[0m\u001b[0;34m\u001b[0m\u001b[0;34m\u001b[0m\u001b[0m\n\u001b[1;32m    362\u001b[0m                 inputs=inputs)\n\u001b[0;32m--> 363\u001b[0;31m         \u001b[0mtorch\u001b[0m\u001b[0;34m.\u001b[0m\u001b[0mautograd\u001b[0m\u001b[0;34m.\u001b[0m\u001b[0mbackward\u001b[0m\u001b[0;34m(\u001b[0m\u001b[0mself\u001b[0m\u001b[0;34m,\u001b[0m \u001b[0mgradient\u001b[0m\u001b[0;34m,\u001b[0m \u001b[0mretain_graph\u001b[0m\u001b[0;34m,\u001b[0m \u001b[0mcreate_graph\u001b[0m\u001b[0;34m,\u001b[0m \u001b[0minputs\u001b[0m\u001b[0;34m=\u001b[0m\u001b[0minputs\u001b[0m\u001b[0;34m)\u001b[0m\u001b[0;34m\u001b[0m\u001b[0;34m\u001b[0m\u001b[0m\n\u001b[0m\u001b[1;32m    364\u001b[0m \u001b[0;34m\u001b[0m\u001b[0m\n\u001b[1;32m    365\u001b[0m     \u001b[0;32mdef\u001b[0m \u001b[0mregister_hook\u001b[0m\u001b[0;34m(\u001b[0m\u001b[0mself\u001b[0m\u001b[0;34m,\u001b[0m \u001b[0mhook\u001b[0m\u001b[0;34m)\u001b[0m\u001b[0;34m:\u001b[0m\u001b[0;34m\u001b[0m\u001b[0;34m\u001b[0m\u001b[0m\n",
            "\u001b[0;32m/usr/local/lib/python3.7/dist-packages/torch/autograd/__init__.py\u001b[0m in \u001b[0;36mbackward\u001b[0;34m(tensors, grad_tensors, retain_graph, create_graph, grad_variables, inputs)\u001b[0m\n\u001b[1;32m    173\u001b[0m     Variable._execution_engine.run_backward(  # Calls into the C++ engine to run the backward pass\n\u001b[1;32m    174\u001b[0m         \u001b[0mtensors\u001b[0m\u001b[0;34m,\u001b[0m \u001b[0mgrad_tensors_\u001b[0m\u001b[0;34m,\u001b[0m \u001b[0mretain_graph\u001b[0m\u001b[0;34m,\u001b[0m \u001b[0mcreate_graph\u001b[0m\u001b[0;34m,\u001b[0m \u001b[0minputs\u001b[0m\u001b[0;34m,\u001b[0m\u001b[0;34m\u001b[0m\u001b[0;34m\u001b[0m\u001b[0m\n\u001b[0;32m--> 175\u001b[0;31m         allow_unreachable=True, accumulate_grad=True)  # Calls into the C++ engine to run the backward pass\n\u001b[0m\u001b[1;32m    176\u001b[0m \u001b[0;34m\u001b[0m\u001b[0m\n\u001b[1;32m    177\u001b[0m def grad(\n",
            "\u001b[0;31mRuntimeError\u001b[0m: Trying to backward through the graph a second time (or directly access saved tensors after they have already been freed). Saved intermediate values of the graph are freed when you call .backward() or autograd.grad(). Specify retain_graph=True if you need to backward through the graph a second time or if you need to access saved tensors after calling backward."
          ]
        }
      ]
    },
    {
      "cell_type": "code",
      "source": [
        "model_pp.hidden.weight.grad"
      ],
      "metadata": {
        "id": "OBY2VlCqSVjE"
      },
      "execution_count": null,
      "outputs": []
    },
    {
      "cell_type": "code",
      "source": [
        "loss.backward()"
      ],
      "metadata": {
        "id": "ELHbc3btUq9f",
        "outputId": "1c256f77-a69d-4303-85c0-4c502ab692c8",
        "colab": {
          "base_uri": "https://localhost:8080/",
          "height": 355
        }
      },
      "execution_count": null,
      "outputs": [
        {
          "output_type": "error",
          "ename": "RuntimeError",
          "evalue": "ignored",
          "traceback": [
            "\u001b[0;31m---------------------------------------------------------------------------\u001b[0m",
            "\u001b[0;31mRuntimeError\u001b[0m                              Traceback (most recent call last)",
            "\u001b[0;32m<ipython-input-123-52a0569421b1>\u001b[0m in \u001b[0;36m<module>\u001b[0;34m()\u001b[0m\n\u001b[0;32m----> 1\u001b[0;31m \u001b[0mloss\u001b[0m\u001b[0;34m.\u001b[0m\u001b[0mbackward\u001b[0m\u001b[0;34m(\u001b[0m\u001b[0;34m)\u001b[0m\u001b[0;34m\u001b[0m\u001b[0;34m\u001b[0m\u001b[0m\n\u001b[0m",
            "\u001b[0;32m/usr/local/lib/python3.7/dist-packages/torch/_tensor.py\u001b[0m in \u001b[0;36mbackward\u001b[0;34m(self, gradient, retain_graph, create_graph, inputs)\u001b[0m\n\u001b[1;32m    361\u001b[0m                 \u001b[0mcreate_graph\u001b[0m\u001b[0;34m=\u001b[0m\u001b[0mcreate_graph\u001b[0m\u001b[0;34m,\u001b[0m\u001b[0;34m\u001b[0m\u001b[0;34m\u001b[0m\u001b[0m\n\u001b[1;32m    362\u001b[0m                 inputs=inputs)\n\u001b[0;32m--> 363\u001b[0;31m         \u001b[0mtorch\u001b[0m\u001b[0;34m.\u001b[0m\u001b[0mautograd\u001b[0m\u001b[0;34m.\u001b[0m\u001b[0mbackward\u001b[0m\u001b[0;34m(\u001b[0m\u001b[0mself\u001b[0m\u001b[0;34m,\u001b[0m \u001b[0mgradient\u001b[0m\u001b[0;34m,\u001b[0m \u001b[0mretain_graph\u001b[0m\u001b[0;34m,\u001b[0m \u001b[0mcreate_graph\u001b[0m\u001b[0;34m,\u001b[0m \u001b[0minputs\u001b[0m\u001b[0;34m=\u001b[0m\u001b[0minputs\u001b[0m\u001b[0;34m)\u001b[0m\u001b[0;34m\u001b[0m\u001b[0;34m\u001b[0m\u001b[0m\n\u001b[0m\u001b[1;32m    364\u001b[0m \u001b[0;34m\u001b[0m\u001b[0m\n\u001b[1;32m    365\u001b[0m     \u001b[0;32mdef\u001b[0m \u001b[0mregister_hook\u001b[0m\u001b[0;34m(\u001b[0m\u001b[0mself\u001b[0m\u001b[0;34m,\u001b[0m \u001b[0mhook\u001b[0m\u001b[0;34m)\u001b[0m\u001b[0;34m:\u001b[0m\u001b[0;34m\u001b[0m\u001b[0;34m\u001b[0m\u001b[0m\n",
            "\u001b[0;32m/usr/local/lib/python3.7/dist-packages/torch/autograd/__init__.py\u001b[0m in \u001b[0;36mbackward\u001b[0;34m(tensors, grad_tensors, retain_graph, create_graph, grad_variables, inputs)\u001b[0m\n\u001b[1;32m    173\u001b[0m     Variable._execution_engine.run_backward(  # Calls into the C++ engine to run the backward pass\n\u001b[1;32m    174\u001b[0m         \u001b[0mtensors\u001b[0m\u001b[0;34m,\u001b[0m \u001b[0mgrad_tensors_\u001b[0m\u001b[0;34m,\u001b[0m \u001b[0mretain_graph\u001b[0m\u001b[0;34m,\u001b[0m \u001b[0mcreate_graph\u001b[0m\u001b[0;34m,\u001b[0m \u001b[0minputs\u001b[0m\u001b[0;34m,\u001b[0m\u001b[0;34m\u001b[0m\u001b[0;34m\u001b[0m\u001b[0m\n\u001b[0;32m--> 175\u001b[0;31m         allow_unreachable=True, accumulate_grad=True)  # Calls into the C++ engine to run the backward pass\n\u001b[0m\u001b[1;32m    176\u001b[0m \u001b[0;34m\u001b[0m\u001b[0m\n\u001b[1;32m    177\u001b[0m def grad(\n",
            "\u001b[0;31mRuntimeError\u001b[0m: Trying to backward through the graph a second time (or directly access saved tensors after they have already been freed). Saved intermediate values of the graph are freed when you call .backward() or autograd.grad(). Specify retain_graph=True if you need to backward through the graph a second time or if you need to access saved tensors after calling backward."
          ]
        }
      ]
    },
    {
      "cell_type": "code",
      "source": [
        "print(\"- Hidden layers: \")\n",
        "print(model_p.hidden.weight)\n",
        "print(\"\\n\")\n",
        "\n",
        "print(\"- Hidden layers gradients (derivative of Loss w.r.t model params): \")\n",
        "print(model_p.hidden.weight.grad)\n",
        "print(model_p.hidden.bias)\n",
        "print(\"\\n\")\n",
        "\n",
        "# Model's output layer weight and bias\n",
        "print(\"Output layers: \")\n",
        "print(model_p.output.weight)\n",
        "print(model_p.hidden.weight.grad)\n",
        "print(model_p.output.bias)\n",
        "\n",
        "# model.zero_grad()\n",
        "\n",
        "i, o = (x_train[0], y_train[0])\n",
        "i = Variable(torch.from_numpy(i))\n",
        "o = Variable(torch.from_numpy(o))"
      ],
      "metadata": {
        "id": "BA_91qCHWhjs",
        "outputId": "20a262ba-f9a2-4cf1-b0c4-110596eb2f63",
        "colab": {
          "base_uri": "https://localhost:8080/"
        }
      },
      "execution_count": null,
      "outputs": [
        {
          "output_type": "stream",
          "name": "stdout",
          "text": [
            "- Hidden layers: \n",
            "Parameter containing:\n",
            "tensor([[-0.4363],\n",
            "        [-0.2556],\n",
            "        [ 0.6323],\n",
            "        [-0.8666]], requires_grad=True)\n",
            "\n",
            "\n",
            "- Hidden layers gradients (derivative of Loss w.r.t model params): \n",
            "None\n",
            "Parameter containing:\n",
            "tensor([ 0.9463, -0.8034, -0.8181,  0.5812], requires_grad=True)\n",
            "\n",
            "\n",
            "Output layers: \n",
            "Parameter containing:\n",
            "tensor([[-0.3294, -0.3360,  0.0453, -0.0283]], requires_grad=True)\n",
            "None\n",
            "Parameter containing:\n",
            "tensor([0.4850], requires_grad=True)\n"
          ]
        }
      ]
    },
    {
      "cell_type": "code",
      "source": [
        "x.grad.zero_()"
      ],
      "metadata": {
        "id": "6jQeEbaMHkeA",
        "outputId": "32d5985d-7d0f-4048-c555-7ef3785149ca",
        "colab": {
          "base_uri": "https://localhost:8080/"
        }
      },
      "execution_count": null,
      "outputs": [
        {
          "output_type": "execute_result",
          "data": {
            "text/plain": [
              "tensor([0., 0., 0.])"
            ]
          },
          "metadata": {},
          "execution_count": 54
        }
      ]
    },
    {
      "cell_type": "code",
      "source": [
        "a = torch.tensor([2., 3.], requires_grad=True)\n",
        "b = torch.tensor([6., 4.], requires_grad=True)\n",
        "\n",
        "t = 3*a**3 - b**2\n",
        "\n",
        "external_grad = torch.tensor([1., 1.])\n",
        "t.backward(gradient=external_grad)\n",
        "\n",
        "print(9*a**2 == a.grad)\n",
        "print(-2*b == b.grad)"
      ],
      "metadata": {
        "id": "zkmedTJ6J1Hr",
        "outputId": "01a83e6e-280c-4a72-d9c4-bff991258866",
        "colab": {
          "base_uri": "https://localhost:8080/"
        }
      },
      "execution_count": null,
      "outputs": [
        {
          "output_type": "stream",
          "name": "stdout",
          "text": [
            "tensor([True, True])\n",
            "tensor([True, True])\n"
          ]
        }
      ]
    },
    {
      "cell_type": "markdown",
      "source": [
        "https://neptune.ai/blog/pytorch-loss-functions\n",
        "https://stackoverflow.com/questions/53980031/pytorch-custom-loss-function\n",
        "https://stackoverflow.com/questions/65947284/loss-with-custom-backward-function-in-pytorch-exploding-loss-in-simple-mse-exa\n",
        "https://www.youtube.com/watch?v=ma2KXWblllc"
      ],
      "metadata": {
        "id": "ZyuNXuz-iLBZ"
      }
    },
    {
      "cell_type": "code",
      "source": [
        ""
      ],
      "metadata": {
        "id": "M0PS0efCiJCp"
      },
      "execution_count": null,
      "outputs": []
    }
  ],
  "metadata": {
    "kernelspec": {
      "display_name": "Python 3.7.7 ('venv')",
      "language": "python",
      "name": "python3"
    },
    "language_info": {
      "codemirror_mode": {
        "name": "ipython",
        "version": 3
      },
      "file_extension": ".py",
      "mimetype": "text/x-python",
      "name": "python",
      "nbconvert_exporter": "python",
      "pygments_lexer": "ipython3",
      "version": "3.7.7"
    },
    "orig_nbformat": 4,
    "vscode": {
      "interpreter": {
        "hash": "8c21580189d9a9d7f1e3fef63ff70de58083dda94aa35d8ed937f03fa405217e"
      }
    },
    "colab": {
      "name": "PyTorch_.ipynb",
      "provenance": []
    }
  },
  "nbformat": 4,
  "nbformat_minor": 0
}