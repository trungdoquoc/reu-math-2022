{
 "cells": [
  {
   "cell_type": "markdown",
   "metadata": {
    "id": "MpofWgGancyb"
   },
   "source": [
    "The input of the NN is 1D. "
   ]
  },
  {
   "cell_type": "code",
   "execution_count": 306,
   "metadata": {
    "id": "e-NAhHF3ncye"
   },
   "outputs": [],
   "source": [
    "import numpy as np\n",
    "import copy\n",
    "import torch\n",
    "import torch.nn as nn\n",
    "import math\n",
    "from torch.autograd import Variable\n",
    "import matplotlib.pyplot as plt\n",
    "\n",
    "def quad_fn(a, b, c, x):\n",
    "    return a*x**2 + b*x + c\n",
    "\n",
    "def x_square(x: torch.tensor) -> torch.Tensor:\n",
    "    return x**2\n",
    "\n",
    "# DEFINE GIVEN FUNCTION V(x): ax^2 + bx + c\n",
    "given_fn = x_square"
   ]
  },
  {
   "cell_type": "code",
   "execution_count": 307,
   "metadata": {
    "id": "SOtFslmCncyg"
   },
   "outputs": [],
   "source": [
    "# CUSTOM LOSS FUNCTION:\n",
    "# def EpsilonLoss(nn.Module):\n",
    "\n",
    "def epsilon_Loss(v_x, model_u, lower_bound, upper_bound, n_points):\n",
    "    \"\"\"\n",
    "    GOAL: Epsilon function evaluated at u using discretized estimation\n",
    "    minimizing Epsilon(u) = \n",
    "    \n",
    "    ARGS: \n",
    "    n_points (int): number of discretized points on the interval [-L, L]\n",
    "    e.g.: -(L)|---|---|---|---|(L) interval has n_points = 5\n",
    "\n",
    "    v_x (torch.Tensor): function instance\n",
    "    model_u (torch.Tensor): model output\n",
    "    \"\"\"\n",
    "    total = 0\n",
    "    discrete_points = np.linspace(lower_bound, upper_bound, n_points)\n",
    "    h = discrete_points[1] - discrete_points[0]\n",
    "    for i in discrete_points:\n",
    "        x_i = torch.tensor([i], requires_grad=True, dtype=torch.float)\n",
    "        u_xi = model_u(x_i)\n",
    "\n",
    "        u_prime = model_u.u_prime_2(x_i)\n",
    "        \n",
    "        v_xi = v_x(i)\n",
    "        t = torch.abs(torch.square(u_prime)) + v_xi*(u_xi**2)\n",
    "        total += t\n",
    "    return 0.5*h*total\n",
    "\n",
    "def epsilon_Loss_penalty(v_x, model_u, lambda_pen,\n",
    "                         lower_bound, upper_bound, n_points):\n",
    "    \"\"\"\n",
    "    \n",
    "    \"\"\"\n",
    "    eps_sum = 0\n",
    "    pen = 0\n",
    "\n",
    "    discrete_points = np.linspace(lower_bound, upper_bound, n_points)\n",
    "    h = discrete_points[1] - discrete_points[0]\n",
    "    for i in discrete_points:\n",
    "        x_i = torch.tensor([i], requires_grad=True, dtype=torch.float)\n",
    "        u_prime = model_u.u_prime_2(x_i)\n",
    "        \n",
    "        u_xi = model_u(x_i)\n",
    "        v_xi = v_x(i)\n",
    "\n",
    "        t = torch.abs(torch.square(u_prime)) + v_xi*torch.square(u_xi)\n",
    "        eps_sum += t\n",
    "    epsilon_fn = 0.5*h*eps_sum\n",
    "    \n",
    "    temp = 0\n",
    "    for i in discrete_points:\n",
    "        x_i = torch.tensor([i], requires_grad=True, dtype=torch.float)\n",
    "        temp += torch.square(model_u(x_i))\n",
    "    \n",
    "    pen = lambda_pen * torch.square((h * temp-1))\n",
    "    return epsilon_fn + pen\n",
    "\n",
    "# NORMALIZE MODEL u(x) OUTPUT:\n",
    "def normalize_u(model_u, lower_bound, upper_bound, n_points):\n",
    "    \"\"\"\n",
    "    Normalize model.output weight by: \n",
    "    model.output *= c\n",
    "    where,\n",
    "    scalar c = 1/denom\n",
    "    \"\"\"\n",
    "    discrete_points = np.linspace(lower_bound, upper_bound, n_points)\n",
    "    h = discrete_points[1] - discrete_points[0]\n",
    "    s = 0\n",
    "    for i in discrete_points:\n",
    "        x_i = torch.tensor([i], requires_grad=True, dtype=torch.float)\n",
    "        s += model_u(x_i)**2\n",
    "    denom = math.sqrt(h) * torch.sqrt(s)\n",
    "    return 1/denom"
   ]
  },
  {
   "cell_type": "code",
   "execution_count": 305,
   "metadata": {
    "id": "06QWhlkpQ5Eh"
   },
   "outputs": [],
   "source": [
    "# CREATING MODEL CLASS\n",
    "class Nonlinear(nn.Module):\n",
    "    def __init__(self, n):\n",
    "        # One hidden layer with n nodes\n",
    "        super().__init__()\n",
    "        self.hidden = nn.Linear(1, n)\n",
    "        self.output = nn.Linear(n, 1)\n",
    "        \n",
    "        self.sigmoid = nn.Sigmoid()\n",
    "        self.tanh = nn.Tanh()\n",
    "        self.target_fn = given_fn\n",
    "\n",
    "    def forward(self, x, use_tanh_fn = False):\n",
    "        if use_tanh_fn == True:\n",
    "            x = self.hidden(x)\n",
    "            x = self.tanh(x)\n",
    "            x = self.output(x)\n",
    "        else:\n",
    "            x = self.hidden(x)\n",
    "            x = self.sigmoid(x)\n",
    "            x = self.output(x)\n",
    "        return x\n",
    "\n",
    "    def normalize_model(self, lower_bound, upper_bound, n_points):\n",
    "        \"\"\"\n",
    "        GOAL: Normalize the output weight layer\n",
    "        \"\"\"\n",
    "        print(\"Before normalization: \")\n",
    "        print(self.output.weight.data)\n",
    "        print(self.output.bias.data)\n",
    "        \n",
    "        c = normalize_u(self, lower_bound, upper_bound, n_points)\n",
    "        self.output.weight.data.copy_(c.item() * self.output.weight.data)\n",
    "        self.output.bias.data.copy_(c.item() * self.output.bias.data)\n",
    "\n",
    "        print(\"After normalization: \")\n",
    "        print(self.output.weight.data)\n",
    "        print(self.output.bias.data)\n",
    "        print(\"c value = \" + str(c))\n",
    "\n",
    "        return \n",
    "\n",
    "    def u_prime_1(self, x_in):\n",
    "        i_tensor = torch.tensor([x_in.item()], requires_grad=True, dtype=torch.float)\n",
    "        clone_model = copy.deepcopy(self)\n",
    "        res = clone_model(i_tensor)\n",
    "        res.backward()\n",
    "        \n",
    "        val = 0\n",
    "        val += i_tensor.grad\n",
    "\n",
    "        del i_tensor\n",
    "        del clone_model\n",
    "        \n",
    "        return val\n",
    "    \n",
    "    def u_prime_2(self, x_in):\n",
    "        y = self(x_in)\n",
    "        y_prime = torch.autograd.grad(y.sum(), x_in, create_graph=True)\n",
    "        return y_prime\n",
    "\n",
    "    \n",
    "# TRANING MODEL\n",
    "    def train_network_with_penalty(self, num_epochs, v_x, optimizer, lambda_pen,\n",
    "                                    lower_bound, upper_bound, n_points):\n",
    "        # For plotting loss value over epochs:\n",
    "        x_epochs = []\n",
    "        y_loss = []\n",
    "        y_loss_pen = []\n",
    "\n",
    "        # stopping criterion:\n",
    "        stop_counter = 0\n",
    "\n",
    "        for epoch in range(num_epochs):\n",
    "            optimizer.zero_grad()\n",
    "            loss_pen = epsilon_Loss_penalty(v_x, self, lambda_pen,\n",
    "                                        lower_bound, upper_bound, n_points)\n",
    "            loss = epsilon_Loss(v_x, self,\n",
    "                                lower_bound, upper_bound, n_points)\n",
    "            \n",
    "            y_loss_pen.append(loss_pen.detach().numpy().item())\n",
    "            y_loss.append(loss.detach().numpy().item())\n",
    "            x_epochs.append(epoch)\n",
    "\n",
    "            #check if need to stop training:\n",
    "            if epoch > 0 and stop_counter >= 5:\n",
    "\n",
    "                #Normalize model before return\n",
    "                self.normalize_model(lower_bound, upper_bound, n_points)\n",
    "\n",
    "                print(\"LOSS VALUE WITH LAMBDA PENALTY = \" \n",
    "                      + str(epsilon_Loss_penalty(v_x, self, lambda_pen,\n",
    "                                                 lower_bound, upper_bound, n_points)))\n",
    "                print(\"LOSS VALUE  = \" \n",
    "                      + str(epsilon_Loss(v_x, self, lower_bound, upper_bound, n_points)))\n",
    "                \n",
    "                break\n",
    "            elif epoch > 0 and stop_counter < 5:\n",
    "                if torch.abs(y_loss_pen[epoch-1]-loss_pen) <= 1e-5:\n",
    "                    stop_counter += 1\n",
    "                else:\n",
    "                    stop_counter = 0\n",
    "            else:\n",
    "                print(\"Uncatched case\")\n",
    "\n",
    "            print('epoch {}, loss with penalty {}'.format(epoch, loss_pen.item()))\n",
    "            loss_pen.backward()\n",
    "            optimizer.step()\n",
    "\n",
    "        return (x_epochs, y_loss_pen, y_loss)\n",
    "\n",
    "    def train_network(self, num_epochs, v_x, optimizer,\n",
    "                                    lower_bound, upper_bound, n_points):\n",
    "        # For plotting loss value over epochs:\n",
    "        x_epochs = []\n",
    "        y_loss = []\n",
    "        \n",
    "        # stopping criterion:\n",
    "        stop_counter = 0\n",
    "\n",
    "        for epoch in range(num_epochs):\n",
    "\n",
    "            if epoch > 0 and epoch % 50 == 0:\n",
    "                c = normalize_u(self, lower_bound, upper_bound, n_points)\n",
    "                print(\"Pre normalize: \")\n",
    "                print(self.output.weight.data)\n",
    "                print(self.output.bias.data)\n",
    "                print(\"After normalize: \")\n",
    "                \n",
    "                self.normalize_model(lower_bound, upper_bound, n_points)\n",
    "                \n",
    "                print(self.output.weight.data)\n",
    "                print(self.output.bias.data)\n",
    "                print(\"c value = \" + str(c))\n",
    "            optimizer.zero_grad()\n",
    "            loss = epsilon_Loss(v_x, self,\n",
    "                                lower_bound, upper_bound, n_points)\n",
    "            y_loss.append(loss.detach().numpy().item())\n",
    "            x_epochs.append(epoch)\n",
    "            #check if need to stop training:\n",
    "            if epoch > 0 and stop_counter >= 5:\n",
    "                print(\"LOSS VALUE = \" \n",
    "                      + str(epsilon_Loss(v_x, self, lower_bound, upper_bound, n_points)))\n",
    "                break\n",
    "            elif epoch > 0 and stop_counter < 5:\n",
    "                if torch.abs(y_loss[epoch-1]-loss) <= 1e-5:\n",
    "                    stop_counter += 1\n",
    "                else:\n",
    "                    stop_counter = 0\n",
    "\n",
    "            print('epoch {}, loss {}'.format(epoch, loss.item()))\n",
    "            loss.backward()\n",
    "            optimizer.step()\n",
    "\n",
    "        return (x_epochs, y_loss)\n",
    "        "
   ]
  },
  {
   "cell_type": "code",
   "execution_count": 214,
   "metadata": {},
   "outputs": [],
   "source": [
    "def u_prime(self, input):\n",
    "    \"\"\"\n",
    "    NN with 1 hidden node layer is of the form:\n",
    "    u(x) = SUM_i_to_N(a_i * sigmoid(w.x + b))\n",
    "\n",
    "    where\n",
    "    a_i is the corresponding weight of self.output layerq\n",
    "    w is self.hidden.weight vector\n",
    "    b is self.hidden.bias vector\n",
    "    sigmoid(w.x + b) is the sigmoid-activated hidden vector\n",
    "\n",
    "    Formula of u'(x) (for 1 hidden layer NN):\n",
    "    u'(x) = SUM_i_to_N(w_i*a_i*sigmoid'(w_i*x+b))\n",
    "    Note: sigmoid'(w_i*x +b) = sigmoid(w_i*x+b)*(1-sigmoid(w_i*x+b))\n",
    "    \"\"\"\n",
    "    a_i = self.output.weight.data\n",
    "    w_i = torch.transpose(self.hidden.weight.data, 0, 1)\n",
    "    wi_ai = w_i * a_i\n",
    "\n",
    "    hid_layer = self.hidden(input)\n",
    "    hid_layer_T = torch.reshape(hid_layer, (list(hid_layer.shape)[0], 1))\n",
    "    m = hid_layer_T * (1-hid_layer_T)\n",
    "\n",
    "    return wi_ai @ m"
   ]
  },
  {
   "cell_type": "code",
   "execution_count": 287,
   "metadata": {
    "id": "hbBxk8_fncyl"
   },
   "outputs": [],
   "source": [
    "# DEFINE HYPER-PARAMETERS\n",
    "batch_size = 50\n",
    "learningRate = 0.05\n",
    "num_epochs = 5000\n",
    "\n",
    "#INIT MODEL\n",
    "model = Nonlinear(20)\n",
    "if torch.cuda.is_available():\n",
    "    model.cuda()\n",
    "\n",
    "# INIT OPTIMIZER CLASS\n",
    "# Adam:\n",
    "adam_optimizer = torch.optim.Adam(model.parameters(), \n",
    "                                    lr=learningRate, \n",
    "                                    betas=(0.9, 0.999), \n",
    "                                    eps=1e-08, \n",
    "                                    weight_decay=0, \n",
    "                                    amsgrad=False)"
   ]
  },
  {
   "cell_type": "code",
   "execution_count": 159,
   "metadata": {},
   "outputs": [],
   "source": [
    "model2 = Nonlinear(20)\n",
    "    \n",
    "adam_opt2 = torch.optim.Adam(model2.parameters(), \n",
    "                                    lr=learningRate, \n",
    "                                    betas=(0.9, 0.999), \n",
    "                                    eps=1e-08, \n",
    "                                    weight_decay=0, \n",
    "                                    amsgrad=False)"
   ]
  },
  {
   "cell_type": "code",
   "execution_count": 272,
   "metadata": {
    "colab": {
     "base_uri": "https://localhost:8080/"
    },
    "id": "EstQ_ILqQeOt",
    "outputId": "d47353ac-2ad2-4a3f-bbba-c932e4b8a32e"
   },
   "outputs": [
    {
     "name": "stdout",
     "output_type": "stream",
     "text": [
      "(1000, 1) (1000, 1)\n"
     ]
    }
   ],
   "source": [
    "INPUT_SIZE = 1\n",
    "OUTPUT_SIZE = 1\n",
    "\n",
    "LAMBDA_PEN = 1000\n",
    "LOWER_BOUND = -10\n",
    "UPPER_BOUND = 10\n",
    "N_POINTS = 1000\n",
    "\n",
    "# CREATING DATASET:\n",
    "x_values = [i for i in np.linspace(LOWER_BOUND, UPPER_BOUND, N_POINTS)]\n",
    "y_values = [given_fn(i) for i in x_values]\n",
    "\n",
    "x_train = np.array(x_values, dtype=np.float32).reshape(-1, 1)\n",
    "y_train = np.array(y_values, dtype=np.float32).reshape(-1, 1)\n",
    "\n",
    "print(x_train.shape, y_train.shape)"
   ]
  },
  {
   "cell_type": "code",
   "execution_count": 182,
   "metadata": {
    "id": "sjtOBhyZLspO"
   },
   "outputs": [],
   "source": [
    "# PLOT DATA\n",
    "def plot_figure(x_val, y_val, x_test=None, predicted=None, log_scale=False):\n",
    "    plt.clf()\n",
    "    plt.figure(figsize=(8, 6), dpi=80)\n",
    "    if log_scale==True:\n",
    "        plt.yscale('log')\n",
    "    plt.plot(x_val, y_val, '--', label='True data', alpha=0.5)\n",
    "    if predicted != None:\n",
    "        plt.plot(x_test, predicted, '--', label='Predictions', alpha=0.5)\n",
    "    plt.legend(loc='best')\n",
    "    plt.show()"
   ]
  },
  {
   "cell_type": "code",
   "execution_count": null,
   "metadata": {
    "colab": {
     "base_uri": "https://localhost:8080/"
    },
    "id": "jrXELb9XQRWk",
    "outputId": "86081822-01d3-47b6-d322-2ecbe6e51c16"
   },
   "outputs": [
    {
     "name": "stdout",
     "output_type": "stream",
     "text": [
      "Mounted at /content/gdrive\n"
     ]
    }
   ],
   "source": [
    "from google.colab import drive\n",
    "drive.mount('/content/gdrive')"
   ]
  },
  {
   "cell_type": "code",
   "execution_count": null,
   "metadata": {
    "id": "1dJT6QtaQn_k"
   },
   "outputs": [],
   "source": [
    "#SAVE MODEL TO DRIVE\n",
    "model_save_name = 'latest_model.pt'\n",
    "path = F\"/content/gdrive/My Drive/{model_save_name}\" \n",
    "torch.save(model.state_dict(), path)"
   ]
  },
  {
   "cell_type": "code",
   "execution_count": null,
   "metadata": {
    "colab": {
     "base_uri": "https://localhost:8080/"
    },
    "id": "OM_PKa9WRBGk",
    "outputId": "be55f720-ce35-4f27-88d4-16ae0cf22931"
   },
   "outputs": [
    {
     "data": {
      "text/plain": [
       "<All keys matched successfully>"
      ]
     },
     "execution_count": 47,
     "metadata": {},
     "output_type": "execute_result"
    }
   ],
   "source": [
    "#LOAD MODEL FROM DRIVE\n",
    "model_save_name = 'latest_model.pt'\n",
    "path = F\"/content/gdrive/My Drive/{model_save_name}\"\n",
    "model.load_state_dict(torch.load(path))"
   ]
  },
  {
   "cell_type": "code",
   "execution_count": null,
   "metadata": {
    "colab": {
     "base_uri": "https://localhost:8080/"
    },
    "id": "x-Pu1uVsIF-G",
    "outputId": "2114c4da-60a3-407d-9c3e-cb4cd46c2ca0"
   },
   "outputs": [],
   "source": [
    "p_f = potential_func_linalg\n",
    "p_f_res = model.train_network(num_epochs, p_f, adam_optimizer, LOWER_BOUND, UPPER_BOUND, N_POINTS)"
   ]
  },
  {
   "cell_type": "code",
   "execution_count": 275,
   "metadata": {},
   "outputs": [
    {
     "data": {
      "text/plain": [
       "tensor([42.8577], grad_fn=<MulBackward0>)"
      ]
     },
     "execution_count": 275,
     "metadata": {},
     "output_type": "execute_result"
    }
   ],
   "source": [
    "epsilon_Loss(p_f, model, LOWER_BOUND, UPPER_BOUND, N_POINTS)"
   ]
  },
  {
   "cell_type": "code",
   "execution_count": null,
   "metadata": {},
   "outputs": [],
   "source": [
    "p_f2 = potential_func_iterative\n",
    "p_f_res = model2.train_network_with_penalty(num_epochs, p_f2, adam_opt2, \n",
    "                                            LAMBDA_PEN, LOWER_BOUND, UPPER_BOUND, N_POINTS)"
   ]
  },
  {
   "cell_type": "code",
   "execution_count": 194,
   "metadata": {},
   "outputs": [
    {
     "data": {
      "text/plain": [
       "<Figure size 432x288 with 0 Axes>"
      ]
     },
     "metadata": {},
     "output_type": "display_data"
    },
    {
     "data": {
      "image/png": "[encoded data removed]",
      "text/plain": [
       "<Figure size 640x480 with 1 Axes>"
      ]
     },
     "metadata": {
      "needs_background": "light"
     },
     "output_type": "display_data"
    }
   ],
   "source": [
    "log_loss = [math.log(i) for i in p_f_res[2]]\n",
    "plot_figure(x_epochs, log_loss)"
   ]
  },
  {
   "cell_type": "code",
   "execution_count": 167,
   "metadata": {
    "id": "fR11LjxSCykP"
   },
   "outputs": [
    {
     "data": {
      "text/plain": [
       "tensor([50.0174], grad_fn=<MulBackward0>)"
      ]
     },
     "execution_count": 167,
     "metadata": {},
     "output_type": "execute_result"
    }
   ],
   "source": [
    "epsilon_Loss(p_f2, model2, LOWER_BOUND, UPPER_BOUND, N_POINTS)"
   ]
  },
  {
   "cell_type": "code",
   "execution_count": null,
   "metadata": {
    "colab": {
     "base_uri": "https://localhost:8080/",
     "height": 1000
    },
    "id": "Hl5KH2lsp642",
    "outputId": "84b20199-5268-4026-9628-ccf0eb649617"
   },
   "outputs": [],
   "source": [
    "### Model result using epsilon loss function with penalty\n",
    "print(\"Penalty lambda value = \" + str(LAMBDA_PEN))\n",
    "print(\"Interval is [{lb}, {ub}], with N_POINTS = {npoint}\".format(lb=LOWER_BOUND, \n",
    "                                                              ub=UPPER_BOUND,\n",
    "                                                              npoint=N_POINTS))\n",
    "print(\"\\n\")\n",
    "\n",
    "# Plot 1: The epsilon_loss with lambda penalty:\n",
    "print(\"Plot 1: The epsilon_loss_with_penalty along the training epochs:\")\n",
    "x_epochs = p_f_res[0]\n",
    "plot_figure(x_epochs, p_f_res[1])\n",
    "\n",
    "print(\"\\n\")\n",
    "# Plot 2: The epsilon_loss value (without penalty) when using train with penalty:\n",
    "print(\"Plot 2: The epsilon_loss value along the training epochs:\")\n",
    "\n",
    "plot_figure(x_epochs, p_f_res[2], log_scale=True)\n",
    "\n",
    "print(\"\\n\")\n",
    "\n",
    "# plot_figure(x_values, model_output)"
   ]
  },
  {
   "cell_type": "code",
   "execution_count": 277,
   "metadata": {
    "colab": {
     "base_uri": "https://localhost:8080/",
     "height": 502
    },
    "id": "xN_h2WC-sPr_",
    "outputId": "d32ddc35-885e-4940-dca4-f7a009db50e6"
   },
   "outputs": [
    {
     "name": "stdout",
     "output_type": "stream",
     "text": [
      "Plot 3: the model's output with input from the interval: \n"
     ]
    },
    {
     "data": {
      "text/plain": [
       "<Figure size 432x288 with 0 Axes>"
      ]
     },
     "metadata": {},
     "output_type": "display_data"
    },
    {
     "data": {
      "image/png": "[encoded data removed]",
      "text/plain": [
       "<Figure size 640x480 with 1 Axes>"
      ]
     },
     "metadata": {
      "needs_background": "light"
     },
     "output_type": "display_data"
    }
   ],
   "source": [
    "# Plot 3: the model's output with input from the interval [LOWER_BOUND, UPPER_BOUND]:\n",
    "print(\"Plot 3: the model's output with input from the interval: \")\n",
    "x_vals = [torch.tensor([i], requires_grad=True, dtype=torch.float) for i in x_train]\n",
    "\n",
    "model_output = []\n",
    "for i in x_vals:\n",
    "    model_output.append(model2(i).detach().numpy().item())\n",
    "\n",
    "plot_figure(x_values, model_output)"
   ]
  },
  {
   "cell_type": "code",
   "execution_count": 205,
   "metadata": {},
   "outputs": [
    {
     "data": {
      "text/plain": [
       "tensor([-0.3081], grad_fn=<AddBackward0>)"
      ]
     },
     "execution_count": 205,
     "metadata": {},
     "output_type": "execute_result"
    }
   ],
   "source": [
    "model2(torch.tensor([10], requires_grad=True, dtype=torch.float))"
   ]
  },
  {
   "cell_type": "code",
   "execution_count": null,
   "metadata": {
    "cellView": "form",
    "id": "jd2I0gRqHO8Z"
   },
   "outputs": [],
   "source": [
    "#@title\n",
    "diff = [None for i in range(len(graph_val_pen[2]))]\n",
    "for i in range(len(graph_val_pen[2])):\n",
    "    diff[i] = abs(graph_val_pen[2][i]-graph_val_pen[1][i])\n",
    "\n",
    "plot_figure(x_epochs[400:], diff[400:])"
   ]
  },
  {
   "cell_type": "code",
   "execution_count": 8,
   "metadata": {
    "id": "M0PS0efCiJCp"
   },
   "outputs": [],
   "source": [
    "def finite_diff_method(lower_bound, upper_bound, N_discrete_pts, given_fn):\n",
    "    discrete_points = np.linspace(lower_bound, upper_bound, N_discrete_pts)\n",
    "    h = x[1]-x[0]\n",
    "    c = np.sqrt(1/h)\n",
    "\n",
    "    H = np.zeros((N,N))\n",
    "    # Question: Why H has dimension (N-2) x (N-2)?\n",
    "    V = np.zeros((N,N))\n",
    "\n",
    "    for i in range (N):\n",
    "        for j in range (N):\n",
    "            if i == j:\n",
    "                H[i][j] = -2\n",
    "            elif abs(i-j) == 1:\n",
    "                H[i][j] = 1\n",
    "    for i in range (N):\n",
    "        for j in range (N):\n",
    "            if i == j:\n",
    "                V[i][j] = given_fn.forward(x[i])\n",
    "\n",
    "    A = -H/(h**2) + V\n",
    "    \n",
    "    eig_val, eig_vec = np.linalg.eig(A)\n",
    "    sorted_id_eig_val = np.argsort(eig_val)\n",
    "    # Get the indices that would sort eig_val\n",
    "    z = sorted_id_eig_val[0:1] # Bc. eig_val first 4 value is in ascending order, \n",
    "    # eig_val[z] will return sorted first [T] value of eigenvalues.\n",
    "    energies = eig_val[z]/eig_val[z][0]\n",
    "\n",
    "    ground_state = c * eig_vec[:,z[0]]\n",
    "\n",
    "    return (eig_val[z], ground_state)"
   ]
  },
  {
   "cell_type": "code",
   "execution_count": 9,
   "metadata": {
    "id": "3_uFs6BwJEqa"
   },
   "outputs": [],
   "source": [
    "def plot_finite_diff_sol(eig_val, ground_state):\n",
    "    plt.figure(figsize=(12,10))\n",
    "    for i in range(len(eig_val)):\n",
    "        y = []\n",
    "        y = np.append(y, (-1) * -ground_state)\n",
    "\n",
    "        plt.plot(x,y,lw=3, label=\"{} \".format(i))\n",
    "        plt.xlabel('x', size=14)\n",
    "        plt.ylabel('$\\psi$(x)',size=14)\n",
    "    # plt.plot(x_values, model_output)\n",
    "    plt.legend()\n",
    "    plt.title('normalized wavefunctions for a harmonic oscillator using finite difference method',size=14)\n",
    "    plt.show()\n",
    "    return"
   ]
  },
  {
   "cell_type": "code",
   "execution_count": 10,
   "metadata": {
    "id": "Xd-UKkAUFkXu"
   },
   "outputs": [],
   "source": [
    "class Potential_Function:\n",
    "    def __init__(self, N_points, L_endpoint, alpha, c_0 = 0):\n",
    "        self.N_points = N_points\n",
    "        self.L_endpoint = L_endpoint\n",
    "        \n",
    "        self.alpha = alpha\n",
    "        self.c_0 = c_0\n",
    "\n",
    "    def forward(self, x):\n",
    "        \"\"\"\n",
    "        ARGS:\n",
    "        \"\"\"\n",
    "        f_value = 0\n",
    "        summation = 0\n",
    "\n",
    "        #Iterative method:\n",
    "        for i in range(1, self.N_points):\n",
    "            t_i = np.random.normal(loc=0, scale=1.0)\n",
    "            c_i = (math.pi/(i * self.L_endpoint))**self.alpha\n",
    "            cos_val = np.cos((i * self.L_endpoint * x)/math.pi)\n",
    "            summation += t_i * c_i * cos_val\n",
    "\n",
    "        f_value += summation\n",
    "        f_value += self.c_0\n",
    "\n",
    "        return f_value"
   ]
  },
  {
   "cell_type": "code",
   "execution_count": 99,
   "metadata": {
    "id": "9YnMnj_QRdyd"
   },
   "outputs": [],
   "source": [
    "def potential_func_iterative(x, N_points=20, L_endpoint=UPPER_BOUND, alpha=3, c_0=100):\n",
    "    f_value = 0\n",
    "    summation = 0\n",
    "\n",
    "    #Iterative method:\n",
    "    for i in range(1, N_points+1):\n",
    "        t_i = np.random.normal(loc=0, scale=1.0)\n",
    "        c_i = (math.pi/(i * L_endpoint))**alpha\n",
    "        cos_val = np.cos((i * L_endpoint * x)/math.pi)\n",
    "        summation += t_i * c_i * cos_val\n",
    "\n",
    "    f_value += summation\n",
    "    f_value += c_0\n",
    "\n",
    "    return f_value\n",
    "\n",
    "\n",
    "def potential_func_linalg(x, N_points=20, L_endpoint=UPPER_BOUND, alpha=3, c_0=100):    \n",
    "    # Linear Algebra method:\n",
    "    t_i = np.random.normal(0, 1, size=N_points)\n",
    "    \n",
    "    iter1 = ((math.pi/(i*L_endpoint))**alpha for i in range(1, N_points+1))\n",
    "    c_i = np.fromiter(iter1, float)\n",
    "    a = np.multiply(t_i, c_i)\n",
    "\n",
    "    iter2 = (i for i in range(1, N_points+1))\n",
    "    v = np.fromiter(iter2, float)\n",
    "    s = (L_endpoint*x/math.pi)*v\n",
    "    cos_s = np.cos(s)\n",
    "    \n",
    "    res_vector = np.multiply(a, cos_s)\n",
    "    return np.sum(res_vector) + c_0"
   ]
  },
  {
   "cell_type": "code",
   "execution_count": 199,
   "metadata": {},
   "outputs": [
    {
     "data": {
      "text/plain": [
       "100.0520282255884"
      ]
     },
     "execution_count": 199,
     "metadata": {},
     "output_type": "execute_result"
    }
   ],
   "source": [
    "potential_func_iterative(5)"
   ]
  },
  {
   "cell_type": "code",
   "execution_count": 200,
   "metadata": {},
   "outputs": [
    {
     "data": {
      "text/plain": [
       "100.00303802919831"
      ]
     },
     "execution_count": 200,
     "metadata": {},
     "output_type": "execute_result"
    }
   ],
   "source": [
    "potential_func_linalg(5)"
   ]
  },
  {
   "cell_type": "code",
   "execution_count": 115,
   "metadata": {},
   "outputs": [
    {
     "name": "stdout",
     "output_type": "stream",
     "text": [
      "0.00022339820861816406\n",
      "0.00020813941955566406\n",
      "0.0001480579376220703\n"
     ]
    }
   ],
   "source": [
    "t_f1 = Potential_Function(N_points=20, L_endpoint=10, alpha=3, c_0=1000)\n",
    "\n",
    "start = time.time()\n",
    "t1 = t_f1.forward(x=2)\n",
    "end = time.time()\n",
    "time1 = end-start\n",
    "print(time1)\n",
    "\n",
    "start = time.time()\n",
    "t_f2 = potential_func_iterative(x=2)\n",
    "end = time.time()\n",
    "time2 = end-start\n",
    "print(time2)\n",
    "\n",
    "start = time.time()\n",
    "t_f3 = potential_func_linalg(x=2)\n",
    "end = time.time()\n",
    "time3 = end-start\n",
    "print(time3)"
   ]
  },
  {
   "cell_type": "code",
   "execution_count": null,
   "metadata": {},
   "outputs": [],
   "source": [
    "x_in = torch, requires_grad=True, dtype=torch.float"
   ]
  },
  {
   "cell_type": "code",
   "execution_count": null,
   "metadata": {},
   "outputs": [],
   "source": []
  },
  {
   "cell_type": "code",
   "execution_count": 292,
   "metadata": {},
   "outputs": [
    {
     "data": {
      "text/plain": [
       "tensor([0.0040], grad_fn=<SqueezeBackward1>)"
      ]
     },
     "execution_count": 292,
     "metadata": {},
     "output_type": "execute_result"
    }
   ],
   "source": [
    "x_in = torch.tensor([10], requires_grad=True, dtype=torch.float)\n",
    "model.u_prime_3(x_in)[0]"
   ]
  },
  {
   "cell_type": "code",
   "execution_count": 304,
   "metadata": {
    "id": "POY7jwNJEGUT"
   },
   "outputs": [
    {
     "name": "stdout",
     "output_type": "stream",
     "text": [
      "res = tensor([0.0040])\n",
      "0.0029630661010742188\n",
      "res = tensor([0.0040], grad_fn=<SqueezeBackward1>)\n",
      "0.0017311573028564453\n"
     ]
    }
   ],
   "source": [
    "import time\n",
    "\n",
    "start = time.time()\n",
    "print(\"res = \" + str(model.u_prime_2(x_in)))\n",
    "end = time.time()\n",
    "t1 = end-start\n",
    "print(t1)\n",
    "\n",
    "\n",
    "start = time.time()\n",
    "print(\"res = \" + str(model.u_prime_3(x_in)[0]))\n",
    "end = time.time()\n",
    "t2 = end-start\n",
    "print(t2)\n"
   ]
  },
  {
   "cell_type": "code",
   "execution_count": null,
   "metadata": {
    "colab": {
     "base_uri": "https://localhost:8080/",
     "height": 168
    },
    "id": "Q9c2QZrKFaPu",
    "outputId": "80f5cb75-e199-4002-8ddd-bebefb1ac446"
   },
   "outputs": [],
   "source": [
    "finite_diff_method(LOWER_BOUND, UPPER_BOUND, N_POINTS, t_f)"
   ]
  },
  {
   "cell_type": "code",
   "execution_count": 131,
   "metadata": {
    "colab": {
     "base_uri": "https://localhost:8080/"
    },
    "id": "RidKLfl7rrQ6",
    "outputId": "af2930da-a213-45da-c824-2d06884c5a19"
   },
   "outputs": [
    {
     "name": "stdin",
     "output_type": "stream",
     "text": [
      "enter lower limit of the domain:  -10\n",
      "enter upper limit of the domain:  10\n",
      "enter number of grid points:  1001\n"
     ]
    }
   ],
   "source": [
    "a = float(input('enter lower limit of the domain: '))\n",
    "b = float(input('enter upper limit of the domain: '))\n",
    "N = int(input('enter number of grid points: '))"
   ]
  },
  {
   "cell_type": "markdown",
   "metadata": {
    "id": "aGwkRNGurrQ7"
   },
   "source": [
    "We have the linear system Ax = λx\n",
    "\n",
    "Then decompose A into H + V, A = H+V"
   ]
  },
  {
   "cell_type": "code",
   "execution_count": 207,
   "metadata": {
    "colab": {
     "base_uri": "https://localhost:8080/"
    },
    "id": "kThI-s5hrrQ7",
    "outputId": "8f2cbf5e-36aa-4578-eb07-e14211c8574e"
   },
   "outputs": [
    {
     "name": "stdout",
     "output_type": "stream",
     "text": [
      "[[-2.  1.  0. ...  0.  0.  0.]\n",
      " [ 1. -2.  1. ...  0.  0.  0.]\n",
      " [ 0.  1. -2. ...  0.  0.  0.]\n",
      " ...\n",
      " [ 0.  0.  0. ... -2.  1.  0.]\n",
      " [ 0.  0.  0. ...  1. -2.  1.]\n",
      " [ 0.  0.  0. ...  0.  1. -2.]]\n",
      "[[ 99.9837709    0.           0.         ...   0.           0.\n",
      "    0.        ]\n",
      " [  0.          99.9789517    0.         ...   0.           0.\n",
      "    0.        ]\n",
      " [  0.           0.         100.01838669 ...   0.           0.\n",
      "    0.        ]\n",
      " ...\n",
      " [  0.           0.           0.         ...  99.99268615   0.\n",
      "    0.        ]\n",
      " [  0.           0.           0.         ...   0.          99.98678941\n",
      "    0.        ]\n",
      " [  0.           0.           0.         ...   0.           0.\n",
      "   99.94722103]]\n",
      "[[ 5099.9837709  -2500.             0.         ...     0.\n",
      "      0.             0.        ]\n",
      " [-2500.          5099.9789517  -2500.         ...     0.\n",
      "      0.             0.        ]\n",
      " [    0.         -2500.          5100.01838669 ...     0.\n",
      "      0.             0.        ]\n",
      " ...\n",
      " [    0.             0.             0.         ...  5099.99268615\n",
      "  -2500.             0.        ]\n",
      " [    0.             0.             0.         ... -2500.\n",
      "   5099.98678941 -2500.        ]\n",
      " [    0.             0.             0.         ...     0.\n",
      "  -2500.          5099.94722103]]\n"
     ]
    }
   ],
   "source": [
    "x = np.linspace(a,b,N)\n",
    "h = x[1]-x[0]\n",
    "c = np.sqrt(1/h)\n",
    "\n",
    "H = np.zeros((N-2,N-2))\n",
    "# Question: Why H has dimension (N-2) x (N-2)?\n",
    "V = np.zeros((N-2,N-2))\n",
    "\n",
    "for i in range (N-2):\n",
    "    for j in range (N-2):\n",
    "        if i == j:\n",
    "            H[i][j] = -2\n",
    "        elif abs(i-j) == 1:\n",
    "            H[i][j] = 1\n",
    "print(H)\n",
    "\n",
    "for i in range (N-2):\n",
    "    for j in range (N-2):\n",
    "        if i == j:\n",
    "            V[i][j] = p_f(x[i])\n",
    "print(V)\n",
    "\n",
    "A = -H/(h**2) + V\n",
    "print(A)"
   ]
  },
  {
   "cell_type": "code",
   "execution_count": 136,
   "metadata": {
    "id": "KY8sH_CtrrQ9"
   },
   "outputs": [],
   "source": [
    "# Normalize eig_vec by computing L2 normeig_vec"
   ]
  },
  {
   "cell_type": "code",
   "execution_count": 208,
   "metadata": {
    "id": "pNgAd9K9rrQ9"
   },
   "outputs": [],
   "source": [
    "eig_val, eig_vec = np.linalg.eig(A)\n",
    "sorted_id_eig_val = np.argsort(eig_val)\n",
    "# Get the indices that would sort eig_val\n",
    "z = sorted_id_eig_val[0:1] # Bc. eig_val first 4 value is in ascending order, \n",
    "# eig_val[z] will return sorted first [T] value of eigenvalues.\n",
    "energies = eig_val[z]/eig_val[z][0]\n",
    "\n",
    "ground_state = c * eig_vec[:,z[0]]"
   ]
  },
  {
   "cell_type": "code",
   "execution_count": 209,
   "metadata": {
    "colab": {
     "base_uri": "https://localhost:8080/"
    },
    "id": "G0NxOxI7DfGf",
    "outputId": "76e1335e-162d-4bfe-ad55-c7175467561b"
   },
   "outputs": [
    {
     "data": {
      "text/plain": [
       "array([100.02368505])"
      ]
     },
     "execution_count": 209,
     "metadata": {},
     "output_type": "execute_result"
    }
   ],
   "source": [
    "eig_val[z]"
   ]
  },
  {
   "cell_type": "code",
   "execution_count": 278,
   "metadata": {
    "colab": {
     "base_uri": "https://localhost:8080/",
     "height": 627
    },
    "id": "F9qLmPqYrrQ-",
    "outputId": "ae73ef59-631a-4c5d-b363-6b5b838a9600"
   },
   "outputs": [
    {
     "data": {
      "image/png": "[encoded data removed]",
      "text/plain": [
       "<Figure size 864x720 with 1 Axes>"
      ]
     },
     "metadata": {
      "needs_background": "light"
     },
     "output_type": "display_data"
    }
   ],
   "source": [
    "plt.figure(figsize=(12,10))\n",
    "for i in range(len(z)):\n",
    "    y = []\n",
    "    y = np.append(y, (-1) * -ground_state)\n",
    "\n",
    "    y = np.append(y,0)\n",
    "\n",
    "    y = np.insert(y,0,0)\n",
    "    plt.plot(x,y,lw=3, label=\"{} \".format(i))\n",
    "    plt.xlabel('x', size=14)\n",
    "    plt.ylabel('$\\psi$(x)',size=14)\n",
    "plt.plot(x_values, model_output)\n",
    "plt.legend()\n",
    "plt.title('normalized wavefunctions for a harmonic oscillator using finite difference method',size=14)\n",
    "plt.show()"
   ]
  },
  {
   "cell_type": "code",
   "execution_count": null,
   "metadata": {
    "id": "uXB8huVA92fz"
   },
   "outputs": [],
   "source": []
  }
 ],
 "metadata": {
  "colab": {
   "name": "PyTorch_.ipynb",
   "provenance": []
  },
  "kernelspec": {
   "display_name": "Python 3",
   "language": "python",
   "name": "python3"
  },
  "language_info": {
   "codemirror_mode": {
    "name": "ipython",
    "version": 3
   },
   "file_extension": ".py",
   "mimetype": "text/x-python",
   "name": "python",
   "nbconvert_exporter": "python",
   "pygments_lexer": "ipython3",
   "version": "3.7.7"
  },
  "vscode": {
   "interpreter": {
    "hash": "8c21580189d9a9d7f1e3fef63ff70de58083dda94aa35d8ed937f03fa405217e"
   }
  }
 },
 "nbformat": 4,
 "nbformat_minor": 4
}
