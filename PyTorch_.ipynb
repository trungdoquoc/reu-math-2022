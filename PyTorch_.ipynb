{
  "cells": [
    {
      "cell_type": "markdown",
      "metadata": {
        "id": "MpofWgGancyb"
      },
      "source": [
        "The input of the NN is 1D. "
      ]
    },
    {
      "cell_type": "code",
      "execution_count": 6,
      "metadata": {
        "id": "e-NAhHF3ncye"
      },
      "outputs": [],
      "source": [
        "import numpy as np\n",
        "import copy\n",
        "import torch\n",
        "import torch.nn as nn\n",
        "import math\n",
        "from torch.autograd import Variable\n",
        "from torch.nn.functional import normalize\n",
        "from sklearn.model_selection import train_test_split\n",
        "from torch.nn.functional import normalize\n",
        "import matplotlib.pyplot as plt\n",
        "\n",
        "def quad_fn(a, b, c, x):\n",
        "    return a*x**2 + b*x + c\n",
        "\n",
        "def x_square(x: torch.tensor) -> torch.Tensor:\n",
        "    return x**2\n",
        "\n",
        "# DEFINE GIVEN FUNCTION V(x): ax^2 + bx + c\n",
        "given_fn = x_square"
      ]
    },
    {
      "cell_type": "code",
      "execution_count": 19,
      "metadata": {
        "id": "SOtFslmCncyg"
      },
      "outputs": [],
      "source": [
        "# CUSTOM LOSS FUNCTION:\n",
        "# def EpsilonLoss(nn.Module):\n",
        "\n",
        "def epsilon_Loss(v_x, model_u, lower_bound, upper_bound, n_points):\n",
        "    \"\"\"\n",
        "    GOAL: Epsilon function evaluated at u using discretized estimation\n",
        "    minimizing Epsilon(u) = \n",
        "    \n",
        "    ARGS: \n",
        "    n_points (int): number of discretized points on the interval [-L, L]\n",
        "    e.g.: -(L)|---|---|---|---|(L) interval has n_points = 5\n",
        "\n",
        "    v_x (torch.Tensor): function instance\n",
        "    model_u (torch.Tensor): model output\n",
        "    \"\"\"\n",
        "    sum = 0\n",
        "    discrete_points = np.linspace(lower_bound, upper_bound, n_points)\n",
        "    h = discrete_points[1] - discrete_points[0]\n",
        "    for i in discrete_points:\n",
        "        x_i = torch.tensor([i], requires_grad=True, dtype=torch.float)\n",
        "        u_xi = model_u(x_i)\n",
        "\n",
        "        u_prime = model_u.u_prime_2(x_i)\n",
        "        \n",
        "        v_xi = v_x(x_i)\n",
        "        t = torch.square(u_prime) + v_xi*(u_xi**2)\n",
        "        sum += t\n",
        "    return 0.5*h*sum\n",
        "\n",
        "def epsilon_Loss_penalty(v_x, model_u, lambda_pen,\n",
        "                         lower_bound, upper_bound, n_points):\n",
        "    \"\"\"\n",
        "    \n",
        "    \"\"\"\n",
        "    sum = 0\n",
        "    pen = 0\n",
        "\n",
        "    discrete_points = np.linspace(lower_bound, upper_bound, n_points)\n",
        "    h = discrete_points[1] - discrete_points[0]\n",
        "    for i in discrete_points:\n",
        "        x_i = torch.tensor([i], requires_grad=True, dtype=torch.float)\n",
        "        u_xi = model_u(x_i)\n",
        "\n",
        "        u_prime = model_u.u_prime_2(x_i)\n",
        "        \n",
        "        v_xi = v_x(x_i)\n",
        "        t = torch.square(u_prime) + v_xi*torch.square(u_xi)\n",
        "        sum += t\n",
        "    epsilon_fn = 0.5*h*sum\n",
        "    \n",
        "    temp = 0\n",
        "    for i in discrete_points:\n",
        "        x_i = torch.tensor([i], requires_grad=True, dtype=torch.float)\n",
        "        temp += torch.square(model_u(x_i))\n",
        "    \n",
        "    pen = lambda_pen * torch.square((h * temp-1))\n",
        "    return epsilon_fn + pen \n",
        "\n",
        "# NORMALIZE MODEL u(x) OUTPUT:\n",
        "def normalize_u(model_u, lower_bound, upper_bound, n_points):\n",
        "    \"\"\"\n",
        "    Normalize model.output weight by: \n",
        "    model.output *= c\n",
        "    where,\n",
        "    scalar c = 1/denom\n",
        "    \"\"\"\n",
        "    discrete_points = np.linspace(lower_bound, upper_bound, n_points)\n",
        "    h = discrete_points[1] - discrete_points[0]\n",
        "    s = 0\n",
        "    for i in discrete_points:\n",
        "        x_i = torch.tensor([i], requires_grad=True, dtype=torch.float)\n",
        "        s += model_u(x_i)**2\n",
        "    denom = math.sqrt(h) * torch.sqrt(s)\n",
        "    return 1/denom"
      ]
    },
    {
      "cell_type": "code",
      "execution_count": 23,
      "metadata": {
        "id": "06QWhlkpQ5Eh"
      },
      "outputs": [],
      "source": [
        "# CREATING MODEL CLASS\n",
        "class Nonlinear(nn.Module):\n",
        "    def __init__(self, n):\n",
        "        # One hidden layer with n nodes\n",
        "        super().__init__()\n",
        "        self.hidden = nn.Linear(1, n)\n",
        "        self.output = nn.Linear(n, 1)\n",
        "        \n",
        "        self.sigmoid = nn.Sigmoid()\n",
        "        self.tanh = nn.Tanh()\n",
        "        self.target_fn = given_fn\n",
        "\n",
        "    def forward(self, x, use_tanh_fn = False):\n",
        "        if use_tanh_fn == True:\n",
        "            x = self.hidden(x)\n",
        "            x = self.tanh(x)\n",
        "            x = self.output(x)\n",
        "        else:\n",
        "            x = self.hidden(x)\n",
        "            x = self.sigmoid(x)\n",
        "            x = self.output(x)\n",
        "        return x\n",
        "\n",
        "    def normalize_model(self, lower_bound, upper_bound, n_points):\n",
        "        \"\"\"\n",
        "        GOAL: Normalize the output weight layer\n",
        "        \"\"\"\n",
        "        print(\"Before normalization: \")\n",
        "        print(self.output.weight.data)\n",
        "        print(self.output.bias.data)\n",
        "        \n",
        "        c = normalize_u(self, lower_bound, upper_bound, n_points)\n",
        "        self.output.weight.data.copy_(c.item() * self.output.weight.data)\n",
        "        self.output.bias.data.copy_(c.item() * self.output.bias.data)\n",
        "\n",
        "        print(\"After normalization: \")\n",
        "        print(self.output.weight.data)\n",
        "        print(self.output.bias.data)\n",
        "        print(\"c value = \" + str(c))\n",
        "\n",
        "        return \n",
        "\n",
        "    def u_prime_2(self, input):\n",
        "        i_tensor = torch.tensor([input.item()], requires_grad=True, dtype=torch.float)\n",
        "        clone_model = copy.deepcopy(self)\n",
        "        res = clone_model(i_tensor)\n",
        "        res.backward()\n",
        "        \n",
        "        val = 0\n",
        "        val += i_tensor.grad\n",
        "\n",
        "        del i_tensor\n",
        "        del clone_model\n",
        "        \n",
        "        return val\n",
        "\n",
        "    def u_prime(self, input):\n",
        "        \"\"\"\n",
        "        NN with 1 hidden node layer is of the form:\n",
        "        u(x) = SUM_i_to_N(a_i * sigmoid(w.x + b))\n",
        "\n",
        "        where\n",
        "        a_i is the corresponding weight of self.output layerq\n",
        "        w is self.hidden.weight vector\n",
        "        b is self.hidden.bias vector\n",
        "        sigmoid(w.x + b) is the sigmoid-activated hidden vector\n",
        "\n",
        "        Formula of u'(x) (for 1 hidden layer NN):\n",
        "        u'(x) = SUM_i_to_N(w_i*a_i*sigmoid'(w_i*x+b))\n",
        "        Note: sigmoid'(w_i*x +b) = sigmoid(w_i*x+b)*(1-sigmoid(w_i*x+b))\n",
        "        \"\"\"\n",
        "        a_i = self.output.weight.data\n",
        "        w_i = torch.transpose(self.hidden.weight.data, 0, 1)\n",
        "        wi_ai = w_i * a_i\n",
        "\n",
        "        hid_layer = self.hidden(input)\n",
        "        hid_layer_T = torch.reshape(hid_layer, (list(hid_layer.shape)[0], 1))\n",
        "        m = hid_layer_T * (1-hid_layer_T)\n",
        "\n",
        "        return wi_ai @ m\n",
        "    \n",
        "# TRANING MODEL\n",
        "    def train_network_with_penalty(self, num_epochs, v_x, optimizer, lambda_pen,\n",
        "                                    lower_bound, upper_bound, n_points):\n",
        "        # For plotting loss value over epochs:\n",
        "        x_epochs = []\n",
        "        y_loss = []\n",
        "        y_loss_pen = []\n",
        "\n",
        "        # stopping criterion:\n",
        "        stop_counter = 0\n",
        "\n",
        "        for epoch in range(num_epochs):\n",
        "            optimizer.zero_grad()\n",
        "            loss_pen = epsilon_Loss_penalty(v_x, self, lambda_pen,\n",
        "                                        lower_bound, upper_bound, n_points)\n",
        "            loss = epsilon_Loss(v_x, self,\n",
        "                                lower_bound, upper_bound, n_points)\n",
        "            \n",
        "            y_loss_pen.append(loss_pen.detach().numpy().item())\n",
        "            y_loss.append(loss.detach().numpy().item())\n",
        "            x_epochs.append(epoch)\n",
        "\n",
        "            #check if need to stop training:\n",
        "            if epoch > 0 and stop_counter >= 5:\n",
        "\n",
        "                #Normalize model before return\n",
        "                self.normalize_model(lower_bound, upper_bound, n_points)\n",
        "\n",
        "                print(\"LOSS VALUE WITH LAMBDA PENALTY = \" \n",
        "                      + str(epsilon_Loss_penalty(v_x, self, lambda_pen,\n",
        "                                                 lower_bound, upper_bound, n_points)))\n",
        "                print(\"LOSS VALUE  = \" \n",
        "                      + str(epsilon_Loss(v_x, self, lower_bound, upper_bound, n_points)))\n",
        "                \n",
        "                break\n",
        "            elif epoch > 0 and stop_counter < 5:\n",
        "                if torch.abs(y_loss_pen[epoch-1]-loss_pen) <= 1e-5:\n",
        "                    stop_counter += 1\n",
        "                else:\n",
        "                    stop_counter = 0\n",
        "            else:\n",
        "                print(\"Uncatched case\")\n",
        "\n",
        "            print('epoch {}, loss with penalty {}'.format(epoch, loss_pen.item()))\n",
        "            loss_pen.backward()\n",
        "            optimizer.step()\n",
        "\n",
        "        return (x_epochs, y_loss_pen, y_loss)\n",
        "\n",
        "    def train_network(self, num_epochs, v_x, optimizer,\n",
        "                                    lower_bound, upper_bound, n_points):\n",
        "        # For plotting loss value over epochs:\n",
        "        x_epochs = []\n",
        "        y_loss = []\n",
        "        \n",
        "        # stopping criterion:\n",
        "        stop_counter = 0\n",
        "\n",
        "        for epoch in range(num_epochs):\n",
        "\n",
        "            if epoch > 0 and epoch % 50 == 0:\n",
        "                c = normalize_u(self, lower_bound, upper_bound, n_points)\n",
        "                print(\"Pre normalize: \")\n",
        "                print(self.output.weight.data)\n",
        "                print(self.output.bias.data)\n",
        "                print(\"After normalize: \")\n",
        "                self.output.weight.data.copy_(c.item() * self.output.weight.data)\n",
        "                self.output.bias.data.copy_(c.item() * self.output.bias.data)\n",
        "                print(self.output.weight.data)\n",
        "                print(self.output.bias.data)\n",
        "                print(\"c value = \" + str(c))\n",
        "            optimizer.zero_grad()\n",
        "            loss = epsilon_Loss(v_x, self,\n",
        "                                lower_bound, upper_bound, n_points)\n",
        "            y_loss.append(loss.detach().numpy().item())\n",
        "            x_epochs.append(epoch)\n",
        "            #check if need to stop training:\n",
        "            if epoch > 0 and stop_counter >= 5:\n",
        "                print(\"LOSS VALUE = \" \n",
        "                      + str(epsilon_Loss(v_x, self, lower_bound, upper_bound, n_points)))\n",
        "                break\n",
        "            elif epoch > 0 and stop_counter < 5:\n",
        "                if torch.abs(y_loss[epoch-1]-loss) <= 1e-5:\n",
        "                    stop_counter += 1\n",
        "                else:\n",
        "                    stop_counter = 0\n",
        "\n",
        "            print('epoch {}, loss {}'.format(epoch, loss.item()))\n",
        "            loss.backward()\n",
        "            optimizer.step()\n",
        "\n",
        "        return (x_epochs, y_loss)\n",
        "        "
      ]
    },
    {
      "cell_type": "code",
      "execution_count": 25,
      "metadata": {
        "id": "hbBxk8_fncyl"
      },
      "outputs": [],
      "source": [
        "# DEFINE HYPER-PARAMETERS\n",
        "batch_size = 50\n",
        "learningRate = 0.05\n",
        "num_epochs = 2000\n",
        "\n",
        "#INIT MODEL\n",
        "model = Nonlinear(20)\n",
        "if torch.cuda.is_available():\n",
        "    model.cuda()\n",
        "\n",
        "# INIT OPTIMIZER CLASS\n",
        "# What is an optimizer: \n",
        "# SGD:\n",
        "# SGD_optimizer = torch.optim.SGD(model.parameters(), lr=learningRate)\n",
        "# Adam:\n",
        "adam_optimizer = torch.optim.Adam(model.parameters(), \n",
        "                                    lr=learningRate, \n",
        "                                    betas=(0.9, 0.999), \n",
        "                                    eps=1e-08, \n",
        "                                    weight_decay=0, \n",
        "                                    amsgrad=False)\n",
        "\n",
        "# INIT LOSS FUNCTION: MSE\n",
        "# criterion = epsilon_Loss"
      ]
    },
    {
      "cell_type": "code",
      "execution_count": 26,
      "metadata": {
        "colab": {
          "base_uri": "https://localhost:8080/"
        },
        "id": "EstQ_ILqQeOt",
        "outputId": "f56917ba-c240-4804-f2c6-eeeeaa665070"
      },
      "outputs": [
        {
          "output_type": "stream",
          "name": "stdout",
          "text": [
            "(1001, 1) (1001, 1)\n"
          ]
        }
      ],
      "source": [
        "INPUT_SIZE = 1\n",
        "OUTPUT_SIZE = 1\n",
        "\n",
        "LAMBDA_PEN = 100\n",
        "LOWER_BOUND = -6\n",
        "UPPER_BOUND = 6\n",
        "N_POINTS = 1001\n",
        "\n",
        "# CREATING DATASET:\n",
        "x_values = [i for i in np.linspace(LOWER_BOUND, UPPER_BOUND, N_POINTS)]\n",
        "y_values = [given_fn(i) for i in x_values]\n",
        "\n",
        "x_train = np.array(x_values, dtype=np.float32).reshape(-1, 1)\n",
        "y_train = np.array(y_values, dtype=np.float32).reshape(-1, 1)\n",
        "\n",
        "print(x_train.shape, y_train.shape)"
      ]
    },
    {
      "cell_type": "code",
      "source": [
        "model.normalize_model(LOWER_BOUND, UPPER_BOUND, N_POINTS)"
      ],
      "metadata": {
        "id": "uyH993k7Wjxj",
        "outputId": "a4e93f14-8834-458d-9e36-257bbd4e001b",
        "colab": {
          "base_uri": "https://localhost:8080/"
        }
      },
      "execution_count": 27,
      "outputs": [
        {
          "output_type": "stream",
          "name": "stdout",
          "text": [
            "Before normalization: \n",
            "tensor([[-0.0111, -0.1186,  0.0604, -0.0131,  0.0752, -0.0480,  0.0050, -0.0982,\n",
            "          0.1127, -0.0430, -0.0122,  0.0584, -0.0813, -0.0953,  0.0901, -0.0571,\n",
            "          0.2095, -0.1636,  0.0851,  0.0071]])\n",
            "tensor([-0.0952])\n",
            "After normalization: \n",
            "tensor([[-0.0129, -0.1384,  0.0705, -0.0153,  0.0877, -0.0561,  0.0058, -0.1145,\n",
            "          0.1315, -0.0502, -0.0142,  0.0681, -0.0948, -0.1112,  0.1051, -0.0666,\n",
            "          0.2445, -0.1909,  0.0993,  0.0083]])\n",
            "tensor([-0.1111])\n",
            "c value = tensor([1.1668], grad_fn=<MulBackward0>)\n"
          ]
        }
      ]
    },
    {
      "cell_type": "code",
      "source": [
        "model_2 = Nonlinear(20)\n",
        "adam_optimizer_2 = torch.optim.Adam(model_2.parameters(), \n",
        "                                    lr=learningRate, \n",
        "                                    betas=(0.9, 0.999), \n",
        "                                    eps=1e-08, \n",
        "                                    weight_decay=0, \n",
        "                                    amsgrad=False)\n"
      ],
      "metadata": {
        "id": "-0I3uihu39vf"
      },
      "execution_count": 13,
      "outputs": []
    },
    {
      "cell_type": "code",
      "execution_count": 14,
      "metadata": {
        "id": "sjtOBhyZLspO"
      },
      "outputs": [],
      "source": [
        "# PLOT DATA\n",
        "def plot_figure(x_val, y_val, x_test=None, predicted=None):\n",
        "    plt.clf()\n",
        "    plt.figure(figsize=(8, 6), dpi=80)\n",
        "    plt.plot(x_val, y_val, '--', label='True data', alpha=0.5)\n",
        "    if predicted != None:\n",
        "        plt.plot(x_test, predicted, '--', label='Predictions', alpha=0.5)\n",
        "    plt.legend(loc='best')\n",
        "    plt.show()"
      ]
    },
    {
      "cell_type": "code",
      "source": [
        "from google.colab import drive\n",
        "drive.mount('/content/gdrive')"
      ],
      "metadata": {
        "id": "jrXELb9XQRWk",
        "outputId": "36374023-9472-44f1-9793-fd28c77256ae",
        "colab": {
          "base_uri": "https://localhost:8080/"
        }
      },
      "execution_count": 15,
      "outputs": [
        {
          "output_type": "stream",
          "name": "stdout",
          "text": [
            "Drive already mounted at /content/gdrive; to attempt to forcibly remount, call drive.mount(\"/content/gdrive\", force_remount=True).\n"
          ]
        }
      ]
    },
    {
      "cell_type": "code",
      "source": [
        "#SAVE MODEL TO DRIVE\n",
        "model_save_name = 'latest_model.pt'\n",
        "path = F\"/content/gdrive/My Drive/{model_save_name}\" \n",
        "torch.save(model.state_dict(), path)"
      ],
      "metadata": {
        "id": "1dJT6QtaQn_k"
      },
      "execution_count": 34,
      "outputs": []
    },
    {
      "cell_type": "code",
      "source": [
        "#LOAD MODEL FROM DRIVE\n",
        "model_save_name = 'latest_model.pt'\n",
        "path = F\"/content/gdrive/My Drive/{model_save_name}\"\n",
        "model.load_state_dict(torch.load(path))"
      ],
      "metadata": {
        "id": "OM_PKa9WRBGk"
      },
      "execution_count": null,
      "outputs": []
    },
    {
      "cell_type": "code",
      "execution_count": 32,
      "metadata": {
        "id": "p7j57wogg0DM",
        "outputId": "16b5a6e5-feb4-4b60-91dd-cf8b3984ab66",
        "colab": {
          "base_uri": "https://localhost:8080/"
        }
      },
      "outputs": [
        {
          "output_type": "stream",
          "name": "stdout",
          "text": [
            "Uncatched case\n",
            "epoch 0, loss with penalty 102.13668060302734\n",
            "epoch 1, loss with penalty 9.107850074768066\n",
            "epoch 2, loss with penalty 10.789615631103516\n",
            "epoch 3, loss with penalty 29.550914764404297\n",
            "epoch 4, loss with penalty 6.891401767730713\n",
            "epoch 5, loss with penalty 14.98714828491211\n",
            "epoch 6, loss with penalty 5.327519416809082\n",
            "epoch 7, loss with penalty 19.783187866210938\n",
            "epoch 8, loss with penalty 5.508543491363525\n",
            "epoch 9, loss with penalty 11.198674201965332\n",
            "epoch 10, loss with penalty 9.35377025604248\n",
            "epoch 11, loss with penalty 6.791965484619141\n",
            "epoch 12, loss with penalty 12.083612442016602\n",
            "epoch 13, loss with penalty 9.341896057128906\n",
            "epoch 14, loss with penalty 7.606149196624756\n",
            "epoch 15, loss with penalty 9.053787231445312\n",
            "epoch 16, loss with penalty 9.415572166442871\n",
            "epoch 17, loss with penalty 8.850326538085938\n",
            "epoch 18, loss with penalty 8.956494331359863\n",
            "epoch 19, loss with penalty 9.963850975036621\n",
            "epoch 20, loss with penalty 10.429598808288574\n",
            "epoch 21, loss with penalty 9.717578887939453\n",
            "epoch 22, loss with penalty 9.045462608337402\n",
            "epoch 23, loss with penalty 9.281813621520996\n",
            "epoch 24, loss with penalty 9.83277416229248\n",
            "epoch 25, loss with penalty 9.851014137268066\n",
            "epoch 26, loss with penalty 9.35092830657959\n",
            "epoch 27, loss with penalty 9.06290054321289\n",
            "epoch 28, loss with penalty 9.361665725708008\n",
            "epoch 29, loss with penalty 9.6141939163208\n",
            "epoch 30, loss with penalty 9.318999290466309\n",
            "epoch 31, loss with penalty 9.009065628051758\n",
            "epoch 32, loss with penalty 9.10977840423584\n",
            "epoch 33, loss with penalty 9.295246124267578\n",
            "epoch 34, loss with penalty 9.19919204711914\n",
            "epoch 35, loss with penalty 8.942282676696777\n",
            "epoch 36, loss with penalty 8.866313934326172\n",
            "epoch 37, loss with penalty 8.986650466918945\n",
            "epoch 38, loss with penalty 8.994318008422852\n",
            "epoch 39, loss with penalty 8.804217338562012\n",
            "epoch 40, loss with penalty 8.646540641784668\n",
            "epoch 41, loss with penalty 8.621407508850098\n",
            "epoch 42, loss with penalty 8.57937240600586\n",
            "epoch 43, loss with penalty 8.413537979125977\n",
            "epoch 44, loss with penalty 8.229717254638672\n",
            "epoch 45, loss with penalty 8.164440155029297\n",
            "epoch 46, loss with penalty 8.130817413330078\n",
            "epoch 47, loss with penalty 7.949165344238281\n",
            "epoch 48, loss with penalty 7.69436502456665\n",
            "epoch 49, loss with penalty 7.534502983093262\n",
            "epoch 50, loss with penalty 7.384526252746582\n",
            "epoch 51, loss with penalty 7.158034324645996\n",
            "epoch 52, loss with penalty 7.019909381866455\n",
            "epoch 53, loss with penalty 6.915932655334473\n",
            "epoch 54, loss with penalty 6.672822952270508\n",
            "epoch 55, loss with penalty 6.537189960479736\n",
            "epoch 56, loss with penalty 6.3987860679626465\n",
            "epoch 57, loss with penalty 6.233288764953613\n",
            "epoch 58, loss with penalty 6.1718597412109375\n",
            "epoch 59, loss with penalty 5.990324020385742\n",
            "epoch 60, loss with penalty 5.928476810455322\n",
            "epoch 61, loss with penalty 5.791057586669922\n",
            "epoch 62, loss with penalty 5.7485504150390625\n",
            "epoch 63, loss with penalty 5.626505374908447\n",
            "epoch 64, loss with penalty 5.587314605712891\n",
            "epoch 65, loss with penalty 5.486057281494141\n",
            "epoch 66, loss with penalty 5.466053485870361\n",
            "epoch 67, loss with penalty 5.374486923217773\n",
            "epoch 68, loss with penalty 5.348397254943848\n",
            "epoch 69, loss with penalty 5.290531158447266\n",
            "epoch 70, loss with penalty 5.245182514190674\n",
            "epoch 71, loss with penalty 5.219266414642334\n",
            "epoch 72, loss with penalty 5.159624099731445\n",
            "epoch 73, loss with penalty 5.143311500549316\n",
            "epoch 74, loss with penalty 5.100662708282471\n",
            "epoch 75, loss with penalty 5.058444499969482\n",
            "epoch 76, loss with penalty 5.04158878326416\n",
            "epoch 77, loss with penalty 4.995532035827637\n",
            "epoch 78, loss with penalty 4.96104621887207\n",
            "epoch 79, loss with penalty 4.938554286956787\n",
            "epoch 80, loss with penalty 4.893612384796143\n",
            "epoch 81, loss with penalty 4.858292102813721\n",
            "epoch 82, loss with penalty 4.831186771392822\n",
            "epoch 83, loss with penalty 4.787246227264404\n",
            "epoch 84, loss with penalty 4.747296333312988\n",
            "epoch 85, loss with penalty 4.715873718261719\n",
            "epoch 86, loss with penalty 4.6727447509765625\n",
            "epoch 87, loss with penalty 4.627619743347168\n",
            "epoch 88, loss with penalty 4.591004848480225\n",
            "epoch 89, loss with penalty 4.548707962036133\n",
            "epoch 90, loss with penalty 4.500168323516846\n",
            "epoch 91, loss with penalty 4.457395076751709\n",
            "epoch 92, loss with penalty 4.414974212646484\n",
            "epoch 93, loss with penalty 4.365942001342773\n",
            "epoch 94, loss with penalty 4.317677021026611\n",
            "epoch 95, loss with penalty 4.272982597351074\n",
            "epoch 96, loss with penalty 4.225243091583252\n",
            "epoch 97, loss with penalty 4.174356460571289\n",
            "epoch 98, loss with penalty 4.125853538513184\n",
            "epoch 99, loss with penalty 4.078391075134277\n",
            "epoch 100, loss with penalty 4.0279130935668945\n",
            "epoch 101, loss with penalty 3.9765589237213135\n",
            "epoch 102, loss with penalty 3.9270429611206055\n",
            "epoch 103, loss with penalty 3.8773152828216553\n",
            "epoch 104, loss with penalty 3.825618267059326\n",
            "epoch 105, loss with penalty 3.773590326309204\n",
            "epoch 106, loss with penalty 3.722675323486328\n",
            "epoch 107, loss with penalty 3.671420097351074\n",
            "epoch 108, loss with penalty 3.6185970306396484\n",
            "epoch 109, loss with penalty 3.565650224685669\n",
            "epoch 110, loss with penalty 3.5132906436920166\n",
            "epoch 111, loss with penalty 3.4604275226593018\n",
            "epoch 112, loss with penalty 3.4065778255462646\n",
            "epoch 113, loss with penalty 3.3523411750793457\n",
            "epoch 114, loss with penalty 3.298356771469116\n",
            "epoch 115, loss with penalty 3.244119882583618\n",
            "epoch 116, loss with penalty 3.1889843940734863\n",
            "epoch 117, loss with penalty 3.133511543273926\n",
            "epoch 118, loss with penalty 3.078099012374878\n",
            "epoch 119, loss with penalty 3.022493839263916\n",
            "epoch 120, loss with penalty 2.9664382934570312\n",
            "epoch 121, loss with penalty 2.909940242767334\n",
            "epoch 122, loss with penalty 2.853482484817505\n",
            "epoch 123, loss with penalty 2.7970809936523438\n",
            "epoch 124, loss with penalty 2.7404074668884277\n",
            "epoch 125, loss with penalty 2.6835875511169434\n",
            "epoch 126, loss with penalty 2.626779794692993\n",
            "epoch 127, loss with penalty 2.570169448852539\n",
            "epoch 128, loss with penalty 2.5137109756469727\n",
            "epoch 129, loss with penalty 2.457228183746338\n",
            "epoch 130, loss with penalty 2.4009902477264404\n",
            "epoch 131, loss with penalty 2.3451013565063477\n",
            "epoch 132, loss with penalty 2.289574146270752\n",
            "epoch 133, loss with penalty 2.234438180923462\n",
            "epoch 134, loss with penalty 2.1796634197235107\n",
            "epoch 135, loss with penalty 2.1254639625549316\n",
            "epoch 136, loss with penalty 2.071910858154297\n",
            "epoch 137, loss with penalty 2.018960952758789\n",
            "epoch 138, loss with penalty 1.9667223691940308\n",
            "epoch 139, loss with penalty 1.9152239561080933\n",
            "epoch 140, loss with penalty 1.8646174669265747\n",
            "epoch 141, loss with penalty 1.8149383068084717\n",
            "epoch 142, loss with penalty 1.766156554222107\n",
            "epoch 143, loss with penalty 1.7184288501739502\n",
            "epoch 144, loss with penalty 1.6718106269836426\n",
            "epoch 145, loss with penalty 1.626328945159912\n",
            "epoch 146, loss with penalty 1.582057237625122\n",
            "epoch 147, loss with penalty 1.5390228033065796\n",
            "epoch 148, loss with penalty 1.497319221496582\n",
            "epoch 149, loss with penalty 1.4569932222366333\n",
            "epoch 150, loss with penalty 1.418025016784668\n",
            "epoch 151, loss with penalty 1.380515456199646\n",
            "epoch 152, loss with penalty 1.3444881439208984\n",
            "epoch 153, loss with penalty 1.3099393844604492\n",
            "epoch 154, loss with penalty 1.2769122123718262\n",
            "epoch 155, loss with penalty 1.245421290397644\n",
            "epoch 156, loss with penalty 1.2154673337936401\n",
            "epoch 157, loss with penalty 1.1870604753494263\n",
            "epoch 158, loss with penalty 1.1601749658584595\n",
            "epoch 159, loss with penalty 1.1348124742507935\n",
            "epoch 160, loss with penalty 1.110948920249939\n",
            "epoch 161, loss with penalty 1.088553547859192\n",
            "epoch 162, loss with penalty 1.067588448524475\n",
            "epoch 163, loss with penalty 1.0480245351791382\n",
            "epoch 164, loss with penalty 1.0297995805740356\n",
            "epoch 165, loss with penalty 1.0128743648529053\n",
            "epoch 166, loss with penalty 0.997183620929718\n",
            "epoch 167, loss with penalty 0.9826648831367493\n",
            "epoch 168, loss with penalty 0.9692589044570923\n",
            "epoch 169, loss with penalty 0.956894040107727\n",
            "epoch 170, loss with penalty 0.9454964399337769\n",
            "epoch 171, loss with penalty 0.934994101524353\n",
            "epoch 172, loss with penalty 0.925322949886322\n",
            "epoch 173, loss with penalty 0.9164026975631714\n",
            "epoch 174, loss with penalty 0.9081612825393677\n",
            "epoch 175, loss with penalty 0.9005319476127625\n",
            "epoch 176, loss with penalty 0.8934457302093506\n",
            "epoch 177, loss with penalty 0.8868377208709717\n",
            "epoch 178, loss with penalty 0.8806490302085876\n",
            "epoch 179, loss with penalty 0.8748219609260559\n",
            "epoch 180, loss with penalty 0.8693069815635681\n",
            "epoch 181, loss with penalty 0.8640538454055786\n",
            "epoch 182, loss with penalty 0.8590224981307983\n",
            "epoch 183, loss with penalty 0.8541754484176636\n",
            "epoch 184, loss with penalty 0.8494784832000732\n",
            "epoch 185, loss with penalty 0.844910204410553\n",
            "epoch 186, loss with penalty 0.8404421806335449\n",
            "epoch 187, loss with penalty 0.8360595107078552\n",
            "epoch 188, loss with penalty 0.8317519426345825\n",
            "epoch 189, loss with penalty 0.8275045156478882\n",
            "epoch 190, loss with penalty 0.8233100175857544\n",
            "epoch 191, loss with penalty 0.8191670775413513\n",
            "epoch 192, loss with penalty 0.8150720596313477\n",
            "epoch 193, loss with penalty 0.8110246658325195\n",
            "epoch 194, loss with penalty 0.8070266842842102\n",
            "epoch 195, loss with penalty 0.8030810952186584\n",
            "epoch 196, loss with penalty 0.7991893887519836\n",
            "epoch 197, loss with penalty 0.795353353023529\n",
            "epoch 198, loss with penalty 0.7915804982185364\n",
            "epoch 199, loss with penalty 0.7878710031509399\n",
            "epoch 200, loss with penalty 0.7842268347740173\n",
            "epoch 201, loss with penalty 0.7806535959243774\n",
            "epoch 202, loss with penalty 0.7771520614624023\n",
            "epoch 203, loss with penalty 0.7737218141555786\n",
            "epoch 204, loss with penalty 0.77036452293396\n",
            "epoch 205, loss with penalty 0.7670822739601135\n",
            "epoch 206, loss with penalty 0.7638729214668274\n",
            "epoch 207, loss with penalty 0.760735809803009\n",
            "epoch 208, loss with penalty 0.757669985294342\n",
            "epoch 209, loss with penalty 0.754673421382904\n",
            "epoch 210, loss with penalty 0.7517465353012085\n",
            "epoch 211, loss with penalty 0.7488806843757629\n",
            "epoch 212, loss with penalty 0.7460794448852539\n",
            "epoch 213, loss with penalty 0.7433392405509949\n",
            "epoch 214, loss with penalty 0.7406557202339172\n",
            "epoch 215, loss with penalty 0.7380303740501404\n",
            "epoch 216, loss with penalty 0.7354548573493958\n",
            "epoch 217, loss with penalty 0.732930064201355\n",
            "epoch 218, loss with penalty 0.7304534316062927\n",
            "epoch 219, loss with penalty 0.7280218601226807\n",
            "epoch 220, loss with penalty 0.7256329655647278\n",
            "epoch 221, loss with penalty 0.7232853770256042\n",
            "epoch 222, loss with penalty 0.7209778428077698\n",
            "epoch 223, loss with penalty 0.7187092304229736\n",
            "epoch 224, loss with penalty 0.7164762020111084\n",
            "epoch 225, loss with penalty 0.7142768502235413\n",
            "epoch 226, loss with penalty 0.7121111750602722\n",
            "epoch 227, loss with penalty 0.7099766731262207\n",
            "epoch 228, loss with penalty 0.7078753113746643\n",
            "epoch 229, loss with penalty 0.7058037519454956\n",
            "epoch 230, loss with penalty 0.7037606239318848\n",
            "epoch 231, loss with penalty 0.7017466425895691\n",
            "epoch 232, loss with penalty 0.6997585892677307\n",
            "epoch 233, loss with penalty 0.6977977752685547\n",
            "epoch 234, loss with penalty 0.695864737033844\n",
            "epoch 235, loss with penalty 0.6939558982849121\n",
            "epoch 236, loss with penalty 0.692072331905365\n",
            "epoch 237, loss with penalty 0.6902129650115967\n",
            "epoch 238, loss with penalty 0.6883761882781982\n",
            "epoch 239, loss with penalty 0.6865624785423279\n",
            "epoch 240, loss with penalty 0.6847712993621826\n",
            "epoch 241, loss with penalty 0.6830010414123535\n",
            "epoch 242, loss with penalty 0.6812528371810913\n",
            "epoch 243, loss with penalty 0.6795243620872498\n",
            "epoch 244, loss with penalty 0.6778160929679871\n",
            "epoch 245, loss with penalty 0.6761255264282227\n",
            "epoch 246, loss with penalty 0.6744552850723267\n",
            "epoch 247, loss with penalty 0.6728034615516663\n",
            "epoch 248, loss with penalty 0.6711682677268982\n",
            "epoch 249, loss with penalty 0.6695520877838135\n",
            "epoch 250, loss with penalty 0.6679520606994629\n",
            "epoch 251, loss with penalty 0.6663686037063599\n",
            "epoch 252, loss with penalty 0.664800763130188\n",
            "epoch 253, loss with penalty 0.6632490754127502\n",
            "epoch 254, loss with penalty 0.6617141366004944\n",
            "epoch 255, loss with penalty 0.6601917743682861\n",
            "epoch 256, loss with penalty 0.6586860418319702\n",
            "epoch 257, loss with penalty 0.6571953296661377\n",
            "epoch 258, loss with penalty 0.6557182669639587\n",
            "epoch 259, loss with penalty 0.6542554497718811\n",
            "epoch 260, loss with penalty 0.6528064608573914\n",
            "epoch 261, loss with penalty 0.6513710021972656\n",
            "epoch 262, loss with penalty 0.6499499082565308\n",
            "epoch 263, loss with penalty 0.6485421657562256\n",
            "epoch 264, loss with penalty 0.6471471786499023\n",
            "epoch 265, loss with penalty 0.6457658410072327\n",
            "epoch 266, loss with penalty 0.644396960735321\n",
            "epoch 267, loss with penalty 0.6430414915084839\n",
            "epoch 268, loss with penalty 0.641700029373169\n",
            "epoch 269, loss with penalty 0.6403694748878479\n",
            "epoch 270, loss with penalty 0.6390531063079834\n",
            "epoch 271, loss with penalty 0.6377487778663635\n",
            "epoch 272, loss with penalty 0.6364558935165405\n",
            "epoch 273, loss with penalty 0.6351762413978577\n",
            "epoch 274, loss with penalty 0.6339089274406433\n",
            "epoch 275, loss with penalty 0.6326538324356079\n",
            "epoch 276, loss with penalty 0.6314103603363037\n",
            "epoch 277, loss with penalty 0.6301788091659546\n",
            "epoch 278, loss with penalty 0.6289594173431396\n",
            "epoch 279, loss with penalty 0.6277519464492798\n",
            "epoch 280, loss with penalty 0.6265546083450317\n",
            "epoch 281, loss with penalty 0.6253693699836731\n",
            "epoch 282, loss with penalty 0.6241968870162964\n",
            "epoch 283, loss with penalty 0.6230347752571106\n",
            "epoch 284, loss with penalty 0.6218833923339844\n",
            "epoch 285, loss with penalty 0.6207445859909058\n",
            "epoch 286, loss with penalty 0.6196152567863464\n",
            "epoch 287, loss with penalty 0.6184954643249512\n",
            "epoch 288, loss with penalty 0.6173883080482483\n",
            "epoch 289, loss with penalty 0.6162905693054199\n",
            "epoch 290, loss with penalty 0.615204393863678\n",
            "epoch 291, loss with penalty 0.6141255497932434\n",
            "epoch 292, loss with penalty 0.6130589842796326\n",
            "epoch 293, loss with penalty 0.6120032668113708\n",
            "epoch 294, loss with penalty 0.6109568476676941\n",
            "epoch 295, loss with penalty 0.6099191904067993\n",
            "epoch 296, loss with penalty 0.608891487121582\n",
            "epoch 297, loss with penalty 0.6078736186027527\n",
            "epoch 298, loss with penalty 0.6068646907806396\n",
            "epoch 299, loss with penalty 0.6058658361434937\n",
            "epoch 300, loss with penalty 0.604874849319458\n",
            "epoch 301, loss with penalty 0.6038949489593506\n",
            "epoch 302, loss with penalty 0.6029229164123535\n",
            "epoch 303, loss with penalty 0.6019589900970459\n",
            "epoch 304, loss with penalty 0.6010031700134277\n",
            "epoch 305, loss with penalty 0.6000583171844482\n",
            "epoch 306, loss with penalty 0.5991209149360657\n",
            "epoch 307, loss with penalty 0.5981912016868591\n",
            "epoch 308, loss with penalty 0.597270131111145\n",
            "epoch 309, loss with penalty 0.5963576436042786\n",
            "epoch 310, loss with penalty 0.5954532027244568\n",
            "epoch 311, loss with penalty 0.5945563912391663\n",
            "epoch 312, loss with penalty 0.5936684012413025\n",
            "epoch 313, loss with penalty 0.592786967754364\n",
            "epoch 314, loss with penalty 0.5919143557548523\n",
            "epoch 315, loss with penalty 0.5910497903823853\n",
            "epoch 316, loss with penalty 0.5901913046836853\n",
            "epoch 317, loss with penalty 0.5893407464027405\n",
            "epoch 318, loss with penalty 0.5884983539581299\n",
            "epoch 319, loss with penalty 0.5876635313034058\n",
            "epoch 320, loss with penalty 0.5868353843688965\n",
            "epoch 321, loss with penalty 0.5860146284103394\n",
            "epoch 322, loss with penalty 0.5852009654045105\n",
            "epoch 323, loss with penalty 0.5843938589096069\n",
            "epoch 324, loss with penalty 0.5835955142974854\n",
            "epoch 325, loss with penalty 0.5828034281730652\n",
            "epoch 326, loss with penalty 0.5820173025131226\n",
            "epoch 327, loss with penalty 0.58123779296875\n",
            "epoch 328, loss with penalty 0.5804662704467773\n",
            "epoch 329, loss with penalty 0.5797020792961121\n",
            "epoch 330, loss with penalty 0.5789436101913452\n",
            "epoch 331, loss with penalty 0.5781928300857544\n",
            "epoch 332, loss with penalty 0.5774470567703247\n",
            "epoch 333, loss with penalty 0.576708197593689\n",
            "epoch 334, loss with penalty 0.5759759545326233\n",
            "epoch 335, loss with penalty 0.5752497911453247\n",
            "epoch 336, loss with penalty 0.574530303478241\n",
            "epoch 337, loss with penalty 0.573816180229187\n",
            "epoch 338, loss with penalty 0.5731096267700195\n",
            "epoch 339, loss with penalty 0.5724096894264221\n",
            "epoch 340, loss with penalty 0.5717151165008545\n",
            "epoch 341, loss with penalty 0.571026086807251\n",
            "epoch 342, loss with penalty 0.5703434348106384\n",
            "epoch 343, loss with penalty 0.569667637348175\n",
            "epoch 344, loss with penalty 0.5689963698387146\n",
            "epoch 345, loss with penalty 0.5683317184448242\n",
            "epoch 346, loss with penalty 0.5676738619804382\n",
            "epoch 347, loss with penalty 0.5670208930969238\n",
            "epoch 348, loss with penalty 0.5663726925849915\n",
            "epoch 349, loss with penalty 0.5657321810722351\n",
            "epoch 350, loss with penalty 0.5650957226753235\n",
            "epoch 351, loss with penalty 0.5644656419754028\n",
            "epoch 352, loss with penalty 0.5638399720191956\n",
            "epoch 353, loss with penalty 0.5632209181785583\n",
            "epoch 354, loss with penalty 0.5626083612442017\n",
            "epoch 355, loss with penalty 0.5619988441467285\n",
            "epoch 356, loss with penalty 0.5613954067230225\n",
            "epoch 357, loss with penalty 0.5607972741127014\n",
            "epoch 358, loss with penalty 0.5602052807807922\n",
            "epoch 359, loss with penalty 0.5596177577972412\n",
            "epoch 360, loss with penalty 0.5590356588363647\n",
            "epoch 361, loss with penalty 0.558458685874939\n",
            "epoch 362, loss with penalty 0.5578866004943848\n",
            "epoch 363, loss with penalty 0.5573198795318604\n",
            "epoch 364, loss with penalty 0.5567577481269836\n",
            "epoch 365, loss with penalty 0.5562007427215576\n",
            "epoch 366, loss with penalty 0.5556486248970032\n",
            "epoch 367, loss with penalty 0.5551019906997681\n",
            "epoch 368, loss with penalty 0.5545591711997986\n",
            "epoch 369, loss with penalty 0.5540223717689514\n",
            "epoch 370, loss with penalty 0.5534890294075012\n",
            "epoch 371, loss with penalty 0.5529615879058838\n",
            "epoch 372, loss with penalty 0.5524381995201111\n",
            "epoch 373, loss with penalty 0.5519191026687622\n",
            "epoch 374, loss with penalty 0.551405131816864\n",
            "epoch 375, loss with penalty 0.550895631313324\n",
            "epoch 376, loss with penalty 0.5503906011581421\n",
            "epoch 377, loss with penalty 0.5498907566070557\n",
            "epoch 378, loss with penalty 0.5493944883346558\n",
            "epoch 379, loss with penalty 0.548903226852417\n",
            "epoch 380, loss with penalty 0.5484163761138916\n",
            "epoch 381, loss with penalty 0.5479335188865662\n",
            "epoch 382, loss with penalty 0.547455370426178\n",
            "epoch 383, loss with penalty 0.5469809174537659\n",
            "epoch 384, loss with penalty 0.5465118885040283\n",
            "epoch 385, loss with penalty 0.5460466146469116\n",
            "epoch 386, loss with penalty 0.5455848574638367\n",
            "epoch 387, loss with penalty 0.5451273918151855\n",
            "epoch 388, loss with penalty 0.544674813747406\n",
            "epoch 389, loss with penalty 0.5442266464233398\n",
            "epoch 390, loss with penalty 0.5437816977500916\n",
            "epoch 391, loss with penalty 0.5433406233787537\n",
            "epoch 392, loss with penalty 0.5429037809371948\n",
            "epoch 393, loss with penalty 0.5424713492393494\n",
            "epoch 394, loss with penalty 0.5420434474945068\n",
            "epoch 395, loss with penalty 0.5416185259819031\n",
            "epoch 396, loss with penalty 0.5411974191665649\n",
            "epoch 397, loss with penalty 0.5407805442810059\n",
            "epoch 398, loss with penalty 0.5403669476509094\n",
            "epoch 399, loss with penalty 0.5399582386016846\n",
            "epoch 400, loss with penalty 0.5395523309707642\n",
            "epoch 401, loss with penalty 0.5391515493392944\n",
            "epoch 402, loss with penalty 0.5387534499168396\n",
            "epoch 403, loss with penalty 0.538358747959137\n",
            "epoch 404, loss with penalty 0.5379690527915955\n",
            "epoch 405, loss with penalty 0.5375815033912659\n",
            "epoch 406, loss with penalty 0.5371990203857422\n",
            "epoch 407, loss with penalty 0.5368190407752991\n",
            "epoch 408, loss with penalty 0.5364435911178589\n",
            "epoch 409, loss with penalty 0.5360713601112366\n",
            "epoch 410, loss with penalty 0.5357021689414978\n",
            "epoch 411, loss with penalty 0.5353372693061829\n",
            "epoch 412, loss with penalty 0.5349751710891724\n",
            "epoch 413, loss with penalty 0.5346165299415588\n",
            "epoch 414, loss with penalty 0.5342620611190796\n",
            "epoch 415, loss with penalty 0.533910870552063\n",
            "epoch 416, loss with penalty 0.5335623025894165\n",
            "epoch 417, loss with penalty 0.5332181453704834\n",
            "epoch 418, loss with penalty 0.5328770875930786\n",
            "epoch 419, loss with penalty 0.5325388312339783\n",
            "epoch 420, loss with penalty 0.5322040319442749\n",
            "epoch 421, loss with penalty 0.5318717360496521\n",
            "epoch 422, loss with penalty 0.5315443277359009\n",
            "epoch 423, loss with penalty 0.5312196016311646\n",
            "epoch 424, loss with penalty 0.5308970212936401\n",
            "epoch 425, loss with penalty 0.530579149723053\n",
            "epoch 426, loss with penalty 0.5302638411521912\n",
            "epoch 427, loss with penalty 0.5299511551856995\n",
            "epoch 428, loss with penalty 0.5296427011489868\n",
            "epoch 429, loss with penalty 0.5293369293212891\n",
            "epoch 430, loss with penalty 0.529033899307251\n",
            "epoch 431, loss with penalty 0.5287339687347412\n",
            "epoch 432, loss with penalty 0.5284369587898254\n",
            "epoch 433, loss with penalty 0.5281437039375305\n",
            "epoch 434, loss with penalty 0.5278526544570923\n",
            "epoch 435, loss with penalty 0.5275652408599854\n",
            "epoch 436, loss with penalty 0.5272801518440247\n",
            "epoch 437, loss with penalty 0.5269983410835266\n",
            "epoch 438, loss with penalty 0.5267195701599121\n",
            "epoch 439, loss with penalty 0.5264435410499573\n",
            "epoch 440, loss with penalty 0.5261706709861755\n",
            "epoch 441, loss with penalty 0.5259009003639221\n",
            "epoch 442, loss with penalty 0.5256332755088806\n",
            "epoch 443, loss with penalty 0.5253691673278809\n",
            "epoch 444, loss with penalty 0.5251070261001587\n",
            "epoch 445, loss with penalty 0.5248488187789917\n",
            "epoch 446, loss with penalty 0.524592399597168\n",
            "epoch 447, loss with penalty 0.524338960647583\n",
            "epoch 448, loss with penalty 0.5240885615348816\n",
            "epoch 449, loss with penalty 0.5238413214683533\n",
            "epoch 450, loss with penalty 0.5235952138900757\n",
            "epoch 451, loss with penalty 0.5233541131019592\n",
            "epoch 452, loss with penalty 0.5231136083602905\n",
            "epoch 453, loss with penalty 0.5228768587112427\n",
            "epoch 454, loss with penalty 0.5226419568061829\n",
            "epoch 455, loss with penalty 0.52241051197052\n",
            "epoch 456, loss with penalty 0.5221806764602661\n",
            "epoch 457, loss with penalty 0.5219545960426331\n",
            "epoch 458, loss with penalty 0.5217306613922119\n",
            "epoch 459, loss with penalty 0.52150958776474\n",
            "epoch 460, loss with penalty 0.5212900042533875\n",
            "epoch 461, loss with penalty 0.5210738778114319\n",
            "epoch 462, loss with penalty 0.5208600759506226\n",
            "epoch 463, loss with penalty 0.5206491947174072\n",
            "epoch 464, loss with penalty 0.5204400420188904\n",
            "epoch 465, loss with penalty 0.5202337503433228\n",
            "epoch 466, loss with penalty 0.5200300812721252\n",
            "epoch 467, loss with penalty 0.5198284387588501\n",
            "epoch 468, loss with penalty 0.5196294784545898\n",
            "epoch 469, loss with penalty 0.5194334983825684\n",
            "epoch 470, loss with penalty 0.5192392468452454\n",
            "epoch 471, loss with penalty 0.5190470218658447\n",
            "epoch 472, loss with penalty 0.5188568234443665\n",
            "epoch 473, loss with penalty 0.518670380115509\n",
            "epoch 474, loss with penalty 0.5184853076934814\n",
            "epoch 475, loss with penalty 0.5183038115501404\n",
            "epoch 476, loss with penalty 0.5181230902671814\n",
            "epoch 477, loss with penalty 0.5179456472396851\n",
            "epoch 478, loss with penalty 0.5177696943283081\n",
            "epoch 479, loss with penalty 0.5175965428352356\n",
            "epoch 480, loss with penalty 0.5174260139465332\n",
            "epoch 481, loss with penalty 0.5172571539878845\n",
            "epoch 482, loss with penalty 0.517090380191803\n",
            "epoch 483, loss with penalty 0.5169260501861572\n",
            "epoch 484, loss with penalty 0.5167643427848816\n",
            "epoch 485, loss with penalty 0.5166045427322388\n",
            "epoch 486, loss with penalty 0.5164466500282288\n",
            "epoch 487, loss with penalty 0.5162909626960754\n",
            "epoch 488, loss with penalty 0.5161377191543579\n",
            "epoch 489, loss with penalty 0.5159865021705627\n",
            "epoch 490, loss with penalty 0.5158377289772034\n",
            "epoch 491, loss with penalty 0.515690803527832\n",
            "epoch 492, loss with penalty 0.5155457854270935\n",
            "epoch 493, loss with penalty 0.5154034495353699\n",
            "epoch 494, loss with penalty 0.5152630805969238\n",
            "epoch 495, loss with penalty 0.5151237845420837\n",
            "epoch 496, loss with penalty 0.5149876475334167\n",
            "epoch 497, loss with penalty 0.5148531198501587\n",
            "epoch 498, loss with penalty 0.5147209167480469\n",
            "epoch 499, loss with penalty 0.5145906805992126\n",
            "epoch 500, loss with penalty 0.5144619345664978\n",
            "epoch 501, loss with penalty 0.5143358111381531\n",
            "epoch 502, loss with penalty 0.5142109990119934\n",
            "epoch 503, loss with penalty 0.5140886306762695\n",
            "epoch 504, loss with penalty 0.5139690637588501\n",
            "epoch 505, loss with penalty 0.5138500928878784\n",
            "epoch 506, loss with penalty 0.5137330293655396\n",
            "epoch 507, loss with penalty 0.513619065284729\n",
            "epoch 508, loss with penalty 0.5135059952735901\n",
            "epoch 509, loss with penalty 0.5133951306343079\n",
            "epoch 510, loss with penalty 0.5132868885993958\n",
            "epoch 511, loss with penalty 0.5131799578666687\n",
            "epoch 512, loss with penalty 0.513075053691864\n",
            "epoch 513, loss with penalty 0.512972354888916\n",
            "epoch 514, loss with penalty 0.5128705501556396\n",
            "epoch 515, loss with penalty 0.5127713680267334\n",
            "epoch 516, loss with penalty 0.5126727223396301\n",
            "epoch 517, loss with penalty 0.5125777721405029\n",
            "epoch 518, loss with penalty 0.5124838352203369\n",
            "epoch 519, loss with penalty 0.5123918056488037\n",
            "epoch 520, loss with penalty 0.5123021602630615\n",
            "epoch 521, loss with penalty 0.5122130513191223\n",
            "epoch 522, loss with penalty 0.5121262073516846\n",
            "epoch 523, loss with penalty 0.5120413303375244\n",
            "epoch 524, loss with penalty 0.5119579434394836\n",
            "epoch 525, loss with penalty 0.51187664270401\n",
            "epoch 526, loss with penalty 0.5117979049682617\n",
            "epoch 527, loss with penalty 0.5117196440696716\n",
            "epoch 528, loss with penalty 0.5116425156593323\n",
            "epoch 529, loss with penalty 0.5115686655044556\n",
            "epoch 530, loss with penalty 0.5114957094192505\n",
            "epoch 531, loss with penalty 0.5114250779151917\n",
            "epoch 532, loss with penalty 0.5113559365272522\n",
            "epoch 533, loss with penalty 0.5112873315811157\n",
            "epoch 534, loss with penalty 0.5112218260765076\n",
            "epoch 535, loss with penalty 0.5111572742462158\n",
            "epoch 536, loss with penalty 0.5110951066017151\n",
            "epoch 537, loss with penalty 0.5110334753990173\n",
            "epoch 538, loss with penalty 0.5109748244285583\n",
            "epoch 539, loss with penalty 0.5109169483184814\n",
            "epoch 540, loss with penalty 0.5108605027198792\n",
            "epoch 541, loss with penalty 0.5108062028884888\n",
            "epoch 542, loss with penalty 0.5107536911964417\n",
            "epoch 543, loss with penalty 0.5107020139694214\n",
            "epoch 544, loss with penalty 0.5106525421142578\n",
            "epoch 545, loss with penalty 0.5106043219566345\n",
            "epoch 546, loss with penalty 0.5105575323104858\n",
            "epoch 547, loss with penalty 0.5105127692222595\n",
            "epoch 548, loss with penalty 0.5104698538780212\n",
            "epoch 549, loss with penalty 0.5104281306266785\n",
            "epoch 550, loss with penalty 0.5103873610496521\n",
            "epoch 551, loss with penalty 0.5103490948677063\n",
            "epoch 552, loss with penalty 0.5103110671043396\n",
            "epoch 553, loss with penalty 0.5102757215499878\n",
            "epoch 554, loss with penalty 0.5102417469024658\n",
            "epoch 555, loss with penalty 0.5102090239524841\n",
            "epoch 556, loss with penalty 0.5101774334907532\n",
            "epoch 557, loss with penalty 0.510147750377655\n",
            "epoch 558, loss with penalty 0.5101202130317688\n",
            "epoch 559, loss with penalty 0.5100935697555542\n",
            "epoch 560, loss with penalty 0.5100677609443665\n",
            "epoch 561, loss with penalty 0.5100444555282593\n",
            "epoch 562, loss with penalty 0.5100219249725342\n",
            "epoch 563, loss with penalty 0.5100007057189941\n",
            "epoch 564, loss with penalty 0.5099819302558899\n",
            "epoch 565, loss with penalty 0.5099639296531677\n",
            "epoch 566, loss with penalty 0.5099475383758545\n",
            "epoch 567, loss with penalty 0.5099318623542786\n",
            "epoch 568, loss with penalty 0.5099179744720459\n",
            "epoch 569, loss with penalty 0.5099056363105774\n",
            "epoch 570, loss with penalty 0.5098952651023865\n",
            "epoch 571, loss with penalty 0.5098856687545776\n",
            "epoch 572, loss with penalty 0.5098775029182434\n",
            "epoch 573, loss with penalty 0.5098708271980286\n",
            "epoch 574, loss with penalty 0.509864866733551\n",
            "epoch 575, loss with penalty 0.5098615288734436\n",
            "Before normalization: \n",
            "tensor([[ 0.0123, -0.2762,  0.6701, -0.1410, -0.0009, -0.2866, -0.1518, -0.2095,\n",
            "          0.1767, -0.0410, -0.0055,  0.0107, -0.0911, -0.0334,  0.0804,  0.2212,\n",
            "          0.1944, -0.2356,  0.1342,  0.0127]])\n",
            "tensor([-0.0616])\n",
            "After normalization: \n",
            "tensor([[ 0.0123, -0.2764,  0.6707, -0.1411, -0.0009, -0.2868, -0.1519, -0.2097,\n",
            "          0.1768, -0.0410, -0.0055,  0.0107, -0.0911, -0.0334,  0.0805,  0.2214,\n",
            "          0.1945, -0.2358,  0.1343,  0.0127]])\n",
            "tensor([-0.0616])\n",
            "c value = tensor([1.0008], grad_fn=<MulBackward0>)\n",
            "LOSS VALUE WITH LAMBDA PENALTY = tensor([0.5104], grad_fn=<AddBackward0>)\n",
            "LOSS VALUE  = tensor([0.5104], grad_fn=<MulBackward0>)\n"
          ]
        }
      ],
      "source": [
        "graph_val_pen = model.train_network_with_penalty(num_epochs, given_fn, adam_optimizer, LAMBDA_PEN, LOWER_BOUND, UPPER_BOUND, N_POINTS)"
      ]
    },
    {
      "cell_type": "code",
      "execution_count": null,
      "metadata": {
        "id": "WZbaJ3MsB08r"
      },
      "outputs": [],
      "source": [
        "graph_val = model_2.train_network(num_epochs, given_fn, adam_optimizer_2, LOWER_BOUND, UPPER_BOUND, N_POINTS)"
      ]
    },
    {
      "cell_type": "code",
      "source": [
        "### Model result using epsilon loss function with penalty\n",
        "print(\"Penalty lambda value = \" + str(LAMBDA_PEN))\n",
        "print(\"Interval is [{lb}, {ub}], with N_POINTS = {np}\".format(lb=LOWER_BOUND, \n",
        "                                                              ub=UPPER_BOUND,\n",
        "                                                              np=N_POINTS))\n",
        "print(\"\\n\")\n",
        "\n",
        "# Plot 1: The epsilon_loss with lambda penalty:\n",
        "print(\"Plot 1: The epsilon_loss_with_penalty along the training epochs:\")\n",
        "x_epochs = graph_val_pen[0]\n",
        "plot_figure(x_epochs, graph_val_pen[1])\n",
        "\n",
        "print(\"\\n\")\n",
        "# Plot 2: The epsilon_loss value when using train with penalty:\n",
        "print(\"Plot 2: The epsilon_loss value along the training epochs:\")\n",
        "\n",
        "plot_figure(x_epochs, graph_val_pen[2])\n",
        "print(\"\\n\")\n",
        "\n",
        "# plot_figure(x_values, model_output)\n",
        "# Plot 3: the model's output with input from the interval [LOWER_BOUND, UPPER_BOUND]:\n",
        "print(\"Plot 3: the model's output with input from the interval: \")\n",
        "x_vals = [torch.tensor([i], requires_grad=True, dtype=torch.float) for i in x_train]\n",
        "\n",
        "model_output = []\n",
        "for i in x_vals:\n",
        "    model_output.append(model(i).detach().numpy().item())\n",
        "\n",
        "plot_figure(x_values, model_output)"
      ],
      "metadata": {
        "id": "Hl5KH2lsp642",
        "outputId": "5f770019-399e-49e0-f803-c062fd26252d",
        "colab": {
          "base_uri": "https://localhost:8080/",
          "height": 1000
        }
      },
      "execution_count": 33,
      "outputs": [
        {
          "output_type": "stream",
          "name": "stdout",
          "text": [
            "Penalty lambda value = 100\n",
            "Interval is [-6, 6], with N_POINTS = 1001\n",
            "\n",
            "\n",
            "Plot 1: The epsilon_loss_with_penalty along the training epochs:\n"
          ]
        },
        {
          "output_type": "display_data",
          "data": {
            "text/plain": [
              "<Figure size 432x288 with 0 Axes>"
            ]
          },
          "metadata": {}
        },
        {
          "output_type": "display_data",
          "data": {
            "text/plain": [
              "<Figure size 640x480 with 1 Axes>"
            ],
            "image/png": "[encoded data removed]"
          },
          "metadata": {
            "needs_background": "light"
          }
        },
        {
          "output_type": "stream",
          "name": "stdout",
          "text": [
            "\n",
            "\n",
            "Plot 2: The epsilon_loss value along the training epochs:\n"
          ]
        },
        {
          "output_type": "display_data",
          "data": {
            "text/plain": [
              "<Figure size 432x288 with 0 Axes>"
            ]
          },
          "metadata": {}
        },
        {
          "output_type": "display_data",
          "data": {
            "text/plain": [
              "<Figure size 640x480 with 1 Axes>"
            ],
            "image/png": "[encoded data removed]"
          },
          "metadata": {
            "needs_background": "light"
          }
        },
        {
          "output_type": "stream",
          "name": "stdout",
          "text": [
            "\n",
            "\n",
            "Plot 3: the model's output with input from the interval: \n"
          ]
        },
        {
          "output_type": "stream",
          "name": "stderr",
          "text": [
            "/usr/local/lib/python3.7/dist-packages/ipykernel_launcher.py:23: UserWarning: Creating a tensor from a list of numpy.ndarrays is extremely slow. Please consider converting the list to a single numpy.ndarray with numpy.array() before converting to a tensor. (Triggered internally at  ../torch/csrc/utils/tensor_new.cpp:201.)\n"
          ]
        },
        {
          "output_type": "display_data",
          "data": {
            "text/plain": [
              "<Figure size 432x288 with 0 Axes>"
            ]
          },
          "metadata": {}
        },
        {
          "output_type": "display_data",
          "data": {
            "text/plain": [
              "<Figure size 640x480 with 1 Axes>"
            ],
            "image/png": "[encoded data removed]"
          },
          "metadata": {
            "needs_background": "light"
          }
        }
      ]
    },
    {
      "cell_type": "code",
      "source": [
        "epsilon_Loss(given_fn, model, -6, 6, 1001)"
      ],
      "metadata": {
        "colab": {
          "base_uri": "https://localhost:8080/"
        },
        "id": "RNuH20ZXPS-4",
        "outputId": "68267824-4d7b-4772-acb2-7fbadeb8ed73"
      },
      "execution_count": null,
      "outputs": [
        {
          "output_type": "execute_result",
          "data": {
            "text/plain": [
              "tensor([0.5059], grad_fn=<MulBackward0>)"
            ]
          },
          "metadata": {},
          "execution_count": 40
        }
      ]
    },
    {
      "cell_type": "code",
      "execution_count": null,
      "metadata": {
        "colab": {
          "base_uri": "https://localhost:8080/",
          "height": 430
        },
        "id": "jd2I0gRqHO8Z",
        "outputId": "28b2760d-4f17-40ca-e5f7-39f4cf98251d"
      },
      "outputs": [
        {
          "output_type": "display_data",
          "data": {
            "text/plain": [
              "<Figure size 432x288 with 0 Axes>"
            ]
          },
          "metadata": {}
        },
        {
          "output_type": "display_data",
          "data": {
            "text/plain": [
              "<Figure size 640x480 with 1 Axes>"
            ],
            "image/png": "[encoded data removed]"
          },
          "metadata": {
            "needs_background": "light"
          }
        }
      ],
      "source": [
        "diff = [None for i in range(len(graph_val_pen[2]))]\n",
        "for i in range(len(graph_val_pen[2])):\n",
        "    diff[i] = abs(graph_val_pen[2][i]-graph_val_pen[1][i])\n",
        "\n",
        "plot_figure(x_epochs[400:], diff[400:])"
      ]
    },
    {
      "cell_type": "code",
      "execution_count": null,
      "metadata": {
        "colab": {
          "base_uri": "https://localhost:8080/",
          "height": 430
        },
        "id": "yOAl63W0qaq_",
        "outputId": "0966c5cc-146b-4f15-d330-522a5eafc1e6"
      },
      "outputs": [
        {
          "data": {
            "text/plain": [
              "<Figure size 432x288 with 0 Axes>"
            ]
          },
          "metadata": {},
          "output_type": "display_data"
        },
        {
          "data": {
            "image/png": "[encoded data removed]",
            "text/plain": [
              "<Figure size 640x480 with 1 Axes>"
            ]
          },
          "metadata": {
            "needs_background": "light"
          },
          "output_type": "display_data"
        }
      ],
      "source": [
        "plot_figure(x_train, y_train)"
      ]
    },
    {
      "cell_type": "code",
      "execution_count": null,
      "metadata": {
        "id": "el6VL83Qddfj"
      },
      "outputs": [],
      "source": [
        ""
      ]
    },
    {
      "cell_type": "markdown",
      "metadata": {
        "id": "VPn9pDNlm88W"
      },
      "source": [
        "# HOW TO TRAIN THE NN MODEL:\n",
        "1. Reset adam_optimizer: \n",
        "```adam_opt.zero_grad()```\n",
        "2. Calculate loss\n",
        "3. Update the optimizer: \n",
        "```adam_opt.step()```\n",
        "\n",
        "\n",
        "        weight = weight - lr * gradient\n",
        "\n",
        "-> use lr and gradient to \"improve\" weight layer. \n",
        "\n",
        "Explanation:\n",
        "```adam_opt.step()```: Update the model's parameters \n"
      ]
    },
    {
      "cell_type": "code",
      "execution_count": null,
      "metadata": {
        "id": "0VfCCteSFrC8"
      },
      "outputs": [],
      "source": [
        "model_p = Nonlinear_2(4)\n",
        "adam_opt = torch.optim.Adam(model_p.parameters(), \n",
        "                                    lr=learningRate, \n",
        "                                    betas=(0.9, 0.999), \n",
        "                                    eps=1e-08, \n",
        "                                    weight_decay=0, \n",
        "                                    amsgrad=False)"
      ]
    },
    {
      "cell_type": "code",
      "execution_count": null,
      "metadata": {
        "colab": {
          "base_uri": "https://localhost:8080/"
        },
        "id": "MUjHqCmkNRzB",
        "outputId": "a8eba8cf-5f24-45cf-f588-85f437d798fc"
      },
      "outputs": [
        {
          "name": "stdout",
          "output_type": "stream",
          "text": [
            "tensor([-0.5799], grad_fn=<AddBackward0>)\n"
          ]
        }
      ],
      "source": [
        "x_i = torch.tensor([-2.5], requires_grad=True, dtype=torch.float)\n",
        "u_xi = model_p(x_i)\n",
        "print(u_xi)\n",
        "u_xi.backward()\n",
        "u_prime = x_i.grad"
      ]
    },
    {
      "cell_type": "markdown",
      "metadata": {
        "id": "ZyuNXuz-iLBZ"
      },
      "source": [
        "https://neptune.ai/blog/pytorch-loss-functions\n",
        "https://stackoverflow.com/questions/53980031/pytorch-custom-loss-function\n",
        "https://stackoverflow.com/questions/65947284/loss-with-custom-backward-function-in-pytorch-exploding-loss-in-simple-mse-exa\n",
        "https://www.youtube.com/watch?v=ma2KXWblllc"
      ]
    },
    {
      "cell_type": "code",
      "execution_count": null,
      "metadata": {
        "id": "M0PS0efCiJCp"
      },
      "outputs": [],
      "source": [
        ""
      ]
    }
  ],
  "metadata": {
    "colab": {
      "name": "PyTorch_.ipynb",
      "provenance": []
    },
    "kernelspec": {
      "display_name": "Python 3",
      "language": "python",
      "name": "python3"
    },
    "language_info": {
      "codemirror_mode": {
        "name": "ipython",
        "version": 3
      },
      "file_extension": ".py",
      "mimetype": "text/x-python",
      "name": "python",
      "nbconvert_exporter": "python",
      "pygments_lexer": "ipython3",
      "version": "3.7.7"
    },
    "vscode": {
      "interpreter": {
        "hash": "8c21580189d9a9d7f1e3fef63ff70de58083dda94aa35d8ed937f03fa405217e"
      }
    }
  },
  "nbformat": 4,
  "nbformat_minor": 0
}