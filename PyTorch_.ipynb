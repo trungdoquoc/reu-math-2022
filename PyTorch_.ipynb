{
  "cells": [
    {
      "cell_type": "markdown",
      "metadata": {
        "id": "MpofWgGancyb"
      },
      "source": [
        "The input of the NN is 1D. "
      ]
    },
    {
      "cell_type": "code",
      "execution_count": 2,
      "metadata": {
        "id": "e-NAhHF3ncye"
      },
      "outputs": [],
      "source": [
        "import numpy as np\n",
        "import copy\n",
        "import torch\n",
        "import torch.nn as nn\n",
        "import math\n",
        "from torch.autograd import Variable\n",
        "from torch.nn.functional import normalize\n",
        "from sklearn.model_selection import train_test_split\n",
        "from torch.nn.functional import normalize\n",
        "import matplotlib.pyplot as plt\n",
        "\n",
        "INPUT_SIZE = 1\n",
        "OUTPUT_SIZE = 1\n",
        "\n",
        "LAMBDA_PEN = 100\n",
        "LOWER_BOUND = -6\n",
        "UPPER_BOUND = 6\n",
        "N_POINTS = 1001\n",
        "\n",
        "\n",
        "def quad_fn(a, b, c, x):\n",
        "    return a*x**2 + b*x + c\n",
        "\n",
        "def x_square(x: torch.tensor) -> torch.Tensor:\n",
        "    return x**2\n",
        "\n",
        "# DEFINE GIVEN FUNCTION V(x): ax^2 + bx + c\n",
        "given_fn = x_square"
      ]
    },
    {
      "cell_type": "code",
      "execution_count": 3,
      "metadata": {
        "colab": {
          "base_uri": "https://localhost:8080/"
        },
        "id": "EstQ_ILqQeOt",
        "outputId": "b3b8f870-8936-4eed-ac0c-829e3d4a1c5e"
      },
      "outputs": [
        {
          "output_type": "stream",
          "name": "stdout",
          "text": [
            "(1001, 1) (1001, 1)\n"
          ]
        }
      ],
      "source": [
        "# CREATING DATASET:\n",
        "x_values = [i for i in np.linspace(LOWER_BOUND, UPPER_BOUND, N_POINTS)]\n",
        "y_values = [given_fn(i) for i in x_values]\n",
        "\n",
        "x_train = np.array(x_values, dtype=np.float32).reshape(-1, 1)\n",
        "y_train = np.array(y_values, dtype=np.float32).reshape(-1, 1)\n",
        "\n",
        "print(x_train.shape, y_train.shape)"
      ]
    },
    {
      "cell_type": "code",
      "execution_count": 4,
      "metadata": {
        "id": "SOtFslmCncyg"
      },
      "outputs": [],
      "source": [
        "# CUSTOM LOSS FUNCTION:\n",
        "# def EpsilonLoss(nn.Module):\n",
        "\n",
        "def epsilon_Loss(v_x, model_u, lower_bound, upper_bound, n_points):\n",
        "    \"\"\"\n",
        "    GOAL: Epsilon function evaluated at u using discretized estimation\n",
        "    minimizing Epsilon(u) = \n",
        "    \n",
        "    ARGS: \n",
        "    n_points (int): number of discretized points on the interval [-L, L]\n",
        "    e.g.: -(L)|---|---|---|---|(L) interval has n_points = 5\n",
        "\n",
        "    v_x (torch.Tensor): function instance\n",
        "    model_u (torch.Tensor): model output\n",
        "    \"\"\"\n",
        "    sum = 0\n",
        "    discrete_points = np.linspace(lower_bound, upper_bound, n_points)\n",
        "    h = discrete_points[1] - discrete_points[0]\n",
        "    for i in discrete_points:\n",
        "        x_i = torch.tensor([i], requires_grad=True, dtype=torch.float)\n",
        "        u_xi = model_u(x_i)\n",
        "\n",
        "        u_prime = model_u.u_prime_2(x_i)\n",
        "        \n",
        "        v_xi = v_x(x_i)\n",
        "        t = torch.square(u_prime) + v_xi*(u_xi**2)\n",
        "        sum += t\n",
        "    return 0.5*h*sum\n",
        "\n",
        "def epsilon_Loss_penalty(v_x, model_u, lambda_pen,\n",
        "                         lower_bound, upper_bound, n_points):\n",
        "    \"\"\"\n",
        "    \n",
        "    \"\"\"\n",
        "    sum = 0\n",
        "    pen = 0\n",
        "\n",
        "    discrete_points = np.linspace(lower_bound, upper_bound, n_points)\n",
        "    h = discrete_points[1] - discrete_points[0]\n",
        "    for i in discrete_points:\n",
        "        x_i = torch.tensor([i], requires_grad=True, dtype=torch.float)\n",
        "        u_xi = model_u(x_i)\n",
        "\n",
        "        u_prime = model_u.u_prime_2(x_i)\n",
        "        \n",
        "        v_xi = v_x(x_i)\n",
        "        t = torch.square(u_prime) + v_xi*(u_xi**2)\n",
        "        sum += t\n",
        "    epsilon_fn = 0.5*h*sum\n",
        "    \n",
        "    temp = 0\n",
        "    for i in discrete_points:\n",
        "        x_i = torch.tensor([i], requires_grad=True, dtype=torch.float)\n",
        "        temp += torch.square(model_u(x_i))\n",
        "    \n",
        "    pen = lambda_pen * torch.square((temp*h-1))\n",
        "    return epsilon_fn + pen \n",
        "\n",
        "# NORMALIZE MODEL u(x) OUTPUT:\n",
        "def normalize_u(model_u, lower_bound, upper_bound, n_points):\n",
        "    \"\"\"\n",
        "    Normalize model.output weight by: \n",
        "    model.output *= c\n",
        "    where,\n",
        "    scalar c = 1/denom\n",
        "    \"\"\"\n",
        "    discrete_points = np.linspace(lower_bound, upper_bound, n_points)\n",
        "    h = discrete_points[1] - discrete_points[0]\n",
        "    s = 0\n",
        "    for i in discrete_points:\n",
        "        x_i = torch.tensor([i], requires_grad=True, dtype=torch.float)\n",
        "        s += model_u(x_i)**2\n",
        "    denom = math.sqrt(h) * torch.sqrt(s)\n",
        "    return 1/denom"
      ]
    },
    {
      "cell_type": "code",
      "execution_count": null,
      "metadata": {
        "colab": {
          "base_uri": "https://localhost:8080/"
        },
        "id": "cXgpE3Jpbr2S",
        "outputId": "52dead7e-48c6-4e7d-c790-11102347771f"
      },
      "outputs": [
        {
          "data": {
            "text/plain": [
              "10.0"
            ]
          },
          "execution_count": 47,
          "metadata": {},
          "output_type": "execute_result"
        }
      ],
      "source": [
        ""
      ]
    },
    {
      "cell_type": "code",
      "execution_count": 5,
      "metadata": {
        "id": "06QWhlkpQ5Eh"
      },
      "outputs": [],
      "source": [
        "# CREATING MODEL CLASS\n",
        "class Nonlinear(nn.Module):\n",
        "    def __init__(self, n):\n",
        "        # One hidden layer with n nodes\n",
        "        super().__init__()\n",
        "        self.hidden = nn.Linear(1, n)\n",
        "        self.output = nn.Linear(n, 1)\n",
        "        \n",
        "        self.sigmoid = nn.Sigmoid()\n",
        "        self.tanh = nn.Tanh()\n",
        "        self.target_fn = given_fn\n",
        "\n",
        "    def forward(self, x, use_tanh_fn = False, activation_on_output = False):\n",
        "        if use_tanh_fn == True:\n",
        "            x = self.hidden(x)\n",
        "            x = self.tanh(x)\n",
        "            x = self.output(x)\n",
        "            \n",
        "        else:\n",
        "            x = self.hidden(x)\n",
        "            x = self.sigmoid(x)\n",
        "            x = self.output(x)\n",
        "            \n",
        "        if activation_on_output == False:\n",
        "            return x\n",
        "        else:\n",
        "            if use_tanh_fn == True:\n",
        "                return self.tanh(x)\n",
        "            else:       \n",
        "                return self.sigmoid(x)\n",
        "        # output is a linear combination of the hidden layers because \n",
        "        # we perform regression ???\n",
        "        return x\n",
        "\n",
        "    def u_prime_2(self, input):\n",
        "        i_tensor = torch.tensor([input.item()], requires_grad=True, dtype=torch.float)\n",
        "        clone_model = copy.deepcopy(self)\n",
        "        res = clone_model(i_tensor)\n",
        "        res.backward()\n",
        "        del clone_model\n",
        "        \n",
        "        return i_tensor.grad\n",
        "\n",
        "    def u_prime(self, input):\n",
        "        \"\"\"\n",
        "        NN with 1 hidden node layer is of the form:\n",
        "        u(x) = SUM_i_to_N(a_i * sigmoid(w.x + b))\n",
        "\n",
        "        where\n",
        "        a_i is the corresponding weight of self.output layerq\n",
        "        w is self.hidden.weight vector\n",
        "        b is self.hidden.bias vector\n",
        "        sigmoid(w.x + b) is the sigmoid-activated hidden vector\n",
        "\n",
        "        Formula of u'(x) (for 1 hidden layer NN):\n",
        "        u'(x) = SUM_i_to_N(w_i*a_i*sigmoid'(w_i*x+b))\n",
        "        Note: sigmoid'(w_i*x +b) = sigmoid(w_i*x+b)*(1-sigmoid(w_i*x+b))\n",
        "        \"\"\"\n",
        "        a_i = self.output.weight.data\n",
        "        w_i = torch.transpose(self.hidden.weight.data, 0, 1)\n",
        "        wi_ai = w_i * a_i\n",
        "\n",
        "        hid_layer = self.hidden(input)\n",
        "        hid_layer_T = torch.reshape(hid_layer, (list(hid_layer.shape)[0], 1))\n",
        "        m = hid_layer_T * (1-hid_layer_T)\n",
        "\n",
        "        return wi_ai @ m\n",
        "    \n",
        "# TRANING MODEL\n",
        "    def train_network_with_penalty(self, num_epochs, v_x, optimizer, lambda_pen,\n",
        "                                    lower_bound, upper_bound, n_points):\n",
        "        # For plotting loss value over epochs:\n",
        "        x_epochs = []\n",
        "        y_loss = []\n",
        "        y_loss_pen = []\n",
        "\n",
        "        # stopping criterion:\n",
        "        stop_counter = 0\n",
        "\n",
        "        for epoch in range(num_epochs):\n",
        "            optimizer.zero_grad()\n",
        "            loss_pen = epsilon_Loss_penalty(v_x, self, lambda_pen,\n",
        "                                        lower_bound, upper_bound, n_points)\n",
        "            loss = epsilon_Loss(v_x, self,\n",
        "                                lower_bound, upper_bound, n_points)\n",
        "            y_loss_pen.append(loss_pen)\n",
        "            y_loss.append(loss)\n",
        "            x_epochs.append(epoch)\n",
        "            #check if need to stop training:\n",
        "            if epoch > 0 and stop_counter >= 5:\n",
        "                c = normalize_u(self, lower_bound, upper_bound, n_points)\n",
        "                self.output.weight.data.copy_(c.item() * self.output.weight.data)\n",
        "                self.output.bias.data.copy_(c.item() * self.output.bias.data)\n",
        "                print(\"c value = \" + str(c))\n",
        "                print(\"LOSS VALUE = \" \n",
        "                      + str(epsilon_Loss(v_x, self, lower_bound, upper_bound, n_points)))\n",
        "                break\n",
        "            elif epoch > 0 and stop_counter < 5:\n",
        "                if torch.abs(y_loss[epoch-1]-loss) <= 1e-5:\n",
        "                    stop_counter += 1\n",
        "                else:\n",
        "                    stop_counter = 0\n",
        "\n",
        "            print('epoch {}, loss {}'.format(epoch, loss.item()))\n",
        "            loss.backward()\n",
        "            # Calculate the derivative(loss) w.r.t the model's parameters\n",
        "            optimizer.step()\n",
        "\n",
        "        return (x_epochs, y_loss_pen, y_loss)\n",
        "\n",
        "    def train_network(self, num_epochs, v_x, optimizer,\n",
        "                                    lower_bound, upper_bound, n_points):\n",
        "        # For plotting loss value over epochs:\n",
        "        x_epochs = []\n",
        "        y_loss = []\n",
        "        \n",
        "        # stopping criterion:\n",
        "        stop_counter = 0\n",
        "\n",
        "        for epoch in range(num_epochs):\n",
        "\n",
        "            if epoch > 0 and epoch % 50 == 0:\n",
        "                c = normalize_u(self, lower_bound, upper_bound, n_points)\n",
        "                print(\"Pre normalize: \")\n",
        "                print(self.output.weight.data)\n",
        "                print(self.output.bias.data)\n",
        "                print(\"After normalize: \")\n",
        "                self.output.weight.data.copy_(c.item() * self.output.weight.data)\n",
        "                self.output.bias.data.copy_(c.item() * self.output.bias.data)\n",
        "                print(self.output.weight.data)\n",
        "                print(self.output.bias.data)\n",
        "                print(\"c value = \" + str(c))\n",
        "            optimizer.zero_grad()\n",
        "            loss = epsilon_Loss(v_x, self,\n",
        "                                lower_bound, upper_bound, n_points)\n",
        "            y_loss.append(loss)\n",
        "            x_epochs.append(epoch)\n",
        "            #check if need to stop training:\n",
        "            if epoch > 0 and stop_counter >= 5:\n",
        "                print(\"LOSS VALUE = \" \n",
        "                      + str(epsilon_Loss(v_x, self, lower_bound, upper_bound, n_points)))\n",
        "                break\n",
        "            elif epoch > 0 and stop_counter < 5:\n",
        "                if torch.abs(y_loss[epoch-1]-loss) <= 1e-5:\n",
        "                    stop_counter += 1\n",
        "                else:\n",
        "                    stop_counter = 0\n",
        "\n",
        "            print('epoch {}, loss {}'.format(epoch, loss.item()))\n",
        "            loss.backward()\n",
        "            optimizer.step()\n",
        "\n",
        "        return (x_epochs, y_loss)\n",
        "        "
      ]
    },
    {
      "cell_type": "code",
      "source": [
        ""
      ],
      "metadata": {
        "id": "GCG5zWf9sJ0d",
        "outputId": "646a4abe-4592-40d7-cff3-7ee3c05fde40",
        "colab": {
          "base_uri": "https://localhost:8080/"
        }
      },
      "execution_count": 31,
      "outputs": [
        {
          "output_type": "execute_result",
          "data": {
            "text/plain": [
              "tensor([-0.1237])"
            ]
          },
          "metadata": {},
          "execution_count": 31
        }
      ]
    },
    {
      "cell_type": "code",
      "execution_count": null,
      "metadata": {
        "colab": {
          "base_uri": "https://localhost:8080/"
        },
        "id": "2saw960759Td",
        "outputId": "15fd19c7-cccc-403f-dd6f-1b223c54c84d"
      },
      "outputs": [
        {
          "data": {
            "text/plain": [
              "tensor([78.7160], grad_fn=<MulBackward0>)"
            ]
          },
          "execution_count": 130,
          "metadata": {},
          "output_type": "execute_result"
        }
      ],
      "source": [
        "l = epsilon_Loss(given_fn, model, \n",
        "                            LOWER_BOUND, UPPER_BOUND, N_POINTS)\n",
        "l"
      ]
    },
    {
      "cell_type": "code",
      "execution_count": null,
      "metadata": {
        "colab": {
          "base_uri": "https://localhost:8080/"
        },
        "id": "Wgx4K0yugVxX",
        "outputId": "ae40cf07-991b-46ce-e62b-da3c83c7990a"
      },
      "outputs": [
        {
          "data": {
            "text/plain": [
              "tensor([78.7160], grad_fn=<AddBackward0>)"
            ]
          },
          "execution_count": 131,
          "metadata": {},
          "output_type": "execute_result"
        }
      ],
      "source": [
        "loss = epsilon_Loss_penalty(given_fn, model, LAMBDA_PEN, \n",
        "                            LOWER_BOUND, UPPER_BOUND, N_POINTS)\n",
        "loss"
      ]
    },
    {
      "cell_type": "code",
      "execution_count": 6,
      "metadata": {
        "id": "hbBxk8_fncyl"
      },
      "outputs": [],
      "source": [
        "# DEFINE HYPER-PARAMETERS\n",
        "batch_size = 50\n",
        "learningRate = 0.05\n",
        "num_epochs = 2000\n",
        "\n",
        "#INIT MODEL\n",
        "model = Nonlinear(20)\n",
        "if torch.cuda.is_available():\n",
        "    model.cuda()\n",
        "\n",
        "# INIT OPTIMIZER CLASS\n",
        "# What is an optimizer: \n",
        "# SGD:\n",
        "# SGD_optimizer = torch.optim.SGD(model.parameters(), lr=learningRate)\n",
        "# Adam:\n",
        "adam_optimizer = torch.optim.Adam(model.parameters(), \n",
        "                                    lr=learningRate, \n",
        "                                    betas=(0.9, 0.999), \n",
        "                                    eps=1e-08, \n",
        "                                    weight_decay=0, \n",
        "                                    amsgrad=False)\n",
        "\n",
        "# INIT LOSS FUNCTION: MSE\n",
        "# criterion = epsilon_Loss"
      ]
    },
    {
      "cell_type": "code",
      "execution_count": 17,
      "metadata": {
        "id": "sjtOBhyZLspO"
      },
      "outputs": [],
      "source": [
        "# PLOT DATA\n",
        "def plot_figure(x_val, y_val, x_test=None, predicted=None):\n",
        "    plt.clf()\n",
        "    plt.figure(figsize=(8, 6), dpi=80)\n",
        "    plt.plot(x_val, y_val, '--', label='True data', alpha=0.5)\n",
        "    if predicted != None:\n",
        "        plt.plot(x_test, predicted, '--', label='Predictions', alpha=0.5)\n",
        "    plt.legend(loc='best')\n",
        "    plt.show()"
      ]
    },
    {
      "cell_type": "code",
      "execution_count": 29,
      "metadata": {
        "colab": {
          "base_uri": "https://localhost:8080/",
          "height": 1000
        },
        "id": "WZbaJ3MsB08r",
        "outputId": "0effac96-28c0-4fce-8f8d-382a57371e61"
      },
      "outputs": [
        {
          "output_type": "stream",
          "name": "stdout",
          "text": [
            "epoch 0, loss 1.254576563835144\n",
            "epoch 1, loss 43.2580451965332\n",
            "epoch 2, loss 157.80340576171875\n",
            "epoch 3, loss 9.330690383911133\n",
            "epoch 4, loss 89.2890853881836\n",
            "epoch 5, loss 64.87334442138672\n",
            "epoch 6, loss 2.2080342769622803\n",
            "epoch 7, loss 59.819942474365234\n",
            "epoch 8, loss 46.619415283203125\n",
            "epoch 9, loss 1.1598074436187744\n",
            "epoch 10, loss 26.683921813964844\n",
            "epoch 11, loss 42.08333969116211\n",
            "epoch 12, loss 11.504769325256348\n",
            "epoch 13, loss 2.893078565597534\n",
            "epoch 14, loss 24.02597427368164\n",
            "epoch 15, loss 22.86964988708496\n",
            "epoch 16, loss 3.6503665447235107\n",
            "epoch 17, loss 3.4405057430267334\n",
            "epoch 18, loss 15.969564437866211\n",
            "epoch 19, loss 14.203802108764648\n",
            "epoch 20, loss 2.6920676231384277\n",
            "epoch 21, loss 1.66078782081604\n",
            "epoch 22, loss 9.333247184753418\n",
            "epoch 23, loss 9.674241065979004\n",
            "epoch 24, loss 2.6188573837280273\n",
            "epoch 25, loss 0.5258735418319702\n",
            "epoch 26, loss 4.998000621795654\n",
            "epoch 27, loss 6.740937232971191\n",
            "epoch 28, loss 2.90854811668396\n",
            "epoch 29, loss 0.15831907093524933\n",
            "epoch 30, loss 2.142836332321167\n",
            "epoch 31, loss 4.315968990325928\n",
            "epoch 32, loss 2.774106502532959\n",
            "epoch 33, loss 0.36055299639701843\n",
            "epoch 34, loss 0.7565727233886719\n",
            "epoch 35, loss 2.5084428787231445\n",
            "epoch 36, loss 2.3713483810424805\n",
            "epoch 37, loss 0.7096060514450073\n",
            "epoch 38, loss 0.19840659201145172\n",
            "epoch 39, loss 1.2346328496932983\n",
            "epoch 40, loss 1.7442759275436401\n",
            "epoch 41, loss 0.8917883038520813\n",
            "epoch 42, loss 0.15346617996692657\n",
            "epoch 43, loss 0.5513768196105957\n",
            "epoch 44, loss 1.1470608711242676\n",
            "epoch 45, loss 0.8846437931060791\n",
            "epoch 46, loss 0.24778145551681519\n",
            "epoch 47, loss 0.21794822812080383\n",
            "epoch 48, loss 0.6562865376472473\n",
            "epoch 49, loss 0.7237273454666138\n",
            "Pre normalize: \n",
            "tensor([[-7.0217, -3.2179, -6.6804,  2.1419,  0.7138, -0.1173, -6.1477, -4.1769,\n",
            "          7.2658,  4.7902, -4.2670, -8.0958,  6.5276, -1.6924, -8.0738, -5.8581,\n",
            "         -6.0254, 11.8386, 13.3166, -0.0549]])\n",
            "tensor([5.7238])\n",
            "After normalize: \n",
            "tensor([[-19.3233,  -8.8555, -18.3842,   5.8944,   1.9644,  -0.3229, -16.9183,\n",
            "         -11.4945,  19.9951,  13.1824, -11.7426, -22.2793,  17.9635,  -4.6574,\n",
            "         -22.2185, -16.1211, -16.5817,  32.5793,  36.6467,  -0.1510]])\n",
            "tensor([15.7516])\n",
            "c value = tensor([2.7519], grad_fn=<MulBackward0>)\n",
            "epoch 50, loss 2.4882943630218506\n",
            "epoch 51, loss 7.897414207458496\n",
            "epoch 52, loss 1.2747082710266113\n",
            "epoch 53, loss 4.935919761657715\n",
            "epoch 54, loss 4.1294779777526855\n",
            "epoch 55, loss 1.4064791202545166\n",
            "epoch 56, loss 4.878413677215576\n",
            "epoch 57, loss 1.1981202363967896\n",
            "epoch 58, loss 3.057220220565796\n",
            "epoch 59, loss 2.4470040798187256\n",
            "epoch 60, loss 1.1780191659927368\n",
            "epoch 61, loss 2.982067108154297\n",
            "epoch 62, loss 0.8341024518013\n",
            "epoch 63, loss 2.1182916164398193\n",
            "epoch 64, loss 1.5499649047851562\n",
            "epoch 65, loss 1.0444831848144531\n",
            "epoch 66, loss 1.7999093532562256\n",
            "epoch 67, loss 0.7210657596588135\n",
            "epoch 68, loss 1.54567551612854\n",
            "epoch 69, loss 0.9187931418418884\n",
            "epoch 70, loss 0.886988639831543\n",
            "epoch 71, loss 1.284218192100525\n",
            "epoch 72, loss 0.5682294964790344\n",
            "epoch 73, loss 1.0961971282958984\n",
            "epoch 74, loss 0.7014404535293579\n",
            "epoch 75, loss 0.763785719871521\n",
            "epoch 76, loss 0.8251089453697205\n",
            "epoch 77, loss 0.49456271529197693\n",
            "epoch 78, loss 0.8837539553642273\n",
            "epoch 79, loss 0.48603013157844543\n",
            "epoch 80, loss 0.6146799325942993\n",
            "epoch 81, loss 0.652870774269104\n",
            "epoch 82, loss 0.4390742778778076\n",
            "epoch 83, loss 0.6124436855316162\n",
            "epoch 84, loss 0.4013299345970154\n",
            "epoch 85, loss 0.527212381362915\n",
            "epoch 86, loss 0.45104339718818665\n",
            "epoch 87, loss 0.36625343561172485\n",
            "epoch 88, loss 0.5051378011703491\n",
            "epoch 89, loss 0.3425588607788086\n",
            "epoch 90, loss 0.3956025242805481\n",
            "epoch 91, loss 0.38345617055892944\n",
            "epoch 92, loss 0.3284985423088074\n",
            "epoch 93, loss 0.3665190637111664\n",
            "epoch 94, loss 0.2992222309112549\n",
            "epoch 95, loss 0.3383845090866089\n",
            "epoch 96, loss 0.31536805629730225\n",
            "epoch 97, loss 0.2756107747554779\n",
            "epoch 98, loss 0.32036733627319336\n",
            "epoch 99, loss 0.2745712399482727\n",
            "Pre normalize: \n",
            "tensor([[-19.3313,  -8.8616, -18.3912,   5.8837,   1.9334,  -0.3201, -16.9177,\n",
            "         -11.4936,  19.9959,  13.1809, -11.7410, -22.2854,  17.9545,  -4.6396,\n",
            "         -22.2179, -16.1204, -16.5632,  32.5699,  36.6444,  -0.1605]])\n",
            "tensor([15.7457])\n",
            "After normalize: \n",
            "tensor([[-60.2502, -27.6189, -57.3202,  18.3378,   6.0260,  -0.9977, -52.7277,\n",
            "         -35.8222,  62.3215,  41.0812, -36.5934, -69.4572,  55.9592, -14.4604,\n",
            "         -69.2468, -50.2427, -51.6227, 101.5112, 114.2102,  -0.5003]])\n",
            "tensor([49.0748])\n",
            "c value = tensor([3.1167], grad_fn=<MulBackward0>)\n",
            "epoch 100, loss 2.5864689350128174\n",
            "epoch 101, loss 91.82223510742188\n",
            "epoch 102, loss 7033.89404296875\n",
            "epoch 103, loss 581.3701171875\n",
            "epoch 104, loss 6449.0595703125\n",
            "epoch 105, loss 2587.932373046875\n",
            "epoch 106, loss 376.7325134277344\n",
            "epoch 107, loss 2868.1435546875\n",
            "epoch 108, loss 3041.6328125\n",
            "epoch 109, loss 1128.59716796875\n",
            "epoch 110, loss 298.36456298828125\n",
            "epoch 111, loss 1085.2115478515625\n",
            "epoch 112, loss 1722.3004150390625\n",
            "epoch 113, loss 1150.353271484375\n",
            "epoch 114, loss 340.10540771484375\n",
            "epoch 115, loss 237.84414672851562\n",
            "epoch 116, loss 627.0059814453125\n",
            "epoch 117, loss 912.614990234375\n",
            "epoch 118, loss 793.9974365234375\n",
            "epoch 119, loss 406.2776184082031\n",
            "epoch 120, loss 106.87335968017578\n",
            "epoch 121, loss 123.4325180053711\n",
            "epoch 122, loss 354.6684265136719\n",
            "epoch 123, loss 492.780517578125\n",
            "epoch 124, loss 380.7919616699219\n",
            "epoch 125, loss 151.61651611328125\n",
            "epoch 126, loss 23.297653198242188\n",
            "epoch 127, loss 77.64672088623047\n",
            "epoch 128, loss 219.32969665527344\n",
            "epoch 129, loss 295.1484375\n",
            "epoch 130, loss 240.50770568847656\n",
            "epoch 131, loss 115.49798583984375\n",
            "epoch 132, loss 26.334041595458984\n",
            "epoch 133, loss 27.311344146728516\n",
            "epoch 134, loss 85.66948699951172\n",
            "epoch 135, loss 127.9951171875\n",
            "epoch 136, loss 113.75160217285156\n",
            "epoch 137, loss 62.44870376586914\n",
            "epoch 138, loss 20.975526809692383\n",
            "epoch 139, loss 16.821077346801758\n",
            "epoch 140, loss 41.20669937133789\n",
            "epoch 141, loss 66.22400665283203\n",
            "epoch 142, loss 70.76123809814453\n",
            "epoch 143, loss 53.206695556640625\n",
            "epoch 144, loss 27.641359329223633\n",
            "epoch 145, loss 11.284147262573242\n",
            "epoch 146, loss 12.209041595458984\n",
            "epoch 147, loss 24.63050079345703\n",
            "epoch 148, loss 34.87513732910156\n",
            "epoch 149, loss 33.30341720581055\n",
            "Pre normalize: \n",
            "tensor([[-60.5157, -27.8773, -57.5840,  17.9906,   5.1546,  -0.5004, -52.8230,\n",
            "         -35.9080,  62.1992,  40.9249, -36.6996, -69.7137,  55.6454, -14.2066,\n",
            "         -69.3441, -50.3352, -50.8915, 101.2252, 114.0324,  -0.2128]])\n",
            "tensor([48.3004])\n",
            "After normalize: \n",
            "tensor([[-30.9261, -14.2465, -29.4279,   9.1940,   2.6342,  -0.2557, -26.9948,\n",
            "         -18.3505,  31.7864,  20.9143, -18.7551, -35.6267,  28.4372,  -7.2602,\n",
            "         -35.4378, -25.7234, -26.0077,  51.7304,  58.2754,  -0.1087]])\n",
            "tensor([24.6836])\n",
            "c value = tensor([0.5110], grad_fn=<MulBackward0>)\n",
            "epoch 150, loss 5.698246479034424\n",
            "epoch 151, loss 3.288083076477051\n",
            "epoch 152, loss 2.229526996612549\n",
            "epoch 153, loss 2.4915900230407715\n",
            "epoch 154, loss 3.6786422729492188\n",
            "epoch 155, loss 5.2037811279296875\n",
            "epoch 156, loss 6.487699508666992\n",
            "epoch 157, loss 7.122416973114014\n",
            "epoch 158, loss 6.9590983390808105\n",
            "epoch 159, loss 6.106123447418213\n",
            "epoch 160, loss 4.854531288146973\n",
            "epoch 161, loss 3.561267614364624\n",
            "epoch 162, loss 2.5339040756225586\n",
            "epoch 163, loss 1.949291706085205\n",
            "epoch 164, loss 1.8255051374435425\n",
            "epoch 165, loss 2.0466933250427246\n",
            "epoch 166, loss 2.4238054752349854\n",
            "epoch 167, loss 2.7660815715789795\n",
            "epoch 168, loss 2.9394562244415283\n",
            "epoch 169, loss 2.8952033519744873\n",
            "epoch 170, loss 2.6667141914367676\n",
            "epoch 171, loss 2.3411865234375\n",
            "epoch 172, loss 2.020566463470459\n",
            "epoch 173, loss 1.786237120628357\n",
            "epoch 174, loss 1.677777886390686\n",
            "epoch 175, loss 1.6893603801727295\n",
            "epoch 176, loss 1.7808676958084106\n",
            "epoch 177, loss 1.897173523902893\n",
            "epoch 178, loss 1.9878469705581665\n",
            "epoch 179, loss 2.0214579105377197\n",
            "epoch 180, loss 1.9910542964935303\n",
            "epoch 181, loss 1.9114625453948975\n",
            "epoch 182, loss 1.810551643371582\n",
            "epoch 183, loss 1.718443751335144\n",
            "epoch 184, loss 1.6579625606536865\n",
            "epoch 185, loss 1.6390299797058105\n",
            "epoch 186, loss 1.657716989517212\n",
            "epoch 187, loss 1.699586272239685\n",
            "epoch 188, loss 1.7457289695739746\n",
            "epoch 189, loss 1.7790032625198364\n",
            "epoch 190, loss 1.7889184951782227\n",
            "epoch 191, loss 1.773711919784546\n",
            "epoch 192, loss 1.7395507097244263\n",
            "epoch 193, loss 1.6972076892852783\n",
            "epoch 194, loss 1.658206820487976\n",
            "epoch 195, loss 1.6310731172561646\n",
            "epoch 196, loss 1.6192580461502075\n",
            "epoch 197, loss 1.6209560632705688\n",
            "epoch 198, loss 1.6305866241455078\n",
            "epoch 199, loss 1.6413242816925049\n",
            "Pre normalize: \n",
            "tensor([[-30.9211, -14.2408, -29.4222,   9.1984,   2.6062,  -0.2373, -27.0039,\n",
            "         -18.3595,  31.7781,  20.9042, -18.7638, -35.6210,  28.4417,  -7.2319,\n",
            "         -35.4467, -25.7324, -25.9733,  51.7346,  58.2649,  -0.0928]])\n",
            "tensor([24.6800])\n",
            "After normalize: \n",
            "tensor([[-53.1589, -24.4825, -50.5821,  15.8137,   4.4805,  -0.4080, -46.4245,\n",
            "         -31.5634,  54.6323,  35.9381, -32.2583, -61.2389,  48.8964, -12.4329,\n",
            "         -60.9392, -44.2386, -44.6529,  88.9411, 100.1679,  -0.1595]])\n",
            "tensor([42.4293])\n",
            "c value = tensor([1.7192], grad_fn=<MulBackward0>)\n",
            "epoch 200, loss 4.869255065917969\n",
            "epoch 201, loss 4.829702377319336\n",
            "epoch 202, loss 4.770677089691162\n",
            "epoch 203, loss 4.731313705444336\n",
            "epoch 204, loss 4.731353282928467\n",
            "epoch 205, loss 4.761424541473389\n",
            "epoch 206, loss 4.79530143737793\n",
            "epoch 207, loss 4.811328887939453\n",
            "epoch 208, loss 4.806535243988037\n",
            "epoch 209, loss 4.794467449188232\n",
            "epoch 210, loss 4.7914628982543945\n",
            "epoch 211, loss 4.803948879241943\n",
            "epoch 212, loss 4.824700832366943\n",
            "epoch 213, loss 4.840170860290527\n",
            "epoch 214, loss 4.84136962890625\n",
            "epoch 215, loss 4.829920291900635\n",
            "epoch 216, loss 4.815868854522705\n",
            "epoch 217, loss 4.809864044189453\n",
            "epoch 218, loss 4.816152095794678\n",
            "epoch 219, loss 4.8310136795043945\n",
            "epoch 220, loss 4.846352577209473\n",
            "epoch 221, loss 4.85595178604126\n",
            "epoch 222, loss 4.858985424041748\n",
            "epoch 223, loss 4.859310626983643\n",
            "epoch 224, loss 4.861695289611816\n",
            "epoch 225, loss 4.868519306182861\n",
            "epoch 226, loss 4.878529071807861\n",
            "epoch 227, loss 4.888718605041504\n",
            "epoch 228, loss 4.8969035148620605\n",
            "epoch 229, loss 4.902992248535156\n",
            "epoch 230, loss 4.908514499664307\n",
            "epoch 231, loss 4.914775848388672\n",
            "epoch 232, loss 4.9216461181640625\n",
            "epoch 233, loss 4.9275431632995605\n",
            "epoch 234, loss 4.9307379722595215\n",
            "epoch 235, loss 4.930532455444336\n",
            "epoch 236, loss 4.927828311920166\n",
            "epoch 237, loss 4.9243574142456055\n",
            "epoch 238, loss 4.9217023849487305\n",
            "epoch 239, loss 4.920492172241211\n",
            "epoch 240, loss 4.920472621917725\n",
            "epoch 241, loss 4.9211039543151855\n",
            "epoch 242, loss 4.922063827514648\n",
            "epoch 243, loss 4.923323631286621\n",
            "epoch 244, loss 4.925070762634277\n",
            "epoch 245, loss 4.9270853996276855\n",
            "epoch 246, loss 4.928840160369873\n",
            "epoch 247, loss 4.929528713226318\n",
            "epoch 248, loss 4.928523540496826\n",
            "epoch 249, loss 4.9257636070251465\n",
            "Pre normalize: \n",
            "tensor([[-53.1465, -24.4690, -50.5693,  15.8275,   4.4808,  -0.4010, -46.4345,\n",
            "         -31.5733,  54.6241,  35.9283, -32.2669, -61.2252,  48.9096, -12.4152,\n",
            "         -60.9488, -44.2484, -44.6453,  88.9534, 100.1579,  -0.1515]])\n",
            "tensor([42.4381])\n",
            "After normalize: \n",
            "tensor([[-44.5256, -20.4998, -42.3664,  13.2601,   3.7539,  -0.3360, -38.9024,\n",
            "         -26.4518,  45.7635,  30.1004, -27.0329, -51.2938,  40.9759, -10.4013,\n",
            "         -51.0622, -37.0709, -37.4033,  74.5242,  83.9112,  -0.1269]])\n",
            "tensor([35.5542])\n",
            "c value = tensor([0.8378], grad_fn=<MulBackward0>)\n",
            "epoch 250, loss 3.45438289642334\n",
            "epoch 251, loss 3.450840950012207\n",
            "epoch 252, loss 3.447258472442627\n",
            "epoch 253, loss 3.443732976913452\n",
            "epoch 254, loss 3.4402451515197754\n",
            "epoch 255, loss 3.436711072921753\n",
            "epoch 256, loss 3.4331448078155518\n",
            "epoch 257, loss 3.429532051086426\n",
            "epoch 258, loss 3.4259817600250244\n",
            "epoch 259, loss 3.4224352836608887\n",
            "epoch 260, loss 3.418797492980957\n",
            "epoch 261, loss 3.4149293899536133\n",
            "epoch 262, loss 3.410672664642334\n",
            "epoch 263, loss 3.4060041904449463\n",
            "epoch 264, loss 3.400911331176758\n",
            "epoch 265, loss 3.3955113887786865\n",
            "epoch 266, loss 3.3899271488189697\n",
            "epoch 267, loss 3.38433837890625\n",
            "epoch 268, loss 3.3787460327148438\n",
            "epoch 269, loss 3.3732221126556396\n",
            "epoch 270, loss 3.367780923843384\n",
            "epoch 271, loss 3.3624041080474854\n",
            "epoch 272, loss 3.3570563793182373\n",
            "epoch 273, loss 3.3517422676086426\n",
            "epoch 274, loss 3.3463642597198486\n",
            "epoch 275, loss 3.3409218788146973\n",
            "epoch 276, loss 3.3353195190429688\n",
            "epoch 277, loss 3.3294456005096436\n",
            "epoch 278, loss 3.323336362838745\n",
            "epoch 279, loss 3.3169662952423096\n",
            "epoch 280, loss 3.310358762741089\n",
            "epoch 281, loss 3.3035616874694824\n",
            "epoch 282, loss 3.296668529510498\n",
            "epoch 283, loss 3.2897324562072754\n",
            "epoch 284, loss 3.2827961444854736\n",
            "epoch 285, loss 3.2758781909942627\n",
            "epoch 286, loss 3.2689995765686035\n",
            "epoch 287, loss 3.2621572017669678\n",
            "epoch 288, loss 3.2553300857543945\n",
            "epoch 289, loss 3.2484865188598633\n",
            "epoch 290, loss 3.2416067123413086\n",
            "epoch 291, loss 3.2346224784851074\n",
            "epoch 292, loss 3.227524757385254\n",
            "epoch 293, loss 3.2202811241149902\n",
            "epoch 294, loss 3.212926149368286\n",
            "epoch 295, loss 3.2054388523101807\n",
            "epoch 296, loss 3.1978728771209717\n",
            "epoch 297, loss 3.190258741378784\n",
            "epoch 298, loss 3.182612657546997\n",
            "epoch 299, loss 3.1749846935272217\n",
            "Pre normalize: \n",
            "tensor([[-44.5168, -20.4902, -42.3574,  13.2699,   3.7559,  -0.3306, -38.9082,\n",
            "         -26.4577,  45.7585,  30.0947, -27.0377, -51.2841,  40.9852, -10.3865,\n",
            "         -51.0677, -37.0766, -37.3975,  74.5330,  83.9054,  -0.1208]])\n",
            "tensor([35.5618])\n",
            "After normalize: \n",
            "tensor([[-44.1823, -20.3363, -42.0392,  13.1702,   3.7277,  -0.3281, -38.6159,\n",
            "         -26.2589,  45.4147,  29.8686, -26.8346, -50.8989,  40.6773, -10.3085,\n",
            "         -50.6841, -36.7981, -37.1165,  73.9730,  83.2750,  -0.1199]])\n",
            "tensor([35.2946])\n",
            "c value = tensor([0.9925], grad_fn=<MulBackward0>)\n",
            "epoch 300, loss 3.1199796199798584\n",
            "epoch 301, loss 3.112532138824463\n",
            "epoch 302, loss 3.1051182746887207\n",
            "epoch 303, loss 3.0977141857147217\n",
            "epoch 304, loss 3.0903372764587402\n",
            "epoch 305, loss 3.0829317569732666\n",
            "epoch 306, loss 3.0754945278167725\n",
            "epoch 307, loss 3.068023204803467\n",
            "epoch 308, loss 3.060490608215332\n",
            "epoch 309, loss 3.0528833866119385\n",
            "epoch 310, loss 3.0452370643615723\n",
            "epoch 311, loss 3.0375728607177734\n",
            "epoch 312, loss 3.029883861541748\n",
            "epoch 313, loss 3.0221810340881348\n",
            "epoch 314, loss 3.01448917388916\n",
            "epoch 315, loss 3.00679874420166\n",
            "epoch 316, loss 2.9991238117218018\n",
            "epoch 317, loss 2.9914495944976807\n",
            "epoch 318, loss 2.983764886856079\n",
            "epoch 319, loss 2.9760756492614746\n",
            "epoch 320, loss 2.96838641166687\n",
            "epoch 321, loss 2.960669755935669\n",
            "epoch 322, loss 2.9529263973236084\n",
            "epoch 323, loss 2.9451451301574707\n",
            "epoch 324, loss 2.937359571456909\n",
            "epoch 325, loss 2.9295480251312256\n",
            "epoch 326, loss 2.9217233657836914\n",
            "epoch 327, loss 2.913911819458008\n",
            "epoch 328, loss 2.9060890674591064\n",
            "epoch 329, loss 2.8982834815979004\n",
            "epoch 330, loss 2.8904836177825928\n",
            "epoch 331, loss 2.882707118988037\n",
            "epoch 332, loss 2.8749496936798096\n",
            "epoch 333, loss 2.8671700954437256\n",
            "epoch 334, loss 2.8594205379486084\n",
            "epoch 335, loss 2.8516440391540527\n",
            "epoch 336, loss 2.8438756465911865\n",
            "epoch 337, loss 2.836082935333252\n",
            "epoch 338, loss 2.8282859325408936\n",
            "epoch 339, loss 2.820491313934326\n",
            "epoch 340, loss 2.8126957416534424\n",
            "epoch 341, loss 2.8048856258392334\n",
            "epoch 342, loss 2.7970800399780273\n",
            "epoch 343, loss 2.7892749309539795\n",
            "epoch 344, loss 2.7814886569976807\n",
            "epoch 345, loss 2.7737159729003906\n",
            "epoch 346, loss 2.7659552097320557\n",
            "epoch 347, loss 2.7581892013549805\n",
            "epoch 348, loss 2.7504255771636963\n",
            "epoch 349, loss 2.7426702976226807\n",
            "Pre normalize: \n",
            "tensor([[-44.1750, -20.3283, -42.0318,  13.1784,   3.7297,  -0.3233, -38.6204,\n",
            "         -26.2634,  45.4109,  29.8643, -26.8383, -50.8908,  40.6851, -10.2946,\n",
            "         -50.6883, -36.8024, -37.1115,  73.9803,  83.2705,  -0.1144]])\n",
            "tensor([35.3014])\n",
            "After normalize: \n",
            "tensor([[-46.3416, -21.3253, -44.0932,  13.8247,   3.9126,  -0.3392, -40.5145,\n",
            "         -27.5515,  47.6381,  31.3290, -28.1546, -53.3867,  42.6805, -10.7995,\n",
            "         -53.1743, -38.6074, -38.9317,  77.6087,  87.3546,  -0.1200]])\n",
            "tensor([37.0327])\n",
            "c value = tensor([1.0490], grad_fn=<MulBackward0>)\n",
            "epoch 350, loss 3.009767532348633\n",
            "epoch 351, loss 3.001187562942505\n",
            "epoch 352, loss 2.9925105571746826\n",
            "epoch 353, loss 2.9837632179260254\n",
            "epoch 354, loss 2.9749341011047363\n",
            "epoch 355, loss 2.966027021408081\n",
            "epoch 356, loss 2.957089900970459\n",
            "epoch 357, loss 2.9480977058410645\n",
            "epoch 358, loss 2.939100980758667\n",
            "epoch 359, loss 2.930086135864258\n",
            "epoch 360, loss 2.9210875034332275\n",
            "epoch 361, loss 2.912066698074341\n",
            "epoch 362, loss 2.9030396938323975\n",
            "epoch 363, loss 2.8940513134002686\n",
            "epoch 364, loss 2.8850467205047607\n",
            "epoch 365, loss 2.8760318756103516\n",
            "epoch 366, loss 2.867021322250366\n",
            "epoch 367, loss 2.8579864501953125\n",
            "epoch 368, loss 2.8489620685577393\n",
            "epoch 369, loss 2.83992600440979\n",
            "epoch 370, loss 2.8308722972869873\n",
            "epoch 371, loss 2.821840286254883\n",
            "epoch 372, loss 2.8127949237823486\n",
            "epoch 373, loss 2.80377459526062\n",
            "epoch 374, loss 2.7947590351104736\n",
            "epoch 375, loss 2.785764217376709\n",
            "epoch 376, loss 2.776794672012329\n",
            "epoch 377, loss 2.7678349018096924\n",
            "epoch 378, loss 2.7588717937469482\n",
            "epoch 379, loss 2.7499170303344727\n",
            "epoch 380, loss 2.7409956455230713\n",
            "epoch 381, loss 2.7320895195007324\n",
            "epoch 382, loss 2.7231743335723877\n",
            "epoch 383, loss 2.7143001556396484\n",
            "epoch 384, loss 2.705427885055542\n",
            "epoch 385, loss 2.6965789794921875\n",
            "epoch 386, loss 2.687744140625\n",
            "epoch 387, loss 2.6789345741271973\n",
            "epoch 388, loss 2.6701407432556152\n",
            "epoch 389, loss 2.6613574028015137\n",
            "epoch 390, loss 2.652621269226074\n",
            "epoch 391, loss 2.643899917602539\n",
            "epoch 392, loss 2.635193109512329\n",
            "epoch 393, loss 2.6265056133270264\n",
            "epoch 394, loss 2.6178412437438965\n",
            "epoch 395, loss 2.609172821044922\n",
            "epoch 396, loss 2.6005542278289795\n",
            "epoch 397, loss 2.5919289588928223\n",
            "epoch 398, loss 2.5833518505096436\n",
            "epoch 399, loss 2.5747764110565186\n",
            "Pre normalize: \n",
            "tensor([[-46.3343, -21.3173, -44.0858,  13.8329,   3.9148,  -0.3343, -40.5186,\n",
            "         -27.5556,  47.6346,  31.3251, -28.1579, -53.3786,  42.6882, -10.7853,\n",
            "         -53.1781, -38.6114, -38.9264,  77.6159,  87.3505,  -0.1144]])\n",
            "tensor([37.0400])\n",
            "After normalize: \n",
            "tensor([[-49.5903, -22.8153, -47.1838,  14.8050,   4.1899,  -0.3578, -43.3660,\n",
            "         -29.4920,  50.9820,  33.5264, -30.1367, -57.1297,  45.6881, -11.5432,\n",
            "         -56.9151, -41.3248, -41.6619,  83.0703,  93.4889,  -0.1224]])\n",
            "tensor([39.6430])\n",
            "c value = tensor([1.0703], grad_fn=<MulBackward0>)\n",
            "epoch 400, loss 2.939570665359497\n",
            "epoch 401, loss 2.9297053813934326\n",
            "epoch 402, loss 2.9197163581848145\n",
            "epoch 403, loss 2.9096317291259766\n",
            "epoch 404, loss 2.8994224071502686\n",
            "epoch 405, loss 2.889094591140747\n",
            "epoch 406, loss 2.87870454788208\n",
            "epoch 407, loss 2.8682684898376465\n",
            "epoch 408, loss 2.857799530029297\n",
            "epoch 409, loss 2.847343921661377\n",
            "epoch 410, loss 2.836909532546997\n",
            "epoch 411, loss 2.8264875411987305\n",
            "epoch 412, loss 2.8160817623138428\n",
            "epoch 413, loss 2.8056859970092773\n",
            "epoch 414, loss 2.7953040599823\n",
            "epoch 415, loss 2.784895420074463\n",
            "epoch 416, loss 2.774465799331665\n",
            "epoch 417, loss 2.764049768447876\n",
            "epoch 418, loss 2.7536003589630127\n",
            "epoch 419, loss 2.7431387901306152\n",
            "epoch 420, loss 2.732717514038086\n",
            "epoch 421, loss 2.7222981452941895\n",
            "epoch 422, loss 2.711906909942627\n",
            "epoch 423, loss 2.7015511989593506\n",
            "epoch 424, loss 2.691216230392456\n",
            "epoch 425, loss 2.680922269821167\n",
            "epoch 426, loss 2.670654535293579\n",
            "epoch 427, loss 2.660428285598755\n",
            "epoch 428, loss 2.650214910507202\n",
            "epoch 429, loss 2.6400091648101807\n",
            "epoch 430, loss 2.6298465728759766\n",
            "epoch 431, loss 2.619694471359253\n",
            "epoch 432, loss 2.6095597743988037\n",
            "epoch 433, loss 2.5994791984558105\n",
            "epoch 434, loss 2.589420795440674\n",
            "epoch 435, loss 2.5794055461883545\n",
            "epoch 436, loss 2.5694360733032227\n",
            "epoch 437, loss 2.5595061779022217\n",
            "epoch 438, loss 2.549617052078247\n",
            "epoch 439, loss 2.5397591590881348\n",
            "epoch 440, loss 2.5299315452575684\n",
            "epoch 441, loss 2.5201237201690674\n",
            "epoch 442, loss 2.5103678703308105\n",
            "epoch 443, loss 2.500614881515503\n",
            "epoch 444, loss 2.4908955097198486\n",
            "epoch 445, loss 2.4812090396881104\n",
            "epoch 446, loss 2.4715416431427\n",
            "epoch 447, loss 2.461932420730591\n",
            "epoch 448, loss 2.4523427486419678\n",
            "epoch 449, loss 2.44279408454895\n",
            "Pre normalize: \n",
            "tensor([[-49.5827, -22.8069, -47.1761,  14.8136,   4.1924,  -0.3524, -43.3698,\n",
            "         -29.4958,  50.9788,  33.5228, -30.1398, -57.1212,  45.6962, -11.5288,\n",
            "         -56.9187, -41.3285, -41.6563,  83.0779,  93.4851,  -0.1164]])\n",
            "tensor([39.6511])\n",
            "After normalize: \n",
            "tensor([[-53.8295, -24.7603, -51.2167,  16.0824,   4.5515,  -0.3826, -47.0844,\n",
            "         -32.0221,  55.3451,  36.3940, -32.7212, -62.0136,  49.6101, -12.5162,\n",
            "         -61.7938, -44.8683, -45.2242,  90.1935, 101.4921,  -0.1263]])\n",
            "tensor([43.0472])\n",
            "c value = tensor([1.0856], grad_fn=<MulBackward0>)\n",
            "epoch 450, loss 2.8679981231689453\n",
            "epoch 451, loss 2.8566842079162598\n",
            "epoch 452, loss 2.845223903656006\n",
            "epoch 453, loss 2.833566427230835\n",
            "epoch 454, loss 2.8217689990997314\n",
            "epoch 455, loss 2.8098206520080566\n",
            "epoch 456, loss 2.797804594039917\n"
          ]
        },
        {
          "output_type": "error",
          "ename": "KeyboardInterrupt",
          "evalue": "ignored",
          "traceback": [
            "\u001b[0;31m---------------------------------------------------------------------------\u001b[0m",
            "\u001b[0;31mKeyboardInterrupt\u001b[0m                         Traceback (most recent call last)",
            "\u001b[0;32m<ipython-input-29-9029d7377396>\u001b[0m in \u001b[0;36m<module>\u001b[0;34m()\u001b[0m\n\u001b[0;32m----> 1\u001b[0;31m \u001b[0mgraph_val\u001b[0m \u001b[0;34m=\u001b[0m \u001b[0mmodel\u001b[0m\u001b[0;34m.\u001b[0m\u001b[0mtrain_network\u001b[0m\u001b[0;34m(\u001b[0m\u001b[0mnum_epochs\u001b[0m\u001b[0;34m,\u001b[0m \u001b[0mgiven_fn\u001b[0m\u001b[0;34m,\u001b[0m \u001b[0madam_optimizer\u001b[0m\u001b[0;34m,\u001b[0m \u001b[0mLOWER_BOUND\u001b[0m\u001b[0;34m,\u001b[0m \u001b[0mUPPER_BOUND\u001b[0m\u001b[0;34m,\u001b[0m \u001b[0mN_POINTS\u001b[0m\u001b[0;34m)\u001b[0m\u001b[0;34m\u001b[0m\u001b[0;34m\u001b[0m\u001b[0m\n\u001b[0m",
            "\u001b[0;32m<ipython-input-5-c7a424b33c57>\u001b[0m in \u001b[0;36mtrain_network\u001b[0;34m(self, num_epochs, v_x, optimizer, lower_bound, upper_bound, n_points)\u001b[0m\n\u001b[1;32m    133\u001b[0m             \u001b[0moptimizer\u001b[0m\u001b[0;34m.\u001b[0m\u001b[0mzero_grad\u001b[0m\u001b[0;34m(\u001b[0m\u001b[0;34m)\u001b[0m\u001b[0;34m\u001b[0m\u001b[0;34m\u001b[0m\u001b[0m\n\u001b[1;32m    134\u001b[0m             loss = epsilon_Loss(v_x, self,\n\u001b[0;32m--> 135\u001b[0;31m                                 lower_bound, upper_bound, n_points)\n\u001b[0m\u001b[1;32m    136\u001b[0m             \u001b[0my_loss\u001b[0m\u001b[0;34m.\u001b[0m\u001b[0mappend\u001b[0m\u001b[0;34m(\u001b[0m\u001b[0mloss\u001b[0m\u001b[0;34m)\u001b[0m\u001b[0;34m\u001b[0m\u001b[0;34m\u001b[0m\u001b[0m\n\u001b[1;32m    137\u001b[0m             \u001b[0mx_epochs\u001b[0m\u001b[0;34m.\u001b[0m\u001b[0mappend\u001b[0m\u001b[0;34m(\u001b[0m\u001b[0mepoch\u001b[0m\u001b[0;34m)\u001b[0m\u001b[0;34m\u001b[0m\u001b[0;34m\u001b[0m\u001b[0m\n",
            "\u001b[0;32m<ipython-input-4-614fe69b05b7>\u001b[0m in \u001b[0;36mepsilon_Loss\u001b[0;34m(v_x, model_u, lower_bound, upper_bound, n_points)\u001b[0m\n\u001b[1;32m     21\u001b[0m         \u001b[0mu_xi\u001b[0m \u001b[0;34m=\u001b[0m \u001b[0mmodel_u\u001b[0m\u001b[0;34m(\u001b[0m\u001b[0mx_i\u001b[0m\u001b[0;34m)\u001b[0m\u001b[0;34m\u001b[0m\u001b[0;34m\u001b[0m\u001b[0m\n\u001b[1;32m     22\u001b[0m \u001b[0;34m\u001b[0m\u001b[0m\n\u001b[0;32m---> 23\u001b[0;31m         \u001b[0mu_prime\u001b[0m \u001b[0;34m=\u001b[0m \u001b[0mmodel_u\u001b[0m\u001b[0;34m.\u001b[0m\u001b[0mu_prime_2\u001b[0m\u001b[0;34m(\u001b[0m\u001b[0mx_i\u001b[0m\u001b[0;34m)\u001b[0m\u001b[0;34m\u001b[0m\u001b[0;34m\u001b[0m\u001b[0m\n\u001b[0m\u001b[1;32m     24\u001b[0m \u001b[0;34m\u001b[0m\u001b[0m\n\u001b[1;32m     25\u001b[0m         \u001b[0mv_xi\u001b[0m \u001b[0;34m=\u001b[0m \u001b[0mv_x\u001b[0m\u001b[0;34m(\u001b[0m\u001b[0mx_i\u001b[0m\u001b[0;34m)\u001b[0m\u001b[0;34m\u001b[0m\u001b[0;34m\u001b[0m\u001b[0m\n",
            "\u001b[0;32m<ipython-input-5-c7a424b33c57>\u001b[0m in \u001b[0;36mu_prime_2\u001b[0;34m(self, input)\u001b[0m\n\u001b[1;32m     35\u001b[0m     \u001b[0;32mdef\u001b[0m \u001b[0mu_prime_2\u001b[0m\u001b[0;34m(\u001b[0m\u001b[0mself\u001b[0m\u001b[0;34m,\u001b[0m \u001b[0minput\u001b[0m\u001b[0;34m)\u001b[0m\u001b[0;34m:\u001b[0m\u001b[0;34m\u001b[0m\u001b[0;34m\u001b[0m\u001b[0m\n\u001b[1;32m     36\u001b[0m         \u001b[0mi_tensor\u001b[0m \u001b[0;34m=\u001b[0m \u001b[0mtorch\u001b[0m\u001b[0;34m.\u001b[0m\u001b[0mtensor\u001b[0m\u001b[0;34m(\u001b[0m\u001b[0;34m[\u001b[0m\u001b[0minput\u001b[0m\u001b[0;34m.\u001b[0m\u001b[0mitem\u001b[0m\u001b[0;34m(\u001b[0m\u001b[0;34m)\u001b[0m\u001b[0;34m]\u001b[0m\u001b[0;34m,\u001b[0m \u001b[0mrequires_grad\u001b[0m\u001b[0;34m=\u001b[0m\u001b[0;32mTrue\u001b[0m\u001b[0;34m,\u001b[0m \u001b[0mdtype\u001b[0m\u001b[0;34m=\u001b[0m\u001b[0mtorch\u001b[0m\u001b[0;34m.\u001b[0m\u001b[0mfloat\u001b[0m\u001b[0;34m)\u001b[0m\u001b[0;34m\u001b[0m\u001b[0;34m\u001b[0m\u001b[0m\n\u001b[0;32m---> 37\u001b[0;31m         \u001b[0mclone_model\u001b[0m \u001b[0;34m=\u001b[0m \u001b[0mcopy\u001b[0m\u001b[0;34m.\u001b[0m\u001b[0mdeepcopy\u001b[0m\u001b[0;34m(\u001b[0m\u001b[0mself\u001b[0m\u001b[0;34m)\u001b[0m\u001b[0;34m\u001b[0m\u001b[0;34m\u001b[0m\u001b[0m\n\u001b[0m\u001b[1;32m     38\u001b[0m         \u001b[0mres\u001b[0m \u001b[0;34m=\u001b[0m \u001b[0mclone_model\u001b[0m\u001b[0;34m(\u001b[0m\u001b[0mi_tensor\u001b[0m\u001b[0;34m)\u001b[0m\u001b[0;34m\u001b[0m\u001b[0;34m\u001b[0m\u001b[0m\n\u001b[1;32m     39\u001b[0m         \u001b[0mres\u001b[0m\u001b[0;34m.\u001b[0m\u001b[0mbackward\u001b[0m\u001b[0;34m(\u001b[0m\u001b[0;34m)\u001b[0m\u001b[0;34m\u001b[0m\u001b[0;34m\u001b[0m\u001b[0m\n",
            "\u001b[0;32m/usr/lib/python3.7/copy.py\u001b[0m in \u001b[0;36mdeepcopy\u001b[0;34m(x, memo, _nil)\u001b[0m\n\u001b[1;32m    178\u001b[0m                     \u001b[0my\u001b[0m \u001b[0;34m=\u001b[0m \u001b[0mx\u001b[0m\u001b[0;34m\u001b[0m\u001b[0;34m\u001b[0m\u001b[0m\n\u001b[1;32m    179\u001b[0m                 \u001b[0;32melse\u001b[0m\u001b[0;34m:\u001b[0m\u001b[0;34m\u001b[0m\u001b[0;34m\u001b[0m\u001b[0m\n\u001b[0;32m--> 180\u001b[0;31m                     \u001b[0my\u001b[0m \u001b[0;34m=\u001b[0m \u001b[0m_reconstruct\u001b[0m\u001b[0;34m(\u001b[0m\u001b[0mx\u001b[0m\u001b[0;34m,\u001b[0m \u001b[0mmemo\u001b[0m\u001b[0;34m,\u001b[0m \u001b[0;34m*\u001b[0m\u001b[0mrv\u001b[0m\u001b[0;34m)\u001b[0m\u001b[0;34m\u001b[0m\u001b[0;34m\u001b[0m\u001b[0m\n\u001b[0m\u001b[1;32m    181\u001b[0m \u001b[0;34m\u001b[0m\u001b[0m\n\u001b[1;32m    182\u001b[0m     \u001b[0;31m# If is its own copy, don't memoize.\u001b[0m\u001b[0;34m\u001b[0m\u001b[0;34m\u001b[0m\u001b[0;34m\u001b[0m\u001b[0m\n",
            "\u001b[0;32m/usr/lib/python3.7/copy.py\u001b[0m in \u001b[0;36m_reconstruct\u001b[0;34m(x, memo, func, args, state, listiter, dictiter, deepcopy)\u001b[0m\n\u001b[1;32m    279\u001b[0m     \u001b[0;32mif\u001b[0m \u001b[0mstate\u001b[0m \u001b[0;32mis\u001b[0m \u001b[0;32mnot\u001b[0m \u001b[0;32mNone\u001b[0m\u001b[0;34m:\u001b[0m\u001b[0;34m\u001b[0m\u001b[0;34m\u001b[0m\u001b[0m\n\u001b[1;32m    280\u001b[0m         \u001b[0;32mif\u001b[0m \u001b[0mdeep\u001b[0m\u001b[0;34m:\u001b[0m\u001b[0;34m\u001b[0m\u001b[0;34m\u001b[0m\u001b[0m\n\u001b[0;32m--> 281\u001b[0;31m             \u001b[0mstate\u001b[0m \u001b[0;34m=\u001b[0m \u001b[0mdeepcopy\u001b[0m\u001b[0;34m(\u001b[0m\u001b[0mstate\u001b[0m\u001b[0;34m,\u001b[0m \u001b[0mmemo\u001b[0m\u001b[0;34m)\u001b[0m\u001b[0;34m\u001b[0m\u001b[0;34m\u001b[0m\u001b[0m\n\u001b[0m\u001b[1;32m    282\u001b[0m         \u001b[0;32mif\u001b[0m \u001b[0mhasattr\u001b[0m\u001b[0;34m(\u001b[0m\u001b[0my\u001b[0m\u001b[0;34m,\u001b[0m \u001b[0;34m'__setstate__'\u001b[0m\u001b[0;34m)\u001b[0m\u001b[0;34m:\u001b[0m\u001b[0;34m\u001b[0m\u001b[0;34m\u001b[0m\u001b[0m\n\u001b[1;32m    283\u001b[0m             \u001b[0my\u001b[0m\u001b[0;34m.\u001b[0m\u001b[0m__setstate__\u001b[0m\u001b[0;34m(\u001b[0m\u001b[0mstate\u001b[0m\u001b[0;34m)\u001b[0m\u001b[0;34m\u001b[0m\u001b[0;34m\u001b[0m\u001b[0m\n",
            "\u001b[0;32m/usr/lib/python3.7/copy.py\u001b[0m in \u001b[0;36mdeepcopy\u001b[0;34m(x, memo, _nil)\u001b[0m\n\u001b[1;32m    148\u001b[0m     \u001b[0mcopier\u001b[0m \u001b[0;34m=\u001b[0m \u001b[0m_deepcopy_dispatch\u001b[0m\u001b[0;34m.\u001b[0m\u001b[0mget\u001b[0m\u001b[0;34m(\u001b[0m\u001b[0mcls\u001b[0m\u001b[0;34m)\u001b[0m\u001b[0;34m\u001b[0m\u001b[0;34m\u001b[0m\u001b[0m\n\u001b[1;32m    149\u001b[0m     \u001b[0;32mif\u001b[0m \u001b[0mcopier\u001b[0m\u001b[0;34m:\u001b[0m\u001b[0;34m\u001b[0m\u001b[0;34m\u001b[0m\u001b[0m\n\u001b[0;32m--> 150\u001b[0;31m         \u001b[0my\u001b[0m \u001b[0;34m=\u001b[0m \u001b[0mcopier\u001b[0m\u001b[0;34m(\u001b[0m\u001b[0mx\u001b[0m\u001b[0;34m,\u001b[0m \u001b[0mmemo\u001b[0m\u001b[0;34m)\u001b[0m\u001b[0;34m\u001b[0m\u001b[0;34m\u001b[0m\u001b[0m\n\u001b[0m\u001b[1;32m    151\u001b[0m     \u001b[0;32melse\u001b[0m\u001b[0;34m:\u001b[0m\u001b[0;34m\u001b[0m\u001b[0;34m\u001b[0m\u001b[0m\n\u001b[1;32m    152\u001b[0m         \u001b[0;32mtry\u001b[0m\u001b[0;34m:\u001b[0m\u001b[0;34m\u001b[0m\u001b[0;34m\u001b[0m\u001b[0m\n",
            "\u001b[0;32m/usr/lib/python3.7/copy.py\u001b[0m in \u001b[0;36m_deepcopy_dict\u001b[0;34m(x, memo, deepcopy)\u001b[0m\n\u001b[1;32m    239\u001b[0m     \u001b[0mmemo\u001b[0m\u001b[0;34m[\u001b[0m\u001b[0mid\u001b[0m\u001b[0;34m(\u001b[0m\u001b[0mx\u001b[0m\u001b[0;34m)\u001b[0m\u001b[0;34m]\u001b[0m \u001b[0;34m=\u001b[0m \u001b[0my\u001b[0m\u001b[0;34m\u001b[0m\u001b[0;34m\u001b[0m\u001b[0m\n\u001b[1;32m    240\u001b[0m     \u001b[0;32mfor\u001b[0m \u001b[0mkey\u001b[0m\u001b[0;34m,\u001b[0m \u001b[0mvalue\u001b[0m \u001b[0;32min\u001b[0m \u001b[0mx\u001b[0m\u001b[0;34m.\u001b[0m\u001b[0mitems\u001b[0m\u001b[0;34m(\u001b[0m\u001b[0;34m)\u001b[0m\u001b[0;34m:\u001b[0m\u001b[0;34m\u001b[0m\u001b[0;34m\u001b[0m\u001b[0m\n\u001b[0;32m--> 241\u001b[0;31m         \u001b[0my\u001b[0m\u001b[0;34m[\u001b[0m\u001b[0mdeepcopy\u001b[0m\u001b[0;34m(\u001b[0m\u001b[0mkey\u001b[0m\u001b[0;34m,\u001b[0m \u001b[0mmemo\u001b[0m\u001b[0;34m)\u001b[0m\u001b[0;34m]\u001b[0m \u001b[0;34m=\u001b[0m \u001b[0mdeepcopy\u001b[0m\u001b[0;34m(\u001b[0m\u001b[0mvalue\u001b[0m\u001b[0;34m,\u001b[0m \u001b[0mmemo\u001b[0m\u001b[0;34m)\u001b[0m\u001b[0;34m\u001b[0m\u001b[0;34m\u001b[0m\u001b[0m\n\u001b[0m\u001b[1;32m    242\u001b[0m     \u001b[0;32mreturn\u001b[0m \u001b[0my\u001b[0m\u001b[0;34m\u001b[0m\u001b[0;34m\u001b[0m\u001b[0m\n\u001b[1;32m    243\u001b[0m \u001b[0md\u001b[0m\u001b[0;34m[\u001b[0m\u001b[0mdict\u001b[0m\u001b[0;34m]\u001b[0m \u001b[0;34m=\u001b[0m \u001b[0m_deepcopy_dict\u001b[0m\u001b[0;34m\u001b[0m\u001b[0;34m\u001b[0m\u001b[0m\n",
            "\u001b[0;32m/usr/lib/python3.7/copy.py\u001b[0m in \u001b[0;36mdeepcopy\u001b[0;34m(x, memo, _nil)\u001b[0m\n\u001b[1;32m    178\u001b[0m                     \u001b[0my\u001b[0m \u001b[0;34m=\u001b[0m \u001b[0mx\u001b[0m\u001b[0;34m\u001b[0m\u001b[0;34m\u001b[0m\u001b[0m\n\u001b[1;32m    179\u001b[0m                 \u001b[0;32melse\u001b[0m\u001b[0;34m:\u001b[0m\u001b[0;34m\u001b[0m\u001b[0;34m\u001b[0m\u001b[0m\n\u001b[0;32m--> 180\u001b[0;31m                     \u001b[0my\u001b[0m \u001b[0;34m=\u001b[0m \u001b[0m_reconstruct\u001b[0m\u001b[0;34m(\u001b[0m\u001b[0mx\u001b[0m\u001b[0;34m,\u001b[0m \u001b[0mmemo\u001b[0m\u001b[0;34m,\u001b[0m \u001b[0;34m*\u001b[0m\u001b[0mrv\u001b[0m\u001b[0;34m)\u001b[0m\u001b[0;34m\u001b[0m\u001b[0;34m\u001b[0m\u001b[0m\n\u001b[0m\u001b[1;32m    181\u001b[0m \u001b[0;34m\u001b[0m\u001b[0m\n\u001b[1;32m    182\u001b[0m     \u001b[0;31m# If is its own copy, don't memoize.\u001b[0m\u001b[0;34m\u001b[0m\u001b[0;34m\u001b[0m\u001b[0;34m\u001b[0m\u001b[0m\n",
            "\u001b[0;32m/usr/lib/python3.7/copy.py\u001b[0m in \u001b[0;36m_reconstruct\u001b[0;34m(x, memo, func, args, state, listiter, dictiter, deepcopy)\u001b[0m\n\u001b[1;32m    305\u001b[0m             \u001b[0;32mfor\u001b[0m \u001b[0mkey\u001b[0m\u001b[0;34m,\u001b[0m \u001b[0mvalue\u001b[0m \u001b[0;32min\u001b[0m \u001b[0mdictiter\u001b[0m\u001b[0;34m:\u001b[0m\u001b[0;34m\u001b[0m\u001b[0;34m\u001b[0m\u001b[0m\n\u001b[1;32m    306\u001b[0m                 \u001b[0mkey\u001b[0m \u001b[0;34m=\u001b[0m \u001b[0mdeepcopy\u001b[0m\u001b[0;34m(\u001b[0m\u001b[0mkey\u001b[0m\u001b[0;34m,\u001b[0m \u001b[0mmemo\u001b[0m\u001b[0;34m)\u001b[0m\u001b[0;34m\u001b[0m\u001b[0;34m\u001b[0m\u001b[0m\n\u001b[0;32m--> 307\u001b[0;31m                 \u001b[0mvalue\u001b[0m \u001b[0;34m=\u001b[0m \u001b[0mdeepcopy\u001b[0m\u001b[0;34m(\u001b[0m\u001b[0mvalue\u001b[0m\u001b[0;34m,\u001b[0m \u001b[0mmemo\u001b[0m\u001b[0;34m)\u001b[0m\u001b[0;34m\u001b[0m\u001b[0;34m\u001b[0m\u001b[0m\n\u001b[0m\u001b[1;32m    308\u001b[0m                 \u001b[0my\u001b[0m\u001b[0;34m[\u001b[0m\u001b[0mkey\u001b[0m\u001b[0;34m]\u001b[0m \u001b[0;34m=\u001b[0m \u001b[0mvalue\u001b[0m\u001b[0;34m\u001b[0m\u001b[0;34m\u001b[0m\u001b[0m\n\u001b[1;32m    309\u001b[0m         \u001b[0;32melse\u001b[0m\u001b[0;34m:\u001b[0m\u001b[0;34m\u001b[0m\u001b[0;34m\u001b[0m\u001b[0m\n",
            "\u001b[0;32m/usr/lib/python3.7/copy.py\u001b[0m in \u001b[0;36mdeepcopy\u001b[0;34m(x, memo, _nil)\u001b[0m\n\u001b[1;32m    178\u001b[0m                     \u001b[0my\u001b[0m \u001b[0;34m=\u001b[0m \u001b[0mx\u001b[0m\u001b[0;34m\u001b[0m\u001b[0;34m\u001b[0m\u001b[0m\n\u001b[1;32m    179\u001b[0m                 \u001b[0;32melse\u001b[0m\u001b[0;34m:\u001b[0m\u001b[0;34m\u001b[0m\u001b[0;34m\u001b[0m\u001b[0m\n\u001b[0;32m--> 180\u001b[0;31m                     \u001b[0my\u001b[0m \u001b[0;34m=\u001b[0m \u001b[0m_reconstruct\u001b[0m\u001b[0;34m(\u001b[0m\u001b[0mx\u001b[0m\u001b[0;34m,\u001b[0m \u001b[0mmemo\u001b[0m\u001b[0;34m,\u001b[0m \u001b[0;34m*\u001b[0m\u001b[0mrv\u001b[0m\u001b[0;34m)\u001b[0m\u001b[0;34m\u001b[0m\u001b[0;34m\u001b[0m\u001b[0m\n\u001b[0m\u001b[1;32m    181\u001b[0m \u001b[0;34m\u001b[0m\u001b[0m\n\u001b[1;32m    182\u001b[0m     \u001b[0;31m# If is its own copy, don't memoize.\u001b[0m\u001b[0;34m\u001b[0m\u001b[0;34m\u001b[0m\u001b[0;34m\u001b[0m\u001b[0m\n",
            "\u001b[0;32m/usr/lib/python3.7/copy.py\u001b[0m in \u001b[0;36m_reconstruct\u001b[0;34m(x, memo, func, args, state, listiter, dictiter, deepcopy)\u001b[0m\n\u001b[1;32m    279\u001b[0m     \u001b[0;32mif\u001b[0m \u001b[0mstate\u001b[0m \u001b[0;32mis\u001b[0m \u001b[0;32mnot\u001b[0m \u001b[0;32mNone\u001b[0m\u001b[0;34m:\u001b[0m\u001b[0;34m\u001b[0m\u001b[0;34m\u001b[0m\u001b[0m\n\u001b[1;32m    280\u001b[0m         \u001b[0;32mif\u001b[0m \u001b[0mdeep\u001b[0m\u001b[0;34m:\u001b[0m\u001b[0;34m\u001b[0m\u001b[0;34m\u001b[0m\u001b[0m\n\u001b[0;32m--> 281\u001b[0;31m             \u001b[0mstate\u001b[0m \u001b[0;34m=\u001b[0m \u001b[0mdeepcopy\u001b[0m\u001b[0;34m(\u001b[0m\u001b[0mstate\u001b[0m\u001b[0;34m,\u001b[0m \u001b[0mmemo\u001b[0m\u001b[0;34m)\u001b[0m\u001b[0;34m\u001b[0m\u001b[0;34m\u001b[0m\u001b[0m\n\u001b[0m\u001b[1;32m    282\u001b[0m         \u001b[0;32mif\u001b[0m \u001b[0mhasattr\u001b[0m\u001b[0;34m(\u001b[0m\u001b[0my\u001b[0m\u001b[0;34m,\u001b[0m \u001b[0;34m'__setstate__'\u001b[0m\u001b[0;34m)\u001b[0m\u001b[0;34m:\u001b[0m\u001b[0;34m\u001b[0m\u001b[0;34m\u001b[0m\u001b[0m\n\u001b[1;32m    283\u001b[0m             \u001b[0my\u001b[0m\u001b[0;34m.\u001b[0m\u001b[0m__setstate__\u001b[0m\u001b[0;34m(\u001b[0m\u001b[0mstate\u001b[0m\u001b[0;34m)\u001b[0m\u001b[0;34m\u001b[0m\u001b[0;34m\u001b[0m\u001b[0m\n",
            "\u001b[0;32m/usr/lib/python3.7/copy.py\u001b[0m in \u001b[0;36mdeepcopy\u001b[0;34m(x, memo, _nil)\u001b[0m\n\u001b[1;32m    148\u001b[0m     \u001b[0mcopier\u001b[0m \u001b[0;34m=\u001b[0m \u001b[0m_deepcopy_dispatch\u001b[0m\u001b[0;34m.\u001b[0m\u001b[0mget\u001b[0m\u001b[0;34m(\u001b[0m\u001b[0mcls\u001b[0m\u001b[0;34m)\u001b[0m\u001b[0;34m\u001b[0m\u001b[0;34m\u001b[0m\u001b[0m\n\u001b[1;32m    149\u001b[0m     \u001b[0;32mif\u001b[0m \u001b[0mcopier\u001b[0m\u001b[0;34m:\u001b[0m\u001b[0;34m\u001b[0m\u001b[0;34m\u001b[0m\u001b[0m\n\u001b[0;32m--> 150\u001b[0;31m         \u001b[0my\u001b[0m \u001b[0;34m=\u001b[0m \u001b[0mcopier\u001b[0m\u001b[0;34m(\u001b[0m\u001b[0mx\u001b[0m\u001b[0;34m,\u001b[0m \u001b[0mmemo\u001b[0m\u001b[0;34m)\u001b[0m\u001b[0;34m\u001b[0m\u001b[0;34m\u001b[0m\u001b[0m\n\u001b[0m\u001b[1;32m    151\u001b[0m     \u001b[0;32melse\u001b[0m\u001b[0;34m:\u001b[0m\u001b[0;34m\u001b[0m\u001b[0;34m\u001b[0m\u001b[0m\n\u001b[1;32m    152\u001b[0m         \u001b[0;32mtry\u001b[0m\u001b[0;34m:\u001b[0m\u001b[0;34m\u001b[0m\u001b[0;34m\u001b[0m\u001b[0m\n",
            "\u001b[0;32m/usr/lib/python3.7/copy.py\u001b[0m in \u001b[0;36m_deepcopy_dict\u001b[0;34m(x, memo, deepcopy)\u001b[0m\n\u001b[1;32m    239\u001b[0m     \u001b[0mmemo\u001b[0m\u001b[0;34m[\u001b[0m\u001b[0mid\u001b[0m\u001b[0;34m(\u001b[0m\u001b[0mx\u001b[0m\u001b[0;34m)\u001b[0m\u001b[0;34m]\u001b[0m \u001b[0;34m=\u001b[0m \u001b[0my\u001b[0m\u001b[0;34m\u001b[0m\u001b[0;34m\u001b[0m\u001b[0m\n\u001b[1;32m    240\u001b[0m     \u001b[0;32mfor\u001b[0m \u001b[0mkey\u001b[0m\u001b[0;34m,\u001b[0m \u001b[0mvalue\u001b[0m \u001b[0;32min\u001b[0m \u001b[0mx\u001b[0m\u001b[0;34m.\u001b[0m\u001b[0mitems\u001b[0m\u001b[0;34m(\u001b[0m\u001b[0;34m)\u001b[0m\u001b[0;34m:\u001b[0m\u001b[0;34m\u001b[0m\u001b[0;34m\u001b[0m\u001b[0m\n\u001b[0;32m--> 241\u001b[0;31m         \u001b[0my\u001b[0m\u001b[0;34m[\u001b[0m\u001b[0mdeepcopy\u001b[0m\u001b[0;34m(\u001b[0m\u001b[0mkey\u001b[0m\u001b[0;34m,\u001b[0m \u001b[0mmemo\u001b[0m\u001b[0;34m)\u001b[0m\u001b[0;34m]\u001b[0m \u001b[0;34m=\u001b[0m \u001b[0mdeepcopy\u001b[0m\u001b[0;34m(\u001b[0m\u001b[0mvalue\u001b[0m\u001b[0;34m,\u001b[0m \u001b[0mmemo\u001b[0m\u001b[0;34m)\u001b[0m\u001b[0;34m\u001b[0m\u001b[0;34m\u001b[0m\u001b[0m\n\u001b[0m\u001b[1;32m    242\u001b[0m     \u001b[0;32mreturn\u001b[0m \u001b[0my\u001b[0m\u001b[0;34m\u001b[0m\u001b[0;34m\u001b[0m\u001b[0m\n\u001b[1;32m    243\u001b[0m \u001b[0md\u001b[0m\u001b[0;34m[\u001b[0m\u001b[0mdict\u001b[0m\u001b[0;34m]\u001b[0m \u001b[0;34m=\u001b[0m \u001b[0m_deepcopy_dict\u001b[0m\u001b[0;34m\u001b[0m\u001b[0;34m\u001b[0m\u001b[0m\n",
            "\u001b[0;32m/usr/lib/python3.7/copy.py\u001b[0m in \u001b[0;36mdeepcopy\u001b[0;34m(x, memo, _nil)\u001b[0m\n\u001b[1;32m    167\u001b[0m                     \u001b[0mreductor\u001b[0m \u001b[0;34m=\u001b[0m \u001b[0mgetattr\u001b[0m\u001b[0;34m(\u001b[0m\u001b[0mx\u001b[0m\u001b[0;34m,\u001b[0m \u001b[0;34m\"__reduce_ex__\"\u001b[0m\u001b[0;34m,\u001b[0m \u001b[0;32mNone\u001b[0m\u001b[0;34m)\u001b[0m\u001b[0;34m\u001b[0m\u001b[0;34m\u001b[0m\u001b[0m\n\u001b[1;32m    168\u001b[0m                     \u001b[0;32mif\u001b[0m \u001b[0mreductor\u001b[0m\u001b[0;34m:\u001b[0m\u001b[0;34m\u001b[0m\u001b[0;34m\u001b[0m\u001b[0m\n\u001b[0;32m--> 169\u001b[0;31m                         \u001b[0mrv\u001b[0m \u001b[0;34m=\u001b[0m \u001b[0mreductor\u001b[0m\u001b[0;34m(\u001b[0m\u001b[0;36m4\u001b[0m\u001b[0;34m)\u001b[0m\u001b[0;34m\u001b[0m\u001b[0;34m\u001b[0m\u001b[0m\n\u001b[0m\u001b[1;32m    170\u001b[0m                     \u001b[0;32melse\u001b[0m\u001b[0;34m:\u001b[0m\u001b[0;34m\u001b[0m\u001b[0;34m\u001b[0m\u001b[0m\n\u001b[1;32m    171\u001b[0m                         \u001b[0mreductor\u001b[0m \u001b[0;34m=\u001b[0m \u001b[0mgetattr\u001b[0m\u001b[0;34m(\u001b[0m\u001b[0mx\u001b[0m\u001b[0;34m,\u001b[0m \u001b[0;34m\"__reduce__\"\u001b[0m\u001b[0;34m,\u001b[0m \u001b[0;32mNone\u001b[0m\u001b[0;34m)\u001b[0m\u001b[0;34m\u001b[0m\u001b[0;34m\u001b[0m\u001b[0m\n",
            "\u001b[0;31mKeyboardInterrupt\u001b[0m: "
          ]
        }
      ],
      "source": [
        "graph_val = model.train_network(num_epochs, given_fn, adam_optimizer, LOWER_BOUND, UPPER_BOUND, N_POINTS)"
      ]
    },
    {
      "cell_type": "code",
      "execution_count": 7,
      "metadata": {
        "id": "p7j57wogg0DM",
        "outputId": "c6d34283-0c83-48df-8a7e-5fcb8274b3c6",
        "colab": {
          "base_uri": "https://localhost:8080/"
        }
      },
      "outputs": [
        {
          "output_type": "stream",
          "name": "stdout",
          "text": [
            "epoch 0, loss 29.638412475585938\n",
            "epoch 1, loss 0.7530441284179688\n",
            "epoch 2, loss 8.83231258392334\n",
            "epoch 3, loss 14.829105377197266\n",
            "epoch 4, loss 9.399107933044434\n",
            "epoch 5, loss 2.5251247882843018\n",
            "epoch 6, loss 0.783149778842926\n",
            "epoch 7, loss 3.5676965713500977\n",
            "epoch 8, loss 6.131922245025635\n",
            "epoch 9, loss 5.697638988494873\n",
            "epoch 10, loss 3.2091867923736572\n",
            "epoch 11, loss 1.0375869274139404\n",
            "epoch 12, loss 0.6671668887138367\n",
            "epoch 13, loss 1.7899820804595947\n",
            "epoch 14, loss 2.950183153152466\n",
            "epoch 15, loss 3.0038504600524902\n",
            "epoch 16, loss 1.9651466608047485\n",
            "epoch 17, loss 0.7191212177276611\n",
            "epoch 18, loss 0.17536747455596924\n",
            "epoch 19, loss 0.5628992915153503\n",
            "epoch 20, loss 1.3318476676940918\n",
            "epoch 21, loss 1.712721347808838\n",
            "epoch 22, loss 1.3891135454177856\n",
            "epoch 23, loss 0.6655987501144409\n",
            "epoch 24, loss 0.10835736244916916\n",
            "epoch 25, loss 0.06493289023637772\n",
            "epoch 26, loss 0.4339546859264374\n",
            "epoch 27, loss 0.8138361573219299\n",
            "epoch 28, loss 0.8680288791656494\n",
            "epoch 29, loss 0.5795365571975708\n",
            "epoch 30, loss 0.20512911677360535\n",
            "epoch 31, loss 0.023354578763246536\n",
            "epoch 32, loss 0.11108587682247162\n",
            "epoch 33, loss 0.31786248087882996\n",
            "epoch 34, loss 0.4297225773334503\n",
            "epoch 35, loss 0.35815370082855225\n",
            "epoch 36, loss 0.18807099759578705\n",
            "epoch 37, loss 0.06873288005590439\n",
            "epoch 38, loss 0.07206326723098755\n",
            "epoch 39, loss 0.1475798785686493\n",
            "epoch 40, loss 0.1949758529663086\n",
            "epoch 41, loss 0.16650767624378204\n",
            "epoch 42, loss 0.09911731630563736\n",
            "epoch 43, loss 0.059614889323711395\n",
            "epoch 44, loss 0.07203859835863113\n",
            "epoch 45, loss 0.1017376258969307\n",
            "epoch 46, loss 0.10239598900079727\n",
            "epoch 47, loss 0.06762576103210449\n",
            "epoch 48, loss 0.0326099768280983\n",
            "epoch 49, loss 0.030685752630233765\n",
            "epoch 50, loss 0.056496813893318176\n",
            "epoch 51, loss 0.0747603178024292\n",
            "epoch 52, loss 0.060948945581912994\n",
            "epoch 53, loss 0.027064982801675797\n",
            "epoch 54, loss 0.006036245729774237\n",
            "epoch 55, loss 0.014994855038821697\n",
            "epoch 56, loss 0.03853122517466545\n",
            "epoch 57, loss 0.04809630662202835\n",
            "epoch 58, loss 0.033302295953035355\n",
            "epoch 59, loss 0.010396413505077362\n",
            "epoch 60, loss 0.0016615737695246935\n",
            "epoch 61, loss 0.011415498331189156\n",
            "epoch 62, loss 0.024490607902407646\n",
            "epoch 63, loss 0.025417765602469444\n",
            "epoch 64, loss 0.014577154070138931\n",
            "epoch 65, loss 0.0045870947651565075\n",
            "epoch 66, loss 0.004371676594018936\n",
            "epoch 67, loss 0.010449335910379887\n",
            "epoch 68, loss 0.013566468842327595\n",
            "epoch 69, loss 0.010259932838380337\n",
            "epoch 70, loss 0.0053145089186728\n",
            "epoch 71, loss 0.0042007421143352985\n",
            "epoch 72, loss 0.006422328297048807\n",
            "epoch 73, loss 0.007507305592298508\n",
            "epoch 74, loss 0.005495905876159668\n",
            "epoch 75, loss 0.003012202912941575\n",
            "epoch 76, loss 0.0030491650104522705\n",
            "epoch 77, loss 0.0048718536272645\n",
            "epoch 78, loss 0.005376758053898811\n",
            "epoch 79, loss 0.0034737340174615383\n",
            "epoch 80, loss 0.0013928982662037015\n",
            "epoch 81, loss 0.0014960994012653828\n",
            "epoch 82, loss 0.0031909800600260496\n",
            "epoch 83, loss 0.003948760684579611\n",
            "epoch 84, loss 0.0027013125363737345\n",
            "epoch 85, loss 0.0010122311068698764\n",
            "epoch 86, loss 0.0007927929400466383\n",
            "epoch 87, loss 0.0018884253222495317\n",
            "epoch 88, loss 0.002592001808807254\n",
            "epoch 89, loss 0.002003022935241461\n",
            "epoch 90, loss 0.0009785189758986235\n",
            "epoch 91, loss 0.0007269805646501482\n",
            "epoch 92, loss 0.0012451699003577232\n",
            "epoch 93, loss 0.0015985197387635708\n",
            "epoch 94, loss 0.0013109331484884024\n",
            "epoch 95, loss 0.0008499289397150278\n",
            "epoch 96, loss 0.0007805106579326093\n",
            "epoch 97, loss 0.0009975687135010958\n",
            "epoch 98, loss 0.0010421830229461193\n",
            "epoch 99, loss 0.0008282057824544609\n",
            "epoch 100, loss 0.0006799691473133862\n",
            "epoch 101, loss 0.0007667739992029965\n",
            "epoch 102, loss 0.0008673586416989565\n",
            "epoch 103, loss 0.000760406197514385\n",
            "epoch 104, loss 0.0005692706326954067\n",
            "epoch 105, loss 0.0005460967076942325\n",
            "epoch 106, loss 0.0006790569750592113\n",
            "epoch 107, loss 0.0007287681219168007\n",
            "epoch 108, loss 0.0005988830816932023\n",
            "epoch 109, loss 0.0004621103289537132\n",
            "epoch 110, loss 0.0004839449538849294\n",
            "epoch 111, loss 0.0005893782363273203\n",
            "epoch 112, loss 0.0006009271019138396\n",
            "epoch 113, loss 0.0005003077676519752\n",
            "epoch 114, loss 0.00042569200741127133\n",
            "epoch 115, loss 0.0004523090901784599\n",
            "epoch 116, loss 0.0005027555162087083\n",
            "epoch 117, loss 0.00048763316590338945\n",
            "epoch 118, loss 0.00043164900853298604\n",
            "epoch 119, loss 0.0004103511164430529\n",
            "epoch 120, loss 0.00043027271749451756\n",
            "epoch 121, loss 0.00043802522122859955\n",
            "epoch 122, loss 0.00041450138087384403\n",
            "epoch 123, loss 0.0003942440089304\n",
            "epoch 124, loss 0.00039801938692107797\n",
            "epoch 125, loss 0.00040226118289865553\n",
            "epoch 126, loss 0.00038656385731883347\n",
            "epoch 127, loss 0.0003683741088025272\n",
            "epoch 128, loss 0.0003694243496283889\n",
            "epoch 129, loss 0.00037818096461705863\n",
            "epoch 130, loss 0.00037125626113265753\n",
            "epoch 131, loss 0.00035273635876365006\n",
            "epoch 132, loss 0.0003453445970080793\n",
            "epoch 133, loss 0.0003524963103700429\n",
            "epoch 134, loss 0.00035499889054335654\n",
            "epoch 135, loss 0.0003435210383031517\n",
            "epoch 136, loss 0.00033138817525468767\n",
            "epoch 137, loss 0.00033071008510887623\n",
            "epoch 138, loss 0.00033445103326812387\n",
            "epoch 139, loss 0.0003308281593490392\n",
            "epoch 140, loss 0.0003219328646082431\n",
            "epoch 141, loss 0.00031732465140521526\n",
            "c value = tensor([62.8300], grad_fn=<MulBackward0>)\n",
            "LOSS VALUE = tensor([1.2546], grad_fn=<MulBackward0>)\n"
          ]
        }
      ],
      "source": [
        "graph_val_pen = model.train_network_with_penalty(num_epochs, given_fn, adam_optimizer, LAMBDA_PEN, LOWER_BOUND, UPPER_BOUND, N_POINTS)"
      ]
    },
    {
      "cell_type": "code",
      "source": [
        "### Model result using epsilon loss function with penalty\n",
        "print(\"Penalty lambda value = \" + str(LAMBDA_PEN))\n",
        "print(\"Interval is [{lb}, {ub}]\".format(lb=LOWER_BOUND, ub=UPPER_BOUND))\n",
        "# Plot 1: The epsilon_loss with lambda penalty:\n",
        "\n",
        "# Plot 2: The epsilon_loss value when using train with penalty:\n",
        "\n",
        "# Plot 3: the model's output with input from the interval [LOWER_BOUND, UPPER_BOUND]:\n",
        "x_vals = [torch.tensor([i], requires_grad=True, dtype=torch.float) for i in x_train]\n",
        "\n",
        "model_output = []\n",
        "for i in x_vals:\n",
        "    model_output.append(model(i).detach().numpy().item())\n",
        "\n",
        "plot_figure(x_values, model_output)\n",
        "# model_output"
      ],
      "metadata": {
        "id": "Hl5KH2lsp642",
        "outputId": "3bfe090c-acdb-434c-f9e2-21d31242fa91",
        "colab": {
          "base_uri": "https://localhost:8080/",
          "height": 465
        }
      },
      "execution_count": 30,
      "outputs": [
        {
          "output_type": "stream",
          "name": "stdout",
          "text": [
            "Penalty lambda value = 100\n",
            "Interval is [-6, 6]\n"
          ]
        },
        {
          "output_type": "display_data",
          "data": {
            "text/plain": [
              "<Figure size 432x288 with 0 Axes>"
            ]
          },
          "metadata": {}
        },
        {
          "output_type": "display_data",
          "data": {
            "text/plain": [
              "<Figure size 640x480 with 1 Axes>"
            ],
            "image/png": "[encoded data removed]"
          },
          "metadata": {
            "needs_background": "light"
          }
        }
      ]
    },
    {
      "cell_type": "code",
      "execution_count": null,
      "metadata": {
        "colab": {
          "base_uri": "https://localhost:8080/",
          "height": 430
        },
        "id": "jd2I0gRqHO8Z",
        "outputId": "15978184-99da-4f52-d206-d0deff5669aa"
      },
      "outputs": [
        {
          "data": {
            "text/plain": [
              "<Figure size 432x288 with 0 Axes>"
            ]
          },
          "metadata": {},
          "output_type": "display_data"
        },
        {
          "data": {
            "image/png": "[encoded data removed]",
            "text/plain": [
              "<Figure size 640x480 with 1 Axes>"
            ]
          },
          "metadata": {
            "needs_background": "light"
          },
          "output_type": "display_data"
        }
      ],
      "source": [
        "plot_figure(graph_val[0][150:], loss_val[150:])"
      ]
    },
    {
      "cell_type": "markdown",
      "metadata": {
        "id": "3GZ9S2gz-JM1"
      },
      "source": [
        "Dear professor, here's my current progress:\n",
        "1. I implement epsilon_Loss_penalty function. Now, the training process will iterate until it counts 5 consecutive times the loss difference between the current loss values with its previous loss < 1e-5. \n",
        "\n",
        "    Then, it finds the normalization constant c and apply to model.output weight layer and its bias. Then the algorithm updates the normalized output weight layer for the model. \n",
        "\n",
        "    The result: the training process only takes < 300 epochs to converge to a loss value of 78.7160. This occurs consistently after several re-runs. The problem: the constant c is 1 from my normalization function. I'm looking for a normalization from the PyTorch library to use instead. Please let me know if I can use this function for the normalization part: [PyTorch normalization function](https://pytorch.org/docs/stable/generated/torch.nn.functional.normalize.html)\n"
      ]
    },
    {
      "cell_type": "code",
      "execution_count": null,
      "metadata": {
        "colab": {
          "base_uri": "https://localhost:8080/",
          "height": 430
        },
        "id": "yOAl63W0qaq_",
        "outputId": "0966c5cc-146b-4f15-d330-522a5eafc1e6"
      },
      "outputs": [
        {
          "data": {
            "text/plain": [
              "<Figure size 432x288 with 0 Axes>"
            ]
          },
          "metadata": {},
          "output_type": "display_data"
        },
        {
          "data": {
            "image/png": "[encoded data removed]",
            "text/plain": [
              "<Figure size 640x480 with 1 Axes>"
            ]
          },
          "metadata": {
            "needs_background": "light"
          },
          "output_type": "display_data"
        }
      ],
      "source": [
        "plot_figure(x_train, y_train)"
      ]
    },
    {
      "cell_type": "code",
      "execution_count": null,
      "metadata": {
        "id": "el6VL83Qddfj"
      },
      "outputs": [],
      "source": [
        ""
      ]
    },
    {
      "cell_type": "markdown",
      "metadata": {
        "id": "VPn9pDNlm88W"
      },
      "source": [
        "# HOW TO TRAIN THE NN MODEL:\n",
        "1. Reset adam_optimizer: \n",
        "```adam_opt.zero_grad()```\n",
        "2. Calculate loss\n",
        "3. Update the optimizer: \n",
        "```adam_opt.step()```\n",
        "\n",
        "\n",
        "        weight = weight - lr * gradient\n",
        "\n",
        "-> use lr and gradient to \"improve\" weight layer. \n",
        "\n",
        "Explanation:\n",
        "```adam_opt.step()```: Update the model's parameters \n"
      ]
    },
    {
      "cell_type": "code",
      "execution_count": null,
      "metadata": {
        "id": "0VfCCteSFrC8"
      },
      "outputs": [],
      "source": [
        "model_p = Nonlinear_2(4)\n",
        "adam_opt = torch.optim.Adam(model_p.parameters(), \n",
        "                                    lr=learningRate, \n",
        "                                    betas=(0.9, 0.999), \n",
        "                                    eps=1e-08, \n",
        "                                    weight_decay=0, \n",
        "                                    amsgrad=False)"
      ]
    },
    {
      "cell_type": "code",
      "execution_count": null,
      "metadata": {
        "colab": {
          "base_uri": "https://localhost:8080/"
        },
        "id": "MUjHqCmkNRzB",
        "outputId": "a8eba8cf-5f24-45cf-f588-85f437d798fc"
      },
      "outputs": [
        {
          "name": "stdout",
          "output_type": "stream",
          "text": [
            "tensor([-0.5799], grad_fn=<AddBackward0>)\n"
          ]
        }
      ],
      "source": [
        "x_i = torch.tensor([-2.5], requires_grad=True, dtype=torch.float)\n",
        "u_xi = model_p(x_i)\n",
        "print(u_xi)\n",
        "u_xi.backward()\n",
        "u_prime = x_i.grad"
      ]
    },
    {
      "cell_type": "code",
      "execution_count": null,
      "metadata": {
        "colab": {
          "base_uri": "https://localhost:8080/"
        },
        "id": "0A2qd2M1OXQ5",
        "outputId": "224f75ed-733d-4edc-f3ad-3d78dac7f66a"
      },
      "outputs": [
        {
          "name": "stdout",
          "output_type": "stream",
          "text": [
            "- Hidden layers: \n",
            "Parameter containing:\n",
            "tensor([[-0.4363],\n",
            "        [-0.2556],\n",
            "        [ 0.6323],\n",
            "        [-0.8666]], requires_grad=True)\n",
            "\n",
            "\n",
            "- Hidden layers gradients (derivative of Loss w.r.t model params): \n",
            "None\n",
            "Parameter containing:\n",
            "tensor([ 0.9463, -0.8034, -0.8181,  0.5812], requires_grad=True)\n",
            "\n",
            "\n",
            "Output layers: \n",
            "Parameter containing:\n",
            "tensor([[-0.3294, -0.3360,  0.0453, -0.0283]], requires_grad=True)\n",
            "None\n",
            "Parameter containing:\n",
            "tensor([0.4850], requires_grad=True)\n"
          ]
        }
      ],
      "source": [
        "# Access the model's parameters:\n",
        "# Model's hidden layer weight and bias\n",
        "print(\"- Hidden layers: \")\n",
        "print(model_p.hidden.weight)\n",
        "print(\"\\n\")\n",
        "\n",
        "print(\"- Hidden layers gradients (derivative of Loss w.r.t model params): \")\n",
        "print(model_p.hidden.weight.grad)\n",
        "print(model_p.hidden.bias)\n",
        "print(\"\\n\")\n",
        "\n",
        "# Model's output layer weight and bias\n",
        "print(\"Output layers: \")\n",
        "print(model_p.output.weight)\n",
        "print(model_p.hidden.weight.grad)\n",
        "print(model_p.output.bias)\n",
        "\n",
        "# model.zero_grad()\n",
        "\n",
        "i, o = (x_train[0], y_train[0])\n",
        "i = Variable(torch.from_numpy(i))\n",
        "o = Variable(torch.from_numpy(o))\n"
      ]
    },
    {
      "cell_type": "code",
      "execution_count": null,
      "metadata": {
        "colab": {
          "base_uri": "https://localhost:8080/"
        },
        "id": "BA_91qCHWhjs",
        "outputId": "20a262ba-f9a2-4cf1-b0c4-110596eb2f63"
      },
      "outputs": [
        {
          "name": "stdout",
          "output_type": "stream",
          "text": [
            "- Hidden layers: \n",
            "Parameter containing:\n",
            "tensor([[-0.4363],\n",
            "        [-0.2556],\n",
            "        [ 0.6323],\n",
            "        [-0.8666]], requires_grad=True)\n",
            "\n",
            "\n",
            "- Hidden layers gradients (derivative of Loss w.r.t model params): \n",
            "None\n",
            "Parameter containing:\n",
            "tensor([ 0.9463, -0.8034, -0.8181,  0.5812], requires_grad=True)\n",
            "\n",
            "\n",
            "Output layers: \n",
            "Parameter containing:\n",
            "tensor([[-0.3294, -0.3360,  0.0453, -0.0283]], requires_grad=True)\n",
            "None\n",
            "Parameter containing:\n",
            "tensor([0.4850], requires_grad=True)\n"
          ]
        }
      ],
      "source": [
        "print(\"- Hidden layers: \")\n",
        "print(model_p.hidden.weight)\n",
        "print(\"\\n\")\n",
        "\n",
        "print(\"- Hidden layers gradients (derivative of Loss w.r.t model params): \")\n",
        "print(model_p.hidden.weight.grad)\n",
        "print(model_p.hidden.bias)\n",
        "print(\"\\n\")\n",
        "\n",
        "# Model's output layer weight and bias\n",
        "print(\"Output layers: \")\n",
        "print(model_p.output.weight)\n",
        "print(model_p.hidden.weight.grad)\n",
        "print(model_p.output.bias)\n",
        "\n",
        "# model.zero_grad()\n",
        "\n",
        "i, o = (x_train[0], y_train[0])\n",
        "i = Variable(torch.from_numpy(i))\n",
        "o = Variable(torch.from_numpy(o))"
      ]
    },
    {
      "cell_type": "code",
      "execution_count": null,
      "metadata": {
        "colab": {
          "base_uri": "https://localhost:8080/"
        },
        "id": "6jQeEbaMHkeA",
        "outputId": "32d5985d-7d0f-4048-c555-7ef3785149ca"
      },
      "outputs": [
        {
          "data": {
            "text/plain": [
              "tensor([0., 0., 0.])"
            ]
          },
          "execution_count": 54,
          "metadata": {},
          "output_type": "execute_result"
        }
      ],
      "source": [
        "x.grad.zero_()"
      ]
    },
    {
      "cell_type": "code",
      "execution_count": null,
      "metadata": {
        "colab": {
          "base_uri": "https://localhost:8080/"
        },
        "id": "zkmedTJ6J1Hr",
        "outputId": "01a83e6e-280c-4a72-d9c4-bff991258866"
      },
      "outputs": [
        {
          "name": "stdout",
          "output_type": "stream",
          "text": [
            "tensor([True, True])\n",
            "tensor([True, True])\n"
          ]
        }
      ],
      "source": [
        "a = torch.tensor([2., 3.], requires_grad=True)\n",
        "b = torch.tensor([6., 4.], requires_grad=True)\n",
        "\n",
        "t = 3*a**3 - b**2\n",
        "\n",
        "external_grad = torch.tensor([1., 1.])\n",
        "t.backward(gradient=external_grad)\n",
        "\n",
        "print(9*a**2 == a.grad)\n",
        "print(-2*b == b.grad)"
      ]
    },
    {
      "cell_type": "markdown",
      "metadata": {
        "id": "ZyuNXuz-iLBZ"
      },
      "source": [
        "https://neptune.ai/blog/pytorch-loss-functions\n",
        "https://stackoverflow.com/questions/53980031/pytorch-custom-loss-function\n",
        "https://stackoverflow.com/questions/65947284/loss-with-custom-backward-function-in-pytorch-exploding-loss-in-simple-mse-exa\n",
        "https://www.youtube.com/watch?v=ma2KXWblllc"
      ]
    },
    {
      "cell_type": "code",
      "execution_count": null,
      "metadata": {
        "id": "M0PS0efCiJCp"
      },
      "outputs": [],
      "source": [
        ""
      ]
    }
  ],
  "metadata": {
    "colab": {
      "name": "PyTorch_.ipynb",
      "provenance": []
    },
    "kernelspec": {
      "display_name": "Python 3",
      "language": "python",
      "name": "python3"
    },
    "language_info": {
      "codemirror_mode": {
        "name": "ipython",
        "version": 3
      },
      "file_extension": ".py",
      "mimetype": "text/x-python",
      "name": "python",
      "nbconvert_exporter": "python",
      "pygments_lexer": "ipython3",
      "version": "3.7.7"
    },
    "vscode": {
      "interpreter": {
        "hash": "8c21580189d9a9d7f1e3fef63ff70de58083dda94aa35d8ed937f03fa405217e"
      }
    }
  },
  "nbformat": 4,
  "nbformat_minor": 0
}