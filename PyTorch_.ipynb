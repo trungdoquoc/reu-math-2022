{
  "cells": [
    {
      "cell_type": "markdown",
      "metadata": {
        "id": "MpofWgGancyb"
      },
      "source": [
        "The input of the NN is 1D. "
      ]
    },
    {
      "cell_type": "code",
      "execution_count": 7,
      "metadata": {
        "id": "e-NAhHF3ncye"
      },
      "outputs": [],
      "source": [
        "import numpy as np\n",
        "import copy\n",
        "import torch\n",
        "import torch.nn as nn\n",
        "import math\n",
        "from torch.autograd import Variable\n",
        "import matplotlib.pyplot as plt\n",
        "\n",
        "def quad_fn(a, b, c, x):\n",
        "    return a*x**2 + b*x + c\n",
        "\n",
        "def x_square(x: torch.tensor) -> torch.Tensor:\n",
        "    return x**2\n",
        "\n",
        "# DEFINE GIVEN FUNCTION V(x): ax^2 + bx + c\n",
        "given_fn = x_square"
      ]
    },
    {
      "cell_type": "code",
      "execution_count": 8,
      "metadata": {
        "id": "SOtFslmCncyg"
      },
      "outputs": [],
      "source": [
        "# CUSTOM LOSS FUNCTION:\n",
        "# def EpsilonLoss(nn.Module):\n",
        "\n",
        "def epsilon_Loss(v_x, model_u, lower_bound, upper_bound, n_points):\n",
        "    \"\"\"\n",
        "    GOAL: Epsilon function evaluated at u using discretized estimation\n",
        "    minimizing Epsilon(u) = \n",
        "    \n",
        "    ARGS: \n",
        "    n_points (int): number of discretized points on the interval [-L, L]\n",
        "    e.g.: -(L)|---|---|---|---|(L) interval has n_points = 5\n",
        "\n",
        "    v_x (torch.Tensor): function instance\n",
        "    model_u (torch.Tensor): model output\n",
        "    \"\"\"\n",
        "    total = 0\n",
        "    discrete_points = np.linspace(lower_bound, upper_bound, n_points)\n",
        "    h = discrete_points[1] - discrete_points[0]\n",
        "    for i in discrete_points:\n",
        "        x_i = torch.tensor([i], requires_grad=True, dtype=torch.float)\n",
        "        u_xi = model_u(x_i)\n",
        "\n",
        "        u_prime = model_u.u_prime_2(x_i)\n",
        "        \n",
        "        v_xi = v_x(i)\n",
        "        t = torch.abs(torch.square(u_prime)) + v_xi*(u_xi**2)\n",
        "        total += t\n",
        "    return 0.5*h*total\n",
        "\n",
        "def epsilon_Loss_penalty(v_x, model_u, lambda_pen,\n",
        "                         lower_bound, upper_bound, n_points):\n",
        "    \"\"\"\n",
        "    \n",
        "    \"\"\"\n",
        "    eps_sum = 0\n",
        "    pen = 0\n",
        "\n",
        "    discrete_points = np.linspace(lower_bound, upper_bound, n_points)\n",
        "    h = discrete_points[1] - discrete_points[0]\n",
        "    for i in discrete_points:\n",
        "        x_i = torch.tensor([i], requires_grad=True, dtype=torch.float)\n",
        "        u_prime = model_u.u_prime_2(x_i)\n",
        "        \n",
        "        u_xi = model_u(x_i)\n",
        "        v_xi = v_x(i)\n",
        "\n",
        "        t = torch.abs(torch.square(u_prime)) + v_xi*torch.square(u_xi)\n",
        "        eps_sum += t\n",
        "    epsilon_fn = 0.5*h*eps_sum\n",
        "    \n",
        "    temp = 0\n",
        "    for i in discrete_points:\n",
        "        x_i = torch.tensor([i], requires_grad=True, dtype=torch.float)\n",
        "        temp += torch.square(model_u(x_i))\n",
        "    \n",
        "    pen = lambda_pen * torch.square((h * temp-1))\n",
        "    return epsilon_fn + pen \n",
        "\n",
        "# NORMALIZE MODEL u(x) OUTPUT:\n",
        "def normalize_u(model_u, lower_bound, upper_bound, n_points):\n",
        "    \"\"\"\n",
        "    Normalize model.output weight by: \n",
        "    model.output *= c\n",
        "    where,\n",
        "    scalar c = 1/denom\n",
        "    \"\"\"\n",
        "    discrete_points = np.linspace(lower_bound, upper_bound, n_points)\n",
        "    h = discrete_points[1] - discrete_points[0]\n",
        "    s = 0\n",
        "    for i in discrete_points:\n",
        "        x_i = torch.tensor([i], requires_grad=True, dtype=torch.float)\n",
        "        s += model_u(x_i)**2\n",
        "    denom = math.sqrt(h) * torch.sqrt(s)\n",
        "    return 1/denom"
      ]
    },
    {
      "cell_type": "code",
      "execution_count": 9,
      "metadata": {
        "id": "06QWhlkpQ5Eh"
      },
      "outputs": [],
      "source": [
        "# CREATING MODEL CLASS\n",
        "class Nonlinear(nn.Module):\n",
        "    def __init__(self, n):\n",
        "        # One hidden layer with n nodes\n",
        "        super().__init__()\n",
        "        self.hidden = nn.Linear(1, n)\n",
        "        self.output = nn.Linear(n, 1)\n",
        "        \n",
        "        self.sigmoid = nn.Sigmoid()\n",
        "        self.tanh = nn.Tanh()\n",
        "        self.target_fn = given_fn\n",
        "\n",
        "    def forward(self, x, use_tanh_fn = False):\n",
        "        if use_tanh_fn == True:\n",
        "            x = self.hidden(x)\n",
        "            x = self.tanh(x)\n",
        "            x = self.output(x)\n",
        "        else:\n",
        "            x = self.hidden(x)\n",
        "            x = self.sigmoid(x)\n",
        "            x = self.output(x)\n",
        "        return x\n",
        "\n",
        "    def normalize_model(self, lower_bound, upper_bound, n_points):\n",
        "        \"\"\"\n",
        "        GOAL: Normalize the output weight layer\n",
        "        \"\"\"\n",
        "        print(\"Before normalization: \")\n",
        "        print(self.output.weight.data)\n",
        "        print(self.output.bias.data)\n",
        "        \n",
        "        c = normalize_u(self, lower_bound, upper_bound, n_points)\n",
        "        self.output.weight.data.copy_(c.item() * self.output.weight.data)\n",
        "        self.output.bias.data.copy_(c.item() * self.output.bias.data)\n",
        "\n",
        "        print(\"After normalization: \")\n",
        "        print(self.output.weight.data)\n",
        "        print(self.output.bias.data)\n",
        "        print(\"c value = \" + str(c))\n",
        "\n",
        "        return \n",
        "\n",
        "    def u_prime_2(self, input):\n",
        "        i_tensor = torch.tensor([input.item()], requires_grad=True, dtype=torch.float)\n",
        "        clone_model = copy.deepcopy(self)\n",
        "        res = clone_model(i_tensor)\n",
        "        res.backward()\n",
        "        \n",
        "        val = 0\n",
        "        val += i_tensor.grad\n",
        "\n",
        "        del i_tensor\n",
        "        del clone_model\n",
        "        \n",
        "        return val\n",
        "\n",
        "    def u_prime(self, input):\n",
        "        \"\"\"\n",
        "        NN with 1 hidden node layer is of the form:\n",
        "        u(x) = SUM_i_to_N(a_i * sigmoid(w.x + b))\n",
        "\n",
        "        where\n",
        "        a_i is the corresponding weight of self.output layerq\n",
        "        w is self.hidden.weight vector\n",
        "        b is self.hidden.bias vector\n",
        "        sigmoid(w.x + b) is the sigmoid-activated hidden vector\n",
        "\n",
        "        Formula of u'(x) (for 1 hidden layer NN):\n",
        "        u'(x) = SUM_i_to_N(w_i*a_i*sigmoid'(w_i*x+b))\n",
        "        Note: sigmoid'(w_i*x +b) = sigmoid(w_i*x+b)*(1-sigmoid(w_i*x+b))\n",
        "        \"\"\"\n",
        "        a_i = self.output.weight.data\n",
        "        w_i = torch.transpose(self.hidden.weight.data, 0, 1)\n",
        "        wi_ai = w_i * a_i\n",
        "\n",
        "        hid_layer = self.hidden(input)\n",
        "        hid_layer_T = torch.reshape(hid_layer, (list(hid_layer.shape)[0], 1))\n",
        "        m = hid_layer_T * (1-hid_layer_T)\n",
        "\n",
        "        return wi_ai @ m\n",
        "    \n",
        "# TRANING MODEL\n",
        "    def train_network_with_penalty(self, num_epochs, v_x, optimizer, lambda_pen,\n",
        "                                    lower_bound, upper_bound, n_points):\n",
        "        # For plotting loss value over epochs:\n",
        "        x_epochs = []\n",
        "        y_loss = []\n",
        "        y_loss_pen = []\n",
        "\n",
        "        # stopping criterion:\n",
        "        stop_counter = 0\n",
        "\n",
        "        for epoch in range(num_epochs):\n",
        "            optimizer.zero_grad()\n",
        "            loss_pen = epsilon_Loss_penalty(v_x, self, lambda_pen,\n",
        "                                        lower_bound, upper_bound, n_points)\n",
        "            loss = epsilon_Loss(v_x, self,\n",
        "                                lower_bound, upper_bound, n_points)\n",
        "            \n",
        "            y_loss_pen.append(loss_pen.detach().numpy().item())\n",
        "            y_loss.append(loss.detach().numpy().item())\n",
        "            x_epochs.append(epoch)\n",
        "\n",
        "            #check if need to stop training:\n",
        "            if epoch > 0 and stop_counter >= 5:\n",
        "\n",
        "                #Normalize model before return\n",
        "                self.normalize_model(lower_bound, upper_bound, n_points)\n",
        "\n",
        "                print(\"LOSS VALUE WITH LAMBDA PENALTY = \" \n",
        "                      + str(epsilon_Loss_penalty(v_x, self, lambda_pen,\n",
        "                                                 lower_bound, upper_bound, n_points)))\n",
        "                print(\"LOSS VALUE  = \" \n",
        "                      + str(epsilon_Loss(v_x, self, lower_bound, upper_bound, n_points)))\n",
        "                \n",
        "                break\n",
        "            elif epoch > 0 and stop_counter < 5:\n",
        "                if torch.abs(y_loss_pen[epoch-1]-loss_pen) <= 1e-5:\n",
        "                    stop_counter += 1\n",
        "                else:\n",
        "                    stop_counter = 0\n",
        "            else:\n",
        "                print(\"Uncatched case\")\n",
        "\n",
        "            print('epoch {}, loss with penalty {}'.format(epoch, loss_pen.item()))\n",
        "            loss_pen.backward()\n",
        "            optimizer.step()\n",
        "\n",
        "        return (x_epochs, y_loss_pen, y_loss)\n",
        "\n",
        "    def train_network(self, num_epochs, v_x, optimizer,\n",
        "                                    lower_bound, upper_bound, n_points):\n",
        "        # For plotting loss value over epochs:\n",
        "        x_epochs = []\n",
        "        y_loss = []\n",
        "        \n",
        "        # stopping criterion:\n",
        "        stop_counter = 0\n",
        "\n",
        "        for epoch in range(num_epochs):\n",
        "\n",
        "            if epoch > 0 and epoch % 50 == 0:\n",
        "                c = normalize_u(self, lower_bound, upper_bound, n_points)\n",
        "                print(\"Pre normalize: \")\n",
        "                print(self.output.weight.data)\n",
        "                print(self.output.bias.data)\n",
        "                print(\"After normalize: \")\n",
        "                \n",
        "                self.normalize_model(lower_bound, upper_bound, n_points)\n",
        "                \n",
        "                print(self.output.weight.data)\n",
        "                print(self.output.bias.data)\n",
        "                print(\"c value = \" + str(c))\n",
        "            optimizer.zero_grad()\n",
        "            loss = epsilon_Loss(v_x, self,\n",
        "                                lower_bound, upper_bound, n_points)\n",
        "            y_loss.append(loss.detach().numpy().item())\n",
        "            x_epochs.append(epoch)\n",
        "            #check if need to stop training:\n",
        "            if epoch > 0 and stop_counter >= 5:\n",
        "                print(\"LOSS VALUE = \" \n",
        "                      + str(epsilon_Loss(v_x, self, lower_bound, upper_bound, n_points)))\n",
        "                break\n",
        "            elif epoch > 0 and stop_counter < 5:\n",
        "                if torch.abs(y_loss[epoch-1]-loss) <= 1e-5:\n",
        "                    stop_counter += 1\n",
        "                else:\n",
        "                    stop_counter = 0\n",
        "\n",
        "            print('epoch {}, loss {}'.format(epoch, loss.item()))\n",
        "            loss.backward()\n",
        "            optimizer.step()\n",
        "\n",
        "        return (x_epochs, y_loss)\n",
        "        "
      ]
    },
    {
      "cell_type": "code",
      "execution_count": 11,
      "metadata": {
        "id": "hbBxk8_fncyl"
      },
      "outputs": [],
      "source": [
        "# DEFINE HYPER-PARAMETERS\n",
        "batch_size = 50\n",
        "learningRate = 0.05\n",
        "num_epochs = 500\n",
        "\n",
        "#INIT MODEL\n",
        "model = Nonlinear(20)\n",
        "if torch.cuda.is_available():\n",
        "    model.cuda()\n",
        "\n",
        "# INIT OPTIMIZER CLASS\n",
        "# Adam:\n",
        "adam_optimizer = torch.optim.Adam(model.parameters(), \n",
        "                                    lr=learningRate, \n",
        "                                    betas=(0.9, 0.999), \n",
        "                                    eps=1e-08, \n",
        "                                    weight_decay=0, \n",
        "                                    amsgrad=False)"
      ]
    },
    {
      "cell_type": "code",
      "execution_count": 10,
      "metadata": {
        "colab": {
          "base_uri": "https://localhost:8080/"
        },
        "id": "EstQ_ILqQeOt",
        "outputId": "d47353ac-2ad2-4a3f-bbba-c932e4b8a32e"
      },
      "outputs": [
        {
          "output_type": "stream",
          "name": "stdout",
          "text": [
            "(1000, 1) (1000, 1)\n"
          ]
        }
      ],
      "source": [
        "INPUT_SIZE = 1\n",
        "OUTPUT_SIZE = 1\n",
        "\n",
        "LAMBDA_PEN = 100\n",
        "LOWER_BOUND = -10\n",
        "UPPER_BOUND = 10\n",
        "N_POINTS = 1000\n",
        "\n",
        "# CREATING DATASET:\n",
        "x_values = [i for i in np.linspace(LOWER_BOUND, UPPER_BOUND, N_POINTS)]\n",
        "y_values = [given_fn(i) for i in x_values]\n",
        "\n",
        "x_train = np.array(x_values, dtype=np.float32).reshape(-1, 1)\n",
        "y_train = np.array(y_values, dtype=np.float32).reshape(-1, 1)\n",
        "\n",
        "print(x_train.shape, y_train.shape)"
      ]
    },
    {
      "cell_type": "code",
      "execution_count": 12,
      "metadata": {
        "id": "sjtOBhyZLspO"
      },
      "outputs": [],
      "source": [
        "# PLOT DATA\n",
        "def plot_figure(x_val, y_val, x_test=None, predicted=None):\n",
        "    plt.clf()\n",
        "    plt.figure(figsize=(8, 6), dpi=80)\n",
        "    plt.plot(x_val, y_val, '--', label='True data', alpha=0.5)\n",
        "    if predicted != None:\n",
        "        plt.plot(x_test, predicted, '--', label='Predictions', alpha=0.5)\n",
        "    plt.legend(loc='best')\n",
        "    plt.show()"
      ]
    },
    {
      "cell_type": "code",
      "execution_count": null,
      "metadata": {
        "colab": {
          "base_uri": "https://localhost:8080/"
        },
        "id": "jrXELb9XQRWk",
        "outputId": "86081822-01d3-47b6-d322-2ecbe6e51c16"
      },
      "outputs": [
        {
          "output_type": "stream",
          "name": "stdout",
          "text": [
            "Mounted at /content/gdrive\n"
          ]
        }
      ],
      "source": [
        "from google.colab import drive\n",
        "drive.mount('/content/gdrive')"
      ]
    },
    {
      "cell_type": "code",
      "execution_count": null,
      "metadata": {
        "id": "1dJT6QtaQn_k"
      },
      "outputs": [],
      "source": [
        "#SAVE MODEL TO DRIVE\n",
        "model_save_name = 'latest_model.pt'\n",
        "path = F\"/content/gdrive/My Drive/{model_save_name}\" \n",
        "torch.save(model.state_dict(), path)"
      ]
    },
    {
      "cell_type": "code",
      "execution_count": null,
      "metadata": {
        "id": "OM_PKa9WRBGk",
        "outputId": "be55f720-ce35-4f27-88d4-16ae0cf22931",
        "colab": {
          "base_uri": "https://localhost:8080/"
        }
      },
      "outputs": [
        {
          "output_type": "execute_result",
          "data": {
            "text/plain": [
              "<All keys matched successfully>"
            ]
          },
          "metadata": {},
          "execution_count": 47
        }
      ],
      "source": [
        "#LOAD MODEL FROM DRIVE\n",
        "model_save_name = 'latest_model.pt'\n",
        "path = F\"/content/gdrive/My Drive/{model_save_name}\"\n",
        "model.load_state_dict(torch.load(path))"
      ]
    },
    {
      "cell_type": "code",
      "source": [
        "p_f_res = model.train_network_with_penalty(num_epochs, p_f, adam_optimizer, LAMBDA_PEN, LOWER_BOUND, UPPER_BOUND, N_POINTS)"
      ],
      "metadata": {
        "id": "x-Pu1uVsIF-G",
        "outputId": "2114c4da-60a3-407d-9c3e-cb4cd46c2ca0",
        "colab": {
          "base_uri": "https://localhost:8080/"
        }
      },
      "execution_count": null,
      "outputs": [
        {
          "output_type": "stream",
          "name": "stdout",
          "text": [
            "Uncatched case\n",
            "epoch 0, loss with penalty 67.6902084350586\n",
            "epoch 1, loss with penalty 7289.74658203125\n",
            "epoch 2, loss with penalty 77.66365814208984\n",
            "epoch 3, loss with penalty 67.77242279052734\n",
            "epoch 4, loss with penalty 478.01226806640625\n",
            "epoch 5, loss with penalty 3079.6748046875\n",
            "epoch 6, loss with penalty 2930.467529296875\n",
            "epoch 7, loss with penalty 915.8644409179688\n",
            "epoch 8, loss with penalty 110.8465576171875\n",
            "epoch 9, loss with penalty 52.74224090576172\n",
            "epoch 10, loss with penalty 79.7691650390625\n",
            "epoch 11, loss with penalty 55.4200439453125\n",
            "epoch 12, loss with penalty 53.45972442626953\n",
            "epoch 13, loss with penalty 187.1935272216797\n",
            "epoch 14, loss with penalty 463.2025146484375\n",
            "epoch 15, loss with penalty 676.671142578125\n",
            "epoch 16, loss with penalty 622.80712890625\n",
            "epoch 17, loss with penalty 381.7064208984375\n",
            "epoch 18, loss with penalty 165.17420959472656\n",
            "epoch 19, loss with penalty 62.52922821044922\n",
            "epoch 20, loss with penalty 44.20132827758789\n",
            "epoch 21, loss with penalty 59.485618591308594\n",
            "epoch 22, loss with penalty 78.61288452148438\n",
            "epoch 23, loss with penalty 90.92271423339844\n",
            "epoch 24, loss with penalty 94.88568115234375\n",
            "epoch 25, loss with penalty 91.92896270751953\n",
            "epoch 26, loss with penalty 84.01405334472656\n",
            "epoch 27, loss with penalty 73.08815002441406\n",
            "epoch 28, loss with penalty 61.21915817260742\n",
            "epoch 29, loss with penalty 50.81641387939453\n",
            "epoch 30, loss with penalty 44.56189727783203\n",
            "epoch 31, loss with penalty 44.755008697509766\n",
            "epoch 32, loss with penalty 52.03935241699219\n",
            "epoch 33, loss with penalty 64.16204833984375\n",
            "epoch 34, loss with penalty 76.08334350585938\n",
            "epoch 35, loss with penalty 82.30557250976562\n",
            "epoch 36, loss with penalty 80.17552185058594\n",
            "epoch 37, loss with penalty 71.36607360839844\n",
            "epoch 38, loss with penalty 60.249603271484375\n",
            "epoch 39, loss with penalty 50.932979583740234\n",
            "epoch 40, loss with penalty 45.44383239746094\n",
            "epoch 41, loss with penalty 43.75639724731445\n",
            "epoch 42, loss with penalty 44.7547607421875\n",
            "epoch 43, loss with penalty 47.126800537109375\n",
            "epoch 44, loss with penalty 49.83466339111328\n",
            "epoch 45, loss with penalty 52.21466827392578\n",
            "epoch 46, loss with penalty 53.916805267333984\n",
            "epoch 47, loss with penalty 54.80146408081055\n",
            "epoch 48, loss with penalty 54.85308837890625\n",
            "epoch 49, loss with penalty 54.138214111328125\n",
            "epoch 50, loss with penalty 52.778778076171875\n",
            "epoch 51, loss with penalty 50.951778411865234\n",
            "epoch 52, loss with penalty 48.88887023925781\n",
            "epoch 53, loss with penalty 46.866844177246094\n",
            "epoch 54, loss with penalty 45.1815185546875\n",
            "epoch 55, loss with penalty 44.095157623291016\n",
            "epoch 56, loss with penalty 43.75559997558594\n",
            "epoch 57, loss with penalty 44.13688278198242\n",
            "epoch 58, loss with penalty 45.0056037902832\n",
            "epoch 59, loss with penalty 45.98691177368164\n",
            "epoch 60, loss with penalty 46.689414978027344\n",
            "epoch 61, loss with penalty 46.86369323730469\n",
            "epoch 62, loss with penalty 46.48588943481445\n",
            "epoch 63, loss with penalty 45.73745346069336\n",
            "epoch 64, loss with penalty 44.899166107177734\n",
            "epoch 65, loss with penalty 44.22013854980469\n",
            "epoch 66, loss with penalty 43.83506393432617\n",
            "epoch 67, loss with penalty 43.762577056884766\n",
            "epoch 68, loss with penalty 43.924564361572266\n",
            "epoch 69, loss with penalty 44.204036712646484\n",
            "epoch 70, loss with penalty 44.48490524291992\n",
            "epoch 71, loss with penalty 44.68135070800781\n",
            "epoch 72, loss with penalty 44.7471923828125\n",
            "epoch 73, loss with penalty 44.67659378051758\n",
            "epoch 74, loss with penalty 44.49890899658203\n",
            "epoch 75, loss with penalty 44.2641487121582\n",
            "epoch 76, loss with penalty 44.03189468383789\n",
            "epoch 77, loss with penalty 43.85380935668945\n",
            "epoch 78, loss with penalty 43.76403045654297\n",
            "epoch 79, loss with penalty 43.76783752441406\n",
            "epoch 80, loss with penalty 43.84184265136719\n",
            "epoch 81, loss with penalty 43.9464225769043\n",
            "epoch 82, loss with penalty 44.034278869628906\n",
            "epoch 83, loss with penalty 44.07410430908203\n",
            "epoch 84, loss with penalty 44.05501937866211\n",
            "epoch 85, loss with penalty 43.98766326904297\n",
            "epoch 86, loss with penalty 43.90080642700195\n",
            "epoch 87, loss with penalty 43.82019805908203\n",
            "epoch 88, loss with penalty 43.770076751708984\n",
            "epoch 89, loss with penalty 43.754390716552734\n",
            "epoch 90, loss with penalty 43.77058410644531\n",
            "epoch 91, loss with penalty 43.80284881591797\n",
            "epoch 92, loss with penalty 43.837135314941406\n",
            "epoch 93, loss with penalty 43.85909652709961\n",
            "epoch 94, loss with penalty 43.862266540527344\n",
            "epoch 95, loss with penalty 43.847984313964844\n",
            "epoch 96, loss with penalty 43.82173538208008\n",
            "epoch 97, loss with penalty 43.79189682006836\n",
            "epoch 98, loss with penalty 43.76945877075195\n",
            "epoch 99, loss with penalty 43.756187438964844\n",
            "epoch 100, loss with penalty 43.755550384521484\n",
            "epoch 101, loss with penalty 43.7650146484375\n",
            "epoch 102, loss with penalty 43.777862548828125\n",
            "epoch 103, loss with penalty 43.78843688964844\n",
            "epoch 104, loss with penalty 43.79276657104492\n",
            "epoch 105, loss with penalty 43.78910827636719\n",
            "epoch 106, loss with penalty 43.7799072265625\n",
            "epoch 107, loss with penalty 43.76942825317383\n",
            "epoch 108, loss with penalty 43.76050567626953\n",
            "epoch 109, loss with penalty 43.75458908081055\n",
            "epoch 110, loss with penalty 43.75420379638672\n",
            "epoch 111, loss with penalty 43.75864028930664\n",
            "epoch 112, loss with penalty 43.762916564941406\n",
            "epoch 113, loss with penalty 43.7669792175293\n",
            "epoch 114, loss with penalty 43.76803207397461\n",
            "epoch 115, loss with penalty 43.766456604003906\n",
            "epoch 116, loss with penalty 43.763729095458984\n",
            "epoch 117, loss with penalty 43.760009765625\n",
            "epoch 118, loss with penalty 43.756900787353516\n",
            "epoch 119, loss with penalty 43.75492858886719\n",
            "epoch 120, loss with penalty 43.75482940673828\n",
            "epoch 121, loss with penalty 43.75596237182617\n",
            "epoch 122, loss with penalty 43.75800323486328\n",
            "epoch 123, loss with penalty 43.758872985839844\n",
            "epoch 124, loss with penalty 43.7591552734375\n",
            "epoch 125, loss with penalty 43.759090423583984\n",
            "epoch 126, loss with penalty 43.757652282714844\n",
            "epoch 127, loss with penalty 43.75596237182617\n",
            "epoch 128, loss with penalty 43.75543212890625\n",
            "epoch 129, loss with penalty 43.75483322143555\n",
            "epoch 130, loss with penalty 43.75547790527344\n",
            "epoch 131, loss with penalty 43.75608825683594\n",
            "epoch 132, loss with penalty 43.75590133666992\n",
            "epoch 133, loss with penalty 43.756446838378906\n",
            "epoch 134, loss with penalty 43.756103515625\n",
            "epoch 135, loss with penalty 43.756351470947266\n",
            "epoch 136, loss with penalty 43.75513458251953\n",
            "epoch 137, loss with penalty 43.754947662353516\n",
            "epoch 138, loss with penalty 43.755348205566406\n",
            "epoch 139, loss with penalty 43.754661560058594\n",
            "epoch 140, loss with penalty 43.75531005859375\n",
            "epoch 141, loss with penalty 43.754493713378906\n",
            "epoch 142, loss with penalty 43.755191802978516\n",
            "epoch 143, loss with penalty 43.75615310668945\n",
            "epoch 144, loss with penalty 43.75569152832031\n",
            "epoch 145, loss with penalty 43.755184173583984\n",
            "epoch 146, loss with penalty 43.754764556884766\n",
            "epoch 147, loss with penalty 43.75495910644531\n",
            "epoch 148, loss with penalty 43.754783630371094\n",
            "epoch 149, loss with penalty 43.75506591796875\n",
            "epoch 150, loss with penalty 43.75474166870117\n",
            "epoch 151, loss with penalty 43.75471878051758\n",
            "epoch 152, loss with penalty 43.75502395629883\n",
            "epoch 153, loss with penalty 43.755245208740234\n",
            "epoch 154, loss with penalty 43.75459289550781\n",
            "epoch 155, loss with penalty 43.754642486572266\n",
            "epoch 156, loss with penalty 43.75544357299805\n",
            "epoch 157, loss with penalty 43.754730224609375\n",
            "epoch 158, loss with penalty 43.7547721862793\n",
            "epoch 159, loss with penalty 43.75497055053711\n",
            "epoch 160, loss with penalty 43.75514221191406\n",
            "epoch 161, loss with penalty 43.75482940673828\n",
            "epoch 162, loss with penalty 43.75453567504883\n",
            "epoch 163, loss with penalty 43.75459289550781\n",
            "epoch 164, loss with penalty 43.75422286987305\n",
            "epoch 165, loss with penalty 43.7552490234375\n",
            "epoch 166, loss with penalty 43.754638671875\n",
            "epoch 167, loss with penalty 43.75455093383789\n",
            "epoch 168, loss with penalty 43.75450897216797\n",
            "epoch 169, loss with penalty 43.75419998168945\n",
            "epoch 170, loss with penalty 43.75422668457031\n",
            "epoch 171, loss with penalty 43.754981994628906\n",
            "epoch 172, loss with penalty 43.754573822021484\n",
            "epoch 173, loss with penalty 43.75481414794922\n",
            "epoch 174, loss with penalty 43.75477600097656\n",
            "epoch 175, loss with penalty 43.75446701049805\n",
            "epoch 176, loss with penalty 43.754638671875\n",
            "epoch 177, loss with penalty 43.75440216064453\n",
            "epoch 178, loss with penalty 43.75452423095703\n",
            "epoch 179, loss with penalty 43.75514602661133\n",
            "epoch 180, loss with penalty 43.7547607421875\n",
            "epoch 181, loss with penalty 43.75468063354492\n",
            "epoch 182, loss with penalty 43.7550163269043\n",
            "epoch 183, loss with penalty 43.75462341308594\n",
            "epoch 184, loss with penalty 43.75426483154297\n",
            "epoch 185, loss with penalty 43.75462341308594\n",
            "epoch 186, loss with penalty 43.75485610961914\n",
            "epoch 187, loss with penalty 43.755348205566406\n",
            "epoch 188, loss with penalty 43.755455017089844\n",
            "epoch 189, loss with penalty 43.75405502319336\n",
            "epoch 190, loss with penalty 43.754638671875\n",
            "epoch 191, loss with penalty 43.75447082519531\n",
            "epoch 192, loss with penalty 43.75472640991211\n",
            "epoch 193, loss with penalty 43.7548828125\n",
            "epoch 194, loss with penalty 43.7550048828125\n",
            "epoch 195, loss with penalty 43.754722595214844\n",
            "epoch 196, loss with penalty 43.755027770996094\n",
            "epoch 197, loss with penalty 43.75480651855469\n",
            "epoch 198, loss with penalty 43.75436782836914\n",
            "epoch 199, loss with penalty 43.75429916381836\n",
            "epoch 200, loss with penalty 43.75465393066406\n",
            "epoch 201, loss with penalty 43.75493621826172\n",
            "epoch 202, loss with penalty 43.75507736206055\n",
            "epoch 203, loss with penalty 43.754371643066406\n",
            "epoch 204, loss with penalty 43.754451751708984\n",
            "epoch 205, loss with penalty 43.754737854003906\n",
            "epoch 206, loss with penalty 43.75419616699219\n",
            "epoch 207, loss with penalty 43.75492477416992\n",
            "epoch 208, loss with penalty 43.75459671020508\n",
            "epoch 209, loss with penalty 43.754722595214844\n",
            "epoch 210, loss with penalty 43.75505065917969\n",
            "epoch 211, loss with penalty 43.755393981933594\n",
            "epoch 212, loss with penalty 43.754661560058594\n",
            "epoch 213, loss with penalty 43.75484848022461\n",
            "epoch 214, loss with penalty 43.75470733642578\n",
            "epoch 215, loss with penalty 43.75462341308594\n",
            "epoch 216, loss with penalty 43.75502014160156\n",
            "epoch 217, loss with penalty 43.754737854003906\n",
            "epoch 218, loss with penalty 43.755271911621094\n",
            "epoch 219, loss with penalty 43.754215240478516\n",
            "epoch 220, loss with penalty 43.75503158569336\n",
            "epoch 221, loss with penalty 43.75468826293945\n",
            "epoch 222, loss with penalty 43.75493621826172\n",
            "epoch 223, loss with penalty 43.75469207763672\n",
            "epoch 224, loss with penalty 43.754703521728516\n",
            "epoch 225, loss with penalty 43.754371643066406\n",
            "epoch 226, loss with penalty 43.75481414794922\n",
            "epoch 227, loss with penalty 43.754783630371094\n",
            "epoch 228, loss with penalty 43.75437927246094\n",
            "epoch 229, loss with penalty 43.754844665527344\n",
            "epoch 230, loss with penalty 43.75434494018555\n",
            "epoch 231, loss with penalty 43.75456619262695\n",
            "epoch 232, loss with penalty 43.75455093383789\n",
            "epoch 233, loss with penalty 43.75480270385742\n",
            "epoch 234, loss with penalty 43.75450134277344\n",
            "epoch 235, loss with penalty 43.754417419433594\n",
            "epoch 236, loss with penalty 43.75491714477539\n",
            "epoch 237, loss with penalty 43.754638671875\n",
            "epoch 238, loss with penalty 43.754722595214844\n",
            "epoch 239, loss with penalty 43.75475311279297\n",
            "epoch 240, loss with penalty 43.754974365234375\n",
            "epoch 241, loss with penalty 43.75487518310547\n",
            "epoch 242, loss with penalty 43.754920959472656\n",
            "epoch 243, loss with penalty 43.75480651855469\n",
            "epoch 244, loss with penalty 43.75463104248047\n",
            "epoch 245, loss with penalty 43.75513458251953\n",
            "epoch 246, loss with penalty 43.75469207763672\n",
            "epoch 247, loss with penalty 43.75519561767578\n",
            "epoch 248, loss with penalty 43.7544059753418\n",
            "epoch 249, loss with penalty 43.75469207763672\n",
            "epoch 250, loss with penalty 43.75433349609375\n",
            "epoch 251, loss with penalty 43.754486083984375\n",
            "epoch 252, loss with penalty 43.754940032958984\n",
            "epoch 253, loss with penalty 43.75555419921875\n",
            "epoch 254, loss with penalty 43.75492858886719\n",
            "epoch 255, loss with penalty 43.754722595214844\n",
            "epoch 256, loss with penalty 43.75471878051758\n",
            "epoch 257, loss with penalty 43.755184173583984\n",
            "epoch 258, loss with penalty 43.75436782836914\n",
            "epoch 259, loss with penalty 43.754520416259766\n",
            "epoch 260, loss with penalty 43.7547721862793\n",
            "epoch 261, loss with penalty 43.75483322143555\n",
            "epoch 262, loss with penalty 43.754974365234375\n",
            "epoch 263, loss with penalty 43.7550048828125\n",
            "epoch 264, loss with penalty 43.75467300415039\n"
          ]
        }
      ]
    },
    {
      "cell_type": "code",
      "source": [
        "p_f_res[1]"
      ],
      "metadata": {
        "id": "fR11LjxSCykP"
      },
      "execution_count": null,
      "outputs": []
    },
    {
      "cell_type": "code",
      "execution_count": 69,
      "metadata": {
        "id": "Hl5KH2lsp642",
        "outputId": "84b20199-5268-4026-9628-ccf0eb649617",
        "colab": {
          "base_uri": "https://localhost:8080/",
          "height": 1000
        }
      },
      "outputs": [
        {
          "output_type": "stream",
          "name": "stdout",
          "text": [
            "Penalty lambda value = 100\n",
            "Interval is [-10, 10], with N_POINTS = 1000\n",
            "\n",
            "\n",
            "Plot 1: The epsilon_loss_with_penalty along the training epochs:\n"
          ]
        },
        {
          "output_type": "display_data",
          "data": {
            "text/plain": [
              "<Figure size 432x288 with 0 Axes>"
            ]
          },
          "metadata": {}
        },
        {
          "output_type": "display_data",
          "data": {
            "text/plain": [
              "<Figure size 640x480 with 1 Axes>"
            ],
            "image/png": "[encoded data removed]"
          },
          "metadata": {
            "needs_background": "light"
          }
        },
        {
          "output_type": "stream",
          "name": "stdout",
          "text": [
            "\n",
            "\n",
            "Plot 2: The epsilon_loss value along the training epochs:\n"
          ]
        },
        {
          "output_type": "display_data",
          "data": {
            "text/plain": [
              "<Figure size 432x288 with 0 Axes>"
            ]
          },
          "metadata": {}
        },
        {
          "output_type": "display_data",
          "data": {
            "text/plain": [
              "<Figure size 640x480 with 1 Axes>"
            ],
            "image/png": "[encoded data removed]"
          },
          "metadata": {
            "needs_background": "light"
          }
        },
        {
          "output_type": "stream",
          "name": "stdout",
          "text": [
            "\n",
            "\n"
          ]
        }
      ],
      "source": [
        "### Model result using epsilon loss function with penalty\n",
        "print(\"Penalty lambda value = \" + str(LAMBDA_PEN))\n",
        "print(\"Interval is [{lb}, {ub}], with N_POINTS = {npoint}\".format(lb=LOWER_BOUND, \n",
        "                                                              ub=UPPER_BOUND,\n",
        "                                                              npoint=N_POINTS))\n",
        "print(\"\\n\")\n",
        "\n",
        "# Plot 1: The epsilon_loss with lambda penalty:\n",
        "print(\"Plot 1: The epsilon_loss_with_penalty along the training epochs:\")\n",
        "x_epochs = p_f_res[0]\n",
        "plot_figure(x_epochs, p_f_res[1])\n",
        "\n",
        "print(\"\\n\")\n",
        "# Plot 2: The epsilon_loss value when using train with penalty:\n",
        "print(\"Plot 2: The epsilon_loss value along the training epochs:\")\n",
        "\n",
        "plot_figure(x_epochs, p_f_res[2])\n",
        "print(\"\\n\")\n",
        "\n",
        "# plot_figure(x_values, model_output)"
      ]
    },
    {
      "cell_type": "code",
      "source": [
        "# Plot 3: the model's output with input from the interval [LOWER_BOUND, UPPER_BOUND]:\n",
        "print(\"Plot 3: the model's output with input from the interval: \")\n",
        "x_vals = [torch.tensor([i], requires_grad=True, dtype=torch.float) for i in x_train]\n",
        "\n",
        "model_output = []\n",
        "for i in x_vals:\n",
        "    model_output.append(model(i).detach().numpy().item())\n",
        "\n",
        "plot_figure(x_values, model_output)"
      ],
      "metadata": {
        "id": "xN_h2WC-sPr_",
        "outputId": "d32ddc35-885e-4940-dca4-f7a009db50e6",
        "colab": {
          "base_uri": "https://localhost:8080/",
          "height": 502
        }
      },
      "execution_count": 60,
      "outputs": [
        {
          "output_type": "stream",
          "name": "stdout",
          "text": [
            "Plot 3: the model's output with input from the interval: \n"
          ]
        },
        {
          "output_type": "stream",
          "name": "stderr",
          "text": [
            "/usr/local/lib/python3.7/dist-packages/ipykernel_launcher.py:3: UserWarning: Creating a tensor from a list of numpy.ndarrays is extremely slow. Please consider converting the list to a single numpy.ndarray with numpy.array() before converting to a tensor. (Triggered internally at  ../torch/csrc/utils/tensor_new.cpp:201.)\n",
            "  This is separate from the ipykernel package so we can avoid doing imports until\n"
          ]
        },
        {
          "output_type": "display_data",
          "data": {
            "text/plain": [
              "<Figure size 432x288 with 0 Axes>"
            ]
          },
          "metadata": {}
        },
        {
          "output_type": "display_data",
          "data": {
            "text/plain": [
              "<Figure size 640x480 with 1 Axes>"
            ],
            "image/png": "[encoded data removed]"
          },
          "metadata": {
            "needs_background": "light"
          }
        }
      ]
    },
    {
      "cell_type": "code",
      "execution_count": null,
      "metadata": {
        "id": "jd2I0gRqHO8Z",
        "cellView": "form"
      },
      "outputs": [],
      "source": [
        "#@title\n",
        "diff = [None for i in range(len(graph_val_pen[2]))]\n",
        "for i in range(len(graph_val_pen[2])):\n",
        "    diff[i] = abs(graph_val_pen[2][i]-graph_val_pen[1][i])\n",
        "\n",
        "plot_figure(x_epochs[400:], diff[400:])"
      ]
    },
    {
      "cell_type": "code",
      "execution_count": 13,
      "metadata": {
        "id": "M0PS0efCiJCp"
      },
      "outputs": [],
      "source": [
        "def finite_diff_method(lower_bound, upper_bound, N_discrete_pts, given_fn):\n",
        "    discrete_points = np.linspace(lower_bound, upper_bound, N_discrete_pts)\n",
        "    h = x[1]-x[0]\n",
        "    c = np.sqrt(1/h)\n",
        "\n",
        "    H = np.zeros((N,N))\n",
        "    # Question: Why H has dimension (N-2) x (N-2)?\n",
        "    V = np.zeros((N,N))\n",
        "\n",
        "    for i in range (N):\n",
        "        for j in range (N):\n",
        "            if i == j:\n",
        "                H[i][j] = -2\n",
        "            elif abs(i-j) == 1:\n",
        "                H[i][j] = 1\n",
        "    for i in range (N):\n",
        "        for j in range (N):\n",
        "            if i == j:\n",
        "                V[i][j] = given_fn.forward(x[i])\n",
        "\n",
        "    A = -H/(h**2) + V\n",
        "    \n",
        "    eig_val, eig_vec = np.linalg.eig(A)\n",
        "    sorted_id_eig_val = np.argsort(eig_val)\n",
        "    # Get the indices that would sort eig_val\n",
        "    z = sorted_id_eig_val[0:1] # Bc. eig_val first 4 value is in ascending order, \n",
        "    # eig_val[z] will return sorted first [T] value of eigenvalues.\n",
        "    energies = eig_val[z]/eig_val[z][0]\n",
        "\n",
        "    ground_state = c * eig_vec[:,z[0]]\n",
        "\n",
        "    return (eig_val[z], ground_state)"
      ]
    },
    {
      "cell_type": "code",
      "source": [
        "def plot_finite_diff_sol(eig_val, ground_state):\n",
        "    plt.figure(figsize=(12,10))\n",
        "    for i in range(len(eig_val)):\n",
        "        y = []\n",
        "        y = np.append(y, (-1) * -ground_state)\n",
        "\n",
        "        plt.plot(x,y,lw=3, label=\"{} \".format(i))\n",
        "        plt.xlabel('x', size=14)\n",
        "        plt.ylabel('$\\psi$(x)',size=14)\n",
        "    # plt.plot(x_values, model_output)\n",
        "    plt.legend()\n",
        "    plt.title('normalized wavefunctions for a harmonic oscillator using finite difference method',size=14)\n",
        "    plt.show()\n",
        "    return"
      ],
      "metadata": {
        "id": "3_uFs6BwJEqa"
      },
      "execution_count": 14,
      "outputs": []
    },
    {
      "cell_type": "code",
      "source": [
        "class Potential_Function:\n",
        "    def __init__(self, N_points, L_endpoint, alpha, c_0 = 0):\n",
        "        self.N_points = N_points\n",
        "        self.L_endpoint = L_endpoint\n",
        "        \n",
        "        self.alpha = alpha\n",
        "        self.c_0 = c_0\n",
        "\n",
        "    def forward(self, x):\n",
        "        \"\"\"\n",
        "        ARGS:\n",
        "        \"\"\"\n",
        "        f_value = 0\n",
        "        summation = 0\n",
        "\n",
        "        #Iterative method:\n",
        "        for i in range(1, self.N_points):\n",
        "            t_i = np.random.normal(loc=0, scale=1.0)\n",
        "            c_i = (math.pi/(i * self.L_endpoint))**self.alpha\n",
        "            cos_val = np.cos((i * self.L_endpoint * x)/math.pi)\n",
        "            summation += t_i * c_i * cos_val\n",
        "\n",
        "        f_value += summation\n",
        "        f_value += self.c_0\n",
        "\n",
        "        return f_value"
      ],
      "metadata": {
        "id": "Xd-UKkAUFkXu"
      },
      "execution_count": 12,
      "outputs": []
    },
    {
      "cell_type": "code",
      "source": [
        "def potential_func(x, N_points=20, L_endpoint=UPPER_BOUND, alpha=3, c_0=100):\n",
        "    f_value = 0\n",
        "    summation = 0\n",
        "\n",
        "    #Iterative method:\n",
        "    for i in range(1, N_points):\n",
        "        t_i = np.random.normal(loc=0, scale=1.0)\n",
        "        c_i = (math.pi/(i * L_endpoint))**alpha\n",
        "        cos_val = np.cos((i * L_endpoint * x)/math.pi)\n",
        "        summation += t_i * c_i * cos_val\n",
        "\n",
        "    f_value += summation\n",
        "    f_value += c_0\n",
        "\n",
        "    return f_value\n"
      ],
      "metadata": {
        "id": "9YnMnj_QRdyd"
      },
      "execution_count": 15,
      "outputs": []
    },
    {
      "cell_type": "code",
      "source": [
        "p_f = potential_func"
      ],
      "metadata": {
        "id": "POY7jwNJEGUT"
      },
      "execution_count": 16,
      "outputs": []
    },
    {
      "cell_type": "code",
      "source": [
        "finite_diff_method(LOWER_BOUND, UPPER_BOUND, N_POINTS, t_f)"
      ],
      "metadata": {
        "id": "Q9c2QZrKFaPu",
        "outputId": "80f5cb75-e199-4002-8ddd-bebefb1ac446",
        "colab": {
          "base_uri": "https://localhost:8080/",
          "height": 168
        }
      },
      "execution_count": 13,
      "outputs": [
        {
          "output_type": "error",
          "ename": "NameError",
          "evalue": "ignored",
          "traceback": [
            "\u001b[0;31m---------------------------------------------------------------------------\u001b[0m",
            "\u001b[0;31mNameError\u001b[0m                                 Traceback (most recent call last)",
            "\u001b[0;32m<ipython-input-13-77f40d0fc445>\u001b[0m in \u001b[0;36m<module>\u001b[0;34m()\u001b[0m\n\u001b[0;32m----> 1\u001b[0;31m \u001b[0mfinite_diff_method\u001b[0m\u001b[0;34m(\u001b[0m\u001b[0mLOWER_BOUND\u001b[0m\u001b[0;34m,\u001b[0m \u001b[0mUPPER_BOUND\u001b[0m\u001b[0;34m,\u001b[0m \u001b[0mN_POINTS\u001b[0m\u001b[0;34m,\u001b[0m \u001b[0mt_f\u001b[0m\u001b[0;34m)\u001b[0m\u001b[0;34m\u001b[0m\u001b[0;34m\u001b[0m\u001b[0m\n\u001b[0m",
            "\u001b[0;31mNameError\u001b[0m: name 't_f' is not defined"
          ]
        }
      ]
    },
    {
      "cell_type": "code",
      "execution_count": 62,
      "metadata": {
        "id": "RidKLfl7rrQ6",
        "outputId": "af2930da-a213-45da-c824-2d06884c5a19",
        "colab": {
          "base_uri": "https://localhost:8080/"
        }
      },
      "outputs": [
        {
          "name": "stdout",
          "output_type": "stream",
          "text": [
            "enter lower limit of the domain: -10\n",
            "enter upper limit of the domain: 10\n",
            "enter number of grid points: 1001\n"
          ]
        }
      ],
      "source": [
        "a = float(input('enter lower limit of the domain: '))\n",
        "b = float(input('enter upper limit of the domain: '))\n",
        "N = int(input('enter number of grid points: '))"
      ]
    },
    {
      "cell_type": "markdown",
      "metadata": {
        "id": "aGwkRNGurrQ7"
      },
      "source": [
        "We have the linear system Ax = λx\n",
        "\n",
        "Then decompose A into H + V, A = H+V"
      ]
    },
    {
      "cell_type": "code",
      "execution_count": 63,
      "metadata": {
        "id": "kThI-s5hrrQ7",
        "outputId": "8f2cbf5e-36aa-4578-eb07-e14211c8574e",
        "colab": {
          "base_uri": "https://localhost:8080/"
        }
      },
      "outputs": [
        {
          "output_type": "stream",
          "name": "stdout",
          "text": [
            "[[-2.  1.  0. ...  0.  0.  0.]\n",
            " [ 1. -2.  1. ...  0.  0.  0.]\n",
            " [ 0.  1. -2. ...  0.  0.  0.]\n",
            " ...\n",
            " [ 0.  0.  0. ... -2.  1.  0.]\n",
            " [ 0.  0.  0. ...  1. -2.  1.]\n",
            " [ 0.  0.  0. ...  0.  1. -2.]]\n",
            "[[1000.0040761     0.            0.         ...    0.\n",
            "     0.            0.        ]\n",
            " [   0.          999.99369121    0.         ...    0.\n",
            "     0.            0.        ]\n",
            " [   0.            0.         1000.00064964 ...    0.\n",
            "     0.            0.        ]\n",
            " ...\n",
            " [   0.            0.            0.         ...  999.97977748\n",
            "     0.            0.        ]\n",
            " [   0.            0.            0.         ...    0.\n",
            "  1000.00933112    0.        ]\n",
            " [   0.            0.            0.         ...    0.\n",
            "     0.          999.98565396]]\n",
            "[[ 6000.0040761  -2500.             0.         ...     0.\n",
            "      0.             0.        ]\n",
            " [-2500.          5999.99369121 -2500.         ...     0.\n",
            "      0.             0.        ]\n",
            " [    0.         -2500.          6000.00064964 ...     0.\n",
            "      0.             0.        ]\n",
            " ...\n",
            " [    0.             0.             0.         ...  5999.97977748\n",
            "  -2500.             0.        ]\n",
            " [    0.             0.             0.         ... -2500.\n",
            "   6000.00933112 -2500.        ]\n",
            " [    0.             0.             0.         ...     0.\n",
            "  -2500.          5999.98565396]]\n"
          ]
        }
      ],
      "source": [
        "x = np.linspace(a,b,N)\n",
        "h = x[1]-x[0]\n",
        "c = np.sqrt(1/h)\n",
        "\n",
        "H = np.zeros((N,N))\n",
        "# Question: Why H has dimension (N-2) x (N-2)?\n",
        "V = np.zeros((N,N))\n",
        "\n",
        "for i in range (N):\n",
        "    for j in range (N):\n",
        "        if i == j:\n",
        "            H[i][j] = -2\n",
        "        elif abs(i-j) == 1:\n",
        "            H[i][j] = 1\n",
        "print(H)\n",
        "\n",
        "for i in range (N):\n",
        "    for j in range (N):\n",
        "        if i == j:\n",
        "            V[i][j] = t_f.forward(x[i])\n",
        "print(V)\n",
        "\n",
        "A = -H/(h**2) + V\n",
        "print(A)"
      ]
    },
    {
      "cell_type": "code",
      "execution_count": null,
      "metadata": {
        "id": "KY8sH_CtrrQ9"
      },
      "outputs": [],
      "source": [
        "# Normalize eig_vec by computing L2 normeig_vec"
      ]
    },
    {
      "cell_type": "code",
      "execution_count": 64,
      "metadata": {
        "id": "pNgAd9K9rrQ9"
      },
      "outputs": [],
      "source": [
        "eig_val, eig_vec = np.linalg.eig(A)\n",
        "sorted_id_eig_val = np.argsort(eig_val)\n",
        "# Get the indices that would sort eig_val\n",
        "z = sorted_id_eig_val[0:1] # Bc. eig_val first 4 value is in ascending order, \n",
        "# eig_val[z] will return sorted first [T] value of eigenvalues.\n",
        "energies = eig_val[z]/eig_val[z][0]\n",
        "\n",
        "ground_state = c * eig_vec[:,z[0]]"
      ]
    },
    {
      "cell_type": "code",
      "source": [
        "eig_val[z]"
      ],
      "metadata": {
        "id": "G0NxOxI7DfGf",
        "outputId": "76e1335e-162d-4bfe-ad55-c7175467561b",
        "colab": {
          "base_uri": "https://localhost:8080/"
        }
      },
      "execution_count": 65,
      "outputs": [
        {
          "output_type": "execute_result",
          "data": {
            "text/plain": [
              "array([1000.02493037])"
            ]
          },
          "metadata": {},
          "execution_count": 65
        }
      ]
    },
    {
      "cell_type": "code",
      "execution_count": 66,
      "metadata": {
        "id": "F9qLmPqYrrQ-",
        "outputId": "ae73ef59-631a-4c5d-b363-6b5b838a9600",
        "colab": {
          "base_uri": "https://localhost:8080/",
          "height": 627
        }
      },
      "outputs": [
        {
          "output_type": "display_data",
          "data": {
            "text/plain": [
              "<Figure size 864x720 with 1 Axes>"
            ],
            "image/png": "[encoded data removed]"
          },
          "metadata": {
            "needs_background": "light"
          }
        }
      ],
      "source": [
        "plt.figure(figsize=(12,10))\n",
        "for i in range(len(z)):\n",
        "    y = []\n",
        "    y = np.append(y, (-1) * -ground_state)\n",
        "\n",
        "#     print(y)\n",
        "#     y = np.append(y,0)\n",
        "#     print(y)\n",
        "#     print(y)\n",
        "#     y = np.insert(y,0,0)\n",
        "#     print(y)\n",
        "    plt.plot(x,y,lw=3, label=\"{} \".format(i))\n",
        "    plt.xlabel('x', size=14)\n",
        "    plt.ylabel('$\\psi$(x)',size=14)\n",
        "plt.plot(x_values, model_output)\n",
        "plt.legend()\n",
        "plt.title('normalized wavefunctions for a harmonic oscillator using finite difference method',size=14)\n",
        "plt.show()"
      ]
    },
    {
      "cell_type": "code",
      "source": [
        "t_f."
      ],
      "metadata": {
        "id": "BQatVXeZaYbg",
        "outputId": "c006ae22-0964-4405-d99f-dc04dca95e6e",
        "colab": {
          "base_uri": "https://localhost:8080/"
        }
      },
      "execution_count": 32,
      "outputs": [
        {
          "output_type": "execute_result",
          "data": {
            "text/plain": [
              "<__main__.Potential_Function at 0x7fb289353d10>"
            ]
          },
          "metadata": {},
          "execution_count": 32
        }
      ]
    },
    {
      "cell_type": "code",
      "source": [
        ""
      ],
      "metadata": {
        "id": "uXB8huVA92fz"
      },
      "execution_count": null,
      "outputs": []
    }
  ],
  "metadata": {
    "colab": {
      "name": "PyTorch_.ipynb",
      "provenance": []
    },
    "kernelspec": {
      "display_name": "Python 3",
      "language": "python",
      "name": "python3"
    },
    "language_info": {
      "codemirror_mode": {
        "name": "ipython",
        "version": 3
      },
      "file_extension": ".py",
      "mimetype": "text/x-python",
      "name": "python",
      "nbconvert_exporter": "python",
      "pygments_lexer": "ipython3",
      "version": "3.7.7"
    },
    "vscode": {
      "interpreter": {
        "hash": "8c21580189d9a9d7f1e3fef63ff70de58083dda94aa35d8ed937f03fa405217e"
      }
    }
  },
  "nbformat": 4,
  "nbformat_minor": 0
}