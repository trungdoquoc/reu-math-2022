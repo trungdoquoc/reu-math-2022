{
 "cells": [
  {
   "cell_type": "markdown",
   "metadata": {
    "id": "MpofWgGancyb"
   },
   "source": [
    "The input of the NN is 1D. "
   ]
  },
  {
   "cell_type": "code",
   "execution_count": 4,
   "metadata": {
    "id": "e-NAhHF3ncye"
   },
   "outputs": [],
   "source": [
    "import numpy as np\n",
    "import copy\n",
    "import torch\n",
    "import torch.nn as nn\n",
    "import math\n",
    "from torch.autograd import Variable\n",
    "from torch.nn.functional import normalize\n",
    "from sklearn.model_selection import train_test_split\n",
    "import matplotlib.pyplot as plt\n",
    "\n",
    "INPUT_SIZE = 1\n",
    "OUTPUT_SIZE = 1\n",
    "\n",
    "LOWER_BOUND = -6\n",
    "UPPER_BOUND = 6\n",
    "N_POINTS = 1001\n",
    "\n",
    "\n",
    "def quad_fn(a, b, c, x):\n",
    "    return a*x**2 + b*x + c\n",
    "\n",
    "def x_square(x: torch.tensor) -> torch.Tensor:\n",
    "    return x**2\n",
    "\n",
    "# DEFINE GIVEN FUNCTION V(x): ax^2 + bx + c\n",
    "given_fn = x_square"
   ]
  },
  {
   "cell_type": "code",
   "execution_count": 5,
   "metadata": {
    "colab": {
     "base_uri": "https://localhost:8080/"
    },
    "id": "EstQ_ILqQeOt",
    "outputId": "5aac875e-f7bf-4059-b529-3b87c1877521"
   },
   "outputs": [
    {
     "name": "stdout",
     "output_type": "stream",
     "text": [
      "(1001, 1) (1001, 1)\n"
     ]
    }
   ],
   "source": [
    "# CREATING DATASET:\n",
    "x_values = [i for i in np.linspace(LOWER_BOUND, UPPER_BOUND, N_POINTS)]\n",
    "y_values = [given_fn(i) for i in x_values]\n",
    "\n",
    "x_train = np.array(x_values, dtype=np.float32).reshape(-1, 1)\n",
    "y_train = np.array(y_values, dtype=np.float32).reshape(-1, 1)\n",
    "\n",
    "print(x_train.shape, y_train.shape)"
   ]
  },
  {
   "cell_type": "code",
   "execution_count": 6,
   "metadata": {
    "id": "SOtFslmCncyg"
   },
   "outputs": [],
   "source": [
    "# CUSTOM LOSS FUNCTION:\n",
    "# def EpsilonLoss(nn.Module):\n",
    "\n",
    "def epsilon_Loss(v_x, model_u, lower_bound, upper_bound, n_points):\n",
    "    \"\"\"\n",
    "    GOAL: Epsilon function evaluated at u using discretized estimation\n",
    "    minimizing Epsilon(u) = \n",
    "    \n",
    "    ARGS: \n",
    "    n_points (int): number of discretized points on the interval [-L, L]\n",
    "    e.g.: -(L)|---|---|---|---|(L) interval has n_points = 5\n",
    "\n",
    "    v_x (torch.Tensor): function instance\n",
    "    model_u (torch.Tensor): model output\n",
    "    \"\"\"\n",
    "    sum = 0\n",
    "    discrete_points = np.linspace(lower_bound, upper_bound, n_points)\n",
    "    h = discrete_points[1] - discrete_points[0]\n",
    "    for i in discrete_points:\n",
    "        x_i = torch.tensor([i], requires_grad=True, dtype=torch.float)\n",
    "        u_xi = model_u(x_i)\n",
    "\n",
    "        # u_xi.backward()\n",
    "        # u_prime = x_i.grad\n",
    "        \n",
    "        u_prime = model_u.u_prime(x_i)\n",
    "        \n",
    "        v_xi = v_x(x_i)\n",
    "        t = torch.square(u_prime) + v_xi*(u_xi**2)\n",
    "        sum += t\n",
    "        # print(\"x_i = \" + str(x_i))\n",
    "        # print(\"u_xi = \" + str(u_xi))\n",
    "        # print(\"u_prime = \" + str(u_prime))\n",
    "        # print(\"v_xi = \" + str(v_xi))\n",
    "        # print(t)\n",
    "        # print('-----')\n",
    "    return 0.5*h*sum\n",
    "\n",
    "# NORMALIZE MODEL u(x) OUTPUT:\n",
    "def normalize_u(model_u, lower_bound, upper_bound, n_points):\n",
    "    \"\"\"\n",
    "    Normalize model.output weight by: \n",
    "    model.output *= c\n",
    "    where,\n",
    "    scalar c = 1/denom\n",
    "    \"\"\"\n",
    "    discrete_points = np.linspace(lower_bound, upper_bound, n_points)\n",
    "    h = discrete_points[1] - discrete_points[0]\n",
    "    s = 0\n",
    "    for i in discrete_points:\n",
    "        x_i = torch.tensor([i], requires_grad=True, dtype=torch.float)\n",
    "        t = model_u(x_i)**2\n",
    "        s += t\n",
    "    denom = math.sqrt(h) * torch.sqrt(s)\n",
    "    return 1/denom"
   ]
  },
  {
   "cell_type": "code",
   "execution_count": 7,
   "metadata": {
    "id": "06QWhlkpQ5Eh"
   },
   "outputs": [],
   "source": [
    "# CREATING MODEL CLASS\n",
    "class Nonlinear(nn.Module):\n",
    "    def __init__(self, n):\n",
    "        # One hidden layer with n nodes\n",
    "        super().__init__()\n",
    "        self.hidden = nn.Linear(1, n)\n",
    "        self.output = nn.Linear(n, 1)\n",
    "        \n",
    "        self.sigmoid = nn.Sigmoid()\n",
    "        self.tanh = nn.Tanh()\n",
    "        self.target_fn = given_fn\n",
    "\n",
    "    def forward(self, x, use_tanh_fn = False, activation_on_output = False):\n",
    "        if use_tanh_fn == True:\n",
    "            x = self.hidden(x)\n",
    "            x = self.tanh(x)\n",
    "            x = self.output(x)\n",
    "            \n",
    "        else:\n",
    "            x = self.hidden(x)\n",
    "            x = self.sigmoid(x)\n",
    "            x = self.output(x)\n",
    "            \n",
    "        if activation_on_output == False:\n",
    "            return x\n",
    "        else:\n",
    "            if use_tanh_fn == True:\n",
    "                return self.tanh(x)\n",
    "            else:       \n",
    "                return self.sigmoid(x)\n",
    "        # output is a linear combination of the hidden layers because \n",
    "        # we perform regression ???\n",
    "        return x\n",
    "\n",
    "    def u_prime(self, input):\n",
    "        \"\"\"\n",
    "        NN with 1 hidden node layer is of the form:\n",
    "        u(x) = SUM_i_to_N(a_i * sigmoid(w.x + b))\n",
    "\n",
    "        where\n",
    "        a_i is the corresponding weight of self.output layerq\n",
    "        w is self.hidden.weight vector\n",
    "        b is self.hidden.bias vector\n",
    "        sigmoid(w.x + b) is the sigmoid-activated hidden vector\n",
    "\n",
    "        Formula of u'(x) (for 1 hidden layer NN):\n",
    "        u'(x) = SUM_i_to_N(w_i*a_i*sigmoid'(w_i*x+b))\n",
    "        Note: sigmoid'(w_i*x +b) = sigmoid(w_i*x+b)*(1-sigmoid(w_i*x+b))\n",
    "        \"\"\"\n",
    "        a_i = self.output.weight.data\n",
    "        w_i = torch.transpose(self.hidden.weight.data, 0, 1)\n",
    "        wi_ai = w_i * a_i\n",
    "\n",
    "        hid_layer = self.hidden(input)\n",
    "        hid_layer_T = torch.reshape(hid_layer, (list(hid_layer.shape)[0], 1))\n",
    "        m = hid_layer_T * (1-hid_layer_T)\n",
    "\n",
    "        return wi_ai @ m\n",
    "    \n",
    "# TRANING MODEL\n",
    "    def train_network(self, num_epochs, v_x, optimizer, \n",
    "                      LOWER_BOUND, UPPER_BOUND, N_POINTS):\n",
    "        # For plotting loss value over epochs:\n",
    "        x_epochs = [i for i in range(num_epochs)]\n",
    "        y_loss = []\n",
    "        for epoch in range(num_epochs):\n",
    "            if epoch % batch_size == 0:\n",
    "                c = normalize_u(self, LOWER_BOUND, UPPER_BOUND, N_POINTS)\n",
    "                self.output.weight.data.copy_(c.item() * self.output.weight.data)\n",
    "                self.output.bias.data.copy_(c.item() * self.output.bias.data)\n",
    "                \n",
    "#             for (x, output) in (zip(x_train, y_train)):\n",
    "#                 if torch.cuda.is_available():\n",
    "#                     input = Variable(torch.from_numpy(input).cuda())\n",
    "#                     output = Variable(torch.from_numpy(output).cuda())\n",
    "#                 else:\n",
    "#                 x = Variable(torch.from_numpy(x))\n",
    "#                 output = Variable(torch.from_numpy(output))\n",
    "\n",
    "            optimizer.zero_grad()\n",
    "            loss = epsilon_Loss(v_x, self, LOWER_BOUND, \n",
    "                                UPPER_BOUND, N_POINTS)\n",
    "            y_loss.append(loss)\n",
    "            print('epoch {}, loss {}'.format(epoch, loss.item()))\n",
    "            loss.backward()\n",
    "            # Calculate the derivative(loss) w.r.t the model's parameters\n",
    "            adam_optimizer.step()\n",
    "\n",
    "        return (x_epochs, y_loss)"
   ]
  },
  {
   "cell_type": "code",
   "execution_count": 34,
   "metadata": {},
   "outputs": [],
   "source": [
    "# CHECK function u_prime() correctness:\n",
    "\n",
    "t_model = Nonlinear(20)\n",
    "\n",
    "x = torch.tensor([10], requires_grad=True, dtype=torch.float)\n",
    "Q = x**2"
   ]
  },
  {
   "cell_type": "code",
   "execution_count": 35,
   "metadata": {},
   "outputs": [
    {
     "data": {
      "text/plain": [
       "Nonlinear(\n",
       "  (hidden): Linear(in_features=1, out_features=20, bias=True)\n",
       "  (output): Linear(in_features=20, out_features=1, bias=True)\n",
       "  (sigmoid): Sigmoid()\n",
       "  (tanh): Tanh()\n",
       ")"
      ]
     },
     "execution_count": 35,
     "metadata": {},
     "output_type": "execute_result"
    }
   ],
   "source": [
    "t_model"
   ]
  },
  {
   "cell_type": "code",
   "execution_count": 36,
   "metadata": {},
   "outputs": [
    {
     "name": "stdout",
     "output_type": "stream",
     "text": [
      "tensor([-0.3433], grad_fn=<AddBackward0>)\n",
      "None\n"
     ]
    }
   ],
   "source": [
    "a = t_model(x)\n",
    "print(a)\n",
    "print(x.grad)"
   ]
  },
  {
   "cell_type": "code",
   "execution_count": 37,
   "metadata": {},
   "outputs": [],
   "source": [
    "a.backward()"
   ]
  },
  {
   "cell_type": "code",
   "execution_count": 38,
   "metadata": {},
   "outputs": [
    {
     "data": {
      "text/plain": [
       "tensor([-0.0156])"
      ]
     },
     "execution_count": 38,
     "metadata": {},
     "output_type": "execute_result"
    }
   ],
   "source": [
    "x.grad"
   ]
  },
  {
   "cell_type": "code",
   "execution_count": 23,
   "metadata": {},
   "outputs": [
    {
     "data": {
      "text/plain": [
       "tensor([[-24.8482]], grad_fn=<MmBackward>)"
      ]
     },
     "execution_count": 23,
     "metadata": {},
     "output_type": "execute_result"
    }
   ],
   "source": [
    "t_model.u_prime(x)"
   ]
  },
  {
   "cell_type": "code",
   "execution_count": 18,
   "metadata": {},
   "outputs": [
    {
     "data": {
      "text/plain": [
       "tensor([[210.2636]], grad_fn=<MulBackward0>)"
      ]
     },
     "execution_count": 18,
     "metadata": {},
     "output_type": "execute_result"
    }
   ],
   "source": [
    "loss = epsilon_Loss(given_fn, model, LOWER_BOUND, \n",
    "                                UPPER_BOUND, N_POINTS)\n",
    "loss"
   ]
  },
  {
   "cell_type": "code",
   "execution_count": 19,
   "metadata": {},
   "outputs": [
    {
     "data": {
      "text/plain": [
       "tensor([[210.2636]], grad_fn=<MulBackward0>)"
      ]
     },
     "execution_count": 19,
     "metadata": {},
     "output_type": "execute_result"
    }
   ],
   "source": [
    "loss.backward()\n",
    "loss"
   ]
  },
  {
   "cell_type": "code",
   "execution_count": 20,
   "metadata": {},
   "outputs": [],
   "source": [
    "adam_optimizer.step()"
   ]
  },
  {
   "cell_type": "code",
   "execution_count": 21,
   "metadata": {},
   "outputs": [
    {
     "data": {
      "text/plain": [
       "tensor([[210.2636]], grad_fn=<MulBackward0>)"
      ]
     },
     "execution_count": 21,
     "metadata": {},
     "output_type": "execute_result"
    }
   ],
   "source": [
    "loss"
   ]
  },
  {
   "cell_type": "code",
   "execution_count": 11,
   "metadata": {
    "id": "hbBxk8_fncyl"
   },
   "outputs": [],
   "source": [
    "# DEFINE HYPER-PARAMETERS\n",
    "batch_size = 70\n",
    "learningRate = 0.05\n",
    "num_epochs = 2000\n",
    "# num_epochs = int(num_iters/(len(x_train)/batch_size))\n",
    "\n",
    "#INIT PARAMETERS: \n",
    "# v_x = given_fn\n",
    "l_b = -10\n",
    "u_b = 10\n",
    "n_points = 5\n",
    "\n",
    "#INIT MODEL\n",
    "model = Nonlinear(20)\n",
    "if torch.cuda.is_available():\n",
    "    model.cuda()\n",
    "\n",
    "# INIT OPTIMIZER CLASS\n",
    "# What is an optimizer: \n",
    "# SGD:\n",
    "# SGD_optimizer = torch.optim.SGD(model.parameters(), lr=learningRate)\n",
    "# Adam:\n",
    "adam_optimizer = torch.optim.Adam(model.parameters(), \n",
    "                                    lr=learningRate, \n",
    "                                    betas=(0.9, 0.999), \n",
    "                                    eps=1e-08, \n",
    "                                    weight_decay=0, \n",
    "                                    amsgrad=False)\n",
    "\n",
    "# INIT LOSS FUNCTION: MSE\n",
    "# criterion = epsilon_Loss"
   ]
  },
  {
   "cell_type": "code",
   "execution_count": null,
   "metadata": {
    "colab": {
     "base_uri": "https://localhost:8080/",
     "height": 1000
    },
    "id": "WZbaJ3MsB08r",
    "outputId": "7d50c385-f0da-41ea-8391-b6a63e454487"
   },
   "outputs": [],
   "source": [
    "num_epochs = 5000\n",
    "graph_val = model.train_network(num_epochs, given_fn, adam_optimizer, LOWER_BOUND, UPPER_BOUND, N_POINTS)"
   ]
  },
  {
   "cell_type": "code",
   "execution_count": 79,
   "metadata": {
    "colab": {
     "base_uri": "https://localhost:8080/"
    },
    "id": "zkbD3fXRLGBI",
    "outputId": "7dfa28bb-5379-4069-a4be-cf3dc88e551d"
   },
   "outputs": [
    {
     "data": {
      "text/plain": [
       "tensor([[345.6585]], grad_fn=<MulBackward0>)"
      ]
     },
     "execution_count": 79,
     "metadata": {},
     "output_type": "execute_result"
    }
   ],
   "source": [
    "epsilon_Loss(v_x, model, LOWER_BOUND, UPPER_BOUND, N_POINTS)"
   ]
  },
  {
   "cell_type": "code",
   "execution_count": 45,
   "metadata": {},
   "outputs": [],
   "source": [
    "new_model = copy.deepcopy(model)"
   ]
  },
  {
   "cell_type": "code",
   "execution_count": null,
   "metadata": {},
   "outputs": [],
   "source": [
    "adam_opt = torch.optim.Adam(new_model.parameters(), \n",
    "                                    lr=learningRate, \n",
    "                                    betas=(0.9, 0.999), \n",
    "                                    eps=1e-08, \n",
    "                                    weight_decay=0, \n",
    "                                    amsgrad=False)\n",
    "new_training = new_model.train_network(num_epochs, given_fn, adam_opt, LOWER_BOUND, UPPER_BOUND, N_POINTS)\n"
   ]
  },
  {
   "cell_type": "code",
   "execution_count": 41,
   "metadata": {},
   "outputs": [
    {
     "data": {
      "text/plain": [
       "140581862395328"
      ]
     },
     "execution_count": 41,
     "metadata": {},
     "output_type": "execute_result"
    }
   ],
   "source": [
    "id(new_hidden)"
   ]
  },
  {
   "cell_type": "code",
   "execution_count": 23,
   "metadata": {
    "id": "XBYQKdIYHYOY"
   },
   "outputs": [],
   "source": [
    "loss_val = [i.detach().numpy().item() for i in graph_val[1]]"
   ]
  },
  {
   "cell_type": "code",
   "execution_count": null,
   "metadata": {
    "colab": {
     "base_uri": "https://localhost:8080/"
    },
    "id": "fKZP39qEHj_Z",
    "outputId": "7e932255-337e-431a-b7cb-2b8997aba1d1"
   },
   "outputs": [],
   "source": [
    "loss_val"
   ]
  },
  {
   "cell_type": "code",
   "execution_count": 28,
   "metadata": {
    "colab": {
     "base_uri": "https://localhost:8080/",
     "height": 430
    },
    "id": "jd2I0gRqHO8Z",
    "outputId": "7bfadfbf-2fa3-4ac0-876a-61575a761f7c"
   },
   "outputs": [
    {
     "data": {
      "text/plain": [
       "<Figure size 432x288 with 0 Axes>"
      ]
     },
     "metadata": {},
     "output_type": "display_data"
    },
    {
     "data": {
      "image/png": "[encoded data removed]",
      "text/plain": [
       "<Figure size 640x480 with 1 Axes>"
      ]
     },
     "metadata": {
      "needs_background": "light"
     },
     "output_type": "display_data"
    }
   ],
   "source": [
    "plot_figure(graph_val[0], loss_val)"
   ]
  },
  {
   "cell_type": "code",
   "execution_count": 25,
   "metadata": {
    "colab": {
     "base_uri": "https://localhost:8080/"
    },
    "id": "cCkoJj5T_zJp",
    "outputId": "3e9c3ed2-6155-4032-d183-d635d1285ff1"
   },
   "outputs": [
    {
     "name": "stdout",
     "output_type": "stream",
     "text": [
      "tensor([[1325.6332]], grad_fn=<MulBackward0>)\n"
     ]
    }
   ],
   "source": [
    "v_x = given_fn\n",
    "l_b = -10\n",
    "u_b = 10\n",
    "n_points = 200\n",
    "model_u = Nonlinear(20)\n",
    "\n",
    "res = epsilon_Loss(given_fn, model_u, l_b, u_b, n_points)\n",
    "print(res)"
   ]
  },
  {
   "cell_type": "code",
   "execution_count": 26,
   "metadata": {
    "colab": {
     "base_uri": "https://localhost:8080/"
    },
    "id": "6LvtISYK8FUi",
    "outputId": "4c246612-ab4c-48ae-b9ee-0418513326c8"
   },
   "outputs": [
    {
     "name": "stdout",
     "output_type": "stream",
     "text": [
      "None\n"
     ]
    }
   ],
   "source": [
    "add penalty "
   ]
  },
  {
   "cell_type": "code",
   "execution_count": 38,
   "metadata": {
    "colab": {
     "base_uri": "https://localhost:8080/"
    },
    "id": "f3H_OYsD3Ris",
    "outputId": "2f57d2dc-1a04-40d3-c00a-4d963360b105"
   },
   "outputs": [
    {
     "name": "stdout",
     "output_type": "stream",
     "text": [
      "tensor([[ 0.1041,  0.0962, -0.1771,  0.0874,  0.1113, -0.2226, -0.1965, -0.0349,\n",
      "         -0.1274, -0.0800, -0.1009, -0.0265,  0.1447, -0.1653, -0.0199,  0.1231,\n",
      "         -0.1137, -0.0332,  0.1343, -0.2128]])\n",
      "tensor([[ 0.0539,  0.0498, -0.0917,  0.0452,  0.0576, -0.1152, -0.1017, -0.0180,\n",
      "         -0.0659, -0.0414, -0.0522, -0.0137,  0.0749, -0.0855, -0.0103,  0.0637,\n",
      "         -0.0589, -0.0172,  0.0695, -0.1101]])\n"
     ]
    }
   ],
   "source": [
    "w = model_u.output.weight.data\n",
    "c = normalize_u(model_u, LOWER_BOUND, UPPER_BOUND, N_POINTS)\n",
    "print(w)\n"
   ]
  },
  {
   "cell_type": "code",
   "execution_count": 51,
   "metadata": {
    "colab": {
     "base_uri": "https://localhost:8080/"
    },
    "id": "1UZQFTMv48md",
    "outputId": "5491fa81-deee-465c-ca24-3bd104b7e8bf"
   },
   "outputs": [
    {
     "name": "stdout",
     "output_type": "stream",
     "text": [
      "tensor([[ 0.0539,  0.0498, -0.0917,  0.0452,  0.0576, -0.1152, -0.1017, -0.0180,\n",
      "         -0.0659, -0.0414, -0.0522, -0.0137,  0.0749, -0.0855, -0.0103,  0.0637,\n",
      "         -0.0589, -0.0172,  0.0695, -0.1101]])\n"
     ]
    }
   ],
   "source": [
    "model_u.output.weight.data.copy_(c.item() * w)\n",
    "print(model_u.output.weight.data)\n",
    "#= model_u.output.weight * c.item()"
   ]
  },
  {
   "cell_type": "code",
   "execution_count": 52,
   "metadata": {
    "colab": {
     "base_uri": "https://localhost:8080/"
    },
    "id": "1S4oHY3zAek7",
    "outputId": "722cad77-2e93-4063-823e-220240245b5b"
   },
   "outputs": [
    {
     "data": {
      "text/plain": [
       "tensor([[ 0.0539,  0.0498, -0.0917,  0.0452,  0.0576, -0.1152, -0.1017, -0.0180,\n",
       "         -0.0659, -0.0414, -0.0522, -0.0137,  0.0749, -0.0855, -0.0103,  0.0637,\n",
       "         -0.0589, -0.0172,  0.0695, -0.1101]])"
      ]
     },
     "execution_count": 52,
     "metadata": {},
     "output_type": "execute_result"
    }
   ],
   "source": [
    "model_u.output.weight.data"
   ]
  },
  {
   "cell_type": "code",
   "execution_count": 27,
   "metadata": {
    "id": "sjtOBhyZLspO"
   },
   "outputs": [],
   "source": [
    "# PLOT DATA\n",
    "def plot_figure(x_train, y_train, x_test=None, predicted=None):\n",
    "    plt.clf()\n",
    "    plt.figure(figsize=(8, 6), dpi=80)\n",
    "    plt.plot(x_train, y_train, 'go', label='True data', alpha=0.5)\n",
    "    if predicted != None:\n",
    "        plt.plot(x_test, predicted, '--', label='Predictions', alpha=0.5)\n",
    "    plt.legend(loc='best')\n",
    "    plt.show()"
   ]
  },
  {
   "cell_type": "code",
   "execution_count": 10,
   "metadata": {
    "colab": {
     "base_uri": "https://localhost:8080/",
     "height": 430
    },
    "id": "yOAl63W0qaq_",
    "outputId": "270473f0-e4e2-48b8-88af-be4bd72bf19b"
   },
   "outputs": [
    {
     "data": {
      "text/plain": [
       "<Figure size 432x288 with 0 Axes>"
      ]
     },
     "metadata": {},
     "output_type": "display_data"
    },
    {
     "data": {
      "image/png": "[encoded data removed]",
      "text/plain": [
       "<Figure size 640x480 with 1 Axes>"
      ]
     },
     "metadata": {
      "needs_background": "light"
     },
     "output_type": "display_data"
    }
   ],
   "source": [
    "plot_figure(x_train, y_train)"
   ]
  },
  {
   "cell_type": "code",
   "execution_count": null,
   "metadata": {
    "id": "el6VL83Qddfj"
   },
   "outputs": [],
   "source": []
  },
  {
   "cell_type": "markdown",
   "metadata": {
    "id": "VPn9pDNlm88W"
   },
   "source": [
    "# HOW TO TRAIN THE NN MODEL:\n",
    "1. Reset adam_optimizer: \n",
    "```adam_opt.zero_grad()```\n",
    "2. Calculate loss\n",
    "3. Update the optimizer: \n",
    "```adam_opt.step()```\n",
    "\n",
    "\n",
    "        weight = weight - lr * gradient\n",
    "\n",
    "-> use lr and gradient to \"improve\" weight layer. \n",
    "\n",
    "Explanation:\n",
    "```adam_opt.step()```: Update the model's parameters \n"
   ]
  },
  {
   "cell_type": "code",
   "execution_count": null,
   "metadata": {
    "id": "0VfCCteSFrC8"
   },
   "outputs": [],
   "source": [
    "model_p = Nonlinear_2(4)\n",
    "adam_opt = torch.optim.Adam(model_p.parameters(), \n",
    "                                    lr=learningRate, \n",
    "                                    betas=(0.9, 0.999), \n",
    "                                    eps=1e-08, \n",
    "                                    weight_decay=0, \n",
    "                                    amsgrad=False)"
   ]
  },
  {
   "cell_type": "code",
   "execution_count": null,
   "metadata": {
    "colab": {
     "base_uri": "https://localhost:8080/"
    },
    "id": "MUjHqCmkNRzB",
    "outputId": "a8eba8cf-5f24-45cf-f588-85f437d798fc"
   },
   "outputs": [
    {
     "name": "stdout",
     "output_type": "stream",
     "text": [
      "tensor([-0.5799], grad_fn=<AddBackward0>)\n"
     ]
    }
   ],
   "source": [
    "x_i = torch.tensor([-2.5], requires_grad=True, dtype=torch.float)\n",
    "u_xi = model_p(x_i)\n",
    "print(u_xi)\n",
    "u_xi.backward()\n",
    "u_prime = x_i.grad"
   ]
  },
  {
   "cell_type": "code",
   "execution_count": null,
   "metadata": {
    "colab": {
     "base_uri": "https://localhost:8080/"
    },
    "id": "0A2qd2M1OXQ5",
    "outputId": "224f75ed-733d-4edc-f3ad-3d78dac7f66a"
   },
   "outputs": [
    {
     "name": "stdout",
     "output_type": "stream",
     "text": [
      "- Hidden layers: \n",
      "Parameter containing:\n",
      "tensor([[-0.4363],\n",
      "        [-0.2556],\n",
      "        [ 0.6323],\n",
      "        [-0.8666]], requires_grad=True)\n",
      "\n",
      "\n",
      "- Hidden layers gradients (derivative of Loss w.r.t model params): \n",
      "None\n",
      "Parameter containing:\n",
      "tensor([ 0.9463, -0.8034, -0.8181,  0.5812], requires_grad=True)\n",
      "\n",
      "\n",
      "Output layers: \n",
      "Parameter containing:\n",
      "tensor([[-0.3294, -0.3360,  0.0453, -0.0283]], requires_grad=True)\n",
      "None\n",
      "Parameter containing:\n",
      "tensor([0.4850], requires_grad=True)\n"
     ]
    }
   ],
   "source": [
    "# Access the model's parameters:\n",
    "# Model's hidden layer weight and bias\n",
    "print(\"- Hidden layers: \")\n",
    "print(model_p.hidden.weight)\n",
    "print(\"\\n\")\n",
    "\n",
    "print(\"- Hidden layers gradients (derivative of Loss w.r.t model params): \")\n",
    "print(model_p.hidden.weight.grad)\n",
    "print(model_p.hidden.bias)\n",
    "print(\"\\n\")\n",
    "\n",
    "# Model's output layer weight and bias\n",
    "print(\"Output layers: \")\n",
    "print(model_p.output.weight)\n",
    "print(model_p.hidden.weight.grad)\n",
    "print(model_p.output.bias)\n",
    "\n",
    "# model.zero_grad()\n",
    "\n",
    "i, o = (x_train[0], y_train[0])\n",
    "i = Variable(torch.from_numpy(i))\n",
    "o = Variable(torch.from_numpy(o))\n"
   ]
  },
  {
   "cell_type": "code",
   "execution_count": null,
   "metadata": {
    "colab": {
     "base_uri": "https://localhost:8080/",
     "height": 409
    },
    "id": "YI4vusv8w_40",
    "outputId": "9797e6a2-cd0f-49fd-db59-c2fda0e16171"
   },
   "outputs": [
    {
     "name": "stdout",
     "output_type": "stream",
     "text": [
      "Linear(in_features=1, out_features=4, bias=True)\n"
     ]
    },
    {
     "ename": "RuntimeError",
     "evalue": "ignored",
     "output_type": "error",
     "traceback": [
      "\u001b[0;31m---------------------------------------------------------------------------\u001b[0m",
      "\u001b[0;31mRuntimeError\u001b[0m                              Traceback (most recent call last)",
      "\u001b[0;32m<ipython-input-148-d51b9355ea65>\u001b[0m in \u001b[0;36m<module>\u001b[0;34m()\u001b[0m\n\u001b[1;32m      4\u001b[0m \u001b[0mprint\u001b[0m\u001b[0;34m(\u001b[0m\u001b[0mmodel_pp\u001b[0m\u001b[0;34m.\u001b[0m\u001b[0mhidden\u001b[0m\u001b[0;34m)\u001b[0m\u001b[0;34m\u001b[0m\u001b[0;34m\u001b[0m\u001b[0m\n\u001b[1;32m      5\u001b[0m \u001b[0mloss\u001b[0m \u001b[0;34m=\u001b[0m \u001b[0mepsilon_Loss\u001b[0m\u001b[0;34m(\u001b[0m\u001b[0mgiven_fn\u001b[0m\u001b[0;34m,\u001b[0m \u001b[0mmodel_pp\u001b[0m\u001b[0;34m,\u001b[0m \u001b[0mLOWER_BOUND\u001b[0m\u001b[0;34m,\u001b[0m \u001b[0mUPPER_BOUND\u001b[0m\u001b[0;34m,\u001b[0m \u001b[0mN_POINTS\u001b[0m\u001b[0;34m)\u001b[0m\u001b[0;34m\u001b[0m\u001b[0;34m\u001b[0m\u001b[0m\n\u001b[0;32m----> 6\u001b[0;31m \u001b[0mloss\u001b[0m\u001b[0;34m.\u001b[0m\u001b[0mbackward\u001b[0m\u001b[0;34m(\u001b[0m\u001b[0;34m)\u001b[0m\u001b[0;34m\u001b[0m\u001b[0;34m\u001b[0m\u001b[0m\n\u001b[0m",
      "\u001b[0;32m/usr/local/lib/python3.7/dist-packages/torch/_tensor.py\u001b[0m in \u001b[0;36mbackward\u001b[0;34m(self, gradient, retain_graph, create_graph, inputs)\u001b[0m\n\u001b[1;32m    361\u001b[0m                 \u001b[0mcreate_graph\u001b[0m\u001b[0;34m=\u001b[0m\u001b[0mcreate_graph\u001b[0m\u001b[0;34m,\u001b[0m\u001b[0;34m\u001b[0m\u001b[0;34m\u001b[0m\u001b[0m\n\u001b[1;32m    362\u001b[0m                 inputs=inputs)\n\u001b[0;32m--> 363\u001b[0;31m         \u001b[0mtorch\u001b[0m\u001b[0;34m.\u001b[0m\u001b[0mautograd\u001b[0m\u001b[0;34m.\u001b[0m\u001b[0mbackward\u001b[0m\u001b[0;34m(\u001b[0m\u001b[0mself\u001b[0m\u001b[0;34m,\u001b[0m \u001b[0mgradient\u001b[0m\u001b[0;34m,\u001b[0m \u001b[0mretain_graph\u001b[0m\u001b[0;34m,\u001b[0m \u001b[0mcreate_graph\u001b[0m\u001b[0;34m,\u001b[0m \u001b[0minputs\u001b[0m\u001b[0;34m=\u001b[0m\u001b[0minputs\u001b[0m\u001b[0;34m)\u001b[0m\u001b[0;34m\u001b[0m\u001b[0;34m\u001b[0m\u001b[0m\n\u001b[0m\u001b[1;32m    364\u001b[0m \u001b[0;34m\u001b[0m\u001b[0m\n\u001b[1;32m    365\u001b[0m     \u001b[0;32mdef\u001b[0m \u001b[0mregister_hook\u001b[0m\u001b[0;34m(\u001b[0m\u001b[0mself\u001b[0m\u001b[0;34m,\u001b[0m \u001b[0mhook\u001b[0m\u001b[0;34m)\u001b[0m\u001b[0;34m:\u001b[0m\u001b[0;34m\u001b[0m\u001b[0;34m\u001b[0m\u001b[0m\n",
      "\u001b[0;32m/usr/local/lib/python3.7/dist-packages/torch/autograd/__init__.py\u001b[0m in \u001b[0;36mbackward\u001b[0;34m(tensors, grad_tensors, retain_graph, create_graph, grad_variables, inputs)\u001b[0m\n\u001b[1;32m    173\u001b[0m     Variable._execution_engine.run_backward(  # Calls into the C++ engine to run the backward pass\n\u001b[1;32m    174\u001b[0m         \u001b[0mtensors\u001b[0m\u001b[0;34m,\u001b[0m \u001b[0mgrad_tensors_\u001b[0m\u001b[0;34m,\u001b[0m \u001b[0mretain_graph\u001b[0m\u001b[0;34m,\u001b[0m \u001b[0mcreate_graph\u001b[0m\u001b[0;34m,\u001b[0m \u001b[0minputs\u001b[0m\u001b[0;34m,\u001b[0m\u001b[0;34m\u001b[0m\u001b[0;34m\u001b[0m\u001b[0m\n\u001b[0;32m--> 175\u001b[0;31m         allow_unreachable=True, accumulate_grad=True)  # Calls into the C++ engine to run the backward pass\n\u001b[0m\u001b[1;32m    176\u001b[0m \u001b[0;34m\u001b[0m\u001b[0m\n\u001b[1;32m    177\u001b[0m def grad(\n",
      "\u001b[0;31mRuntimeError\u001b[0m: Trying to backward through the graph a second time (or directly access saved tensors after they have already been freed). Saved intermediate values of the graph are freed when you call .backward() or autograd.grad(). Specify retain_graph=True if you need to backward through the graph a second time or if you need to access saved tensors after calling backward."
     ]
    }
   ],
   "source": [
    "import copy\n",
    "\n",
    "model_pp = copy.deepcopy(model_p)\n",
    "print(model_pp.hidden)\n",
    "loss = epsilon_Loss(given_fn, model_pp, LOWER_BOUND, UPPER_BOUND, N_POINTS)\n",
    "loss.backward()"
   ]
  },
  {
   "cell_type": "code",
   "execution_count": null,
   "metadata": {
    "id": "OBY2VlCqSVjE"
   },
   "outputs": [],
   "source": [
    "model_pp.hidden.weight.grad"
   ]
  },
  {
   "cell_type": "code",
   "execution_count": null,
   "metadata": {
    "colab": {
     "base_uri": "https://localhost:8080/",
     "height": 355
    },
    "id": "ELHbc3btUq9f",
    "outputId": "1c256f77-a69d-4303-85c0-4c502ab692c8"
   },
   "outputs": [
    {
     "ename": "RuntimeError",
     "evalue": "ignored",
     "output_type": "error",
     "traceback": [
      "\u001b[0;31m---------------------------------------------------------------------------\u001b[0m",
      "\u001b[0;31mRuntimeError\u001b[0m                              Traceback (most recent call last)",
      "\u001b[0;32m<ipython-input-123-52a0569421b1>\u001b[0m in \u001b[0;36m<module>\u001b[0;34m()\u001b[0m\n\u001b[0;32m----> 1\u001b[0;31m \u001b[0mloss\u001b[0m\u001b[0;34m.\u001b[0m\u001b[0mbackward\u001b[0m\u001b[0;34m(\u001b[0m\u001b[0;34m)\u001b[0m\u001b[0;34m\u001b[0m\u001b[0;34m\u001b[0m\u001b[0m\n\u001b[0m",
      "\u001b[0;32m/usr/local/lib/python3.7/dist-packages/torch/_tensor.py\u001b[0m in \u001b[0;36mbackward\u001b[0;34m(self, gradient, retain_graph, create_graph, inputs)\u001b[0m\n\u001b[1;32m    361\u001b[0m                 \u001b[0mcreate_graph\u001b[0m\u001b[0;34m=\u001b[0m\u001b[0mcreate_graph\u001b[0m\u001b[0;34m,\u001b[0m\u001b[0;34m\u001b[0m\u001b[0;34m\u001b[0m\u001b[0m\n\u001b[1;32m    362\u001b[0m                 inputs=inputs)\n\u001b[0;32m--> 363\u001b[0;31m         \u001b[0mtorch\u001b[0m\u001b[0;34m.\u001b[0m\u001b[0mautograd\u001b[0m\u001b[0;34m.\u001b[0m\u001b[0mbackward\u001b[0m\u001b[0;34m(\u001b[0m\u001b[0mself\u001b[0m\u001b[0;34m,\u001b[0m \u001b[0mgradient\u001b[0m\u001b[0;34m,\u001b[0m \u001b[0mretain_graph\u001b[0m\u001b[0;34m,\u001b[0m \u001b[0mcreate_graph\u001b[0m\u001b[0;34m,\u001b[0m \u001b[0minputs\u001b[0m\u001b[0;34m=\u001b[0m\u001b[0minputs\u001b[0m\u001b[0;34m)\u001b[0m\u001b[0;34m\u001b[0m\u001b[0;34m\u001b[0m\u001b[0m\n\u001b[0m\u001b[1;32m    364\u001b[0m \u001b[0;34m\u001b[0m\u001b[0m\n\u001b[1;32m    365\u001b[0m     \u001b[0;32mdef\u001b[0m \u001b[0mregister_hook\u001b[0m\u001b[0;34m(\u001b[0m\u001b[0mself\u001b[0m\u001b[0;34m,\u001b[0m \u001b[0mhook\u001b[0m\u001b[0;34m)\u001b[0m\u001b[0;34m:\u001b[0m\u001b[0;34m\u001b[0m\u001b[0;34m\u001b[0m\u001b[0m\n",
      "\u001b[0;32m/usr/local/lib/python3.7/dist-packages/torch/autograd/__init__.py\u001b[0m in \u001b[0;36mbackward\u001b[0;34m(tensors, grad_tensors, retain_graph, create_graph, grad_variables, inputs)\u001b[0m\n\u001b[1;32m    173\u001b[0m     Variable._execution_engine.run_backward(  # Calls into the C++ engine to run the backward pass\n\u001b[1;32m    174\u001b[0m         \u001b[0mtensors\u001b[0m\u001b[0;34m,\u001b[0m \u001b[0mgrad_tensors_\u001b[0m\u001b[0;34m,\u001b[0m \u001b[0mretain_graph\u001b[0m\u001b[0;34m,\u001b[0m \u001b[0mcreate_graph\u001b[0m\u001b[0;34m,\u001b[0m \u001b[0minputs\u001b[0m\u001b[0;34m,\u001b[0m\u001b[0;34m\u001b[0m\u001b[0;34m\u001b[0m\u001b[0m\n\u001b[0;32m--> 175\u001b[0;31m         allow_unreachable=True, accumulate_grad=True)  # Calls into the C++ engine to run the backward pass\n\u001b[0m\u001b[1;32m    176\u001b[0m \u001b[0;34m\u001b[0m\u001b[0m\n\u001b[1;32m    177\u001b[0m def grad(\n",
      "\u001b[0;31mRuntimeError\u001b[0m: Trying to backward through the graph a second time (or directly access saved tensors after they have already been freed). Saved intermediate values of the graph are freed when you call .backward() or autograd.grad(). Specify retain_graph=True if you need to backward through the graph a second time or if you need to access saved tensors after calling backward."
     ]
    }
   ],
   "source": [
    "loss.backward()"
   ]
  },
  {
   "cell_type": "code",
   "execution_count": null,
   "metadata": {
    "colab": {
     "base_uri": "https://localhost:8080/"
    },
    "id": "BA_91qCHWhjs",
    "outputId": "20a262ba-f9a2-4cf1-b0c4-110596eb2f63"
   },
   "outputs": [
    {
     "name": "stdout",
     "output_type": "stream",
     "text": [
      "- Hidden layers: \n",
      "Parameter containing:\n",
      "tensor([[-0.4363],\n",
      "        [-0.2556],\n",
      "        [ 0.6323],\n",
      "        [-0.8666]], requires_grad=True)\n",
      "\n",
      "\n",
      "- Hidden layers gradients (derivative of Loss w.r.t model params): \n",
      "None\n",
      "Parameter containing:\n",
      "tensor([ 0.9463, -0.8034, -0.8181,  0.5812], requires_grad=True)\n",
      "\n",
      "\n",
      "Output layers: \n",
      "Parameter containing:\n",
      "tensor([[-0.3294, -0.3360,  0.0453, -0.0283]], requires_grad=True)\n",
      "None\n",
      "Parameter containing:\n",
      "tensor([0.4850], requires_grad=True)\n"
     ]
    }
   ],
   "source": [
    "print(\"- Hidden layers: \")\n",
    "print(model_p.hidden.weight)\n",
    "print(\"\\n\")\n",
    "\n",
    "print(\"- Hidden layers gradients (derivative of Loss w.r.t model params): \")\n",
    "print(model_p.hidden.weight.grad)\n",
    "print(model_p.hidden.bias)\n",
    "print(\"\\n\")\n",
    "\n",
    "# Model's output layer weight and bias\n",
    "print(\"Output layers: \")\n",
    "print(model_p.output.weight)\n",
    "print(model_p.hidden.weight.grad)\n",
    "print(model_p.output.bias)\n",
    "\n",
    "# model.zero_grad()\n",
    "\n",
    "i, o = (x_train[0], y_train[0])\n",
    "i = Variable(torch.from_numpy(i))\n",
    "o = Variable(torch.from_numpy(o))"
   ]
  },
  {
   "cell_type": "code",
   "execution_count": null,
   "metadata": {
    "colab": {
     "base_uri": "https://localhost:8080/"
    },
    "id": "6jQeEbaMHkeA",
    "outputId": "32d5985d-7d0f-4048-c555-7ef3785149ca"
   },
   "outputs": [
    {
     "data": {
      "text/plain": [
       "tensor([0., 0., 0.])"
      ]
     },
     "execution_count": 54,
     "metadata": {},
     "output_type": "execute_result"
    }
   ],
   "source": [
    "x.grad.zero_()"
   ]
  },
  {
   "cell_type": "code",
   "execution_count": null,
   "metadata": {
    "colab": {
     "base_uri": "https://localhost:8080/"
    },
    "id": "zkmedTJ6J1Hr",
    "outputId": "01a83e6e-280c-4a72-d9c4-bff991258866"
   },
   "outputs": [
    {
     "name": "stdout",
     "output_type": "stream",
     "text": [
      "tensor([True, True])\n",
      "tensor([True, True])\n"
     ]
    }
   ],
   "source": [
    "a = torch.tensor([2., 3.], requires_grad=True)\n",
    "b = torch.tensor([6., 4.], requires_grad=True)\n",
    "\n",
    "t = 3*a**3 - b**2\n",
    "\n",
    "external_grad = torch.tensor([1., 1.])\n",
    "t.backward(gradient=external_grad)\n",
    "\n",
    "print(9*a**2 == a.grad)\n",
    "print(-2*b == b.grad)"
   ]
  },
  {
   "cell_type": "markdown",
   "metadata": {
    "id": "ZyuNXuz-iLBZ"
   },
   "source": [
    "https://neptune.ai/blog/pytorch-loss-functions\n",
    "https://stackoverflow.com/questions/53980031/pytorch-custom-loss-function\n",
    "https://stackoverflow.com/questions/65947284/loss-with-custom-backward-function-in-pytorch-exploding-loss-in-simple-mse-exa\n",
    "https://www.youtube.com/watch?v=ma2KXWblllc"
   ]
  },
  {
   "cell_type": "code",
   "execution_count": null,
   "metadata": {
    "id": "M0PS0efCiJCp"
   },
   "outputs": [],
   "source": []
  }
 ],
 "metadata": {
  "colab": {
   "name": "PyTorch_.ipynb",
   "provenance": []
  },
  "kernelspec": {
   "display_name": "Python 3",
   "language": "python",
   "name": "python3"
  },
  "language_info": {
   "codemirror_mode": {
    "name": "ipython",
    "version": 3
   },
   "file_extension": ".py",
   "mimetype": "text/x-python",
   "name": "python",
   "nbconvert_exporter": "python",
   "pygments_lexer": "ipython3",
   "version": "3.7.7"
  },
  "vscode": {
   "interpreter": {
    "hash": "8c21580189d9a9d7f1e3fef63ff70de58083dda94aa35d8ed937f03fa405217e"
   }
  }
 },
 "nbformat": 4,
 "nbformat_minor": 4
}
