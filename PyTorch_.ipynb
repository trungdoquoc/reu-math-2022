{
  "cells": [
    {
      "cell_type": "markdown",
      "metadata": {
        "id": "MpofWgGancyb"
      },
      "source": [
        "The input of the NN is 1D. "
      ]
    },
    {
      "cell_type": "code",
      "execution_count": 121,
      "metadata": {
        "id": "e-NAhHF3ncye"
      },
      "outputs": [],
      "source": [
        "import numpy as np\n",
        "import copy\n",
        "import torch\n",
        "import torch.nn as nn\n",
        "import math\n",
        "from torch.autograd import Variable\n",
        "from torch.nn.functional import normalize\n",
        "from sklearn.model_selection import train_test_split\n",
        "from torch.nn.functional import normalize\n",
        "import matplotlib.pyplot as plt\n",
        "\n",
        "INPUT_SIZE = 1\n",
        "OUTPUT_SIZE = 1\n",
        "\n",
        "LAMBDA_PEN = 1000000\n",
        "LOWER_BOUND = -6\n",
        "UPPER_BOUND = 6\n",
        "N_POINTS = 1001\n",
        "\n",
        "\n",
        "def quad_fn(a, b, c, x):\n",
        "    return a*x**2 + b*x + c\n",
        "\n",
        "def x_square(x: torch.tensor) -> torch.Tensor:\n",
        "    return x**2\n",
        "\n",
        "# DEFINE GIVEN FUNCTION V(x): ax^2 + bx + c\n",
        "given_fn = x_square"
      ]
    },
    {
      "cell_type": "code",
      "execution_count": 57,
      "metadata": {
        "colab": {
          "base_uri": "https://localhost:8080/"
        },
        "id": "EstQ_ILqQeOt",
        "outputId": "05fddfe0-6488-47c0-efb9-e701e5b03fea"
      },
      "outputs": [
        {
          "output_type": "stream",
          "name": "stdout",
          "text": [
            "(1001, 1) (1001, 1)\n"
          ]
        }
      ],
      "source": [
        "# CREATING DATASET:\n",
        "x_values = [i for i in np.linspace(LOWER_BOUND, UPPER_BOUND, N_POINTS)]\n",
        "y_values = [given_fn(i) for i in x_values]\n",
        "\n",
        "x_train = np.array(x_values, dtype=np.float32).reshape(-1, 1)\n",
        "y_train = np.array(y_values, dtype=np.float32).reshape(-1, 1)\n",
        "\n",
        "print(x_train.shape, y_train.shape)"
      ]
    },
    {
      "cell_type": "code",
      "execution_count": 73,
      "metadata": {
        "id": "SOtFslmCncyg"
      },
      "outputs": [],
      "source": [
        "# CUSTOM LOSS FUNCTION:\n",
        "# def EpsilonLoss(nn.Module):\n",
        "\n",
        "def epsilon_Loss(v_x, model_u, lower_bound, upper_bound, n_points):\n",
        "    \"\"\"\n",
        "    GOAL: Epsilon function evaluated at u using discretized estimation\n",
        "    minimizing Epsilon(u) = \n",
        "    \n",
        "    ARGS: \n",
        "    n_points (int): number of discretized points on the interval [-L, L]\n",
        "    e.g.: -(L)|---|---|---|---|(L) interval has n_points = 5\n",
        "\n",
        "    v_x (torch.Tensor): function instance\n",
        "    model_u (torch.Tensor): model output\n",
        "    \"\"\"\n",
        "    sum = 0\n",
        "    discrete_points = np.linspace(lower_bound, upper_bound, n_points)\n",
        "    h = discrete_points[1] - discrete_points[0]\n",
        "    for i in discrete_points:\n",
        "        x_i = torch.tensor([i], requires_grad=True, dtype=torch.float)\n",
        "        u_xi = model_u(x_i)\n",
        "\n",
        "        u_prime = model_u.u_prime_2(x_i)\n",
        "        \n",
        "        v_xi = v_x(x_i)\n",
        "        t = torch.square(u_prime) + v_xi*(u_xi**2)\n",
        "        sum += t\n",
        "        # print(\"x_i = \" + str(x_i))\n",
        "        # print(\"u_xi = \" + str(u_xi))\n",
        "        # print(\"u_prime = \" + str(u_prime))\n",
        "        # print(\"v_xi = \" + str(v_xi))\n",
        "        # print(t)\n",
        "        # print('-----')\n",
        "    return 0.5*h*sum\n",
        "\n",
        "def epsilon_Loss_penalty(v_x, model_u, lambda_pen,\n",
        "                         lower_bound, upper_bound, n_points):\n",
        "    \"\"\"\n",
        "    \n",
        "    \"\"\"\n",
        "    sum = 0\n",
        "    pen = 0\n",
        "\n",
        "    discrete_points = np.linspace(lower_bound, upper_bound, n_points)\n",
        "    h = discrete_points[1] - discrete_points[0]\n",
        "    for i in discrete_points:\n",
        "        x_i = torch.tensor([i], requires_grad=True, dtype=torch.float)\n",
        "        u_xi = model_u(x_i)\n",
        "\n",
        "        u_prime = model_u.u_prime_2(x_i)\n",
        "        \n",
        "        v_xi = v_x(x_i)\n",
        "        t = torch.square(u_prime) + v_xi*(u_xi**2)\n",
        "        sum += t\n",
        "    epsilon_fn = 0.5*h*sum\n",
        "    \n",
        "    temp = 0\n",
        "    for i in discrete_points:\n",
        "        x_i = torch.tensor([i], requires_grad=True, dtype=torch.float)\n",
        "        temp += torch.square(model_u(x_i))\n",
        "    \n",
        "    pen = lambda_pen * torch.square((temp*h-1))\n",
        "    return epsilon_fn + pen \n",
        "\n",
        "# NORMALIZE MODEL u(x) OUTPUT:\n",
        "def normalize_u(model_u, lower_bound, upper_bound, n_points):\n",
        "    \"\"\"\n",
        "    Normalize model.output weight by: \n",
        "    model.output *= c\n",
        "    where,\n",
        "    scalar c = 1/denom\n",
        "    \"\"\"\n",
        "    discrete_points = np.linspace(lower_bound, upper_bound, n_points)\n",
        "    h = discrete_points[1] - discrete_points[0]\n",
        "    s = 0\n",
        "    for i in discrete_points:\n",
        "        x_i = torch.tensor([i], requires_grad=True, dtype=torch.float)\n",
        "        t = model_u(x_i)**2\n",
        "        s += t\n",
        "    denom = math.sqrt(h) * torch.sqrt(s)\n",
        "    return 1/denom"
      ]
    },
    {
      "cell_type": "code",
      "execution_count": 91,
      "metadata": {
        "id": "06QWhlkpQ5Eh"
      },
      "outputs": [],
      "source": [
        "# CREATING MODEL CLASS\n",
        "class Nonlinear(nn.Module):\n",
        "    def __init__(self, n):\n",
        "        # One hidden layer with n nodes\n",
        "        super().__init__()\n",
        "        self.hidden = nn.Linear(1, n)\n",
        "        self.output = nn.Linear(n, 1)\n",
        "        \n",
        "        self.sigmoid = nn.Sigmoid()\n",
        "        self.tanh = nn.Tanh()\n",
        "        self.target_fn = given_fn\n",
        "\n",
        "    def forward(self, x, use_tanh_fn = False, activation_on_output = False):\n",
        "        if use_tanh_fn == True:\n",
        "            x = self.hidden(x)\n",
        "            x = self.tanh(x)\n",
        "            x = self.output(x)\n",
        "            \n",
        "        else:\n",
        "            x = self.hidden(x)\n",
        "            x = self.sigmoid(x)\n",
        "            x = self.output(x)\n",
        "            \n",
        "        if activation_on_output == False:\n",
        "            return x\n",
        "        else:\n",
        "            if use_tanh_fn == True:\n",
        "                return self.tanh(x)\n",
        "            else:       \n",
        "                return self.sigmoid(x)\n",
        "        # output is a linear combination of the hidden layers because \n",
        "        # we perform regression ???\n",
        "        return x\n",
        "\n",
        "    def u_prime_2(self, input):\n",
        "        i_clone = input.clone()\n",
        "        clone = copy.deepcopy(self)\n",
        "        res = clone(i_clone).backward()\n",
        "        return i_clone.clone()\n",
        "\n",
        "    def u_prime(self, input):\n",
        "        \"\"\"\n",
        "        NN with 1 hidden node layer is of the form:\n",
        "        u(x) = SUM_i_to_N(a_i * sigmoid(w.x + b))\n",
        "\n",
        "        where\n",
        "        a_i is the corresponding weight of self.output layerq\n",
        "        w is self.hidden.weight vector\n",
        "        b is self.hidden.bias vector\n",
        "        sigmoid(w.x + b) is the sigmoid-activated hidden vector\n",
        "\n",
        "        Formula of u'(x) (for 1 hidden layer NN):\n",
        "        u'(x) = SUM_i_to_N(w_i*a_i*sigmoid'(w_i*x+b))\n",
        "        Note: sigmoid'(w_i*x +b) = sigmoid(w_i*x+b)*(1-sigmoid(w_i*x+b))\n",
        "        \"\"\"\n",
        "        a_i = self.output.weight.data\n",
        "        w_i = torch.transpose(self.hidden.weight.data, 0, 1)\n",
        "        wi_ai = w_i * a_i\n",
        "\n",
        "        hid_layer = self.hidden(input)\n",
        "        hid_layer_T = torch.reshape(hid_layer, (list(hid_layer.shape)[0], 1))\n",
        "        m = hid_layer_T * (1-hid_layer_T)\n",
        "\n",
        "        return wi_ai @ m\n",
        "    \n",
        "# TRANING MODEL\n",
        "    def train_network_with_penalty(self, num_epochs, v_x, optimizer, lambda_pen,\n",
        "                                    lower_bound, upper_bound, n_points):\n",
        "        # For plotting loss value over epochs:\n",
        "        x_epochs = []\n",
        "        y_loss = []\n",
        "        \n",
        "        # stopping criterion:\n",
        "        stop_counter = 0\n",
        "\n",
        "        for epoch in range(num_epochs):\n",
        "            optimizer.zero_grad()\n",
        "            loss = epsilon_Loss_penalty(v_x, self, lambda_pen,\n",
        "                                        lower_bound, upper_bound, n_points)\n",
        "            y_loss.append(loss)\n",
        "            x_epochs.append(epoch)\n",
        "            #check if need to stop training:\n",
        "            if epoch > 0 and stop_counter >= 5:\n",
        "                c = normalize_u(self, lower_bound, upper_bound, n_points)\n",
        "                self.output.weight.data.copy_(c.item() * self.output.weight.data)\n",
        "                self.output.bias.data.copy_(c.item() * self.output.bias.data)\n",
        "                print(\"c value = \" + str(c))\n",
        "                print(\"LOSS VALUE = \" \n",
        "                      + str(epsilon_Loss(v_x, self, lower_bound, upper_bound, n_points)))\n",
        "                break\n",
        "            elif epoch > 0 and stop_counter < 5:\n",
        "                if torch.abs(y_loss[epoch-1]-loss) <= 1e-5:\n",
        "                    stop_counter += 1\n",
        "                else:\n",
        "                    stop_counter = 0\n",
        "\n",
        "            print('epoch {}, loss {}'.format(epoch, loss.item()))\n",
        "            loss.backward()\n",
        "            # Calculate the derivative(loss) w.r.t the model's parameters\n",
        "            adam_optimizer.step()\n",
        "\n",
        "        return (x_epochs, y_loss)"
      ]
    },
    {
      "cell_type": "code",
      "source": [
        "l = epsilon_Loss(given_fn, model, \n",
        "                            LOWER_BOUND, UPPER_BOUND, N_POINTS)\n",
        "l"
      ],
      "metadata": {
        "id": "2saw960759Td",
        "outputId": "15fd19c7-cccc-403f-dd6f-1b223c54c84d",
        "colab": {
          "base_uri": "https://localhost:8080/"
        }
      },
      "execution_count": 130,
      "outputs": [
        {
          "output_type": "execute_result",
          "data": {
            "text/plain": [
              "tensor([78.7160], grad_fn=<MulBackward0>)"
            ]
          },
          "metadata": {},
          "execution_count": 130
        }
      ]
    },
    {
      "cell_type": "code",
      "execution_count": 131,
      "metadata": {
        "id": "Wgx4K0yugVxX",
        "outputId": "ae40cf07-991b-46ce-e62b-da3c83c7990a",
        "colab": {
          "base_uri": "https://localhost:8080/"
        }
      },
      "outputs": [
        {
          "output_type": "execute_result",
          "data": {
            "text/plain": [
              "tensor([78.7160], grad_fn=<AddBackward0>)"
            ]
          },
          "metadata": {},
          "execution_count": 131
        }
      ],
      "source": [
        "loss = epsilon_Loss_penalty(given_fn, model, LAMBDA_PEN, \n",
        "                            LOWER_BOUND, UPPER_BOUND, N_POINTS)\n",
        "loss"
      ]
    },
    {
      "cell_type": "code",
      "execution_count": 92,
      "metadata": {
        "id": "hbBxk8_fncyl"
      },
      "outputs": [],
      "source": [
        "# DEFINE HYPER-PARAMETERS\n",
        "batch_size = 50\n",
        "learningRate = 0.05\n",
        "num_epochs = 2000\n",
        "# num_epochs = int(num_iters/(len(x_train)/batch_size))\n",
        "\n",
        "#INIT PARAMETERS: \n",
        "# v_x = given_fn\n",
        "l_b = -10\n",
        "u_b = 10\n",
        "n_points = 5\n",
        "\n",
        "#INIT MODEL\n",
        "model = Nonlinear(20)\n",
        "if torch.cuda.is_available():\n",
        "    model.cuda()\n",
        "\n",
        "# INIT OPTIMIZER CLASS\n",
        "# What is an optimizer: \n",
        "# SGD:\n",
        "# SGD_optimizer = torch.optim.SGD(model.parameters(), lr=learningRate)\n",
        "# Adam:\n",
        "adam_optimizer = torch.optim.Adam(model.parameters(), \n",
        "                                    lr=learningRate, \n",
        "                                    betas=(0.9, 0.999), \n",
        "                                    eps=1e-08, \n",
        "                                    weight_decay=0, \n",
        "                                    amsgrad=False)\n",
        "\n",
        "# INIT LOSS FUNCTION: MSE\n",
        "# criterion = epsilon_Loss"
      ]
    },
    {
      "cell_type": "code",
      "execution_count": 93,
      "metadata": {
        "colab": {
          "base_uri": "https://localhost:8080/"
        },
        "id": "WZbaJ3MsB08r",
        "outputId": "e4f00711-7d1d-4c9f-f6bf-cb3853261c75"
      },
      "outputs": [
        {
          "output_type": "stream",
          "name": "stdout",
          "text": [
            "epoch 0, loss 311638.4375\n",
            "epoch 1, loss 115870.3203125\n",
            "epoch 2, loss 28678496.0\n",
            "epoch 3, loss 666085.75\n",
            "epoch 4, loss 748461.5625\n",
            "epoch 5, loss 396264.75\n",
            "epoch 6, loss 615118.5625\n",
            "epoch 7, loss 6818436.5\n",
            "epoch 8, loss 10006583.0\n",
            "epoch 9, loss 4798531.5\n",
            "epoch 10, loss 729066.4375\n",
            "epoch 11, loss 16824.146484375\n",
            "epoch 12, loss 447408.21875\n",
            "epoch 13, loss 792369.875\n",
            "epoch 14, loss 821905.5625\n",
            "epoch 15, loss 606870.0625\n",
            "epoch 16, loss 282927.0625\n",
            "epoch 17, loss 31810.541015625\n",
            "epoch 18, loss 64147.80078125\n",
            "epoch 19, loss 477790.15625\n",
            "epoch 20, loss 1043489.8125\n",
            "epoch 21, loss 1290062.25\n",
            "epoch 22, loss 1016130.625\n",
            "epoch 23, loss 505775.9375\n",
            "epoch 24, loss 127561.359375\n",
            "epoch 25, loss 1075.3262939453125\n",
            "epoch 26, loss 51326.9921875\n",
            "epoch 27, loss 170163.625\n",
            "epoch 28, loss 289158.5\n",
            "epoch 29, loss 379963.5\n",
            "epoch 30, loss 436101.375\n",
            "epoch 31, loss 459275.15625\n",
            "epoch 32, loss 452779.40625\n",
            "epoch 33, loss 419435.46875\n",
            "epoch 34, loss 361859.21875\n",
            "epoch 35, loss 283994.6875\n",
            "epoch 36, loss 193340.953125\n",
            "epoch 37, loss 103055.9765625\n",
            "epoch 38, loss 32090.849609375\n",
            "epoch 39, loss 538.6531982421875\n",
            "epoch 40, loss 18684.384765625\n",
            "epoch 41, loss 74616.3828125\n",
            "epoch 42, loss 133458.265625\n",
            "epoch 43, loss 157447.8125\n",
            "epoch 44, loss 133517.9375\n",
            "epoch 45, loss 80612.5703125\n",
            "epoch 46, loss 30292.978515625\n",
            "epoch 47, loss 3382.43994140625\n",
            "epoch 48, loss 2435.376220703125\n",
            "epoch 49, loss 18170.15625\n",
            "epoch 50, loss 38612.359375\n",
            "epoch 51, loss 54529.07421875\n",
            "epoch 52, loss 60977.77734375\n",
            "epoch 53, loss 56923.83984375\n",
            "epoch 54, loss 44384.19140625\n",
            "epoch 55, loss 27550.59375\n",
            "epoch 56, loss 11738.9609375\n",
            "epoch 57, loss 1881.1707763671875\n",
            "epoch 58, loss 652.5919189453125\n",
            "epoch 59, loss 7013.2783203125\n",
            "epoch 60, loss 16378.6044921875\n",
            "epoch 61, loss 22968.978515625\n",
            "epoch 62, loss 23143.2890625\n",
            "epoch 63, loss 17321.8359375\n",
            "epoch 64, loss 9109.205078125\n",
            "epoch 65, loss 2604.377685546875\n",
            "epoch 66, loss 96.84413146972656\n",
            "epoch 67, loss 1442.5223388671875\n",
            "epoch 68, loss 4857.63427734375\n",
            "epoch 69, loss 8167.7734375\n",
            "epoch 70, loss 9779.7109375\n",
            "epoch 71, loss 9131.9541015625\n",
            "epoch 72, loss 6681.29541015625\n",
            "epoch 73, loss 3564.4716796875\n",
            "epoch 74, loss 1070.3973388671875\n",
            "epoch 75, loss 83.45619201660156\n",
            "epoch 76, loss 706.4634399414062\n",
            "epoch 77, loss 2256.524169921875\n",
            "epoch 78, loss 3673.12939453125\n",
            "epoch 79, loss 4121.7890625\n",
            "epoch 80, loss 3424.759521484375\n",
            "epoch 81, loss 2056.851318359375\n",
            "epoch 82, loss 766.6128540039062\n",
            "epoch 83, loss 117.69275665283203\n",
            "epoch 84, loss 235.14370727539062\n",
            "epoch 85, loss 842.834716796875\n",
            "epoch 86, loss 1489.7769775390625\n",
            "epoch 87, loss 1803.11328125\n",
            "epoch 88, loss 1645.7230224609375\n",
            "epoch 89, loss 1135.592529296875\n",
            "epoch 90, loss 547.1404418945312\n",
            "epoch 91, loss 155.077392578125\n",
            "epoch 92, loss 96.84788513183594\n",
            "epoch 93, loss 318.516357421875\n",
            "epoch 94, loss 627.4371337890625\n",
            "epoch 95, loss 815.8125\n",
            "epoch 96, loss 778.6468505859375\n",
            "epoch 97, loss 556.19873046875\n",
            "epoch 98, loss 286.48590087890625\n",
            "epoch 99, loss 109.5962142944336\n",
            "epoch 100, loss 89.25411987304688\n",
            "epoch 101, loss 193.06808471679688\n",
            "epoch 102, loss 329.04412841796875\n",
            "epoch 103, loss 406.5543518066406\n",
            "epoch 104, loss 384.249267578125\n",
            "epoch 105, loss 283.129638671875\n",
            "epoch 106, loss 164.35635375976562\n",
            "epoch 107, loss 89.39186096191406\n",
            "epoch 108, loss 85.84190368652344\n",
            "epoch 109, loss 137.0524444580078\n",
            "epoch 110, loss 198.3414306640625\n",
            "epoch 111, loss 227.25413513183594\n",
            "epoch 112, loss 208.04095458984375\n",
            "epoch 113, loss 156.39410400390625\n",
            "epoch 114, loss 104.61056518554688\n",
            "epoch 115, loss 79.54891204833984\n",
            "epoch 116, loss 87.7288818359375\n",
            "epoch 117, loss 115.34425354003906\n",
            "epoch 118, loss 140.0609130859375\n",
            "epoch 119, loss 145.5714874267578\n",
            "epoch 120, loss 130.03831481933594\n",
            "epoch 121, loss 104.5199203491211\n",
            "epoch 122, loss 84.28312683105469\n",
            "epoch 123, loss 78.95865631103516\n",
            "epoch 124, loss 87.67137145996094\n",
            "epoch 125, loss 101.30867004394531\n",
            "epoch 126, loss 109.45205688476562\n",
            "epoch 127, loss 107.00978088378906\n",
            "epoch 128, loss 96.45169067382812\n",
            "epoch 129, loss 84.9302978515625\n",
            "epoch 130, loss 78.9816665649414\n",
            "epoch 131, loss 80.55968475341797\n",
            "epoch 132, loss 86.64422607421875\n",
            "epoch 133, loss 92.02980041503906\n",
            "epoch 134, loss 92.9328384399414\n",
            "epoch 135, loss 89.13873291015625\n",
            "epoch 136, loss 83.4439468383789\n",
            "epoch 137, loss 79.4265365600586\n",
            "epoch 138, loss 78.97718048095703\n",
            "epoch 139, loss 81.4163818359375\n",
            "epoch 140, loss 84.3599853515625\n",
            "epoch 141, loss 85.54708862304688\n",
            "epoch 142, loss 84.2815170288086\n",
            "epoch 143, loss 81.6240234375\n",
            "epoch 144, loss 79.36741638183594\n",
            "epoch 145, loss 78.73863983154297\n",
            "epoch 146, loss 79.69003295898438\n",
            "epoch 147, loss 81.15990447998047\n",
            "epoch 148, loss 81.94690704345703\n",
            "epoch 149, loss 81.54097747802734\n",
            "epoch 150, loss 80.31842803955078\n",
            "epoch 151, loss 79.14859008789062\n",
            "epoch 152, loss 78.71636962890625\n",
            "epoch 153, loss 79.0971908569336\n",
            "epoch 154, loss 79.81307220458984\n",
            "epoch 155, loss 80.2527847290039\n",
            "epoch 156, loss 80.10916900634766\n",
            "epoch 157, loss 79.53263092041016\n",
            "epoch 158, loss 78.94808959960938\n",
            "epoch 159, loss 78.71629333496094\n",
            "epoch 160, loss 78.8911361694336\n",
            "epoch 161, loss 79.24128723144531\n",
            "epoch 162, loss 79.45902252197266\n",
            "epoch 163, loss 79.38923645019531\n",
            "epoch 164, loss 79.10730743408203\n",
            "epoch 165, loss 78.82306671142578\n",
            "epoch 166, loss 78.71622467041016\n",
            "epoch 167, loss 78.80944061279297\n",
            "epoch 168, loss 78.98287200927734\n",
            "epoch 169, loss 79.08173370361328\n",
            "epoch 170, loss 79.03544616699219\n",
            "epoch 171, loss 78.89107513427734\n",
            "epoch 172, loss 78.7574462890625\n",
            "epoch 173, loss 78.7172622680664\n",
            "epoch 174, loss 78.77293395996094\n",
            "epoch 175, loss 78.85826110839844\n",
            "epoch 176, loss 78.89753723144531\n",
            "epoch 177, loss 78.86360168457031\n",
            "epoch 178, loss 78.78814697265625\n",
            "epoch 179, loss 78.72855377197266\n",
            "epoch 180, loss 78.71910858154297\n",
            "epoch 181, loss 78.75322723388672\n",
            "epoch 182, loss 78.79335021972656\n",
            "epoch 183, loss 78.80538940429688\n",
            "epoch 184, loss 78.78130340576172\n",
            "epoch 185, loss 78.74297332763672\n",
            "epoch 186, loss 78.71835327148438\n",
            "epoch 187, loss 78.72086334228516\n",
            "epoch 188, loss 78.74122619628906\n",
            "epoch 189, loss 78.75859832763672\n",
            "epoch 190, loss 78.75855255126953\n",
            "epoch 191, loss 78.74263000488281\n",
            "epoch 192, loss 78.72409057617188\n",
            "epoch 193, loss 78.7161636352539\n",
            "epoch 194, loss 78.72138214111328\n",
            "epoch 195, loss 78.73253631591797\n",
            "epoch 196, loss 78.73848724365234\n",
            "epoch 197, loss 78.7352523803711\n",
            "epoch 198, loss 78.72561645507812\n",
            "epoch 199, loss 78.7177505493164\n",
            "epoch 200, loss 78.7165756225586\n",
            "epoch 201, loss 78.72099304199219\n",
            "epoch 202, loss 78.72633361816406\n",
            "epoch 203, loss 78.72735595703125\n",
            "epoch 204, loss 78.72361755371094\n",
            "epoch 205, loss 78.71880340576172\n",
            "epoch 206, loss 78.71620178222656\n",
            "epoch 207, loss 78.71719360351562\n",
            "epoch 208, loss 78.71997833251953\n",
            "epoch 209, loss 78.72173309326172\n",
            "epoch 210, loss 78.72100067138672\n",
            "epoch 211, loss 78.71868133544922\n",
            "epoch 212, loss 78.71656036376953\n",
            "epoch 213, loss 78.71622467041016\n",
            "epoch 214, loss 78.7173843383789\n",
            "epoch 215, loss 78.71874237060547\n",
            "epoch 216, loss 78.71898651123047\n",
            "epoch 217, loss 78.71805572509766\n",
            "epoch 218, loss 78.71674346923828\n",
            "epoch 219, loss 78.71612548828125\n",
            "epoch 220, loss 78.7164306640625\n",
            "epoch 221, loss 78.71720886230469\n",
            "epoch 222, loss 78.71759033203125\n",
            "epoch 223, loss 78.71736145019531\n",
            "epoch 224, loss 78.71666717529297\n",
            "epoch 225, loss 78.71615600585938\n",
            "epoch 226, loss 78.7161865234375\n",
            "epoch 227, loss 78.71652221679688\n",
            "epoch 228, loss 78.71685028076172\n",
            "epoch 229, loss 78.71684265136719\n",
            "epoch 230, loss 78.71652221679688\n",
            "epoch 231, loss 78.7161865234375\n",
            "epoch 232, loss 78.71609497070312\n",
            "epoch 233, loss 78.71624755859375\n",
            "epoch 234, loss 78.71643829345703\n",
            "epoch 235, loss 78.71646881103516\n",
            "epoch 236, loss 78.7163314819336\n",
            "epoch 237, loss 78.71615600585938\n",
            "epoch 238, loss 78.7160873413086\n",
            "epoch 239, loss 78.71613311767578\n",
            "epoch 240, loss 78.71623229980469\n",
            "epoch 241, loss 78.71627807617188\n",
            "epoch 242, loss 78.7162094116211\n",
            "epoch 243, loss 78.71612548828125\n",
            "epoch 244, loss 78.71607208251953\n",
            "epoch 245, loss 78.71607208251953\n",
            "epoch 246, loss 78.71614837646484\n",
            "epoch 247, loss 78.71617889404297\n",
            "epoch 248, loss 78.71614837646484\n",
            "epoch 249, loss 78.71607971191406\n",
            "epoch 250, loss 78.716064453125\n",
            "epoch 251, loss 78.71605682373047\n",
            "epoch 252, loss 78.7160873413086\n",
            "epoch 253, loss 78.7160873413086\n",
            "epoch 254, loss 78.71609497070312\n",
            "epoch 255, loss 78.716064453125\n",
            "epoch 256, loss 78.7160415649414\n",
            "epoch 257, loss 78.71604919433594\n",
            "epoch 258, loss 78.716064453125\n",
            "epoch 259, loss 78.716064453125\n",
            "epoch 260, loss 78.71607208251953\n",
            "epoch 261, loss 78.71605682373047\n",
            "epoch 262, loss 78.71603393554688\n",
            "epoch 263, loss 78.71601104736328\n",
            "epoch 264, loss 78.71602630615234\n",
            "epoch 265, loss 78.71601867675781\n",
            "epoch 266, loss 78.71601867675781\n",
            "epoch 267, loss 78.71602630615234\n",
            "epoch 268, loss 78.71601104736328\n",
            "epoch 269, loss 78.71601867675781\n",
            "epoch 270, loss 78.71601104736328\n",
            "epoch 271, loss 78.71600341796875\n",
            "epoch 272, loss 78.71600341796875\n",
            "epoch 273, loss 78.71600341796875\n",
            "c value = tensor([1.0000], grad_fn=<MulBackward0>)\n",
            "LOSS VALUE = tensor([78.7160], grad_fn=<MulBackward0>)\n"
          ]
        }
      ],
      "source": [
        "graph_val = model.train_network_with_penalty(num_epochs, given_fn, adam_optimizer, LAMBDA_PEN, LOWER_BOUND, UPPER_BOUND, N_POINTS)"
      ]
    },
    {
      "cell_type": "code",
      "execution_count": null,
      "metadata": {
        "colab": {
          "base_uri": "https://localhost:8080/"
        },
        "id": "zkbD3fXRLGBI",
        "outputId": "7dfa28bb-5379-4069-a4be-cf3dc88e551d"
      },
      "outputs": [
        {
          "data": {
            "text/plain": [
              "tensor([[345.6585]], grad_fn=<MulBackward0>)"
            ]
          },
          "execution_count": 79,
          "metadata": {},
          "output_type": "execute_result"
        }
      ],
      "source": [
        "epsilon_Loss(v_x, model, LOWER_BOUND, UPPER_BOUND, N_POINTS)"
      ]
    },
    {
      "cell_type": "code",
      "execution_count": 110,
      "metadata": {
        "id": "XBYQKdIYHYOY"
      },
      "outputs": [],
      "source": [
        "loss_val = [i.detach().numpy().item() for i in graph_val[1]]"
      ]
    },
    {
      "cell_type": "code",
      "execution_count": 113,
      "metadata": {
        "colab": {
          "base_uri": "https://localhost:8080/"
        },
        "id": "fKZP39qEHj_Z",
        "outputId": "065e7dfb-d136-4412-c8e1-70abb86d2b2d"
      },
      "outputs": [
        {
          "output_type": "execute_result",
          "data": {
            "text/plain": [
              "[270, 271, 272, 273, 274]"
            ]
          },
          "metadata": {},
          "execution_count": 113
        }
      ],
      "source": [
        "graph_val[0][270:]"
      ]
    },
    {
      "cell_type": "code",
      "execution_count": 118,
      "metadata": {
        "colab": {
          "base_uri": "https://localhost:8080/",
          "height": 430
        },
        "id": "jd2I0gRqHO8Z",
        "outputId": "15978184-99da-4f52-d206-d0deff5669aa"
      },
      "outputs": [
        {
          "output_type": "display_data",
          "data": {
            "text/plain": [
              "<Figure size 432x288 with 0 Axes>"
            ]
          },
          "metadata": {}
        },
        {
          "output_type": "display_data",
          "data": {
            "text/plain": [
              "<Figure size 640x480 with 1 Axes>"
            ],
            "image/png": "[encoded data removed]"
          },
          "metadata": {
            "needs_background": "light"
          }
        }
      ],
      "source": [
        "plot_figure(graph_val[0][150:], loss_val[150:])"
      ]
    },
    {
      "cell_type": "markdown",
      "source": [
        "Dear professor, here's my current progress:\n",
        "1. I implement epsilon_Loss_penalty function. Now, the training process will iterate until it counts 5 consecutive times the loss difference between the current loss values with its previous loss < 1e-5. \n",
        "\n",
        "    Then, it finds the normalization constant c and apply to model.output weight layer and its bias. Then the algorithm updates the normalized output weight layer for the model. \n",
        "\n",
        "    The result: the training process only takes < 300 epochs to converge to a loss value of 78.7160. This occurs consistently after several re-runs. The problem: the constant c is 1 from my normalization function. I'm looking for a normalization from the PyTorch library to use instead. Please let me know if I can use this function for the normalization part: [PyTorch normalization function](https://pytorch.org/docs/stable/generated/torch.nn.functional.normalize.html)\n"
      ],
      "metadata": {
        "id": "3GZ9S2gz-JM1"
      }
    },
    {
      "cell_type": "code",
      "execution_count": 117,
      "metadata": {
        "id": "sjtOBhyZLspO"
      },
      "outputs": [],
      "source": [
        "# PLOT DATA\n",
        "def plot_figure(x_train, y_train, x_test=None, predicted=None):\n",
        "    plt.clf()\n",
        "    plt.figure(figsize=(8, 6), dpi=80)\n",
        "    plt.plot(x_train, y_train, '--', label='True data', alpha=0.5)\n",
        "    if predicted != None:\n",
        "        plt.plot(x_test, predicted, '--', label='Predictions', alpha=0.5)\n",
        "    plt.legend(loc='best')\n",
        "    plt.show()"
      ]
    },
    {
      "cell_type": "code",
      "execution_count": 101,
      "metadata": {
        "colab": {
          "base_uri": "https://localhost:8080/",
          "height": 430
        },
        "id": "yOAl63W0qaq_",
        "outputId": "0966c5cc-146b-4f15-d330-522a5eafc1e6"
      },
      "outputs": [
        {
          "output_type": "display_data",
          "data": {
            "text/plain": [
              "<Figure size 432x288 with 0 Axes>"
            ]
          },
          "metadata": {}
        },
        {
          "output_type": "display_data",
          "data": {
            "text/plain": [
              "<Figure size 640x480 with 1 Axes>"
            ],
            "image/png": "[encoded data removed]"
          },
          "metadata": {
            "needs_background": "light"
          }
        }
      ],
      "source": [
        "plot_figure(x_train, y_train)"
      ]
    },
    {
      "cell_type": "code",
      "execution_count": null,
      "metadata": {
        "id": "el6VL83Qddfj"
      },
      "outputs": [],
      "source": [
        ""
      ]
    },
    {
      "cell_type": "markdown",
      "metadata": {
        "id": "VPn9pDNlm88W"
      },
      "source": [
        "# HOW TO TRAIN THE NN MODEL:\n",
        "1. Reset adam_optimizer: \n",
        "```adam_opt.zero_grad()```\n",
        "2. Calculate loss\n",
        "3. Update the optimizer: \n",
        "```adam_opt.step()```\n",
        "\n",
        "\n",
        "        weight = weight - lr * gradient\n",
        "\n",
        "-> use lr and gradient to \"improve\" weight layer. \n",
        "\n",
        "Explanation:\n",
        "```adam_opt.step()```: Update the model's parameters \n"
      ]
    },
    {
      "cell_type": "code",
      "execution_count": null,
      "metadata": {
        "id": "0VfCCteSFrC8"
      },
      "outputs": [],
      "source": [
        "model_p = Nonlinear_2(4)\n",
        "adam_opt = torch.optim.Adam(model_p.parameters(), \n",
        "                                    lr=learningRate, \n",
        "                                    betas=(0.9, 0.999), \n",
        "                                    eps=1e-08, \n",
        "                                    weight_decay=0, \n",
        "                                    amsgrad=False)"
      ]
    },
    {
      "cell_type": "code",
      "execution_count": null,
      "metadata": {
        "colab": {
          "base_uri": "https://localhost:8080/"
        },
        "id": "MUjHqCmkNRzB",
        "outputId": "a8eba8cf-5f24-45cf-f588-85f437d798fc"
      },
      "outputs": [
        {
          "name": "stdout",
          "output_type": "stream",
          "text": [
            "tensor([-0.5799], grad_fn=<AddBackward0>)\n"
          ]
        }
      ],
      "source": [
        "x_i = torch.tensor([-2.5], requires_grad=True, dtype=torch.float)\n",
        "u_xi = model_p(x_i)\n",
        "print(u_xi)\n",
        "u_xi.backward()\n",
        "u_prime = x_i.grad"
      ]
    },
    {
      "cell_type": "code",
      "execution_count": null,
      "metadata": {
        "colab": {
          "base_uri": "https://localhost:8080/"
        },
        "id": "0A2qd2M1OXQ5",
        "outputId": "224f75ed-733d-4edc-f3ad-3d78dac7f66a"
      },
      "outputs": [
        {
          "name": "stdout",
          "output_type": "stream",
          "text": [
            "- Hidden layers: \n",
            "Parameter containing:\n",
            "tensor([[-0.4363],\n",
            "        [-0.2556],\n",
            "        [ 0.6323],\n",
            "        [-0.8666]], requires_grad=True)\n",
            "\n",
            "\n",
            "- Hidden layers gradients (derivative of Loss w.r.t model params): \n",
            "None\n",
            "Parameter containing:\n",
            "tensor([ 0.9463, -0.8034, -0.8181,  0.5812], requires_grad=True)\n",
            "\n",
            "\n",
            "Output layers: \n",
            "Parameter containing:\n",
            "tensor([[-0.3294, -0.3360,  0.0453, -0.0283]], requires_grad=True)\n",
            "None\n",
            "Parameter containing:\n",
            "tensor([0.4850], requires_grad=True)\n"
          ]
        }
      ],
      "source": [
        "# Access the model's parameters:\n",
        "# Model's hidden layer weight and bias\n",
        "print(\"- Hidden layers: \")\n",
        "print(model_p.hidden.weight)\n",
        "print(\"\\n\")\n",
        "\n",
        "print(\"- Hidden layers gradients (derivative of Loss w.r.t model params): \")\n",
        "print(model_p.hidden.weight.grad)\n",
        "print(model_p.hidden.bias)\n",
        "print(\"\\n\")\n",
        "\n",
        "# Model's output layer weight and bias\n",
        "print(\"Output layers: \")\n",
        "print(model_p.output.weight)\n",
        "print(model_p.hidden.weight.grad)\n",
        "print(model_p.output.bias)\n",
        "\n",
        "# model.zero_grad()\n",
        "\n",
        "i, o = (x_train[0], y_train[0])\n",
        "i = Variable(torch.from_numpy(i))\n",
        "o = Variable(torch.from_numpy(o))\n"
      ]
    },
    {
      "cell_type": "code",
      "execution_count": null,
      "metadata": {
        "colab": {
          "base_uri": "https://localhost:8080/",
          "height": 409
        },
        "id": "YI4vusv8w_40",
        "outputId": "9797e6a2-cd0f-49fd-db59-c2fda0e16171"
      },
      "outputs": [
        {
          "name": "stdout",
          "output_type": "stream",
          "text": [
            "Linear(in_features=1, out_features=4, bias=True)\n"
          ]
        },
        {
          "ename": "RuntimeError",
          "evalue": "ignored",
          "output_type": "error",
          "traceback": [
            "\u001b[0;31m---------------------------------------------------------------------------\u001b[0m",
            "\u001b[0;31mRuntimeError\u001b[0m                              Traceback (most recent call last)",
            "\u001b[0;32m<ipython-input-148-d51b9355ea65>\u001b[0m in \u001b[0;36m<module>\u001b[0;34m()\u001b[0m\n\u001b[1;32m      4\u001b[0m \u001b[0mprint\u001b[0m\u001b[0;34m(\u001b[0m\u001b[0mmodel_pp\u001b[0m\u001b[0;34m.\u001b[0m\u001b[0mhidden\u001b[0m\u001b[0;34m)\u001b[0m\u001b[0;34m\u001b[0m\u001b[0;34m\u001b[0m\u001b[0m\n\u001b[1;32m      5\u001b[0m \u001b[0mloss\u001b[0m \u001b[0;34m=\u001b[0m \u001b[0mepsilon_Loss\u001b[0m\u001b[0;34m(\u001b[0m\u001b[0mgiven_fn\u001b[0m\u001b[0;34m,\u001b[0m \u001b[0mmodel_pp\u001b[0m\u001b[0;34m,\u001b[0m \u001b[0mLOWER_BOUND\u001b[0m\u001b[0;34m,\u001b[0m \u001b[0mUPPER_BOUND\u001b[0m\u001b[0;34m,\u001b[0m \u001b[0mN_POINTS\u001b[0m\u001b[0;34m)\u001b[0m\u001b[0;34m\u001b[0m\u001b[0;34m\u001b[0m\u001b[0m\n\u001b[0;32m----> 6\u001b[0;31m \u001b[0mloss\u001b[0m\u001b[0;34m.\u001b[0m\u001b[0mbackward\u001b[0m\u001b[0;34m(\u001b[0m\u001b[0;34m)\u001b[0m\u001b[0;34m\u001b[0m\u001b[0;34m\u001b[0m\u001b[0m\n\u001b[0m",
            "\u001b[0;32m/usr/local/lib/python3.7/dist-packages/torch/_tensor.py\u001b[0m in \u001b[0;36mbackward\u001b[0;34m(self, gradient, retain_graph, create_graph, inputs)\u001b[0m\n\u001b[1;32m    361\u001b[0m                 \u001b[0mcreate_graph\u001b[0m\u001b[0;34m=\u001b[0m\u001b[0mcreate_graph\u001b[0m\u001b[0;34m,\u001b[0m\u001b[0;34m\u001b[0m\u001b[0;34m\u001b[0m\u001b[0m\n\u001b[1;32m    362\u001b[0m                 inputs=inputs)\n\u001b[0;32m--> 363\u001b[0;31m         \u001b[0mtorch\u001b[0m\u001b[0;34m.\u001b[0m\u001b[0mautograd\u001b[0m\u001b[0;34m.\u001b[0m\u001b[0mbackward\u001b[0m\u001b[0;34m(\u001b[0m\u001b[0mself\u001b[0m\u001b[0;34m,\u001b[0m \u001b[0mgradient\u001b[0m\u001b[0;34m,\u001b[0m \u001b[0mretain_graph\u001b[0m\u001b[0;34m,\u001b[0m \u001b[0mcreate_graph\u001b[0m\u001b[0;34m,\u001b[0m \u001b[0minputs\u001b[0m\u001b[0;34m=\u001b[0m\u001b[0minputs\u001b[0m\u001b[0;34m)\u001b[0m\u001b[0;34m\u001b[0m\u001b[0;34m\u001b[0m\u001b[0m\n\u001b[0m\u001b[1;32m    364\u001b[0m \u001b[0;34m\u001b[0m\u001b[0m\n\u001b[1;32m    365\u001b[0m     \u001b[0;32mdef\u001b[0m \u001b[0mregister_hook\u001b[0m\u001b[0;34m(\u001b[0m\u001b[0mself\u001b[0m\u001b[0;34m,\u001b[0m \u001b[0mhook\u001b[0m\u001b[0;34m)\u001b[0m\u001b[0;34m:\u001b[0m\u001b[0;34m\u001b[0m\u001b[0;34m\u001b[0m\u001b[0m\n",
            "\u001b[0;32m/usr/local/lib/python3.7/dist-packages/torch/autograd/__init__.py\u001b[0m in \u001b[0;36mbackward\u001b[0;34m(tensors, grad_tensors, retain_graph, create_graph, grad_variables, inputs)\u001b[0m\n\u001b[1;32m    173\u001b[0m     Variable._execution_engine.run_backward(  # Calls into the C++ engine to run the backward pass\n\u001b[1;32m    174\u001b[0m         \u001b[0mtensors\u001b[0m\u001b[0;34m,\u001b[0m \u001b[0mgrad_tensors_\u001b[0m\u001b[0;34m,\u001b[0m \u001b[0mretain_graph\u001b[0m\u001b[0;34m,\u001b[0m \u001b[0mcreate_graph\u001b[0m\u001b[0;34m,\u001b[0m \u001b[0minputs\u001b[0m\u001b[0;34m,\u001b[0m\u001b[0;34m\u001b[0m\u001b[0;34m\u001b[0m\u001b[0m\n\u001b[0;32m--> 175\u001b[0;31m         allow_unreachable=True, accumulate_grad=True)  # Calls into the C++ engine to run the backward pass\n\u001b[0m\u001b[1;32m    176\u001b[0m \u001b[0;34m\u001b[0m\u001b[0m\n\u001b[1;32m    177\u001b[0m def grad(\n",
            "\u001b[0;31mRuntimeError\u001b[0m: Trying to backward through the graph a second time (or directly access saved tensors after they have already been freed). Saved intermediate values of the graph are freed when you call .backward() or autograd.grad(). Specify retain_graph=True if you need to backward through the graph a second time or if you need to access saved tensors after calling backward."
          ]
        }
      ],
      "source": [
        "import copy\n",
        "\n",
        "model_pp = copy.deepcopy(model_p)\n",
        "print(model_pp.hidden)\n",
        "loss = epsilon_Loss(given_fn, model_pp, LOWER_BOUND, UPPER_BOUND, N_POINTS)\n",
        "loss.backward()"
      ]
    },
    {
      "cell_type": "code",
      "execution_count": null,
      "metadata": {
        "id": "OBY2VlCqSVjE"
      },
      "outputs": [],
      "source": [
        "model_pp.hidden.weight.grad"
      ]
    },
    {
      "cell_type": "code",
      "execution_count": null,
      "metadata": {
        "colab": {
          "base_uri": "https://localhost:8080/",
          "height": 355
        },
        "id": "ELHbc3btUq9f",
        "outputId": "1c256f77-a69d-4303-85c0-4c502ab692c8"
      },
      "outputs": [
        {
          "ename": "RuntimeError",
          "evalue": "ignored",
          "output_type": "error",
          "traceback": [
            "\u001b[0;31m---------------------------------------------------------------------------\u001b[0m",
            "\u001b[0;31mRuntimeError\u001b[0m                              Traceback (most recent call last)",
            "\u001b[0;32m<ipython-input-123-52a0569421b1>\u001b[0m in \u001b[0;36m<module>\u001b[0;34m()\u001b[0m\n\u001b[0;32m----> 1\u001b[0;31m \u001b[0mloss\u001b[0m\u001b[0;34m.\u001b[0m\u001b[0mbackward\u001b[0m\u001b[0;34m(\u001b[0m\u001b[0;34m)\u001b[0m\u001b[0;34m\u001b[0m\u001b[0;34m\u001b[0m\u001b[0m\n\u001b[0m",
            "\u001b[0;32m/usr/local/lib/python3.7/dist-packages/torch/_tensor.py\u001b[0m in \u001b[0;36mbackward\u001b[0;34m(self, gradient, retain_graph, create_graph, inputs)\u001b[0m\n\u001b[1;32m    361\u001b[0m                 \u001b[0mcreate_graph\u001b[0m\u001b[0;34m=\u001b[0m\u001b[0mcreate_graph\u001b[0m\u001b[0;34m,\u001b[0m\u001b[0;34m\u001b[0m\u001b[0;34m\u001b[0m\u001b[0m\n\u001b[1;32m    362\u001b[0m                 inputs=inputs)\n\u001b[0;32m--> 363\u001b[0;31m         \u001b[0mtorch\u001b[0m\u001b[0;34m.\u001b[0m\u001b[0mautograd\u001b[0m\u001b[0;34m.\u001b[0m\u001b[0mbackward\u001b[0m\u001b[0;34m(\u001b[0m\u001b[0mself\u001b[0m\u001b[0;34m,\u001b[0m \u001b[0mgradient\u001b[0m\u001b[0;34m,\u001b[0m \u001b[0mretain_graph\u001b[0m\u001b[0;34m,\u001b[0m \u001b[0mcreate_graph\u001b[0m\u001b[0;34m,\u001b[0m \u001b[0minputs\u001b[0m\u001b[0;34m=\u001b[0m\u001b[0minputs\u001b[0m\u001b[0;34m)\u001b[0m\u001b[0;34m\u001b[0m\u001b[0;34m\u001b[0m\u001b[0m\n\u001b[0m\u001b[1;32m    364\u001b[0m \u001b[0;34m\u001b[0m\u001b[0m\n\u001b[1;32m    365\u001b[0m     \u001b[0;32mdef\u001b[0m \u001b[0mregister_hook\u001b[0m\u001b[0;34m(\u001b[0m\u001b[0mself\u001b[0m\u001b[0;34m,\u001b[0m \u001b[0mhook\u001b[0m\u001b[0;34m)\u001b[0m\u001b[0;34m:\u001b[0m\u001b[0;34m\u001b[0m\u001b[0;34m\u001b[0m\u001b[0m\n",
            "\u001b[0;32m/usr/local/lib/python3.7/dist-packages/torch/autograd/__init__.py\u001b[0m in \u001b[0;36mbackward\u001b[0;34m(tensors, grad_tensors, retain_graph, create_graph, grad_variables, inputs)\u001b[0m\n\u001b[1;32m    173\u001b[0m     Variable._execution_engine.run_backward(  # Calls into the C++ engine to run the backward pass\n\u001b[1;32m    174\u001b[0m         \u001b[0mtensors\u001b[0m\u001b[0;34m,\u001b[0m \u001b[0mgrad_tensors_\u001b[0m\u001b[0;34m,\u001b[0m \u001b[0mretain_graph\u001b[0m\u001b[0;34m,\u001b[0m \u001b[0mcreate_graph\u001b[0m\u001b[0;34m,\u001b[0m \u001b[0minputs\u001b[0m\u001b[0;34m,\u001b[0m\u001b[0;34m\u001b[0m\u001b[0;34m\u001b[0m\u001b[0m\n\u001b[0;32m--> 175\u001b[0;31m         allow_unreachable=True, accumulate_grad=True)  # Calls into the C++ engine to run the backward pass\n\u001b[0m\u001b[1;32m    176\u001b[0m \u001b[0;34m\u001b[0m\u001b[0m\n\u001b[1;32m    177\u001b[0m def grad(\n",
            "\u001b[0;31mRuntimeError\u001b[0m: Trying to backward through the graph a second time (or directly access saved tensors after they have already been freed). Saved intermediate values of the graph are freed when you call .backward() or autograd.grad(). Specify retain_graph=True if you need to backward through the graph a second time or if you need to access saved tensors after calling backward."
          ]
        }
      ],
      "source": [
        "loss.backward()"
      ]
    },
    {
      "cell_type": "code",
      "execution_count": null,
      "metadata": {
        "colab": {
          "base_uri": "https://localhost:8080/"
        },
        "id": "BA_91qCHWhjs",
        "outputId": "20a262ba-f9a2-4cf1-b0c4-110596eb2f63"
      },
      "outputs": [
        {
          "name": "stdout",
          "output_type": "stream",
          "text": [
            "- Hidden layers: \n",
            "Parameter containing:\n",
            "tensor([[-0.4363],\n",
            "        [-0.2556],\n",
            "        [ 0.6323],\n",
            "        [-0.8666]], requires_grad=True)\n",
            "\n",
            "\n",
            "- Hidden layers gradients (derivative of Loss w.r.t model params): \n",
            "None\n",
            "Parameter containing:\n",
            "tensor([ 0.9463, -0.8034, -0.8181,  0.5812], requires_grad=True)\n",
            "\n",
            "\n",
            "Output layers: \n",
            "Parameter containing:\n",
            "tensor([[-0.3294, -0.3360,  0.0453, -0.0283]], requires_grad=True)\n",
            "None\n",
            "Parameter containing:\n",
            "tensor([0.4850], requires_grad=True)\n"
          ]
        }
      ],
      "source": [
        "print(\"- Hidden layers: \")\n",
        "print(model_p.hidden.weight)\n",
        "print(\"\\n\")\n",
        "\n",
        "print(\"- Hidden layers gradients (derivative of Loss w.r.t model params): \")\n",
        "print(model_p.hidden.weight.grad)\n",
        "print(model_p.hidden.bias)\n",
        "print(\"\\n\")\n",
        "\n",
        "# Model's output layer weight and bias\n",
        "print(\"Output layers: \")\n",
        "print(model_p.output.weight)\n",
        "print(model_p.hidden.weight.grad)\n",
        "print(model_p.output.bias)\n",
        "\n",
        "# model.zero_grad()\n",
        "\n",
        "i, o = (x_train[0], y_train[0])\n",
        "i = Variable(torch.from_numpy(i))\n",
        "o = Variable(torch.from_numpy(o))"
      ]
    },
    {
      "cell_type": "code",
      "execution_count": null,
      "metadata": {
        "colab": {
          "base_uri": "https://localhost:8080/"
        },
        "id": "6jQeEbaMHkeA",
        "outputId": "32d5985d-7d0f-4048-c555-7ef3785149ca"
      },
      "outputs": [
        {
          "data": {
            "text/plain": [
              "tensor([0., 0., 0.])"
            ]
          },
          "execution_count": 54,
          "metadata": {},
          "output_type": "execute_result"
        }
      ],
      "source": [
        "x.grad.zero_()"
      ]
    },
    {
      "cell_type": "code",
      "execution_count": null,
      "metadata": {
        "colab": {
          "base_uri": "https://localhost:8080/"
        },
        "id": "zkmedTJ6J1Hr",
        "outputId": "01a83e6e-280c-4a72-d9c4-bff991258866"
      },
      "outputs": [
        {
          "name": "stdout",
          "output_type": "stream",
          "text": [
            "tensor([True, True])\n",
            "tensor([True, True])\n"
          ]
        }
      ],
      "source": [
        "a = torch.tensor([2., 3.], requires_grad=True)\n",
        "b = torch.tensor([6., 4.], requires_grad=True)\n",
        "\n",
        "t = 3*a**3 - b**2\n",
        "\n",
        "external_grad = torch.tensor([1., 1.])\n",
        "t.backward(gradient=external_grad)\n",
        "\n",
        "print(9*a**2 == a.grad)\n",
        "print(-2*b == b.grad)"
      ]
    },
    {
      "cell_type": "markdown",
      "metadata": {
        "id": "ZyuNXuz-iLBZ"
      },
      "source": [
        "https://neptune.ai/blog/pytorch-loss-functions\n",
        "https://stackoverflow.com/questions/53980031/pytorch-custom-loss-function\n",
        "https://stackoverflow.com/questions/65947284/loss-with-custom-backward-function-in-pytorch-exploding-loss-in-simple-mse-exa\n",
        "https://www.youtube.com/watch?v=ma2KXWblllc"
      ]
    },
    {
      "cell_type": "code",
      "execution_count": null,
      "metadata": {
        "id": "M0PS0efCiJCp"
      },
      "outputs": [],
      "source": [
        ""
      ]
    }
  ],
  "metadata": {
    "colab": {
      "name": "PyTorch_.ipynb",
      "provenance": []
    },
    "kernelspec": {
      "display_name": "Python 3",
      "language": "python",
      "name": "python3"
    },
    "language_info": {
      "codemirror_mode": {
        "name": "ipython",
        "version": 3
      },
      "file_extension": ".py",
      "mimetype": "text/x-python",
      "name": "python",
      "nbconvert_exporter": "python",
      "pygments_lexer": "ipython3",
      "version": "3.7.7"
    },
    "vscode": {
      "interpreter": {
        "hash": "8c21580189d9a9d7f1e3fef63ff70de58083dda94aa35d8ed937f03fa405217e"
      }
    }
  },
  "nbformat": 4,
  "nbformat_minor": 0
}