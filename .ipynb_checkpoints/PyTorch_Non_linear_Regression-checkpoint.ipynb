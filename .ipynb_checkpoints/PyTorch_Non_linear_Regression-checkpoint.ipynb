{
 "cells": [
  {
   "cell_type": "markdown",
   "metadata": {
    "id": "cjGt-ff3JInA"
   },
   "source": [
    "1. Define target function to fit: y = sin(x) \n",
    "2. Define hidden layers' activation function: y = sigmoid(x) = e^x/(e^x+1)\n",
    "3. Define output layers' activation function: same as above\n",
    "3. Define input dimension of the NN: 1-D\n",
    "4. Define output dimension of the NN: 1-D\n"
   ]
  },
  {
   "cell_type": "markdown",
   "metadata": {
    "id": "cjqHS75KLcUz"
   },
   "source": [
    "References:\n",
    "1. [How to choose an activation function](https://machinelearningmastery.com/choose-an-activation-function-for-deep-learning/)\n",
    "\n",
    "2. [List of cost functions for NN, and their applications](https://stats.stackexchange.com/questions/154879/a-list-of-cost-functions-used-in-neural-networks-alongside-applications)\n",
    "\n",
    "3. [Activation Function explained](https://www.kdnuggets.com/2017/09/neural-network-foundations-explained-activation-function.html)\n",
    "\n",
    "4. [Activation function for output layer](https://stats.stackexchange.com/questions/218542/which-activation-function-for-output-layer)"
   ]
  },
  {
   "cell_type": "code",
   "execution_count": 77,
   "metadata": {
    "id": "C0Qs5gumLh-W"
   },
   "outputs": [],
   "source": [
    "import numpy as np\n",
    "import torch\n",
    "import torch.nn as nn\n",
    "import math\n",
    "from torch.autograd import Variable\n",
    "from sklearn.model_selection import train_test_split\n",
    "import matplotlib.pyplot as plt\n",
    "\n",
    "INPUT_SIZE = 1\n",
    "OUTPUT_SIZE = 1\n",
    "\n",
    "LOWER_BOUND = float(0)\n",
    "UPPER_BOUND = 2*math.pi\n",
    "\n",
    "split_ratio = 0.8"
   ]
  },
  {
   "cell_type": "code",
   "execution_count": 78,
   "metadata": {
    "id": "EstQ_ILqQeOt"
   },
   "outputs": [
    {
     "name": "stdout",
     "output_type": "stream",
     "text": [
      "(80, 1) (80, 1) (20, 1) (20, 1)\n"
     ]
    }
   ],
   "source": [
    "# CREATING DATASET:\n",
    "x_values = [i for i in np.arange(LOWER_BOUND, UPPER_BOUND, math.pi/50)]\n",
    "y_values = [sin_fn(i) for i in x_values]\n",
    "\n",
    "x_train, x_test=train_test_split(x_values,test_size=0.2)\n",
    "y_train = [sin_fn(i) for i in x_train]\n",
    "y_test = [sin_fn(i) for i in x_test]\n",
    "\n",
    "x_train = np.array(x_train, dtype=np.float32).reshape(-1, 1)\n",
    "y_train = np.array(y_train, dtype=np.float32).reshape(-1, 1)\n",
    "\n",
    "x_test = np.array(x_test, dtype=np.float32).reshape(-1, 1)\n",
    "y_test = np.array(y_test, dtype=np.float32).reshape(-1, 1)\n",
    "\n",
    "# y_test = np.array([sin_fn(i) for i in x_test], dtype=np.float32).reshape(-1, 1)\n",
    "print(x_train.shape, y_train.shape, x_test.shape, y_test.shape)"
   ]
  },
  {
   "cell_type": "code",
   "execution_count": null,
   "metadata": {},
   "outputs": [],
   "source": []
  },
  {
   "cell_type": "code",
   "execution_count": 7,
   "metadata": {},
   "outputs": [],
   "source": [
    "x_train, y_train, x_test, y_test=train_test_split(x_values, y_values, test_size=0.2)"
   ]
  },
  {
   "cell_type": "code",
   "execution_count": 351,
   "metadata": {},
   "outputs": [
    {
     "data": {
      "text/plain": [
       "-19.371681469282045"
      ]
     },
     "execution_count": 351,
     "metadata": {},
     "output_type": "execute_result"
    }
   ],
   "source": [
    "x_train[]"
   ]
  },
  {
   "cell_type": "code",
   "execution_count": 44,
   "metadata": {},
   "outputs": [
    {
     "data": {
      "text/plain": [
       "array([False])"
      ]
     },
     "execution_count": 44,
     "metadata": {},
     "output_type": "execute_result"
    }
   ],
   "source": [
    "sin_fn(x_train[3]) == y_train[3]"
   ]
  },
  {
   "cell_type": "code",
   "execution_count": 324,
   "metadata": {},
   "outputs": [
    {
     "data": {
      "text/plain": [
       "0.5521641978005328"
      ]
     },
     "execution_count": 324,
     "metadata": {},
     "output_type": "execute_result"
    }
   ],
   "source": [
    "sin_fn(x_train[20][0])"
   ]
  },
  {
   "cell_type": "code",
   "execution_count": 325,
   "metadata": {},
   "outputs": [
    {
     "data": {
      "text/plain": [
       "0.5521642"
      ]
     },
     "execution_count": 325,
     "metadata": {},
     "output_type": "execute_result"
    }
   ],
   "source": [
    "y_train[20][0]"
   ]
  },
  {
   "cell_type": "code",
   "execution_count": 79,
   "metadata": {},
   "outputs": [],
   "source": [
    "# DEFINE HYPER-PARAMETERS\n",
    "batch_size = 75\n",
    "learningRate = 0.05\n",
    "num_epochs = 10000\n",
    "# num_epochs = int(num_iters/(len(x_train)/batch_size))"
   ]
  },
  {
   "cell_type": "code",
   "execution_count": 328,
   "metadata": {},
   "outputs": [
    {
     "data": {
      "text/plain": [
       "1000"
      ]
     },
     "execution_count": 328,
     "metadata": {},
     "output_type": "execute_result"
    }
   ],
   "source": [
    "num_epochs"
   ]
  },
  {
   "cell_type": "code",
   "execution_count": 21,
   "metadata": {
    "id": "sjtOBhyZLspO"
   },
   "outputs": [],
   "source": [
    "def sin_fn(x):\n",
    "\treturn math.sin(x)\n",
    "\n",
    "def quad_fn(a, b, c, x):\n",
    "\treturn a*x**2 + b*x + c\n",
    "\n",
    "# PLOT DATA\n",
    "def plot_performance(x_train, y_train, predicted=None):\n",
    "    plt.clf()\n",
    "    plt.figure(figsize=(8, 6), dpi=80)\n",
    "    plt.plot(x_train, y_train, 'go', label='True data', alpha=0.5)\n",
    "    if predicted != None:\n",
    "        plt.plot(x_train, predicted, '--', label='Predictions', alpha=0.5)\n",
    "    plt.legend(loc='best')\n",
    "    plt.show()"
   ]
  },
  {
   "cell_type": "code",
   "execution_count": 90,
   "metadata": {
    "id": "06QWhlkpQ5Eh"
   },
   "outputs": [],
   "source": [
    "# CREATING MODEL CLASS\n",
    "class Nonlinear_1(nn.Module):\n",
    "    def __init__(self, hidden_size=1):\n",
    "        super().__init__()\n",
    "    \n",
    "        self.layer_1_weights = nn.Parameter(torch.randn(1, hidden_size))\n",
    "        self.layer_1_bias = nn.Parameter(torch.randn(hidden_size))\n",
    "\n",
    "\n",
    "class Nonlinear_2(nn.Module):\n",
    "    def __init__(self, n):\n",
    "        # One hidden layer with n nodes\n",
    "        super().__init__()\n",
    "        self.hidden = nn.Linear(1, n)\n",
    "        self.output = nn.Linear(n, 1)\n",
    "        \n",
    "        self.sigmoid = nn.Sigmoid()\n",
    "        self.tanh = nn.Tanh()\n",
    "    \n",
    "    def forward(self, x, use_tanh_fn = False, activation_on_output = False):\n",
    "        if use_tanh_fn == True:\n",
    "            x = self.hidden(x)\n",
    "            x = self.tanh(x)\n",
    "            x = self.output(x)\n",
    "            \n",
    "        else:\n",
    "            x = self.hidden(x)\n",
    "            x = self.sigmoid(x)\n",
    "            x = self.output(x)\n",
    "            \n",
    "        if activation_on_output == False:\n",
    "            return x\n",
    "        else:\n",
    "            if use_tanh_fn == True:\n",
    "                return self.tanh(x)\n",
    "            else:       \n",
    "                return self.sigmoid(x)\n",
    "        # output is a linear combination of the hidden layers because \n",
    "        # we perform regression ???\n",
    "        return x"
   ]
  },
  {
   "cell_type": "code",
   "execution_count": 91,
   "metadata": {},
   "outputs": [],
   "source": [
    "#INIT MODEL\n",
    "model = Nonlinear_2(20)\n",
    "if torch.cuda.is_available():\n",
    "    model.cuda()\n",
    "\n",
    "# INIT OPTIMIZER CLASS\n",
    "# What is an optimizer: \n",
    "# SGD:\n",
    "SGD_optimizer = torch.optim.SGD(model.parameters(), lr=learningRate)\n",
    "# Adam:\n",
    "adam_optimizer = torch.optim.Adam(model.parameters(), lr=0.001, betas=(0.9, 0.999), eps=1e-08, weight_decay=0, amsgrad=False)\n",
    "\n",
    "# INIT LOSS FUNCTION: MSE\n",
    "criterion = torch.nn.MSELoss()"
   ]
  },
  {
   "cell_type": "code",
   "execution_count": 92,
   "metadata": {},
   "outputs": [
    {
     "data": {
      "text/plain": [
       "<bound method Module.parameters of Nonlinear_2(\n",
       "  (hidden): Linear(in_features=1, out_features=20, bias=True)\n",
       "  (output): Linear(in_features=20, out_features=1, bias=True)\n",
       "  (sigmoid): Sigmoid()\n",
       "  (tanh): Tanh()\n",
       ")>"
      ]
     },
     "execution_count": 92,
     "metadata": {},
     "output_type": "execute_result"
    }
   ],
   "source": [
    "model.parameters"
   ]
  },
  {
   "cell_type": "code",
   "execution_count": 93,
   "metadata": {},
   "outputs": [
    {
     "data": {
      "text/plain": [
       "<Figure size 432x288 with 0 Axes>"
      ]
     },
     "metadata": {},
     "output_type": "display_data"
    },
    {
     "data": {
      "image/png": "[encoded data removed]",
      "text/plain": [
       "<Figure size 640x480 with 1 Axes>"
      ]
     },
     "metadata": {
      "needs_background": "light"
     },
     "output_type": "display_data"
    }
   ],
   "source": [
    "plot_performance(x_train, y_train)"
   ]
  },
  {
   "cell_type": "code",
   "execution_count": 94,
   "metadata": {
    "colab": {
     "base_uri": "https://localhost:8080/"
    },
    "id": "5meXGzrokJ1u",
    "outputId": "56990b06-c4a5-45b6-f9a8-0c69ffc41127"
   },
   "outputs": [
    {
     "name": "stdout",
     "output_type": "stream",
     "text": [
      "epoch 0, loss 0.9026389122009277\n",
      "epoch 50, loss 0.09194817394018173\n",
      "epoch 100, loss 0.058218494057655334\n",
      "epoch 150, loss 0.010811196640133858\n",
      "epoch 200, loss 0.003111048601567745\n",
      "epoch 250, loss 0.0016527140978723764\n",
      "epoch 300, loss 0.00024828381719999015\n",
      "epoch 350, loss 2.357022458454594e-05\n",
      "epoch 400, loss 1.8107026335201226e-05\n",
      "epoch 450, loss 5.5191867431858554e-05\n",
      "epoch 500, loss 0.0001034916058415547\n",
      "epoch 550, loss 0.00013266847236081958\n",
      "epoch 600, loss 0.0002164019097108394\n",
      "epoch 650, loss 0.0004177076043561101\n",
      "epoch 700, loss 0.0007030803826637566\n",
      "epoch 750, loss 0.000981631688773632\n",
      "epoch 800, loss 0.0011724393116310239\n",
      "epoch 850, loss 0.0012090946547687054\n",
      "epoch 900, loss 0.0011267802910879254\n",
      "epoch 950, loss 0.0009419501293450594\n",
      "epoch 1000, loss 0.0007461852510459721\n",
      "epoch 1050, loss 0.0005891456385143101\n",
      "epoch 1100, loss 0.00047690124483779073\n",
      "epoch 1150, loss 0.00039437104715034366\n",
      "epoch 1200, loss 0.00032910567824728787\n",
      "epoch 1250, loss 0.00027577418950386345\n",
      "epoch 1300, loss 0.0002314140001544729\n",
      "epoch 1350, loss 0.00019203481497243047\n",
      "epoch 1400, loss 0.00015340915706474334\n",
      "epoch 1450, loss 0.00011406154953874648\n",
      "epoch 1500, loss 7.610772445332259e-05\n",
      "epoch 1550, loss 4.356737554189749e-05\n",
      "epoch 1600, loss 2.023526576522272e-05\n",
      "epoch 1650, loss 7.47641570342239e-06\n",
      "epoch 1700, loss 3.3473065741418395e-06\n",
      "epoch 1750, loss 3.854381247947458e-06\n",
      "epoch 1800, loss 5.094001608085819e-06\n",
      "epoch 1850, loss 4.281239398551406e-06\n",
      "epoch 1900, loss 1.9948502085753717e-06\n",
      "epoch 1950, loss 2.213881913348814e-07\n",
      "epoch 2000, loss 2.9783228683299967e-07\n",
      "epoch 2050, loss 1.8588503962746472e-06\n",
      "epoch 2100, loss 4.750235348183196e-06\n",
      "epoch 2150, loss 8.920194886741228e-06\n",
      "epoch 2200, loss 1.3418030903267208e-05\n",
      "epoch 2250, loss 1.6563313693040982e-05\n",
      "epoch 2300, loss 1.7388407286489382e-05\n",
      "epoch 2350, loss 1.6238891475950368e-05\n",
      "epoch 2400, loss 1.4060461580811534e-05\n",
      "epoch 2450, loss 1.1458275366749149e-05\n",
      "epoch 2500, loss 1.6514206890860805e-06\n",
      "epoch 2550, loss 8.466151371067099e-07\n",
      "epoch 2600, loss 7.21524202162982e-07\n",
      "epoch 2650, loss 6.371637937263586e-07\n",
      "epoch 2700, loss 5.754562266702123e-07\n",
      "epoch 2750, loss 5.253241397440434e-07\n",
      "epoch 2800, loss 4.876620209870453e-07\n",
      "epoch 2850, loss 4.530039063865843e-07\n",
      "epoch 2900, loss 4.233380082041549e-07\n",
      "epoch 2950, loss 3.9542590002383804e-07\n",
      "epoch 3000, loss 3.7063966829009587e-07\n",
      "epoch 3050, loss 3.484125272734673e-07\n",
      "epoch 3100, loss 3.250350175676431e-07\n",
      "epoch 3150, loss 3.0555850116797956e-07\n",
      "epoch 3200, loss 2.8579080435520154e-07\n",
      "epoch 3250, loss 2.66684082816937e-07\n",
      "epoch 3300, loss 2.4972541723400354e-07\n",
      "epoch 3350, loss 2.3280585992324632e-07\n",
      "epoch 3400, loss 2.1581469411557919e-07\n",
      "epoch 3450, loss 2.0048014448548201e-07\n",
      "epoch 3500, loss 1.8504340459912783e-07\n",
      "epoch 3550, loss 1.7022502163399622e-07\n",
      "epoch 3600, loss 1.5654337914838834e-07\n",
      "epoch 3650, loss 1.406046123975102e-07\n",
      "epoch 3700, loss 1.2917986680349713e-07\n",
      "epoch 3750, loss 1.1737989780158387e-07\n",
      "epoch 3800, loss 1.040580741573649e-07\n",
      "epoch 3850, loss 9.269621159546659e-08\n",
      "epoch 3900, loss 8.141174134834728e-08\n",
      "epoch 3950, loss 7.168688398451195e-08\n",
      "epoch 4000, loss 6.118661133314163e-08\n",
      "epoch 4050, loss 5.1625704600155586e-08\n",
      "epoch 4100, loss 4.4219859773875214e-08\n",
      "epoch 4150, loss 3.6927531255059876e-08\n",
      "epoch 4200, loss 3.079185262322426e-08\n",
      "epoch 4250, loss 2.3905627699605247e-08\n",
      "epoch 4300, loss 1.8517059885425624e-08\n",
      "epoch 4350, loss 1.3274675580987605e-08\n",
      "epoch 4400, loss 9.381384558082573e-09\n",
      "epoch 4450, loss 5.976406924901312e-09\n",
      "epoch 4500, loss 3.0992310939836898e-09\n",
      "epoch 4550, loss 1.3789112074391596e-09\n",
      "epoch 4600, loss 3.547597771103028e-10\n",
      "epoch 4650, loss 3.197442310920451e-12\n",
      "epoch 4700, loss 4.452118673725636e-10\n",
      "epoch 4750, loss 1.7808474694902543e-09\n",
      "epoch 4800, loss 4.18234336052592e-09\n",
      "epoch 4850, loss 6.844459221611032e-09\n",
      "epoch 4900, loss 1.0892623691916015e-08\n",
      "epoch 4950, loss 1.5518608620368468e-08\n",
      "epoch 5000, loss 2.1534575012083224e-08\n",
      "epoch 5050, loss 2.8032619781015455e-08\n",
      "epoch 5100, loss 3.516232993661106e-08\n",
      "epoch 5150, loss 4.406957998526195e-08\n",
      "epoch 5200, loss 5.376001865897706e-08\n",
      "epoch 5250, loss 6.483696779469028e-08\n",
      "epoch 5300, loss 7.632374376953521e-08\n",
      "epoch 5350, loss 8.782586746747256e-08\n",
      "epoch 5400, loss 1.0298413144482765e-07\n",
      "epoch 5450, loss 1.1869047966683866e-07\n",
      "epoch 5500, loss 1.353355969513359e-07\n",
      "epoch 5550, loss 1.5358602922788123e-07\n",
      "epoch 5600, loss 1.72494992511929e-07\n",
      "epoch 5650, loss 1.916132532642223e-07\n",
      "epoch 5700, loss 2.2004407185249875e-07\n",
      "epoch 5750, loss 2.397008529442246e-07\n",
      "epoch 5800, loss 2.6447247591931955e-07\n",
      "epoch 5850, loss 2.984832008223748e-07\n",
      "epoch 5900, loss 3.175348410877632e-07\n",
      "epoch 5950, loss 3.611933436786785e-07\n",
      "epoch 6000, loss 3.8455715412055724e-07\n",
      "epoch 6050, loss 4.278485903341789e-07\n",
      "epoch 6100, loss 4.6568828793169814e-07\n",
      "epoch 6150, loss 5.02846148719982e-07\n",
      "epoch 6200, loss 3.669476029699581e-07\n",
      "epoch 6250, loss 4.548976448859321e-06\n",
      "epoch 6300, loss 1.6981211956590414e-05\n",
      "epoch 6350, loss 2.872073309845291e-05\n",
      "epoch 6400, loss 1.245813473360613e-05\n",
      "epoch 6450, loss 3.475335324765183e-05\n",
      "epoch 6500, loss 2.0420155124156736e-05\n",
      "epoch 6550, loss 6.614264293602901e-06\n",
      "epoch 6600, loss 1.3155578017176595e-05\n",
      "epoch 6650, loss 3.567508247215301e-05\n",
      "epoch 6700, loss 3.7079935282235965e-05\n",
      "epoch 6750, loss 1.5255995094776154e-05\n",
      "epoch 6800, loss 5.19920104125049e-06\n",
      "epoch 6850, loss 4.816981345356908e-06\n",
      "epoch 6900, loss 9.317592230217997e-06\n",
      "epoch 6950, loss 2.1982044927426614e-05\n",
      "epoch 7000, loss 2.9939570595161058e-05\n",
      "epoch 7050, loss 3.5532822948880494e-05\n",
      "epoch 7100, loss 1.2719096957880538e-05\n",
      "epoch 7150, loss 3.1182164548226865e-06\n",
      "epoch 7200, loss 1.9889270333806053e-05\n",
      "epoch 7250, loss 2.7576656066230498e-05\n",
      "epoch 7300, loss 5.258626515569631e-06\n",
      "epoch 7350, loss 3.374666266608983e-05\n",
      "epoch 7400, loss 1.1215443009859882e-05\n",
      "epoch 7450, loss 2.7364030756871216e-06\n",
      "epoch 7500, loss 2.8137250410509296e-05\n",
      "epoch 7550, loss 2.9184488084865734e-05\n",
      "epoch 7600, loss 2.098423647112213e-05\n",
      "epoch 7650, loss 1.838862954173237e-05\n",
      "epoch 7700, loss 2.1308211216819473e-05\n",
      "epoch 7750, loss 3.0008752219146118e-05\n",
      "epoch 7800, loss 2.3342747226706706e-05\n",
      "epoch 7850, loss 3.0712415082234656e-06\n",
      "epoch 7900, loss 5.550421064981492e-06\n",
      "epoch 7950, loss 2.9457536584232002e-05\n",
      "epoch 8000, loss 3.457023694863892e-06\n",
      "epoch 8050, loss 1.307398451899644e-05\n",
      "epoch 8100, loss 8.344469279109035e-06\n",
      "epoch 8150, loss 1.1398228707548697e-05\n",
      "epoch 8200, loss 5.287369276629761e-06\n",
      "epoch 8250, loss 2.1705698600271717e-05\n",
      "epoch 8300, loss 3.1211641271511326e-06\n",
      "epoch 8350, loss 1.7557331375428475e-05\n",
      "epoch 8400, loss 1.817049087549094e-05\n",
      "epoch 8450, loss 4.064768745593028e-06\n",
      "epoch 8500, loss 5.7270544857601635e-06\n",
      "epoch 8550, loss 2.552602018113248e-05\n",
      "epoch 8600, loss 2.101045538438484e-05\n",
      "epoch 8650, loss 9.599149962014053e-06\n",
      "epoch 8700, loss 4.865242772211786e-06\n",
      "epoch 8750, loss 3.986080628237687e-06\n",
      "epoch 8800, loss 4.98109329782892e-06\n",
      "epoch 8850, loss 7.011251000221819e-06\n",
      "epoch 8900, loss 9.064255209523253e-06\n",
      "epoch 8950, loss 1.0114088581758551e-05\n",
      "epoch 9000, loss 9.805600711842999e-06\n",
      "epoch 9050, loss 8.423859071626794e-06\n",
      "epoch 9100, loss 6.829679932707222e-06\n",
      "epoch 9150, loss 5.819858870381722e-06\n",
      "epoch 9200, loss 6.066286005079746e-06\n",
      "epoch 9250, loss 8.389986760448664e-06\n",
      "epoch 9300, loss 1.3539700375986286e-05\n",
      "epoch 9350, loss 1.9333388991071843e-05\n",
      "epoch 9400, loss 1.66634072229499e-05\n",
      "epoch 9450, loss 9.242782653018367e-06\n",
      "epoch 9500, loss 8.33999365568161e-06\n",
      "epoch 9550, loss 1.3409298844635487e-05\n",
      "epoch 9600, loss 1.6329329810105264e-05\n",
      "epoch 9650, loss 1.0796647984534502e-05\n",
      "epoch 9700, loss 1.0443141945870593e-05\n",
      "epoch 9750, loss 1.4280796676757745e-05\n",
      "epoch 9800, loss 1.2555519788293168e-05\n",
      "epoch 9850, loss 1.1107911632279865e-05\n",
      "epoch 9900, loss 1.3096840120851994e-05\n",
      "epoch 9950, loss 1.2274939763301518e-05\n"
     ]
    }
   ],
   "source": [
    "# TRANING MODEL\n",
    "x_epochs = [i for i in range(num_epochs)]\n",
    "y_loss = []\n",
    "for epoch in range(num_epochs):\n",
    "    for (input, output) in (zip(x_train, y_train)):\n",
    "        # if torch.cuda.is_available():\n",
    "        #     input = Variable(torch.from_numpy(input).cuda())\n",
    "        #     output = Variable(torch.from_numpy(output).cuda())\n",
    "        # else:\n",
    "        input = Variable(torch.from_numpy(input))\n",
    "        output = Variable(torch.from_numpy(output))\n",
    "    \n",
    "        adam_optimizer.zero_grad()\n",
    "        res = model(input)\n",
    "        loss = criterion(res, output)\n",
    "        loss.backward()\n",
    "        adam_optimizer.step()\n",
    "    y_loss.append(loss)\n",
    "    if epoch % 50 == 0:\n",
    "        print('epoch {}, loss {}'.format(epoch, loss.item()))\n",
    "\n",
    "    "
   ]
  },
  {
   "cell_type": "code",
   "execution_count": 95,
   "metadata": {},
   "outputs": [
    {
     "data": {
      "text/plain": [
       "<Figure size 432x288 with 0 Axes>"
      ]
     },
     "metadata": {},
     "output_type": "display_data"
    },
    {
     "data": {
      "image/png": "[encoded data removed]",
      "text/plain": [
       "<Figure size 640x480 with 1 Axes>"
      ]
     },
     "metadata": {
      "needs_background": "light"
     },
     "output_type": "display_data"
    }
   ],
   "source": [
    "preds = []\n",
    "for i in x_test:\n",
    "    i = model(Variable(torch.from_numpy(i)))\n",
    "    i = i.detach().numpy()\n",
    "    preds.append(i)\n",
    "\n",
    "plt.clf()\n",
    "plt.figure(figsize=(8, 6), dpi=80)\n",
    "plt.plot(x_test, y_test, 'go', label='True Value', alpha=0.5)\n",
    "plt.plot(x_test, preds, 'bo', label='Predictions', alpha=0.5)\n",
    "plt.legend(loc='best')\n",
    "plt.show()"
   ]
  },
  {
   "cell_type": "code",
   "execution_count": 99,
   "metadata": {},
   "outputs": [
    {
     "data": {
      "text/plain": [
       "torch.Tensor"
      ]
     },
     "execution_count": 99,
     "metadata": {},
     "output_type": "execute_result"
    }
   ],
   "source": [
    "type(y_loss[0])"
   ]
  },
  {
   "cell_type": "code",
   "execution_count": 104,
   "metadata": {},
   "outputs": [],
   "source": [
    "y_loss_1 = [i.detach().numpy() for i in y_loss]"
   ]
  },
  {
   "cell_type": "code",
   "execution_count": null,
   "metadata": {},
   "outputs": [],
   "source": [
    "y_loss_1"
   ]
  },
  {
   "cell_type": "code",
   "execution_count": 105,
   "metadata": {},
   "outputs": [
    {
     "name": "stderr",
     "output_type": "stream",
     "text": [
      "No handles with labels found to put in legend.\n"
     ]
    },
    {
     "data": {
      "text/plain": [
       "<Figure size 432x288 with 0 Axes>"
      ]
     },
     "metadata": {},
     "output_type": "display_data"
    },
    {
     "data": {
      "image/png": "[encoded data removed]",
      "text/plain": [
       "<Figure size 640x480 with 1 Axes>"
      ]
     },
     "metadata": {
      "needs_background": "light"
     },
     "output_type": "display_data"
    }
   ],
   "source": [
    "plt.clf()\n",
    "plt.figure(figsize=(8, 6), dpi=80)\n",
    "# plt.plot(x_test, y_test, 'go', label='', alpha=0.5)\n",
    "plt.plot(x_epochs, y_loss_1)\n",
    "plt.legend(loc='best')\n",
    "plt.show()"
   ]
  },
  {
   "cell_type": "code",
   "execution_count": 11,
   "metadata": {},
   "outputs": [
    {
     "name": "stdin",
     "output_type": "stream",
     "text": [
      "enter lower limit of the domain:  -6\n",
      "enter upper limit of the domain:  6\n",
      "enter number of grid points:  1001\n"
     ]
    }
   ],
   "source": [
    "import numpy as np\n",
    "import matplotlib.pyplot as plt\n",
    "def Vpot(x):\n",
    "    return x**2\n",
    "\n",
    "a = float(input('enter lower limit of the domain: '))\n",
    "b = float(input('enter upper limit of the domain: '))\n",
    "N = int(input('enter number of grid points: '))\n",
    "\n",
    "x = np.linspace(a,b,N)\n",
    "h = x[1]-x[0]\n",
    "\n",
    "\n",
    "T = np.zeros((N-2)**2).reshape(N-2,N-2)\n",
    "for i in range(N-2):\n",
    "    for j in range(N-2):\n",
    "        if i==j:\n",
    "            T[i,j]= -2\n",
    "        elif np.abs(i-j)==1:\n",
    "            T[i,j]=1\n",
    "        else:\n",
    "            T[i,j]=0\n",
    "            \n",
    "V = np.zeros((N-2)**2).reshape(N-2,N-2)\n",
    "for i in range(N-2):\n",
    "    for j in range(N-2):\n",
    "        if i==j:\n",
    "            V[i,j]= Vpot(x[i+1])\n",
    "        else:\n",
    "            V[i,j]=0\n"
   ]
  },
  {
   "cell_type": "code",
   "execution_count": 18,
   "metadata": {},
   "outputs": [
    {
     "data": {
      "text/plain": [
       "array([0.70709778, 2.12127534, 3.5354169 , 4.94952246])"
      ]
     },
     "execution_count": 18,
     "metadata": {},
     "output_type": "execute_result"
    }
   ],
   "source": [
    "val[z]"
   ]
  },
  {
   "cell_type": "code",
   "execution_count": 12,
   "metadata": {},
   "outputs": [
    {
     "name": "stdout",
     "output_type": "stream",
     "text": [
      "[1.         2.99997454 4.99989817 6.99977088]\n"
     ]
    },
    {
     "data": {
      "image/png": "[encoded data removed]",
      "text/plain": [
       "<Figure size 864x720 with 1 Axes>"
      ]
     },
     "metadata": {
      "needs_background": "light"
     },
     "output_type": "display_data"
    }
   ],
   "source": [
    "H = -T/(2*h**2) + V\n",
    "val,vec=np.linalg.eig(H)\n",
    "z = np.argsort(val)\n",
    "z = z[0:4]\n",
    "energies=(val[z]/val[z][0])\n",
    "print(energies)\n",
    "\n",
    "plt.figure(figsize=(12,10))\n",
    "for i in range(len(z)):\n",
    "    y = []\n",
    "    y = np.append(y,vec[:,z[i]])\n",
    "    y = np.append(y,0)\n",
    "    y = np.insert(y,0,0)\n",
    "    plt.plot(x,y,lw=3, label=\"{} \".format(i))\n",
    "    plt.xlabel('x', size=14)\n",
    "    plt.ylabel('$\\psi$(x)',size=14)\n",
    "plt.legend()\n",
    "plt.title('normalized wavefunctions for a harmonic oscillator using finite difference method',size=14)\n",
    "plt.show()\n"
   ]
  },
  {
   "cell_type": "code",
   "execution_count": 17,
   "metadata": {},
   "outputs": [
    {
     "data": {
      "text/plain": [
       "array([1.        , 2.99997454, 4.99989817, 6.99977088])"
      ]
     },
     "execution_count": 17,
     "metadata": {},
     "output_type": "execute_result"
    }
   ],
   "source": [
    "energies"
   ]
  },
  {
   "cell_type": "code",
   "execution_count": null,
   "metadata": {},
   "outputs": [],
   "source": []
  }
 ],
 "metadata": {
  "colab": {
   "name": "PyTorch: Non-linear Regression.ipynb",
   "provenance": []
  },
  "kernelspec": {
   "display_name": "Python 3",
   "language": "python",
   "name": "python3"
  },
  "language_info": {
   "codemirror_mode": {
    "name": "ipython",
    "version": 3
   },
   "file_extension": ".py",
   "mimetype": "text/x-python",
   "name": "python",
   "nbconvert_exporter": "python",
   "pygments_lexer": "ipython3",
   "version": "3.7.7"
  },
  "vscode": {
   "interpreter": {
    "hash": "8c21580189d9a9d7f1e3fef63ff70de58083dda94aa35d8ed937f03fa405217e"
   }
  }
 },
 "nbformat": 4,
 "nbformat_minor": 4
}
