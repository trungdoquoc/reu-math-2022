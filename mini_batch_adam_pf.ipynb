{
 "cells": [
  {
   "cell_type": "code",
   "execution_count": 1,
   "metadata": {},
   "outputs": [],
   "source": [
    "import datetime\n",
    "from pytz import timezone\n",
    "\n",
    "import time\n",
    "import numpy as np\n",
    "import copy\n",
    "import torch\n",
    "import torch.nn as nn\n",
    "import math\n",
    "from torch.autograd import Variable\n",
    "import matplotlib.pyplot as plt\n",
    "\n",
    "LAMBDA_PEN = 1000\n",
    "L_BOUND = -10\n",
    "U_BOUND = 10\n",
    "N_POINTS = 512\n",
    "\n",
    "NUM_EPOCHS = 20000\n",
    "\n",
    "M_POINTS = 5\n",
    "ALPHA = 2\n",
    "\n",
    "SELECTION_RATE = 0.01\n",
    "\n",
    "DISCRETE_POINTS = np.linspace(L_BOUND, U_BOUND, N_POINTS)"
   ]
  },
  {
   "cell_type": "code",
   "execution_count": 4,
   "metadata": {},
   "outputs": [
    {
     "data": {
      "text/plain": [
       "0.039138943248532954"
      ]
     },
     "execution_count": 4,
     "metadata": {},
     "output_type": "execute_result"
    }
   ],
   "source": [
    "DISCRETE_POINTS[1]-DISCRETE_POINTS[0]"
   ]
  },
  {
   "cell_type": "code",
   "execution_count": 5,
   "metadata": {},
   "outputs": [
    {
     "data": {
      "text/plain": [
       "0.03913894324853229"
      ]
     },
     "execution_count": 5,
     "metadata": {},
     "output_type": "execute_result"
    }
   ],
   "source": [
    "2*U_BOUND/(N_POINTS-1)"
   ]
  },
  {
   "cell_type": "code",
   "execution_count": 6,
   "metadata": {},
   "outputs": [],
   "source": [
    "# PLOT DATA\n",
    "def plot_figure(x_val, y_val, x_test=None, predicted=None, log_scale=False):\n",
    "    plt.clf()\n",
    "    plt.figure(figsize=(8, 6), dpi=80)\n",
    "    if log_scale==True:\n",
    "        plt.yscale('log')\n",
    "    plt.plot(x_val, y_val, '--', label='True data', alpha=0.5)\n",
    "    if predicted != None:\n",
    "        plt.plot(x_test, predicted, '--', label='Predictions', alpha=0.5)\n",
    "    plt.legend(loc='best')\n",
    "    plt.show()"
   ]
  },
  {
   "cell_type": "code",
   "execution_count": 7,
   "metadata": {},
   "outputs": [],
   "source": [
    "def epsilon_Loss(v_x, model_u, upper_bound, discrete_points):\n",
    "    \"\"\"\n",
    "    GOAL: Epsilon function evaluated at u using discretized estimation\n",
    "    minimizing Epsilon(u) = \n",
    "    \n",
    "    ARGS: \n",
    "    n_points (int): number of discretized points on the interval [-L, L]\n",
    "    e.g.: -(L)|---|---|---|---|(L) interval has n_points = 5\n",
    "\n",
    "    v_x (torch.Tensor): function instance\n",
    "    model_u (torch.Tensor): model output\n",
    "    \"\"\"\n",
    "    total = 0\n",
    "    h = (2*upper_bound)/(len(discrete_points)-1)\n",
    "    for i in discrete_points:\n",
    "        x_i = torch.tensor([i], requires_grad=True, dtype=torch.float)\n",
    "        u_xi = model_u(x_i)\n",
    "\n",
    "        u_prime_x = model_u.u_prime(x_i)\n",
    "        \n",
    "        v_xi = v_x.forward(i)\n",
    "        if v_xi < 0:\n",
    "            raise ValueError('Potential Function value is < 0')\n",
    "        t = torch.abs(torch.square(u_prime_x)) + v_xi*torch.square(u_xi)\n",
    "\n",
    "        total += t\n",
    "    return h*total\n",
    "\n",
    "def epsilon_Loss_penalty(v_x, model_u, lambda_pen,\n",
    "                         upper_bound, discrete_points):\n",
    "    \"\"\"\n",
    "    \n",
    "    \"\"\"\n",
    "    eps_sum = 0\n",
    "    pen = 0\n",
    "\n",
    "    h = (2*upper_bound)/(len(discrete_points)-1)\n",
    "#     print(\"h = \"+ str(h))\n",
    "    for i in discrete_points:\n",
    "        x_i = torch.tensor([i], requires_grad=True, dtype=torch.float)\n",
    "\n",
    "        u_prime = model_u.u_prime(x_i)\n",
    "        \n",
    "        v_xi = v_x.forward(i)\n",
    "        if v_xi < 0:\n",
    "            raise ValueError('Potential Function value is < 0')\n",
    "        u_xi = model_u(x_i)\n",
    "        u_xi_square = torch.square(u_xi)\n",
    "\n",
    "        t = torch.abs(torch.square(u_prime)) + v_xi*u_xi_square\n",
    "        eps_sum += t\n",
    "        \n",
    "        pen+= u_xi_square\n",
    "        \n",
    "    epsilon_fn = h*eps_sum\n",
    "    \n",
    "    penalty = lambda_pen * torch.square(h*pen-1)\n",
    "#     print(\"epsilon_fn value = \" + str(epsilon_fn))\n",
    "#     print(\"penalty value = \" + str(penalty))\n",
    "    return (epsilon_fn, epsilon_fn + penalty)"
   ]
  },
  {
   "cell_type": "code",
   "execution_count": null,
   "metadata": {},
   "outputs": [],
   "source": []
  },
  {
   "cell_type": "code",
   "execution_count": null,
   "metadata": {},
   "outputs": [],
   "source": [
    "a = epsilon_Loss(p_fn, model_32, U_BOUND, DISCRETE_POINTS[0:90])\n",
    "print(a)\n",
    "a2, b2, c2 = epsilon_Loss_penalty(p_fn, model_32, LAMBDA_PEN, U_BOUND, DISCRETE_POINTS[0:90])\n",
    "print(a2)"
   ]
  },
  {
   "cell_type": "code",
   "execution_count": null,
   "metadata": {},
   "outputs": [],
   "source": [
    "DISCRETE_POINTS[0:90][0]"
   ]
  },
  {
   "cell_type": "code",
   "execution_count": 133,
   "metadata": {},
   "outputs": [
    {
     "name": "stdout",
     "output_type": "stream",
     "text": [
      "h = 0.6451612903225806\n",
      "Time 0.018925189971923828\n"
     ]
    }
   ],
   "source": [
    "# ITERATIVE\n",
    "tensor_points = []\n",
    "for i in DISCRETE_POINTS:\n",
    "    x_i = torch.tensor([i], requires_grad=True, dtype=torch.float)\n",
    "    tensor_points.append(x_i)\n",
    "start1 = time.time()\n",
    "epsilon_Loss_penalty(p_fn, model_32, LAMBDA_PEN,\n",
    "                     U_BOUND, np.random.choice(DISCRETE_POINTS, size=32))\n",
    "\n",
    "# for i in tensor_points:\n",
    "#     u_prime = model_64.u_prime(x_i)\n",
    "\n",
    "end1 = time.time()\n",
    "time1 = end1-start1\n",
    "print(\"Time \" + str(time1))"
   ]
  },
  {
   "cell_type": "code",
   "execution_count": 128,
   "metadata": {},
   "outputs": [
    {
     "ename": "TypeError",
     "evalue": "Cannot interpret 'torch.float32' as a data type",
     "output_type": "error",
     "traceback": [
      "\u001b[0;31m---------------------------------------------------------------------------\u001b[0m",
      "\u001b[0;31mTypeError\u001b[0m                                 Traceback (most recent call last)",
      "\u001b[0;32m<ipython-input-128-90a4f8743a44>\u001b[0m in \u001b[0;36m<module>\u001b[0;34m\u001b[0m\n\u001b[0;32m----> 1\u001b[0;31m \u001b[0mnp\u001b[0m\u001b[0;34m.\u001b[0m\u001b[0mfromiter\u001b[0m\u001b[0;34m(\u001b[0m\u001b[0;34m(\u001b[0m\u001b[0mmodel_64\u001b[0m\u001b[0;34m.\u001b[0m\u001b[0mu_prime\u001b[0m\u001b[0;34m(\u001b[0m\u001b[0mx_i\u001b[0m\u001b[0;34m)\u001b[0m \u001b[0;32mfor\u001b[0m \u001b[0mx_i\u001b[0m \u001b[0;32min\u001b[0m \u001b[0mtensor_points\u001b[0m\u001b[0;34m)\u001b[0m\u001b[0;34m,\u001b[0m \u001b[0mx_i\u001b[0m\u001b[0;34m.\u001b[0m\u001b[0mdtype\u001b[0m\u001b[0;34m)\u001b[0m\u001b[0;34m\u001b[0m\u001b[0;34m\u001b[0m\u001b[0m\n\u001b[0m",
      "\u001b[0;31mTypeError\u001b[0m: Cannot interpret 'torch.float32' as a data type"
     ]
    }
   ],
   "source": [
    "np.fromiter((model_64.u_prime(x_i) for x_i in tensor_points), x_i.dtype)"
   ]
  },
  {
   "cell_type": "code",
   "execution_count": null,
   "metadata": {
    "jupyter": {
     "source_hidden": true
    }
   },
   "outputs": [],
   "source": [
    "e_fn.const"
   ]
  },
  {
   "cell_type": "code",
   "execution_count": 24,
   "metadata": {},
   "outputs": [],
   "source": [
    "# CREATING MODEL CLASS\n",
    "class Nonlinear(nn.Module):\n",
    "    def __init__(self, n):\n",
    "        # One hidden layer with n nodes\n",
    "        super().__init__()\n",
    "        self.hidden = nn.Linear(1, n)\n",
    "        self.output = nn.Linear(n, 1)\n",
    "        \n",
    "        self.sigmoid = nn.Sigmoid()\n",
    "        self.tanh = nn.Tanh()\n",
    "\n",
    "    def forward(self, x, use_tanh_fn = False):\n",
    "        if use_tanh_fn == True:\n",
    "            x = self.hidden(x)\n",
    "            x = self.tanh(x)\n",
    "            x = self.output(x)\n",
    "        else:\n",
    "            x = self.hidden(x)\n",
    "            x = self.sigmoid(x)\n",
    "            x = self.output(x)\n",
    "        return x\n",
    "\n",
    "    def normalize_model(self, discrete_points):\n",
    "        \"\"\"\n",
    "        GOAL: Normalize the output weight layer\n",
    "        model.output *= c\n",
    "        where,\n",
    "        scalar c = 1/denom\n",
    "        \"\"\"\n",
    "        \n",
    "        h = discrete_points[1] - discrete_points[0]\n",
    "        s = 0\n",
    "        for i in discrete_points:\n",
    "            x_i = torch.tensor([i], requires_grad=True, dtype=torch.float)\n",
    "            s += self(x_i)**2\n",
    "        denom = math.sqrt(h) * torch.sqrt(s)\n",
    "        c = 1/denom\n",
    "\n",
    "        print(\"Before normalization: \")\n",
    "        print(self.output.weight.data)\n",
    "        print(self.output.bias.data)\n",
    "        \n",
    "        self.output.weight.data.copy_(c.item() * self.output.weight.data)\n",
    "        self.output.bias.data.copy_(c.item() * self.output.bias.data)\n",
    "\n",
    "        print(\"After normalization: \")\n",
    "        print(self.output.weight.data)\n",
    "        print(self.output.bias.data)\n",
    "        print(\"c value = \" + str(c))\n",
    "\n",
    "        return \n",
    "\n",
    "    def u_prime(self, x_in):\n",
    "        y = self(x_in)\n",
    "        y_prime = torch.autograd.grad(y.sum(), x_in, create_graph=True)\n",
    "        return y_prime[0]\n",
    "    \n",
    "    # TRANING MODEL\n",
    "    def minibatch_train_with_penalty(self, \n",
    "                                   num_epochs, \n",
    "                                   v_x, \n",
    "                                   optimizer, \n",
    "                                   lambda_pen,\n",
    "                                   discrete_points,\n",
    "                                   batch_size=32):\n",
    "        # For plotting loss value over epochs:\n",
    "        x_epochs = []\n",
    "        y_loss = []\n",
    "        y_loss_pen = []\n",
    "        \n",
    "        m = len(discrete_points)\n",
    "        num_batches = int(m/batch_size)\n",
    "#         print(\"Number of batches \" + str(num_batches))\n",
    "\n",
    "        for epoch in range(num_epochs):\n",
    "            perm = torch.randperm(m)\n",
    "            avg_loss_pen = 0\n",
    "            avg_loss = 0\n",
    "\n",
    "#                 start1 = time.time()\n",
    "            for i in range(0, m, batch_size):\n",
    "#                 print(\"i = \" + str(i))\n",
    "                optimizer.zero_grad()\n",
    "\n",
    "                indices = perm[i: i+batch_size]\n",
    "\n",
    "                loss_values = epsilon_Loss_penalty(v_x, self, lambda_pen,\n",
    "                                                U_BOUND, \n",
    "                                                discrete_points[indices])\n",
    "\n",
    "                loss = loss_values[0]\n",
    "                loss_pen = loss_values[1]\n",
    "\n",
    "                avg_loss_pen += loss_pen.item()\n",
    "                avg_loss += loss.item()\n",
    "\n",
    "                loss_pen.backward()\n",
    "                optimizer.step()\n",
    "\n",
    "            avg_loss_pen = avg_loss_pen/num_batches\n",
    "            avg_loss = avg_loss/num_batches\n",
    "\n",
    "            y_loss_pen.append(avg_loss_pen)\n",
    "            y_loss.append(avg_loss)\n",
    "            x_epochs.append(epoch)\n",
    "\n",
    "            if epoch % 100 == 0 or epoch < 30:\n",
    "                print('epoch {}, loss with penalty {}'.format(epoch, avg_loss_pen))\n",
    "\n",
    "#                 if epoch == 0:\n",
    "#                     end1 = time.time()\n",
    "#                     time1 = end1-start1\n",
    "#                     print(\"One epoch takes \" + str(time1))\n",
    "\n",
    "        print('Please normalize after training')\n",
    "        return (x_epochs, y_loss_pen, y_loss)\n",
    "    \n",
    "    def batch_train_with_penalty(self, \n",
    "                             num_epochs, \n",
    "                             v_x, \n",
    "                             optimizer, \n",
    "                             lambda_pen, \n",
    "                             discrete_points):\n",
    "        # For plotting loss value over epochs:\n",
    "        x_epochs = []\n",
    "        y_loss = []\n",
    "        y_loss_pen = []\n",
    "\n",
    "\n",
    "        for epoch in range(num_epochs):\n",
    "            optimizer.zero_grad()\n",
    "            loss_values = epsilon_Loss_penalty(v_x, self, lambda_pen,\n",
    "                                        U_BOUND, discrete_points)\n",
    "\n",
    "            loss = loss_values[0]\n",
    "            loss_pen = loss_values[1]\n",
    "\n",
    "            y_loss_pen.append(loss_pen.detach().numpy().item())\n",
    "            y_loss.append(loss.detach().numpy().item())\n",
    "            x_epochs.append(epoch)\n",
    "\n",
    "            if epoch % 100 == 0 or epoch < 30:\n",
    "                print('epoch {}, loss with penalty {}'.format(epoch, loss_pen.item()))\n",
    "            loss_pen.backward()\n",
    "            optimizer.step()\n",
    "\n",
    "        print('Please normalize after training')\n",
    "        return (x_epochs, y_loss_pen, y_loss)"
   ]
  },
  {
   "cell_type": "code",
   "execution_count": 31,
   "metadata": {
    "jupyter": {
     "source_hidden": true
    }
   },
   "outputs": [],
   "source": [
    "# For potential function\n",
    "ti_list = np.random.normal(loc=0, scale=1.0, size= M_POINTS)\n",
    "ci_list = [(U_BOUND/(i * math.pi))**ALPHA for i in range(1, M_POINTS+1)]\n",
    "\n",
    "\n",
    "def potential_func_iterative(x, t_list, c_list, M_points=M_POINTS, L_endpoint=U_BOUND, c_0=50):\n",
    "    f_value = 0\n",
    "    summation = 0\n",
    "    #Iterative method:\n",
    "\n",
    "    for i in range(1, M_points+1):\n",
    "        cos_val = np.cos((i * math.pi * x)/L_endpoint)\n",
    "        summation += t_list[i-1] * c_list[i-1] * cos_val\n",
    "\n",
    "    f_value += summation\n",
    "    f_value += c_0\n",
    "\n",
    "    return f_value\n",
    "\n",
    "\n",
    "def potential_func_linalg(x, M_points=20, L_endpoint=U_BOUND, alpha=3, c_0=100):    \n",
    "    # Linear Algebra method:\n",
    "    t_i = np.random.normal(0, 1, size=N_points)\n",
    "    \n",
    "    iter1 = ((math.pi/(i*L_endpoint))**alpha for i in range(1, M_points+1))\n",
    "    c_i = np.fromiter(iter1, float)\n",
    "    a = np.multiply(t_i, c_i)\n",
    "\n",
    "    iter2 = (i for i in range(1, M_points+1))\n",
    "    v = np.fromiter(iter2, float)\n",
    "    s = (L_endpoint*x/math.pi)*v\n",
    "    cos_s = np.cos(s)\n",
    "    \n",
    "    res_vector = np.multiply(a, cos_s)\n",
    "    return np.sum(res_vector) + c_0"
   ]
  },
  {
   "cell_type": "code",
   "execution_count": 51,
   "metadata": {},
   "outputs": [],
   "source": [
    "class X_Square:\n",
    "    def __init__(self, const):\n",
    "        self.const = const\n",
    "        \n",
    "    def forward(self, x):\n",
    "        return x**2 + self.const + 13*math.sin(x)\n",
    "    \n",
    "class Potential_Function:\n",
    "    def __init__(self, c_0=0,\n",
    "                 M_points=M_POINTS,\n",
    "                 L_endpoint=U_BOUND, \n",
    "                 alpha=ALPHA, \n",
    "                 rescale=1):\n",
    "        self.M_points = M_points\n",
    "        self.L_endpoint = L_endpoint\n",
    "        self.alpha = alpha\n",
    "        self.c_0 = c_0\n",
    "        self.rescale = 1\n",
    "        \n",
    "        self.ti_list = np.random.normal(loc=0, scale=1.0, size= self.M_points)\n",
    "        self.ci_list = [(self.L_endpoint/(i * math.pi))**self.alpha for i in range(1, self.M_points+1)]\n",
    "        \n",
    "    def forward(self, x):\n",
    "        f_value = 0\n",
    "        summation = 0\n",
    "        #Iterative method:\n",
    "\n",
    "        for i in range(1, self.M_points+1):\n",
    "            cos_val = np.cos((i * math.pi * x)/self.L_endpoint)\n",
    "            summation += self.ti_list[i-1] * self.ci_list[i-1] * cos_val\n",
    "\n",
    "        f_value += summation\n",
    "        f_value += self.c_0\n",
    "        return self.rescale * f_value\n",
    "    \n",
    "    def set_c0_value(self, val):\n",
    "        self.c_0 = val\n",
    "        return\n",
    "    \n",
    "    def set_rescale_factor(self, val):\n",
    "        self.rescale = val\n",
    "        return \n",
    "    \n",
    "    def plot_function(self, discrete_points):\n",
    "        y_values = [self.forward(i) for i in discrete_points]\n",
    "        plt.plot(discrete_points, y_values)\n",
    "    \n",
    "    def update_potential_fn(self, discrete_points):\n",
    "        # (1) Check lowest value to set appropriate c_0 value:\n",
    "        y_values = [self.forward(i) for i in discrete_points]\n",
    "        min_val = min(y_values)\n",
    "        print(\"Original min val = \" + str(min_val))\n",
    "        # plt.plot(DISCRETE_POINTS, y_values)\n",
    "\n",
    "        # (1) Set c_0 value s.t. every value in y_values is > 0: \n",
    "        if min_val < 0:\n",
    "            c_0 = math.ceil(abs(min_val))\n",
    "            self.set_c0_value(c_0)\n",
    "            new_y = [self.forward(i) for i in discrete_points]\n",
    "            print(\"Min val with c_0 updated = \" + str(min(new_y)))\n",
    "        # plt.plot(DISCRETE_POINTS, new_y)\n",
    "\n",
    "        # (2) Rescale potential function s.t. every value lies between 0 and 5:\n",
    "        max_v = max(new_y)\n",
    "#         min_v = min(new_y)\n",
    "#         print(max_v, min_v)\n",
    "#         max_min = max_v-min_v\n",
    "\n",
    "#         rescaled_y = [(i-min_v)/(max_min) for i in new_y]\n",
    "#         plt.plot(DISCRETE_POINTS, rescaled_y)\n",
    "\n",
    "#         c = 5/max_v\n",
    "#         self.set_rescale_factor(c)\n",
    "        return"
   ]
  },
  {
   "cell_type": "code",
   "execution_count": 12,
   "metadata": {},
   "outputs": [],
   "source": [
    "def model_on_interval(nn_model, discrete_points):\n",
    "    x_vals = [torch.tensor([i], requires_grad=True, dtype=torch.float) for i in discrete_points]\n",
    "\n",
    "    model_output = []\n",
    "    for i in x_vals:\n",
    "        model_output.append(nn_model(i).detach().numpy().item())\n",
    "    return model_output"
   ]
  },
  {
   "cell_type": "code",
   "execution_count": 57,
   "metadata": {},
   "outputs": [
    {
     "name": "stdout",
     "output_type": "stream",
     "text": [
      "0.018739938735961914\n",
      "0.017675161361694336\n"
     ]
    }
   ],
   "source": [
    "t_f = Potential_Function(c_0=50)\n",
    "start = time.time()\n",
    "r1 = [potential_func_iterative(i, t_list=ti_list, c_list=ci_list) for i in DISCRETE_POINTS]\n",
    "end = time.time()\n",
    "time1 = end-start\n",
    "# print(r1)\n",
    "print(time1)\n",
    "\n",
    "start = time.time()\n",
    "r2 = [t_f.forward(i) for i in DISCRETE_POINTS]\n",
    "end = time.time()\n",
    "time2 = end-start\n",
    "# print(r2)\n",
    "print(time2)"
   ]
  },
  {
   "cell_type": "code",
   "execution_count": null,
   "metadata": {},
   "outputs": [],
   "source": [
    "start = time.time()\n",
    "res1 = 10**2\n",
    "end = time.time()\n",
    "time1 = end-start\n",
    "print(time1)\n",
    "\n",
    "start = time.time()\n",
    "res2 = potential_func_iterative(10)\n",
    "end = time.time()\n",
    "time2 = end-start\n",
    "print(time2)"
   ]
  },
  {
   "cell_type": "code",
   "execution_count": 56,
   "metadata": {},
   "outputs": [],
   "source": [
    "learningRate = 0.01\n",
    "\n",
    "#INIT MODEL\n",
    "batch_model = Nonlinear(20)\n",
    "model_32 = Nonlinear(20)\n",
    "model_64 = Nonlinear(20)\n",
    "model_128 = Nonlinear(20)\n",
    "if torch.cuda.is_available():\n",
    "    model_32.cuda()\n",
    "    model_64.cuda()\n",
    "\n",
    "# INIT OPTIMIZER CLASS\n",
    "# SGD:\n",
    "# sgd_optimizer = torch.optim.SGD(model_32.parameters(), \n",
    "#                                 lr=learningRate, \n",
    "#                                 momentum=0.9)\n",
    "\n",
    "# Adam:\n",
    "adam_optimizer = torch.optim.Adam(batch_model.parameters(), \n",
    "                                    lr=learningRate, \n",
    "                                    betas=(0.9, 0.999), \n",
    "                                    eps=1e-08, \n",
    "                                    weight_decay=0, \n",
    "                                    amsgrad=False)\n",
    "\n",
    "adam_optimizer_2 = torch.optim.Adam(model_64.parameters(), \n",
    "                                    lr=learningRate, \n",
    "                                    betas=(0.9, 0.999), \n",
    "                                    eps=1e-08, \n",
    "                                    weight_decay=0, \n",
    "                                    amsgrad=False)\n",
    "\n",
    "adam_optimizer_3 = torch.optim.Adam(model_128.parameters(), \n",
    "                                    lr=learningRate, \n",
    "                                    betas=(0.9, 0.999), \n",
    "                                    eps=1e-08, \n",
    "                                    weight_decay=0, \n",
    "                                    amsgrad=False)\n"
   ]
  },
  {
   "cell_type": "code",
   "execution_count": 55,
   "metadata": {},
   "outputs": [],
   "source": [
    "del adam_optimizer\n",
    "del adam_optimizer_2\n",
    "del adam_optimizer_3\n",
    "\n",
    "del model_32\n",
    "del model_64\n",
    "del model_128\n",
    "del batch_model"
   ]
  },
  {
   "cell_type": "code",
   "execution_count": 57,
   "metadata": {},
   "outputs": [
    {
     "data": {
      "image/png": "[encoded data removed]",
      "text/plain": [
       "<Figure size 432x288 with 1 Axes>"
      ]
     },
     "metadata": {
      "needs_background": "light"
     },
     "output_type": "display_data"
    }
   ],
   "source": [
    "# Init. potential function instance\n",
    "p_fn = Potential_Function()\n",
    "p_fn.plot_function(DISCRETE_POINTS)"
   ]
  },
  {
   "cell_type": "code",
   "execution_count": 58,
   "metadata": {},
   "outputs": [
    {
     "name": "stdout",
     "output_type": "stream",
     "text": [
      "Original min val = -2.558800852283758\n",
      "Min val with c_0 updated = 0.441199147716242\n"
     ]
    },
    {
     "data": {
      "image/png": "[encoded data removed]",
      "text/plain": [
       "<Figure size 432x288 with 1 Axes>"
      ]
     },
     "metadata": {
      "needs_background": "light"
     },
     "output_type": "display_data"
    }
   ],
   "source": [
    "p_fn.update_potential_fn(DISCRETE_POINTS)\n",
    "p_fn.plot_function(DISCRETE_POINTS)"
   ]
  },
  {
   "cell_type": "code",
   "execution_count": null,
   "metadata": {},
   "outputs": [],
   "source": [
    "# Check lowest value to set appropriate c_0 value:\n",
    "y_values = [p_fn.forward(i) for i in DISCRETE_POINTS]\n",
    "min_val = min(y_values)\n",
    "print(\"Original min val = \" + str(min_val))\n",
    "# plt.plot(DISCRETE_POINTS, y_values)\n",
    "\n",
    "# Set c_0 value s.t. every value in y_values is > 0: \n",
    "c_0 = math.ceil(abs(min_val))\n",
    "p_fn.set_c0_value(c_0)\n",
    "new_y = [p_fn.forward(i) for i in DISCRETE_POINTS]\n",
    "\n",
    "# plt.plot(DISCRETE_POINTS, new_y)\n",
    "\n",
    "# Rescale potential function s.t. every value lies between 0 and 5:\n",
    "max_v = max(new_y)\n",
    "min_v = min(new_y)\n",
    "print(max_v, min_v)\n",
    "max_min = max_v-min_v\n",
    "\n",
    "rescaled_y = [(i-min_v)/(max_min) for i in new_y]\n",
    "plt.plot(DISCRETE_POINTS, rescaled_y)"
   ]
  },
  {
   "cell_type": "code",
   "execution_count": 16,
   "metadata": {},
   "outputs": [],
   "source": [
    "batch_res = None"
   ]
  },
  {
   "cell_type": "code",
   "execution_count": 145,
   "metadata": {},
   "outputs": [],
   "source": [
    "model_res_32 = None\n",
    "model_res_64 = None\n",
    "model_res_128 = None"
   ]
  },
  {
   "cell_type": "code",
   "execution_count": 59,
   "metadata": {},
   "outputs": [],
   "source": [
    "### TRAIN MODEL HERE ###\n",
    "def run_batch_training(nn_model, v_x, optimizer):\n",
    "    \n",
    "    now = datetime.datetime.now(tz=timezone('US/Eastern'))\n",
    "    print(\"Start time is \" + str(now))\n",
    "    start = time.time()\n",
    "    \n",
    "    model_res = nn_model.batch_train_with_penalty(NUM_EPOCHS, \n",
    "                                                v_x, \n",
    "                                                optimizer, \n",
    "                                                LAMBDA_PEN, \n",
    "                                                DISCRETE_POINTS)\n",
    "    end = time.time()\n",
    "    time1 = end-start\n",
    "    print(\"Using potential function defined as class takes \" + str(time1))\n",
    "    return model_res\n",
    "\n",
    "def run_minibatch_training(nn_model, v_x, optimizer, b_size):\n",
    "    now = datetime.datetime.now(tz=timezone('US/Eastern'))\n",
    "    print((\"Start time for batch_size = {a} is \" + str(now)).format(a=b_size))\n",
    "    start = time.time()\n",
    "    \n",
    "    model_res = nn_model.minibatch_train_with_penalty(NUM_EPOCHS, \n",
    "                                                      v_x, \n",
    "                                                      optimizer, \n",
    "                                                      LAMBDA_PEN, \n",
    "                                                      DISCRETE_POINTS,\n",
    "                                                      batch_size=b_size)\n",
    "    \n",
    "    end = time.time()\n",
    "    time1 = end-start\n",
    "    print(\"Using potential function defined as class takes \" + str(time1))\n",
    "    return model_res"
   ]
  },
  {
   "cell_type": "code",
   "execution_count": 114,
   "metadata": {
    "collapsed": true,
    "jupyter": {
     "outputs_hidden": true,
     "source_hidden": true
    }
   },
   "outputs": [
    {
     "name": "stdout",
     "output_type": "stream",
     "text": [
      "Start time for batch_size = 64 is 2022-07-31 23:33:55.488200-04:00\n",
      "epoch 0, loss with penalty 177.89723777770996\n",
      "epoch 1, loss with penalty 94.34998774528503\n",
      "epoch 2, loss with penalty 81.68863534927368\n",
      "epoch 3, loss with penalty 70.31339979171753\n",
      "epoch 4, loss with penalty 97.55239152908325\n",
      "epoch 5, loss with penalty 95.44247102737427\n",
      "epoch 6, loss with penalty 84.83988237380981\n",
      "epoch 7, loss with penalty 69.59263396263123\n",
      "epoch 8, loss with penalty 89.90981960296631\n",
      "epoch 9, loss with penalty 72.49066400527954\n",
      "epoch 10, loss with penalty 72.36901521682739\n",
      "epoch 11, loss with penalty 79.76749110221863\n",
      "epoch 12, loss with penalty 74.57911205291748\n",
      "epoch 13, loss with penalty 83.59079837799072\n",
      "epoch 14, loss with penalty 83.74671411514282\n",
      "epoch 15, loss with penalty 66.45458769798279\n",
      "epoch 16, loss with penalty 122.03101181983948\n",
      "epoch 17, loss with penalty 101.30830359458923\n",
      "epoch 18, loss with penalty 109.7941575050354\n",
      "epoch 19, loss with penalty 85.37106227874756\n",
      "epoch 20, loss with penalty 85.14537715911865\n",
      "epoch 21, loss with penalty 59.6619713306427\n",
      "epoch 22, loss with penalty 62.1493079662323\n",
      "epoch 23, loss with penalty 68.53316378593445\n",
      "epoch 24, loss with penalty 61.79017519950867\n",
      "epoch 25, loss with penalty 98.92659282684326\n",
      "epoch 26, loss with penalty 101.08984923362732\n",
      "epoch 27, loss with penalty 74.2882788181305\n",
      "epoch 28, loss with penalty 74.13826274871826\n",
      "epoch 29, loss with penalty 73.87875151634216\n",
      "epoch 100, loss with penalty 67.09080672264099\n",
      "epoch 200, loss with penalty 72.02795791625977\n",
      "epoch 300, loss with penalty 64.37850046157837\n",
      "epoch 400, loss with penalty 56.98467540740967\n",
      "epoch 500, loss with penalty 60.336140751838684\n",
      "epoch 600, loss with penalty 58.24715065956116\n",
      "epoch 700, loss with penalty 64.32312476634979\n",
      "epoch 800, loss with penalty 77.17751145362854\n",
      "epoch 900, loss with penalty 55.39954972267151\n",
      "Please normalize after training\n",
      "Using potential function defined as class takes 743.9880261421204\n"
     ]
    }
   ],
   "source": [
    "test_model = Nonlinear(20)\n",
    "adam_opt = torch.optim.Adam(test_model.parameters(), \n",
    "                                    lr=learningRate, \n",
    "                                    betas=(0.9, 0.999), \n",
    "                                    eps=1e-08, \n",
    "                                    weight_decay=0, \n",
    "                                    amsgrad=False)\n",
    "test_res = run_minibatch_training(test_model, e_fn, adam_opt, b_size=64)"
   ]
  },
  {
   "cell_type": "code",
   "execution_count": 150,
   "metadata": {},
   "outputs": [
    {
     "name": "stdout",
     "output_type": "stream",
     "text": [
      "Before normalization: \n",
      "tensor([[-0.5032, -0.1080, -0.3893,  0.2031,  0.3566,  0.0120,  0.2418,  0.0127,\n",
      "          0.5411,  0.0084,  0.0101,  0.0208,  0.0082, -0.2132,  0.0298,  0.0201,\n",
      "          0.0101,  0.1381,  0.0095,  0.1273]])\n",
      "tensor([-0.0353])\n",
      "After normalization: \n",
      "tensor([[-0.5032, -0.1080, -0.3893,  0.2031,  0.3566,  0.0120,  0.2418,  0.0127,\n",
      "          0.5411,  0.0084,  0.0101,  0.0208,  0.0082, -0.2132,  0.0298,  0.0201,\n",
      "          0.0101,  0.1381,  0.0095,  0.1273]])\n",
      "tensor([-0.0353])\n",
      "c value = tensor([1.], grad_fn=<MulBackward0>)\n"
     ]
    }
   ],
   "source": [
    "test_model.normalize_model(DISCRETE_POINTS)"
   ]
  },
  {
   "cell_type": "code",
   "execution_count": 26,
   "metadata": {},
   "outputs": [
    {
     "name": "stdout",
     "output_type": "stream",
     "text": [
      "Start time is 2022-08-01 09:43:36.942162-04:00\n",
      "epoch 0, loss with penalty 15021.0087890625\n",
      "epoch 1, loss with penalty 3547.29150390625\n",
      "epoch 2, loss with penalty 324.0652160644531\n",
      "epoch 3, loss with penalty 44.146522521972656\n",
      "epoch 4, loss with penalty 377.0179138183594\n",
      "epoch 5, loss with penalty 648.2255859375\n",
      "epoch 6, loss with penalty 747.5222778320312\n",
      "epoch 7, loss with penalty 702.4701538085938\n",
      "epoch 8, loss with penalty 560.837646484375\n",
      "epoch 9, loss with penalty 369.75201416015625\n",
      "epoch 10, loss with penalty 178.26979064941406\n",
      "epoch 11, loss with penalty 40.014652252197266\n",
      "epoch 12, loss with penalty 5.756706237792969\n",
      "epoch 13, loss with penalty 100.29877471923828\n",
      "epoch 14, loss with penalty 290.7044982910156\n",
      "epoch 15, loss with penalty 484.7716369628906\n",
      "epoch 16, loss with penalty 586.0001831054688\n",
      "epoch 17, loss with penalty 554.1697387695312\n",
      "epoch 18, loss with penalty 419.9129943847656\n",
      "epoch 19, loss with penalty 251.67642211914062\n",
      "epoch 20, loss with penalty 110.9681625366211\n",
      "epoch 21, loss with penalty 27.94585418701172\n",
      "epoch 22, loss with penalty 2.4868223667144775\n",
      "epoch 23, loss with penalty 17.93603515625\n",
      "epoch 24, loss with penalty 54.287723541259766\n",
      "epoch 25, loss with penalty 95.34247589111328\n",
      "epoch 26, loss with penalty 130.5859832763672\n",
      "epoch 27, loss with penalty 154.39674377441406\n",
      "epoch 28, loss with penalty 164.57681274414062\n",
      "epoch 29, loss with penalty 161.1375732421875\n",
      "epoch 100, loss with penalty 2.587007761001587\n",
      "epoch 200, loss with penalty 2.468820333480835\n",
      "epoch 300, loss with penalty 2.4621613025665283\n",
      "epoch 400, loss with penalty 2.4540274143218994\n",
      "epoch 500, loss with penalty 2.444488286972046\n",
      "epoch 600, loss with penalty 2.4335641860961914\n",
      "epoch 700, loss with penalty 2.42124605178833\n",
      "epoch 800, loss with penalty 2.407487630844116\n",
      "epoch 900, loss with penalty 2.3922345638275146\n",
      "epoch 1000, loss with penalty 2.375404119491577\n",
      "epoch 1100, loss with penalty 2.3568899631500244\n",
      "epoch 1200, loss with penalty 2.3365721702575684\n",
      "epoch 1300, loss with penalty 2.3142950534820557\n",
      "epoch 1400, loss with penalty 2.289879083633423\n",
      "epoch 1500, loss with penalty 2.263108253479004\n",
      "epoch 1600, loss with penalty 2.2337281703948975\n",
      "epoch 1700, loss with penalty 2.201442241668701\n",
      "epoch 1800, loss with penalty 2.1659016609191895\n",
      "epoch 1900, loss with penalty 2.126697540283203\n",
      "epoch 2000, loss with penalty 2.083381414413452\n",
      "epoch 2100, loss with penalty 2.035475015640259\n",
      "epoch 2200, loss with penalty 1.9825533628463745\n",
      "epoch 2300, loss with penalty 1.9244067668914795\n",
      "epoch 2400, loss with penalty 1.8613027334213257\n",
      "epoch 2500, loss with penalty 1.7941337823867798\n",
      "epoch 2600, loss with penalty 1.7239975929260254\n",
      "epoch 2700, loss with penalty 1.6516660451889038\n",
      "epoch 2800, loss with penalty 1.5780688524246216\n",
      "epoch 2900, loss with penalty 1.5051485300064087\n",
      "epoch 3000, loss with penalty 1.4354827404022217\n",
      "epoch 3100, loss with penalty 1.3708494901657104\n",
      "epoch 3200, loss with penalty 1.3117365837097168\n",
      "epoch 3300, loss with penalty 1.2579796314239502\n",
      "epoch 3400, loss with penalty 1.2091937065124512\n",
      "epoch 3500, loss with penalty 1.1812756061553955\n",
      "epoch 3600, loss with penalty 1.1251633167266846\n",
      "epoch 3700, loss with penalty 1.0890936851501465\n",
      "epoch 3800, loss with penalty 1.073908805847168\n",
      "epoch 3900, loss with penalty 1.0294692516326904\n",
      "epoch 4000, loss with penalty 1.0152742862701416\n",
      "epoch 4100, loss with penalty 0.9889915585517883\n",
      "epoch 4200, loss with penalty 0.9755120873451233\n",
      "epoch 4300, loss with penalty 0.9603598713874817\n",
      "epoch 4400, loss with penalty 0.9501538276672363\n",
      "epoch 4500, loss with penalty 0.9394988417625427\n",
      "epoch 4600, loss with penalty 0.9327590465545654\n",
      "epoch 4700, loss with penalty 0.9241007566452026\n",
      "epoch 4800, loss with penalty 0.9207941293716431\n",
      "epoch 4900, loss with penalty 0.9125704169273376\n",
      "epoch 5000, loss with penalty 0.9191780686378479\n",
      "epoch 5100, loss with penalty 0.9032642841339111\n",
      "epoch 5200, loss with penalty 0.941838264465332\n",
      "epoch 5300, loss with penalty 0.8953707814216614\n",
      "epoch 5400, loss with penalty 0.9770359992980957\n",
      "epoch 5500, loss with penalty 0.8882967233657837\n",
      "epoch 5600, loss with penalty 1.1194589138031006\n",
      "epoch 5700, loss with penalty 0.881710410118103\n",
      "epoch 5800, loss with penalty 1.2146354913711548\n",
      "epoch 5900, loss with penalty 0.8754948377609253\n",
      "epoch 6000, loss with penalty 1.0346348285675049\n",
      "epoch 6100, loss with penalty 0.8692831993103027\n",
      "epoch 6200, loss with penalty 0.8722422122955322\n",
      "epoch 6300, loss with penalty 0.8648068308830261\n",
      "epoch 6400, loss with penalty 0.861935555934906\n",
      "epoch 6500, loss with penalty 0.8882224559783936\n",
      "epoch 6600, loss with penalty 0.9034400582313538\n",
      "epoch 6700, loss with penalty 1.997933268547058\n",
      "epoch 6800, loss with penalty 0.9263023138046265\n",
      "epoch 6900, loss with penalty 0.9226543307304382\n",
      "epoch 7000, loss with penalty 2.371006727218628\n",
      "epoch 7100, loss with penalty 1.5754384994506836\n",
      "epoch 7200, loss with penalty 1.154006004333496\n",
      "epoch 7300, loss with penalty 0.9857264757156372\n",
      "epoch 7400, loss with penalty 0.8891710638999939\n",
      "epoch 7500, loss with penalty 0.8431366682052612\n",
      "epoch 7600, loss with penalty 0.8575407266616821\n",
      "epoch 7700, loss with penalty 0.9077162742614746\n",
      "epoch 7800, loss with penalty 0.9392799735069275\n",
      "epoch 7900, loss with penalty 0.8476797342300415\n",
      "epoch 8000, loss with penalty 1.7204159498214722\n",
      "epoch 8100, loss with penalty 0.9270749688148499\n",
      "epoch 8200, loss with penalty 0.8516473174095154\n",
      "epoch 8300, loss with penalty 1.9878230094909668\n",
      "epoch 8400, loss with penalty 0.843307614326477\n",
      "epoch 8500, loss with penalty 0.8135141134262085\n",
      "epoch 8600, loss with penalty 0.8528599739074707\n",
      "epoch 8700, loss with penalty 0.8367966413497925\n",
      "epoch 8800, loss with penalty 1.932040810585022\n",
      "epoch 8900, loss with penalty 0.9011276364326477\n",
      "epoch 9000, loss with penalty 0.7878408432006836\n",
      "epoch 9100, loss with penalty 0.792902410030365\n",
      "epoch 9200, loss with penalty 0.7862776517868042\n",
      "epoch 9300, loss with penalty 0.7854635119438171\n",
      "epoch 9400, loss with penalty 0.7902272939682007\n",
      "epoch 9500, loss with penalty 0.9635741710662842\n",
      "epoch 9600, loss with penalty 0.8355390429496765\n",
      "epoch 9700, loss with penalty 0.8650467395782471\n",
      "epoch 9800, loss with penalty 1.9923170804977417\n",
      "epoch 9900, loss with penalty 0.8402915596961975\n",
      "epoch 10000, loss with penalty 0.8246356248855591\n",
      "epoch 10100, loss with penalty 0.801153302192688\n",
      "epoch 10200, loss with penalty 0.8503412008285522\n",
      "epoch 10300, loss with penalty 0.7931526899337769\n",
      "epoch 10400, loss with penalty 0.7995355129241943\n",
      "epoch 10500, loss with penalty 0.7518549561500549\n",
      "epoch 10600, loss with penalty 0.7477036118507385\n",
      "epoch 10700, loss with penalty 0.745638370513916\n",
      "epoch 10800, loss with penalty 0.7476748824119568\n",
      "epoch 10900, loss with penalty 0.7408143281936646\n",
      "epoch 11000, loss with penalty 0.7406500577926636\n",
      "epoch 11100, loss with penalty 0.7713251709938049\n",
      "epoch 11200, loss with penalty 0.767358124256134\n",
      "epoch 11300, loss with penalty 0.7414721250534058\n",
      "epoch 11400, loss with penalty 1.0606577396392822\n",
      "epoch 11500, loss with penalty 1.4552396535873413\n",
      "epoch 11600, loss with penalty 1.316709280014038\n",
      "epoch 11700, loss with penalty 0.9357334971427917\n",
      "epoch 11800, loss with penalty 0.972221851348877\n",
      "epoch 11900, loss with penalty 0.7148082852363586\n",
      "epoch 12000, loss with penalty 0.719307541847229\n",
      "epoch 12100, loss with penalty 1.1699894666671753\n",
      "epoch 12200, loss with penalty 0.7310932278633118\n",
      "epoch 12300, loss with penalty 0.7130723595619202\n",
      "epoch 12400, loss with penalty 1.79380464553833\n",
      "epoch 12500, loss with penalty 0.7484917044639587\n",
      "epoch 12600, loss with penalty 0.8157711625099182\n",
      "epoch 12700, loss with penalty 0.7352914214134216\n",
      "epoch 12800, loss with penalty 0.7169303297996521\n",
      "epoch 12900, loss with penalty 0.7517614364624023\n",
      "epoch 13000, loss with penalty 0.7425552010536194\n",
      "epoch 13100, loss with penalty 1.010496735572815\n",
      "epoch 13200, loss with penalty 0.8191922307014465\n",
      "epoch 13300, loss with penalty 0.7572760581970215\n",
      "epoch 13400, loss with penalty 0.6786546111106873\n",
      "epoch 13500, loss with penalty 1.8024593591690063\n",
      "epoch 13600, loss with penalty 0.696881890296936\n",
      "epoch 13700, loss with penalty 0.7990617752075195\n",
      "epoch 13800, loss with penalty 0.727744460105896\n",
      "epoch 13900, loss with penalty 2.9175708293914795\n",
      "epoch 14000, loss with penalty 1.2724571228027344\n",
      "epoch 14100, loss with penalty 0.663348913192749\n",
      "epoch 14200, loss with penalty 0.9929361939430237\n",
      "epoch 14300, loss with penalty 0.6669976711273193\n",
      "epoch 14400, loss with penalty 0.6671873927116394\n",
      "epoch 14500, loss with penalty 1.103670358657837\n",
      "epoch 14600, loss with penalty 0.6594208478927612\n",
      "epoch 14700, loss with penalty 0.6664673686027527\n",
      "epoch 14800, loss with penalty 1.5106736421585083\n",
      "epoch 14900, loss with penalty 3.412853956222534\n",
      "epoch 15000, loss with penalty 1.5079257488250732\n",
      "epoch 15100, loss with penalty 0.648647665977478\n",
      "epoch 15200, loss with penalty 0.6490247845649719\n",
      "epoch 15300, loss with penalty 0.8390544652938843\n",
      "epoch 15400, loss with penalty 1.243924856185913\n",
      "epoch 15500, loss with penalty 0.6320451498031616\n",
      "epoch 15600, loss with penalty 2.4090404510498047\n",
      "epoch 15700, loss with penalty 2.0140039920806885\n",
      "epoch 15800, loss with penalty 1.9417614936828613\n",
      "epoch 15900, loss with penalty 1.869896650314331\n",
      "epoch 16000, loss with penalty 1.7995364665985107\n",
      "epoch 16100, loss with penalty 1.7318735122680664\n",
      "epoch 16200, loss with penalty 1.6680285930633545\n",
      "epoch 16300, loss with penalty 1.608953833580017\n",
      "epoch 16400, loss with penalty 1.5553138256072998\n",
      "epoch 16500, loss with penalty 1.5074033737182617\n",
      "epoch 16600, loss with penalty 1.4651392698287964\n",
      "epoch 16700, loss with penalty 1.4280880689620972\n",
      "epoch 16800, loss with penalty 1.3955520391464233\n",
      "epoch 16900, loss with penalty 1.366698980331421\n",
      "epoch 17000, loss with penalty 1.3406596183776855\n",
      "epoch 17100, loss with penalty 1.316625714302063\n",
      "epoch 17200, loss with penalty 1.293899416923523\n",
      "epoch 17300, loss with penalty 1.2719292640686035\n",
      "epoch 17400, loss with penalty 1.250304102897644\n",
      "epoch 17500, loss with penalty 1.2287373542785645\n",
      "epoch 17600, loss with penalty 1.2070503234863281\n",
      "epoch 17700, loss with penalty 1.185142159461975\n",
      "epoch 17800, loss with penalty 1.1629747152328491\n",
      "epoch 17900, loss with penalty 1.140548825263977\n",
      "epoch 18000, loss with penalty 1.1178983449935913\n",
      "epoch 18100, loss with penalty 1.0950729846954346\n",
      "epoch 18200, loss with penalty 1.0721427202224731\n",
      "epoch 18300, loss with penalty 1.049184799194336\n",
      "epoch 18400, loss with penalty 1.0262857675552368\n",
      "epoch 18500, loss with penalty 1.0035393238067627\n",
      "epoch 18600, loss with penalty 0.9810435175895691\n",
      "epoch 18700, loss with penalty 0.9589014649391174\n",
      "epoch 18800, loss with penalty 0.9372193217277527\n",
      "epoch 18900, loss with penalty 0.9161022901535034\n",
      "epoch 19000, loss with penalty 0.8956571817398071\n",
      "epoch 19100, loss with penalty 0.8759866952896118\n",
      "epoch 19200, loss with penalty 0.8571863174438477\n",
      "epoch 19300, loss with penalty 0.8393465876579285\n",
      "epoch 19400, loss with penalty 0.8225448131561279\n",
      "epoch 19500, loss with penalty 0.806846559047699\n",
      "epoch 19600, loss with penalty 0.7923004627227783\n",
      "epoch 19700, loss with penalty 0.778937578201294\n",
      "epoch 19800, loss with penalty 0.7667691111564636\n",
      "epoch 19900, loss with penalty 0.7557877898216248\n",
      "Please normalize after training\n",
      "Using potential function defined as class takes 7182.897842884064\n"
     ]
    }
   ],
   "source": [
    "batch_res = run_batch_training(batch_model, p_fn, adam_optimizer)"
   ]
  },
  {
   "cell_type": "code",
   "execution_count": 43,
   "metadata": {},
   "outputs": [
    {
     "name": "stdout",
     "output_type": "stream",
     "text": [
      "Before normalization: \n",
      "tensor([[-0.2835,  0.1175,  0.2312,  0.1259, -0.1594, -0.0219, -0.2825, -0.1348,\n",
      "         -0.1882, -0.1641, -0.2525, -0.0842, -0.2444, -0.2974,  0.4144, -0.0320,\n",
      "         -0.0597,  0.0269, -0.0148,  0.2232]])\n",
      "tensor([0.1056])\n",
      "After normalization: \n",
      "tensor([[-0.2836,  0.1175,  0.2313,  0.1259, -0.1594, -0.0219, -0.2826, -0.1349,\n",
      "         -0.1882, -0.1641, -0.2525, -0.0843, -0.2445, -0.2975,  0.4145, -0.0320,\n",
      "         -0.0598,  0.0269, -0.0148,  0.2233]])\n",
      "tensor([0.1056])\n",
      "c value = tensor([1.0002], grad_fn=<MulBackward0>)\n"
     ]
    }
   ],
   "source": [
    "batch_model.normalize_model(DISCRETE_POINTS)"
   ]
  },
  {
   "cell_type": "code",
   "execution_count": 45,
   "metadata": {},
   "outputs": [
    {
     "data": {
      "text/plain": [
       "<Figure size 432x288 with 0 Axes>"
      ]
     },
     "metadata": {},
     "output_type": "display_data"
    },
    {
     "data": {
      "image/png": "[encoded data removed]",
      "text/plain": [
       "<Figure size 640x480 with 1 Axes>"
      ]
     },
     "metadata": {
      "needs_background": "light"
     },
     "output_type": "display_data"
    }
   ],
   "source": [
    "plot_figure(batch_res[0], np.log(batch_res[2]))"
   ]
  },
  {
   "cell_type": "code",
   "execution_count": 46,
   "metadata": {},
   "outputs": [
    {
     "data": {
      "text/plain": [
       "<Figure size 432x288 with 0 Axes>"
      ]
     },
     "metadata": {},
     "output_type": "display_data"
    },
    {
     "data": {
      "image/png": "[encoded data removed]",
      "text/plain": [
       "<Figure size 640x480 with 1 Axes>"
      ]
     },
     "metadata": {
      "needs_background": "light"
     },
     "output_type": "display_data"
    }
   ],
   "source": [
    "x_values = np.linspace(L_BOUND, U_BOUND, N_POINTS)\n",
    "x_vals = [torch.tensor([i], requires_grad=True, dtype=torch.float) for i in np.linspace(L_BOUND, U_BOUND, N_POINTS)]\n",
    "\n",
    "model_output = model_on_interval(batch_model, DISCRETE_POINTS)\n",
    "\n",
    "plot_figure(x_values, model_output)\n",
    "# plot_figure(x_values, model_output)"
   ]
  },
  {
   "cell_type": "markdown",
   "metadata": {},
   "source": [
    "## The Finite Difference Method ##"
   ]
  },
  {
   "cell_type": "code",
   "execution_count": 29,
   "metadata": {},
   "outputs": [],
   "source": [
    "def fd_method_2(lower_bound, upper_bound, N_points, given_fn):\n",
    "    discrete_points = np.linspace(lower_bound, upper_bound, N_points)\n",
    "    h = discrete_points[1]-discrete_points[0]\n",
    "    c = np.sqrt(1/h)\n",
    "    H = np.zeros((N_points-2,N_points-2))\n",
    "    # Question: Why H has dimension (N-2) x (N-2)?\n",
    "    V = np.zeros((N_points-2,N_points-2))\n",
    "    \n",
    "    for i in range (N_points-2):\n",
    "        for j in range (N_points-2):\n",
    "            if i == j:\n",
    "                H[i][j] = -2\n",
    "            elif abs(i-j) == 1:\n",
    "                H[i][j] = 1\n",
    "                \n",
    "    for i in range (N_points-2):\n",
    "        for j in range (N_points-2):\n",
    "            if i == j:\n",
    "                V[i][j] = given_fn.forward(discrete_points[i])\n",
    "                \n",
    "    A = -H/(h**2) + V\n",
    "    \n",
    "    eig_val, eig_vec = np.linalg.eig(A)\n",
    "    sorted_id_eig_val = np.argsort(eig_val)\n",
    "    # Get the indices that would sort eig_val\n",
    "    z = sorted_id_eig_val[0:1] # Bc. eig_val first 4 value is in ascending order, \n",
    "    # eig_val[z] will return sorted first [T] value of eigenvalues.\n",
    "    energies = eig_val[z]/eig_val[z][0]\n",
    "\n",
    "    ground_state = c * eig_vec[:,z[0]]\n",
    "\n",
    "    return (eig_val[z], ground_state)"
   ]
  },
  {
   "cell_type": "code",
   "execution_count": 30,
   "metadata": {},
   "outputs": [],
   "source": [
    "def finite_diff_method(lower_bound, upper_bound, N_points, given_fn):\n",
    "    discrete_points = np.linspace(lower_bound, upper_bound, N_points)\n",
    "    h = discrete_points[1]-discrete_points[0]\n",
    "    c = np.sqrt(1/h)\n",
    "\n",
    "    H = np.zeros((N_points,N_points))\n",
    "    # Question: Why H has dimension (N-2) x (N-2)?\n",
    "    V = np.zeros((N_points,N_points))\n",
    "\n",
    "    for i in range (N_points):\n",
    "        for j in range (N_points):\n",
    "            if i == j:\n",
    "                H[i][j] = -2\n",
    "            elif abs(i-j) == 1:\n",
    "                H[i][j] = 1\n",
    "    for i in range (N_points):\n",
    "        for j in range (N_points):\n",
    "            if i == j:\n",
    "                V[i][j] = given_fn.forward(discrete_points[i])\n",
    "\n",
    "    A = -H/(h**2) + V\n",
    "    \n",
    "    eig_val, eig_vec = np.linalg.eig(A)\n",
    "    sorted_id_eig_val = np.argsort(eig_val)\n",
    "    # Get the indices that would sort eig_val\n",
    "    z = sorted_id_eig_val[0:1] # Bc. eig_val first 4 value is in ascending order, \n",
    "    # eig_val[z] will return sorted first [T] value of eigenvalues.\n",
    "    energies = eig_val[z]/eig_val[z][0]\n",
    "\n",
    "    ground_state = c * eig_vec[:,z[0]]\n",
    "\n",
    "    return (eig_val[z], ground_state)"
   ]
  },
  {
   "cell_type": "code",
   "execution_count": 31,
   "metadata": {},
   "outputs": [],
   "source": [
    "def plot_finite_diff_sol(eig_val, ground_state, discrete_points, nn_model):\n",
    "    plt.figure(figsize=(12,10))\n",
    "    for i in range(len(eig_val)):\n",
    "        y = []\n",
    "        y = np.append(y, (-1) * ground_state)\n",
    "\n",
    "        plt.plot(discrete_points,y,lw=3, label=\"{} \".format(i))\n",
    "        plt.xlabel('x', size=14)\n",
    "        plt.ylabel('$\\psi$(x)',size=14)\n",
    "    model_output = model_on_interval(nn_model, DISCRETE_POINTS)\n",
    "    plt.plot(discrete_points, model_output)\n",
    "    plt.legend()\n",
    "    plt.title('normalized wavefunctions for a harmonic oscillator using finite difference method',size=14)\n",
    "    plt.show()\n",
    "    return"
   ]
  },
  {
   "cell_type": "code",
   "execution_count": 32,
   "metadata": {},
   "outputs": [
    {
     "name": "stdout",
     "output_type": "stream",
     "text": [
      "[1.24602451]\n",
      "[1.24602451]\n"
     ]
    }
   ],
   "source": [
    "fd_res = finite_diff_method(L_BOUND, U_BOUND, N_POINTS, p_fn)\n",
    "fd_res2 = fd_method_2(L_BOUND, U_BOUND, N_POINTS, p_fn)\n",
    "print(fd_res[0])\n",
    "print(fd_res2[0])"
   ]
  },
  {
   "cell_type": "code",
   "execution_count": 41,
   "metadata": {},
   "outputs": [
    {
     "data": {
      "text/plain": [
       "array([1.24602451])"
      ]
     },
     "execution_count": 41,
     "metadata": {},
     "output_type": "execute_result"
    }
   ],
   "source": [
    "fd_res[0]"
   ]
  },
  {
   "cell_type": "code",
   "execution_count": 50,
   "metadata": {},
   "outputs": [
    {
     "name": "stdout",
     "output_type": "stream",
     "text": [
      "The FD method eigenvalue: 1.2460245094926619\n",
      "The NN method loss value: 0.7460902333259583\n"
     ]
    }
   ],
   "source": [
    "loss_val = epsilon_Loss_penalty(p_fn, batch_model, LAMBDA_PEN, U_BOUND, DISCRETE_POINTS)[0]\n",
    "print(\"The FD method eigenvalue: \" + str(fd_res[0][0]))\n",
    "print(\"The NN method loss value: \" + str(loss_val.item()))"
   ]
  },
  {
   "cell_type": "code",
   "execution_count": 47,
   "metadata": {},
   "outputs": [
    {
     "data": {
      "image/png": "[encoded data removed]",
      "text/plain": [
       "<Figure size 864x720 with 1 Axes>"
      ]
     },
     "metadata": {
      "needs_background": "light"
     },
     "output_type": "display_data"
    }
   ],
   "source": [
    "plot_finite_diff_sol(fd_res[0], fd_res[1], DISCRETE_POINTS, batch_model)"
   ]
  },
  {
   "cell_type": "code",
   "execution_count": null,
   "metadata": {},
   "outputs": [],
   "source": []
  }
 ],
 "metadata": {
  "kernelspec": {
   "display_name": "Python 3",
   "language": "python",
   "name": "python3"
  },
  "language_info": {
   "codemirror_mode": {
    "name": "ipython",
    "version": 3
   },
   "file_extension": ".py",
   "mimetype": "text/x-python",
   "name": "python",
   "nbconvert_exporter": "python",
   "pygments_lexer": "ipython3",
   "version": "3.7.7"
  }
 },
 "nbformat": 4,
 "nbformat_minor": 4
}
