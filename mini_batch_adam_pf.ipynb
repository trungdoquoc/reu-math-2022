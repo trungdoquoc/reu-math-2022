{
 "cells": [
  {
   "cell_type": "code",
   "execution_count": 101,
   "metadata": {},
   "outputs": [],
   "source": [
    "import time\n",
    "import numpy as np\n",
    "import copy\n",
    "import torch\n",
    "import torch.nn as nn\n",
    "import math\n",
    "from torch.autograd import Variable\n",
    "import matplotlib.pyplot as plt\n",
    "\n",
    "LAMBDA_PEN = 1000\n",
    "L_BOUND = -10\n",
    "U_BOUND = 10\n",
    "N_POINTS = 500\n",
    "\n",
    "num_epochs = 10000\n",
    "\n",
    "M_POINTS = 5\n",
    "ALPHA = 2\n",
    "\n",
    "SELECTION_RATE = 0.01\n",
    "\n",
    "DISCRETE_POINTS = np.linspace(L_BOUND, U_BOUND, N_POINTS)"
   ]
  },
  {
   "cell_type": "code",
   "execution_count": 94,
   "metadata": {},
   "outputs": [],
   "source": [
    "# PLOT DATA\n",
    "def plot_figure(x_val, y_val, x_test=None, predicted=None, log_scale=False):\n",
    "    plt.clf()\n",
    "    plt.figure(figsize=(8, 6), dpi=80)\n",
    "    if log_scale==True:\n",
    "        plt.yscale('log')\n",
    "    plt.plot(x_val, y_val, '--', label='True data', alpha=0.5)\n",
    "    if predicted != None:\n",
    "        plt.plot(x_test, predicted, '--', label='Predictions', alpha=0.5)\n",
    "    plt.legend(loc='best')\n",
    "    plt.show()"
   ]
  },
  {
   "cell_type": "code",
   "execution_count": 95,
   "metadata": {},
   "outputs": [],
   "source": [
    "def epsilon_Loss(v_x, model_u, upper_bound, discrete_points):\n",
    "    \"\"\"\n",
    "    GOAL: Epsilon function evaluated at u using discretized estimation\n",
    "    minimizing Epsilon(u) = \n",
    "    \n",
    "    ARGS: \n",
    "    n_points (int): number of discretized points on the interval [-L, L]\n",
    "    e.g.: -(L)|---|---|---|---|(L) interval has n_points = 5\n",
    "\n",
    "    v_x (torch.Tensor): function instance\n",
    "    model_u (torch.Tensor): model output\n",
    "    \"\"\"\n",
    "    total = 0\n",
    "    h = (2*upper_bound)/(len(discrete_points)-1)\n",
    "    for i in discrete_points:\n",
    "        x_i = torch.tensor([i], requires_grad=True, dtype=torch.float)\n",
    "        u_xi = model_u(x_i)\n",
    "\n",
    "        u_prime_x = model_u.u_prime(x_i)\n",
    "        \n",
    "        v_xi = v_x.forward(i)\n",
    "        if v_xi < 0:\n",
    "            raise ValueError('Potential Function value is < 0')\n",
    "        t = torch.abs(torch.square(u_prime_x)) + v_xi*torch.square(u_xi)\n",
    "\n",
    "        total += t\n",
    "    return h*total\n",
    "\n",
    "def epsilon_Loss_penalty(v_x, model_u, lambda_pen,\n",
    "                         upper_bound, discrete_points):\n",
    "    \"\"\"\n",
    "    \n",
    "    \"\"\"\n",
    "    eps_sum = 0\n",
    "    pen = 0\n",
    "    \n",
    "    h = (2*upper_bound)/(len(discrete_points)-1)\n",
    "    for i in discrete_points:\n",
    "        x_i = torch.tensor([i], requires_grad=True, dtype=torch.float)\n",
    "        u_prime = model_u.u_prime(x_i)\n",
    "        \n",
    "        v_xi = v_x.forward(i)\n",
    "        if v_xi < 0:\n",
    "            raise ValueError('Potential Function value is < 0')\n",
    "        u_xi = model_u(x_i)\n",
    "        u_xi_square = torch.square(u_xi)\n",
    "\n",
    "        t = torch.abs(torch.square(u_prime)) + v_xi*u_xi_square\n",
    "        eps_sum += t\n",
    "        \n",
    "        pen+= u_xi_square\n",
    "        \n",
    "    epsilon_fn = h*eps_sum\n",
    "    \n",
    "    penalty = lambda_pen * torch.square(h*pen-1)\n",
    "#     print(\"epsilon_fn value = \" + str(epsilon_fn))\n",
    "#     print(\"penalty value = \" + str(penalty))\n",
    "    return epsilon_fn + penalty "
   ]
  },
  {
   "cell_type": "code",
   "execution_count": 50,
   "metadata": {},
   "outputs": [
    {
     "data": {
      "text/plain": [
       "tensor([5.9242], grad_fn=<AddBackward0>)"
      ]
     },
     "execution_count": 50,
     "metadata": {},
     "output_type": "execute_result"
    }
   ],
   "source": [
    "rand_points = np.random.choice(DISCRETE_POINTS, \n",
    "                                           size=int(N_POINTS*SELECTION_RATE), \n",
    "                                           replace=False)\n",
    "# print(rand_points)\n",
    "loss_pen = epsilon_Loss_penalty(p_fn, model, LAMBDA_PEN,\n",
    "                                        U_BOUND, rand_points)\n",
    "loss_pen"
   ]
  },
  {
   "cell_type": "code",
   "execution_count": 20,
   "metadata": {},
   "outputs": [
    {
     "data": {
      "text/plain": [
       "tensor([16.2335], grad_fn=<MulBackward0>)"
      ]
     },
     "execution_count": 20,
     "metadata": {},
     "output_type": "execute_result"
    }
   ],
   "source": [
    "epsilon_Loss(potential_fn_class, model, U_BOUND, DISCRETE_POINTS)"
   ]
  },
  {
   "cell_type": "code",
   "execution_count": 21,
   "metadata": {},
   "outputs": [
    {
     "data": {
      "text/plain": [
       "tensor([16.6601], grad_fn=<AddBackward0>)"
      ]
     },
     "execution_count": 21,
     "metadata": {},
     "output_type": "execute_result"
    }
   ],
   "source": [
    "epsilon_Loss_penalty(potential_fn_class, model, LAMBDA_PEN, U_BOUND, DISCRETE_POINTS)"
   ]
  },
  {
   "cell_type": "code",
   "execution_count": 51,
   "metadata": {},
   "outputs": [],
   "source": [
    "# CREATING MODEL CLASS\n",
    "class Nonlinear(nn.Module):\n",
    "    def __init__(self, n):\n",
    "        # One hidden layer with n nodes\n",
    "        super().__init__()\n",
    "        self.hidden = nn.Linear(1, n)\n",
    "        self.output = nn.Linear(n, 1)\n",
    "        \n",
    "        self.sigmoid = nn.Sigmoid()\n",
    "        self.tanh = nn.Tanh()\n",
    "\n",
    "    def forward(self, x, use_tanh_fn = False):\n",
    "        if use_tanh_fn == True:\n",
    "            x = self.hidden(x)\n",
    "            x = self.tanh(x)\n",
    "            x = self.output(x)\n",
    "        else:\n",
    "            x = self.hidden(x)\n",
    "            x = self.sigmoid(x)\n",
    "            x = self.output(x)\n",
    "        return x\n",
    "\n",
    "    def normalize_model(self, discrete_points):\n",
    "        \"\"\"\n",
    "        GOAL: Normalize the output weight layer\n",
    "        model.output *= c\n",
    "        where,\n",
    "        scalar c = 1/denom\n",
    "        \"\"\"\n",
    "        \n",
    "        h = discrete_points[1] - discrete_points[0]\n",
    "        s = 0\n",
    "        for i in discrete_points:\n",
    "            x_i = torch.tensor([i], requires_grad=True, dtype=torch.float)\n",
    "            s += self(x_i)**2\n",
    "        denom = math.sqrt(h) * torch.sqrt(s)\n",
    "        c = 1/denom\n",
    "\n",
    "        print(\"Before normalization: \")\n",
    "        print(self.output.weight.data)\n",
    "        print(self.output.bias.data)\n",
    "        \n",
    "        self.output.weight.data.copy_(c.item() * self.output.weight.data)\n",
    "        self.output.bias.data.copy_(c.item() * self.output.bias.data)\n",
    "\n",
    "        print(\"After normalization: \")\n",
    "        print(self.output.weight.data)\n",
    "        print(self.output.bias.data)\n",
    "        print(\"c value = \" + str(c))\n",
    "\n",
    "        return \n",
    "\n",
    "    def u_prime(self, x_in):\n",
    "        y = self(x_in)\n",
    "        y_prime = torch.autograd.grad(y.sum(), x_in, create_graph=True)\n",
    "        return y_prime[0]\n",
    "    \n",
    "    # TRANING MODEL\n",
    "    def train_network_with_penalty(self, \n",
    "                                   num_epochs, \n",
    "                                   v_x, \n",
    "                                   optimizer, \n",
    "                                   lambda_pen, \n",
    "                                   discrete_points,\n",
    "                                   stochastic=True):\n",
    "        # For plotting loss value over epochs:\n",
    "        x_epochs = []\n",
    "        y_loss = []\n",
    "        y_loss_pen = []\n",
    "\n",
    "        for epoch in range(num_epochs):\n",
    "            optimizer.zero_grad()\n",
    "            if stochastic == True:\n",
    "                rand_points = np.random.choice(discrete_points, \n",
    "                                               size=int(N_POINTS*SELECTION_RATE), \n",
    "                                               replace=False)\n",
    "                loss_pen = epsilon_Loss_penalty(v_x, self, lambda_pen,\n",
    "                                            U_BOUND, rand_points)\n",
    "                loss = epsilon_Loss(v_x, self,\n",
    "                                    U_BOUND, rand_points)\n",
    "            else:\n",
    "                loss_pen = epsilon_Loss_penalty(v_x, self, lambda_pen,\n",
    "                                            U_BOUND, discrete_points)\n",
    "                loss = epsilon_Loss(v_x, self,\n",
    "                                    U_BOUND, discrete_points)\n",
    "\n",
    "            y_loss_pen.append(loss_pen.detach().numpy().item())\n",
    "            y_loss.append(loss.detach().numpy().item())\n",
    "            x_epochs.append(epoch)\n",
    "        \n",
    "            if epoch % 100 == 0 or epoch < 30:\n",
    "                print('epoch {}, loss with penalty {}'.format(epoch, loss_pen.item()))\n",
    "            loss_pen.backward()\n",
    "            optimizer.step()\n",
    "\n",
    "        print('Please normalize after training')\n",
    "        return (x_epochs, y_loss_pen, y_loss)"
   ]
  },
  {
   "cell_type": "code",
   "execution_count": 82,
   "metadata": {},
   "outputs": [],
   "source": [
    "# For potential function\n",
    "ti_list = np.random.normal(loc=0, scale=1.0, size= M_POINTS)\n",
    "ci_list = [(U_BOUND/(i * math.pi))**ALPHA for i in range(1, M_POINTS+1)]\n",
    "\n",
    "\n",
    "def potential_func_iterative(x, t_list, c_list, M_points=M_POINTS, L_endpoint=U_BOUND, c_0=50):\n",
    "    f_value = 0\n",
    "    summation = 0\n",
    "    #Iterative method:\n",
    "\n",
    "    for i in range(1, M_points+1):\n",
    "        cos_val = np.cos((i * math.pi * x)/L_endpoint)\n",
    "        summation += t_list[i-1] * c_list[i-1] * cos_val\n",
    "\n",
    "    f_value += summation\n",
    "    f_value += c_0\n",
    "\n",
    "    return f_value\n",
    "\n",
    "\n",
    "def potential_func_linalg(x, M_points=20, L_endpoint=U_BOUND, alpha=3, c_0=100):    \n",
    "    # Linear Algebra method:\n",
    "    t_i = np.random.normal(0, 1, size=N_points)\n",
    "    \n",
    "    iter1 = ((math.pi/(i*L_endpoint))**alpha for i in range(1, M_points+1))\n",
    "    c_i = np.fromiter(iter1, float)\n",
    "    a = np.multiply(t_i, c_i)\n",
    "\n",
    "    iter2 = (i for i in range(1, M_points+1))\n",
    "    v = np.fromiter(iter2, float)\n",
    "    s = (L_endpoint*x/math.pi)*v\n",
    "    cos_s = np.cos(s)\n",
    "    \n",
    "    res_vector = np.multiply(a, cos_s)\n",
    "    return np.sum(res_vector) + c_0"
   ]
  },
  {
   "cell_type": "code",
   "execution_count": 87,
   "metadata": {},
   "outputs": [],
   "source": [
    "class Potential_Function:\n",
    "    def __init__(self, c_0=0,\n",
    "                 M_points=M_POINTS,\n",
    "                 L_endpoint=U_BOUND, \n",
    "                 alpha=ALPHA, \n",
    "                 rescale=1):\n",
    "        self.M_points = M_points\n",
    "        self.L_endpoint = L_endpoint\n",
    "        self.alpha = alpha\n",
    "        self.c_0 = c_0\n",
    "        self.rescale = 1\n",
    "        \n",
    "        self.ti_list = np.random.normal(loc=0, scale=1.0, size= self.M_points)\n",
    "        self.ci_list = [(self.L_endpoint/(i * math.pi))**self.alpha for i in range(1, self.M_points+1)]\n",
    "        \n",
    "    def forward(self, x):\n",
    "        f_value = 0\n",
    "        summation = 0\n",
    "        #Iterative method:\n",
    "\n",
    "        for i in range(1, self.M_points+1):\n",
    "            cos_val = np.cos((i * math.pi * x)/self.L_endpoint)\n",
    "            summation += self.ti_list[i-1] * self.ci_list[i-1] * cos_val\n",
    "\n",
    "        f_value += summation\n",
    "        f_value += self.c_0\n",
    "        return self.rescale * f_value\n",
    "    \n",
    "    def set_c0_value(self, val):\n",
    "        self.c_0 = val\n",
    "        return\n",
    "    \n",
    "    def set_rescale_factor(self, val):\n",
    "        self.rescale = val\n",
    "        return \n",
    "    \n",
    "    def update_potential_fn(self, discrete_points):\n",
    "        # Check lowest value to set appropriate c_0 value:\n",
    "        y_values = [self.forward(i) for i in discrete_points]\n",
    "        min_val = min(y_values)\n",
    "        print(\"Original min val = \" + str(min_val))\n",
    "        # plt.plot(DISCRETE_POINTS, y_values)\n",
    "\n",
    "        # Set c_0 value s.t. every value in y_values is > 0: \n",
    "        if min_val < 0:\n",
    "            c_0 = math.ceil(abs(min_val))\n",
    "            self.set_c0_value(c_0)\n",
    "            new_y = [self.forward(i) for i in discrete_points]\n",
    "            print(\"Min val with c_0 updated = \" + str(min(new_y)))\n",
    "        # plt.plot(DISCRETE_POINTS, new_y)\n",
    "\n",
    "        # Rescale potential function s.t. every value lies between 0 and 5:\n",
    "        max_v = max(new_y)\n",
    "#         min_v = min(new_y)\n",
    "#         print(max_v, min_v)\n",
    "#         max_min = max_v-min_v\n",
    "\n",
    "#         rescaled_y = [(i-min_v)/(max_min) for i in new_y]\n",
    "#         plt.plot(DISCRETE_POINTS, rescaled_y)\n",
    "\n",
    "#         c = 5/max_v\n",
    "#         self.set_rescale_factor(c)\n",
    "        return"
   ]
  },
  {
   "cell_type": "code",
   "execution_count": 35,
   "metadata": {},
   "outputs": [],
   "source": [
    "def model_on_interval(nn_model, discrete_points):\n",
    "    x_vals = [torch.tensor([i], requires_grad=True, dtype=torch.float) for i in discrete_points]\n",
    "\n",
    "    model_output = []\n",
    "    for i in x_vals:\n",
    "        model_output.append(nn_model(i).detach().numpy().item())\n",
    "    return model_output"
   ]
  },
  {
   "cell_type": "code",
   "execution_count": null,
   "metadata": {
    "jupyter": {
     "source_hidden": true
    }
   },
   "outputs": [],
   "source": [
    "t_f = Potential_Function(c_0=50)\n",
    "start = time.time()\n",
    "r1 = potential_func_iterative(10, t_list=ti_list, c_list=ci_list)\n",
    "end = time.time()\n",
    "time1 = end-start\n",
    "# print(r1)\n",
    "print(time1)\n",
    "\n",
    "start = time.time()\n",
    "r2 = t_f.forward(10)\n",
    "end = time.time()\n",
    "time2 = end-start\n",
    "# print(r2)\n",
    "print(time2)"
   ]
  },
  {
   "cell_type": "code",
   "execution_count": null,
   "metadata": {
    "jupyter": {
     "source_hidden": true
    }
   },
   "outputs": [],
   "source": [
    "min_val = 0\n",
    "for i in range(1000):\n",
    "    t_f = Potential_Function(c_0=30)\n",
    "    y_p = [t_f.forward(i) for i in DISCRETE_POINTS]\n",
    "    if min(y_p) <= min_val:\n",
    "        min_val=min(y_p)\n",
    "min_val"
   ]
  },
  {
   "cell_type": "code",
   "execution_count": 168,
   "metadata": {
    "jupyter": {
     "source_hidden": true
    }
   },
   "outputs": [],
   "source": [
    "# start = time.time()\n",
    "# res1 = x_square(10)\n",
    "# end = time.time()\n",
    "# time1 = end-start\n",
    "# print(time1)\n",
    "\n",
    "# start = time.time()\n",
    "# res2 = potential_func_iterative(10)\n",
    "# end = time.time()\n",
    "# time2 = end-start\n",
    "# print(time2)"
   ]
  },
  {
   "cell_type": "code",
   "execution_count": 102,
   "metadata": {},
   "outputs": [],
   "source": [
    "learningRate = 0.001\n",
    "\n",
    "#INIT MODEL\n",
    "model = Nonlinear(20)\n",
    "model_2 = Nonlinear(20)\n",
    "if torch.cuda.is_available():\n",
    "    model.cuda()\n",
    "    model_2.cuda()\n",
    "\n",
    "# INIT OPTIMIZER CLASS\n",
    "# SGD:\n",
    "sgd_optimizer = torch.optim.SGD(model.parameters(), \n",
    "                                lr=learningRate, \n",
    "                                momentum=0.9)\n",
    "\n",
    "# Adam:\n",
    "adam_optimizer = torch.optim.Adam(model.parameters(), \n",
    "                                    lr=learningRate, \n",
    "                                    betas=(0.9, 0.999), \n",
    "                                    eps=1e-08, \n",
    "                                    weight_decay=0, \n",
    "                                    amsgrad=False)\n",
    "\n",
    "# adam_optimizer_2 = torch.optim.Adam(model_2.parameters(), \n",
    "#                                     lr=learningRate, \n",
    "#                                     betas=(0.9, 0.999), \n",
    "#                                     eps=1e-08, \n",
    "#                                     weight_decay=0, \n",
    "#                                     amsgrad=False)"
   ]
  },
  {
   "cell_type": "code",
   "execution_count": 103,
   "metadata": {},
   "outputs": [
    {
     "name": "stdout",
     "output_type": "stream",
     "text": [
      "Original min val = -2.2505509937206774\n",
      "Min val with c_0 updated = 0.7494490062793226\n"
     ]
    }
   ],
   "source": [
    "# Init. potential function instance\n",
    "p_fn = Potential_Function()\n",
    "p_fn.update_potential_fn(DISCRETE_POINTS)"
   ]
  },
  {
   "cell_type": "code",
   "execution_count": 104,
   "metadata": {},
   "outputs": [
    {
     "name": "stdout",
     "output_type": "stream",
     "text": [
      "0.7494490062793226\n"
     ]
    },
    {
     "data": {
      "text/plain": [
       "[<matplotlib.lines.Line2D at 0x7fe277014490>]"
      ]
     },
     "execution_count": 104,
     "metadata": {},
     "output_type": "execute_result"
    },
    {
     "data": {
      "image/png": "[encoded data removed]",
      "text/plain": [
       "<Figure size 432x288 with 1 Axes>"
      ]
     },
     "metadata": {
      "needs_background": "light"
     },
     "output_type": "display_data"
    }
   ],
   "source": [
    "y_p = [p_fn.forward(i) for i in DISCRETE_POINTS]\n",
    "print(min(y_p))\n",
    "plt.plot(DISCRETE_POINTS, y_p)"
   ]
  },
  {
   "cell_type": "code",
   "execution_count": null,
   "metadata": {
    "jupyter": {
     "source_hidden": true
    }
   },
   "outputs": [],
   "source": [
    "# Check lowest value to set appropriate c_0 value:\n",
    "y_values = [p_fn.forward(i) for i in DISCRETE_POINTS]\n",
    "min_val = min(y_values)\n",
    "print(\"Original min val = \" + str(min_val))\n",
    "# plt.plot(DISCRETE_POINTS, y_values)\n",
    "\n",
    "# Set c_0 value s.t. every value in y_values is > 0: \n",
    "c_0 = math.ceil(abs(min_val))\n",
    "p_fn.set_c0_value(c_0)\n",
    "new_y = [p_fn.forward(i) for i in DISCRETE_POINTS]\n",
    "\n",
    "# plt.plot(DISCRETE_POINTS, new_y)\n",
    "\n",
    "# Rescale potential function s.t. every value lies between 0 and 5:\n",
    "max_v = max(new_y)\n",
    "min_v = min(new_y)\n",
    "print(max_v, min_v)\n",
    "max_min = max_v-min_v\n",
    "\n",
    "rescaled_y = [(i-min_v)/(max_min) for i in new_y]\n",
    "plt.plot(DISCRETE_POINTS, rescaled_y)"
   ]
  },
  {
   "cell_type": "code",
   "execution_count": 105,
   "metadata": {},
   "outputs": [
    {
     "name": "stdout",
     "output_type": "stream",
     "text": [
      "epoch 0, loss with penalty 2184.22998046875\n",
      "epoch 1, loss with penalty 16265.5380859375\n",
      "epoch 2, loss with penalty 60425.02734375\n",
      "epoch 3, loss with penalty 35774.6015625\n",
      "epoch 4, loss with penalty 90.88349151611328\n",
      "epoch 5, loss with penalty 5501.689453125\n",
      "epoch 6, loss with penalty 15864.4873046875\n",
      "epoch 7, loss with penalty 18491.759765625\n",
      "epoch 8, loss with penalty 1415.222412109375\n",
      "epoch 9, loss with penalty 9434.4990234375\n",
      "epoch 10, loss with penalty 6306.21142578125\n",
      "epoch 11, loss with penalty 8157.919921875\n",
      "epoch 12, loss with penalty 17847.2109375\n",
      "epoch 13, loss with penalty 395.0360107421875\n",
      "epoch 14, loss with penalty 14890.9990234375\n",
      "epoch 15, loss with penalty 14132.365234375\n",
      "epoch 16, loss with penalty 6252.49658203125\n",
      "epoch 17, loss with penalty 338.6435852050781\n",
      "epoch 18, loss with penalty 12437.8359375\n",
      "epoch 19, loss with penalty 616.6287231445312\n",
      "epoch 20, loss with penalty 12082.1455078125\n",
      "epoch 21, loss with penalty 4641.01953125\n",
      "epoch 22, loss with penalty 3268.021484375\n",
      "epoch 23, loss with penalty 203.4702911376953\n",
      "epoch 24, loss with penalty 369.59698486328125\n",
      "epoch 25, loss with penalty 2783.466796875\n",
      "epoch 26, loss with penalty 7204.7783203125\n",
      "epoch 27, loss with penalty 2385.46923828125\n",
      "epoch 28, loss with penalty 5273.1337890625\n",
      "epoch 29, loss with penalty 2306.203369140625\n",
      "epoch 100, loss with penalty 11.34390640258789\n",
      "epoch 200, loss with penalty 59.9752197265625\n",
      "epoch 300, loss with penalty 1.851580023765564\n",
      "epoch 400, loss with penalty 14.57392406463623\n",
      "epoch 500, loss with penalty 55.430389404296875\n",
      "epoch 600, loss with penalty 16.355876922607422\n",
      "epoch 700, loss with penalty 35.8093376159668\n",
      "epoch 800, loss with penalty 2.087536096572876\n",
      "epoch 900, loss with penalty 5.965041637420654\n",
      "epoch 1000, loss with penalty 18.640663146972656\n",
      "epoch 1100, loss with penalty 89.75553131103516\n",
      "epoch 1200, loss with penalty 45.61914825439453\n",
      "epoch 1300, loss with penalty 44.68748474121094\n",
      "epoch 1400, loss with penalty 5.196393013000488\n",
      "epoch 1500, loss with penalty 19.310941696166992\n",
      "epoch 1600, loss with penalty 28.643817901611328\n",
      "epoch 1700, loss with penalty 3.7810745239257812\n",
      "epoch 1800, loss with penalty 6.581026077270508\n",
      "epoch 1900, loss with penalty 38.28858184814453\n",
      "epoch 2000, loss with penalty 101.30787658691406\n",
      "epoch 2100, loss with penalty 52.75121307373047\n",
      "epoch 2200, loss with penalty 2.0444495677948\n",
      "epoch 2300, loss with penalty 205.9656982421875\n",
      "epoch 2400, loss with penalty 8.746986389160156\n",
      "epoch 2500, loss with penalty 1.8349990844726562\n",
      "epoch 2600, loss with penalty 18.023265838623047\n",
      "epoch 2700, loss with penalty 6.7245564460754395\n",
      "epoch 2800, loss with penalty 8.572507858276367\n",
      "epoch 2900, loss with penalty 6.15525484085083\n",
      "epoch 3000, loss with penalty 52.07145309448242\n",
      "epoch 3100, loss with penalty 88.41802978515625\n",
      "epoch 3200, loss with penalty 4.596464157104492\n",
      "epoch 3300, loss with penalty 2.043832302093506\n",
      "epoch 3400, loss with penalty 20.984113693237305\n",
      "epoch 3500, loss with penalty 3.452310562133789\n",
      "epoch 3600, loss with penalty 49.87500762939453\n",
      "epoch 3700, loss with penalty 13.161260604858398\n",
      "epoch 3800, loss with penalty 4.336301326751709\n",
      "epoch 3900, loss with penalty 1.8789176940917969\n",
      "epoch 4000, loss with penalty 24.824588775634766\n",
      "epoch 4100, loss with penalty 3.1870150566101074\n",
      "epoch 4200, loss with penalty 1.407192587852478\n",
      "epoch 4300, loss with penalty 4.93021297454834\n",
      "epoch 4400, loss with penalty 11.76876449584961\n",
      "epoch 4500, loss with penalty 5.140882968902588\n",
      "epoch 4600, loss with penalty 10.850929260253906\n",
      "epoch 4700, loss with penalty 59.16281509399414\n",
      "epoch 4800, loss with penalty 78.37095642089844\n",
      "epoch 4900, loss with penalty 48.522911071777344\n",
      "epoch 5000, loss with penalty 51.18962097167969\n",
      "epoch 5100, loss with penalty 7.969783782958984\n",
      "epoch 5200, loss with penalty 2.047340154647827\n",
      "epoch 5300, loss with penalty 2.4306321144104004\n",
      "epoch 5400, loss with penalty 7.498271942138672\n",
      "epoch 5500, loss with penalty 27.177614212036133\n",
      "epoch 5600, loss with penalty 20.754802703857422\n",
      "epoch 5700, loss with penalty 53.376800537109375\n",
      "epoch 5800, loss with penalty 1.7920511960983276\n",
      "epoch 5900, loss with penalty 24.882564544677734\n",
      "epoch 6000, loss with penalty 28.01580810546875\n",
      "epoch 6100, loss with penalty 4.505041122436523\n",
      "epoch 6200, loss with penalty 67.37030029296875\n",
      "epoch 6300, loss with penalty 89.23686218261719\n",
      "epoch 6400, loss with penalty 81.74191284179688\n",
      "epoch 6500, loss with penalty 24.697269439697266\n",
      "epoch 6600, loss with penalty 5.012537002563477\n",
      "epoch 6700, loss with penalty 18.436800003051758\n",
      "epoch 6800, loss with penalty 11.021093368530273\n",
      "epoch 6900, loss with penalty 21.261930465698242\n",
      "epoch 7000, loss with penalty 19.09210968017578\n",
      "epoch 7100, loss with penalty 3.378171443939209\n",
      "epoch 7200, loss with penalty 3.618077278137207\n",
      "epoch 7300, loss with penalty 346.1482849121094\n",
      "epoch 7400, loss with penalty 8.64007568359375\n",
      "epoch 7500, loss with penalty 16.00728988647461\n",
      "epoch 7600, loss with penalty 7.548197269439697\n",
      "epoch 7700, loss with penalty 11.839168548583984\n",
      "epoch 7800, loss with penalty 15.977499008178711\n",
      "epoch 7900, loss with penalty 9.51916790008545\n",
      "epoch 8000, loss with penalty 108.96778869628906\n",
      "epoch 8100, loss with penalty 10.066149711608887\n",
      "epoch 8200, loss with penalty 31.12824821472168\n",
      "epoch 8300, loss with penalty 9.080538749694824\n",
      "epoch 8400, loss with penalty 28.81255340576172\n",
      "epoch 8500, loss with penalty 20.41928482055664\n",
      "epoch 8600, loss with penalty 6.170673370361328\n",
      "epoch 8700, loss with penalty 2.8273725509643555\n",
      "epoch 8800, loss with penalty 108.34565734863281\n",
      "epoch 8900, loss with penalty 20.78614044189453\n",
      "epoch 9000, loss with penalty 28.999860763549805\n",
      "epoch 9100, loss with penalty 6.139218330383301\n",
      "epoch 9200, loss with penalty 22.39520263671875\n",
      "epoch 9300, loss with penalty 12.543639183044434\n",
      "epoch 9400, loss with penalty 30.648719787597656\n",
      "epoch 9500, loss with penalty 7.578580379486084\n",
      "epoch 9600, loss with penalty 6.132962226867676\n",
      "epoch 9700, loss with penalty 112.025146484375\n",
      "epoch 9800, loss with penalty 4.614714622497559\n",
      "epoch 9900, loss with penalty 1.8389352560043335\n",
      "Please normalize after training\n",
      "Using potential function defined as class takes 59.792956829071045\n"
     ]
    }
   ],
   "source": [
    "### TRAIN MODEL HERE ###\n",
    "start = time.time()\n",
    "model_res = model.train_network_with_penalty(num_epochs, \n",
    "                                             p_fn, \n",
    "                                             adam_optimizer, \n",
    "                                             LAMBDA_PEN, \n",
    "                                             DISCRETE_POINTS, \n",
    "                                             stochastic=True)\n",
    "end = time.time()\n",
    "time1 = end-start\n",
    "print(\"Using potential function defined as class takes \" + str(time1))"
   ]
  },
  {
   "cell_type": "code",
   "execution_count": 100,
   "metadata": {},
   "outputs": [
    {
     "name": "stdout",
     "output_type": "stream",
     "text": [
      "Before normalization: \n",
      "tensor([[ 0.1132,  0.0441,  0.0100, -0.0986, -0.2150,  0.0661, -0.0105, -0.1129,\n",
      "          0.2106,  0.1408, -0.0194, -0.0342,  0.1721, -0.0475, -0.0913,  0.1220,\n",
      "         -0.1335, -0.0022, -0.1952,  0.0809]])\n",
      "tensor([-0.0364])\n",
      "After normalization: \n",
      "tensor([[ 0.1311,  0.0511,  0.0116, -0.1142, -0.2490,  0.0765, -0.0122, -0.1308,\n",
      "          0.2440,  0.1631, -0.0224, -0.0396,  0.1994, -0.0550, -0.1058,  0.1413,\n",
      "         -0.1546, -0.0025, -0.2261,  0.0937]])\n",
      "tensor([-0.0422])\n",
      "c value = tensor([1.1583], grad_fn=<MulBackward0>)\n"
     ]
    }
   ],
   "source": [
    "model.normalize_model(DISCRETE_POINTS)"
   ]
  },
  {
   "cell_type": "code",
   "execution_count": 106,
   "metadata": {},
   "outputs": [
    {
     "data": {
      "text/plain": [
       "<Figure size 432x288 with 0 Axes>"
      ]
     },
     "metadata": {},
     "output_type": "display_data"
    },
    {
     "data": {
      "image/png": "[encoded data removed]",
      "text/plain": [
       "<Figure size 640x480 with 1 Axes>"
      ]
     },
     "metadata": {
      "needs_background": "light"
     },
     "output_type": "display_data"
    }
   ],
   "source": [
    "plot_figure(model_res[0], (model_res[2]))"
   ]
  },
  {
   "cell_type": "code",
   "execution_count": 107,
   "metadata": {},
   "outputs": [
    {
     "data": {
      "text/plain": [
       "<Figure size 432x288 with 0 Axes>"
      ]
     },
     "metadata": {},
     "output_type": "display_data"
    },
    {
     "data": {
      "image/png": "[encoded data removed]",
      "text/plain": [
       "<Figure size 640x480 with 1 Axes>"
      ]
     },
     "metadata": {
      "needs_background": "light"
     },
     "output_type": "display_data"
    }
   ],
   "source": [
    "x_values = np.linspace(L_BOUND, U_BOUND, N_POINTS)\n",
    "x_vals = [torch.tensor([i], requires_grad=True, dtype=torch.float) for i in np.linspace(L_BOUND, U_BOUND, N_POINTS)]\n",
    "\n",
    "model_output = model_on_interval(model, DISCRETE_POINTS)\n",
    "\n",
    "plot_figure(x_values, model_output)\n",
    "# plot_figure(x_values, model_output)"
   ]
  },
  {
   "cell_type": "markdown",
   "metadata": {},
   "source": [
    "## The Finite Difference Method ##"
   ]
  },
  {
   "cell_type": "code",
   "execution_count": 108,
   "metadata": {},
   "outputs": [],
   "source": [
    "def fd_method_2(lower_bound, upper_bound, N_points, given_fn):\n",
    "    discrete_points = np.linspace(lower_bound, upper_bound, N_points)\n",
    "    h = discrete_points[1]-discrete_points[0]\n",
    "    c = np.sqrt(1/h)\n",
    "    H = np.zeros((N_points-2,N_points-2))\n",
    "    # Question: Why H has dimension (N-2) x (N-2)?\n",
    "    V = np.zeros((N_points-2,N_points-2))\n",
    "    \n",
    "    for i in range (N_points-2):\n",
    "        for j in range (N_points-2):\n",
    "            if i == j:\n",
    "                H[i][j] = -2\n",
    "            elif abs(i-j) == 1:\n",
    "                H[i][j] = 1\n",
    "                \n",
    "    for i in range (N_points-2):\n",
    "        for j in range (N_points-2):\n",
    "            if i == j:\n",
    "                V[i][j] = given_fn.forward(discrete_points[i])\n",
    "                \n",
    "    A = -H/(h**2) + V\n",
    "    \n",
    "    eig_val, eig_vec = np.linalg.eig(A)\n",
    "    sorted_id_eig_val = np.argsort(eig_val)\n",
    "    # Get the indices that would sort eig_val\n",
    "    z = sorted_id_eig_val[0:1] # Bc. eig_val first 4 value is in ascending order, \n",
    "    # eig_val[z] will return sorted first [T] value of eigenvalues.\n",
    "    energies = eig_val[z]/eig_val[z][0]\n",
    "\n",
    "    ground_state = c * eig_vec[:,z[0]]\n",
    "\n",
    "    return (eig_val[z], ground_state)"
   ]
  },
  {
   "cell_type": "code",
   "execution_count": 109,
   "metadata": {},
   "outputs": [],
   "source": [
    "def finite_diff_method(lower_bound, upper_bound, N_points, given_fn):\n",
    "    discrete_points = np.linspace(lower_bound, upper_bound, N_points)\n",
    "    h = discrete_points[1]-discrete_points[0]\n",
    "    c = np.sqrt(1/h)\n",
    "\n",
    "    H = np.zeros((N_points,N_points))\n",
    "    # Question: Why H has dimension (N-2) x (N-2)?\n",
    "    V = np.zeros((N_points,N_points))\n",
    "\n",
    "    for i in range (N_points):\n",
    "        for j in range (N_points):\n",
    "            if i == j:\n",
    "                H[i][j] = -2\n",
    "            elif abs(i-j) == 1:\n",
    "                H[i][j] = 1\n",
    "    for i in range (N_points):\n",
    "        for j in range (N_points):\n",
    "            if i == j:\n",
    "                V[i][j] = given_fn.forward(discrete_points[i])\n",
    "\n",
    "    A = -H/(h**2) + V\n",
    "    \n",
    "    eig_val, eig_vec = np.linalg.eig(A)\n",
    "    sorted_id_eig_val = np.argsort(eig_val)\n",
    "    # Get the indices that would sort eig_val\n",
    "    z = sorted_id_eig_val[0:1] # Bc. eig_val first 4 value is in ascending order, \n",
    "    # eig_val[z] will return sorted first [T] value of eigenvalues.\n",
    "    energies = eig_val[z]/eig_val[z][0]\n",
    "\n",
    "    ground_state = c * eig_vec[:,z[0]]\n",
    "\n",
    "    return (eig_val[z], ground_state)"
   ]
  },
  {
   "cell_type": "code",
   "execution_count": 110,
   "metadata": {},
   "outputs": [],
   "source": [
    "def plot_finite_diff_sol(eig_val, ground_state, discrete_points, nn_model):\n",
    "    plt.figure(figsize=(12,10))\n",
    "    for i in range(len(eig_val)):\n",
    "        y = []\n",
    "        y = np.append(y, (-1) * ground_state)\n",
    "\n",
    "        plt.plot(discrete_points,y,lw=3, label=\"{} \".format(i))\n",
    "        plt.xlabel('x', size=14)\n",
    "        plt.ylabel('$\\psi$(x)',size=14)\n",
    "    model_output = model_on_interval(nn_model, DISCRETE_POINTS)\n",
    "    plt.plot(discrete_points, model_output)\n",
    "    plt.legend()\n",
    "    plt.title('normalized wavefunctions for a harmonic oscillator using finite difference method',size=14)\n",
    "    plt.show()\n",
    "    return"
   ]
  },
  {
   "cell_type": "code",
   "execution_count": 111,
   "metadata": {},
   "outputs": [
    {
     "name": "stdout",
     "output_type": "stream",
     "text": [
      "[1.30230216]\n",
      "[1.30230216]\n"
     ]
    }
   ],
   "source": [
    "fd_res = finite_diff_method(L_BOUND, U_BOUND, N_POINTS, p_fn)\n",
    "fd_res2 = fd_method_2(L_BOUND, U_BOUND, N_POINTS, p_fn)\n",
    "print(fd_res[0])\n",
    "print(fd_res2[0])"
   ]
  },
  {
   "cell_type": "code",
   "execution_count": 112,
   "metadata": {},
   "outputs": [
    {
     "name": "stdout",
     "output_type": "stream",
     "text": [
      "The FD method eigenvalue: 1.302302162576039\n",
      "The NN method loss value: 2.064028024673462\n"
     ]
    }
   ],
   "source": [
    "loss_val = epsilon_Loss(p_fn, model, U_BOUND, DISCRETE_POINTS)\n",
    "print(\"The FD method eigenvalue: \" + str(fd_res[0][0]))\n",
    "print(\"The NN method loss value: \" + str(loss_val.item()))"
   ]
  },
  {
   "cell_type": "code",
   "execution_count": 113,
   "metadata": {},
   "outputs": [
    {
     "data": {
      "image/png": "[encoded data removed]",
      "text/plain": [
       "<Figure size 864x720 with 1 Axes>"
      ]
     },
     "metadata": {
      "needs_background": "light"
     },
     "output_type": "display_data"
    }
   ],
   "source": [
    "plot_finite_diff_sol(fd_res[0], fd_res[1], DISCRETE_POINTS, model)"
   ]
  },
  {
   "cell_type": "code",
   "execution_count": null,
   "metadata": {},
   "outputs": [],
   "source": []
  }
 ],
 "metadata": {
  "kernelspec": {
   "display_name": "Python 3",
   "language": "python",
   "name": "python3"
  },
  "language_info": {
   "codemirror_mode": {
    "name": "ipython",
    "version": 3
   },
   "file_extension": ".py",
   "mimetype": "text/x-python",
   "name": "python",
   "nbconvert_exporter": "python",
   "pygments_lexer": "ipython3",
   "version": "3.7.7"
  }
 },
 "nbformat": 4,
 "nbformat_minor": 4
}
