{
  "cells": [
    {
      "cell_type": "code",
      "execution_count": 80,
      "metadata": {
        "id": "EhLB7FUFu8Fe"
      },
      "outputs": [],
      "source": [
        "import datetime\n",
        "from pytz import timezone\n",
        "\n",
        "import time\n",
        "import numpy as np\n",
        "import copy\n",
        "import torch\n",
        "import torch.nn as nn\n",
        "import math\n",
        "from torch.autograd import Variable\n",
        "import matplotlib.pyplot as plt\n",
        "\n",
        "LAMBDA_PEN = 1000\n",
        "L_BOUND = -10\n",
        "U_BOUND = 10\n",
        "N_POINTS = 512\n",
        "\n",
        "NUM_EPOCHS = 5000\n",
        "\n",
        "M_POINTS = 5\n",
        "ALPHA = 2\n",
        "\n",
        "SELECTION_RATE = 0.01\n",
        "\n",
        "DISCRETE_POINTS = np.linspace(L_BOUND, U_BOUND, N_POINTS)"
      ]
    },
    {
      "cell_type": "code",
      "execution_count": null,
      "metadata": {
        "id": "5ylzBq0eu8Fg",
        "outputId": "ad12d20d-fefe-4991-90fe-0169daab9103"
      },
      "outputs": [
        {
          "data": {
            "text/plain": [
              "0.039138943248532954"
            ]
          },
          "execution_count": 4,
          "metadata": {},
          "output_type": "execute_result"
        }
      ],
      "source": [
        "DISCRETE_POINTS[1]-DISCRETE_POINTS[0]"
      ]
    },
    {
      "cell_type": "code",
      "execution_count": null,
      "metadata": {
        "id": "9AES3vIru8Fg",
        "outputId": "56a2a702-a362-4586-c29d-0b38c55552f2"
      },
      "outputs": [
        {
          "data": {
            "text/plain": [
              "0.03913894324853229"
            ]
          },
          "execution_count": 5,
          "metadata": {},
          "output_type": "execute_result"
        }
      ],
      "source": [
        "2*U_BOUND/(N_POINTS-1)"
      ]
    },
    {
      "cell_type": "code",
      "execution_count": 2,
      "metadata": {
        "id": "d0IbY8C5u8Fh"
      },
      "outputs": [],
      "source": [
        "# PLOT DATA\n",
        "def plot_figure(x_val, y_val, x_test=None, predicted=None, log_scale=False):\n",
        "    plt.clf()\n",
        "    plt.figure(figsize=(8, 6), dpi=80)\n",
        "    if log_scale==True:\n",
        "        plt.yscale('log')\n",
        "    plt.plot(x_val, y_val, '--', label='True data', alpha=0.5)\n",
        "    if predicted != None:\n",
        "        plt.plot(x_test, predicted, '--', label='Predictions', alpha=0.5)\n",
        "    plt.legend(loc='best')\n",
        "    plt.show()"
      ]
    },
    {
      "cell_type": "code",
      "execution_count": 3,
      "metadata": {
        "id": "zaCXiJSvu8Fh"
      },
      "outputs": [],
      "source": [
        "def epsilon_Loss(v_x, model_u, upper_bound, discrete_points):\n",
        "    \"\"\"\n",
        "    GOAL: Epsilon function evaluated at u using discretized estimation\n",
        "    minimizing Epsilon(u) = \n",
        "    \n",
        "    ARGS: \n",
        "    n_points (int): number of discretized points on the interval [-L, L]\n",
        "    e.g.: -(L)|---|---|---|---|(L) interval has n_points = 5\n",
        "\n",
        "    v_x (torch.Tensor): function instance\n",
        "    model_u (torch.Tensor): model output\n",
        "    \"\"\"\n",
        "    total = 0\n",
        "    h = (2*upper_bound)/(len(discrete_points)-1)\n",
        "    for i in discrete_points:\n",
        "        x_i = torch.tensor([i], requires_grad=True, dtype=torch.float)\n",
        "        u_xi = model_u(x_i)\n",
        "\n",
        "        u_prime_x = model_u.u_prime(x_i)\n",
        "        \n",
        "        v_xi = v_x.forward(i)\n",
        "        if v_xi < 0:\n",
        "            raise ValueError('Potential Function value is < 0')\n",
        "        t = torch.abs(torch.square(u_prime_x)) + v_xi*torch.square(u_xi)\n",
        "\n",
        "        total += t\n",
        "    return h*total\n",
        "\n",
        "def epsilon_Loss_penalty(v_x, model_u, lambda_pen,\n",
        "                         upper_bound, discrete_points):\n",
        "    \"\"\"\n",
        "    \n",
        "    \"\"\"\n",
        "    eps_sum = 0\n",
        "    pen = 0\n",
        "\n",
        "    h = (2*upper_bound)/(len(discrete_points)-1)\n",
        "#     print(\"h = \"+ str(h))\n",
        "    for i in discrete_points:\n",
        "        x_i = torch.tensor([i], requires_grad=True, dtype=torch.float)\n",
        "\n",
        "        u_prime = model_u.u_prime(x_i)\n",
        "        \n",
        "        v_xi = v_x.forward(i)\n",
        "        if v_xi < 0:\n",
        "            raise ValueError('Potential Function value is < 0')\n",
        "        u_xi = model_u(x_i)\n",
        "        u_xi_square = torch.square(u_xi)\n",
        "\n",
        "        t = torch.abs(torch.square(u_prime)) + v_xi*u_xi_square\n",
        "        eps_sum += t\n",
        "        \n",
        "        pen+= u_xi_square\n",
        "        \n",
        "    epsilon_fn = h*eps_sum\n",
        "    \n",
        "    penalty = lambda_pen * torch.square(h*pen-1)\n",
        "#     print(\"epsilon_fn value = \" + str(epsilon_fn))\n",
        "#     print(\"penalty value = \" + str(penalty))\n",
        "    return (epsilon_fn, epsilon_fn + penalty)"
      ]
    },
    {
      "cell_type": "code",
      "execution_count": null,
      "metadata": {
        "id": "vsTdobNsu8Fi"
      },
      "outputs": [],
      "source": [
        ""
      ]
    },
    {
      "cell_type": "code",
      "execution_count": null,
      "metadata": {
        "id": "5AfSbXkbu8Fi"
      },
      "outputs": [],
      "source": [
        "a = epsilon_Loss(p_fn, model_32, U_BOUND, DISCRETE_POINTS[0:90])\n",
        "print(a)\n",
        "a2, b2, c2 = epsilon_Loss_penalty(p_fn, model_32, LAMBDA_PEN, U_BOUND, DISCRETE_POINTS[0:90])\n",
        "print(a2)"
      ]
    },
    {
      "cell_type": "code",
      "execution_count": null,
      "metadata": {
        "id": "F9NJGxwIu8Fj"
      },
      "outputs": [],
      "source": [
        "DISCRETE_POINTS[0:90][0]"
      ]
    },
    {
      "cell_type": "code",
      "execution_count": null,
      "metadata": {
        "id": "qDY5EpAgu8Fj",
        "outputId": "b9208d8f-17aa-46a7-8e39-89fce1f6873f"
      },
      "outputs": [
        {
          "name": "stdout",
          "output_type": "stream",
          "text": [
            "h = 0.6451612903225806\n",
            "Time 0.018925189971923828\n"
          ]
        }
      ],
      "source": [
        "# ITERATIVE\n",
        "tensor_points = []\n",
        "for i in DISCRETE_POINTS:\n",
        "    x_i = torch.tensor([i], requires_grad=True, dtype=torch.float)\n",
        "    tensor_points.append(x_i)\n",
        "start1 = time.time()\n",
        "epsilon_Loss_penalty(p_fn, model_32, LAMBDA_PEN,\n",
        "                     U_BOUND, np.random.choice(DISCRETE_POINTS, size=32))\n",
        "\n",
        "# for i in tensor_points:\n",
        "#     u_prime = model_64.u_prime(x_i)\n",
        "\n",
        "end1 = time.time()\n",
        "time1 = end1-start1\n",
        "print(\"Time \" + str(time1))"
      ]
    },
    {
      "cell_type": "code",
      "execution_count": null,
      "metadata": {
        "jupyter": {
          "source_hidden": true
        },
        "id": "uHos_PpMu8Fk"
      },
      "outputs": [],
      "source": [
        "e_fn.const"
      ]
    },
    {
      "cell_type": "code",
      "execution_count": 24,
      "metadata": {
        "id": "EFUWyEKvu8Fk"
      },
      "outputs": [],
      "source": [
        "# CREATING MODEL CLASS\n",
        "class Nonlinear(nn.Module):\n",
        "    def __init__(self, n):\n",
        "        # One hidden layer with n nodes\n",
        "        super(Nonlinear, self).__init__()\n",
        "        self.hidden = nn.Linear(1, n)\n",
        "        self.output = nn.Linear(n, 1)\n",
        "        \n",
        "        self.sigmoid = nn.Sigmoid()\n",
        "        self.tanh = nn.Tanh()\n",
        "\n",
        "    def forward(self, x, use_tanh_fn = False):\n",
        "        if use_tanh_fn == True:\n",
        "            x = self.hidden(x)\n",
        "            x = self.tanh(x)\n",
        "            x = self.output(x)\n",
        "        else:\n",
        "            x = self.hidden(x)\n",
        "            x = self.sigmoid(x)\n",
        "            x = self.output(x)\n",
        "        return x\n",
        "\n",
        "    def normalize_model(self, discrete_points):\n",
        "        \"\"\"\n",
        "        GOAL: Normalize the output weight layer\n",
        "        model.output *= c\n",
        "        where,\n",
        "        scalar c = 1/denom\n",
        "        \"\"\"\n",
        "        \n",
        "        h = discrete_points[1] - discrete_points[0]\n",
        "        s = 0\n",
        "        for i in discrete_points:\n",
        "            x_i = torch.tensor([i], requires_grad=True, dtype=torch.float)\n",
        "            s += self(x_i)**2\n",
        "        denom = math.sqrt(h) * torch.sqrt(s)\n",
        "        c = 1/denom\n",
        "\n",
        "        print(\"Before normalization: \")\n",
        "        print(self.output.weight.data)\n",
        "        print(self.output.bias.data)\n",
        "        \n",
        "        self.output.weight.data.copy_(c.item() * self.output.weight.data)\n",
        "        self.output.bias.data.copy_(c.item() * self.output.bias.data)\n",
        "\n",
        "        print(\"After normalization: \")\n",
        "        print(self.output.weight.data)\n",
        "        print(self.output.bias.data)\n",
        "        print(\"c value = \" + str(c))\n",
        "\n",
        "        return \n",
        "\n",
        "    def u_prime(self, x_in):\n",
        "        y = self(x_in)\n",
        "        y_prime = torch.autograd.grad(y.sum(), x_in, create_graph=True)\n",
        "        return y_prime[0]\n",
        "    \n",
        "    # TRANING MODEL\n",
        "    def minibatch_train_with_penalty(self, \n",
        "                                   num_epochs, \n",
        "                                   v_x, \n",
        "                                   optimizer, \n",
        "                                   lambda_pen,\n",
        "                                   discrete_points,\n",
        "                                   batch_size=32):\n",
        "        # For plotting loss value over epochs:\n",
        "        x_epochs = []\n",
        "        y_loss = []\n",
        "        y_loss_pen = []\n",
        "        \n",
        "        m = len(discrete_points)\n",
        "        num_batches = int(m/batch_size)\n",
        "#         print(\"Number of batches \" + str(num_batches))\n",
        "\n",
        "        for epoch in range(num_epochs):\n",
        "            perm = torch.randperm(m)\n",
        "            avg_loss_pen = 0\n",
        "            avg_loss = 0\n",
        "\n",
        "#                 start1 = time.time()\n",
        "            for i in range(0, m, batch_size):\n",
        "#                 print(\"i = \" + str(i))\n",
        "                optimizer.zero_grad()\n",
        "\n",
        "                indices = perm[i: i+batch_size]\n",
        "\n",
        "                loss_values = epsilon_Loss_penalty(v_x, self, lambda_pen,\n",
        "                                                U_BOUND, \n",
        "                                                discrete_points[indices])\n",
        "\n",
        "                loss = loss_values[0]\n",
        "                loss_pen = loss_values[1]\n",
        "\n",
        "                avg_loss_pen += loss_pen.item()\n",
        "                avg_loss += loss.item()\n",
        "\n",
        "                loss_pen.backward()\n",
        "                optimizer.step()\n",
        "\n",
        "            avg_loss_pen = avg_loss_pen/num_batches\n",
        "            avg_loss = avg_loss/num_batches\n",
        "\n",
        "            y_loss_pen.append(avg_loss_pen)\n",
        "            y_loss.append(avg_loss)\n",
        "            x_epochs.append(epoch)\n",
        "\n",
        "            if epoch % 100 == 0 or epoch < 30:\n",
        "                print('epoch {}, loss with penalty {}'.format(epoch, avg_loss_pen))\n",
        "\n",
        "#                 if epoch == 0:\n",
        "#                     end1 = time.time()\n",
        "#                     time1 = end1-start1\n",
        "#                     print(\"One epoch takes \" + str(time1))\n",
        "\n",
        "        print('Please normalize after training')\n",
        "        return (x_epochs, y_loss_pen, y_loss)\n",
        "    \n",
        "    def batch_train_with_penalty(self, \n",
        "                             num_epochs, \n",
        "                             v_x, \n",
        "                             optimizer, \n",
        "                             lambda_pen, \n",
        "                             discrete_points):\n",
        "        # For plotting loss value over epochs:\n",
        "        x_epochs = []\n",
        "        y_loss = []\n",
        "        y_loss_pen = []\n",
        "\n",
        "\n",
        "        for epoch in range(num_epochs):\n",
        "            optimizer.zero_grad()\n",
        "            loss_values = epsilon_Loss_penalty(v_x, self, lambda_pen,\n",
        "                                        U_BOUND, discrete_points)\n",
        "\n",
        "            loss = loss_values[0]\n",
        "            loss_pen = loss_values[1]\n",
        "\n",
        "            y_loss_pen.append(loss_pen.detach().numpy().item())\n",
        "            y_loss.append(loss.detach().numpy().item())\n",
        "            x_epochs.append(epoch)\n",
        "\n",
        "            if epoch % 100 == 0 or epoch < 30:\n",
        "                print('epoch {}, loss with penalty {}'.format(epoch, loss_pen.item()))\n",
        "            loss_pen.backward()\n",
        "            optimizer.step()\n",
        "\n",
        "        print('Please normalize after training')\n",
        "        return (x_epochs, y_loss_pen, y_loss)"
      ]
    },
    {
      "cell_type": "code",
      "execution_count": null,
      "metadata": {
        "jupyter": {
          "source_hidden": true
        },
        "id": "nuyaf6eiu8Fl"
      },
      "outputs": [],
      "source": [
        "# For potential function\n",
        "ti_list = np.random.normal(loc=0, scale=1.0, size= M_POINTS)\n",
        "ci_list = [(U_BOUND/(i * math.pi))**ALPHA for i in range(1, M_POINTS+1)]\n",
        "\n",
        "\n",
        "def potential_func_iterative(x, t_list, c_list, M_points=M_POINTS, L_endpoint=U_BOUND, c_0=50):\n",
        "    f_value = 0\n",
        "    summation = 0\n",
        "    #Iterative method:\n",
        "\n",
        "    for i in range(1, M_points+1):\n",
        "        cos_val = np.cos((i * math.pi * x)/L_endpoint)\n",
        "        summation += t_list[i-1] * c_list[i-1] * cos_val\n",
        "\n",
        "    f_value += summation\n",
        "    f_value += c_0\n",
        "\n",
        "    return f_value\n",
        "\n",
        "\n",
        "def potential_func_linalg(x, M_points=20, L_endpoint=U_BOUND, alpha=3, c_0=100):    \n",
        "    # Linear Algebra method:\n",
        "    t_i = np.random.normal(0, 1, size=N_points)\n",
        "    \n",
        "    iter1 = ((math.pi/(i*L_endpoint))**alpha for i in range(1, M_points+1))\n",
        "    c_i = np.fromiter(iter1, float)\n",
        "    a = np.multiply(t_i, c_i)\n",
        "\n",
        "    iter2 = (i for i in range(1, M_points+1))\n",
        "    v = np.fromiter(iter2, float)\n",
        "    s = (L_endpoint*x/math.pi)*v\n",
        "    cos_s = np.cos(s)\n",
        "    \n",
        "    res_vector = np.multiply(a, cos_s)\n",
        "    return np.sum(res_vector) + c_0"
      ]
    },
    {
      "cell_type": "code",
      "execution_count": 25,
      "metadata": {
        "id": "oo-GGDxiu8Fl"
      },
      "outputs": [],
      "source": [
        "class X_Square:\n",
        "    def __init__(self, const):\n",
        "        self.const = const\n",
        "        \n",
        "    def forward(self, x):\n",
        "        return x**2 + self.const + 13*math.sin(x)\n",
        "    \n",
        "class Potential_Function:\n",
        "    def __init__(self, c_0=0,\n",
        "                 M_points=M_POINTS,\n",
        "                 L_endpoint=U_BOUND, \n",
        "                 alpha=ALPHA, \n",
        "                 rescale=1):\n",
        "        self.M_points = M_points\n",
        "        self.L_endpoint = L_endpoint\n",
        "        self.alpha = alpha\n",
        "        self.c_0 = c_0\n",
        "        self.rescale = 1\n",
        "        \n",
        "        self.ti_list = np.random.normal(loc=0, scale=1.0, size= self.M_points)\n",
        "        self.ci_list = [(self.L_endpoint/(i * math.pi))**self.alpha \n",
        "                        for i in range(1, self.M_points+1)]\n",
        "        \n",
        "    def forward(self, x):\n",
        "        f_value = 0\n",
        "        summation = 0\n",
        "        \n",
        "        #Iterative method:\n",
        "\n",
        "        for i in range(1, self.M_points+1):\n",
        "            cos_val = np.cos((i * math.pi * x)/self.L_endpoint)\n",
        "            summation += self.ti_list[i-1] * self.ci_list[i-1] * cos_val\n",
        "\n",
        "        f_value += summation\n",
        "        f_value += self.c_0\n",
        "        return self.rescale * f_value\n",
        "    \n",
        "    def set_c0_value(self, val):\n",
        "        self.c_0 = val\n",
        "        return\n",
        "    \n",
        "    def set_rescale_factor(self, val):\n",
        "        self.rescale = val\n",
        "        return \n",
        "    \n",
        "    def plot_function(self, discrete_points):\n",
        "        y_values = [self.forward(i) for i in discrete_points]\n",
        "        plt.plot(discrete_points, y_values)\n",
        "    \n",
        "    def update_potential_fn(self, discrete_points):\n",
        "        # (1) Check lowest value to set appropriate c_0 value:\n",
        "        y_values = [self.forward(i) for i in discrete_points]\n",
        "        min_val = min(y_values)\n",
        "        print(\"Original min val = \" + str(min_val))\n",
        "        # plt.plot(DISCRETE_POINTS, y_values)\n",
        "\n",
        "        # (1) Set c_0 value s.t. every value in y_values is > 0: \n",
        "        if min_val < 0:\n",
        "            c_0 = math.ceil(abs(min_val))\n",
        "            self.set_c0_value(c_0)\n",
        "            new_y = [self.forward(i) for i in discrete_points]\n",
        "            print(\"Min val with c_0 updated = \" + str(min(new_y)))\n",
        "        # plt.plot(DISCRETE_POINTS, new_y)\n",
        "\n",
        "        # (2) Rescale potential function s.t. every value lies between 0 and 5:\n",
        "        max_v = max(new_y)\n",
        "#         min_v = min(new_y)\n",
        "#         print(max_v, min_v)\n",
        "#         max_min = max_v-min_v\n",
        "\n",
        "#         rescaled_y = [(i-min_v)/(max_min) for i in new_y]\n",
        "#         plt.plot(DISCRETE_POINTS, rescaled_y)\n",
        "\n",
        "#         c = 5/max_v\n",
        "#         self.set_rescale_factor(c)\n",
        "        return"
      ]
    },
    {
      "cell_type": "code",
      "execution_count": 26,
      "metadata": {
        "id": "nzOlTe_ou8Fl"
      },
      "outputs": [],
      "source": [
        "def model_on_interval(nn_model, discrete_points):\n",
        "    x_vals = [torch.tensor([i], requires_grad=True, dtype=torch.float) for i in discrete_points]\n",
        "\n",
        "    model_output = []\n",
        "    for i in x_vals:\n",
        "        model_output.append(nn_model(i).detach().numpy().item())\n",
        "    return model_output"
      ]
    },
    {
      "cell_type": "code",
      "execution_count": null,
      "metadata": {
        "id": "8FCUS6Buu8Fl",
        "outputId": "0f7b65a0-84cf-40cd-d721-b5b79abf832a"
      },
      "outputs": [
        {
          "name": "stdout",
          "output_type": "stream",
          "text": [
            "0.018739938735961914\n",
            "0.017675161361694336\n"
          ]
        }
      ],
      "source": [
        "t_f = Potential_Function(c_0=50)\n",
        "start = time.time()\n",
        "r1 = [potential_func_iterative(i, t_list=ti_list, c_list=ci_list) for i in DISCRETE_POINTS]\n",
        "end = time.time()\n",
        "time1 = end-start\n",
        "# print(r1)\n",
        "print(time1)\n",
        "\n",
        "start = time.time()\n",
        "r2 = [t_f.forward(i) for i in DISCRETE_POINTS]\n",
        "end = time.time()\n",
        "time2 = end-start\n",
        "# print(r2)\n",
        "print(time2)"
      ]
    },
    {
      "cell_type": "code",
      "execution_count": null,
      "metadata": {
        "id": "CQsXzWbGu8Fm"
      },
      "outputs": [],
      "source": [
        "start = time.time()\n",
        "res1 = 10**2\n",
        "end = time.time()\n",
        "time1 = end-start\n",
        "print(time1)\n",
        "\n",
        "start = time.time()\n",
        "res2 = potential_func_iterative(10)\n",
        "end = time.time()\n",
        "time2 = end-start\n",
        "print(time2)"
      ]
    },
    {
      "cell_type": "code",
      "execution_count": 85,
      "metadata": {
        "id": "ybaLXOXMu8Fm"
      },
      "outputs": [],
      "source": [
        "learningRate = 0.01\n",
        "\n",
        "#INIT MODEL\n",
        "batch_model = Nonlinear(20)\n",
        "model_32 = Nonlinear(20)\n",
        "model_64 = Nonlinear(20)\n",
        "model_128 = Nonlinear(20)\n",
        "if torch.cuda.is_available():\n",
        "    model_32.cuda()\n",
        "    model_64.cuda()\n",
        "\n",
        "# INIT OPTIMIZER CLASS\n",
        "# SGD:\n",
        "# sgd_optimizer = torch.optim.SGD(model_32.parameters(), \n",
        "#                                 lr=learningRate, \n",
        "#                                 momentum=0.9)\n",
        "\n",
        "# Adam:\n",
        "adam_optimizer = torch.optim.Adam(batch_model.parameters(), \n",
        "                                    lr=learningRate, \n",
        "                                    betas=(0.9, 0.999), \n",
        "                                    eps=1e-08, \n",
        "                                    weight_decay=0, \n",
        "                                    amsgrad=False)\n",
        "\n",
        "adam_optimizer_2 = torch.optim.Adam(model_64.parameters(), \n",
        "                                    lr=learningRate, \n",
        "                                    betas=(0.9, 0.999), \n",
        "                                    eps=1e-08, \n",
        "                                    weight_decay=0, \n",
        "                                    amsgrad=False)\n",
        "\n",
        "adam_optimizer_3 = torch.optim.Adam(model_128.parameters(), \n",
        "                                    lr=learningRate, \n",
        "                                    betas=(0.9, 0.999), \n",
        "                                    eps=1e-08, \n",
        "                                    weight_decay=0, \n",
        "                                    amsgrad=False)\n"
      ]
    },
    {
      "cell_type": "code",
      "execution_count": 84,
      "metadata": {
        "id": "_6ySWsHcu8Fm"
      },
      "outputs": [],
      "source": [
        "del adam_optimizer\n",
        "del adam_optimizer_2\n",
        "del adam_optimizer_3\n",
        "\n",
        "del model_32\n",
        "del model_64\n",
        "del model_128\n",
        "del batch_model"
      ]
    },
    {
      "cell_type": "code",
      "source": [
        "p_fn.c_0 "
      ],
      "metadata": {
        "id": "wVw_cGA_wvtl",
        "outputId": "7b1d270b-458d-4177-80b1-bdb5b6ff2163",
        "colab": {
          "base_uri": "https://localhost:8080/"
        }
      },
      "execution_count": 18,
      "outputs": [
        {
          "output_type": "execute_result",
          "data": {
            "text/plain": [
              "4"
            ]
          },
          "metadata": {},
          "execution_count": 18
        }
      ]
    },
    {
      "cell_type": "code",
      "execution_count": 71,
      "metadata": {
        "id": "EToE2Upuu8Fm",
        "outputId": "5ea17696-5747-44c1-a379-6058b3d772b4",
        "colab": {
          "base_uri": "https://localhost:8080/",
          "height": 265
        }
      },
      "outputs": [
        {
          "output_type": "display_data",
          "data": {
            "text/plain": [
              "<Figure size 432x288 with 1 Axes>"
            ],
            "image/png": "[encoded data removed]"
          },
          "metadata": {
            "needs_background": "light"
          }
        }
      ],
      "source": [
        "# Init. potential function instance\n",
        "p_fn = Potential_Function()\n",
        "p_fn.plot_function(DISCRETE_POINTS)"
      ]
    },
    {
      "cell_type": "code",
      "execution_count": 72,
      "metadata": {
        "id": "Za5V5u4Eu8Fn",
        "outputId": "3523acc6-e189-4736-9a05-3adcc8fa9f8c",
        "colab": {
          "base_uri": "https://localhost:8080/",
          "height": 302
        }
      },
      "outputs": [
        {
          "output_type": "stream",
          "name": "stdout",
          "text": [
            "Original min val = -5.103986121893788\n",
            "Min val with c_0 updated = 0.8960138781062117\n"
          ]
        },
        {
          "output_type": "display_data",
          "data": {
            "text/plain": [
              "<Figure size 432x288 with 1 Axes>"
            ],
            "image/png": "[encoded data removed]"
          },
          "metadata": {
            "needs_background": "light"
          }
        }
      ],
      "source": [
        "p_fn.update_potential_fn(DISCRETE_POINTS)\n",
        "p_fn.plot_function(DISCRETE_POINTS)"
      ]
    },
    {
      "cell_type": "code",
      "execution_count": null,
      "metadata": {
        "id": "_1i3nFfKu8Fn"
      },
      "outputs": [],
      "source": [
        "# Check lowest value to set appropriate c_0 value:\n",
        "y_values = [p_fn.forward(i) for i in DISCRETE_POINTS]\n",
        "min_val = min(y_values)\n",
        "print(\"Original min val = \" + str(min_val))\n",
        "# plt.plot(DISCRETE_POINTS, y_values)\n",
        "\n",
        "# Set c_0 value s.t. every value in y_values is > 0: \n",
        "c_0 = math.ceil(abs(min_val))\n",
        "p_fn.set_c0_value(c_0)\n",
        "new_y = [p_fn.forward(i) for i in DISCRETE_POINTS]\n",
        "\n",
        "# plt.plot(DISCRETE_POINTS, new_y)\n",
        "\n",
        "# Rescale potential function s.t. every value lies between 0 and 5:\n",
        "max_v = max(new_y)\n",
        "min_v = min(new_y)\n",
        "print(max_v, min_v)\n",
        "max_min = max_v-min_v\n",
        "\n",
        "rescaled_y = [(i-min_v)/(max_min) for i in new_y]\n",
        "plt.plot(DISCRETE_POINTS, rescaled_y)"
      ]
    },
    {
      "cell_type": "code",
      "execution_count": 86,
      "metadata": {
        "id": "gkaM1LAku8Fn"
      },
      "outputs": [],
      "source": [
        "batch_res = None"
      ]
    },
    {
      "cell_type": "code",
      "execution_count": 87,
      "metadata": {
        "id": "xotn1EXJu8Fn"
      },
      "outputs": [],
      "source": [
        "model_res_32 = None\n",
        "model_res_64 = None\n",
        "model_res_128 = None"
      ]
    },
    {
      "cell_type": "code",
      "execution_count": 88,
      "metadata": {
        "id": "hHfA9AgYu8Fo"
      },
      "outputs": [],
      "source": [
        "### TRAIN MODEL HERE ###\n",
        "def run_batch_training(nn_model, v_x, optimizer):\n",
        "    \n",
        "    now = datetime.datetime.now(tz=timezone('US/Eastern'))\n",
        "    print(\"Start time is \" + str(now))\n",
        "    start = time.time()\n",
        "    \n",
        "    model_res = nn_model.batch_train_with_penalty(NUM_EPOCHS, \n",
        "                                                v_x, \n",
        "                                                optimizer, \n",
        "                                                LAMBDA_PEN, \n",
        "                                                DISCRETE_POINTS)\n",
        "    end = time.time()\n",
        "    time1 = end-start\n",
        "    print(\"Using potential function defined as class takes \" + str(time1))\n",
        "    return model_res\n",
        "\n",
        "def run_minibatch_training(nn_model, v_x, optimizer, b_size):\n",
        "    now = datetime.datetime.now(tz=timezone('US/Eastern'))\n",
        "    print((\"Start time for batch_size = {a} is \" + str(now)).format(a=b_size))\n",
        "    start = time.time()\n",
        "    \n",
        "    model_res = nn_model.minibatch_train_with_penalty(NUM_EPOCHS, \n",
        "                                                      v_x, \n",
        "                                                      optimizer, \n",
        "                                                      LAMBDA_PEN, \n",
        "                                                      DISCRETE_POINTS,\n",
        "                                                      batch_size=b_size)\n",
        "    \n",
        "    end = time.time()\n",
        "    time1 = end-start\n",
        "    print(\"Using potential function defined as class takes \" + str(time1))\n",
        "    return model_res"
      ]
    },
    {
      "cell_type": "code",
      "execution_count": null,
      "metadata": {
        "collapsed": true,
        "jupyter": {
          "outputs_hidden": true,
          "source_hidden": true
        },
        "id": "41WEANauu8Fo",
        "outputId": "aa42a8e6-9041-4434-d64b-9aa2bd53f4a7"
      },
      "outputs": [
        {
          "name": "stdout",
          "output_type": "stream",
          "text": [
            "Start time for batch_size = 64 is 2022-07-31 23:33:55.488200-04:00\n",
            "epoch 0, loss with penalty 177.89723777770996\n",
            "epoch 1, loss with penalty 94.34998774528503\n",
            "epoch 2, loss with penalty 81.68863534927368\n",
            "epoch 3, loss with penalty 70.31339979171753\n",
            "epoch 4, loss with penalty 97.55239152908325\n",
            "epoch 5, loss with penalty 95.44247102737427\n",
            "epoch 6, loss with penalty 84.83988237380981\n",
            "epoch 7, loss with penalty 69.59263396263123\n",
            "epoch 8, loss with penalty 89.90981960296631\n",
            "epoch 9, loss with penalty 72.49066400527954\n",
            "epoch 10, loss with penalty 72.36901521682739\n",
            "epoch 11, loss with penalty 79.76749110221863\n",
            "epoch 12, loss with penalty 74.57911205291748\n",
            "epoch 13, loss with penalty 83.59079837799072\n",
            "epoch 14, loss with penalty 83.74671411514282\n",
            "epoch 15, loss with penalty 66.45458769798279\n",
            "epoch 16, loss with penalty 122.03101181983948\n",
            "epoch 17, loss with penalty 101.30830359458923\n",
            "epoch 18, loss with penalty 109.7941575050354\n",
            "epoch 19, loss with penalty 85.37106227874756\n",
            "epoch 20, loss with penalty 85.14537715911865\n",
            "epoch 21, loss with penalty 59.6619713306427\n",
            "epoch 22, loss with penalty 62.1493079662323\n",
            "epoch 23, loss with penalty 68.53316378593445\n",
            "epoch 24, loss with penalty 61.79017519950867\n",
            "epoch 25, loss with penalty 98.92659282684326\n",
            "epoch 26, loss with penalty 101.08984923362732\n",
            "epoch 27, loss with penalty 74.2882788181305\n",
            "epoch 28, loss with penalty 74.13826274871826\n",
            "epoch 29, loss with penalty 73.87875151634216\n",
            "epoch 100, loss with penalty 67.09080672264099\n",
            "epoch 200, loss with penalty 72.02795791625977\n",
            "epoch 300, loss with penalty 64.37850046157837\n",
            "epoch 400, loss with penalty 56.98467540740967\n",
            "epoch 500, loss with penalty 60.336140751838684\n",
            "epoch 600, loss with penalty 58.24715065956116\n",
            "epoch 700, loss with penalty 64.32312476634979\n",
            "epoch 800, loss with penalty 77.17751145362854\n",
            "epoch 900, loss with penalty 55.39954972267151\n",
            "Please normalize after training\n",
            "Using potential function defined as class takes 743.9880261421204\n"
          ]
        }
      ],
      "source": [
        "test_model = Nonlinear(20)\n",
        "adam_opt = torch.optim.Adam(test_model.parameters(), \n",
        "                                    lr=learningRate, \n",
        "                                    betas=(0.9, 0.999), \n",
        "                                    eps=1e-08, \n",
        "                                    weight_decay=0, \n",
        "                                    amsgrad=False)\n",
        "test_res = run_minibatch_training(test_model, e_fn, adam_opt, b_size=64)"
      ]
    },
    {
      "cell_type": "code",
      "execution_count": null,
      "metadata": {
        "id": "at88XmGsu8Fo",
        "outputId": "c21689e4-e128-48cf-da4f-4e591a1b35a0"
      },
      "outputs": [
        {
          "name": "stdout",
          "output_type": "stream",
          "text": [
            "Before normalization: \n",
            "tensor([[-0.5032, -0.1080, -0.3893,  0.2031,  0.3566,  0.0120,  0.2418,  0.0127,\n",
            "          0.5411,  0.0084,  0.0101,  0.0208,  0.0082, -0.2132,  0.0298,  0.0201,\n",
            "          0.0101,  0.1381,  0.0095,  0.1273]])\n",
            "tensor([-0.0353])\n",
            "After normalization: \n",
            "tensor([[-0.5032, -0.1080, -0.3893,  0.2031,  0.3566,  0.0120,  0.2418,  0.0127,\n",
            "          0.5411,  0.0084,  0.0101,  0.0208,  0.0082, -0.2132,  0.0298,  0.0201,\n",
            "          0.0101,  0.1381,  0.0095,  0.1273]])\n",
            "tensor([-0.0353])\n",
            "c value = tensor([1.], grad_fn=<MulBackward0>)\n"
          ]
        }
      ],
      "source": [
        "test_model.normalize_model(DISCRETE_POINTS)"
      ]
    },
    {
      "cell_type": "code",
      "execution_count": 89,
      "metadata": {
        "id": "SwHGUQM7u8Fo",
        "outputId": "d93d6368-dd44-4107-d096-a45a99a59118",
        "colab": {
          "base_uri": "https://localhost:8080/"
        }
      },
      "outputs": [
        {
          "output_type": "stream",
          "name": "stdout",
          "text": [
            "Start time is 2022-08-01 16:11:24.167524-04:00\n",
            "epoch 0, loss with penalty 169.05592346191406\n",
            "epoch 1, loss with penalty 58.68549346923828\n",
            "epoch 2, loss with penalty 70.75250244140625\n",
            "epoch 3, loss with penalty 7.629458904266357\n",
            "epoch 4, loss with penalty 32.67408752441406\n",
            "epoch 5, loss with penalty 44.203514099121094\n",
            "epoch 6, loss with penalty 18.86356544494629\n",
            "epoch 7, loss with penalty 8.776008605957031\n",
            "epoch 8, loss with penalty 33.23569869995117\n",
            "epoch 9, loss with penalty 25.867778778076172\n",
            "epoch 10, loss with penalty 7.489900588989258\n",
            "epoch 11, loss with penalty 13.845556259155273\n",
            "epoch 12, loss with penalty 24.477745056152344\n",
            "epoch 13, loss with penalty 19.785430908203125\n",
            "epoch 14, loss with penalty 8.658624649047852\n",
            "epoch 15, loss with penalty 9.161776542663574\n",
            "epoch 16, loss with penalty 17.83131217956543\n",
            "epoch 17, loss with penalty 15.436503410339355\n",
            "epoch 18, loss with penalty 7.727183818817139\n",
            "epoch 19, loss with penalty 8.616869926452637\n",
            "epoch 20, loss with penalty 13.632169723510742\n",
            "epoch 21, loss with penalty 13.233095169067383\n",
            "epoch 22, loss with penalty 8.505147933959961\n",
            "epoch 23, loss with penalty 7.261042594909668\n",
            "epoch 24, loss with penalty 10.715415954589844\n",
            "epoch 25, loss with penalty 11.47546100616455\n",
            "epoch 26, loss with penalty 8.204731941223145\n",
            "epoch 27, loss with penalty 7.130953311920166\n",
            "epoch 28, loss with penalty 9.26463508605957\n",
            "epoch 29, loss with penalty 10.074503898620605\n",
            "epoch 100, loss with penalty 6.497875213623047\n",
            "epoch 200, loss with penalty 5.7030439376831055\n",
            "epoch 300, loss with penalty 6.302015781402588\n",
            "epoch 400, loss with penalty 5.363761901855469\n",
            "epoch 500, loss with penalty 5.043813705444336\n",
            "epoch 600, loss with penalty 5.191000461578369\n",
            "epoch 700, loss with penalty 4.599656105041504\n",
            "epoch 800, loss with penalty 4.726012229919434\n",
            "epoch 900, loss with penalty 4.1378493309021\n",
            "epoch 1000, loss with penalty 4.988060474395752\n",
            "epoch 1100, loss with penalty 3.683793067932129\n",
            "epoch 1200, loss with penalty 3.4775094985961914\n",
            "epoch 1300, loss with penalty 3.302800178527832\n",
            "epoch 1400, loss with penalty 3.109733819961548\n",
            "epoch 1500, loss with penalty 2.9663166999816895\n",
            "epoch 1600, loss with penalty 2.8505282402038574\n",
            "epoch 1700, loss with penalty 2.7581369876861572\n",
            "epoch 1800, loss with penalty 2.682126998901367\n",
            "epoch 1900, loss with penalty 2.6162431240081787\n",
            "epoch 2000, loss with penalty 2.556685209274292\n",
            "epoch 2100, loss with penalty 2.501694679260254\n",
            "epoch 2200, loss with penalty 2.4505293369293213\n",
            "epoch 2300, loss with penalty 2.4028429985046387\n",
            "epoch 2400, loss with penalty 2.3584234714508057\n",
            "epoch 2500, loss with penalty 2.317099094390869\n",
            "epoch 2600, loss with penalty 2.2911133766174316\n",
            "epoch 2700, loss with penalty 2.5336315631866455\n",
            "epoch 2800, loss with penalty 2.224008560180664\n",
            "epoch 2900, loss with penalty 2.236555814743042\n",
            "epoch 3000, loss with penalty 2.1611461639404297\n",
            "epoch 3100, loss with penalty 2.143646240234375\n",
            "epoch 3200, loss with penalty 2.2023379802703857\n",
            "epoch 3300, loss with penalty 2.13539719581604\n",
            "epoch 3400, loss with penalty 2.1110830307006836\n",
            "epoch 3500, loss with penalty 2.0707859992980957\n",
            "epoch 3600, loss with penalty 2.0568013191223145\n",
            "epoch 3700, loss with penalty 2.0419859886169434\n",
            "epoch 3800, loss with penalty 2.0247819423675537\n",
            "epoch 3900, loss with penalty 2.0159924030303955\n",
            "epoch 4000, loss with penalty 2.613375663757324\n",
            "epoch 4100, loss with penalty 2.0580923557281494\n",
            "epoch 4200, loss with penalty 2.0083889961242676\n",
            "epoch 4300, loss with penalty 2.0020902156829834\n",
            "epoch 4400, loss with penalty 2.0224621295928955\n",
            "epoch 4500, loss with penalty 2.2734405994415283\n",
            "epoch 4600, loss with penalty 2.061138868331909\n",
            "epoch 4700, loss with penalty 2.5117340087890625\n",
            "epoch 4800, loss with penalty 3.871201753616333\n",
            "epoch 4900, loss with penalty 2.0856733322143555\n",
            "Please normalize after training\n",
            "Using potential function defined as class takes 1693.1365768909454\n"
          ]
        }
      ],
      "source": [
        "batch_res = run_batch_training(batch_model, p_fn, adam_optimizer)"
      ]
    },
    {
      "cell_type": "code",
      "execution_count": 95,
      "metadata": {
        "id": "eactaYzIu8Fp",
        "outputId": "7b8ee9cd-95c4-4c63-a90b-1582599faea2",
        "colab": {
          "base_uri": "https://localhost:8080/"
        }
      },
      "outputs": [
        {
          "output_type": "stream",
          "name": "stdout",
          "text": [
            "Before normalization: \n",
            "tensor([[-0.1568,  0.0527,  0.0432, -0.3124, -0.1290, -0.2499,  0.0620,  0.3747,\n",
            "          0.2662,  0.1734, -0.1432,  0.0887,  0.1620, -0.2815, -0.0190, -0.4765,\n",
            "          0.3117,  0.1218, -0.1346, -0.2023]])\n",
            "tensor([0.2113])\n",
            "After normalization: \n",
            "tensor([[-0.1566,  0.0526,  0.0432, -0.3120, -0.1288, -0.2495,  0.0619,  0.3742,\n",
            "          0.2658,  0.1732, -0.1430,  0.0886,  0.1618, -0.2812, -0.0190, -0.4759,\n",
            "          0.3113,  0.1216, -0.1344, -0.2020]])\n",
            "tensor([0.2110])\n",
            "c value = tensor([0.9987], grad_fn=<MulBackward0>)\n"
          ]
        }
      ],
      "source": [
        "batch_model.normalize_model(DISCRETE_POINTS)"
      ]
    },
    {
      "cell_type": "code",
      "execution_count": 90,
      "metadata": {
        "id": "t8zlIQrhu8Fp",
        "outputId": "7a0d38b5-179a-4c7c-f6ee-87ee1c452d66",
        "colab": {
          "base_uri": "https://localhost:8080/",
          "height": 431
        }
      },
      "outputs": [
        {
          "output_type": "display_data",
          "data": {
            "text/plain": [
              "<Figure size 432x288 with 0 Axes>"
            ]
          },
          "metadata": {}
        },
        {
          "output_type": "display_data",
          "data": {
            "text/plain": [
              "<Figure size 640x480 with 1 Axes>"
            ],
            "image/png": "[encoded data removed]"
          },
          "metadata": {
            "needs_background": "light"
          }
        }
      ],
      "source": [
        "plot_figure(batch_res[0], np.log(batch_res[2]))"
      ]
    },
    {
      "cell_type": "code",
      "execution_count": 91,
      "metadata": {
        "id": "QHGLUkBru8Fp",
        "outputId": "375e4f67-3241-4e6a-8111-f5fdb3227739",
        "colab": {
          "base_uri": "https://localhost:8080/",
          "height": 431
        }
      },
      "outputs": [
        {
          "output_type": "display_data",
          "data": {
            "text/plain": [
              "<Figure size 432x288 with 0 Axes>"
            ]
          },
          "metadata": {}
        },
        {
          "output_type": "display_data",
          "data": {
            "text/plain": [
              "<Figure size 640x480 with 1 Axes>"
            ],
            "image/png": "[encoded data removed]"
          },
          "metadata": {
            "needs_background": "light"
          }
        }
      ],
      "source": [
        "x_values = np.linspace(L_BOUND, U_BOUND, N_POINTS)\n",
        "x_vals = [torch.tensor([i], requires_grad=True, dtype=torch.float) for i in np.linspace(L_BOUND, U_BOUND, N_POINTS)]\n",
        "\n",
        "model_output = model_on_interval(batch_model, DISCRETE_POINTS)\n",
        "\n",
        "plot_figure(x_values, model_output)\n",
        "# plot_figure(x_values, model_output)"
      ]
    },
    {
      "cell_type": "markdown",
      "metadata": {
        "id": "GkopNesmu8Fp"
      },
      "source": [
        "## The Finite Difference Method ##"
      ]
    },
    {
      "cell_type": "code",
      "execution_count": 40,
      "metadata": {
        "id": "hvjbuZspu8Fq"
      },
      "outputs": [],
      "source": [
        "def fd_method_2(lower_bound, upper_bound, N_points, given_fn):\n",
        "    discrete_points = np.linspace(lower_bound, upper_bound, N_points)\n",
        "    h = discrete_points[1]-discrete_points[0]\n",
        "    c = np.sqrt(1/h)\n",
        "    H = np.zeros((N_points-2,N_points-2))\n",
        "    # Question: Why H has dimension (N-2) x (N-2)?\n",
        "    V = np.zeros((N_points-2,N_points-2))\n",
        "    \n",
        "    for i in range (N_points-2):\n",
        "        for j in range (N_points-2):\n",
        "            if i == j:\n",
        "                H[i][j] = -2\n",
        "            elif abs(i-j) == 1:\n",
        "                H[i][j] = 1\n",
        "                \n",
        "    for i in range (N_points-2):\n",
        "        for j in range (N_points-2):\n",
        "            if i == j:\n",
        "                V[i][j] = given_fn.forward(discrete_points[i])\n",
        "                \n",
        "    A = -H/(h**2) + V\n",
        "    \n",
        "    eig_val, eig_vec = np.linalg.eig(A)\n",
        "    sorted_id_eig_val = np.argsort(eig_val)\n",
        "    # Get the indices that would sort eig_val\n",
        "    z = sorted_id_eig_val[0:1] # Bc. eig_val first 4 value is in ascending order, \n",
        "    # eig_val[z] will return sorted first [T] value of eigenvalues.\n",
        "    energies = eig_val[z]/eig_val[z][0]\n",
        "\n",
        "    ground_state = c * eig_vec[:,z[0]]\n",
        "\n",
        "    return (eig_val[z], ground_state)"
      ]
    },
    {
      "cell_type": "code",
      "execution_count": 41,
      "metadata": {
        "id": "qkg6Zfo7u8Fq"
      },
      "outputs": [],
      "source": [
        "def finite_diff_method(lower_bound, upper_bound, N_points, given_fn):\n",
        "    discrete_points = np.linspace(lower_bound, upper_bound, N_points)\n",
        "    h = discrete_points[1]-discrete_points[0]\n",
        "    c = np.sqrt(1/h)\n",
        "\n",
        "    H = np.zeros((N_points,N_points))\n",
        "    # Question: Why H has dimension (N-2) x (N-2)?\n",
        "    V = np.zeros((N_points,N_points))\n",
        "\n",
        "    for i in range (N_points):\n",
        "        for j in range (N_points):\n",
        "            if i == j:\n",
        "                H[i][j] = -2\n",
        "            elif abs(i-j) == 1:\n",
        "                H[i][j] = 1\n",
        "    for i in range (N_points):\n",
        "        for j in range (N_points):\n",
        "            if i == j:\n",
        "                V[i][j] = given_fn.forward(discrete_points[i])\n",
        "\n",
        "    A = -H/(h**2) + V\n",
        "    \n",
        "    eig_val, eig_vec = np.linalg.eig(A)\n",
        "    sorted_id_eig_val = np.argsort(eig_val)\n",
        "    # Get the indices that would sort eig_val\n",
        "    z = sorted_id_eig_val[0:1] # Bc. eig_val first 4 value is in ascending order, \n",
        "    # eig_val[z] will return sorted first [T] value of eigenvalues.\n",
        "    energies = eig_val[z]/eig_val[z][0]\n",
        "\n",
        "    ground_state = c * eig_vec[:,z[0]]\n",
        "\n",
        "    return (eig_val[z], ground_state)"
      ]
    },
    {
      "cell_type": "code",
      "execution_count": 43,
      "metadata": {
        "id": "lIGR6Gohu8Fr"
      },
      "outputs": [],
      "source": [
        "def plot_finite_diff_sol(eig_val, ground_state, discrete_points, nn_model):\n",
        "    plt.figure(figsize=(12,10))\n",
        "    for i in range(len(eig_val)):\n",
        "        y = []\n",
        "        y = np.append(y, (-1) * ground_state)\n",
        "\n",
        "        plt.plot(discrete_points,y,lw=3, label=\"{} \".format(i))\n",
        "        plt.xlabel('x', size=14)\n",
        "        plt.ylabel('$\\psi$(x)',size=14)\n",
        "    model_output = model_on_interval(nn_model, DISCRETE_POINTS)\n",
        "    plt.plot(discrete_points, model_output)\n",
        "    plt.legend()\n",
        "    plt.title('normalized wavefunctions for a harmonic oscillator using finite difference method',size=14)\n",
        "    plt.show()\n",
        "    return"
      ]
    },
    {
      "cell_type": "code",
      "execution_count": 92,
      "metadata": {
        "id": "VDEST0Buu8Fr",
        "outputId": "224e7aad-2999-42c2-d6cf-a05899c2584b",
        "colab": {
          "base_uri": "https://localhost:8080/"
        }
      },
      "outputs": [
        {
          "output_type": "stream",
          "name": "stdout",
          "text": [
            "[1.93522426]\n",
            "[1.93522426]\n"
          ]
        }
      ],
      "source": [
        "fd_res = finite_diff_method(L_BOUND, U_BOUND, N_POINTS, p_fn)\n",
        "fd_res2 = fd_method_2(L_BOUND, U_BOUND, N_POINTS, p_fn)\n",
        "print(fd_res[0])\n",
        "print(fd_res2[0])"
      ]
    },
    {
      "cell_type": "code",
      "execution_count": 96,
      "metadata": {
        "id": "C1f9d5z_u8Fs",
        "outputId": "760a0dd3-814a-46bf-a995-cc0eea579c77",
        "colab": {
          "base_uri": "https://localhost:8080/"
        }
      },
      "outputs": [
        {
          "output_type": "stream",
          "name": "stdout",
          "text": [
            "The FD method eigenvalue: 1.9352242609244739\n",
            "The NN method loss value: 1.957866907119751\n"
          ]
        }
      ],
      "source": [
        "loss_val = epsilon_Loss_penalty(p_fn, batch_model, LAMBDA_PEN, U_BOUND, DISCRETE_POINTS)[0]\n",
        "print(\"The FD method eigenvalue: \" + str(fd_res[0][0]))\n",
        "print(\"The NN method loss value: \" + str(loss_val.item()))"
      ]
    },
    {
      "cell_type": "code",
      "execution_count": 94,
      "metadata": {
        "id": "KJobfb8zu8Fs",
        "outputId": "654bfe44-5d4a-4c11-f1d2-b300bc10d03a",
        "colab": {
          "base_uri": "https://localhost:8080/",
          "height": 627
        }
      },
      "outputs": [
        {
          "output_type": "display_data",
          "data": {
            "text/plain": [
              "<Figure size 864x720 with 1 Axes>"
            ],
            "image/png": "[encoded data removed]"
          },
          "metadata": {
            "needs_background": "light"
          }
        }
      ],
      "source": [
        "plot_finite_diff_sol(fd_res[0], fd_res[1], DISCRETE_POINTS, batch_model)"
      ]
    },
    {
      "cell_type": "code",
      "execution_count": null,
      "metadata": {
        "id": "RL15n3Nau8Fs"
      },
      "outputs": [],
      "source": [
        ""
      ]
    }
  ],
  "metadata": {
    "kernelspec": {
      "display_name": "Python 3",
      "language": "python",
      "name": "python3"
    },
    "language_info": {
      "codemirror_mode": {
        "name": "ipython",
        "version": 3
      },
      "file_extension": ".py",
      "mimetype": "text/x-python",
      "name": "python",
      "nbconvert_exporter": "python",
      "pygments_lexer": "ipython3",
      "version": "3.7.7"
    },
    "colab": {
      "name": "mini_batch_adam_pf.ipynb",
      "provenance": []
    }
  },
  "nbformat": 4,
  "nbformat_minor": 0
}