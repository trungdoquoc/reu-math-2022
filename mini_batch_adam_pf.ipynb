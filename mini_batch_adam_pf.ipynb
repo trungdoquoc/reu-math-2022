{
 "cells": [
  {
   "cell_type": "code",
   "execution_count": 1,
   "metadata": {},
   "outputs": [],
   "source": [
    "import datetime\n",
    "from pytz import timezone\n",
    "\n",
    "import time\n",
    "import numpy as np\n",
    "import copy\n",
    "import torch\n",
    "import torch.nn as nn\n",
    "import math\n",
    "from torch.autograd import Variable\n",
    "import matplotlib.pyplot as plt\n",
    "\n",
    "LAMBDA_PEN = 1000\n",
    "L_BOUND = -10\n",
    "U_BOUND = 10\n",
    "N_POINTS = 1024\n",
    "\n",
    "NUM_EPOCHS = 5000\n",
    "\n",
    "M_POINTS = 5\n",
    "ALPHA = 2\n",
    "\n",
    "SELECTION_RATE = 0.01\n",
    "\n",
    "DISCRETE_POINTS = np.linspace(L_BOUND, U_BOUND, N_POINTS)"
   ]
  },
  {
   "cell_type": "code",
   "execution_count": 38,
   "metadata": {},
   "outputs": [
    {
     "data": {
      "text/plain": [
       "0.019550342130987275"
      ]
     },
     "execution_count": 38,
     "metadata": {},
     "output_type": "execute_result"
    }
   ],
   "source": [
    "DISCRETE_POINTS[1]-DISCRETE_POINTS[0]"
   ]
  },
  {
   "cell_type": "code",
   "execution_count": 39,
   "metadata": {},
   "outputs": [
    {
     "data": {
      "text/plain": [
       "0.019550342130987292"
      ]
     },
     "execution_count": 39,
     "metadata": {},
     "output_type": "execute_result"
    }
   ],
   "source": [
    "2*U_BOUND/(N_POINTS-1)"
   ]
  },
  {
   "cell_type": "code",
   "execution_count": 2,
   "metadata": {},
   "outputs": [],
   "source": [
    "# PLOT DATA\n",
    "def plot_figure(x_val, y_val, x_test=None, predicted=None, log_scale=False):\n",
    "    plt.clf()\n",
    "    plt.figure(figsize=(8, 6), dpi=80)\n",
    "    if log_scale==True:\n",
    "        plt.yscale('log')\n",
    "    plt.plot(x_val, y_val, '--', label='True data', alpha=0.5)\n",
    "    if predicted != None:\n",
    "        plt.plot(x_test, predicted, '--', label='Predictions', alpha=0.5)\n",
    "    plt.legend(loc='best')\n",
    "    plt.show()"
   ]
  },
  {
   "cell_type": "code",
   "execution_count": 3,
   "metadata": {},
   "outputs": [],
   "source": [
    "def epsilon_Loss(v_x, model_u, upper_bound, discrete_points):\n",
    "    \"\"\"\n",
    "    GOAL: Epsilon function evaluated at u using discretized estimation\n",
    "    minimizing Epsilon(u) = \n",
    "    \n",
    "    ARGS: \n",
    "    n_points (int): number of discretized points on the interval [-L, L]\n",
    "    e.g.: -(L)|---|---|---|---|(L) interval has n_points = 5\n",
    "\n",
    "    v_x (torch.Tensor): function instance\n",
    "    model_u (torch.Tensor): model output\n",
    "    \"\"\"\n",
    "    total = 0\n",
    "    h = (2*upper_bound)/(len(discrete_points)-1)\n",
    "    for i in discrete_points:\n",
    "        x_i = torch.tensor([i], requires_grad=True, dtype=torch.float)\n",
    "        u_xi = model_u(x_i)\n",
    "\n",
    "        u_prime_x = model_u.u_prime(x_i)\n",
    "        \n",
    "        v_xi = v_x.forward(i)\n",
    "        if v_xi < 0:\n",
    "            raise ValueError('Potential Function value is < 0')\n",
    "        t = torch.abs(torch.square(u_prime_x)) + v_xi*torch.square(u_xi)\n",
    "\n",
    "        total += t\n",
    "    return h*total\n",
    "\n",
    "def epsilon_Loss_penalty(v_x, model_u, lambda_pen,\n",
    "                         upper_bound, discrete_points):\n",
    "    \"\"\"\n",
    "    \n",
    "    \"\"\"\n",
    "    eps_sum = 0\n",
    "    pen = 0\n",
    "    \n",
    "    h = (2*upper_bound)/(len(discrete_points)-1)\n",
    "    for i in discrete_points:\n",
    "        x_i = torch.tensor([i], requires_grad=True, dtype=torch.float)\n",
    "        u_prime = model_u.u_prime(x_i)\n",
    "        \n",
    "        v_xi = v_x.forward(i)\n",
    "        if v_xi < 0:\n",
    "            raise ValueError('Potential Function value is < 0')\n",
    "        u_xi = model_u(x_i)\n",
    "        u_xi_square = torch.square(u_xi)\n",
    "\n",
    "        t = torch.abs(torch.square(u_prime)) + v_xi*u_xi_square\n",
    "        eps_sum += t\n",
    "        \n",
    "        pen+= u_xi_square\n",
    "        \n",
    "    epsilon_fn = h*eps_sum\n",
    "    \n",
    "    penalty = lambda_pen * torch.square(h*pen-1)\n",
    "#     print(\"epsilon_fn value = \" + str(epsilon_fn))\n",
    "#     print(\"penalty value = \" + str(penalty))\n",
    "    return (epsilon_fn, epsilon_fn + penalty)"
   ]
  },
  {
   "cell_type": "code",
   "execution_count": 4,
   "metadata": {},
   "outputs": [
    {
     "ename": "NameError",
     "evalue": "name 'p_fn' is not defined",
     "output_type": "error",
     "traceback": [
      "\u001b[0;31m---------------------------------------------------------------------------\u001b[0m",
      "\u001b[0;31mNameError\u001b[0m                                 Traceback (most recent call last)",
      "\u001b[0;32m<ipython-input-4-892d7e880c9a>\u001b[0m in \u001b[0;36m<module>\u001b[0;34m\u001b[0m\n\u001b[0;32m----> 1\u001b[0;31m \u001b[0ma\u001b[0m \u001b[0;34m=\u001b[0m \u001b[0mepsilon_Loss\u001b[0m\u001b[0;34m(\u001b[0m\u001b[0mp_fn\u001b[0m\u001b[0;34m,\u001b[0m \u001b[0mmodel_32\u001b[0m\u001b[0;34m,\u001b[0m \u001b[0mU_BOUND\u001b[0m\u001b[0;34m,\u001b[0m \u001b[0mDISCRETE_POINTS\u001b[0m\u001b[0;34m[\u001b[0m\u001b[0;36m0\u001b[0m\u001b[0;34m:\u001b[0m\u001b[0;36m90\u001b[0m\u001b[0;34m]\u001b[0m\u001b[0;34m)\u001b[0m\u001b[0;34m\u001b[0m\u001b[0;34m\u001b[0m\u001b[0m\n\u001b[0m\u001b[1;32m      2\u001b[0m \u001b[0mprint\u001b[0m\u001b[0;34m(\u001b[0m\u001b[0ma\u001b[0m\u001b[0;34m)\u001b[0m\u001b[0;34m\u001b[0m\u001b[0;34m\u001b[0m\u001b[0m\n\u001b[1;32m      3\u001b[0m \u001b[0ma2\u001b[0m\u001b[0;34m,\u001b[0m \u001b[0mb2\u001b[0m \u001b[0;34m=\u001b[0m \u001b[0mepsilon_Loss_penalty\u001b[0m\u001b[0;34m(\u001b[0m\u001b[0mp_fn\u001b[0m\u001b[0;34m,\u001b[0m \u001b[0mmodel_32\u001b[0m\u001b[0;34m,\u001b[0m \u001b[0mLAMBDA_PEN\u001b[0m\u001b[0;34m,\u001b[0m \u001b[0mU_BOUND\u001b[0m\u001b[0;34m,\u001b[0m \u001b[0mDISCRETE_POINTS\u001b[0m\u001b[0;34m[\u001b[0m\u001b[0;36m0\u001b[0m\u001b[0;34m:\u001b[0m\u001b[0;36m90\u001b[0m\u001b[0;34m]\u001b[0m\u001b[0;34m)\u001b[0m\u001b[0;34m\u001b[0m\u001b[0;34m\u001b[0m\u001b[0m\n\u001b[1;32m      4\u001b[0m \u001b[0mprint\u001b[0m\u001b[0;34m(\u001b[0m\u001b[0ma2\u001b[0m\u001b[0;34m)\u001b[0m\u001b[0;34m\u001b[0m\u001b[0;34m\u001b[0m\u001b[0m\n",
      "\u001b[0;31mNameError\u001b[0m: name 'p_fn' is not defined"
     ]
    }
   ],
   "source": [
    "a = epsilon_Loss(p_fn, model_32, U_BOUND, DISCRETE_POINTS[0:90])\n",
    "print(a)\n",
    "a2, b2 = epsilon_Loss_penalty(p_fn, model_32, LAMBDA_PEN, U_BOUND, DISCRETE_POINTS[0:90])\n",
    "print(a2)"
   ]
  },
  {
   "cell_type": "code",
   "execution_count": 99,
   "metadata": {},
   "outputs": [
    {
     "name": "stdout",
     "output_type": "stream",
     "text": [
      "Time 0.021136999130249023\n"
     ]
    }
   ],
   "source": [
    "start1 = time.time()\n",
    "epsilon_Loss_penalty(p_fn, model_32, LAMBDA_PEN, U_BOUND, np.random.choice(DISCRETE_POINTS, size=32))\n",
    "end1 = time.time()\n",
    "time1 = end1-start1\n",
    "print(\"Time \" + str(time1))"
   ]
  },
  {
   "cell_type": "code",
   "execution_count": 8,
   "metadata": {},
   "outputs": [],
   "source": [
    "# CREATING MODEL CLASS\n",
    "class Nonlinear(nn.Module):\n",
    "    def __init__(self, n):\n",
    "        # One hidden layer with n nodes\n",
    "        super().__init__()\n",
    "        self.hidden = nn.Linear(1, n)\n",
    "        self.output = nn.Linear(n, 1)\n",
    "        \n",
    "        self.sigmoid = nn.Sigmoid()\n",
    "        self.tanh = nn.Tanh()\n",
    "\n",
    "    def forward(self, x, use_tanh_fn = False):\n",
    "        if use_tanh_fn == True:\n",
    "            x = self.hidden(x)\n",
    "            x = self.tanh(x)\n",
    "            x = self.output(x)\n",
    "        else:\n",
    "            x = self.hidden(x)\n",
    "            x = self.sigmoid(x)\n",
    "            x = self.output(x)\n",
    "        return x\n",
    "\n",
    "    def normalize_model(self, discrete_points):\n",
    "        \"\"\"\n",
    "        GOAL: Normalize the output weight layer\n",
    "        model.output *= c\n",
    "        where,\n",
    "        scalar c = 1/denom\n",
    "        \"\"\"\n",
    "        \n",
    "        h = discrete_points[1] - discrete_points[0]\n",
    "        s = 0\n",
    "        for i in discrete_points:\n",
    "            x_i = torch.tensor([i], requires_grad=True, dtype=torch.float)\n",
    "            s += self(x_i)**2\n",
    "        denom = math.sqrt(h) * torch.sqrt(s)\n",
    "        c = 1/denom\n",
    "\n",
    "        print(\"Before normalization: \")\n",
    "        print(self.output.weight.data)\n",
    "        print(self.output.bias.data)\n",
    "        \n",
    "        self.output.weight.data.copy_(c.item() * self.output.weight.data)\n",
    "        self.output.bias.data.copy_(c.item() * self.output.bias.data)\n",
    "\n",
    "        print(\"After normalization: \")\n",
    "        print(self.output.weight.data)\n",
    "        print(self.output.bias.data)\n",
    "        print(\"c value = \" + str(c))\n",
    "\n",
    "        return \n",
    "\n",
    "    def u_prime(self, x_in):\n",
    "        y = self(x_in)\n",
    "        y_prime = torch.autograd.grad(y.sum(), x_in, create_graph=True)\n",
    "        return y_prime[0]\n",
    "    \n",
    "    # TRANING MODEL\n",
    "    def train_network_with_penalty(self, \n",
    "                                   num_epochs, \n",
    "                                   v_x, \n",
    "                                   optimizer, \n",
    "                                   lambda_pen, \n",
    "                                   discrete_points,\n",
    "                                   mini_batch=True,\n",
    "                                   batch_size=32):\n",
    "        # For plotting loss value over epochs:\n",
    "        x_epochs = []\n",
    "        y_loss = []\n",
    "        y_loss_pen = []\n",
    "        \n",
    "        m = len(discrete_points)\n",
    "        num_batches = int(m/batch_size)\n",
    "\n",
    "        for epoch in range(num_epochs):\n",
    "            \n",
    "            if mini_batch == True:\n",
    "                perm = torch.randperm(m)\n",
    "                avg_loss_pen = 0\n",
    "                avg_loss = 0\n",
    "                \n",
    "#                 start1 = time.time()\n",
    "                for i in range(0, m, batch_size):\n",
    "                    optimizer.zero_grad()\n",
    "                    \n",
    "                    indices = perm[i: i+batch_size]\n",
    "                    \n",
    "#                     start2 = time.time()\n",
    "                    loss_values = epsilon_Loss_penalty(v_x, self, lambda_pen,\n",
    "                                                    U_BOUND, \n",
    "                                                    discrete_points[indices])\n",
    "#                     if i == 0:\n",
    "#                         end2 = time.time()\n",
    "#                         time2 = end2-start2\n",
    "#                         print(\"One loss calculation takes \" + str(time2))\n",
    "                        \n",
    "                    loss = loss_values[0]\n",
    "                    loss_pen = loss_values[1]\n",
    "                    \n",
    "                    avg_loss_pen += loss_pen.item()\n",
    "                    avg_loss += loss.item()\n",
    "                    \n",
    "                    loss_pen.backward()\n",
    "                    optimizer.step()\n",
    "                \n",
    "                avg_loss_pen = avg_loss_pen/num_batches\n",
    "                avg_loss = avg_loss/num_batches\n",
    "                \n",
    "                y_loss_pen.append(avg_loss_pen)\n",
    "                y_loss.append(avg_loss)\n",
    "                x_epochs.append(epoch)\n",
    "                \n",
    "                if epoch % 100 == 0 or epoch < 30:\n",
    "                    print('epoch {}, loss with penalty {}'.format(epoch, avg_loss_pen))\n",
    "                \n",
    "#                 if epoch == 0:\n",
    "#                     end1 = time.time()\n",
    "#                     time1 = end1-start1\n",
    "#                     print(\"One epoch takes \" + str(time1))\n",
    "\n",
    "            else:\n",
    "                optimizer.zero_grad()\n",
    "                loss_values = epsilon_Loss_penalty(v_x, self, lambda_pen,\n",
    "                                            U_BOUND, discrete_points)\n",
    "                \n",
    "                loss = loss_values[0]\n",
    "                loss_pen = loss_values[1]\n",
    "\n",
    "                y_loss_pen.append(loss_pen.detach().numpy().item())\n",
    "                y_loss.append(loss.detach().numpy().item())\n",
    "                x_epochs.append(epoch)\n",
    "        \n",
    "                if epoch % 100 == 0 or epoch < 30:\n",
    "                    print('epoch {}, loss with penalty {}'.format(epoch, loss_pen.item()))\n",
    "                loss_pen.backward()\n",
    "                optimizer.step()\n",
    "\n",
    "        print('Please normalize after training')\n",
    "        return (x_epochs, y_loss_pen, y_loss)"
   ]
  },
  {
   "cell_type": "code",
   "execution_count": 31,
   "metadata": {
    "jupyter": {
     "source_hidden": true
    }
   },
   "outputs": [],
   "source": [
    "# For potential function\n",
    "ti_list = np.random.normal(loc=0, scale=1.0, size= M_POINTS)\n",
    "ci_list = [(U_BOUND/(i * math.pi))**ALPHA for i in range(1, M_POINTS+1)]\n",
    "\n",
    "\n",
    "def potential_func_iterative(x, t_list, c_list, M_points=M_POINTS, L_endpoint=U_BOUND, c_0=50):\n",
    "    f_value = 0\n",
    "    summation = 0\n",
    "    #Iterative method:\n",
    "\n",
    "    for i in range(1, M_points+1):\n",
    "        cos_val = np.cos((i * math.pi * x)/L_endpoint)\n",
    "        summation += t_list[i-1] * c_list[i-1] * cos_val\n",
    "\n",
    "    f_value += summation\n",
    "    f_value += c_0\n",
    "\n",
    "    return f_value\n",
    "\n",
    "\n",
    "def potential_func_linalg(x, M_points=20, L_endpoint=U_BOUND, alpha=3, c_0=100):    \n",
    "    # Linear Algebra method:\n",
    "    t_i = np.random.normal(0, 1, size=N_points)\n",
    "    \n",
    "    iter1 = ((math.pi/(i*L_endpoint))**alpha for i in range(1, M_points+1))\n",
    "    c_i = np.fromiter(iter1, float)\n",
    "    a = np.multiply(t_i, c_i)\n",
    "\n",
    "    iter2 = (i for i in range(1, M_points+1))\n",
    "    v = np.fromiter(iter2, float)\n",
    "    s = (L_endpoint*x/math.pi)*v\n",
    "    cos_s = np.cos(s)\n",
    "    \n",
    "    res_vector = np.multiply(a, cos_s)\n",
    "    return np.sum(res_vector) + c_0"
   ]
  },
  {
   "cell_type": "code",
   "execution_count": 109,
   "metadata": {},
   "outputs": [
    {
     "data": {
      "text/plain": [
       "[10.13211836423378,\n",
       " 2.533029591058445,\n",
       " 1.1257909293593085,\n",
       " 0.6332573977646112,\n",
       " 0.40528473456935116]"
      ]
     },
     "execution_count": 109,
     "metadata": {},
     "output_type": "execute_result"
    }
   ],
   "source": [
    "p_fn.ci_list"
   ]
  },
  {
   "cell_type": "code",
   "execution_count": 9,
   "metadata": {},
   "outputs": [],
   "source": [
    "class Potential_Function:\n",
    "    def __init__(self, c_0=0,\n",
    "                 M_points=M_POINTS,\n",
    "                 L_endpoint=U_BOUND, \n",
    "                 alpha=ALPHA, \n",
    "                 rescale=1):\n",
    "        self.M_points = M_points\n",
    "        self.L_endpoint = L_endpoint\n",
    "        self.alpha = alpha\n",
    "        self.c_0 = c_0\n",
    "        self.rescale = 1\n",
    "        \n",
    "        self.ti_list = np.random.normal(loc=0, scale=1.0, size= self.M_points)\n",
    "        self.ci_list = [(self.L_endpoint/(i * math.pi))**self.alpha for i in range(1, self.M_points+1)]\n",
    "        \n",
    "    def forward(self, x):\n",
    "        f_value = 0\n",
    "        summation = 0\n",
    "        #Iterative method:\n",
    "\n",
    "        for i in range(1, self.M_points+1):\n",
    "            cos_val = np.cos((i * math.pi * x)/self.L_endpoint)\n",
    "            summation += self.ti_list[i-1] * self.ci_list[i-1] * cos_val\n",
    "\n",
    "        f_value += summation\n",
    "        f_value += self.c_0\n",
    "        return self.rescale * f_value\n",
    "    \n",
    "    def set_c0_value(self, val):\n",
    "        self.c_0 = val\n",
    "        return\n",
    "    \n",
    "    def set_rescale_factor(self, val):\n",
    "        self.rescale = val\n",
    "        return \n",
    "    \n",
    "    def plot_function(self, discrete_points):\n",
    "        y_values = [self.forward(i) for i in discrete_points]\n",
    "        plt.plot(discrete_points, y_values)\n",
    "    \n",
    "    def update_potential_fn(self, discrete_points):\n",
    "        # (1) Check lowest value to set appropriate c_0 value:\n",
    "        y_values = [self.forward(i) for i in discrete_points]\n",
    "        min_val = min(y_values)\n",
    "        print(\"Original min val = \" + str(min_val))\n",
    "        # plt.plot(DISCRETE_POINTS, y_values)\n",
    "\n",
    "        # (1) Set c_0 value s.t. every value in y_values is > 0: \n",
    "        if min_val < 0:\n",
    "            c_0 = math.ceil(abs(min_val))\n",
    "            self.set_c0_value(c_0)\n",
    "            new_y = [self.forward(i) for i in discrete_points]\n",
    "            print(\"Min val with c_0 updated = \" + str(min(new_y)))\n",
    "        # plt.plot(DISCRETE_POINTS, new_y)\n",
    "\n",
    "        # (2) Rescale potential function s.t. every value lies between 0 and 5:\n",
    "        max_v = max(new_y)\n",
    "#         min_v = min(new_y)\n",
    "#         print(max_v, min_v)\n",
    "#         max_min = max_v-min_v\n",
    "\n",
    "#         rescaled_y = [(i-min_v)/(max_min) for i in new_y]\n",
    "#         plt.plot(DISCRETE_POINTS, rescaled_y)\n",
    "\n",
    "        c = 5/max_v\n",
    "        self.set_rescale_factor(c)\n",
    "        return"
   ]
  },
  {
   "cell_type": "code",
   "execution_count": 10,
   "metadata": {},
   "outputs": [],
   "source": [
    "def model_on_interval(nn_model, discrete_points):\n",
    "    x_vals = [torch.tensor([i], requires_grad=True, dtype=torch.float) for i in discrete_points]\n",
    "\n",
    "    model_output = []\n",
    "    for i in x_vals:\n",
    "        model_output.append(nn_model(i).detach().numpy().item())\n",
    "    return model_output"
   ]
  },
  {
   "cell_type": "code",
   "execution_count": 57,
   "metadata": {},
   "outputs": [
    {
     "name": "stdout",
     "output_type": "stream",
     "text": [
      "0.018739938735961914\n",
      "0.017675161361694336\n"
     ]
    }
   ],
   "source": [
    "t_f = Potential_Function(c_0=50)\n",
    "start = time.time()\n",
    "r1 = [potential_func_iterative(i, t_list=ti_list, c_list=ci_list) for i in DISCRETE_POINTS]\n",
    "end = time.time()\n",
    "time1 = end-start\n",
    "# print(r1)\n",
    "print(time1)\n",
    "\n",
    "start = time.time()\n",
    "r2 = [t_f.forward(i) for i in DISCRETE_POINTS]\n",
    "end = time.time()\n",
    "time2 = end-start\n",
    "# print(r2)\n",
    "print(time2)"
   ]
  },
  {
   "cell_type": "code",
   "execution_count": null,
   "metadata": {},
   "outputs": [],
   "source": [
    "start = time.time()\n",
    "res1 = 10**2\n",
    "end = time.time()\n",
    "time1 = end-start\n",
    "print(time1)\n",
    "\n",
    "start = time.time()\n",
    "res2 = potential_func_iterative(10)\n",
    "end = time.time()\n",
    "time2 = end-start\n",
    "print(time2)"
   ]
  },
  {
   "cell_type": "code",
   "execution_count": 11,
   "metadata": {},
   "outputs": [],
   "source": [
    "learningRate = 0.01\n",
    "\n",
    "#INIT MODEL\n",
    "model_32 = Nonlinear(20)\n",
    "model_64 = Nonlinear(20)\n",
    "model_128 = Nonlinear(20)\n",
    "if torch.cuda.is_available():\n",
    "    model_32.cuda()\n",
    "    model_64.cuda()\n",
    "\n",
    "# INIT OPTIMIZER CLASS\n",
    "# SGD:\n",
    "# sgd_optimizer = torch.optim.SGD(model_32.parameters(), \n",
    "#                                 lr=learningRate, \n",
    "#                                 momentum=0.9)\n",
    "\n",
    "# Adam:\n",
    "adam_optimizer = torch.optim.Adam(model_32.parameters(), \n",
    "                                    lr=learningRate, \n",
    "                                    betas=(0.9, 0.999), \n",
    "                                    eps=1e-08, \n",
    "                                    weight_decay=0, \n",
    "                                    amsgrad=False)\n",
    "\n",
    "adam_optimizer_2 = torch.optim.Adam(model_64.parameters(), \n",
    "                                    lr=learningRate, \n",
    "                                    betas=(0.9, 0.999), \n",
    "                                    eps=1e-08, \n",
    "                                    weight_decay=0, \n",
    "                                    amsgrad=False)\n",
    "\n",
    "adam_optimizer_3 = torch.optim.Adam(model_128.parameters(), \n",
    "                                    lr=learningRate, \n",
    "                                    betas=(0.9, 0.999), \n",
    "                                    eps=1e-08, \n",
    "                                    weight_decay=0, \n",
    "                                    amsgrad=False)\n"
   ]
  },
  {
   "cell_type": "code",
   "execution_count": 83,
   "metadata": {},
   "outputs": [],
   "source": [
    "del adam_optimizer\n",
    "del adam_optimizer_2\n",
    "del adam_optimizer_3\n",
    "\n",
    "del model_32\n",
    "del model_64\n",
    "del model_128"
   ]
  },
  {
   "cell_type": "code",
   "execution_count": 12,
   "metadata": {},
   "outputs": [
    {
     "data": {
      "image/png": "[encoded data removed]",
      "text/plain": [
       "<Figure size 432x288 with 1 Axes>"
      ]
     },
     "metadata": {
      "needs_background": "light"
     },
     "output_type": "display_data"
    }
   ],
   "source": [
    "# Init. potential function instance\n",
    "p_fn = Potential_Function()\n",
    "p_fn.plot_function(DISCRETE_POINTS)"
   ]
  },
  {
   "cell_type": "code",
   "execution_count": 13,
   "metadata": {},
   "outputs": [
    {
     "name": "stdout",
     "output_type": "stream",
     "text": [
      "Original min val = -5.7202542409386075\n",
      "Min val with c_0 updated = 0.27974575906139254\n"
     ]
    },
    {
     "data": {
      "image/png": "[encoded data removed]",
      "text/plain": [
       "<Figure size 432x288 with 1 Axes>"
      ]
     },
     "metadata": {
      "needs_background": "light"
     },
     "output_type": "display_data"
    }
   ],
   "source": [
    "p_fn.update_potential_fn(DISCRETE_POINTS)\n",
    "p_fn.plot_function(DISCRETE_POINTS)"
   ]
  },
  {
   "cell_type": "code",
   "execution_count": null,
   "metadata": {
    "jupyter": {
     "source_hidden": true
    }
   },
   "outputs": [],
   "source": [
    "# Check lowest value to set appropriate c_0 value:\n",
    "y_values = [p_fn.forward(i) for i in DISCRETE_POINTS]\n",
    "min_val = min(y_values)\n",
    "print(\"Original min val = \" + str(min_val))\n",
    "# plt.plot(DISCRETE_POINTS, y_values)\n",
    "\n",
    "# Set c_0 value s.t. every value in y_values is > 0: \n",
    "c_0 = math.ceil(abs(min_val))\n",
    "p_fn.set_c0_value(c_0)\n",
    "new_y = [p_fn.forward(i) for i in DISCRETE_POINTS]\n",
    "\n",
    "# plt.plot(DISCRETE_POINTS, new_y)\n",
    "\n",
    "# Rescale potential function s.t. every value lies between 0 and 5:\n",
    "max_v = max(new_y)\n",
    "min_v = min(new_y)\n",
    "print(max_v, min_v)\n",
    "max_min = max_v-min_v\n",
    "\n",
    "rescaled_y = [(i-min_v)/(max_min) for i in new_y]\n",
    "plt.plot(DISCRETE_POINTS, rescaled_y)"
   ]
  },
  {
   "cell_type": "code",
   "execution_count": 14,
   "metadata": {},
   "outputs": [],
   "source": [
    "model_res_32 = None\n",
    "model_res_64 = None\n",
    "model_res_128 = None"
   ]
  },
  {
   "cell_type": "code",
   "execution_count": 15,
   "metadata": {},
   "outputs": [],
   "source": [
    "### TRAIN MODEL HERE ###\n",
    "def run_training(nn_model, p_fn, optimizer, b_size, mini_batch=True):\n",
    "    \n",
    "    now = datetime.datetime.now(tz=timezone('US/Eastern'))\n",
    "    print((\"Start time for batch_size = {a} is \" + str(now)).format(a=b_size))\n",
    "    start = time.time()\n",
    "    \n",
    "    model_res = nn_model.train_network_with_penalty(NUM_EPOCHS, \n",
    "                                                p_fn, \n",
    "                                                optimizer, \n",
    "                                                LAMBDA_PEN, \n",
    "                                                DISCRETE_POINTS, \n",
    "                                                mini_batch=True, \n",
    "                                                batch_size=b_size)\n",
    "    end = time.time()\n",
    "    time1 = end-start\n",
    "    print(\"Using potential function defined as class takes \" + str(time1))\n",
    "    return model_res"
   ]
  },
  {
   "cell_type": "code",
   "execution_count": null,
   "metadata": {},
   "outputs": [
    {
     "name": "stdout",
     "output_type": "stream",
     "text": [
      "Start time for batch_size = 64 is 2022-07-31 16:36:03.842937-04:00\n",
      "epoch 0, loss with penalty 68.47725512087345\n",
      "epoch 1, loss with penalty 63.52377277612686\n",
      "epoch 2, loss with penalty 70.78132757544518\n",
      "epoch 3, loss with penalty 63.52163690328598\n",
      "epoch 4, loss with penalty 35.13367208838463\n",
      "epoch 5, loss with penalty 10.749906674027443\n",
      "epoch 6, loss with penalty 13.855276852846146\n",
      "epoch 7, loss with penalty 15.509269133210182\n",
      "epoch 8, loss with penalty 28.612103193998337\n",
      "epoch 9, loss with penalty 21.047259733080864\n",
      "epoch 10, loss with penalty 24.08963619172573\n",
      "epoch 11, loss with penalty 11.148046970367432\n",
      "epoch 12, loss with penalty 11.756711065769196\n",
      "epoch 13, loss with penalty 14.53173378109932\n",
      "epoch 14, loss with penalty 10.13515755534172\n",
      "epoch 15, loss with penalty 17.72176270186901\n",
      "epoch 16, loss with penalty 13.776217743754387\n",
      "epoch 17, loss with penalty 20.426136761903763\n",
      "epoch 18, loss with penalty 73.30837869644165\n",
      "epoch 19, loss with penalty 43.571480229496956\n",
      "epoch 20, loss with penalty 15.253622189164162\n",
      "epoch 21, loss with penalty 17.295936167240143\n",
      "epoch 22, loss with penalty 7.552309215068817\n",
      "epoch 23, loss with penalty 7.832090854644775\n",
      "epoch 24, loss with penalty 8.622033387422562\n",
      "epoch 25, loss with penalty 5.789656862616539\n",
      "epoch 26, loss with penalty 11.284374102950096\n",
      "epoch 27, loss with penalty 15.448057532310486\n",
      "epoch 28, loss with penalty 32.4611956179142\n",
      "epoch 29, loss with penalty 9.071101352572441\n",
      "epoch 100, loss with penalty 27.235402554273605\n",
      "epoch 200, loss with penalty 19.079979926347733\n",
      "epoch 300, loss with penalty 2.7891481518745422\n",
      "epoch 400, loss with penalty 3.041219040751457\n",
      "epoch 500, loss with penalty 2.4070003926754\n",
      "epoch 600, loss with penalty 2.814865544438362\n",
      "epoch 700, loss with penalty 2.470929116010666\n"
     ]
    }
   ],
   "source": [
    "model_res_64 = run_training(model_64, p_fn, adam_optimizer_2, b_size=64)"
   ]
  },
  {
   "cell_type": "code",
   "execution_count": 89,
   "metadata": {},
   "outputs": [
    {
     "name": "stdout",
     "output_type": "stream",
     "text": [
      "Before normalization: \n",
      "tensor([[ 0.1766,  0.1740,  0.1770,  0.1778,  0.1792,  0.1782,  0.1765,  0.1742,\n",
      "          0.1760,  0.1782,  0.1756,  0.1760,  0.1756,  0.1762,  0.1750,  0.1748,\n",
      "          0.1769,  0.1759, -0.9022, -0.8415]])\n",
      "tensor([0.2168])\n",
      "After normalization: \n",
      "tensor([[ 0.1821,  0.1794,  0.1826,  0.1834,  0.1848,  0.1838,  0.1820,  0.1797,\n",
      "          0.1815,  0.1838,  0.1811,  0.1815,  0.1810,  0.1817,  0.1805,  0.1802,\n",
      "          0.1824,  0.1814, -0.9304, -0.8678]])\n",
      "tensor([0.2235])\n",
      "c value = tensor([1.0312], grad_fn=<MulBackward0>)\n"
     ]
    }
   ],
   "source": [
    "model_64.normalize_model(DISCRETE_POINTS)"
   ]
  },
  {
   "cell_type": "code",
   "execution_count": 90,
   "metadata": {},
   "outputs": [
    {
     "data": {
      "text/plain": [
       "<Figure size 432x288 with 0 Axes>"
      ]
     },
     "metadata": {},
     "output_type": "display_data"
    },
    {
     "data": {
      "image/png": "[encoded data removed]",
      "text/plain": [
       "<Figure size 640x480 with 1 Axes>"
      ]
     },
     "metadata": {
      "needs_background": "light"
     },
     "output_type": "display_data"
    }
   ],
   "source": [
    "plot_figure(model_res_64[0], (model_res_64[2]))"
   ]
  },
  {
   "cell_type": "code",
   "execution_count": 91,
   "metadata": {},
   "outputs": [
    {
     "data": {
      "text/plain": [
       "<Figure size 432x288 with 0 Axes>"
      ]
     },
     "metadata": {},
     "output_type": "display_data"
    },
    {
     "data": {
      "image/png": "[encoded data removed]",
      "text/plain": [
       "<Figure size 640x480 with 1 Axes>"
      ]
     },
     "metadata": {
      "needs_background": "light"
     },
     "output_type": "display_data"
    }
   ],
   "source": [
    "x_values = np.linspace(L_BOUND, U_BOUND, N_POINTS)\n",
    "x_vals = [torch.tensor([i], requires_grad=True, dtype=torch.float) for i in np.linspace(L_BOUND, U_BOUND, N_POINTS)]\n",
    "\n",
    "model_output = model_on_interval(model_64, DISCRETE_POINTS)\n",
    "\n",
    "plot_figure(x_values, model_output)\n",
    "# plot_figure(x_values, model_output)"
   ]
  },
  {
   "cell_type": "markdown",
   "metadata": {},
   "source": [
    "## The Finite Difference Method ##"
   ]
  },
  {
   "cell_type": "code",
   "execution_count": 92,
   "metadata": {},
   "outputs": [],
   "source": [
    "def fd_method_2(lower_bound, upper_bound, N_points, given_fn):\n",
    "    discrete_points = np.linspace(lower_bound, upper_bound, N_points)\n",
    "    h = discrete_points[1]-discrete_points[0]\n",
    "    c = np.sqrt(1/h)\n",
    "    H = np.zeros((N_points-2,N_points-2))\n",
    "    # Question: Why H has dimension (N-2) x (N-2)?\n",
    "    V = np.zeros((N_points-2,N_points-2))\n",
    "    \n",
    "    for i in range (N_points-2):\n",
    "        for j in range (N_points-2):\n",
    "            if i == j:\n",
    "                H[i][j] = -2\n",
    "            elif abs(i-j) == 1:\n",
    "                H[i][j] = 1\n",
    "                \n",
    "    for i in range (N_points-2):\n",
    "        for j in range (N_points-2):\n",
    "            if i == j:\n",
    "                V[i][j] = given_fn.forward(discrete_points[i])\n",
    "                \n",
    "    A = -H/(h**2) + V\n",
    "    \n",
    "    eig_val, eig_vec = np.linalg.eig(A)\n",
    "    sorted_id_eig_val = np.argsort(eig_val)\n",
    "    # Get the indices that would sort eig_val\n",
    "    z = sorted_id_eig_val[0:1] # Bc. eig_val first 4 value is in ascending order, \n",
    "    # eig_val[z] will return sorted first [T] value of eigenvalues.\n",
    "    energies = eig_val[z]/eig_val[z][0]\n",
    "\n",
    "    ground_state = c * eig_vec[:,z[0]]\n",
    "\n",
    "    return (eig_val[z], ground_state)"
   ]
  },
  {
   "cell_type": "code",
   "execution_count": 93,
   "metadata": {},
   "outputs": [],
   "source": [
    "def finite_diff_method(lower_bound, upper_bound, N_points, given_fn):\n",
    "    discrete_points = np.linspace(lower_bound, upper_bound, N_points)\n",
    "    h = discrete_points[1]-discrete_points[0]\n",
    "    c = np.sqrt(1/h)\n",
    "\n",
    "    H = np.zeros((N_points,N_points))\n",
    "    # Question: Why H has dimension (N-2) x (N-2)?\n",
    "    V = np.zeros((N_points,N_points))\n",
    "\n",
    "    for i in range (N_points):\n",
    "        for j in range (N_points):\n",
    "            if i == j:\n",
    "                H[i][j] = -2\n",
    "            elif abs(i-j) == 1:\n",
    "                H[i][j] = 1\n",
    "    for i in range (N_points):\n",
    "        for j in range (N_points):\n",
    "            if i == j:\n",
    "                V[i][j] = given_fn.forward(discrete_points[i])\n",
    "\n",
    "    A = -H/(h**2) + V\n",
    "    \n",
    "    eig_val, eig_vec = np.linalg.eig(A)\n",
    "    sorted_id_eig_val = np.argsort(eig_val)\n",
    "    # Get the indices that would sort eig_val\n",
    "    z = sorted_id_eig_val[0:1] # Bc. eig_val first 4 value is in ascending order, \n",
    "    # eig_val[z] will return sorted first [T] value of eigenvalues.\n",
    "    energies = eig_val[z]/eig_val[z][0]\n",
    "\n",
    "    ground_state = c * eig_vec[:,z[0]]\n",
    "\n",
    "    return (eig_val[z], ground_state)"
   ]
  },
  {
   "cell_type": "code",
   "execution_count": 94,
   "metadata": {},
   "outputs": [],
   "source": [
    "def plot_finite_diff_sol(eig_val, ground_state, discrete_points, nn_model):\n",
    "    plt.figure(figsize=(12,10))\n",
    "    for i in range(len(eig_val)):\n",
    "        y = []\n",
    "        y = np.append(y, (-1) * ground_state)\n",
    "\n",
    "        plt.plot(discrete_points,y,lw=3, label=\"{} \".format(i))\n",
    "        plt.xlabel('x', size=14)\n",
    "        plt.ylabel('$\\psi$(x)',size=14)\n",
    "    model_output = model_on_interval(nn_model, DISCRETE_POINTS)\n",
    "    plt.plot(discrete_points, model_output)\n",
    "    plt.legend()\n",
    "    plt.title('normalized wavefunctions for a harmonic oscillator using finite difference method',size=14)\n",
    "    plt.show()\n",
    "    return"
   ]
  },
  {
   "cell_type": "code",
   "execution_count": 95,
   "metadata": {},
   "outputs": [
    {
     "name": "stdout",
     "output_type": "stream",
     "text": [
      "[0.73244689]\n",
      "[0.73244689]\n"
     ]
    }
   ],
   "source": [
    "fd_res = finite_diff_method(L_BOUND, U_BOUND, N_POINTS, p_fn)\n",
    "fd_res2 = fd_method_2(L_BOUND, U_BOUND, N_POINTS, p_fn)\n",
    "print(fd_res[0])\n",
    "print(fd_res2[0])"
   ]
  },
  {
   "cell_type": "code",
   "execution_count": 96,
   "metadata": {},
   "outputs": [
    {
     "name": "stdout",
     "output_type": "stream",
     "text": [
      "The FD method eigenvalue: 0.7324468943243119\n",
      "The NN method loss value: 3.1498360633850098\n"
     ]
    }
   ],
   "source": [
    "loss_val = epsilon_Loss(p_fn, model_64, U_BOUND, DISCRETE_POINTS)\n",
    "print(\"The FD method eigenvalue: \" + str(fd_res[0][0]))\n",
    "print(\"The NN method loss value: \" + str(loss_val.item()))"
   ]
  },
  {
   "cell_type": "code",
   "execution_count": 97,
   "metadata": {},
   "outputs": [
    {
     "data": {
      "image/png": "[encoded data removed]",
      "text/plain": [
       "<Figure size 864x720 with 1 Axes>"
      ]
     },
     "metadata": {
      "needs_background": "light"
     },
     "output_type": "display_data"
    }
   ],
   "source": [
    "plot_finite_diff_sol(fd_res[0], fd_res[1], DISCRETE_POINTS, model_64)"
   ]
  },
  {
   "cell_type": "code",
   "execution_count": null,
   "metadata": {},
   "outputs": [],
   "source": []
  }
 ],
 "metadata": {
  "kernelspec": {
   "display_name": "Python 3",
   "language": "python",
   "name": "python3"
  },
  "language_info": {
   "codemirror_mode": {
    "name": "ipython",
    "version": 3
   },
   "file_extension": ".py",
   "mimetype": "text/x-python",
   "name": "python",
   "nbconvert_exporter": "python",
   "pygments_lexer": "ipython3",
   "version": "3.7.7"
  }
 },
 "nbformat": 4,
 "nbformat_minor": 4
}
