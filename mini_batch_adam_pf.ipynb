{
 "cells": [
  {
   "cell_type": "code",
   "execution_count": 37,
   "metadata": {},
   "outputs": [],
   "source": [
    "import time\n",
    "import numpy as np\n",
    "import copy\n",
    "import torch\n",
    "import torch.nn as nn\n",
    "import math\n",
    "from torch.autograd import Variable\n",
    "import matplotlib.pyplot as plt\n",
    "\n",
    "LAMBDA_PEN = 1000\n",
    "L_BOUND = -10\n",
    "U_BOUND = 10\n",
    "N_POINTS = 512\n",
    "\n",
    "num_epochs = 20000\n",
    "\n",
    "M_POINTS = 5\n",
    "ALPHA = 2\n",
    "\n",
    "SELECTION_RATE = 0.1\n",
    "\n",
    "DISCRETE_POINTS = np.linspace(L_BOUND, U_BOUND, N_POINTS)"
   ]
  },
  {
   "cell_type": "code",
   "execution_count": 2,
   "metadata": {},
   "outputs": [],
   "source": [
    "# PLOT DATA\n",
    "def plot_figure(x_val, y_val, x_test=None, predicted=None, log_scale=False):\n",
    "    plt.clf()\n",
    "    plt.figure(figsize=(8, 6), dpi=80)\n",
    "    if log_scale==True:\n",
    "        plt.yscale('log')\n",
    "    plt.plot(x_val, y_val, '--', label='True data', alpha=0.5)\n",
    "    if predicted != None:\n",
    "        plt.plot(x_test, predicted, '--', label='Predictions', alpha=0.5)\n",
    "    plt.legend(loc='best')\n",
    "    plt.show()"
   ]
  },
  {
   "cell_type": "code",
   "execution_count": 3,
   "metadata": {},
   "outputs": [],
   "source": [
    "def epsilon_Loss(v_x, model_u, upper_bound, discrete_points):\n",
    "    \"\"\"\n",
    "    GOAL: Epsilon function evaluated at u using discretized estimation\n",
    "    minimizing Epsilon(u) = \n",
    "    \n",
    "    ARGS: \n",
    "    n_points (int): number of discretized points on the interval [-L, L]\n",
    "    e.g.: -(L)|---|---|---|---|(L) interval has n_points = 5\n",
    "\n",
    "    v_x (torch.Tensor): function instance\n",
    "    model_u (torch.Tensor): model output\n",
    "    \"\"\"\n",
    "    total = 0\n",
    "    h = (2*upper_bound)/(len(discrete_points)-1)\n",
    "    for i in discrete_points:\n",
    "        x_i = torch.tensor([i], requires_grad=True, dtype=torch.float)\n",
    "        u_xi = model_u(x_i)\n",
    "\n",
    "        u_prime_x = model_u.u_prime(x_i)\n",
    "        \n",
    "        v_xi = v_x.forward(i)\n",
    "        if v_xi < 0:\n",
    "            raise ValueError('Potential Function value is < 0')\n",
    "        t = torch.abs(torch.square(u_prime_x)) + v_xi*torch.square(u_xi)\n",
    "\n",
    "        total += t\n",
    "    return h*total\n",
    "\n",
    "def epsilon_Loss_penalty(v_x, model_u, lambda_pen,\n",
    "                         upper_bound, discrete_points):\n",
    "    \"\"\"\n",
    "    \n",
    "    \"\"\"\n",
    "    eps_sum = 0\n",
    "    pen = 0\n",
    "    \n",
    "    h = (2*upper_bound)/(len(discrete_points)-1)\n",
    "    for i in discrete_points:\n",
    "        x_i = torch.tensor([i], requires_grad=True, dtype=torch.float)\n",
    "        u_prime = model_u.u_prime(x_i)\n",
    "        \n",
    "        v_xi = v_x.forward(i)\n",
    "        if v_xi < 0:\n",
    "            raise ValueError('Potential Function value is < 0')\n",
    "        u_xi = model_u(x_i)\n",
    "        u_xi_square = torch.square(u_xi)\n",
    "\n",
    "        t = torch.abs(torch.square(u_prime)) + v_xi*u_xi_square\n",
    "        eps_sum += t\n",
    "        \n",
    "        pen+= u_xi_square\n",
    "        \n",
    "    epsilon_fn = h*eps_sum\n",
    "    \n",
    "    penalty = lambda_pen * torch.square(h*pen-1)\n",
    "#     print(\"epsilon_fn value = \" + str(epsilon_fn))\n",
    "#     print(\"penalty value = \" + str(penalty))\n",
    "    return epsilon_fn + penalty "
   ]
  },
  {
   "cell_type": "code",
   "execution_count": 20,
   "metadata": {},
   "outputs": [
    {
     "data": {
      "text/plain": [
       "tensor([16.2335], grad_fn=<MulBackward0>)"
      ]
     },
     "execution_count": 20,
     "metadata": {},
     "output_type": "execute_result"
    }
   ],
   "source": [
    "epsilon_Loss(potential_fn_class, model, U_BOUND, DISCRETE_POINTS)"
   ]
  },
  {
   "cell_type": "code",
   "execution_count": 21,
   "metadata": {},
   "outputs": [
    {
     "data": {
      "text/plain": [
       "tensor([16.6601], grad_fn=<AddBackward0>)"
      ]
     },
     "execution_count": 21,
     "metadata": {},
     "output_type": "execute_result"
    }
   ],
   "source": [
    "epsilon_Loss_penalty(potential_fn_class, model, LAMBDA_PEN, U_BOUND, DISCRETE_POINTS)"
   ]
  },
  {
   "cell_type": "code",
   "execution_count": 23,
   "metadata": {},
   "outputs": [],
   "source": [
    "# CREATING MODEL CLASS\n",
    "class Nonlinear(nn.Module):\n",
    "    def __init__(self, n):\n",
    "        # One hidden layer with n nodes\n",
    "        super().__init__()\n",
    "        self.hidden = nn.Linear(1, n)\n",
    "        self.output = nn.Linear(n, 1)\n",
    "        \n",
    "        self.sigmoid = nn.Sigmoid()\n",
    "        self.tanh = nn.Tanh()\n",
    "\n",
    "    def forward(self, x, use_tanh_fn = False):\n",
    "        if use_tanh_fn == True:\n",
    "            x = self.hidden(x)\n",
    "            x = self.tanh(x)\n",
    "            x = self.output(x)\n",
    "        else:\n",
    "            x = self.hidden(x)\n",
    "            x = self.sigmoid(x)\n",
    "            x = self.output(x)\n",
    "        return x\n",
    "\n",
    "    def normalize_model(self, discrete_points):\n",
    "        \"\"\"\n",
    "        GOAL: Normalize the output weight layer\n",
    "        model.output *= c\n",
    "        where,\n",
    "        scalar c = 1/denom\n",
    "        \"\"\"\n",
    "        \n",
    "        h = discrete_points[1] - discrete_points[0]\n",
    "        s = 0\n",
    "        for i in discrete_points:\n",
    "            x_i = torch.tensor([i], requires_grad=True, dtype=torch.float)\n",
    "            s += self(x_i)**2\n",
    "        denom = math.sqrt(h) * torch.sqrt(s)\n",
    "        c = 1/denom\n",
    "\n",
    "        print(\"Before normalization: \")\n",
    "        print(self.output.weight.data)\n",
    "        print(self.output.bias.data)\n",
    "        \n",
    "        self.output.weight.data.copy_(c.item() * self.output.weight.data)\n",
    "        self.output.bias.data.copy_(c.item() * self.output.bias.data)\n",
    "\n",
    "        print(\"After normalization: \")\n",
    "        print(self.output.weight.data)\n",
    "        print(self.output.bias.data)\n",
    "        print(\"c value = \" + str(c))\n",
    "\n",
    "        return \n",
    "\n",
    "    def u_prime(self, x_in):\n",
    "        y = self(x_in)\n",
    "        y_prime = torch.autograd.grad(y.sum(), x_in, create_graph=True)\n",
    "        return y_prime[0]\n",
    "    \n",
    "    # TRANING MODEL\n",
    "    def train_network_with_penalty(self, num_epochs, \n",
    "                                   v_x, \n",
    "                                   optimizer, \n",
    "                                   lambda_pen, \n",
    "                                   discrete_points):\n",
    "        # For plotting loss value over epochs:\n",
    "        x_epochs = []\n",
    "        y_loss = []\n",
    "        y_loss_pen = []\n",
    "\n",
    "        for epoch in range(num_epochs):\n",
    "            optimizer.zero_grad()\n",
    "            rand_points = np.random.choice(discrete_points, \n",
    "                                           size=int(N_POINTS*SELECTION_RATE), \n",
    "                                           replace=False)\n",
    "            loss_pen = epsilon_Loss_penalty(v_x, self, lambda_pen,\n",
    "                                        U_BOUND, rand_points)\n",
    "            loss = epsilon_Loss(v_x, self,\n",
    "                                U_BOUND, rand_points)\n",
    "\n",
    "            y_loss_pen.append(loss_pen.detach().numpy().item())\n",
    "            y_loss.append(loss.detach().numpy().item())\n",
    "            x_epochs.append(epoch)\n",
    "        \n",
    "            if epoch % 100 == 0 or epoch < 30:\n",
    "                print('epoch {}, loss with penalty {}'.format(epoch, loss_pen.item()))\n",
    "            loss_pen.backward()\n",
    "            optimizer.step()\n",
    "\n",
    "        print('Please normalize after training')\n",
    "        return (x_epochs, y_loss_pen, y_loss)"
   ]
  },
  {
   "cell_type": "code",
   "execution_count": 5,
   "metadata": {
    "jupyter": {
     "source_hidden": true
    }
   },
   "outputs": [],
   "source": [
    "# For potential function\n",
    "ti_list = np.random.normal(loc=0, scale=1.0, size= M_POINTS)\n",
    "ci_list = [(U_BOUND/(i * math.pi))**ALPHA for i in range(1, M_POINTS+1)]\n",
    "\n",
    "\n",
    "def potential_func_iterative(x, t_list, c_list, M_points=M_POINTS, L_endpoint=U_BOUND, c_0=50):\n",
    "    f_value = 0\n",
    "    summation = 0\n",
    "    #Iterative method:\n",
    "\n",
    "    for i in range(1, M_points+1):\n",
    "        cos_val = np.cos((i * math.pi * x)/L_endpoint)\n",
    "        summation += t_list[i-1] * c_list[i-1] * cos_val\n",
    "\n",
    "    f_value += summation\n",
    "    f_value += c_0\n",
    "\n",
    "    return f_value\n",
    "\n",
    "\n",
    "def potential_func_linalg(x, M_points=20, L_endpoint=U_BOUND, alpha=3, c_0=100):    \n",
    "    # Linear Algebra method:\n",
    "    t_i = np.random.normal(0, 1, size=N_points)\n",
    "    \n",
    "    iter1 = ((math.pi/(i*L_endpoint))**alpha for i in range(1, M_points+1))\n",
    "    c_i = np.fromiter(iter1, float)\n",
    "    a = np.multiply(t_i, c_i)\n",
    "\n",
    "    iter2 = (i for i in range(1, M_points+1))\n",
    "    v = np.fromiter(iter2, float)\n",
    "    s = (L_endpoint*x/math.pi)*v\n",
    "    cos_s = np.cos(s)\n",
    "    \n",
    "    res_vector = np.multiply(a, cos_s)\n",
    "    return np.sum(res_vector) + c_0"
   ]
  },
  {
   "cell_type": "code",
   "execution_count": 6,
   "metadata": {},
   "outputs": [],
   "source": [
    "class Potential_Function:\n",
    "    def __init__(self, c_0,\n",
    "                 M_points=M_POINTS,\n",
    "                 L_endpoint=U_BOUND, \n",
    "                 alpha=ALPHA, \n",
    "                 rescale=1):\n",
    "        self.M_points = M_points\n",
    "        self.L_endpoint = L_endpoint\n",
    "        self.alpha = alpha\n",
    "        self.c_0 = c_0\n",
    "        self.rescale = 1\n",
    "        \n",
    "        self.ti_list = np.random.normal(loc=0, scale=1.0, size= self.M_points)\n",
    "        self.ci_list = [(self.L_endpoint/(i * math.pi))**self.alpha for i in range(1, self.M_points+1)]\n",
    "        \n",
    "    def forward(self, x):\n",
    "        f_value = 0\n",
    "        summation = 0\n",
    "        #Iterative method:\n",
    "\n",
    "        for i in range(1, self.M_points+1):\n",
    "            cos_val = np.cos((i * math.pi * x)/self.L_endpoint)\n",
    "            summation += self.ti_list[i-1] * self.ci_list[i-1] * cos_val\n",
    "\n",
    "        f_value += summation\n",
    "        f_value += self.c_0\n",
    "        return self.rescale * f_value\n",
    "    \n",
    "    def set_c0_value(self, val):\n",
    "        self.c_0 = val\n",
    "        return\n",
    "    \n",
    "    def set_rescale_factor(self, val):\n",
    "        self.rescale = val\n",
    "        return "
   ]
  },
  {
   "cell_type": "code",
   "execution_count": 7,
   "metadata": {},
   "outputs": [],
   "source": [
    "def model_on_interval(nn_model, discrete_points):\n",
    "    x_vals = [torch.tensor([i], requires_grad=True, dtype=torch.float) for i in discrete_points]\n",
    "\n",
    "    model_output = []\n",
    "    for i in x_vals:\n",
    "        model_output.append(nn_model(i).detach().numpy().item())\n",
    "    return model_output"
   ]
  },
  {
   "cell_type": "code",
   "execution_count": null,
   "metadata": {
    "jupyter": {
     "source_hidden": true
    }
   },
   "outputs": [],
   "source": [
    "t_f = Potential_Function(c_0=50)\n",
    "start = time.time()\n",
    "r1 = potential_func_iterative(10, t_list=ti_list, c_list=ci_list)\n",
    "end = time.time()\n",
    "time1 = end-start\n",
    "# print(r1)\n",
    "print(time1)\n",
    "\n",
    "start = time.time()\n",
    "r2 = t_f.forward(10)\n",
    "end = time.time()\n",
    "time2 = end-start\n",
    "# print(r2)\n",
    "print(time2)"
   ]
  },
  {
   "cell_type": "code",
   "execution_count": null,
   "metadata": {
    "jupyter": {
     "source_hidden": true
    }
   },
   "outputs": [],
   "source": [
    "y_p = [potential_fn_class.forward(i) for i in DISCRETE_POINTS]\n",
    "plt.plot(DISCRETE_POINTS, y_p)"
   ]
  },
  {
   "cell_type": "code",
   "execution_count": null,
   "metadata": {
    "jupyter": {
     "source_hidden": true
    }
   },
   "outputs": [],
   "source": [
    "min_val = 0\n",
    "for i in range(1000):\n",
    "    t_f = Potential_Function(c_0=30)\n",
    "    y_p = [t_f.forward(i) for i in DISCRETE_POINTS]\n",
    "    if min(y_p) <= min_val:\n",
    "        min_val=min(y_p)\n",
    "min_val"
   ]
  },
  {
   "cell_type": "code",
   "execution_count": null,
   "metadata": {
    "jupyter": {
     "source_hidden": true
    }
   },
   "outputs": [],
   "source": [
    "min_val = 0\n",
    "for i in range(1000):\n",
    "    potential_fn_class.forward(i)\n",
    "    t_list = np.random.normal(loc=0, scale=1.0, size= M_POINTS)\n",
    "    ci_list = [(U_BOUND/(i * math.pi))**ALPHA for i in range(1, M_POINTS+1)]\n",
    "    y_p = [potential_func_iterative(i, t_list, ci_list) for i in DISCRETE_POINTS]\n",
    "    if min(y_p) <= min_val:\n",
    "        min_val=min(y_p)\n",
    "min_val"
   ]
  },
  {
   "cell_type": "code",
   "execution_count": 168,
   "metadata": {
    "jupyter": {
     "source_hidden": true
    }
   },
   "outputs": [],
   "source": [
    "# start = time.time()\n",
    "# res1 = x_square(10)\n",
    "# end = time.time()\n",
    "# time1 = end-start\n",
    "# print(time1)\n",
    "\n",
    "# start = time.time()\n",
    "# res2 = potential_func_iterative(10)\n",
    "# end = time.time()\n",
    "# time2 = end-start\n",
    "# print(time2)"
   ]
  },
  {
   "cell_type": "code",
   "execution_count": 38,
   "metadata": {},
   "outputs": [],
   "source": [
    "learningRate = 0.008\n",
    "\n",
    "#INIT MODEL\n",
    "model = Nonlinear(20)\n",
    "model_2 = Nonlinear(20)\n",
    "if torch.cuda.is_available():\n",
    "    model.cuda()\n",
    "    model_2.cuda()\n",
    "\n",
    "# INIT OPTIMIZER CLASS\n",
    "# SGD:\n",
    "sgd_optimizer = torch.optim.SGD(model.parameters(), \n",
    "                                lr=learningRate, \n",
    "                                momentum=0.9)\n",
    "\n",
    "# Adam:\n",
    "adam_optimizer = torch.optim.Adam(model.parameters(), \n",
    "                                    lr=learningRate, \n",
    "                                    betas=(0.9, 0.999), \n",
    "                                    eps=1e-08, \n",
    "                                    weight_decay=0, \n",
    "                                    amsgrad=False)\n",
    "\n",
    "# adam_optimizer_2 = torch.optim.Adam(model_2.parameters(), \n",
    "#                                     lr=learningRate, \n",
    "#                                     betas=(0.9, 0.999), \n",
    "#                                     eps=1e-08, \n",
    "#                                     weight_decay=0, \n",
    "#                                     amsgrad=False)"
   ]
  },
  {
   "cell_type": "code",
   "execution_count": 17,
   "metadata": {},
   "outputs": [],
   "source": [
    "# Init. potential function instance\n",
    "p_fn = Potential_Function(c_0=0)"
   ]
  },
  {
   "cell_type": "code",
   "execution_count": 18,
   "metadata": {},
   "outputs": [
    {
     "name": "stdout",
     "output_type": "stream",
     "text": [
      "Original min val = -16.668145090490178\n",
      "Min val with c_0 updated = 0.331854909509822\n",
      "27.098439678728845 0.331854909509822\n"
     ]
    },
    {
     "data": {
      "image/png": "[encoded data removed]",
      "text/plain": [
       "<Figure size 432x288 with 1 Axes>"
      ]
     },
     "metadata": {
      "needs_background": "light"
     },
     "output_type": "display_data"
    }
   ],
   "source": [
    "def update_potential_fn(p_fn):\n",
    "    # Check lowest value to set appropriate c_0 value:\n",
    "    y_values = [p_fn.forward(i) for i in DISCRETE_POINTS]\n",
    "    min_val = min(y_values)\n",
    "    print(\"Original min val = \" + str(min_val))\n",
    "    # plt.plot(DISCRETE_POINTS, y_values)\n",
    "\n",
    "    # Set c_0 value s.t. every value in y_values is > 0: \n",
    "    if min_val < 0:\n",
    "        c_0 = math.ceil(abs(min_val))\n",
    "        p_fn.set_c0_value(c_0)\n",
    "        new_y = [p_fn.forward(i) for i in DISCRETE_POINTS]\n",
    "        print(\"Min val with c_0 updated = \" + str(min(new_y)))\n",
    "    # plt.plot(DISCRETE_POINTS, new_y)\n",
    "\n",
    "    # Rescale potential function s.t. every value lies between 0 and 5:\n",
    "    max_v = max(new_y)\n",
    "    min_v = min(new_y)\n",
    "    print(max_v, min_v)\n",
    "    max_min = max_v-min_v\n",
    "\n",
    "    rescaled_y = [(i-min_v)/(max_min) for i in new_y]\n",
    "    plt.plot(DISCRETE_POINTS, rescaled_y)\n",
    "    return\n",
    "\n",
    "update_potential_fn(p_fn)"
   ]
  },
  {
   "cell_type": "code",
   "execution_count": null,
   "metadata": {
    "jupyter": {
     "source_hidden": true
    }
   },
   "outputs": [],
   "source": [
    "# Check lowest value to set appropriate c_0 value:\n",
    "y_values = [p_fn.forward(i) for i in DISCRETE_POINTS]\n",
    "min_val = min(y_values)\n",
    "print(\"Original min val = \" + str(min_val))\n",
    "# plt.plot(DISCRETE_POINTS, y_values)\n",
    "\n",
    "# Set c_0 value s.t. every value in y_values is > 0: \n",
    "c_0 = math.ceil(abs(min_val))\n",
    "p_fn.set_c0_value(c_0)\n",
    "new_y = [p_fn.forward(i) for i in DISCRETE_POINTS]\n",
    "\n",
    "# plt.plot(DISCRETE_POINTS, new_y)\n",
    "\n",
    "# Rescale potential function s.t. every value lies between 0 and 5:\n",
    "max_v = max(new_y)\n",
    "min_v = min(new_y)\n",
    "print(max_v, min_v)\n",
    "max_min = max_v-min_v\n",
    "\n",
    "rescaled_y = [(i-min_v)/(max_min) for i in new_y]\n",
    "plt.plot(DISCRETE_POINTS, rescaled_y)"
   ]
  },
  {
   "cell_type": "code",
   "execution_count": null,
   "metadata": {},
   "outputs": [
    {
     "name": "stdout",
     "output_type": "stream",
     "text": [
      "epoch 0, loss with penalty 19.9178409576416\n",
      "epoch 1, loss with penalty 454.2816467285156\n",
      "epoch 2, loss with penalty 127.6927490234375\n",
      "epoch 3, loss with penalty 32.7425537109375\n",
      "epoch 4, loss with penalty 473.59454345703125\n",
      "epoch 5, loss with penalty 508.6117248535156\n",
      "epoch 6, loss with penalty 17.877962112426758\n",
      "epoch 7, loss with penalty 200.62120056152344\n",
      "epoch 8, loss with penalty 280.4051513671875\n",
      "epoch 9, loss with penalty 302.5905456542969\n",
      "epoch 10, loss with penalty 366.29010009765625\n",
      "epoch 11, loss with penalty 268.6015625\n",
      "epoch 12, loss with penalty 185.3267059326172\n",
      "epoch 13, loss with penalty 174.260986328125\n",
      "epoch 14, loss with penalty 51.870338439941406\n",
      "epoch 15, loss with penalty 20.811975479125977\n",
      "epoch 16, loss with penalty 116.99185180664062\n",
      "epoch 17, loss with penalty 195.00567626953125\n",
      "epoch 18, loss with penalty 116.8683853149414\n",
      "epoch 19, loss with penalty 52.63232421875\n",
      "epoch 20, loss with penalty 76.51119995117188\n",
      "epoch 21, loss with penalty 142.2703094482422\n",
      "epoch 22, loss with penalty 67.61182403564453\n",
      "epoch 23, loss with penalty 30.773197174072266\n",
      "epoch 24, loss with penalty 170.74900817871094\n",
      "epoch 25, loss with penalty 129.0009307861328\n",
      "epoch 26, loss with penalty 113.79944610595703\n",
      "epoch 27, loss with penalty 88.56180572509766\n",
      "epoch 28, loss with penalty 31.508460998535156\n",
      "epoch 29, loss with penalty 39.51103210449219\n",
      "epoch 100, loss with penalty 57.533287048339844\n",
      "epoch 200, loss with penalty 40.62090301513672\n",
      "epoch 300, loss with penalty 37.93864440917969\n",
      "epoch 400, loss with penalty 20.75545310974121\n",
      "epoch 500, loss with penalty 20.955547332763672\n",
      "epoch 600, loss with penalty 23.271347045898438\n",
      "epoch 700, loss with penalty 19.6649227142334\n",
      "epoch 800, loss with penalty 18.84748077392578\n",
      "epoch 900, loss with penalty 47.25410461425781\n",
      "epoch 1000, loss with penalty 30.563133239746094\n",
      "epoch 1100, loss with penalty 19.69634246826172\n",
      "epoch 1200, loss with penalty 24.119218826293945\n",
      "epoch 1300, loss with penalty 17.700302124023438\n",
      "epoch 1400, loss with penalty 17.033695220947266\n",
      "epoch 1500, loss with penalty 18.31886100769043\n",
      "epoch 1600, loss with penalty 19.76662254333496\n",
      "epoch 1700, loss with penalty 14.265315055847168\n",
      "epoch 1800, loss with penalty 15.472530364990234\n",
      "epoch 1900, loss with penalty 16.661880493164062\n",
      "epoch 2000, loss with penalty 17.16978645324707\n",
      "epoch 2100, loss with penalty 50.14714431762695\n",
      "epoch 2200, loss with penalty 17.92140769958496\n",
      "epoch 2300, loss with penalty 15.016639709472656\n",
      "epoch 2400, loss with penalty 19.31684684753418\n",
      "epoch 2500, loss with penalty 21.7345027923584\n",
      "epoch 2600, loss with penalty 18.925634384155273\n",
      "epoch 2700, loss with penalty 19.315614700317383\n",
      "epoch 2800, loss with penalty 20.13209342956543\n",
      "epoch 2900, loss with penalty 22.615825653076172\n",
      "epoch 3000, loss with penalty 14.270715713500977\n",
      "epoch 3100, loss with penalty 21.39681625366211\n",
      "epoch 3200, loss with penalty 17.195993423461914\n",
      "epoch 3300, loss with penalty 34.96515655517578\n",
      "epoch 3400, loss with penalty 31.515396118164062\n",
      "epoch 3500, loss with penalty 24.891517639160156\n",
      "epoch 3600, loss with penalty 20.20085906982422\n",
      "epoch 3700, loss with penalty 51.016300201416016\n",
      "epoch 3800, loss with penalty 17.936704635620117\n",
      "epoch 3900, loss with penalty 17.249853134155273\n",
      "epoch 4000, loss with penalty 19.804636001586914\n",
      "epoch 4100, loss with penalty 17.2879638671875\n",
      "epoch 4200, loss with penalty 15.665355682373047\n",
      "epoch 4300, loss with penalty 17.636571884155273\n",
      "epoch 4400, loss with penalty 19.795812606811523\n",
      "epoch 4500, loss with penalty 19.882251739501953\n",
      "epoch 4600, loss with penalty 20.394092559814453\n",
      "epoch 4700, loss with penalty 31.87887954711914\n",
      "epoch 4800, loss with penalty 15.452475547790527\n",
      "epoch 4900, loss with penalty 24.404186248779297\n",
      "epoch 5000, loss with penalty 26.498966217041016\n",
      "epoch 5100, loss with penalty 19.256729125976562\n",
      "epoch 5200, loss with penalty 19.88907241821289\n",
      "epoch 5300, loss with penalty 19.376792907714844\n",
      "epoch 5400, loss with penalty 15.167510032653809\n",
      "epoch 5500, loss with penalty 17.18716049194336\n",
      "epoch 5600, loss with penalty 19.553768157958984\n",
      "epoch 5700, loss with penalty 17.06227684020996\n",
      "epoch 5800, loss with penalty 17.490222930908203\n",
      "epoch 5900, loss with penalty 15.94997787475586\n",
      "epoch 6000, loss with penalty 22.122583389282227\n",
      "epoch 6100, loss with penalty 16.302810668945312\n",
      "epoch 6200, loss with penalty 17.22041130065918\n",
      "epoch 6300, loss with penalty 23.665950775146484\n",
      "epoch 6400, loss with penalty 15.298060417175293\n",
      "epoch 6500, loss with penalty 18.080577850341797\n",
      "epoch 6600, loss with penalty 20.28445816040039\n",
      "epoch 6700, loss with penalty 15.47115707397461\n",
      "epoch 6800, loss with penalty 16.063520431518555\n",
      "epoch 6900, loss with penalty 18.045087814331055\n",
      "epoch 7000, loss with penalty 16.517141342163086\n",
      "epoch 7100, loss with penalty 23.85860252380371\n",
      "epoch 7200, loss with penalty 32.5241584777832\n",
      "epoch 7300, loss with penalty 19.326875686645508\n",
      "epoch 7400, loss with penalty 20.779220581054688\n",
      "epoch 7500, loss with penalty 18.407434463500977\n",
      "epoch 7600, loss with penalty 17.68595314025879\n",
      "epoch 7700, loss with penalty 18.229629516601562\n",
      "epoch 7800, loss with penalty 37.974586486816406\n",
      "epoch 7900, loss with penalty 32.45775604248047\n",
      "epoch 8000, loss with penalty 16.3510684967041\n",
      "epoch 8100, loss with penalty 16.761302947998047\n",
      "epoch 8200, loss with penalty 27.890960693359375\n",
      "epoch 8300, loss with penalty 27.901565551757812\n",
      "epoch 8400, loss with penalty 15.389727592468262\n",
      "epoch 8500, loss with penalty 32.98854064941406\n",
      "epoch 8600, loss with penalty 20.228776931762695\n",
      "epoch 8700, loss with penalty 26.08873748779297\n",
      "epoch 8800, loss with penalty 15.40677547454834\n",
      "epoch 8900, loss with penalty 18.09296226501465\n",
      "epoch 9000, loss with penalty 19.483131408691406\n",
      "epoch 9100, loss with penalty 21.16874885559082\n",
      "epoch 9200, loss with penalty 17.610782623291016\n",
      "epoch 9300, loss with penalty 16.15523338317871\n",
      "epoch 9400, loss with penalty 15.939852714538574\n",
      "epoch 9500, loss with penalty 24.503150939941406\n"
     ]
    }
   ],
   "source": [
    "### TRAIN MODEL HERE ###\n",
    "start = time.time()\n",
    "model_res = model.train_network_with_penalty(num_epochs, \n",
    "                                             p_fn, \n",
    "                                             adam_optimizer, \n",
    "                                             LAMBDA_PEN, \n",
    "                                             DISCRETE_POINTS)\n",
    "end = time.time()\n",
    "time1 = end-start\n",
    "print(\"Using potential function defined as class takes \" + str(time1))"
   ]
  },
  {
   "cell_type": "code",
   "execution_count": 28,
   "metadata": {},
   "outputs": [
    {
     "name": "stdout",
     "output_type": "stream",
     "text": [
      "Before normalization: \n",
      "tensor([[ 0.0047, -0.1501,  0.0038,  0.0920,  0.0037, -0.1903,  0.0062,  0.0068,\n",
      "          0.0053,  0.1355,  0.0049,  0.0040,  0.2328,  0.0058,  0.0062,  0.0084,\n",
      "          0.1969,  0.0040, -0.2862,  0.2159]])\n",
      "tensor([-0.1225])\n",
      "After normalization: \n",
      "tensor([[ 0.0048, -0.1542,  0.0039,  0.0945,  0.0038, -0.1954,  0.0063,  0.0070,\n",
      "          0.0055,  0.1392,  0.0050,  0.0041,  0.2391,  0.0059,  0.0064,  0.0086,\n",
      "          0.2023,  0.0041, -0.2940,  0.2217]])\n",
      "tensor([-0.1258])\n",
      "c value = tensor([1.0270], grad_fn=<MulBackward0>)\n"
     ]
    }
   ],
   "source": [
    "model.normalize_model(DISCRETE_POINTS)"
   ]
  },
  {
   "cell_type": "code",
   "execution_count": 29,
   "metadata": {},
   "outputs": [
    {
     "data": {
      "text/plain": [
       "<Figure size 432x288 with 0 Axes>"
      ]
     },
     "metadata": {},
     "output_type": "display_data"
    },
    {
     "data": {
      "image/png": "[encoded data removed]",
      "text/plain": [
       "<Figure size 640x480 with 1 Axes>"
      ]
     },
     "metadata": {
      "needs_background": "light"
     },
     "output_type": "display_data"
    }
   ],
   "source": [
    "plot_figure(model_res[0], (model_res[2]))"
   ]
  },
  {
   "cell_type": "code",
   "execution_count": 30,
   "metadata": {},
   "outputs": [
    {
     "data": {
      "text/plain": [
       "<Figure size 432x288 with 0 Axes>"
      ]
     },
     "metadata": {},
     "output_type": "display_data"
    },
    {
     "data": {
      "image/png": "[encoded data removed]",
      "text/plain": [
       "<Figure size 640x480 with 1 Axes>"
      ]
     },
     "metadata": {
      "needs_background": "light"
     },
     "output_type": "display_data"
    }
   ],
   "source": [
    "x_values = np.linspace(L_BOUND, U_BOUND, N_POINTS)\n",
    "x_vals = [torch.tensor([i], requires_grad=True, dtype=torch.float) for i in np.linspace(L_BOUND, U_BOUND, N_POINTS)]\n",
    "\n",
    "model_output = model_on_interval(model, DISCRETE_POINTS)\n",
    "\n",
    "plot_figure(x_values, model_output)\n",
    "# plot_figure(x_values, model_output)"
   ]
  },
  {
   "cell_type": "markdown",
   "metadata": {},
   "source": [
    "## The Finite Difference Method ##"
   ]
  },
  {
   "cell_type": "code",
   "execution_count": 31,
   "metadata": {},
   "outputs": [],
   "source": [
    "def fd_method_2(lower_bound, upper_bound, N_points, given_fn):\n",
    "    discrete_points = np.linspace(lower_bound, upper_bound, N_points)\n",
    "    h = discrete_points[1]-discrete_points[0]\n",
    "    c = np.sqrt(1/h)\n",
    "    H = np.zeros((N_points-2,N_points-2))\n",
    "    # Question: Why H has dimension (N-2) x (N-2)?\n",
    "    V = np.zeros((N_points-2,N_points-2))\n",
    "    \n",
    "    for i in range (N_points-2):\n",
    "        for j in range (N_points-2):\n",
    "            if i == j:\n",
    "                H[i][j] = -2\n",
    "            elif abs(i-j) == 1:\n",
    "                H[i][j] = 1\n",
    "                \n",
    "    for i in range (N_points-2):\n",
    "        for j in range (N_points-2):\n",
    "            if i == j:\n",
    "                V[i][j] = given_fn.forward(discrete_points[i])\n",
    "                \n",
    "    A = -H/(h**2) + V\n",
    "    \n",
    "    eig_val, eig_vec = np.linalg.eig(A)\n",
    "    sorted_id_eig_val = np.argsort(eig_val)\n",
    "    # Get the indices that would sort eig_val\n",
    "    z = sorted_id_eig_val[0:1] # Bc. eig_val first 4 value is in ascending order, \n",
    "    # eig_val[z] will return sorted first [T] value of eigenvalues.\n",
    "    energies = eig_val[z]/eig_val[z][0]\n",
    "\n",
    "    ground_state = c * eig_vec[:,z[0]]\n",
    "\n",
    "    return (eig_val[z], ground_state)"
   ]
  },
  {
   "cell_type": "code",
   "execution_count": 32,
   "metadata": {},
   "outputs": [],
   "source": [
    "def finite_diff_method(lower_bound, upper_bound, N_points, given_fn):\n",
    "    discrete_points = np.linspace(lower_bound, upper_bound, N_points)\n",
    "    h = discrete_points[1]-discrete_points[0]\n",
    "    c = np.sqrt(1/h)\n",
    "\n",
    "    H = np.zeros((N_points,N_points))\n",
    "    # Question: Why H has dimension (N-2) x (N-2)?\n",
    "    V = np.zeros((N_points,N_points))\n",
    "\n",
    "    for i in range (N_points):\n",
    "        for j in range (N_points):\n",
    "            if i == j:\n",
    "                H[i][j] = -2\n",
    "            elif abs(i-j) == 1:\n",
    "                H[i][j] = 1\n",
    "    for i in range (N_points):\n",
    "        for j in range (N_points):\n",
    "            if i == j:\n",
    "                V[i][j] = given_fn.forward(discrete_points[i])\n",
    "\n",
    "    A = -H/(h**2) + V\n",
    "    \n",
    "    eig_val, eig_vec = np.linalg.eig(A)\n",
    "    sorted_id_eig_val = np.argsort(eig_val)\n",
    "    # Get the indices that would sort eig_val\n",
    "    z = sorted_id_eig_val[0:1] # Bc. eig_val first 4 value is in ascending order, \n",
    "    # eig_val[z] will return sorted first [T] value of eigenvalues.\n",
    "    energies = eig_val[z]/eig_val[z][0]\n",
    "\n",
    "    ground_state = c * eig_vec[:,z[0]]\n",
    "\n",
    "    return (eig_val[z], ground_state)"
   ]
  },
  {
   "cell_type": "code",
   "execution_count": 33,
   "metadata": {},
   "outputs": [],
   "source": [
    "def plot_finite_diff_sol(eig_val, ground_state, discrete_points, nn_model):\n",
    "    plt.figure(figsize=(12,10))\n",
    "    for i in range(len(eig_val)):\n",
    "        y = []\n",
    "        y = np.append(y, (-1) * ground_state)\n",
    "\n",
    "        plt.plot(discrete_points,y,lw=3, label=\"{} \".format(i))\n",
    "        plt.xlabel('x', size=14)\n",
    "        plt.ylabel('$\\psi$(x)',size=14)\n",
    "    model_output = model_on_interval(nn_model, DISCRETE_POINTS)\n",
    "    plt.plot(discrete_points, model_output)\n",
    "    plt.legend()\n",
    "    plt.title('normalized wavefunctions for a harmonic oscillator using finite difference method',size=14)\n",
    "    plt.show()\n",
    "    return"
   ]
  },
  {
   "cell_type": "code",
   "execution_count": 34,
   "metadata": {},
   "outputs": [
    {
     "name": "stdout",
     "output_type": "stream",
     "text": [
      "[1.5720703]\n",
      "[1.5720703]\n"
     ]
    }
   ],
   "source": [
    "fd_res = finite_diff_method(L_BOUND, U_BOUND, N_POINTS, p_fn)\n",
    "fd_res2 = fd_method_2(L_BOUND, U_BOUND, N_POINTS, p_fn)\n",
    "print(fd_res[0])\n",
    "print(fd_res2[0])"
   ]
  },
  {
   "cell_type": "code",
   "execution_count": 35,
   "metadata": {},
   "outputs": [
    {
     "name": "stdout",
     "output_type": "stream",
     "text": [
      "The FD method eigenvalue: 1.5720703020958204\n",
      "The NN method loss value: 15.347512245178223\n"
     ]
    }
   ],
   "source": [
    "loss_val = epsilon_Loss(p_fn, model, U_BOUND, DISCRETE_POINTS)\n",
    "print(\"The FD method eigenvalue: \" + str(fd_res[0][0]))\n",
    "print(\"The NN method loss value: \" + str(loss_val.item()))"
   ]
  },
  {
   "cell_type": "code",
   "execution_count": 36,
   "metadata": {},
   "outputs": [
    {
     "data": {
      "image/png": "[encoded data removed]",
      "text/plain": [
       "<Figure size 864x720 with 1 Axes>"
      ]
     },
     "metadata": {
      "needs_background": "light"
     },
     "output_type": "display_data"
    }
   ],
   "source": [
    "plot_finite_diff_sol(fd_res[0], fd_res[1], DISCRETE_POINTS, model)"
   ]
  },
  {
   "cell_type": "code",
   "execution_count": null,
   "metadata": {},
   "outputs": [],
   "source": []
  }
 ],
 "metadata": {
  "kernelspec": {
   "display_name": "Python 3",
   "language": "python",
   "name": "python3"
  },
  "language_info": {
   "codemirror_mode": {
    "name": "ipython",
    "version": 3
   },
   "file_extension": ".py",
   "mimetype": "text/x-python",
   "name": "python",
   "nbconvert_exporter": "python",
   "pygments_lexer": "ipython3",
   "version": "3.7.7"
  }
 },
 "nbformat": 4,
 "nbformat_minor": 4
}
