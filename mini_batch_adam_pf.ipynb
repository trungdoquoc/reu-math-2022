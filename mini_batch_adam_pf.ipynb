{
 "cells": [
  {
   "cell_type": "code",
   "execution_count": 193,
   "metadata": {
    "id": "EhLB7FUFu8Fe"
   },
   "outputs": [],
   "source": [
    "import datetime\n",
    "from pytz import timezone\n",
    "\n",
    "# from collections import OrderedDict\n",
    "from copy import deepcopy\n",
    "\n",
    "\n",
    "import time\n",
    "import numpy as np\n",
    "import copy\n",
    "import torch\n",
    "import torch.nn as nn\n",
    "import math\n",
    "from torch.autograd import Variable\n",
    "import matplotlib.pyplot as plt\n",
    "\n",
    "LAMBDA_PEN = 1000\n",
    "L_BOUND = -10\n",
    "U_BOUND = 10\n",
    "N_POINTS = 512\n",
    "\n",
    "NUM_EPOCHS = 5000\n",
    "\n",
    "M_POINTS = 10\n",
    "ALPHA = 2\n",
    "\n",
    "SELECTION_RATE = 0.01\n",
    "\n",
    "DISCRETE_POINTS = np.linspace(L_BOUND, U_BOUND, N_POINTS)"
   ]
  },
  {
   "cell_type": "code",
   "execution_count": 119,
   "metadata": {
    "id": "d0IbY8C5u8Fh"
   },
   "outputs": [],
   "source": [
    "# PLOT DATA\n",
    "def plot_figure(x_val, y_val, x_test=None, predicted=None, log_scale=False):\n",
    "    plt.clf()\n",
    "    plt.figure(figsize=(8, 6), dpi=80)\n",
    "    if log_scale==True:\n",
    "        plt.yscale('log')\n",
    "    plt.plot(x_val, y_val, '--', label='True data', alpha=0.5)\n",
    "    if predicted != None:\n",
    "        plt.plot(x_test, predicted, '--', label='Predictions', alpha=0.5)\n",
    "    plt.legend(loc='best')\n",
    "    plt.show()"
   ]
  },
  {
   "cell_type": "code",
   "execution_count": 120,
   "metadata": {
    "id": "zaCXiJSvu8Fh"
   },
   "outputs": [],
   "source": [
    "def epsilon_Loss(v_x, model_u, upper_bound, discrete_points):\n",
    "    \"\"\"\n",
    "    GOAL: Epsilon function evaluated at u using discretized estimation\n",
    "    minimizing Epsilon(u) = \n",
    "    \n",
    "    ARGS: \n",
    "    n_points (int): number of discretized points on the interval [-L, L]\n",
    "    e.g.: -(L)|---|---|---|---|(L) interval has n_points = 5\n",
    "\n",
    "    v_x (torch.Tensor): function instance\n",
    "    model_u (torch.Tensor): model output\n",
    "    \"\"\"\n",
    "    total = 0\n",
    "    h = (2*upper_bound)/(len(discrete_points)-1)\n",
    "    for i in discrete_points:\n",
    "        x_i = torch.tensor([i], requires_grad=True, dtype=torch.float)\n",
    "        u_xi = model_u(x_i)\n",
    "\n",
    "        u_prime_x = model_u.u_prime(x_i)\n",
    "        \n",
    "        v_xi = v_x.forward(i)\n",
    "        if v_xi < 0:\n",
    "            raise ValueError('Potential Function value is < 0')\n",
    "        t = torch.abs(torch.square(u_prime_x)) + v_xi*torch.square(u_xi)\n",
    "\n",
    "        total += t\n",
    "    return h*total\n",
    "\n",
    "def epsilon_Loss_penalty(v_x, model_u, lambda_pen,\n",
    "                         upper_bound, discrete_points):\n",
    "    \"\"\"\n",
    "    \n",
    "    \"\"\"\n",
    "    eps_sum = 0\n",
    "    pen = 0\n",
    "\n",
    "    h = (2*upper_bound)/(len(discrete_points)-1)\n",
    "#     print(\"h = \"+ str(h))\n",
    "    for i in discrete_points:\n",
    "        x_i = torch.tensor([i], requires_grad=True, dtype=torch.float)\n",
    "\n",
    "        u_prime = model_u.u_prime(x_i)\n",
    "        \n",
    "        v_xi = v_x.forward(i)\n",
    "        if v_xi < 0:\n",
    "            raise ValueError('Potential Function value is < 0')\n",
    "        u_xi = model_u(x_i)\n",
    "        u_xi_square = torch.square(u_xi)\n",
    "\n",
    "        t = torch.abs(torch.square(u_prime)) + v_xi*u_xi_square\n",
    "        eps_sum += t\n",
    "        \n",
    "        pen+= u_xi_square\n",
    "        \n",
    "    epsilon_fn = h*eps_sum\n",
    "    \n",
    "    penalty = lambda_pen * torch.square(h*pen-1)\n",
    "#     print(\"epsilon_fn value = \" + str(epsilon_fn))\n",
    "#     print(\"penalty value = \" + str(penalty))\n",
    "    return (epsilon_fn, epsilon_fn + penalty)"
   ]
  },
  {
   "cell_type": "code",
   "execution_count": null,
   "metadata": {
    "id": "qDY5EpAgu8Fj",
    "outputId": "b9208d8f-17aa-46a7-8e39-89fce1f6873f"
   },
   "outputs": [
    {
     "name": "stdout",
     "output_type": "stream",
     "text": [
      "h = 0.6451612903225806\n",
      "Time 0.018925189971923828\n"
     ]
    }
   ],
   "source": [
    "# ITERATIVE\n",
    "tensor_points = []\n",
    "for i in DISCRETE_POINTS:\n",
    "    x_i = torch.tensor([i], requires_grad=True, dtype=torch.float)\n",
    "    tensor_points.append(x_i)\n",
    "start1 = time.time()\n",
    "epsilon_Loss_penalty(p_fn, model_32, LAMBDA_PEN,\n",
    "                     U_BOUND, np.random.choice(DISCRETE_POINTS, size=32))\n",
    "\n",
    "# for i in tensor_points:\n",
    "#     u_prime = model_64.u_prime(x_i)\n",
    "\n",
    "end1 = time.time()\n",
    "time1 = end1-start1\n",
    "print(\"Time \" + str(time1))"
   ]
  },
  {
   "cell_type": "code",
   "execution_count": 270,
   "metadata": {
    "id": "EFUWyEKvu8Fk"
   },
   "outputs": [],
   "source": [
    "# CREATING MODEL CLASS\n",
    "class Nonlinear(nn.Module):\n",
    "    def __init__(self, n):\n",
    "        # One hidden layer with n nodes\n",
    "        super(Nonlinear, self).__init__()\n",
    "        self.hidden = nn.Linear(1, n)\n",
    "        self.output = nn.Linear(n, 1)\n",
    "        \n",
    "        self.sigmoid = nn.Sigmoid()\n",
    "        self.tanh = nn.Tanh()\n",
    "\n",
    "    def forward(self, x, use_tanh_fn = False):\n",
    "        if use_tanh_fn == True:\n",
    "            x = self.hidden(x)\n",
    "            x = self.tanh(x)\n",
    "            x = self.output(x)\n",
    "        else:\n",
    "            x = self.hidden(x)\n",
    "            x = self.sigmoid(x)\n",
    "            x = self.output(x)\n",
    "        return x\n",
    "\n",
    "    def normalize_model(self, discrete_points):\n",
    "        \"\"\"\n",
    "        GOAL: Normalize the output weight layer\n",
    "        model.output *= c\n",
    "        where,\n",
    "        scalar c = 1/denom\n",
    "        \"\"\"\n",
    "        \n",
    "        h = discrete_points[1] - discrete_points[0]\n",
    "        s = 0\n",
    "        for i in discrete_points:\n",
    "            x_i = torch.tensor([i], requires_grad=True, dtype=torch.float)\n",
    "            s += self(x_i)**2\n",
    "        denom = math.sqrt(h) * torch.sqrt(s)\n",
    "        c = 1/denom\n",
    "\n",
    "        print(\"Before normalization: \")\n",
    "        print(self.output.weight.data)\n",
    "        print(self.output.bias.data)\n",
    "        \n",
    "        self.output.weight.data.copy_(c.item() * self.output.weight.data)\n",
    "        self.output.bias.data.copy_(c.item() * self.output.bias.data)\n",
    "\n",
    "        print(\"After normalization: \")\n",
    "        print(self.output.weight.data)\n",
    "        print(self.output.bias.data)\n",
    "        print(\"c value = \" + str(c))\n",
    "\n",
    "        return \n",
    "\n",
    "    def u_prime(self, x_in):\n",
    "        y = self(x_in)\n",
    "        y_prime = torch.autograd.grad(y.sum(), x_in, create_graph=True)\n",
    "        return y_prime[0]\n",
    "    \n"
   ]
  },
  {
   "cell_type": "code",
   "execution_count": null,
   "metadata": {},
   "outputs": [],
   "source": [
    "# TRANING MODEL\n",
    "def minibatch_train_with_penalty(model, \n",
    "                               num_epochs, \n",
    "                               v_x, \n",
    "                               optimizer, \n",
    "                               lambda_pen,\n",
    "                               discrete_points,\n",
    "                               batch_size=32):\n",
    "    # For plotting loss value over epochs:\n",
    "    x_epochs = []\n",
    "    y_loss = []\n",
    "    y_loss_pen = []\n",
    "\n",
    "    m = len(discrete_points)\n",
    "    num_batches = int(m/batch_size)\n",
    "#         print(\"Number of batches \" + str(num_batches))\n",
    "\n",
    "    for epoch in range(num_epochs):\n",
    "        perm = torch.randperm(m)\n",
    "        avg_loss_pen = 0\n",
    "        avg_loss = 0\n",
    "\n",
    "#                 start1 = time.time()\n",
    "        for i in range(0, m, batch_size):\n",
    "#                 print(\"i = \" + str(i))\n",
    "            optimizer.zero_grad()\n",
    "\n",
    "            indices = perm[i: i+batch_size]\n",
    "\n",
    "            loss_values = epsilon_Loss_penalty(v_x, model, lambda_pen,\n",
    "                                            U_BOUND, \n",
    "                                            discrete_points[indices])\n",
    "\n",
    "            loss = loss_values[0]\n",
    "            loss_pen = loss_values[1]\n",
    "\n",
    "            avg_loss_pen += loss_pen.item()\n",
    "            avg_loss += loss.item()\n",
    "\n",
    "            loss_pen.backward()\n",
    "            optimizer.step()\n",
    "\n",
    "        avg_loss_pen = avg_loss_pen/num_batches\n",
    "        avg_loss = avg_loss/num_batches\n",
    "\n",
    "        y_loss_pen.append(avg_loss_pen)\n",
    "        y_loss.append(avg_loss)\n",
    "        x_epochs.append(epoch)\n",
    "\n",
    "        if epoch % 100 == 0 or epoch < 30:\n",
    "            print('epoch {}, loss with penalty {}'.format(epoch, avg_loss_pen))\n",
    "\n",
    "#                 if epoch == 0:\n",
    "#                     end1 = time.time()\n",
    "#                     time1 = end1-start1\n",
    "#                     print(\"One epoch takes \" + str(time1))\n",
    "\n",
    "    print('Please normalize after training')\n",
    "    return (x_epochs, y_loss_pen, y_loss)\n",
    "\n",
    "def batch_train_with_penalty(model, \n",
    "                         num_epochs, \n",
    "                         v_x, \n",
    "                         optimizer, \n",
    "                         lambda_pen, \n",
    "                         discrete_points):\n",
    "    # For plotting loss value over epochs:\n",
    "    x_epochs = []\n",
    "    y_loss = []\n",
    "    y_loss_pen = []\n",
    "\n",
    "    #Early stopping criteria:\n",
    "    last_min_loss = 0\n",
    "    patience = 4\n",
    "    min_delta = 1e-3\n",
    "    stop_counter = 0\n",
    "    best_model = None\n",
    "\n",
    "    for epoch in range(num_epochs):\n",
    "        optimizer.zero_grad()\n",
    "        loss_values = epsilon_Loss_penalty(v_x, model, lambda_pen,\n",
    "                                    U_BOUND, discrete_points)\n",
    "\n",
    "        loss = loss_values[0]\n",
    "        loss_pen = loss_values[1]\n",
    "\n",
    "        y_loss_pen.append(loss_pen.detach().numpy().item())\n",
    "        y_loss.append(loss.detach().numpy().item())\n",
    "        x_epochs.append(epoch)\n",
    "\n",
    "#             if epoch == 0:\n",
    "#                 last_min_loss = loss_pen\n",
    "#             else:\n",
    "#             #Early stopping\n",
    "#                 if abs(loss_pen-last_min_loss) <= min_delta:\n",
    "#                     stop_counter += 1\n",
    "#                     print(\"Stop counter + 1, current stop counter = \" + str(stop_counter))\n",
    "#                     if loss_pen < last_min_loss:\n",
    "#                         last_min_loss = loss_pen\n",
    "#                         best_model = copy.deepcopy(self.state_dict())\n",
    "\n",
    "#                     if stop_counter >= patience:\n",
    "#                         print(\"Early stopping. Training is complete\")\n",
    "#                         print('Please normalize after training')\n",
    "#                         return (x_epochs, y_loss_pen, y_loss)\n",
    "#                 else:\n",
    "#                     stop_counter = 0\n",
    "\n",
    "\n",
    "#             if epoch % 100 == 0 or epoch < 30:\n",
    "        print('epoch {}, loss with penalty {}'.format(epoch, loss_pen.item()))\n",
    "        loss_pen.backward()\n",
    "        optimizer.step()\n",
    "\n",
    "    print('Please normalize after training')\n",
    "    return (x_epochs, y_loss_pen, y_loss)"
   ]
  },
  {
   "cell_type": "code",
   "execution_count": null,
   "metadata": {
    "id": "nuyaf6eiu8Fl",
    "jupyter": {
     "source_hidden": true
    }
   },
   "outputs": [],
   "source": [
    "# For potential function\n",
    "ti_list = np.random.normal(loc=0, scale=1.0, size= M_POINTS)\n",
    "ci_list = [(U_BOUND/(i * math.pi))**ALPHA for i in range(1, M_POINTS+1)]\n",
    "\n",
    "\n",
    "def potential_func_iterative(x, t_list, c_list, M_points=M_POINTS, L_endpoint=U_BOUND, c_0=50):\n",
    "    f_value = 0\n",
    "    summation = 0\n",
    "    #Iterative method:\n",
    "\n",
    "    for i in range(1, M_points+1):\n",
    "        cos_val = np.cos((i * math.pi * x)/L_endpoint)\n",
    "        summation += t_list[i-1] * c_list[i-1] * cos_val\n",
    "\n",
    "    f_value += summation\n",
    "    f_value += c_0\n",
    "\n",
    "    return f_value\n",
    "\n",
    "\n",
    "def potential_func_linalg(x, M_points=20, L_endpoint=U_BOUND, alpha=3, c_0=100):    \n",
    "    # Linear Algebra method:\n",
    "    t_i = np.random.normal(0, 1, size=N_points)\n",
    "    \n",
    "    iter1 = ((math.pi/(i*L_endpoint))**alpha for i in range(1, M_points+1))\n",
    "    c_i = np.fromiter(iter1, float)\n",
    "    a = np.multiply(t_i, c_i)\n",
    "\n",
    "    iter2 = (i for i in range(1, M_points+1))\n",
    "    v = np.fromiter(iter2, float)\n",
    "    s = (L_endpoint*x/math.pi)*v\n",
    "    cos_s = np.cos(s)\n",
    "    \n",
    "    res_vector = np.multiply(a, cos_s)\n",
    "    return np.sum(res_vector) + c_0"
   ]
  },
  {
   "cell_type": "code",
   "execution_count": 128,
   "metadata": {
    "id": "oo-GGDxiu8Fl"
   },
   "outputs": [],
   "source": [
    "class X_Square:\n",
    "    def __init__(self, const):\n",
    "        self.const = const\n",
    "        \n",
    "    def forward(self, x):\n",
    "        return x**2 + self.const + 13*math.sin(x)\n",
    "    \n",
    "class Potential_Function:\n",
    "    def __init__(self, c_0=0,\n",
    "                 M_points=M_POINTS,\n",
    "                 L_endpoint=U_BOUND, \n",
    "                 alpha=ALPHA, \n",
    "                 rescale=1):\n",
    "        self.M_points = M_points\n",
    "        self.L_endpoint = L_endpoint\n",
    "        self.alpha = alpha\n",
    "        self.c_0 = c_0\n",
    "        self.rescale = 1\n",
    "        \n",
    "        self.ti_list = np.random.normal(loc=0, scale=1.0, size= self.M_points)\n",
    "        self.ci_list = [(self.L_endpoint/(i * math.pi))**self.alpha \n",
    "                        for i in range(1, self.M_points+1)]\n",
    "        \n",
    "    def forward(self, x):\n",
    "        f_value = 0\n",
    "        summation = 0\n",
    "        \n",
    "        #Iterative method:\n",
    "\n",
    "        for i in range(1, self.M_points+1):\n",
    "            cos_val = np.cos((i * math.pi * x)/self.L_endpoint)\n",
    "            summation += self.ti_list[i-1] * self.ci_list[i-1] * cos_val\n",
    "\n",
    "        f_value += summation\n",
    "        f_value += self.c_0\n",
    "        return self.rescale * f_value\n",
    "    \n",
    "    def set_c0_value(self, val):\n",
    "        self.c_0 = val\n",
    "        return\n",
    "    \n",
    "    def set_rescale_factor(self, val):\n",
    "        self.rescale = val\n",
    "        return \n",
    "    \n",
    "    def plot_function(self, discrete_points):\n",
    "        y_values = [self.forward(i) for i in discrete_points]\n",
    "        plt.plot(discrete_points, y_values)\n",
    "    \n",
    "    def update_potential_fn(self, discrete_points):\n",
    "        # (1) Check lowest value to set appropriate c_0 value:\n",
    "        y_values = [self.forward(i) for i in discrete_points]\n",
    "        min_val = min(y_values)\n",
    "        print(\"Original min val = \" + str(min_val))\n",
    "        # plt.plot(DISCRETE_POINTS, y_values)\n",
    "\n",
    "        # (1) Set c_0 value s.t. every value in y_values is > 0: \n",
    "        if min_val < 0:\n",
    "            c_0 = math.ceil(abs(min_val))\n",
    "            self.set_c0_value(c_0)\n",
    "            new_y = [self.forward(i) for i in discrete_points]\n",
    "            print(\"Min val with c_0 updated = \" + str(min(new_y)))\n",
    "        # plt.plot(DISCRETE_POINTS, new_y)\n",
    "\n",
    "        # (2) Rescale potential function s.t. every value lies between 0 and 5:\n",
    "        max_v = max(new_y)\n",
    "#         min_v = min(new_y)\n",
    "#         print(max_v, min_v)\n",
    "#         max_min = max_v-min_v\n",
    "\n",
    "#         rescaled_y = [(i-min_v)/(max_min) for i in new_y]\n",
    "#         plt.plot(DISCRETE_POINTS, rescaled_y)\n",
    "\n",
    "        c = 5/max_v\n",
    "        self.set_rescale_factor(c)\n",
    "        return"
   ]
  },
  {
   "cell_type": "code",
   "execution_count": 124,
   "metadata": {
    "id": "nzOlTe_ou8Fl"
   },
   "outputs": [],
   "source": [
    "def model_on_interval(nn_model, discrete_points):\n",
    "    x_vals = [torch.tensor([i], requires_grad=True, dtype=torch.float) for i in discrete_points]\n",
    "\n",
    "    model_output = []\n",
    "    for i in x_vals:\n",
    "        model_output.append(nn_model(i).detach().numpy().item())\n",
    "    return model_output"
   ]
  },
  {
   "cell_type": "code",
   "execution_count": 273,
   "metadata": {
    "id": "ybaLXOXMu8Fm"
   },
   "outputs": [],
   "source": [
    "learningRate = 0.01\n",
    "\n",
    "#INIT MODEL\n",
    "batch_model = Nonlinear(40)\n",
    "model_32 = Nonlinear(20)\n",
    "model_64 = Nonlinear(20)\n",
    "model_128 = Nonlinear(20)\n",
    "if torch.cuda.is_available():\n",
    "    model_32.cuda()\n",
    "    model_64.cuda()\n",
    "\n",
    "# INIT OPTIMIZER CLASS\n",
    "# SGD:\n",
    "# sgd_optimizer = torch.optim.SGD(model_32.parameters(), \n",
    "#                                 lr=learningRate, \n",
    "#                                 momentum=0.9)\n",
    "\n",
    "# Adam:\n",
    "adam_optimizer = torch.optim.Adam(batch_model.parameters(), \n",
    "                                    lr=learningRate, \n",
    "                                    betas=(0.9, 0.999), \n",
    "                                    eps=1e-08, \n",
    "                                    weight_decay=0, \n",
    "                                    amsgrad=False)\n",
    "\n",
    "adam_optimizer_2 = torch.optim.Adam(model_64.parameters(), \n",
    "                                    lr=learningRate, \n",
    "                                    betas=(0.9, 0.999), \n",
    "                                    eps=1e-08, \n",
    "                                    weight_decay=0, \n",
    "                                    amsgrad=False)\n",
    "\n",
    "adam_optimizer_3 = torch.optim.Adam(model_128.parameters(), \n",
    "                                    lr=learningRate, \n",
    "                                    betas=(0.9, 0.999), \n",
    "                                    eps=1e-08, \n",
    "                                    weight_decay=0, \n",
    "                                    amsgrad=False)\n"
   ]
  },
  {
   "cell_type": "code",
   "execution_count": 272,
   "metadata": {
    "id": "_6ySWsHcu8Fm"
   },
   "outputs": [],
   "source": [
    "del adam_optimizer\n",
    "del adam_optimizer_2\n",
    "del adam_optimizer_3\n",
    "\n",
    "del model_32\n",
    "del model_64\n",
    "del model_128\n",
    "del batch_model"
   ]
  },
  {
   "cell_type": "code",
   "execution_count": 206,
   "metadata": {
    "colab": {
     "base_uri": "https://localhost:8080/",
     "height": 265
    },
    "id": "EToE2Upuu8Fm",
    "outputId": "5ea17696-5747-44c1-a379-6058b3d772b4"
   },
   "outputs": [
    {
     "data": {
      "image/png": "[encoded data removed]",
      "text/plain": [
       "<Figure size 432x288 with 1 Axes>"
      ]
     },
     "metadata": {
      "needs_background": "light"
     },
     "output_type": "display_data"
    }
   ],
   "source": [
    "# Init. potential function instance\n",
    "p_fn = Potential_Function()\n",
    "p_fn.plot_function(DISCRETE_POINTS)"
   ]
  },
  {
   "cell_type": "code",
   "execution_count": 207,
   "metadata": {
    "colab": {
     "base_uri": "https://localhost:8080/",
     "height": 302
    },
    "id": "Za5V5u4Eu8Fn",
    "outputId": "3523acc6-e189-4736-9a05-3adcc8fa9f8c"
   },
   "outputs": [
    {
     "name": "stdout",
     "output_type": "stream",
     "text": [
      "Original min val = -7.432248081807909\n",
      "Min val with c_0 updated = 0.5677519181920907\n"
     ]
    },
    {
     "data": {
      "image/png": "[encoded data removed]",
      "text/plain": [
       "<Figure size 432x288 with 1 Axes>"
      ]
     },
     "metadata": {
      "needs_background": "light"
     },
     "output_type": "display_data"
    }
   ],
   "source": [
    "p_fn.update_potential_fn(DISCRETE_POINTS)\n",
    "p_fn.plot_function(DISCRETE_POINTS)"
   ]
  },
  {
   "cell_type": "code",
   "execution_count": 275,
   "metadata": {
    "id": "gkaM1LAku8Fn"
   },
   "outputs": [],
   "source": [
    "batch_res = None"
   ]
  },
  {
   "cell_type": "code",
   "execution_count": 276,
   "metadata": {
    "id": "xotn1EXJu8Fn"
   },
   "outputs": [],
   "source": [
    "model_res_32 = None\n",
    "model_res_64 = None\n",
    "model_res_128 = None"
   ]
  },
  {
   "cell_type": "code",
   "execution_count": 277,
   "metadata": {
    "id": "hHfA9AgYu8Fo"
   },
   "outputs": [],
   "source": [
    "### TRAIN MODEL HERE ###\n",
    "def run_batch_training(nn_model, v_x, optimizer):\n",
    "    \n",
    "    now = datetime.datetime.now(tz=timezone('US/Eastern'))\n",
    "    print(\"Start time is \" + str(now))\n",
    "    start = time.time()\n",
    "    \n",
    "    model_res = nn_model.batch_train_with_penalty(NUM_EPOCHS, \n",
    "                                                v_x, \n",
    "                                                optimizer, \n",
    "                                                LAMBDA_PEN, \n",
    "                                                DISCRETE_POINTS)\n",
    "    end = time.time()\n",
    "    time1 = end-start\n",
    "    print(\"Using potential function defined as class takes \" + str(time1))\n",
    "    return model_res\n",
    "\n",
    "def run_minibatch_training(nn_model, v_x, optimizer, b_size):\n",
    "    now = datetime.datetime.now(tz=timezone('US/Eastern'))\n",
    "    print((\"Start time for batch_size = {a} is \" + str(now)).format(a=b_size))\n",
    "    start = time.time()\n",
    "    \n",
    "    model_res = nn_model.minibatch_train_with_penalty(NUM_EPOCHS, \n",
    "                                                      v_x, \n",
    "                                                      optimizer, \n",
    "                                                      LAMBDA_PEN, \n",
    "                                                      DISCRETE_POINTS,\n",
    "                                                      batch_size=b_size)\n",
    "    \n",
    "    end = time.time()\n",
    "    time1 = end-start\n",
    "    print(\"Using potential function defined as class takes \" + str(time1))\n",
    "    return model_res"
   ]
  },
  {
   "cell_type": "code",
   "execution_count": null,
   "metadata": {
    "id": "41WEANauu8Fo",
    "jupyter": {
     "source_hidden": true
    },
    "outputId": "aa42a8e6-9041-4434-d64b-9aa2bd53f4a7"
   },
   "outputs": [],
   "source": [
    "test_model = Nonlinear(20)\n",
    "adam_opt = torch.optim.Adam(test_model.parameters(), \n",
    "                                    lr=learningRate, \n",
    "                                    betas=(0.9, 0.999), \n",
    "                                    eps=1e-08, \n",
    "                                    weight_decay=0, \n",
    "                                    amsgrad=False)\n",
    "test_res = run_minibatch_training(test_model, e_fn, adam_opt, b_size=64)"
   ]
  },
  {
   "cell_type": "code",
   "execution_count": null,
   "metadata": {
    "id": "at88XmGsu8Fo",
    "jupyter": {
     "source_hidden": true
    },
    "outputId": "c21689e4-e128-48cf-da4f-4e591a1b35a0"
   },
   "outputs": [],
   "source": [
    "test_model.normalize_model(DISCRETE_POINTS)"
   ]
  },
  {
   "cell_type": "code",
   "execution_count": null,
   "metadata": {
    "colab": {
     "base_uri": "https://localhost:8080/"
    },
    "id": "SwHGUQM7u8Fo",
    "outputId": "d93d6368-dd44-4107-d096-a45a99a59118"
   },
   "outputs": [],
   "source": [
    "batch_res = run_batch_training(batch_model, p_fn, adam_optimizer)"
   ]
  },
  {
   "cell_type": "code",
   "execution_count": 87,
   "metadata": {},
   "outputs": [],
   "source": [
    "min_val = min(batch_res[2])\n",
    "\n",
    "for i in range(len(batch_res[2])):\n",
    "    if abs(batch_res[2][i]-min_val) > 1e-2:\n",
    "        print(i)"
   ]
  },
  {
   "cell_type": "code",
   "execution_count": null,
   "metadata": {
    "colab": {
     "base_uri": "https://localhost:8080/"
    },
    "id": "eactaYzIu8Fp",
    "outputId": "7b8ee9cd-95c4-4c63-a90b-1582599faea2"
   },
   "outputs": [],
   "source": [
    "batch_model.normalize_model(DISCRETE_POINTS)"
   ]
  },
  {
   "cell_type": "code",
   "execution_count": 55,
   "metadata": {},
   "outputs": [
    {
     "data": {
      "text/plain": [
       "0.39970827102661133"
      ]
     },
     "execution_count": 55,
     "metadata": {},
     "output_type": "execute_result"
    }
   ],
   "source": [
    "max(batch_res[2][1200:3000])-min(batch_res[2][1200:3000])"
   ]
  },
  {
   "cell_type": "code",
   "execution_count": 280,
   "metadata": {
    "colab": {
     "base_uri": "https://localhost:8080/",
     "height": 431
    },
    "id": "t8zlIQrhu8Fp",
    "outputId": "7a0d38b5-179a-4c7c-f6ee-87ee1c452d66"
   },
   "outputs": [
    {
     "data": {
      "text/plain": [
       "<Figure size 432x288 with 0 Axes>"
      ]
     },
     "metadata": {},
     "output_type": "display_data"
    },
    {
     "data": {
      "image/png": "[encoded data removed]",
      "text/plain": [
       "<Figure size 640x480 with 1 Axes>"
      ]
     },
     "metadata": {
      "needs_background": "light"
     },
     "output_type": "display_data"
    }
   ],
   "source": [
    "plot_figure(batch_res[0], (batch_res[2]))"
   ]
  },
  {
   "cell_type": "code",
   "execution_count": 203,
   "metadata": {},
   "outputs": [
    {
     "data": {
      "text/plain": [
       "0.4980825331381389"
      ]
     },
     "execution_count": 203,
     "metadata": {},
     "output_type": "execute_result"
    }
   ],
   "source": [
    "sum(batch_res[2][2000:2700])/len(batch_res[2][2000:2700])"
   ]
  },
  {
   "cell_type": "code",
   "execution_count": 281,
   "metadata": {
    "colab": {
     "base_uri": "https://localhost:8080/",
     "height": 431
    },
    "id": "QHGLUkBru8Fp",
    "outputId": "375e4f67-3241-4e6a-8111-f5fdb3227739"
   },
   "outputs": [
    {
     "data": {
      "text/plain": [
       "<Figure size 432x288 with 0 Axes>"
      ]
     },
     "metadata": {},
     "output_type": "display_data"
    },
    {
     "data": {
      "image/png": "[encoded data removed]",
      "text/plain": [
       "<Figure size 640x480 with 1 Axes>"
      ]
     },
     "metadata": {
      "needs_background": "light"
     },
     "output_type": "display_data"
    }
   ],
   "source": [
    "x_values = np.linspace(L_BOUND, U_BOUND, N_POINTS)\n",
    "x_vals = [torch.tensor([i], requires_grad=True, dtype=torch.float) for i in np.linspace(L_BOUND, U_BOUND, N_POINTS)]\n",
    "\n",
    "model_output = model_on_interval(batch_model, DISCRETE_POINTS)\n",
    "\n",
    "plot_figure(x_values, model_output)\n",
    "# plot_figure(x_values, model_output)"
   ]
  },
  {
   "cell_type": "markdown",
   "metadata": {
    "id": "GkopNesmu8Fp"
   },
   "source": [
    "## The Finite Difference Method ##"
   ]
  },
  {
   "cell_type": "code",
   "execution_count": 173,
   "metadata": {
    "id": "hvjbuZspu8Fq"
   },
   "outputs": [],
   "source": [
    "def fd_method_2(lower_bound, upper_bound, N_points, given_fn):\n",
    "    discrete_points = np.linspace(lower_bound, upper_bound, N_points)\n",
    "    h = discrete_points[1]-discrete_points[0]\n",
    "    c = np.sqrt(1/h)\n",
    "    H = np.zeros((N_points-2,N_points-2))\n",
    "    # Question: Why H has dimension (N-2) x (N-2)?\n",
    "    V = np.zeros((N_points-2,N_points-2))\n",
    "    \n",
    "    for i in range (N_points-2):\n",
    "        for j in range (N_points-2):\n",
    "            if i == j:\n",
    "                H[i][j] = -2\n",
    "            elif abs(i-j) == 1:\n",
    "                H[i][j] = 1\n",
    "                \n",
    "    for i in range (N_points-2):\n",
    "        for j in range (N_points-2):\n",
    "            if i == j:\n",
    "                V[i][j] = given_fn.forward(discrete_points[i])\n",
    "                \n",
    "    A = -H/(h**2) + V\n",
    "    \n",
    "    eig_val, eig_vec = np.linalg.eig(A)\n",
    "    sorted_id_eig_val = np.argsort(eig_val)\n",
    "    # Get the indices that would sort eig_val\n",
    "    z = sorted_id_eig_val[0:1] # Bc. eig_val first 4 value is in ascending order, \n",
    "    # eig_val[z] will return sorted first [T] value of eigenvalues.\n",
    "    energies = eig_val[z]/eig_val[z][0]\n",
    "\n",
    "    ground_state = c * eig_vec[:,z[0]]\n",
    "\n",
    "    return (eig_val[z], ground_state)"
   ]
  },
  {
   "cell_type": "code",
   "execution_count": 174,
   "metadata": {
    "id": "qkg6Zfo7u8Fq"
   },
   "outputs": [],
   "source": [
    "def finite_diff_method(lower_bound, upper_bound, N_points, given_fn):\n",
    "    discrete_points = np.linspace(lower_bound, upper_bound, N_points)\n",
    "    h = discrete_points[1]-discrete_points[0]\n",
    "    c = np.sqrt(1/h)\n",
    "\n",
    "    H = np.zeros((N_points,N_points))\n",
    "    # Question: Why H has dimension (N-2) x (N-2)?\n",
    "    V = np.zeros((N_points,N_points))\n",
    "\n",
    "    for i in range (N_points):\n",
    "        for j in range (N_points):\n",
    "            if i == j:\n",
    "                H[i][j] = -2\n",
    "            elif abs(i-j) == 1:\n",
    "                H[i][j] = 1\n",
    "    for i in range (N_points):\n",
    "        for j in range (N_points):\n",
    "            if i == j:\n",
    "                V[i][j] = given_fn.forward(discrete_points[i])\n",
    "\n",
    "    A = -H/(h**2) + V\n",
    "    \n",
    "    eig_val, eig_vec = np.linalg.eig(A)\n",
    "    sorted_id_eig_val = np.argsort(eig_val)\n",
    "    # Get the indices that would sort eig_val\n",
    "    z = sorted_id_eig_val[0:1] # Bc. eig_val first 4 value is in ascending order, \n",
    "    # eig_val[z] will return sorted first [T] value of eigenvalues.\n",
    "    energies = eig_val[z]/eig_val[z][0]\n",
    "\n",
    "    ground_state = c * eig_vec[:,z[0]]\n",
    "\n",
    "    return (eig_val[z], ground_state)"
   ]
  },
  {
   "cell_type": "code",
   "execution_count": 204,
   "metadata": {
    "id": "lIGR6Gohu8Fr"
   },
   "outputs": [],
   "source": [
    "def plot_finite_diff_sol(eig_val, ground_state, discrete_points, nn_model=None):\n",
    "    plt.figure(figsize=(12,10))\n",
    "    for i in range(len(eig_val)):\n",
    "        y = []\n",
    "        y = np.append(y, (-1) * -ground_state)\n",
    "\n",
    "        plt.plot(discrete_points,y,lw=3, label=\"{} \".format(i))\n",
    "        plt.xlabel('x', size=14)\n",
    "        plt.ylabel('$\\psi$(x)',size=14)\n",
    "    if nn_model != None:\n",
    "        model_output = model_on_interval(nn_model, DISCRETE_POINTS)\n",
    "        plt.plot(discrete_points, model_output)\n",
    "    plt.legend()\n",
    "    plt.title('normalized wavefunctions for a harmonic oscillator using finite difference method',size=14)\n",
    "    plt.show()\n",
    "    return"
   ]
  },
  {
   "cell_type": "code",
   "execution_count": 266,
   "metadata": {
    "colab": {
     "base_uri": "https://localhost:8080/",
     "height": 265
    },
    "id": "EToE2Upuu8Fm",
    "outputId": "5ea17696-5747-44c1-a379-6058b3d772b4"
   },
   "outputs": [
    {
     "data": {
      "image/png": "[encoded data removed]",
      "text/plain": [
       "<Figure size 432x288 with 1 Axes>"
      ]
     },
     "metadata": {
      "needs_background": "light"
     },
     "output_type": "display_data"
    }
   ],
   "source": [
    "# Init. potential function instance\n",
    "p_fn = Potential_Function()\n",
    "p_fn.plot_function(DISCRETE_POINTS)"
   ]
  },
  {
   "cell_type": "code",
   "execution_count": 267,
   "metadata": {
    "colab": {
     "base_uri": "https://localhost:8080/",
     "height": 302
    },
    "id": "Za5V5u4Eu8Fn",
    "outputId": "3523acc6-e189-4736-9a05-3adcc8fa9f8c"
   },
   "outputs": [
    {
     "name": "stdout",
     "output_type": "stream",
     "text": [
      "Original min val = -3.8592441284024055\n",
      "Min val with c_0 updated = 0.1407558715975945\n"
     ]
    },
    {
     "data": {
      "image/png": "[encoded data removed]",
      "text/plain": [
       "<Figure size 432x288 with 1 Axes>"
      ]
     },
     "metadata": {
      "needs_background": "light"
     },
     "output_type": "display_data"
    }
   ],
   "source": [
    "p_fn.update_potential_fn(DISCRETE_POINTS)\n",
    "p_fn.plot_function(DISCRETE_POINTS)"
   ]
  },
  {
   "cell_type": "code",
   "execution_count": 268,
   "metadata": {
    "colab": {
     "base_uri": "https://localhost:8080/"
    },
    "id": "VDEST0Buu8Fr",
    "outputId": "224e7aad-2999-42c2-d6cf-a05899c2584b"
   },
   "outputs": [
    {
     "name": "stdout",
     "output_type": "stream",
     "text": [
      "[1.22746061]\n",
      "[1.22746061]\n"
     ]
    }
   ],
   "source": [
    "fd_res = finite_diff_method(L_BOUND, U_BOUND, N_POINTS, p_fn)\n",
    "fd_res2 = fd_method_2(L_BOUND, U_BOUND, N_POINTS, p_fn)\n",
    "print(fd_res[0])\n",
    "print(fd_res2[0])"
   ]
  },
  {
   "cell_type": "code",
   "execution_count": 269,
   "metadata": {},
   "outputs": [
    {
     "data": {
      "image/png": "[encoded data removed]",
      "text/plain": [
       "<Figure size 864x720 with 1 Axes>"
      ]
     },
     "metadata": {
      "needs_background": "light"
     },
     "output_type": "display_data"
    }
   ],
   "source": [
    "plot_finite_diff_sol(fd_res[0], fd_res[1], DISCRETE_POINTS)"
   ]
  },
  {
   "cell_type": "code",
   "execution_count": 156,
   "metadata": {},
   "outputs": [
    {
     "data": {
      "text/plain": [
       "1.352220980710314"
      ]
     },
     "execution_count": 156,
     "metadata": {},
     "output_type": "execute_result"
    }
   ],
   "source": [
    "p_fn.rescale * 2.565580129623413"
   ]
  },
  {
   "cell_type": "code",
   "execution_count": 283,
   "metadata": {
    "colab": {
     "base_uri": "https://localhost:8080/"
    },
    "id": "C1f9d5z_u8Fs",
    "outputId": "760a0dd3-814a-46bf-a995-cc0eea579c77"
   },
   "outputs": [
    {
     "name": "stdout",
     "output_type": "stream",
     "text": [
      "The FD method eigenvalue: 1.2274606132546275\n",
      "The NN method loss value: 1.3539081811904907\n"
     ]
    }
   ],
   "source": [
    "loss_val = epsilon_Loss_penalty(p_fn, batch_model, LAMBDA_PEN, U_BOUND, DISCRETE_POINTS)[0]\n",
    "print(\"The FD method eigenvalue: \" + str(fd_res[0][0]))\n",
    "print(\"The NN method loss value: \" + str(loss_val.item()))"
   ]
  },
  {
   "cell_type": "code",
   "execution_count": 282,
   "metadata": {
    "colab": {
     "base_uri": "https://localhost:8080/",
     "height": 627
    },
    "id": "KJobfb8zu8Fs",
    "outputId": "654bfe44-5d4a-4c11-f1d2-b300bc10d03a"
   },
   "outputs": [
    {
     "data": {
      "image/png": "[encoded data removed]",
      "text/plain": [
       "<Figure size 864x720 with 1 Axes>"
      ]
     },
     "metadata": {
      "needs_background": "light"
     },
     "output_type": "display_data"
    }
   ],
   "source": [
    "plot_finite_diff_sol(fd_res[0], fd_res[1], DISCRETE_POINTS, batch_model)"
   ]
  },
  {
   "cell_type": "code",
   "execution_count": null,
   "metadata": {
    "id": "RL15n3Nau8Fs"
   },
   "outputs": [],
   "source": []
  }
 ],
 "metadata": {
  "colab": {
   "name": "mini_batch_adam_pf.ipynb",
   "provenance": []
  },
  "kernelspec": {
   "display_name": "Python 3",
   "language": "python",
   "name": "python3"
  },
  "language_info": {
   "codemirror_mode": {
    "name": "ipython",
    "version": 3
   },
   "file_extension": ".py",
   "mimetype": "text/x-python",
   "name": "python",
   "nbconvert_exporter": "python",
   "pygments_lexer": "ipython3",
   "version": "3.7.7"
  }
 },
 "nbformat": 4,
 "nbformat_minor": 4
}
