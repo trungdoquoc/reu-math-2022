{
 "cells": [
  {
   "cell_type": "code",
   "execution_count": 87,
   "metadata": {},
   "outputs": [],
   "source": [
    "import time\n",
    "import numpy as np\n",
    "import copy\n",
    "import torch\n",
    "import torch.nn as nn\n",
    "import math\n",
    "from torch.autograd import Variable\n",
    "import matplotlib.pyplot as plt\n",
    "\n",
    "LAMBDA_PEN = 1000\n",
    "L_BOUND = -10\n",
    "U_BOUND = 10\n",
    "N_POINTS = 500\n",
    "num_epochs = 20000\n",
    "\n",
    "SELECTION_RATE = 0.05\n",
    "\n",
    "DISCRETE_POINTS = np.linspace(L_BOUND, U_BOUND, N_POINTS)"
   ]
  },
  {
   "cell_type": "code",
   "execution_count": 116,
   "metadata": {},
   "outputs": [],
   "source": [
    "def epsilon_Loss(v_x, model_u, upper_bound, discrete_points):\n",
    "    \"\"\"\n",
    "    GOAL: Epsilon function evaluated at u using discretized estimation\n",
    "    minimizing Epsilon(u) = \n",
    "    \n",
    "    ARGS: \n",
    "    n_points (int): number of discretized points on the interval [-L, L]\n",
    "    e.g.: -(L)|---|---|---|---|(L) interval has n_points = 5\n",
    "\n",
    "    v_x (torch.Tensor): function instance\n",
    "    model_u (torch.Tensor): model output\n",
    "    \"\"\"\n",
    "    total = 0\n",
    "    h = (2*upper_bound)/(len(discrete_points)-1)\n",
    "    for i in discrete_points:\n",
    "        x_i = torch.tensor([i], requires_grad=True, dtype=torch.float)\n",
    "        u_xi = model_u(x_i)\n",
    "\n",
    "        u_prime_x = model_u.u_prime(x_i)\n",
    "        \n",
    "        v_xi = v_x.forward(i)\n",
    "        if v_xi < 0:\n",
    "            raise ValueError('Potential Function value is < 0')\n",
    "        t = torch.abs(torch.square(u_prime_x)) + v_xi*torch.square(u_xi)\n",
    "        total += t\n",
    "    return h*total\n",
    "\n",
    "def epsilon_Loss_penalty(v_x, model_u, lambda_pen,\n",
    "                         upper_bound, discrete_points):\n",
    "    \"\"\"\n",
    "    \n",
    "    \"\"\"\n",
    "    eps_sum = 0\n",
    "    pen = 0\n",
    "    \n",
    "    h = (2*upper_bound)/(len(discrete_points)-1)\n",
    "    for i in discrete_points:\n",
    "        x_i = torch.tensor([i], requires_grad=True, dtype=torch.float)\n",
    "        u_prime = model_u.u_prime(x_i)\n",
    "        \n",
    "        v_xi = v_x.forward(i)\n",
    "        if v_xi < 0:\n",
    "            raise ValueError('Potential Function value is < 0')\n",
    "        u_xi = model_u(x_i)\n",
    "        u_xi_square = torch.square(u_xi)\n",
    "\n",
    "        t = torch.abs(torch.square(u_prime)) + v_xi*u_xi_square\n",
    "        eps_sum += t\n",
    "        \n",
    "        pen+= u_xi_square\n",
    "        \n",
    "    epsilon_fn = h*eps_sum\n",
    "\n",
    "    penalty = lambda_pen * torch.square(h*pen-1)\n",
    "#     print(\"epsilon_fn value = \" + str(epsilon_fn))\n",
    "#     print(\"penalty value = \" + str(penalty))\n",
    "    return epsilon_fn + penalty "
   ]
  },
  {
   "cell_type": "code",
   "execution_count": 133,
   "metadata": {},
   "outputs": [],
   "source": [
    "# CREATING MODEL CLASS\n",
    "class Nonlinear(nn.Module):\n",
    "    def __init__(self, n):\n",
    "        # One hidden layer with n nodes\n",
    "        super().__init__()\n",
    "        self.hidden = nn.Linear(1, n)\n",
    "        self.output = nn.Linear(n, 1)\n",
    "        \n",
    "        self.sigmoid = nn.Sigmoid()\n",
    "        self.tanh = nn.Tanh()\n",
    "#         self.sine = Sine()\n",
    "\n",
    "    def forward(self, x, use_tanh_fn = False):\n",
    "        if use_tanh_fn == True:\n",
    "            x = self.hidden(x)\n",
    "            x = self.tanh(x)\n",
    "            x = self.output(x)\n",
    "        else:\n",
    "            x = self.hidden(x)\n",
    "            x = self.sigmoid(x)\n",
    "            x = self.output(x)\n",
    "        return x\n",
    "\n",
    "    def normalize_model(self, discrete_points):\n",
    "        \"\"\"\n",
    "        GOAL: Normalize the output weight layer\n",
    "        model.output *= c\n",
    "        where,\n",
    "        scalar c = 1/denom\n",
    "        \"\"\"\n",
    "        \n",
    "        h = discrete_points[1] - discrete_points[0]\n",
    "        s = 0\n",
    "        for i in discrete_points:\n",
    "            x_i = torch.tensor([i], requires_grad=True, dtype=torch.float)\n",
    "            s += self(x_i)**2\n",
    "        denom = math.sqrt(h) * torch.sqrt(s)\n",
    "        c = 1/denom\n",
    "\n",
    "        print(\"Before normalization: \")\n",
    "        print(self.output.weight.data)\n",
    "        print(self.output.bias.data)\n",
    "        \n",
    "        self.output.weight.data.copy_(c.item() * self.output.weight.data)\n",
    "        self.output.bias.data.copy_(c.item() * self.output.bias.data)\n",
    "\n",
    "        print(\"After normalization: \")\n",
    "        print(self.output.weight.data)\n",
    "        print(self.output.bias.data)\n",
    "        print(\"c value = \" + str(c))\n",
    "\n",
    "        return \n",
    "\n",
    "    def u_prime(self, x_in):\n",
    "        y = self(x_in)\n",
    "        y_prime = torch.autograd.grad(y.sum(), x_in, create_graph=True)\n",
    "        return y_prime[0]\n",
    "    \n",
    "    # TRANING MODEL\n",
    "    def train_network_with_penalty(self, num_epochs, v_x, optimizer, \n",
    "                                   lambda_pen, discrete_points):\n",
    "        # For plotting loss value over epochs:\n",
    "        x_epochs = []\n",
    "        y_loss = []\n",
    "        y_loss_pen = []\n",
    "\n",
    "        for epoch in range(num_epochs):\n",
    "            optimizer.zero_grad()\n",
    "#             rand_points = np.random.choice(discrete_points, \n",
    "#                                            size=int(N_POINTS*SELECTION_RATE), \n",
    "#                                            replace=False)\n",
    "            loss_pen = epsilon_Loss_penalty(v_x, self, lambda_pen,\n",
    "                                        U_BOUND, discrete_points)\n",
    "            loss = epsilon_Loss(v_x, self,\n",
    "                                U_BOUND, discrete_points)\n",
    "\n",
    "            y_loss_pen.append(loss_pen.detach().numpy().item())\n",
    "            y_loss.append(loss.detach().numpy().item())\n",
    "            x_epochs.append(epoch)\n",
    "        \n",
    "            if epoch % 100 == 0:\n",
    "                print('epoch {}, loss with penalty {}'.format(epoch, loss_pen.item()))\n",
    "            loss_pen.backward()\n",
    "            optimizer.step()\n",
    "\n",
    "        print('Please normalize after training')\n",
    "        return (x_epochs, y_loss_pen, y_loss)"
   ]
  },
  {
   "cell_type": "code",
   "execution_count": 85,
   "metadata": {
    "jupyter": {
     "source_hidden": true
    }
   },
   "outputs": [],
   "source": [
    "def potential_func_iterative(x, t_list, c_list, M_points=M_POINTS, L_endpoint=U_BOUND, c_0=50):\n",
    "    f_value = 0\n",
    "    summation = 0\n",
    "    #Iterative method:\n",
    "\n",
    "    for i in range(1, M_points+1):\n",
    "        cos_val = np.cos((i * math.pi * x)/L_endpoint)\n",
    "        summation += t_list[i-1] * c_list[i-1] * cos_val\n",
    "\n",
    "    f_value += summation\n",
    "    f_value += c_0\n",
    "\n",
    "    return f_value\n",
    "\n",
    "\n",
    "def potential_func_linalg(x, M_points=20, L_endpoint=U_BOUND, alpha=3, c_0=100):    \n",
    "    # Linear Algebra method:\n",
    "    t_i = np.random.normal(0, 1, size=N_points)\n",
    "    \n",
    "    iter1 = ((math.pi/(i*L_endpoint))**alpha for i in range(1, M_points+1))\n",
    "    c_i = np.fromiter(iter1, float)\n",
    "    a = np.multiply(t_i, c_i)\n",
    "\n",
    "    iter2 = (i for i in range(1, M_points+1))\n",
    "    v = np.fromiter(iter2, float)\n",
    "    s = (L_endpoint*x/math.pi)*v\n",
    "    cos_s = np.cos(s)\n",
    "    \n",
    "    res_vector = np.multiply(a, cos_s)\n",
    "    return np.sum(res_vector) + c_0"
   ]
  },
  {
   "cell_type": "code",
   "execution_count": 121,
   "metadata": {},
   "outputs": [],
   "source": [
    "class Potential_Function:\n",
    "    def __init__(self, c_0,\n",
    "                 M_points=M_POINTS,\n",
    "                 L_endpoint=U_BOUND, \n",
    "                 alpha=ALPHA):\n",
    "        self.M_points = M_points\n",
    "        self.L_endpoint = L_endpoint\n",
    "        self.alpha = alpha\n",
    "        self.c_0 = c_0\n",
    "        \n",
    "        self.ti_list = np.random.normal(loc=0, scale=1.0, size= self.M_points)\n",
    "        self.ci_list = [(self.L_endpoint/(i * math.pi))**self.alpha for i in range(1, self.M_points+1)]\n",
    "        \n",
    "    def forward(self, x):\n",
    "        f_value = 0\n",
    "        summation = 0\n",
    "        #Iterative method:\n",
    "\n",
    "        for i in range(1, self.M_points+1):\n",
    "            cos_val = np.cos((i * math.pi * x)/self.L_endpoint)\n",
    "            summation += self.ti_list[i-1] * self.ci_list[i-1] * cos_val\n",
    "\n",
    "        f_value += summation\n",
    "        f_value += self.c_0\n",
    "\n",
    "        return f_value"
   ]
  },
  {
   "cell_type": "code",
   "execution_count": 84,
   "metadata": {},
   "outputs": [],
   "source": [
    "def model_on_interval(nn_model, discrete_points):\n",
    "    x_vals = [torch.tensor([i], requires_grad=True, dtype=torch.float) for i in discrete_points]\n",
    "\n",
    "    model_output = []\n",
    "    for i in x_vals:\n",
    "        model_output.append(nn_model(i).detach().numpy().item())\n",
    "    return model_output"
   ]
  },
  {
   "cell_type": "code",
   "execution_count": 151,
   "metadata": {},
   "outputs": [],
   "source": [
    "t_f = Potential_Function(c_0=50)"
   ]
  },
  {
   "cell_type": "code",
   "execution_count": 214,
   "metadata": {},
   "outputs": [
    {
     "name": "stdout",
     "output_type": "stream",
     "text": [
      "0.00011086463928222656\n",
      "7.987022399902344e-05\n"
     ]
    }
   ],
   "source": [
    "start = time.time()\n",
    "r1 = potential_func_iterative(10, t_list=ti_list, c_list=ci_list)\n",
    "end = time.time()\n",
    "time1 = end-start\n",
    "# print(r1)\n",
    "print(time1)\n",
    "\n",
    "start = time.time()\n",
    "r2 = t_f.forward(10)\n",
    "end = time.time()\n",
    "time2 = end-start\n",
    "# print(r2)\n",
    "print(time2)"
   ]
  },
  {
   "cell_type": "code",
   "execution_count": 225,
   "metadata": {},
   "outputs": [
    {
     "data": {
      "text/plain": [
       "[<matplotlib.lines.Line2D at 0x7fc123b8a550>]"
      ]
     },
     "execution_count": 225,
     "metadata": {},
     "output_type": "execute_result"
    },
    {
     "data": {
      "image/png": "[encoded data removed]",
      "text/plain": [
       "<Figure size 432x288 with 1 Axes>"
      ]
     },
     "metadata": {
      "needs_background": "light"
     },
     "output_type": "display_data"
    }
   ],
   "source": [
    "y_p = [potential_func_iterative(i, t_list, ci_list) for i in DISCRETE_POINTS]\n",
    "plt.plot(DISCRETE_POINTS, y_p)"
   ]
  },
  {
   "cell_type": "code",
   "execution_count": 110,
   "metadata": {},
   "outputs": [
    {
     "data": {
      "text/plain": [
       "0"
      ]
     },
     "execution_count": 110,
     "metadata": {},
     "output_type": "execute_result"
    }
   ],
   "source": [
    "min_val = 0\n",
    "for i in range(1000):\n",
    "    t_list = np.random.normal(loc=0, scale=1.0, size= M_POINTS)\n",
    "    ci_list = [(U_BOUND/(i * math.pi))**ALPHA for i in range(1, M_POINTS+1)]\n",
    "    y_p = [potential_func_iterative(i, t_list, ci_list) for i in DISCRETE_POINTS]\n",
    "    if min(y_p) <= min_val:\n",
    "        min_val=min(y_p)\n",
    "min_val"
   ]
  },
  {
   "cell_type": "code",
   "execution_count": 226,
   "metadata": {},
   "outputs": [
    {
     "name": "stdout",
     "output_type": "stream",
     "text": [
      "0\n",
      "2\n",
      "4\n",
      "6\n",
      "8\n"
     ]
    }
   ],
   "source": [
    "for i in range(0, 10, 2):\n",
    "    print(i)"
   ]
  },
  {
   "cell_type": "code",
   "execution_count": null,
   "metadata": {},
   "outputs": [],
   "source": [
    "def minibatch_gradient_descent(X,y,theta,learning_rate=0.01, \n",
    "                               iterations=10, batch_size =20):\n",
    "    m = len(y)\n",
    "    cost_history = np.zeros(iterations)\n",
    "    n_batches = int(m/batch_size)\n",
    "    for it in range(iterations):\n",
    "        cost =0.0\n",
    "        indices = np.random.permutation(m)\n",
    "        X = X[indices]\n",
    "        y = y[indices]\n",
    "        for i in range(0,m,batch_size):\n",
    "            X_i = X[i:i+batch_size]\n",
    "            y_i = y[i:i+batch_size]\n",
    "            X_i = np.c_[np.ones(len(X_i)),X_i]\n",
    "            prediction = np.dot(X_i,theta)\n",
    "            theta = theta -(1/m)*learning_rate *\n",
    "                            ( X_i.T.dot((prediction - y_i)))\n",
    "            cost += cal_cost(theta,X_i,y_i)\n",
    "        cost_history[it]  = cost\n",
    "    return theta, cost_history"
   ]
  },
  {
   "cell_type": "code",
   "execution_count": 171,
   "metadata": {},
   "outputs": [],
   "source": [
    "learningRate = 0.008\n",
    "# For potential function\n",
    "M_POINTS = 5\n",
    "ALPHA = 2\n",
    "# ti_list = np.random.normal(loc=0, scale=1.0, size= M_POINTS)\n",
    "# ci_list = [(U_BOUND/(i * math.pi))**ALPHA for i in range(1, M_POINTS+1)]\n",
    "potential_fn_class = Potential_Function(c_0=50)\n",
    "\n",
    "\n",
    "#INIT MODEL\n",
    "model = Nonlinear(20)\n",
    "model_2 = Nonlinear(20)\n",
    "if torch.cuda.is_available():\n",
    "    model.cuda()\n",
    "    model_2.cuda()\n",
    "\n",
    "# INIT OPTIMIZER CLASS\n",
    "# SGD:\n",
    "sgd_optimizer = torch.optim.SGD(model.parameters(), lr=0.01, momentum=0.9)\n",
    "\n",
    "# Adam:\n",
    "adam_optimizer = torch.optim.Adam(model.parameters(), \n",
    "                                    lr=learningRate, \n",
    "                                    betas=(0.9, 0.999), \n",
    "                                    eps=1e-08, \n",
    "                                    weight_decay=0, \n",
    "                                    amsgrad=False)\n",
    "\n",
    "adam_optimizer_2 = torch.optim.Adam(model_2.parameters(), \n",
    "                                    lr=learningRate, \n",
    "                                    betas=(0.9, 0.999), \n",
    "                                    eps=1e-08, \n",
    "                                    weight_decay=0, \n",
    "                                    amsgrad=False)"
   ]
  },
  {
   "cell_type": "code",
   "execution_count": 168,
   "metadata": {},
   "outputs": [],
   "source": [
    "# start = time.time()\n",
    "# res1 = x_square(10)\n",
    "# end = time.time()\n",
    "# time1 = end-start\n",
    "# print(time1)\n",
    "\n",
    "# start = time.time()\n",
    "# res2 = potential_func_iterative(10)\n",
    "# end = time.time()\n",
    "# time2 = end-start\n",
    "# print(time2)"
   ]
  },
  {
   "cell_type": "code",
   "execution_count": 169,
   "metadata": {},
   "outputs": [],
   "source": [
    "# PLOT DATA\n",
    "def plot_figure(x_val, y_val, x_test=None, predicted=None, log_scale=False):\n",
    "    plt.clf()\n",
    "    plt.figure(figsize=(8, 6), dpi=80)\n",
    "    if log_scale==True:\n",
    "        plt.yscale('log')\n",
    "    plt.plot(x_val, y_val, '--', label='True data', alpha=0.5)\n",
    "    if predicted != None:\n",
    "        plt.plot(x_test, predicted, '--', label='Predictions', alpha=0.5)\n",
    "    plt.legend(loc='best')\n",
    "    plt.show()"
   ]
  },
  {
   "cell_type": "code",
   "execution_count": null,
   "metadata": {},
   "outputs": [],
   "source": [
    "start = time.time()\n",
    "model_res = model.train_network_with_penalty(num_epochs, potential_fn, \n",
    "                                             adam_optimizer, LAMBDA_PEN, \n",
    "                                             DISCRETE_POINTS)\n",
    "end = time.time()\n",
    "time1 = end-start\n",
    "print(\"Using potential function defined as class takes \" + str(time1))"
   ]
  },
  {
   "cell_type": "code",
   "execution_count": 19,
   "metadata": {},
   "outputs": [
    {
     "name": "stdout",
     "output_type": "stream",
     "text": [
      "Before normalization: \n",
      "tensor([[-0.0015, -0.0011,  0.0952, -0.0009, -0.0017, -0.0019, -0.0019, -0.0014,\n",
      "         -0.0970, -0.0005]])\n",
      "tensor([0.2133])\n",
      "After normalization: \n",
      "tensor([[-0.0015, -0.0012,  0.1003, -0.0009, -0.0018, -0.0021, -0.0020, -0.0015,\n",
      "         -0.1023, -0.0005]])\n",
      "tensor([0.2249])\n",
      "c value = tensor([1.0544], grad_fn=<MulBackward0>)\n"
     ]
    }
   ],
   "source": [
    "model.normalize_model(DISCRETE_POINTS)"
   ]
  },
  {
   "cell_type": "code",
   "execution_count": 224,
   "metadata": {},
   "outputs": [
    {
     "data": {
      "text/plain": [
       "<Figure size 432x288 with 0 Axes>"
      ]
     },
     "metadata": {},
     "output_type": "display_data"
    },
    {
     "data": {
      "image/png": "[encoded data removed]",
      "text/plain": [
       "<Figure size 640x480 with 1 Axes>"
      ]
     },
     "metadata": {
      "needs_background": "light"
     },
     "output_type": "display_data"
    }
   ],
   "source": [
    "plot_figure(model_res[0], np.log(model_res[2]))"
   ]
  },
  {
   "cell_type": "code",
   "execution_count": 174,
   "metadata": {},
   "outputs": [
    {
     "data": {
      "text/plain": [
       "<Figure size 432x288 with 0 Axes>"
      ]
     },
     "metadata": {},
     "output_type": "display_data"
    },
    {
     "data": {
      "image/png": "[encoded data removed]",
      "text/plain": [
       "<Figure size 640x480 with 1 Axes>"
      ]
     },
     "metadata": {
      "needs_background": "light"
     },
     "output_type": "display_data"
    }
   ],
   "source": [
    "x_values = np.linspace(L_BOUND, U_BOUND, N_POINTS)\n",
    "x_vals = [torch.tensor([i], requires_grad=True, dtype=torch.float) for i in np.linspace(L_BOUND, U_BOUND, N_POINTS)]\n",
    "\n",
    "model_output = \n",
    "\n",
    "plot_figure(x_values, model_output)\n",
    "# plot_figure(x_values, model_output)"
   ]
  },
  {
   "cell_type": "code",
   "execution_count": 190,
   "metadata": {},
   "outputs": [
    {
     "data": {
      "text/plain": [
       "tensor([43.1780], grad_fn=<MulBackward0>)"
      ]
     },
     "execution_count": 190,
     "metadata": {},
     "output_type": "execute_result"
    }
   ],
   "source": [
    "epsilon_Loss(potential_fn, model, U_BOUND, DISCRETE_POINTS)"
   ]
  },
  {
   "cell_type": "code",
   "execution_count": 187,
   "metadata": {},
   "outputs": [
    {
     "data": {
      "text/plain": [
       "tensor([98372.0156], grad_fn=<AddBackward0>)"
      ]
     },
     "execution_count": 187,
     "metadata": {},
     "output_type": "execute_result"
    }
   ],
   "source": [
    "epsilon_Loss_penalty(potential_fn, model, U_BOUND, LAMBDA_PEN, DISCRETE_POINTS)"
   ]
  },
  {
   "cell_type": "markdown",
   "metadata": {},
   "source": [
    "## The Finite Difference Method ##"
   ]
  },
  {
   "cell_type": "code",
   "execution_count": 202,
   "metadata": {},
   "outputs": [],
   "source": [
    "def fd_method_2(lower_bound, upper_bound, N_points, given_fn):\n",
    "    discrete_points = np.linspace(lower_bound, upper_bound, N_points)\n",
    "    h = discrete_points[1]-discrete_points[0]\n",
    "    c = np.sqrt(1/h)\n",
    "    H = np.zeros((N_points-2,N_points-2))\n",
    "    # Question: Why H has dimension (N-2) x (N-2)?\n",
    "    V = np.zeros((N_points-2,N_points-2))\n",
    "    \n",
    "    for i in range (N_points-2):\n",
    "        for j in range (N_points-2):\n",
    "            if i == j:\n",
    "                H[i][j] = -2\n",
    "            elif abs(i-j) == 1:\n",
    "                H[i][j] = 1\n",
    "                \n",
    "    for i in range (N_points-2):\n",
    "        for j in range (N_points-2):\n",
    "            if i == j:\n",
    "                V[i][j] = given_fn.forward(discrete_points[i])\n",
    "                \n",
    "    A = -H/(h**2) + V\n",
    "    \n",
    "    eig_val, eig_vec = np.linalg.eig(A)\n",
    "    sorted_id_eig_val = np.argsort(eig_val)\n",
    "    # Get the indices that would sort eig_val\n",
    "    z = sorted_id_eig_val[0:1] # Bc. eig_val first 4 value is in ascending order, \n",
    "    # eig_val[z] will return sorted first [T] value of eigenvalues.\n",
    "    energies = eig_val[z]/eig_val[z][0]\n",
    "\n",
    "    ground_state = c * eig_vec[:,z[0]]\n",
    "\n",
    "    return (eig_val[z], ground_state)"
   ]
  },
  {
   "cell_type": "code",
   "execution_count": 178,
   "metadata": {},
   "outputs": [],
   "source": [
    "def finite_diff_method(lower_bound, upper_bound, N_points, given_fn):\n",
    "    discrete_points = np.linspace(lower_bound, upper_bound, N_points)\n",
    "    h = discrete_points[1]-discrete_points[0]\n",
    "    c = np.sqrt(1/h)\n",
    "\n",
    "    H = np.zeros((N_points,N_points))\n",
    "    # Question: Why H has dimension (N-2) x (N-2)?\n",
    "    V = np.zeros((N_points,N_points))\n",
    "\n",
    "    for i in range (N_points):\n",
    "        for j in range (N_points):\n",
    "            if i == j:\n",
    "                H[i][j] = -2\n",
    "            elif abs(i-j) == 1:\n",
    "                H[i][j] = 1\n",
    "    for i in range (N_points):\n",
    "        for j in range (N_points):\n",
    "            if i == j:\n",
    "                V[i][j] = given_fn.forward(discrete_points[i])\n",
    "\n",
    "    A = -H/(h**2) + V\n",
    "    \n",
    "    eig_val, eig_vec = np.linalg.eig(A)\n",
    "    sorted_id_eig_val = np.argsort(eig_val)\n",
    "    # Get the indices that would sort eig_val\n",
    "    z = sorted_id_eig_val[0:1] # Bc. eig_val first 4 value is in ascending order, \n",
    "    # eig_val[z] will return sorted first [T] value of eigenvalues.\n",
    "    energies = eig_val[z]/eig_val[z][0]\n",
    "\n",
    "    ground_state = c * eig_vec[:,z[0]]\n",
    "\n",
    "    return (eig_val[z], ground_state)"
   ]
  },
  {
   "cell_type": "code",
   "execution_count": 182,
   "metadata": {},
   "outputs": [],
   "source": [
    "def plot_finite_diff_sol(eig_val, ground_state, discrete_points, nn_model):\n",
    "    plt.figure(figsize=(12,10))\n",
    "    for i in range(len(eig_val)):\n",
    "        y = []\n",
    "        y = np.append(y, (-1) * ground_state)\n",
    "\n",
    "        plt.plot(discrete_points,y,lw=3, label=\"{} \".format(i))\n",
    "        plt.xlabel('x', size=14)\n",
    "        plt.ylabel('$\\psi$(x)',size=14)\n",
    "    model_output = model_on_interval(nn_model, DISCRETE_POINTS)\n",
    "    plt.plot(discrete_points, model_output)\n",
    "    plt.legend()\n",
    "    plt.title('normalized wavefunctions for a harmonic oscillator using finite difference method',size=14)\n",
    "    plt.show()\n",
    "    return"
   ]
  },
  {
   "cell_type": "code",
   "execution_count": 203,
   "metadata": {},
   "outputs": [],
   "source": [
    "fd_res = finite_diff_method(L_BOUND, U_BOUND, N_POINTS, potential_fn)\n",
    "fd_res2 = fd_method_2(L_BOUND, U_BOUND, N_POINTS, potential_fn)"
   ]
  },
  {
   "cell_type": "code",
   "execution_count": 218,
   "metadata": {},
   "outputs": [
    {
     "name": "stdout",
     "output_type": "stream",
     "text": [
      "The FD method eigenvalue: 44.05517568633645\n",
      "The NN method loss value: 43.17799758911133\n"
     ]
    }
   ],
   "source": [
    "loss_val = epsilon_Loss(potential_fn, model, U_BOUND, DISCRETE_POINTS)\n",
    "print(\"The FD method eigenvalue: \" + str(fd_res[0][0]))\n",
    "print(\"The NN method loss value: \" + str(loss_val.item()))"
   ]
  },
  {
   "cell_type": "code",
   "execution_count": 205,
   "metadata": {},
   "outputs": [
    {
     "data": {
      "image/png": "[encoded data removed]",
      "text/plain": [
       "<Figure size 864x720 with 1 Axes>"
      ]
     },
     "metadata": {
      "needs_background": "light"
     },
     "output_type": "display_data"
    }
   ],
   "source": [
    "plot_finite_diff_sol(fd_res[0], fd_res[1], DISCRETE_POINTS, model)"
   ]
  },
  {
   "cell_type": "code",
   "execution_count": null,
   "metadata": {},
   "outputs": [],
   "source": []
  }
 ],
 "metadata": {
  "kernelspec": {
   "display_name": "Python 3",
   "language": "python",
   "name": "python3"
  },
  "language_info": {
   "codemirror_mode": {
    "name": "ipython",
    "version": 3
   },
   "file_extension": ".py",
   "mimetype": "text/x-python",
   "name": "python",
   "nbconvert_exporter": "python",
   "pygments_lexer": "ipython3",
   "version": "3.7.7"
  }
 },
 "nbformat": 4,
 "nbformat_minor": 4
}
