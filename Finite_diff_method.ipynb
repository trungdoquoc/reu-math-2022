{
 "cells": [
  {
   "cell_type": "code",
   "execution_count": 4,
   "metadata": {},
   "outputs": [],
   "source": [
    "import numpy as np\n",
    "import matplotlib.pyplot as plt"
   ]
  },
  {
   "cell_type": "code",
   "execution_count": 9,
   "metadata": {},
   "outputs": [],
   "source": [
    "a = float(input('enter lower limit of the domain: '))\n",
    "b = float(input('enter upper limit of the domain: '))\n",
    "N = int(input('enter number of grid points: '))"
   ]
  },
  {
   "cell_type": "markdown",
   "metadata": {},
   "source": [
    "We have the linear system Ax = λx\n",
    "\n",
    "Then decompose A into H + V, A = H+V"
   ]
  },
  {
   "cell_type": "code",
   "execution_count": 10,
   "metadata": {},
   "outputs": [],
   "source": [
    "x = np.linspace(a,b,N+1)\n",
    "h = x[1]-x[0]"
   ]
  },
  {
   "cell_type": "code",
   "execution_count": 12,
   "metadata": {},
   "outputs": [
    {
     "data": {
      "text/plain": [
       "5"
      ]
     },
     "execution_count": 12,
     "metadata": {},
     "output_type": "execute_result"
    }
   ],
   "source": [
    "N"
   ]
  },
  {
   "cell_type": "code",
   "execution_count": 11,
   "metadata": {},
   "outputs": [
    {
     "data": {
      "text/plain": [
       "array([-10.,  -6.,  -2.,   2.,   6.,  10.])"
      ]
     },
     "execution_count": 11,
     "metadata": {},
     "output_type": "execute_result"
    }
   ],
   "source": [
    "x\n",
    "# [-10, 10] with N = 5 or N+1 = 6, we have [-10.,  -6.,  -2.,   2.,   6.,  10.]\n",
    "# There are N+1 datapoints, a datapoint is (2L/N-1) units away from its neighbor(s). "
   ]
  },
  {
   "cell_type": "code",
   "execution_count": 290,
   "metadata": {},
   "outputs": [],
   "source": [
    "def Vfunc(x):\n",
    "    return x**2"
   ]
  },
  {
   "cell_type": "code",
   "execution_count": 291,
   "metadata": {},
   "outputs": [],
   "source": [
    "H = np.zeros((N+1,N+1))\n",
    "# Question: Why H has dimension (N-2) x (N-2)?\n",
    "V = np.zeros((N+1,N+1))"
   ]
  },
  {
   "cell_type": "code",
   "execution_count": 292,
   "metadata": {},
   "outputs": [
    {
     "name": "stdout",
     "output_type": "stream",
     "text": [
      "[[2. 1. 0. ... 0. 0. 0.]\n",
      " [1. 2. 1. ... 0. 0. 0.]\n",
      " [0. 1. 2. ... 0. 0. 0.]\n",
      " ...\n",
      " [0. 0. 0. ... 2. 1. 0.]\n",
      " [0. 0. 0. ... 1. 2. 1.]\n",
      " [0. 0. 0. ... 0. 1. 2.]]\n"
     ]
    },
    {
     "data": {
      "text/plain": [
       "(101, 101)"
      ]
     },
     "execution_count": 292,
     "metadata": {},
     "output_type": "execute_result"
    }
   ],
   "source": [
    "for i in range (N+1):\n",
    "    for j in range (N+1):\n",
    "        if i == j:\n",
    "            H[i][j] = 2\n",
    "        elif abs(i-j) == 1:\n",
    "            H[i][j] = 1\n",
    "print(H)\n",
    "H.shape"
   ]
  },
  {
   "cell_type": "code",
   "execution_count": 294,
   "metadata": {},
   "outputs": [
    {
     "data": {
      "text/plain": [
       "array([[100.  ,   0.  ,   0.  , ...,   0.  ,   0.  ,   0.  ],\n",
       "       [  0.  ,  96.04,   0.  , ...,   0.  ,   0.  ,   0.  ],\n",
       "       [  0.  ,   0.  ,  92.16, ...,   0.  ,   0.  ,   0.  ],\n",
       "       ...,\n",
       "       [  0.  ,   0.  ,   0.  , ...,  92.16,   0.  ,   0.  ],\n",
       "       [  0.  ,   0.  ,   0.  , ...,   0.  ,  96.04,   0.  ],\n",
       "       [  0.  ,   0.  ,   0.  , ...,   0.  ,   0.  , 100.  ]])"
      ]
     },
     "execution_count": 294,
     "metadata": {},
     "output_type": "execute_result"
    }
   ],
   "source": [
    "for i in range (N+1):\n",
    "    for j in range (N+1):\n",
    "        if i == j:\n",
    "            V[i][j] = Vfunc(x[i])\n",
    "V"
   ]
  },
  {
   "cell_type": "code",
   "execution_count": 295,
   "metadata": {},
   "outputs": [],
   "source": [
    "A = -H/(h**2) + V"
   ]
  },
  {
   "cell_type": "code",
   "execution_count": 296,
   "metadata": {},
   "outputs": [
    {
     "data": {
      "text/plain": [
       "array([[ 50.  , -25.  ,   0.  , ...,   0.  ,   0.  ,   0.  ],\n",
       "       [-25.  ,  46.04, -25.  , ...,   0.  ,   0.  ,   0.  ],\n",
       "       [  0.  , -25.  ,  42.16, ...,   0.  ,   0.  ,   0.  ],\n",
       "       ...,\n",
       "       [  0.  ,   0.  ,   0.  , ...,  42.16, -25.  ,   0.  ],\n",
       "       [  0.  ,   0.  ,   0.  , ..., -25.  ,  46.04, -25.  ],\n",
       "       [  0.  ,   0.  ,   0.  , ...,   0.  , -25.  ,  50.  ]])"
      ]
     },
     "execution_count": 296,
     "metadata": {},
     "output_type": "execute_result"
    }
   ],
   "source": [
    "A"
   ]
  },
  {
   "cell_type": "code",
   "execution_count": 297,
   "metadata": {},
   "outputs": [
    {
     "data": {
      "text/plain": [
       "array([-99.0025063 , -97.01255697, -95.03272274, -93.06308255,\n",
       "       -91.10371743, -89.15471056, -87.21614742, -85.28811587,\n",
       "       -83.37070624, -81.46401149, -79.56812732, -77.68315228,\n",
       "       -75.80918794, -73.94633907, -72.09471374,  87.17026865,\n",
       "       -70.25442355, -68.42558382, -66.60831377, -64.80273676,\n",
       "       -63.00898053, -61.22717747, -59.45746488, -57.69998531,\n",
       "       -55.95488686,  75.32279827, -54.22232357, -52.50245583,\n",
       "        66.1160842 ,  58.3492786 , -50.79545078, -49.10148282,\n",
       "       -47.42073415, -45.75339531, -44.0996659 , -42.45975523,\n",
       "       -40.83388315, -39.22228097, -37.62519244, -36.04287486,\n",
       "       -34.47560041, -32.92365756, -31.38735271,  45.48688648,\n",
       "       -29.86701206, -28.36298366,  34.98880748, -26.87563979,\n",
       "       -25.40537949, -23.95263124, -22.51785576,  51.55449627,\n",
       "       -21.10154857,  58.3492786 , -19.70424223, -18.32650796,\n",
       "       -16.96895678, -15.63224056, -14.31705464,  30.39023824,\n",
       "        45.48688648,  39.997867  , -13.02414494, -11.75432449,\n",
       "       -10.50850653,  34.98880748,  -8.09342121,  -6.92721664,\n",
       "        30.39023824,  -5.79143563,  22.2333539 ,  -4.68971154,\n",
       "        -3.6250001 ,  -2.61378026,  22.2333539 ,  -1.62754554,\n",
       "         4.26825891,   4.26734515,  18.60733114,  18.60733114,\n",
       "        -0.8444981 ,   2.1517205 ,   2.12978431,   6.65647521,\n",
       "         6.65645023,   0.48091819,   9.28385247,   9.28385295,\n",
       "        12.14672512,  12.14672511,   0.22408588,  15.25070962,\n",
       "        15.25070962,  66.1160842 ,  75.32279827,  51.55449627,\n",
       "        26.15121206,  -9.28776361,  39.997867  ,  26.15121206,\n",
       "        87.17026865])"
      ]
     },
     "execution_count": 297,
     "metadata": {},
     "output_type": "execute_result"
    }
   ],
   "source": [
    "eig_val, eig_vec = np.linalg.eig(A)\n"
   ]
  },
  {
   "cell_type": "code",
   "execution_count": 301,
   "metadata": {},
   "outputs": [
    {
     "data": {
      "text/plain": [
       "array([-9.04634694e-17, -1.02670723e-16, -4.15270426e-17, -1.59114206e-16,\n",
       "        1.99022305e-16, -1.03224155e-16,  5.37731823e-17, -1.10881237e-17,\n",
       "       -8.43674417e-16, -3.62247033e-15, -1.49779002e-14, -6.43541490e-14,\n",
       "       -2.68093898e-13, -1.07937485e-12, -4.21105670e-12, -1.59079094e-11,\n",
       "       -5.81500554e-11, -2.05627649e-10, -7.03185620e-10, -2.32478486e-09,\n",
       "       -7.42821442e-09, -2.29318877e-08, -6.83777328e-08, -1.96868353e-07,\n",
       "       -5.47131221e-07, -1.46734082e-06, -3.79634472e-06, -9.47258670e-06,\n",
       "       -2.27884723e-05, -5.28424964e-05, -1.18073784e-04, -2.54161178e-04,\n",
       "       -5.26911103e-04, -1.05178812e-03, -2.02104589e-03, -3.73748483e-03,\n",
       "       -6.65029361e-03, -1.13832894e-02, -1.87401363e-02, -2.96669839e-02,\n",
       "       -4.51536544e-02, -6.60632901e-02, -9.28988196e-02, -1.25540549e-01,\n",
       "       -1.63015621e-01, -2.03376110e-01, -2.43756988e-01, -2.80652203e-01,\n",
       "       -3.10390857e-01, -3.29731496e-01, -3.36443501e-01, -3.29731496e-01,\n",
       "       -3.10390857e-01, -2.80652203e-01, -2.43756988e-01, -2.03376110e-01,\n",
       "       -1.63015621e-01, -1.25540549e-01, -9.28988196e-02, -6.60632901e-02,\n",
       "       -4.51536544e-02, -2.96669839e-02, -1.87401363e-02, -1.13832894e-02,\n",
       "       -6.65029361e-03, -3.73748483e-03, -2.02104589e-03, -1.05178812e-03,\n",
       "       -5.26911103e-04, -2.54161178e-04, -1.18073784e-04, -5.28424964e-05,\n",
       "       -2.27884723e-05, -9.47258670e-06, -3.79634472e-06, -1.46734082e-06,\n",
       "       -5.47131222e-07, -1.96868353e-07, -6.83777333e-08, -2.29318878e-08,\n",
       "       -7.42821398e-09, -2.32478443e-09, -7.03185123e-10, -2.05627408e-10,\n",
       "       -5.81504060e-11, -1.59082086e-11, -4.21136645e-12, -1.07918135e-12,\n",
       "       -2.67776030e-13, -6.43562505e-14, -1.49860438e-14, -3.38216967e-15,\n",
       "       -7.40031420e-16, -1.57030779e-16, -3.23245070e-17, -6.45688786e-18,\n",
       "       -1.25195722e-18, -2.35700177e-19, -4.30974603e-20, -7.64964302e-21,\n",
       "       -1.28347556e-21])"
      ]
     },
     "execution_count": 301,
     "metadata": {},
     "output_type": "execute_result"
    }
   ],
   "source": [
    "eig_vec[:,0]"
   ]
  },
  {
   "cell_type": "code",
   "execution_count": 306,
   "metadata": {},
   "outputs": [
    {
     "data": {
      "text/plain": [
       "[<matplotlib.lines.Line2D at 0x7f7805dafb10>]"
      ]
     },
     "execution_count": 306,
     "metadata": {},
     "output_type": "execute_result"
    },
    {
     "data": {
      "image/png": "[encoded data removed]",
      "text/plain": [
       "<Figure size 432x288 with 1 Axes>"
      ]
     },
     "metadata": {
      "needs_background": "light"
     },
     "output_type": "display_data"
    }
   ],
   "source": [
    "plt.plot(x, -eig_vec[:,7])"
   ]
  },
  {
   "cell_type": "code",
   "execution_count": 118,
   "metadata": {},
   "outputs": [
    {
     "data": {
      "text/plain": [
       "array([10.1654565 , 29.85561127, 59.66874704])"
      ]
     },
     "execution_count": 118,
     "metadata": {},
     "output_type": "execute_result"
    }
   ],
   "source": [
    "eig_val[z]"
   ]
  },
  {
   "cell_type": "code",
   "execution_count": 268,
   "metadata": {},
   "outputs": [
    {
     "data": {
      "text/plain": [
       "array([2, 0, 3, 1])"
      ]
     },
     "execution_count": 268,
     "metadata": {},
     "output_type": "execute_result"
    }
   ],
   "source": [
    "li = np.array([5, 42, 3, 41])\n",
    "p = np.argsort(li)\n",
    "p"
   ]
  },
  {
   "cell_type": "code",
   "execution_count": 270,
   "metadata": {},
   "outputs": [
    {
     "data": {
      "text/plain": [
       "1"
      ]
     },
     "execution_count": 270,
     "metadata": {},
     "output_type": "execute_result"
    }
   ],
   "source": [
    "p[3]"
   ]
  },
  {
   "cell_type": "code",
   "execution_count": null,
   "metadata": {},
   "outputs": [],
   "source": []
  }
 ],
 "metadata": {
  "kernelspec": {
   "display_name": "Python 3.7.7 ('venv')",
   "language": "python",
   "name": "python3"
  },
  "language_info": {
   "codemirror_mode": {
    "name": "ipython",
    "version": 3
   },
   "file_extension": ".py",
   "mimetype": "text/x-python",
   "name": "python",
   "nbconvert_exporter": "python",
   "pygments_lexer": "ipython3",
   "version": "3.7.7"
  },
  "vscode": {
   "interpreter": {
    "hash": "8c21580189d9a9d7f1e3fef63ff70de58083dda94aa35d8ed937f03fa405217e"
   }
  }
 },
 "nbformat": 4,
 "nbformat_minor": 4
}
