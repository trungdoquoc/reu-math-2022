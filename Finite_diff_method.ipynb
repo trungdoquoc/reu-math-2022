{
 "cells": [
  {
   "cell_type": "code",
   "execution_count": 1,
   "metadata": {},
   "outputs": [],
   "source": [
    "import numpy as np\n",
    "import matplotlib.pyplot as plt"
   ]
  },
  {
   "cell_type": "code",
   "execution_count": 34,
   "metadata": {},
   "outputs": [
    {
     "name": "stdin",
     "output_type": "stream",
     "text": [
      "enter lower limit of the domain:  -10\n",
      "enter upper limit of the domain:  10\n",
      "enter number of grid points:  1001\n"
     ]
    }
   ],
   "source": [
    "a = float(input('enter lower limit of the domain: '))\n",
    "b = float(input('enter upper limit of the domain: '))\n",
    "N = int(input('enter number of grid points: '))"
   ]
  },
  {
   "cell_type": "markdown",
   "metadata": {},
   "source": [
    "We have the linear system Ax = λx\n",
    "\n",
    "Then decompose A into H + V, A = H+V"
   ]
  },
  {
   "cell_type": "code",
   "execution_count": 35,
   "metadata": {},
   "outputs": [],
   "source": [
    "x = np.linspace(a,b,N)\n",
    "h = x[1]-x[0]"
   ]
  },
  {
   "cell_type": "code",
   "execution_count": 49,
   "metadata": {},
   "outputs": [
    {
     "data": {
      "text/plain": [
       "array([-10.  ,  -9.98,  -9.96, ...,   9.96,   9.98,  10.  ])"
      ]
     },
     "execution_count": 49,
     "metadata": {},
     "output_type": "execute_result"
    }
   ],
   "source": [
    "x"
   ]
  },
  {
   "cell_type": "code",
   "execution_count": 51,
   "metadata": {},
   "outputs": [],
   "source": [
    "def Vfunc(x):\n",
    "    return x**2"
   ]
  },
  {
   "cell_type": "code",
   "execution_count": 52,
   "metadata": {},
   "outputs": [],
   "source": [
    "H = np.zeros((N,N))\n",
    "# Question: Why H has dimension (N-2) x (N-2)?\n",
    "V = np.zeros((N,N))"
   ]
  },
  {
   "cell_type": "code",
   "execution_count": 53,
   "metadata": {},
   "outputs": [
    {
     "name": "stdout",
     "output_type": "stream",
     "text": [
      "[[-2.  1.  0. ...  0.  0.  0.]\n",
      " [ 1. -2.  1. ...  0.  0.  0.]\n",
      " [ 0.  1. -2. ...  0.  0.  0.]\n",
      " ...\n",
      " [ 0.  0.  0. ... -2.  1.  0.]\n",
      " [ 0.  0.  0. ...  1. -2.  1.]\n",
      " [ 0.  0.  0. ...  0.  1. -2.]]\n"
     ]
    },
    {
     "data": {
      "text/plain": [
       "(1001, 1001)"
      ]
     },
     "execution_count": 53,
     "metadata": {},
     "output_type": "execute_result"
    }
   ],
   "source": [
    "for i in range (N):\n",
    "    for j in range (N):\n",
    "        if i == j:\n",
    "            H[i][j] = -2\n",
    "        elif abs(i-j) == 1:\n",
    "            H[i][j] = 1\n",
    "print(H)\n",
    "H.shape"
   ]
  },
  {
   "cell_type": "code",
   "execution_count": 54,
   "metadata": {},
   "outputs": [
    {
     "data": {
      "text/plain": [
       "array([[100.    ,   0.    ,   0.    , ...,   0.    ,   0.    ,   0.    ],\n",
       "       [  0.    ,  99.6004,   0.    , ...,   0.    ,   0.    ,   0.    ],\n",
       "       [  0.    ,   0.    ,  99.2016, ...,   0.    ,   0.    ,   0.    ],\n",
       "       ...,\n",
       "       [  0.    ,   0.    ,   0.    , ...,  99.2016,   0.    ,   0.    ],\n",
       "       [  0.    ,   0.    ,   0.    , ...,   0.    ,  99.6004,   0.    ],\n",
       "       [  0.    ,   0.    ,   0.    , ...,   0.    ,   0.    , 100.    ]])"
      ]
     },
     "execution_count": 54,
     "metadata": {},
     "output_type": "execute_result"
    }
   ],
   "source": [
    "for i in range (N):\n",
    "    for j in range (N):\n",
    "        if i == j:\n",
    "            V[i][j] = Vfunc(x[i])\n",
    "V"
   ]
  },
  {
   "cell_type": "code",
   "execution_count": 55,
   "metadata": {},
   "outputs": [],
   "source": [
    "A = -H/(h**2) + V"
   ]
  },
  {
   "cell_type": "code",
   "execution_count": 56,
   "metadata": {},
   "outputs": [
    {
     "data": {
      "text/plain": [
       "array([[ 5100.    , -2500.    ,     0.    , ...,     0.    ,     0.    ,\n",
       "            0.    ],\n",
       "       [-2500.    ,  5099.6004, -2500.    , ...,     0.    ,     0.    ,\n",
       "            0.    ],\n",
       "       [    0.    , -2500.    ,  5099.2016, ...,     0.    ,     0.    ,\n",
       "            0.    ],\n",
       "       ...,\n",
       "       [    0.    ,     0.    ,     0.    , ...,  5099.2016, -2500.    ,\n",
       "            0.    ],\n",
       "       [    0.    ,     0.    ,     0.    , ..., -2500.    ,  5099.6004,\n",
       "        -2500.    ],\n",
       "       [    0.    ,     0.    ,     0.    , ...,     0.    , -2500.    ,\n",
       "         5100.    ]])"
      ]
     },
     "execution_count": 56,
     "metadata": {},
     "output_type": "execute_result"
    }
   ],
   "source": [
    "A"
   ]
  },
  {
   "cell_type": "code",
   "execution_count": 57,
   "metadata": {},
   "outputs": [],
   "source": [
    "eig_val, eig_vec = np.linalg.eig(A)\n",
    "sorted_id_eig_val = np.argsort(eig_val)"
   ]
  },
  {
   "cell_type": "code",
   "execution_count": 25,
   "metadata": {},
   "outputs": [
    {
     "data": {
      "text/plain": [
       "array([-0.01353236, -0.02583834, -0.03580164, ...,  0.03580164,\n",
       "        0.02583834,  0.01353236])"
      ]
     },
     "execution_count": 25,
     "metadata": {},
     "output_type": "execute_result"
    }
   ],
   "source": [
    "eig_vec[:,919]"
   ]
  },
  {
   "cell_type": "code",
   "execution_count": 26,
   "metadata": {},
   "outputs": [
    {
     "data": {
      "text/plain": [
       "[<matplotlib.lines.Line2D at 0x7f8cf6967b50>]"
      ]
     },
     "execution_count": 26,
     "metadata": {},
     "output_type": "execute_result"
    },
    {
     "data": {
      "image/png": "[encoded data removed]",
      "text/plain": [
       "<Figure size 432x288 with 1 Axes>"
      ]
     },
     "metadata": {
      "needs_background": "light"
     },
     "output_type": "display_data"
    }
   ],
   "source": [
    "plt.plot([i for i in range(1001)], eig_vec[:,919])"
   ]
  },
  {
   "cell_type": "code",
   "execution_count": 24,
   "metadata": {},
   "outputs": [
    {
     "data": {
      "text/plain": [
       "0"
      ]
     },
     "execution_count": 24,
     "metadata": {},
     "output_type": "execute_result"
    }
   ],
   "source": [
    "np.argsort(eig_val)[919]"
   ]
  },
  {
   "cell_type": "code",
   "execution_count": 205,
   "metadata": {},
   "outputs": [
    {
     "data": {
      "text/plain": [
       "1001"
      ]
     },
     "execution_count": 205,
     "metadata": {},
     "output_type": "execute_result"
    }
   ],
   "source": [
    "len(eig_val)"
   ]
  },
  {
   "cell_type": "code",
   "execution_count": 18,
   "metadata": {},
   "outputs": [
    {
     "data": {
      "text/plain": [
       "array([7.07097781e-01, 2.12127534e+00, 3.53541690e+00, ...,\n",
       "       1.39091520e+04, 1.39156578e+04, 1.39156578e+04])"
      ]
     },
     "execution_count": 18,
     "metadata": {},
     "output_type": "execute_result"
    }
   ],
   "source": [
    "eig_val[sorted_id_eig_val]"
   ]
  },
  {
   "cell_type": "code",
   "execution_count": 58,
   "metadata": {},
   "outputs": [],
   "source": [
    "# Get the indices that would sort eig_val\n",
    "z = sorted_id_eig_val[0:1] # Bc. eig_val first 4 value is in ascending order, \n",
    "# eig_val[z] will return sorted first [T] value of eigenvalues.\n",
    "energies = eig_val[z]/eig_val[z][0]"
   ]
  },
  {
   "cell_type": "code",
   "execution_count": 45,
   "metadata": {},
   "outputs": [
    {
     "data": {
      "text/plain": [
       "array([1.])"
      ]
     },
     "execution_count": 45,
     "metadata": {},
     "output_type": "execute_result"
    }
   ],
   "source": [
    "energies"
   ]
  },
  {
   "cell_type": "code",
   "execution_count": 59,
   "metadata": {},
   "outputs": [
    {
     "data": {
      "text/plain": [
       "array([0.999975])"
      ]
     },
     "execution_count": 59,
     "metadata": {},
     "output_type": "execute_result"
    }
   ],
   "source": [
    "eig_val[z]"
   ]
  },
  {
   "cell_type": "code",
   "execution_count": 60,
   "metadata": {},
   "outputs": [
    {
     "data": {
      "image/png": "[encoded data removed]",
      "text/plain": [
       "<Figure size 864x720 with 1 Axes>"
      ]
     },
     "metadata": {
      "needs_background": "light"
     },
     "output_type": "display_data"
    }
   ],
   "source": [
    "plt.figure(figsize=(12,10))\n",
    "for i in range(len(z)):\n",
    "    y = []\n",
    "    y = np.append(y, (-1) * eig_vec[:,z[i]])\n",
    "\n",
    "#     print(y)\n",
    "#     y = np.append(y,0)\n",
    "#     print(y)\n",
    "#     print(y)\n",
    "#     y = np.insert(y,0,0)\n",
    "#     print(y)\n",
    "    plt.plot(x,y,lw=3, label=\"{} \".format(i))\n",
    "    plt.xlabel('x', size=14)\n",
    "    plt.ylabel('$\\psi$(x)',size=14)\n",
    "plt.legend()\n",
    "plt.title('normalized wavefunctions for a harmonic oscillator using finite difference method',size=14)\n",
    "plt.show()"
   ]
  },
  {
   "cell_type": "code",
   "execution_count": 210,
   "metadata": {},
   "outputs": [
    {
     "data": {
      "text/plain": [
       "array([ 0.01164182, -0.02243763,  0.03160385, ..., -0.03160385,\n",
       "        0.02243763, -0.01164182])"
      ]
     },
     "execution_count": 210,
     "metadata": {},
     "output_type": "execute_result"
    }
   ],
   "source": [
    "eig_vec[:, z[0]]"
   ]
  },
  {
   "cell_type": "markdown",
   "metadata": {},
   "source": [
    "# Report:\n",
    "\n",
    "- In the plot, the eigenvector corresponding to the smallest eigenvalue: eig_vec[:, z[0]] above, "
   ]
  },
  {
   "cell_type": "code",
   "execution_count": 169,
   "metadata": {},
   "outputs": [
    {
     "data": {
      "text/plain": [
       "array([-395.0106317 , -393.01316008, -391.01822088, -389.02581891])"
      ]
     },
     "execution_count": 169,
     "metadata": {},
     "output_type": "execute_result"
    }
   ],
   "source": [
    "eig_val[z]"
   ]
  },
  {
   "cell_type": "code",
   "execution_count": 67,
   "metadata": {},
   "outputs": [
    {
     "data": {
      "text/plain": [
       "array([2, 0, 3, 1])"
      ]
     },
     "execution_count": 67,
     "metadata": {},
     "output_type": "execute_result"
    }
   ],
   "source": [
    "li = np.array([5, 42, 3, 41])\n",
    "p = np.argsort(li)\n",
    "p"
   ]
  },
  {
   "cell_type": "code",
   "execution_count": 270,
   "metadata": {},
   "outputs": [
    {
     "data": {
      "text/plain": [
       "1"
      ]
     },
     "execution_count": 270,
     "metadata": {},
     "output_type": "execute_result"
    }
   ],
   "source": [
    "p[3]"
   ]
  },
  {
   "cell_type": "raw",
   "metadata": {},
   "source": [
    "Beamer Template:\n",
    "\n",
    "1. NEW FRAME:\n",
    "\n",
    "\\begin{frame}\n",
    "\\frametitle{TODO}\n",
    "\n",
    "\\end{frame}\n",
    "\n",
    "2. ITEMIZE:\n",
    "\n",
    "\\begin{itemize}\n",
    "    \\item \n",
    "    \\item\n",
    "\\end{itemize}"
   ]
  },
  {
   "cell_type": "code",
   "execution_count": null,
   "metadata": {},
   "outputs": [],
   "source": []
  }
 ],
 "metadata": {
  "kernelspec": {
   "display_name": "Python 3",
   "language": "python",
   "name": "python3"
  },
  "language_info": {
   "codemirror_mode": {
    "name": "ipython",
    "version": 3
   },
   "file_extension": ".py",
   "mimetype": "text/x-python",
   "name": "python",
   "nbconvert_exporter": "python",
   "pygments_lexer": "ipython3",
   "version": "3.7.7"
  },
  "vscode": {
   "interpreter": {
    "hash": "8c21580189d9a9d7f1e3fef63ff70de58083dda94aa35d8ed937f03fa405217e"
   }
  }
 },
 "nbformat": 4,
 "nbformat_minor": 4
}
